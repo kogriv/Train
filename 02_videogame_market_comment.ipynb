{
 "cells": [
  {
   "cell_type": "markdown",
   "metadata": {},
   "source": [
    "<div style=\"border:solid green 2px; padding: 20px\">\n",
    "\n",
    "<b>Привет, Григорий!</b>\n",
    "\n",
    "Меня зовут Алина Соловьева и я буду проверять твою работу. Попробую помочь сделать тебе её еще лучше! В Практикуме принято общение на ты, но если это дискомфортно, то сообщи об этом)\n",
    "\n",
    "Ниже ты найдешь мои комментарии - пожалуйста, не перемещай, не изменяй и не удаляй их. Я буду использовать цветовую разметку:\n",
    "\n",
    "<div class=\"alert alert-danger\">\n",
    "<b>Комментарий ревьюера:</b>☁️Так выделены самые важные замечания. Без их отработки проект не будет принят. </div>\n",
    "\n",
    "<div class=\"alert alert-warning\">\n",
    "<b>Комментарий ревьюера:</b>⛅️ Так выделены небольшие замечания.Такие замечания в проекте допустимы, это пространство для улучшений в будущем.\n",
    "</div>\n",
    "\n",
    "<div class=\"alert alert-success\">\n",
    "<b>Комментарий ревьюера:</b>☀️Так я выделяю успешные идеи.</div>\n",
    "\n",
    "Давай работать над проектом в диалоге: если ты что-то меняешь в проекте или отвечаешь на мои комменатри — пиши об этом. Мне будет легче отследить изменения, если ты выделишь свои комментарии:\n",
    "<div class=\"alert alert-info\"> <b>Комментарий студента:</b> Например, вот так.</div>\n",
    "\n",
    "Всё это поможет выполнить повторную проверку твоего проекта оперативнее."
   ]
  },
  {
   "cell_type": "markdown",
   "metadata": {},
   "source": [
    "\n",
    "<div class=\"alert alert-danger\">\n",
    "<b>Комментарий ревьюера:</b>☀️Введение - важная часть проекта, не забывай об этом</div>"
   ]
  },
  {
   "cell_type": "markdown",
   "metadata": {},
   "source": [
    "<div class=\"alert alert-info\"> <b>Введение:</b> Привет. Меня зовут Игор_Манн. Я работаю в интернет-магазине «Стримчик», который продаёт по всему миру компьютерные игры. Из открытых источников доступны исторические данные о продажах игр, оценки пользователей и экспертов, жанры и платформы (например, Xbox или PlayStation). Мне нужно выявить определяющие успешность игры закономерности. Это позволит сделать ставку на потенциально популярный продукт и спланировать рекламные кампании.\n",
    "Передо мной данные до 2016 года. Необходим их проанализировать для дальнейшего построения прогноза на 2017г.\n",
    "\n",
    "<b>Итак, приступим</b></div>"
   ]
  },
  {
   "cell_type": "markdown",
   "metadata": {},
   "source": [
    "\n",
    "<div class=\"alert alert-success\">\n",
    "<b>Комментарий ревьюера v2.0:</b>☀️Спасибо ))</div>"
   ]
  },
  {
   "cell_type": "markdown",
   "metadata": {},
   "source": [
    "Импортируем необходимые библиотеки"
   ]
  },
  {
   "cell_type": "code",
   "execution_count": 1,
   "metadata": {},
   "outputs": [],
   "source": [
    "import pandas as pd\n",
    "import seaborn as sns\n",
    "import numpy as np\n",
    "import matplotlib.pyplot as plt\n",
    "from scipy import stats as st"
   ]
  },
  {
   "cell_type": "markdown",
   "metadata": {},
   "source": [
    "# Шаг 1.\n",
    "Откройте файл с данными и изучите общую информацию"
   ]
  },
  {
   "cell_type": "code",
   "execution_count": 2,
   "metadata": {},
   "outputs": [
    {
     "name": "stdout",
     "output_type": "stream",
     "text": [
      "<class 'pandas.core.frame.DataFrame'>\n",
      "RangeIndex: 16715 entries, 0 to 16714\n",
      "Data columns (total 11 columns):\n",
      " #   Column           Non-Null Count  Dtype  \n",
      "---  ------           --------------  -----  \n",
      " 0   Name             16713 non-null  object \n",
      " 1   Platform         16715 non-null  object \n",
      " 2   Year_of_Release  16446 non-null  float64\n",
      " 3   Genre            16713 non-null  object \n",
      " 4   NA_sales         16715 non-null  float64\n",
      " 5   EU_sales         16715 non-null  float64\n",
      " 6   JP_sales         16715 non-null  float64\n",
      " 7   Other_sales      16715 non-null  float64\n",
      " 8   Critic_Score     8137 non-null   float64\n",
      " 9   User_Score       10014 non-null  object \n",
      " 10  Rating           9949 non-null   object \n",
      "dtypes: float64(6), object(5)\n",
      "memory usage: 1.4+ MB\n"
     ]
    }
   ],
   "source": [
    "data = pd.read_csv('/datasets/games.csv')\n",
    "data.info()"
   ]
  },
  {
   "cell_type": "markdown",
   "metadata": {},
   "source": [
    "<div class=\"alert alert-warning\">\n",
    "<b>Комментарий ревьюера:</b>☁️В будущем для подгрузки данных рекомендую использовать конструкцию try-except или os.path,так удобнее работать с файлом локально </div>\n"
   ]
  },
  {
   "cell_type": "code",
   "execution_count": 3,
   "metadata": {},
   "outputs": [
    {
     "data": {
      "text/html": [
       "<div>\n",
       "<style scoped>\n",
       "    .dataframe tbody tr th:only-of-type {\n",
       "        vertical-align: middle;\n",
       "    }\n",
       "\n",
       "    .dataframe tbody tr th {\n",
       "        vertical-align: top;\n",
       "    }\n",
       "\n",
       "    .dataframe thead th {\n",
       "        text-align: right;\n",
       "    }\n",
       "</style>\n",
       "<table border=\"1\" class=\"dataframe\">\n",
       "  <thead>\n",
       "    <tr style=\"text-align: right;\">\n",
       "      <th></th>\n",
       "      <th>Name</th>\n",
       "      <th>Platform</th>\n",
       "      <th>Year_of_Release</th>\n",
       "      <th>Genre</th>\n",
       "      <th>NA_sales</th>\n",
       "      <th>EU_sales</th>\n",
       "      <th>JP_sales</th>\n",
       "      <th>Other_sales</th>\n",
       "      <th>Critic_Score</th>\n",
       "      <th>User_Score</th>\n",
       "      <th>Rating</th>\n",
       "    </tr>\n",
       "  </thead>\n",
       "  <tbody>\n",
       "    <tr>\n",
       "      <th>0</th>\n",
       "      <td>Wii Sports</td>\n",
       "      <td>Wii</td>\n",
       "      <td>2006.0</td>\n",
       "      <td>Sports</td>\n",
       "      <td>41.36</td>\n",
       "      <td>28.96</td>\n",
       "      <td>3.77</td>\n",
       "      <td>8.45</td>\n",
       "      <td>76.0</td>\n",
       "      <td>8</td>\n",
       "      <td>E</td>\n",
       "    </tr>\n",
       "    <tr>\n",
       "      <th>1</th>\n",
       "      <td>Super Mario Bros.</td>\n",
       "      <td>NES</td>\n",
       "      <td>1985.0</td>\n",
       "      <td>Platform</td>\n",
       "      <td>29.08</td>\n",
       "      <td>3.58</td>\n",
       "      <td>6.81</td>\n",
       "      <td>0.77</td>\n",
       "      <td>NaN</td>\n",
       "      <td>NaN</td>\n",
       "      <td>NaN</td>\n",
       "    </tr>\n",
       "    <tr>\n",
       "      <th>2</th>\n",
       "      <td>Mario Kart Wii</td>\n",
       "      <td>Wii</td>\n",
       "      <td>2008.0</td>\n",
       "      <td>Racing</td>\n",
       "      <td>15.68</td>\n",
       "      <td>12.76</td>\n",
       "      <td>3.79</td>\n",
       "      <td>3.29</td>\n",
       "      <td>82.0</td>\n",
       "      <td>8.3</td>\n",
       "      <td>E</td>\n",
       "    </tr>\n",
       "    <tr>\n",
       "      <th>3</th>\n",
       "      <td>Wii Sports Resort</td>\n",
       "      <td>Wii</td>\n",
       "      <td>2009.0</td>\n",
       "      <td>Sports</td>\n",
       "      <td>15.61</td>\n",
       "      <td>10.93</td>\n",
       "      <td>3.28</td>\n",
       "      <td>2.95</td>\n",
       "      <td>80.0</td>\n",
       "      <td>8</td>\n",
       "      <td>E</td>\n",
       "    </tr>\n",
       "    <tr>\n",
       "      <th>4</th>\n",
       "      <td>Pokemon Red/Pokemon Blue</td>\n",
       "      <td>GB</td>\n",
       "      <td>1996.0</td>\n",
       "      <td>Role-Playing</td>\n",
       "      <td>11.27</td>\n",
       "      <td>8.89</td>\n",
       "      <td>10.22</td>\n",
       "      <td>1.00</td>\n",
       "      <td>NaN</td>\n",
       "      <td>NaN</td>\n",
       "      <td>NaN</td>\n",
       "    </tr>\n",
       "    <tr>\n",
       "      <th>5</th>\n",
       "      <td>Tetris</td>\n",
       "      <td>GB</td>\n",
       "      <td>1989.0</td>\n",
       "      <td>Puzzle</td>\n",
       "      <td>23.20</td>\n",
       "      <td>2.26</td>\n",
       "      <td>4.22</td>\n",
       "      <td>0.58</td>\n",
       "      <td>NaN</td>\n",
       "      <td>NaN</td>\n",
       "      <td>NaN</td>\n",
       "    </tr>\n",
       "    <tr>\n",
       "      <th>6</th>\n",
       "      <td>New Super Mario Bros.</td>\n",
       "      <td>DS</td>\n",
       "      <td>2006.0</td>\n",
       "      <td>Platform</td>\n",
       "      <td>11.28</td>\n",
       "      <td>9.14</td>\n",
       "      <td>6.50</td>\n",
       "      <td>2.88</td>\n",
       "      <td>89.0</td>\n",
       "      <td>8.5</td>\n",
       "      <td>E</td>\n",
       "    </tr>\n",
       "    <tr>\n",
       "      <th>7</th>\n",
       "      <td>Wii Play</td>\n",
       "      <td>Wii</td>\n",
       "      <td>2006.0</td>\n",
       "      <td>Misc</td>\n",
       "      <td>13.96</td>\n",
       "      <td>9.18</td>\n",
       "      <td>2.93</td>\n",
       "      <td>2.84</td>\n",
       "      <td>58.0</td>\n",
       "      <td>6.6</td>\n",
       "      <td>E</td>\n",
       "    </tr>\n",
       "    <tr>\n",
       "      <th>8</th>\n",
       "      <td>New Super Mario Bros. Wii</td>\n",
       "      <td>Wii</td>\n",
       "      <td>2009.0</td>\n",
       "      <td>Platform</td>\n",
       "      <td>14.44</td>\n",
       "      <td>6.94</td>\n",
       "      <td>4.70</td>\n",
       "      <td>2.24</td>\n",
       "      <td>87.0</td>\n",
       "      <td>8.4</td>\n",
       "      <td>E</td>\n",
       "    </tr>\n",
       "    <tr>\n",
       "      <th>9</th>\n",
       "      <td>Duck Hunt</td>\n",
       "      <td>NES</td>\n",
       "      <td>1984.0</td>\n",
       "      <td>Shooter</td>\n",
       "      <td>26.93</td>\n",
       "      <td>0.63</td>\n",
       "      <td>0.28</td>\n",
       "      <td>0.47</td>\n",
       "      <td>NaN</td>\n",
       "      <td>NaN</td>\n",
       "      <td>NaN</td>\n",
       "    </tr>\n",
       "  </tbody>\n",
       "</table>\n",
       "</div>"
      ],
      "text/plain": [
       "                        Name Platform  Year_of_Release         Genre  \\\n",
       "0                 Wii Sports      Wii           2006.0        Sports   \n",
       "1          Super Mario Bros.      NES           1985.0      Platform   \n",
       "2             Mario Kart Wii      Wii           2008.0        Racing   \n",
       "3          Wii Sports Resort      Wii           2009.0        Sports   \n",
       "4   Pokemon Red/Pokemon Blue       GB           1996.0  Role-Playing   \n",
       "5                     Tetris       GB           1989.0        Puzzle   \n",
       "6      New Super Mario Bros.       DS           2006.0      Platform   \n",
       "7                   Wii Play      Wii           2006.0          Misc   \n",
       "8  New Super Mario Bros. Wii      Wii           2009.0      Platform   \n",
       "9                  Duck Hunt      NES           1984.0       Shooter   \n",
       "\n",
       "   NA_sales  EU_sales  JP_sales  Other_sales  Critic_Score User_Score Rating  \n",
       "0     41.36     28.96      3.77         8.45          76.0          8      E  \n",
       "1     29.08      3.58      6.81         0.77           NaN        NaN    NaN  \n",
       "2     15.68     12.76      3.79         3.29          82.0        8.3      E  \n",
       "3     15.61     10.93      3.28         2.95          80.0          8      E  \n",
       "4     11.27      8.89     10.22         1.00           NaN        NaN    NaN  \n",
       "5     23.20      2.26      4.22         0.58           NaN        NaN    NaN  \n",
       "6     11.28      9.14      6.50         2.88          89.0        8.5      E  \n",
       "7     13.96      9.18      2.93         2.84          58.0        6.6      E  \n",
       "8     14.44      6.94      4.70         2.24          87.0        8.4      E  \n",
       "9     26.93      0.63      0.28         0.47           NaN        NaN    NaN  "
      ]
     },
     "execution_count": 3,
     "metadata": {},
     "output_type": "execute_result"
    }
   ],
   "source": [
    "data.head(10)"
   ]
  },
  {
   "cell_type": "markdown",
   "metadata": {},
   "source": [
    "Есть пропуски, есть \"непитоновские\" названия полей. Исправим это ниже"
   ]
  },
  {
   "cell_type": "markdown",
   "metadata": {},
   "source": [
    "# Шаг 2."
   ]
  },
  {
   "cell_type": "markdown",
   "metadata": {},
   "source": [
    "## Замените названия столбцов (приведите к нижнему регистру)"
   ]
  },
  {
   "cell_type": "code",
   "execution_count": 4,
   "metadata": {},
   "outputs": [],
   "source": [
    "# переведем названия полей в нижний регистр\n",
    "data.columns = [x.lower() for x in data.columns]"
   ]
  },
  {
   "cell_type": "markdown",
   "metadata": {},
   "source": [
    "<div class=\"alert alert-warning\">\n",
    "<b>Комментарий ревьюера:</b>☁️Здесь еще можно использовать \n",
    "\n",
    "    data.columns = data.columns.str.lower() \n",
    "</div>\n"
   ]
  },
  {
   "cell_type": "code",
   "execution_count": 5,
   "metadata": {},
   "outputs": [
    {
     "name": "stdout",
     "output_type": "stream",
     "text": [
      "<class 'pandas.core.frame.DataFrame'>\n",
      "RangeIndex: 16715 entries, 0 to 16714\n",
      "Data columns (total 11 columns):\n",
      " #   Column           Non-Null Count  Dtype  \n",
      "---  ------           --------------  -----  \n",
      " 0   name             16713 non-null  object \n",
      " 1   platform         16715 non-null  object \n",
      " 2   year_of_release  16446 non-null  float64\n",
      " 3   genre            16713 non-null  object \n",
      " 4   na_sales         16715 non-null  float64\n",
      " 5   eu_sales         16715 non-null  float64\n",
      " 6   jp_sales         16715 non-null  float64\n",
      " 7   other_sales      16715 non-null  float64\n",
      " 8   critic_score     8137 non-null   float64\n",
      " 9   user_score       10014 non-null  object \n",
      " 10  rating           9949 non-null   object \n",
      "dtypes: float64(6), object(5)\n",
      "memory usage: 1.4+ MB\n"
     ]
    }
   ],
   "source": [
    "data.info()"
   ]
  },
  {
   "cell_type": "markdown",
   "metadata": {},
   "source": [
    "## Преобразуйте данные в нужные типы. Опишите, в каких столбцах заменили тип данных и почему"
   ]
  },
  {
   "cell_type": "markdown",
   "metadata": {},
   "source": [
    "По первым строкам поля critic_score непонятно: поле содержит только целые числа или также и дробные. Посмотрим уникальные значения"
   ]
  },
  {
   "cell_type": "code",
   "execution_count": 6,
   "metadata": {},
   "outputs": [
    {
     "data": {
      "text/plain": [
       "array([13., 17., 19., 20., 21., 22., 23., 24., 25., 26., 27., 28., 29.,\n",
       "       30., 31., 32., 33., 34., 35., 36., 37., 38., 39., 40., 41., 42.,\n",
       "       43., 44., 45., 46., 47., 48., 49., 50., 51., 52., 53., 54., 55.,\n",
       "       56., 57., 58., 59., 60., 61., 62., 63., 64., 65., 66., 67., 68.,\n",
       "       69., 70., 71., 72., 73., 74., 75., 76., 77., 78., 79., 80., 81.,\n",
       "       82., 83., 84., 85., 86., 87., 88., 89., 90., 91., 92., 93., 94.,\n",
       "       95., 96., 97., 98., nan])"
      ]
     },
     "execution_count": 6,
     "metadata": {},
     "output_type": "execute_result"
    }
   ],
   "source": [
    "data['critic_score'].sort_values().unique()"
   ]
  },
  {
   "cell_type": "markdown",
   "metadata": {},
   "source": [
    "Значения в поле - целые числа. Также посмотрим поля year_of_release и user_score"
   ]
  },
  {
   "cell_type": "code",
   "execution_count": 7,
   "metadata": {},
   "outputs": [
    {
     "data": {
      "text/plain": [
       "array([1980., 1981., 1982., 1983., 1984., 1985., 1986., 1987., 1988.,\n",
       "       1989., 1990., 1991., 1992., 1993., 1994., 1995., 1996., 1997.,\n",
       "       1998., 1999., 2000., 2001., 2002., 2003., 2004., 2005., 2006.,\n",
       "       2007., 2008., 2009., 2010., 2011., 2012., 2013., 2014., 2015.,\n",
       "       2016.,   nan])"
      ]
     },
     "execution_count": 7,
     "metadata": {},
     "output_type": "execute_result"
    }
   ],
   "source": [
    "data['year_of_release'].sort_values().unique()"
   ]
  },
  {
   "cell_type": "code",
   "execution_count": 8,
   "metadata": {},
   "outputs": [
    {
     "data": {
      "text/plain": [
       "array(['0', '0.2', '0.3', '0.5', '0.6', '0.7', '0.9', '1', '1.1', '1.2',\n",
       "       '1.3', '1.4', '1.5', '1.6', '1.7', '1.8', '1.9', '2', '2.1', '2.2',\n",
       "       '2.3', '2.4', '2.5', '2.6', '2.7', '2.8', '2.9', '3', '3.1', '3.2',\n",
       "       '3.3', '3.4', '3.5', '3.6', '3.7', '3.8', '3.9', '4', '4.1', '4.2',\n",
       "       '4.3', '4.4', '4.5', '4.6', '4.7', '4.8', '4.9', '5', '5.1', '5.2',\n",
       "       '5.3', '5.4', '5.5', '5.6', '5.7', '5.8', '5.9', '6', '6.1', '6.2',\n",
       "       '6.3', '6.4', '6.5', '6.6', '6.7', '6.8', '6.9', '7', '7.1', '7.2',\n",
       "       '7.3', '7.4', '7.5', '7.6', '7.7', '7.8', '7.9', '8', '8.1', '8.2',\n",
       "       '8.3', '8.4', '8.5', '8.6', '8.7', '8.8', '8.9', '9', '9.1', '9.2',\n",
       "       '9.3', '9.4', '9.5', '9.6', '9.7', 'tbd', nan], dtype=object)"
      ]
     },
     "execution_count": 8,
     "metadata": {},
     "output_type": "execute_result"
    }
   ],
   "source": [
    "data['user_score'].sort_values().unique()"
   ]
  },
  {
   "cell_type": "markdown",
   "metadata": {},
   "source": [
    "Поле user_score содержит дробные числа и значение \"tbd\". Посмотрим срез датафрейма по данному фильтру."
   ]
  },
  {
   "cell_type": "code",
   "execution_count": 9,
   "metadata": {},
   "outputs": [
    {
     "data": {
      "text/plain": [
       "0.1450194436135208"
      ]
     },
     "execution_count": 9,
     "metadata": {},
     "output_type": "execute_result"
    }
   ],
   "source": [
    "data[data['user_score']=='tbd']['user_score'].count()/len(data)"
   ]
  },
  {
   "cell_type": "markdown",
   "metadata": {},
   "source": [
    "Строки с таким значением в поле занимают более 14% датафрейма. Посмотрим первые 10 строк"
   ]
  },
  {
   "cell_type": "code",
   "execution_count": 10,
   "metadata": {},
   "outputs": [
    {
     "data": {
      "text/html": [
       "<div>\n",
       "<style scoped>\n",
       "    .dataframe tbody tr th:only-of-type {\n",
       "        vertical-align: middle;\n",
       "    }\n",
       "\n",
       "    .dataframe tbody tr th {\n",
       "        vertical-align: top;\n",
       "    }\n",
       "\n",
       "    .dataframe thead th {\n",
       "        text-align: right;\n",
       "    }\n",
       "</style>\n",
       "<table border=\"1\" class=\"dataframe\">\n",
       "  <thead>\n",
       "    <tr style=\"text-align: right;\">\n",
       "      <th></th>\n",
       "      <th>name</th>\n",
       "      <th>platform</th>\n",
       "      <th>year_of_release</th>\n",
       "      <th>genre</th>\n",
       "      <th>na_sales</th>\n",
       "      <th>eu_sales</th>\n",
       "      <th>jp_sales</th>\n",
       "      <th>other_sales</th>\n",
       "      <th>critic_score</th>\n",
       "      <th>user_score</th>\n",
       "      <th>rating</th>\n",
       "    </tr>\n",
       "  </thead>\n",
       "  <tbody>\n",
       "    <tr>\n",
       "      <th>119</th>\n",
       "      <td>Zumba Fitness</td>\n",
       "      <td>Wii</td>\n",
       "      <td>2010.0</td>\n",
       "      <td>Sports</td>\n",
       "      <td>3.45</td>\n",
       "      <td>2.59</td>\n",
       "      <td>0.00</td>\n",
       "      <td>0.66</td>\n",
       "      <td>NaN</td>\n",
       "      <td>tbd</td>\n",
       "      <td>E</td>\n",
       "    </tr>\n",
       "    <tr>\n",
       "      <th>301</th>\n",
       "      <td>Namco Museum: 50th Anniversary</td>\n",
       "      <td>PS2</td>\n",
       "      <td>2005.0</td>\n",
       "      <td>Misc</td>\n",
       "      <td>2.08</td>\n",
       "      <td>1.35</td>\n",
       "      <td>0.00</td>\n",
       "      <td>0.54</td>\n",
       "      <td>61.0</td>\n",
       "      <td>tbd</td>\n",
       "      <td>E10+</td>\n",
       "    </tr>\n",
       "    <tr>\n",
       "      <th>520</th>\n",
       "      <td>Zumba Fitness 2</td>\n",
       "      <td>Wii</td>\n",
       "      <td>2011.0</td>\n",
       "      <td>Sports</td>\n",
       "      <td>1.51</td>\n",
       "      <td>1.03</td>\n",
       "      <td>0.00</td>\n",
       "      <td>0.27</td>\n",
       "      <td>NaN</td>\n",
       "      <td>tbd</td>\n",
       "      <td>T</td>\n",
       "    </tr>\n",
       "    <tr>\n",
       "      <th>645</th>\n",
       "      <td>uDraw Studio</td>\n",
       "      <td>Wii</td>\n",
       "      <td>2010.0</td>\n",
       "      <td>Misc</td>\n",
       "      <td>1.65</td>\n",
       "      <td>0.57</td>\n",
       "      <td>0.00</td>\n",
       "      <td>0.20</td>\n",
       "      <td>71.0</td>\n",
       "      <td>tbd</td>\n",
       "      <td>E</td>\n",
       "    </tr>\n",
       "    <tr>\n",
       "      <th>657</th>\n",
       "      <td>Frogger's Adventures: Temple of the Frog</td>\n",
       "      <td>GBA</td>\n",
       "      <td>NaN</td>\n",
       "      <td>Adventure</td>\n",
       "      <td>2.15</td>\n",
       "      <td>0.18</td>\n",
       "      <td>0.00</td>\n",
       "      <td>0.07</td>\n",
       "      <td>73.0</td>\n",
       "      <td>tbd</td>\n",
       "      <td>E</td>\n",
       "    </tr>\n",
       "    <tr>\n",
       "      <th>718</th>\n",
       "      <td>Just Dance Kids</td>\n",
       "      <td>Wii</td>\n",
       "      <td>2010.0</td>\n",
       "      <td>Misc</td>\n",
       "      <td>1.52</td>\n",
       "      <td>0.54</td>\n",
       "      <td>0.00</td>\n",
       "      <td>0.18</td>\n",
       "      <td>NaN</td>\n",
       "      <td>tbd</td>\n",
       "      <td>E</td>\n",
       "    </tr>\n",
       "    <tr>\n",
       "      <th>726</th>\n",
       "      <td>Dance Dance Revolution X2</td>\n",
       "      <td>PS2</td>\n",
       "      <td>2009.0</td>\n",
       "      <td>Simulation</td>\n",
       "      <td>1.09</td>\n",
       "      <td>0.85</td>\n",
       "      <td>0.00</td>\n",
       "      <td>0.28</td>\n",
       "      <td>NaN</td>\n",
       "      <td>tbd</td>\n",
       "      <td>E10+</td>\n",
       "    </tr>\n",
       "    <tr>\n",
       "      <th>821</th>\n",
       "      <td>The Incredibles</td>\n",
       "      <td>GBA</td>\n",
       "      <td>2004.0</td>\n",
       "      <td>Action</td>\n",
       "      <td>1.15</td>\n",
       "      <td>0.77</td>\n",
       "      <td>0.04</td>\n",
       "      <td>0.10</td>\n",
       "      <td>55.0</td>\n",
       "      <td>tbd</td>\n",
       "      <td>E</td>\n",
       "    </tr>\n",
       "    <tr>\n",
       "      <th>881</th>\n",
       "      <td>Who wants to be a millionaire</td>\n",
       "      <td>PC</td>\n",
       "      <td>1999.0</td>\n",
       "      <td>Misc</td>\n",
       "      <td>1.94</td>\n",
       "      <td>0.00</td>\n",
       "      <td>0.00</td>\n",
       "      <td>0.00</td>\n",
       "      <td>NaN</td>\n",
       "      <td>tbd</td>\n",
       "      <td>E</td>\n",
       "    </tr>\n",
       "    <tr>\n",
       "      <th>1047</th>\n",
       "      <td>Tetris Worlds</td>\n",
       "      <td>GBA</td>\n",
       "      <td>2001.0</td>\n",
       "      <td>Puzzle</td>\n",
       "      <td>1.25</td>\n",
       "      <td>0.39</td>\n",
       "      <td>0.00</td>\n",
       "      <td>0.06</td>\n",
       "      <td>65.0</td>\n",
       "      <td>tbd</td>\n",
       "      <td>E</td>\n",
       "    </tr>\n",
       "  </tbody>\n",
       "</table>\n",
       "</div>"
      ],
      "text/plain": [
       "                                          name platform  year_of_release  \\\n",
       "119                              Zumba Fitness      Wii           2010.0   \n",
       "301             Namco Museum: 50th Anniversary      PS2           2005.0   \n",
       "520                            Zumba Fitness 2      Wii           2011.0   \n",
       "645                               uDraw Studio      Wii           2010.0   \n",
       "657   Frogger's Adventures: Temple of the Frog      GBA              NaN   \n",
       "718                            Just Dance Kids      Wii           2010.0   \n",
       "726                  Dance Dance Revolution X2      PS2           2009.0   \n",
       "821                            The Incredibles      GBA           2004.0   \n",
       "881              Who wants to be a millionaire       PC           1999.0   \n",
       "1047                             Tetris Worlds      GBA           2001.0   \n",
       "\n",
       "           genre  na_sales  eu_sales  jp_sales  other_sales  critic_score  \\\n",
       "119       Sports      3.45      2.59      0.00         0.66           NaN   \n",
       "301         Misc      2.08      1.35      0.00         0.54          61.0   \n",
       "520       Sports      1.51      1.03      0.00         0.27           NaN   \n",
       "645         Misc      1.65      0.57      0.00         0.20          71.0   \n",
       "657    Adventure      2.15      0.18      0.00         0.07          73.0   \n",
       "718         Misc      1.52      0.54      0.00         0.18           NaN   \n",
       "726   Simulation      1.09      0.85      0.00         0.28           NaN   \n",
       "821       Action      1.15      0.77      0.04         0.10          55.0   \n",
       "881         Misc      1.94      0.00      0.00         0.00           NaN   \n",
       "1047      Puzzle      1.25      0.39      0.00         0.06          65.0   \n",
       "\n",
       "     user_score rating  \n",
       "119         tbd      E  \n",
       "301         tbd   E10+  \n",
       "520         tbd      T  \n",
       "645         tbd      E  \n",
       "657         tbd      E  \n",
       "718         tbd      E  \n",
       "726         tbd   E10+  \n",
       "821         tbd      E  \n",
       "881         tbd      E  \n",
       "1047        tbd      E  "
      ]
     },
     "metadata": {},
     "output_type": "display_data"
    }
   ],
   "source": [
    "display(data[data['user_score']=='tbd'].head(10))"
   ]
  },
  {
   "cell_type": "markdown",
   "metadata": {},
   "source": [
    "При поверхностном взгляде определить какие то характерные признаки в других полях, определяющие появление значений 'tbd' в поле 'user_score' нельзя. При этом остальные значения в поле - числовые. Скорее всего, аббревиатура tbd используется в смысле To Be Determined (будет определено) (маловерятно, что это, например- Tibetan Book of the Dead).\n",
    "\n",
    "\"Будет определено\" - поэтому (для целей возможности дальнейшего преобразования типа данного поля из object во float) сейчас и определим это значение  как условную \"-1\". В дальнейшем при необходимости будем применять соответствующий фильтр, чтобы не включать \"-1\""
   ]
  },
  {
   "cell_type": "markdown",
   "metadata": {},
   "source": [
    "<div class=\"alert alert-success\">\n",
    "<b>Комментарий ревьюера:</b>☁️Да, это допустимо. Главное потом не забыть исключать из анализа такие пропуски \n",
    "</div>\n"
   ]
  },
  {
   "cell_type": "code",
   "execution_count": 11,
   "metadata": {},
   "outputs": [
    {
     "data": {
      "text/plain": [
       "array(['-1', '0', '0.2', '0.3', '0.5', '0.6', '0.7', '0.9', '1', '1.1',\n",
       "       '1.2', '1.3', '1.4', '1.5', '1.6', '1.7', '1.8', '1.9', '2', '2.1',\n",
       "       '2.2', '2.3', '2.4', '2.5', '2.6', '2.7', '2.8', '2.9', '3', '3.1',\n",
       "       '3.2', '3.3', '3.4', '3.5', '3.6', '3.7', '3.8', '3.9', '4', '4.1',\n",
       "       '4.2', '4.3', '4.4', '4.5', '4.6', '4.7', '4.8', '4.9', '5', '5.1',\n",
       "       '5.2', '5.3', '5.4', '5.5', '5.6', '5.7', '5.8', '5.9', '6', '6.1',\n",
       "       '6.2', '6.3', '6.4', '6.5', '6.6', '6.7', '6.8', '6.9', '7', '7.1',\n",
       "       '7.2', '7.3', '7.4', '7.5', '7.6', '7.7', '7.8', '7.9', '8', '8.1',\n",
       "       '8.2', '8.3', '8.4', '8.5', '8.6', '8.7', '8.8', '8.9', '9', '9.1',\n",
       "       '9.2', '9.3', '9.4', '9.5', '9.6', '9.7', nan], dtype=object)"
      ]
     },
     "execution_count": 11,
     "metadata": {},
     "output_type": "execute_result"
    }
   ],
   "source": [
    "idx=data[data['user_score']=='tbd'].index\n",
    "data.loc[idx,'user_score']='-1'\n",
    "data['user_score'].sort_values().unique()"
   ]
  },
  {
   "cell_type": "markdown",
   "metadata": {},
   "source": [
    "Теперь произведем следующие изменения типов данных\n",
    "\n",
    "    critic_score: float64 -> int64\n",
    "    user_score: object -> float64\n",
    "    year_of_release: float64 -> Int64 (используем Int64 а не int64, чтобы сохранить пропуски)"
   ]
  },
  {
   "cell_type": "code",
   "execution_count": 12,
   "metadata": {},
   "outputs": [
    {
     "name": "stdout",
     "output_type": "stream",
     "text": [
      "<class 'pandas.core.frame.DataFrame'>\n",
      "RangeIndex: 16715 entries, 0 to 16714\n",
      "Data columns (total 11 columns):\n",
      " #   Column           Non-Null Count  Dtype  \n",
      "---  ------           --------------  -----  \n",
      " 0   name             16713 non-null  object \n",
      " 1   platform         16715 non-null  object \n",
      " 2   year_of_release  16446 non-null  Int64  \n",
      " 3   genre            16713 non-null  object \n",
      " 4   na_sales         16715 non-null  float64\n",
      " 5   eu_sales         16715 non-null  float64\n",
      " 6   jp_sales         16715 non-null  float64\n",
      " 7   other_sales      16715 non-null  float64\n",
      " 8   critic_score     8137 non-null   float64\n",
      " 9   user_score       10014 non-null  float64\n",
      " 10  rating           9949 non-null   object \n",
      "dtypes: Int64(1), float64(6), object(4)\n",
      "memory usage: 1.4+ MB\n"
     ]
    }
   ],
   "source": [
    "data['critic_score']=data['critic_score'].astype(float)\n",
    "data['user_score']=data['user_score'].astype(float)\n",
    "data['year_of_release']=data['year_of_release'].astype('Int64')\n",
    "data.info()"
   ]
  },
  {
   "cell_type": "markdown",
   "metadata": {},
   "source": [
    "## Обработайте пропуски при необходимости:"
   ]
  },
  {
   "cell_type": "markdown",
   "metadata": {},
   "source": [
    "Создадим датафрейм с общей информацией по полям (название поля, поличество пропусков, тип, стат метрики для числовых полей)."
   ]
  },
  {
   "cell_type": "code",
   "execution_count": 13,
   "metadata": {},
   "outputs": [
    {
     "data": {
      "text/html": [
       "<style  type=\"text/css\" >\n",
       "</style><table id=\"T_1ba78_\" ><thead>    <tr>        <th class=\"blank level0\" ></th>        <th class=\"col_heading level0 col0\" >col_null_count</th>        <th class=\"col_heading level0 col1\" >col_type</th>        <th class=\"col_heading level0 col2\" >count</th>        <th class=\"col_heading level0 col3\" >mean</th>        <th class=\"col_heading level0 col4\" >std</th>        <th class=\"col_heading level0 col5\" >min</th>        <th class=\"col_heading level0 col6\" >25%</th>        <th class=\"col_heading level0 col7\" >50%</th>        <th class=\"col_heading level0 col8\" >75%</th>        <th class=\"col_heading level0 col9\" >max</th>        <th class=\"col_heading level0 col10\" >mean_median</th>    </tr></thead><tbody>\n",
       "                <tr>\n",
       "                        <th id=\"T_1ba78_level0_row0\" class=\"row_heading level0 row0\" >name</th>\n",
       "                        <td id=\"T_1ba78_row0_col0\" class=\"data row0 col0\" >2</td>\n",
       "                        <td id=\"T_1ba78_row0_col1\" class=\"data row0 col1\" >object</td>\n",
       "                        <td id=\"T_1ba78_row0_col2\" class=\"data row0 col2\" >nan</td>\n",
       "                        <td id=\"T_1ba78_row0_col3\" class=\"data row0 col3\" >nan</td>\n",
       "                        <td id=\"T_1ba78_row0_col4\" class=\"data row0 col4\" >nan</td>\n",
       "                        <td id=\"T_1ba78_row0_col5\" class=\"data row0 col5\" >nan</td>\n",
       "                        <td id=\"T_1ba78_row0_col6\" class=\"data row0 col6\" >nan</td>\n",
       "                        <td id=\"T_1ba78_row0_col7\" class=\"data row0 col7\" >nan</td>\n",
       "                        <td id=\"T_1ba78_row0_col8\" class=\"data row0 col8\" >nan</td>\n",
       "                        <td id=\"T_1ba78_row0_col9\" class=\"data row0 col9\" >nan</td>\n",
       "                        <td id=\"T_1ba78_row0_col10\" class=\"data row0 col10\" >nan%</td>\n",
       "            </tr>\n",
       "            <tr>\n",
       "                        <th id=\"T_1ba78_level0_row1\" class=\"row_heading level0 row1\" >platform</th>\n",
       "                        <td id=\"T_1ba78_row1_col0\" class=\"data row1 col0\" >0</td>\n",
       "                        <td id=\"T_1ba78_row1_col1\" class=\"data row1 col1\" >object</td>\n",
       "                        <td id=\"T_1ba78_row1_col2\" class=\"data row1 col2\" >nan</td>\n",
       "                        <td id=\"T_1ba78_row1_col3\" class=\"data row1 col3\" >nan</td>\n",
       "                        <td id=\"T_1ba78_row1_col4\" class=\"data row1 col4\" >nan</td>\n",
       "                        <td id=\"T_1ba78_row1_col5\" class=\"data row1 col5\" >nan</td>\n",
       "                        <td id=\"T_1ba78_row1_col6\" class=\"data row1 col6\" >nan</td>\n",
       "                        <td id=\"T_1ba78_row1_col7\" class=\"data row1 col7\" >nan</td>\n",
       "                        <td id=\"T_1ba78_row1_col8\" class=\"data row1 col8\" >nan</td>\n",
       "                        <td id=\"T_1ba78_row1_col9\" class=\"data row1 col9\" >nan</td>\n",
       "                        <td id=\"T_1ba78_row1_col10\" class=\"data row1 col10\" >nan%</td>\n",
       "            </tr>\n",
       "            <tr>\n",
       "                        <th id=\"T_1ba78_level0_row2\" class=\"row_heading level0 row2\" >year_of_release</th>\n",
       "                        <td id=\"T_1ba78_row2_col0\" class=\"data row2 col0\" >269</td>\n",
       "                        <td id=\"T_1ba78_row2_col1\" class=\"data row2 col1\" >Int64</td>\n",
       "                        <td id=\"T_1ba78_row2_col2\" class=\"data row2 col2\" >16446</td>\n",
       "                        <td id=\"T_1ba78_row2_col3\" class=\"data row2 col3\" >2006.48</td>\n",
       "                        <td id=\"T_1ba78_row2_col4\" class=\"data row2 col4\" >5.88</td>\n",
       "                        <td id=\"T_1ba78_row2_col5\" class=\"data row2 col5\" >1980.0</td>\n",
       "                        <td id=\"T_1ba78_row2_col6\" class=\"data row2 col6\" >2003.0</td>\n",
       "                        <td id=\"T_1ba78_row2_col7\" class=\"data row2 col7\" >2007.0</td>\n",
       "                        <td id=\"T_1ba78_row2_col8\" class=\"data row2 col8\" >2010.0</td>\n",
       "                        <td id=\"T_1ba78_row2_col9\" class=\"data row2 col9\" >2016.0</td>\n",
       "                        <td id=\"T_1ba78_row2_col10\" class=\"data row2 col10\" >-0.03%</td>\n",
       "            </tr>\n",
       "            <tr>\n",
       "                        <th id=\"T_1ba78_level0_row3\" class=\"row_heading level0 row3\" >genre</th>\n",
       "                        <td id=\"T_1ba78_row3_col0\" class=\"data row3 col0\" >2</td>\n",
       "                        <td id=\"T_1ba78_row3_col1\" class=\"data row3 col1\" >object</td>\n",
       "                        <td id=\"T_1ba78_row3_col2\" class=\"data row3 col2\" >nan</td>\n",
       "                        <td id=\"T_1ba78_row3_col3\" class=\"data row3 col3\" >nan</td>\n",
       "                        <td id=\"T_1ba78_row3_col4\" class=\"data row3 col4\" >nan</td>\n",
       "                        <td id=\"T_1ba78_row3_col5\" class=\"data row3 col5\" >nan</td>\n",
       "                        <td id=\"T_1ba78_row3_col6\" class=\"data row3 col6\" >nan</td>\n",
       "                        <td id=\"T_1ba78_row3_col7\" class=\"data row3 col7\" >nan</td>\n",
       "                        <td id=\"T_1ba78_row3_col8\" class=\"data row3 col8\" >nan</td>\n",
       "                        <td id=\"T_1ba78_row3_col9\" class=\"data row3 col9\" >nan</td>\n",
       "                        <td id=\"T_1ba78_row3_col10\" class=\"data row3 col10\" >nan%</td>\n",
       "            </tr>\n",
       "            <tr>\n",
       "                        <th id=\"T_1ba78_level0_row4\" class=\"row_heading level0 row4\" >na_sales</th>\n",
       "                        <td id=\"T_1ba78_row4_col0\" class=\"data row4 col0\" >0</td>\n",
       "                        <td id=\"T_1ba78_row4_col1\" class=\"data row4 col1\" >float64</td>\n",
       "                        <td id=\"T_1ba78_row4_col2\" class=\"data row4 col2\" >16715</td>\n",
       "                        <td id=\"T_1ba78_row4_col3\" class=\"data row4 col3\" >0.26</td>\n",
       "                        <td id=\"T_1ba78_row4_col4\" class=\"data row4 col4\" >0.81</td>\n",
       "                        <td id=\"T_1ba78_row4_col5\" class=\"data row4 col5\" >0.0</td>\n",
       "                        <td id=\"T_1ba78_row4_col6\" class=\"data row4 col6\" >0.0</td>\n",
       "                        <td id=\"T_1ba78_row4_col7\" class=\"data row4 col7\" >0.1</td>\n",
       "                        <td id=\"T_1ba78_row4_col8\" class=\"data row4 col8\" >0.2</td>\n",
       "                        <td id=\"T_1ba78_row4_col9\" class=\"data row4 col9\" >41.4</td>\n",
       "                        <td id=\"T_1ba78_row4_col10\" class=\"data row4 col10\" >229.22%</td>\n",
       "            </tr>\n",
       "            <tr>\n",
       "                        <th id=\"T_1ba78_level0_row5\" class=\"row_heading level0 row5\" >eu_sales</th>\n",
       "                        <td id=\"T_1ba78_row5_col0\" class=\"data row5 col0\" >0</td>\n",
       "                        <td id=\"T_1ba78_row5_col1\" class=\"data row5 col1\" >float64</td>\n",
       "                        <td id=\"T_1ba78_row5_col2\" class=\"data row5 col2\" >16715</td>\n",
       "                        <td id=\"T_1ba78_row5_col3\" class=\"data row5 col3\" >0.15</td>\n",
       "                        <td id=\"T_1ba78_row5_col4\" class=\"data row5 col4\" >0.50</td>\n",
       "                        <td id=\"T_1ba78_row5_col5\" class=\"data row5 col5\" >0.0</td>\n",
       "                        <td id=\"T_1ba78_row5_col6\" class=\"data row5 col6\" >0.0</td>\n",
       "                        <td id=\"T_1ba78_row5_col7\" class=\"data row5 col7\" >0.0</td>\n",
       "                        <td id=\"T_1ba78_row5_col8\" class=\"data row5 col8\" >0.1</td>\n",
       "                        <td id=\"T_1ba78_row5_col9\" class=\"data row5 col9\" >29.0</td>\n",
       "                        <td id=\"T_1ba78_row5_col10\" class=\"data row5 col10\" >625.30%</td>\n",
       "            </tr>\n",
       "            <tr>\n",
       "                        <th id=\"T_1ba78_level0_row6\" class=\"row_heading level0 row6\" >jp_sales</th>\n",
       "                        <td id=\"T_1ba78_row6_col0\" class=\"data row6 col0\" >0</td>\n",
       "                        <td id=\"T_1ba78_row6_col1\" class=\"data row6 col1\" >float64</td>\n",
       "                        <td id=\"T_1ba78_row6_col2\" class=\"data row6 col2\" >16715</td>\n",
       "                        <td id=\"T_1ba78_row6_col3\" class=\"data row6 col3\" >0.08</td>\n",
       "                        <td id=\"T_1ba78_row6_col4\" class=\"data row6 col4\" >0.31</td>\n",
       "                        <td id=\"T_1ba78_row6_col5\" class=\"data row6 col5\" >0.0</td>\n",
       "                        <td id=\"T_1ba78_row6_col6\" class=\"data row6 col6\" >0.0</td>\n",
       "                        <td id=\"T_1ba78_row6_col7\" class=\"data row6 col7\" >0.0</td>\n",
       "                        <td id=\"T_1ba78_row6_col8\" class=\"data row6 col8\" >0.0</td>\n",
       "                        <td id=\"T_1ba78_row6_col9\" class=\"data row6 col9\" >10.2</td>\n",
       "                        <td id=\"T_1ba78_row6_col10\" class=\"data row6 col10\" >inf%</td>\n",
       "            </tr>\n",
       "            <tr>\n",
       "                        <th id=\"T_1ba78_level0_row7\" class=\"row_heading level0 row7\" >other_sales</th>\n",
       "                        <td id=\"T_1ba78_row7_col0\" class=\"data row7 col0\" >0</td>\n",
       "                        <td id=\"T_1ba78_row7_col1\" class=\"data row7 col1\" >float64</td>\n",
       "                        <td id=\"T_1ba78_row7_col2\" class=\"data row7 col2\" >16715</td>\n",
       "                        <td id=\"T_1ba78_row7_col3\" class=\"data row7 col3\" >0.05</td>\n",
       "                        <td id=\"T_1ba78_row7_col4\" class=\"data row7 col4\" >0.19</td>\n",
       "                        <td id=\"T_1ba78_row7_col5\" class=\"data row7 col5\" >0.0</td>\n",
       "                        <td id=\"T_1ba78_row7_col6\" class=\"data row7 col6\" >0.0</td>\n",
       "                        <td id=\"T_1ba78_row7_col7\" class=\"data row7 col7\" >0.0</td>\n",
       "                        <td id=\"T_1ba78_row7_col8\" class=\"data row7 col8\" >0.0</td>\n",
       "                        <td id=\"T_1ba78_row7_col9\" class=\"data row7 col9\" >10.6</td>\n",
       "                        <td id=\"T_1ba78_row7_col10\" class=\"data row7 col10\" >373.42%</td>\n",
       "            </tr>\n",
       "            <tr>\n",
       "                        <th id=\"T_1ba78_level0_row8\" class=\"row_heading level0 row8\" >critic_score</th>\n",
       "                        <td id=\"T_1ba78_row8_col0\" class=\"data row8 col0\" >8578</td>\n",
       "                        <td id=\"T_1ba78_row8_col1\" class=\"data row8 col1\" >float64</td>\n",
       "                        <td id=\"T_1ba78_row8_col2\" class=\"data row8 col2\" >8137</td>\n",
       "                        <td id=\"T_1ba78_row8_col3\" class=\"data row8 col3\" >68.97</td>\n",
       "                        <td id=\"T_1ba78_row8_col4\" class=\"data row8 col4\" >13.94</td>\n",
       "                        <td id=\"T_1ba78_row8_col5\" class=\"data row8 col5\" >13.0</td>\n",
       "                        <td id=\"T_1ba78_row8_col6\" class=\"data row8 col6\" >60.0</td>\n",
       "                        <td id=\"T_1ba78_row8_col7\" class=\"data row8 col7\" >71.0</td>\n",
       "                        <td id=\"T_1ba78_row8_col8\" class=\"data row8 col8\" >79.0</td>\n",
       "                        <td id=\"T_1ba78_row8_col9\" class=\"data row8 col9\" >98.0</td>\n",
       "                        <td id=\"T_1ba78_row8_col10\" class=\"data row8 col10\" >-2.86%</td>\n",
       "            </tr>\n",
       "            <tr>\n",
       "                        <th id=\"T_1ba78_level0_row9\" class=\"row_heading level0 row9\" >user_score</th>\n",
       "                        <td id=\"T_1ba78_row9_col0\" class=\"data row9 col0\" >6701</td>\n",
       "                        <td id=\"T_1ba78_row9_col1\" class=\"data row9 col1\" >float64</td>\n",
       "                        <td id=\"T_1ba78_row9_col2\" class=\"data row9 col2\" >10014</td>\n",
       "                        <td id=\"T_1ba78_row9_col3\" class=\"data row9 col3\" >5.16</td>\n",
       "                        <td id=\"T_1ba78_row9_col4\" class=\"data row9 col4\" >3.72</td>\n",
       "                        <td id=\"T_1ba78_row9_col5\" class=\"data row9 col5\" >-1.0</td>\n",
       "                        <td id=\"T_1ba78_row9_col6\" class=\"data row9 col6\" >2.4</td>\n",
       "                        <td id=\"T_1ba78_row9_col7\" class=\"data row9 col7\" >6.9</td>\n",
       "                        <td id=\"T_1ba78_row9_col8\" class=\"data row9 col8\" >8.0</td>\n",
       "                        <td id=\"T_1ba78_row9_col9\" class=\"data row9 col9\" >9.7</td>\n",
       "                        <td id=\"T_1ba78_row9_col10\" class=\"data row9 col10\" >-25.24%</td>\n",
       "            </tr>\n",
       "            <tr>\n",
       "                        <th id=\"T_1ba78_level0_row10\" class=\"row_heading level0 row10\" >rating</th>\n",
       "                        <td id=\"T_1ba78_row10_col0\" class=\"data row10 col0\" >6766</td>\n",
       "                        <td id=\"T_1ba78_row10_col1\" class=\"data row10 col1\" >object</td>\n",
       "                        <td id=\"T_1ba78_row10_col2\" class=\"data row10 col2\" >nan</td>\n",
       "                        <td id=\"T_1ba78_row10_col3\" class=\"data row10 col3\" >nan</td>\n",
       "                        <td id=\"T_1ba78_row10_col4\" class=\"data row10 col4\" >nan</td>\n",
       "                        <td id=\"T_1ba78_row10_col5\" class=\"data row10 col5\" >nan</td>\n",
       "                        <td id=\"T_1ba78_row10_col6\" class=\"data row10 col6\" >nan</td>\n",
       "                        <td id=\"T_1ba78_row10_col7\" class=\"data row10 col7\" >nan</td>\n",
       "                        <td id=\"T_1ba78_row10_col8\" class=\"data row10 col8\" >nan</td>\n",
       "                        <td id=\"T_1ba78_row10_col9\" class=\"data row10 col9\" >nan</td>\n",
       "                        <td id=\"T_1ba78_row10_col10\" class=\"data row10 col10\" >nan%</td>\n",
       "            </tr>\n",
       "    </tbody></table>"
      ],
      "text/plain": [
       "<pandas.io.formats.style.Styler at 0x7fd5e0e810a0>"
      ]
     },
     "execution_count": 13,
     "metadata": {},
     "output_type": "execute_result"
    }
   ],
   "source": [
    "def summary_table():\n",
    "    df = pd.DataFrame({'col_null_count':data.isna().sum()},index=data.isna().sum().index)\n",
    "    df['col_type']=data.dtypes\n",
    "    df = df.join(data.describe().transpose())\n",
    "    df['mean_median']=(df['mean']-df['50%'])/df['50%'] # превышение медианы над средним\n",
    "    df_style = {'count':'{:.0f}','mean':'{:.2f}','mean_median':'{:.2%}', # словарь для форматирования вывода\n",
    "                'std':'{:.2f}','min':'{:.1f}','25%':'{:.1f}','50%':'{:.1f}','75%':'{:.1f}','max':'{:.1f}'}\n",
    "    return df, df_style\n",
    "df, df_style = summary_table()\n",
    "df.style.format(df_style)"
   ]
  },
  {
   "cell_type": "markdown",
   "metadata": {},
   "source": [
    "Запишем на память список исходных полей"
   ]
  },
  {
   "cell_type": "code",
   "execution_count": 14,
   "metadata": {},
   "outputs": [],
   "source": [
    "base_list = ['name','platform','year_of_release','genre',\n",
    "             'na_sales','eu_sales','jp_sales','other_sales',\n",
    "             'critic_score','user_score','rating']"
   ]
  },
  {
   "cell_type": "markdown",
   "metadata": {},
   "source": [
    "Оценим случайность появления пропусков в каждом поле (а также случайность соответствия значений поля какому то условию). А также оценим распределение значений в каждом поле. Для этого создадим 3 функции, которые строят 3 датафрейма:\n",
    "\n",
    "   1) матрица показателей совместного появления пропусков: берем каждое поле (базовое) с пропусками и смоотрим поочередно другие поля (расчетные) - считаем количество соместных пропусков, и долю этого количества в количестве пропусков в базовом поле. При получении значения коэффициента близкого к единице (либо больше заданного уровня отсечки) как в прямом расчете (базовое поле и расчетное) так и в обратном, можно говорить о зависимом (совместном) появлении пропусков в обоих полях и, соответветственно, о необходимости совместной обработки пропусков в таких полях.\n",
    "\n",
    "   Также для проверки случайности / зависимости соответствия выборки значений в базовом поле по какому то условию отбора (например наличие пропусков) от распределения значений в других (расчетных) полях, посмотрим насколько равномерно распределены (сгруппированы) значения других (расчетных) полей при отборе данных в датафрейме по условию в базовом поле. Для этого создадим 2 функции, которые получат в качестве аргументов датафрейм с общей информацией по полям таблицы (data), количество разбиений (корзин) на которые будем делить значения расчетных полей, количество корзин с наибольшим весом (топ-1, 2, 3..). Функции будут возвращать 2 датафрейма:\n",
    "\n",
    "   2) таблицу с интервалами разбиения расчетных полей и весом интервалов для каждого анализируемого базового поля (с условием отбора) и каждого расчетного поля: аналог гистограммы распределения в табличном виде и совокупно по всем полям.\n",
    "\n",
    "   3) матрицу суммарных весов топ корзин распределения в расчетных полях.\n",
    "\n",
    "Анализ второго датафрейма поможет определить наличие / отсутствие зависимости появления соответствия какому то условию (например, наличие пропусков) в одних (базовых) полях от распределения значений в других (расчетных) полях. Т.е., например, если все (почти) пропуски в каком то базовом поле приходятся на какую то из корзин расчетного поля, это может говорить о наличии зависимости и служить дополнительным инструментом для правильной обработки пропусков."
   ]
  },
  {
   "cell_type": "code",
   "execution_count": 15,
   "metadata": {},
   "outputs": [],
   "source": [
    "cutoff = 0.9 # отсечка - уровень \"зависимости\" пропусков в полях\n",
    "\n",
    "# I. Функция для построения матрицы совместного появления пропусков\n",
    "def null_matrix(cutoff):\n",
    "    df, df_style = summary_table()\n",
    "    null_list = df[df['col_null_count'] != 0].index # список полей с пропусками\n",
    "    mis_matrix = pd.DataFrame(index=null_list)      # датафрейм - матрица\n",
    "    cutoff_list = []\n",
    "\n",
    "    for base in null_list:                          # пройдем по списку полей с пропусками\n",
    "        calc_base = df.loc[base]['col_null_count']\n",
    "        for calc in null_list: # для каждого такого поля еще пройдем по списку полей с пропусками\n",
    "            calc_mis = len(data.loc[(data[base].isna()) & \n",
    "                                    (data[calc].isna())][calc])/calc_base # доля совпадающих пропусков\n",
    "            mis_matrix.at[base,calc] = calc_mis\n",
    "    for base in null_list: # еще раз пройдем по матрице, чтобы убрать значения меньше занной отсечки cutoff\n",
    "        for calc in null_list:\n",
    "            if mis_matrix.loc[base,calc] < cutoff or mis_matrix.loc[calc,base] < cutoff or calc == base:\n",
    "                # значения меньше уровня отсечки в матрице будем обнулять\n",
    "                # значение 1 в диагонали матрицы будем обнулять.\n",
    "                mis_matrix.loc[base,calc] = 0\n",
    "                mis_matrix.loc[calc,base] = 0\n",
    "            elif base not in cutoff_list:\n",
    "                cutoff_list.append(base)\n",
    "\n",
    "    cutoff_matrix = pd.DataFrame(index=cutoff_list) # сокращенная после отсечки матрица совместных пропусков\n",
    "    for base in cutoff_list:\n",
    "        for calc in cutoff_list:\n",
    "            cutoff_matrix.at[base,calc] = mis_matrix.loc[base,calc]\n",
    "            if base == calc:\n",
    "                cutoff_matrix.at[base,calc] = 1\n",
    "    return cutoff_matrix"
   ]
  },
  {
   "cell_type": "code",
   "execution_count": 16,
   "metadata": {},
   "outputs": [],
   "source": [
    "# II. Функция построения датафрейма распределния значений расчетных полей по интервалам\n",
    "#             при фильтрации по заданному условию в базовом поле\n",
    "#             в качестве базовых полей можно использовать:\n",
    "#             1. в случае анализа пропусков (.isna()) - любые поля таблицы\n",
    "#             2. при использовании условий фильтрации - только числовые поля\n",
    "\n",
    "# блок значений переменных функции / описание ниже,  в теле функции\n",
    "#-------------------------------------------------------------\n",
    "panni = 20              # количество корзин\n",
    "qmx =  1                # верхний квантиль (данные берутся ниже значения: для 1 - смотрим все данные)\n",
    "qmn =  0                # нижний квантиль (данные берутся выше значения: для 0 - смотрим все данные)\n",
    "condition = ''          # условие отбора в базовых полях\n",
    "simple = True           # False - используем условие отбора в базовых полях\n",
    "top = 1                 # количество Топ корзин разбиения\n",
    "b_list = [  ]           # список базовых полей\n",
    "b_list_use = True       # использовать / нет список базовых полей\n",
    "                        # список расчетных полей\n",
    "c_list =  []\n",
    "c_list_use = True       # использовать / нет список расчетных полей\n",
    "cond_count_use = False   # True - доля в корзинах считается по отношению к количеству отфильтрованных строк\n",
    "                        # False- доля в корзинах считается по отношению к общему количеству строк\n",
    "\n",
    "    # зависимость переменных:\n",
    "# top <= panni\n",
    "# somple = False -> condition != ''\n",
    "# b_list_use = True -> b_list != ['']\n",
    "# c_list_use = True -> c_list !=['']\n",
    "\n",
    "#--------------------------------------------------------------\n",
    "\n",
    "def condition_depend(panni,qmx,qmn,condition,simple,\n",
    "                     data,\n",
    "                     b_list,b_list_use,\n",
    "                     c_list,c_list_use,\n",
    "                     cond_count_use):\n",
    "    \n",
    "    # panni -     количество корзин для числовых полей\n",
    "    # qmx -       верхний квантиль для ограничения интервалов (для отсечения верхних выбросов)\n",
    "    # qmn -       нижний квантиль для ограничения интервалов (для отсечения нижних выбросов)\n",
    "    # condition - условиe, по которому фильтруется базовое поле\n",
    "               #  например condition = '@cond_clmn.isna()' или '@cond_clmn > @cond_clmn.quantile(0.9)'\n",
    "               #  где @cond_clmn - базовое поле (например из списка b_list)\n",
    "    # simple -    если = True - просто смотрим распределения по всем полям по их корзинам\n",
    "               #  без использования условия в базовом поле\n",
    "    # data -      общий анализируемый датафрейм\n",
    "    # df -        сводный для data датафрейм (названия, типы полей, статметрики)\n",
    "    # b_list -    список базовых полей для проверки на условия\n",
    "              #   для проверки пропусков возможны любые поля, для других условий- пока только числовые\n",
    "    # b_list_use- True - использовать заданный список, False- используется все поля таблицы\n",
    "    # c_list -    список расчетных полей\n",
    "    # c_list_use- True - использовать заданный список, False- используется все поля таблицы\n",
    "    # cond_count_use - True - считать долю корзины как отношение корзины к количеству строк,\n",
    "              #   которые были отобраны в фильтре по базовому полю\n",
    "              #   False - отношение к общему количеству строк расчетного поля\n",
    "\n",
    "    df, df_style = summary_table()\n",
    "    \n",
    "    #print('df 1:')\n",
    "    #print(df)\n",
    "    \n",
    "    digit_list = df[(df['col_type'] == 'int64') |\n",
    "                    (df['col_type'] == 'float64') ].index     # список числовых полей для расчетных полей\n",
    "\n",
    "    date_list  = df[(df['col_type'] == 'datetime64[ns]')].index  # список числовых полей с датами\n",
    "    \n",
    "    other_list = df[(df['col_type'] != 'int64') &\n",
    "                    (df['col_type'] != 'float64') &\n",
    "                    (df['col_type'] != 'datetime64[ns]') &\n",
    "                    (df.index != 'first_day_exposition')\n",
    "                # & (df.index != 'first_day_exposition_date')\n",
    "                                                        ].index # список нечисловых полей для расчетных полей\n",
    "                                                                # функция получилась не совсем универсальной\n",
    "                                                                # из-за поля first_day_exposition\n",
    "    if simple: # если простой анализ (без фильтрации в базовом поле)\n",
    "        null_list = ['simple'] # имя переменной null_list было взято изначально, когда предполагалось\n",
    "                               # использовать функцию только для анализа пустых значений\n",
    "                               # это список базовых полей, по которым фильтруется таблица\n",
    "    elif condition == '@cond_clmn.isna()':\n",
    "        null_list = df[(df['col_null_count'] != 0)].index    # список полей с пропусками для базовых полей\n",
    "    else:\n",
    "        null_list = digit_list # список числовых полей: если не смотрим .isna() и не simple\n",
    "                               # значит условие содержит операции сравнения, т.е. работу с числами\n",
    "                               # условия для строковых данных пока не используются в функции\n",
    "    #print('null_list before')\n",
    "    #print(null_list)\n",
    "    #print('other_list before')\n",
    "    #print(other_list)\n",
    "    if b_list_use and b_list != [''] and simple: # фильтрация списка расчетных полей\n",
    "        digit_list= digit_list[digit_list.isin(b_list)]\n",
    "        other_list= other_list[other_list.isin(b_list)]\n",
    "        date_list = date_list[date_list.isin(b_list)]\n",
    "    if b_list_use and b_list != ['']: # фильтрация списка базовых полей\n",
    "        null_list = b_list\n",
    "\n",
    "    #print('null_list before1')\n",
    "    #print(null_list)\n",
    "    #print('digit_list before1')\n",
    "    #print(digit_list)\n",
    "    #print('other_list before1')\n",
    "    #print(other_list)\n",
    "    #print('date_list before1')\n",
    "    #print(date_list)\n",
    "    if c_list_use and not simple: # фильтрация списка расчетных полей\n",
    "        digit_list = digit_list[digit_list.isin(c_list)]\n",
    "        other_list = other_list[other_list.isin(c_list)]\n",
    "        date_list  = date_list[date_list.isin(c_list)]\n",
    "    \n",
    "    #print('digit_list after')\n",
    "    #print(digit_list)\n",
    "    #print('other_list after')\n",
    "    #print(other_list)\n",
    "    #print('date_list after')\n",
    "    #print(date_list)\n",
    "    #print('null_list after')\n",
    "    #print(null_list)\n",
    "\n",
    "        \n",
    "    nd = pd.DataFrame(index=range(panni)) # создадим сводный датафрейм с корзинами разбиений,\n",
    "                                          # в который будем добавлять столбцы\n",
    "    \n",
    "   # 1. проходим по списку базовых полей (с пропусками)\n",
    "    for base in null_list:                # \n",
    "        if simple:\n",
    "            idx_true=df.index[0]+' == '+df.index[0] # условие для полного отбора\n",
    "            cond = idx_true               # если выбрано условие simple=True - не проходим по базовым полям,\n",
    "                                          # не фильтруем по условию .isna() в базовом поле\n",
    "                                          # просто смотрим всю таблицу на разбиения\n",
    "        else:\n",
    "            cond_clmn = data[base]\n",
    "            cond = condition              # строка-условие для фильтрации датафрейма по базовому полю\n",
    "        \n",
    "        # 1.1. вложенный цикл по расчетным числовым полям\n",
    "        for calc in digit_list:           # \n",
    "            #print('calc',calc)\n",
    "            panniers = panni              # на каждой итерации цикла обновляем количество корзин\n",
    "            col_uniq = data.query(cond)[calc].nunique()  # количество уникальных значений в расчетном поле \n",
    "            panniers = min(panniers,col_uniq) # количество корзин должно быть не больше кол-ва уник значений\n",
    "            panniers = max(panniers,1)    # количество корзин должно быть больше 0\n",
    "            if col_uniq <= panni:         # для малого количества уникальных значений \"режем\"\n",
    "                bins = np.linspace((data.query(cond)[calc].min()-0.01), # отнимаем 1 для включения нижней границы\n",
    "                                   data.query(cond)[calc].max(), col_uniq+1)  # интервалы по уникальным значенияч\n",
    "                #bins = col_uniq\n",
    "                cut_label = range(col_uniq) # метки (индексы) корзин для всех полей сделаем однотиными- т.е. пронумеруем\n",
    "            else:                         # для больших рядов \"режем\" на ровные части с отсечением\n",
    "                bins=np.linspace((data.query(cond)[calc].quantile(qmn)-0.01), # нижнего квантиля\n",
    "                                  data.query(cond)[calc].quantile(qmx),    # и верхнего квантиля\n",
    "                                  panniers+1)\n",
    "                cut_label = range(min(panniers,bins.shape[0]))\n",
    "            #print('data.query(cond)[calc].min()', data.query(cond)[calc].min())\n",
    "            #print('data.query(cond)[calc].quantile(qmn)',data.query(cond)[calc].quantile(qmn))\n",
    "            #print('base, calc,col_uniq',base, calc,col_uniq)\n",
    "            if col_uniq>0: #and base != calc\n",
    "                #print('base, calc',base, calc)\n",
    "                nulldata  = pd.cut(data.query(cond)[calc], # разбивка по интервалам, индекс- нумерация (0-panniers)\n",
    "                                   bins,\n",
    "                                   labels=cut_label).value_counts(sort=False)\n",
    "                nulldata1 = pd.cut(data.query(cond)[calc], # разбивка по интервалам - индекс- границы интервалов\n",
    "                                   bins).value_counts(sort=False)\n",
    "                #print('nulldata',nulldata)\n",
    "                #print('nulldata1',nulldata1)\n",
    "                col_int = calc+'_int'  # наименование поля интервала- расчетное поле + суфикс\n",
    "                col_cnt = calc+'_cnt'  # наименование поля количество значений в интервале- расчетное поле + суфикс\n",
    "                cond_count = data[~data[calc].isna()][calc].count() # кол-во непустых значений в расчетном поле\n",
    "                #print('calc:',calc,', cond_count: ',cond_count,', data[calc].count(): ',data[calc].count())\n",
    "                if cond_count_use:     # кол-во непустых значений в расч поле, в строках отфильтрованных по условию\n",
    "                    cond_count = data.query(cond)[calc].count()\n",
    "                if cond_count > 0:     # исключим деление на ноль\n",
    "                    nd_col = pd.DataFrame({(base,col_int):nulldata1.index,\n",
    "                                           (base,col_cnt):nulldata\n",
    "                                           /cond_count},\n",
    "                                            index=range(panniers))\n",
    "                else:\n",
    "                    nd_col = pd.DataFrame({(base,col_int):nulldata1.index,\n",
    "                                           (base,col_cnt):0},\n",
    "                                            index=range(panniers))\n",
    "                nd = pd.concat((nd,nd_col),axis=1) # добавление полученных значений разбивки в сводный датафрейм\n",
    "        \n",
    "        \n",
    "        # 1.2. вложенный цикл для нечисловых полей\n",
    "        for calc in other_list:\n",
    "            col_uniq = data.query(cond)[calc].nunique()  # количество уникальных значений в расчетном поле \n",
    "            panniers = max(col_uniq,1)\n",
    "            panniers = min(panni,col_uniq)\n",
    "            nulldata  = data.query(cond)[calc].value_counts(sort=False).nlargest(panniers) # берем только то, что \"влазит\"\n",
    "                                                                                           # в нашу разбивку\n",
    "            col_int = calc+'_int'\n",
    "            col_cnt = calc+'_cnt'\n",
    "            nd_col  = pd.DataFrame({(base,col_int):nulldata.index},index=range(panniers))\n",
    "            nulldata.reset_index(drop=True,inplace=True)\n",
    "            cond_count = data[~data[calc].isna()][calc].count() # кол-во непустых значений в расчетном поле\n",
    "            if cond_count_use:     # кол-во непустых значений в расч поле, в строках отфильтрованных по условию\n",
    "                cond_count = data.query(cond)[calc].count()\n",
    "            if cond_count > 0:\n",
    "                nd_col2 = pd.DataFrame({(base,col_cnt):nulldata\n",
    "                                       /cond_count},\n",
    "                                        index=range(panniers))\n",
    "            else:\n",
    "                nd_col2 = pd.DataFrame({(base,col_cnt):0},\n",
    "                                        index=range(panniers))\n",
    "            #nd_col = pd.concat((nd_col,nd_col2),axis=1)\n",
    "            nd = pd.concat((nd,nd_col,nd_col2),axis=1)\n",
    "        \n",
    "        for calc in date_list:\n",
    "            calc_clmn = data[calc]\n",
    "            col_int = calc+'_int'\n",
    "            col_cnt = calc+'_cnt'\n",
    "            if cond != '' and cond != '@cond_clmn.isna()': # фильтрация расчетного поля для построения интервалов\n",
    "                cond = cond+' and @calc_clmn > @calc_clmn.quantile(@qmn) and @calc_clmn < @calc_clmn.quantile(@qmx)'\n",
    "            else:\n",
    "                cond = '@calc_clmn > @calc_clmn.quantile(@qmn) and @calc_clmn < @calc_clmn.quantile(@qmx)'\n",
    "            col_uniq = data.query(cond)[calc].nunique()  # количество уникальных значений в расчетном поле \n",
    "            panniers = max(col_uniq,1)\n",
    "            panniers = min(panni,col_uniq)\n",
    "            nulldata  = pd.cut(data.query(cond)[calc], # разбивка по интервалам, индекс- нумерация (0-panniers)\n",
    "                                   bins=panniers).value_counts(sort=False)\n",
    "            #print('*** nulldata before: ')\n",
    "            #print(nulldata)\n",
    "            nd_col  = pd.DataFrame({(base,col_int):nulldata.index},index=range(panniers))\n",
    "            nulldata.reset_index(drop=True,inplace=True)\n",
    "            #print('*** nulldata after: ')\n",
    "            #print(nulldata)\n",
    "            cond_count = data[~data[calc].isna()][calc].count() # кол-во непустых значений в расчетном поле\n",
    "            #print('date count before:',cond_count)\n",
    "            if cond_count_use:     # кол-во непустых значений в расч поле, в строках отфильтрованных по условию\n",
    "                cond_count = data.query(cond)[calc].count()\n",
    "            if cond_count > 0:\n",
    "                nd_col2 = pd.DataFrame({(base,col_cnt):nulldata\n",
    "                                       /cond_count},\n",
    "                                        index=range(panniers))\n",
    "            else:\n",
    "                nd_col2 = pd.DataFrame({(base,col_cnt):0},\n",
    "                                        index=range(panniers))\n",
    "            #print('date count before:',cond_count)\n",
    "            #print('*** nd_col2: ')\n",
    "            #print(nd_col2)\n",
    "            #print('*** nd before')\n",
    "            #print(nd)\n",
    "            #nd_col = pd.concat((nd_col,nd_col2),axis=1)\n",
    "            nd = pd.concat((nd,nd_col,nd_col2),axis=1)\n",
    "            #print('*** nd after')\n",
    "            #print(nd)\n",
    "            \n",
    "    return nd\n",
    "#fract_table = condition_depend(panni,qmx,qmn,condition,simple,\n",
    "#                     data,\n",
    "#                     b_list,b_list_use,\n",
    "#                     c_list,c_list_use,cond_count_use)\n",
    "#fract_table"
   ]
  },
  {
   "cell_type": "code",
   "execution_count": 17,
   "metadata": {},
   "outputs": [],
   "source": [
    "# III. Функция построения датафрейма с матрицей суммарных весов Топ корзин,\n",
    "#              полученных функцией condition_depend()\n",
    "\n",
    "# посчитаем метрику: сумму значений из Топ N корзин (top_n_sum)\n",
    "\n",
    "#-----------------------------------------------------------------------------------\n",
    "def condition_concentrate(cutoff,simple,top,fract_table,df,b_list,b_list_use):\n",
    "\n",
    "# cutoff -      уровень отсечения (от 0 до 1) суммы Топ N корзин при формировании\n",
    "#               таблицы распределения по условию в базовом поле\n",
    "#               при построении простой таблицы распределения значений cutoff не используется\n",
    "# simple -      при данном условии = True - просто смотрим распределения по всем полям по их корзинам\n",
    "#               то же, что в condition_depend()\n",
    "# top -         количество \"верхних\" корзин для расчета приходящегося на них веса\n",
    "# fract_table - датафрейм, построенный функцией condition_depend()\n",
    "# df -          сводный для data датафрейм (названия, типы полей, статметрики)\n",
    "# b_list -      список базовых полей для проверки на условия\n",
    "#               для проверки пропусков возможны любые поля, для других условий- только числовые\n",
    "# b_list_use-   True - использовать заданный список, False- используется все поля таблицы\n",
    "\n",
    "    df, df_style = summary_table()\n",
    "    #print('df2:')\n",
    "    #print(df)\n",
    "    \n",
    "    fr_list = [column for column in fract_table] # список полей таблицы интервалов\n",
    "    #print('fr_list: ',fr_list)\n",
    "    fin_list =[]     # список полей без суфиксов. В итоговом датафрейме - это будет названиями строк\n",
    "    if b_list_use:   # если задан список\n",
    "        fin_list = b_list\n",
    "    else:\n",
    "        for b,c in fr_list:\n",
    "            #print('b, c:',b,'*/*',c)\n",
    "            if '_cnt' in c:\n",
    "                c=c.replace('_cnt','')\n",
    "            if '_int' in c:\n",
    "                c=c.replace('_int','')\n",
    "            if c not in fin_list:\n",
    "                fin_list.append(c)\n",
    "    # 1. если используем условия фильтрации в базовом поле\n",
    "    if not simple:\n",
    "        xd = pd.DataFrame(index=fin_list) # итоговый датафрейм\n",
    "        for base in fin_list:             # проходим по всем базовым полям\n",
    "            for b, calc in fr_list:       # вложенный цикл - по второму ярусу названия полей в fract_table\n",
    "                if base == b and '_cnt' in calc: # используем поля со значениями распределений\n",
    "                    top_n_sum = fract_table.nlargest(top, [(b,calc)])[(b,calc)].sum() # сумма топ корзин\n",
    "                    top_fract = top_n_sum # здесь \"лишняя\" переменная- осталась от другой формулы. не стал менять\n",
    "                    calc = calc.replace('_cnt','')\n",
    "                    if top_fract >= cutoff: # добавляем в итоговую таблицу только суммы, превышающие отсечку\n",
    "                        xd.at[base,calc] = top_fract\n",
    "    \n",
    "    # 2. если НЕ используем условия фильтрации в базовом поле\n",
    "    else:\n",
    "        xd_list = df.index                  # список всех полей таблицы\n",
    "        if b_list_use:                      # фильтруем список при b_list_use=True\n",
    "            xd_list=xd_list[xd_list.isin(b_list)]\n",
    "        xd = pd.DataFrame(index=xd_list)    # итоговый датафрейм\n",
    "        for calc in xd_list:                # проход по всем полям\n",
    "            col_uniq = data[calc].nunique() # расчет количества уникальных значений\n",
    "            xd.at[calc,'nunique']=col_uniq  # создание отдельного поля с кол-вом уникальных значений\n",
    "            xd.at[calc,'not_nan_count']=data[~data[calc].isna()][calc].count() # количество не пустых значений\n",
    "            xd.at[calc,'nan_count']=df.loc[calc,'col_null_count']\n",
    "            xd.at[calc,'nan_ratio']=xd.loc[calc,'nan_count']/(xd.loc[calc,'nan_count']+xd.loc[calc,'not_nan_count'])\n",
    "            xd.at[calc,'data_type']=data.dtypes[calc]\n",
    "        for t in range(top):                # цикл по топ корзинам. считаем суммы 1, 1+2, 1+...+N топ корзин\n",
    "            for b, calc in fr_list:\n",
    "                if '_cnt' in calc:\n",
    "                    top_n_sum = fract_table.nlargest((t+1), [(b,calc)])[(b,calc)].sum()\n",
    "                    conc='conc_'+str(panni)+'_'+str(t+1) # создание поля для суммы Топ(1+..)корзин\n",
    "                    calc=calc.replace('_cnt','')\n",
    "                    top_fract = top_n_sum\n",
    "                    xd.at[calc,conc]=top_fract\n",
    "    return xd\n",
    "#fract_table = condition_depend(panni,qmx,qmn,condition,simple,\n",
    "#                     data,\n",
    "#                     b_list,b_list_use,\n",
    "#                     c_list,c_list_use,cond_count_use)\n",
    "\n",
    "#condition_concentrate(0.0,simple,top,\n",
    "#                      fract_table,\n",
    "#                      df,b_list,b_list_use)"
   ]
  },
  {
   "cell_type": "code",
   "execution_count": 18,
   "metadata": {},
   "outputs": [],
   "source": [
    "# IV функция со сводными данными\n",
    "def result_table(data):\n",
    "    panni = 20              # количество корзин\n",
    "    qmx =  1                # верхний квантиль (данные берутся ниже значения: для 1 - смотрим все данные)\n",
    "    qmn =  0                # нижний квантиль (данные берутся выше значения: для 0 - смотрим все данные)\n",
    "    condition = ''          # условие отбора в базовых полях\n",
    "    simple = True           # False - используем условие отбора в базовых полях\n",
    "    top = 1                 # количество Топ корзин разбиения\n",
    "    b_list = ['']           # список базовых полей\n",
    "    b_list_use = False      # использовать / нет список базовых полей\n",
    "    c_list = ['']           # список расчетных полей\n",
    "    c_list_use = False      # использовать / нет список расчетных полей\n",
    "    cond_count_use = False  # True - доля в корзинах считается по отношению к количеству отфильтрованных строк\n",
    "                            # False- доля в корзинах считается по отношению к общему количеству строк\n",
    "    #-------------------------------------------------------------------\n",
    "    fract_table = condition_depend(panni,qmx,qmn,condition,simple,\n",
    "                         data,\n",
    "                         b_list,b_list_use,\n",
    "                         c_list,c_list_use,cond_count_use)\n",
    "    cutoff = 0.0\n",
    "    cond_conc = condition_concentrate(cutoff,simple,top,fract_table,df,b_list,b_list_use).sort_values(by='nunique')\n",
    "    return cond_conc"
   ]
  },
  {
   "cell_type": "markdown",
   "metadata": {},
   "source": [
    "Выведем общую информацию и посмотрим матрицу совместного появления пустых значений"
   ]
  },
  {
   "cell_type": "code",
   "execution_count": 19,
   "metadata": {},
   "outputs": [
    {
     "data": {
      "text/html": [
       "<div>\n",
       "<style scoped>\n",
       "    .dataframe tbody tr th:only-of-type {\n",
       "        vertical-align: middle;\n",
       "    }\n",
       "\n",
       "    .dataframe tbody tr th {\n",
       "        vertical-align: top;\n",
       "    }\n",
       "\n",
       "    .dataframe thead th {\n",
       "        text-align: right;\n",
       "    }\n",
       "</style>\n",
       "<table border=\"1\" class=\"dataframe\">\n",
       "  <thead>\n",
       "    <tr style=\"text-align: right;\">\n",
       "      <th></th>\n",
       "      <th>nunique</th>\n",
       "      <th>not_nan_count</th>\n",
       "      <th>nan_count</th>\n",
       "      <th>nan_ratio</th>\n",
       "      <th>data_type</th>\n",
       "      <th>conc_20_1</th>\n",
       "    </tr>\n",
       "  </thead>\n",
       "  <tbody>\n",
       "    <tr>\n",
       "      <th>rating</th>\n",
       "      <td>8.0</td>\n",
       "      <td>9949.0</td>\n",
       "      <td>6766.0</td>\n",
       "      <td>0.404786</td>\n",
       "      <td>object</td>\n",
       "      <td>0.401045</td>\n",
       "    </tr>\n",
       "    <tr>\n",
       "      <th>genre</th>\n",
       "      <td>12.0</td>\n",
       "      <td>16713.0</td>\n",
       "      <td>2.0</td>\n",
       "      <td>0.000120</td>\n",
       "      <td>object</td>\n",
       "      <td>0.201580</td>\n",
       "    </tr>\n",
       "    <tr>\n",
       "      <th>platform</th>\n",
       "      <td>31.0</td>\n",
       "      <td>16715.0</td>\n",
       "      <td>0.0</td>\n",
       "      <td>0.000000</td>\n",
       "      <td>object</td>\n",
       "      <td>0.129285</td>\n",
       "    </tr>\n",
       "    <tr>\n",
       "      <th>year_of_release</th>\n",
       "      <td>37.0</td>\n",
       "      <td>16446.0</td>\n",
       "      <td>269.0</td>\n",
       "      <td>0.016093</td>\n",
       "      <td>Int64</td>\n",
       "      <td>0.086769</td>\n",
       "    </tr>\n",
       "    <tr>\n",
       "      <th>critic_score</th>\n",
       "      <td>82.0</td>\n",
       "      <td>8137.0</td>\n",
       "      <td>8578.0</td>\n",
       "      <td>0.513192</td>\n",
       "      <td>float64</td>\n",
       "      <td>0.118717</td>\n",
       "    </tr>\n",
       "    <tr>\n",
       "      <th>user_score</th>\n",
       "      <td>96.0</td>\n",
       "      <td>10014.0</td>\n",
       "      <td>6701.0</td>\n",
       "      <td>0.400897</td>\n",
       "      <td>float64</td>\n",
       "      <td>0.242061</td>\n",
       "    </tr>\n",
       "    <tr>\n",
       "      <th>other_sales</th>\n",
       "      <td>155.0</td>\n",
       "      <td>16715.0</td>\n",
       "      <td>0.0</td>\n",
       "      <td>0.000000</td>\n",
       "      <td>float64</td>\n",
       "      <td>0.986539</td>\n",
       "    </tr>\n",
       "    <tr>\n",
       "      <th>jp_sales</th>\n",
       "      <td>244.0</td>\n",
       "      <td>16715.0</td>\n",
       "      <td>0.0</td>\n",
       "      <td>0.000000</td>\n",
       "      <td>float64</td>\n",
       "      <td>0.966019</td>\n",
       "    </tr>\n",
       "    <tr>\n",
       "      <th>eu_sales</th>\n",
       "      <td>307.0</td>\n",
       "      <td>16715.0</td>\n",
       "      <td>0.0</td>\n",
       "      <td>0.000000</td>\n",
       "      <td>float64</td>\n",
       "      <td>0.984445</td>\n",
       "    </tr>\n",
       "    <tr>\n",
       "      <th>na_sales</th>\n",
       "      <td>402.0</td>\n",
       "      <td>16715.0</td>\n",
       "      <td>0.0</td>\n",
       "      <td>0.000000</td>\n",
       "      <td>float64</td>\n",
       "      <td>0.981932</td>\n",
       "    </tr>\n",
       "    <tr>\n",
       "      <th>name</th>\n",
       "      <td>11559.0</td>\n",
       "      <td>16713.0</td>\n",
       "      <td>2.0</td>\n",
       "      <td>0.000120</td>\n",
       "      <td>object</td>\n",
       "      <td>0.000718</td>\n",
       "    </tr>\n",
       "  </tbody>\n",
       "</table>\n",
       "</div>"
      ],
      "text/plain": [
       "                 nunique  not_nan_count  nan_count  nan_ratio data_type  \\\n",
       "rating               8.0         9949.0     6766.0   0.404786    object   \n",
       "genre               12.0        16713.0        2.0   0.000120    object   \n",
       "platform            31.0        16715.0        0.0   0.000000    object   \n",
       "year_of_release     37.0        16446.0      269.0   0.016093     Int64   \n",
       "critic_score        82.0         8137.0     8578.0   0.513192   float64   \n",
       "user_score          96.0        10014.0     6701.0   0.400897   float64   \n",
       "other_sales        155.0        16715.0        0.0   0.000000   float64   \n",
       "jp_sales           244.0        16715.0        0.0   0.000000   float64   \n",
       "eu_sales           307.0        16715.0        0.0   0.000000   float64   \n",
       "na_sales           402.0        16715.0        0.0   0.000000   float64   \n",
       "name             11559.0        16713.0        2.0   0.000120    object   \n",
       "\n",
       "                 conc_20_1  \n",
       "rating            0.401045  \n",
       "genre             0.201580  \n",
       "platform          0.129285  \n",
       "year_of_release   0.086769  \n",
       "critic_score      0.118717  \n",
       "user_score        0.242061  \n",
       "other_sales       0.986539  \n",
       "jp_sales          0.966019  \n",
       "eu_sales          0.984445  \n",
       "na_sales          0.981932  \n",
       "name              0.000718  "
      ]
     },
     "metadata": {},
     "output_type": "display_data"
    },
    {
     "data": {
      "text/html": [
       "<div>\n",
       "<style scoped>\n",
       "    .dataframe tbody tr th:only-of-type {\n",
       "        vertical-align: middle;\n",
       "    }\n",
       "\n",
       "    .dataframe tbody tr th {\n",
       "        vertical-align: top;\n",
       "    }\n",
       "\n",
       "    .dataframe thead th {\n",
       "        text-align: right;\n",
       "    }\n",
       "</style>\n",
       "<table border=\"1\" class=\"dataframe\">\n",
       "  <thead>\n",
       "    <tr style=\"text-align: right;\">\n",
       "      <th></th>\n",
       "      <th>name</th>\n",
       "      <th>year_of_release</th>\n",
       "      <th>genre</th>\n",
       "      <th>critic_score</th>\n",
       "      <th>user_score</th>\n",
       "      <th>rating</th>\n",
       "    </tr>\n",
       "  </thead>\n",
       "  <tbody>\n",
       "    <tr>\n",
       "      <th>name</th>\n",
       "      <td>1.000000</td>\n",
       "      <td>0.000000</td>\n",
       "      <td>1.000000</td>\n",
       "      <td>1.000000</td>\n",
       "      <td>1.000000</td>\n",
       "      <td>1.000000</td>\n",
       "    </tr>\n",
       "    <tr>\n",
       "      <th>year_of_release</th>\n",
       "      <td>0.000000</td>\n",
       "      <td>1.000000</td>\n",
       "      <td>0.000000</td>\n",
       "      <td>0.427509</td>\n",
       "      <td>0.349442</td>\n",
       "      <td>0.327138</td>\n",
       "    </tr>\n",
       "    <tr>\n",
       "      <th>genre</th>\n",
       "      <td>1.000000</td>\n",
       "      <td>0.000000</td>\n",
       "      <td>1.000000</td>\n",
       "      <td>1.000000</td>\n",
       "      <td>1.000000</td>\n",
       "      <td>1.000000</td>\n",
       "    </tr>\n",
       "    <tr>\n",
       "      <th>critic_score</th>\n",
       "      <td>0.000233</td>\n",
       "      <td>0.013406</td>\n",
       "      <td>0.000233</td>\n",
       "      <td>1.000000</td>\n",
       "      <td>0.776754</td>\n",
       "      <td>0.779086</td>\n",
       "    </tr>\n",
       "    <tr>\n",
       "      <th>user_score</th>\n",
       "      <td>0.000298</td>\n",
       "      <td>0.014028</td>\n",
       "      <td>0.000298</td>\n",
       "      <td>0.994329</td>\n",
       "      <td>1.000000</td>\n",
       "      <td>0.989405</td>\n",
       "    </tr>\n",
       "    <tr>\n",
       "      <th>rating</th>\n",
       "      <td>0.000296</td>\n",
       "      <td>0.013006</td>\n",
       "      <td>0.000296</td>\n",
       "      <td>0.987733</td>\n",
       "      <td>0.979899</td>\n",
       "      <td>1.000000</td>\n",
       "    </tr>\n",
       "  </tbody>\n",
       "</table>\n",
       "</div>"
      ],
      "text/plain": [
       "                     name  year_of_release     genre  critic_score  \\\n",
       "name             1.000000         0.000000  1.000000      1.000000   \n",
       "year_of_release  0.000000         1.000000  0.000000      0.427509   \n",
       "genre            1.000000         0.000000  1.000000      1.000000   \n",
       "critic_score     0.000233         0.013406  0.000233      1.000000   \n",
       "user_score       0.000298         0.014028  0.000298      0.994329   \n",
       "rating           0.000296         0.013006  0.000296      0.987733   \n",
       "\n",
       "                 user_score    rating  \n",
       "name               1.000000  1.000000  \n",
       "year_of_release    0.349442  0.327138  \n",
       "genre              1.000000  1.000000  \n",
       "critic_score       0.776754  0.779086  \n",
       "user_score         1.000000  0.989405  \n",
       "rating             0.979899  1.000000  "
      ]
     },
     "execution_count": 19,
     "metadata": {},
     "output_type": "execute_result"
    }
   ],
   "source": [
    "base_rezult = result_table(data)\n",
    "display(base_rezult)\n",
    "cutoff = 0\n",
    "null_matrix(cutoff)"
   ]
  },
  {
   "cell_type": "markdown",
   "metadata": {},
   "source": [
    "Данная матрица (null_matrix(cutoff) - вторая таблица) читается следующим образом: возьмем строку year_of_release. Произведена фильтрация датасета по наличию пропусков в year_of_release, посчитано их количество. Данный отфильтрованованный сегмент опять фильтруется по наличию пропусков теперь уже в других полях и полученное количество пропусков делится на количество пропусков в year_of_release. Соотвтественно, для ячейки матрицы (year_of_release,year_of_release) значение равно 1, для (year_of_release,critic_score) = 0.427509, и т.д.\n",
    "\n",
    "Если показатель для ячеек (Поле1,Поле2) и (Поле2,Поле1) одновременно равен или близок к 1 это говорит о совместном одновременном появлении пропусков в двух полях.\n",
    "\n",
    "Уровень отсечки cutoff позволяет фильтровать матрицу по уровню одновременных значений (Поле1,Поле2) и (Поле2,Поле1) матрицы больше cutoff."
   ]
  },
  {
   "cell_type": "markdown",
   "metadata": {},
   "source": [
    "Видим, что в полях name и genre пропуски - совместные (name,genre)=(genre,name)=1. Их всего 2 шт и получить дополнительную информацию для заполнения мы не можем. Поэтому можем удалить данные строки без вреда для общего датафрейма."
   ]
  },
  {
   "cell_type": "code",
   "execution_count": 20,
   "metadata": {},
   "outputs": [
    {
     "data": {
      "text/html": [
       "<div>\n",
       "<style scoped>\n",
       "    .dataframe tbody tr th:only-of-type {\n",
       "        vertical-align: middle;\n",
       "    }\n",
       "\n",
       "    .dataframe tbody tr th {\n",
       "        vertical-align: top;\n",
       "    }\n",
       "\n",
       "    .dataframe thead th {\n",
       "        text-align: right;\n",
       "    }\n",
       "</style>\n",
       "<table border=\"1\" class=\"dataframe\">\n",
       "  <thead>\n",
       "    <tr style=\"text-align: right;\">\n",
       "      <th></th>\n",
       "      <th>year_of_release</th>\n",
       "      <th>critic_score</th>\n",
       "      <th>user_score</th>\n",
       "      <th>rating</th>\n",
       "    </tr>\n",
       "  </thead>\n",
       "  <tbody>\n",
       "    <tr>\n",
       "      <th>year_of_release</th>\n",
       "      <td>1.000000</td>\n",
       "      <td>0.427509</td>\n",
       "      <td>0.349442</td>\n",
       "      <td>0.327138</td>\n",
       "    </tr>\n",
       "    <tr>\n",
       "      <th>critic_score</th>\n",
       "      <td>0.013410</td>\n",
       "      <td>1.000000</td>\n",
       "      <td>0.776702</td>\n",
       "      <td>0.779035</td>\n",
       "    </tr>\n",
       "    <tr>\n",
       "      <th>user_score</th>\n",
       "      <td>0.014032</td>\n",
       "      <td>0.994328</td>\n",
       "      <td>1.000000</td>\n",
       "      <td>0.989401</td>\n",
       "    </tr>\n",
       "    <tr>\n",
       "      <th>rating</th>\n",
       "      <td>0.013010</td>\n",
       "      <td>0.987729</td>\n",
       "      <td>0.979894</td>\n",
       "      <td>1.000000</td>\n",
       "    </tr>\n",
       "  </tbody>\n",
       "</table>\n",
       "</div>"
      ],
      "text/plain": [
       "                 year_of_release  critic_score  user_score    rating\n",
       "year_of_release         1.000000      0.427509    0.349442  0.327138\n",
       "critic_score            0.013410      1.000000    0.776702  0.779035\n",
       "user_score              0.014032      0.994328    1.000000  0.989401\n",
       "rating                  0.013010      0.987729    0.979894  1.000000"
      ]
     },
     "execution_count": 20,
     "metadata": {},
     "output_type": "execute_result"
    }
   ],
   "source": [
    "# запишем количество строк в начальном датасете\n",
    "old_data_count=data.shape[0]\n",
    "old_data_count\n",
    "\n",
    "data.dropna(subset=['name'],inplace=True)\n",
    "\n",
    "# выведем матрицу совместных пропусков\n",
    "cutoff = 0\n",
    "null_matrix(cutoff)"
   ]
  },
  {
   "cell_type": "markdown",
   "metadata": {},
   "source": [
    "Видим, что пропуски в полях rating и user_score почти полностью (на 99%) совпадают. Т.о. можно говорить об их совместном появлении.\n",
    "\n",
    "Отметим, что каждая игра могла выходить на разных платформах в разные годы и возможно применить следующую логику заполнения пропусков: там, где игра (с пропусками в полях: года релиза, рейтинг, оценки) выходила на нескольких платформах, и на каких то платформах есть непустые значения в рассматириваемых полях- заполнять пропуски можем максимальным или минимальным значением из набора существующих.\n",
    "\n",
    "Добавим в датафрейм соотвтетсвующие столбцы: максимальный / минимальный год, рейтинг, поля оценки"
   ]
  },
  {
   "cell_type": "code",
   "execution_count": 21,
   "metadata": {},
   "outputs": [
    {
     "name": "stdout",
     "output_type": "stream",
     "text": [
      "<class 'pandas.core.frame.DataFrame'>\n",
      "Int64Index: 16713 entries, 0 to 16714\n",
      "Data columns (total 11 columns):\n",
      " #   Column           Non-Null Count  Dtype  \n",
      "---  ------           --------------  -----  \n",
      " 0   name             16713 non-null  object \n",
      " 1   platform         16713 non-null  object \n",
      " 2   year_of_release  16444 non-null  Int64  \n",
      " 3   genre            16713 non-null  object \n",
      " 4   na_sales         16713 non-null  float64\n",
      " 5   eu_sales         16713 non-null  float64\n",
      " 6   jp_sales         16713 non-null  float64\n",
      " 7   other_sales      16713 non-null  float64\n",
      " 8   critic_score     8137 non-null   float64\n",
      " 9   user_score       10014 non-null  float64\n",
      " 10  rating           9949 non-null   object \n",
      "dtypes: Int64(1), float64(6), object(4)\n",
      "memory usage: 1.5+ MB\n"
     ]
    }
   ],
   "source": [
    "data.info()"
   ]
  },
  {
   "cell_type": "markdown",
   "metadata": {},
   "source": [
    "Некоторые игры могут имеют разные рейтинги на разных платформах. Таким образом для ранжирования рейтинга необходимо  сопоставить буквенным значениям числовые значения, в соответствии со следующей таблицей:\n",
    "\n",
    "- 0 - RP -\tКатегория ещё не присвоена. Играм с категорией RP еще не присвоен окончательный рейтинг ESRB.\n",
    "\n",
    "- 1 - E (K-A) -\tПодходит для всех возрастных категорий. Игра не должна содержать звуков или изображений, которые могут напугать маленьких детей. Не должна использоваться ненормативная лексика. Примеры: Просто таннцуй, FIFA.\n",
    "  *K-A: for Kids to Adults: Games that contain content that is suitable for a general audience. This rating was used until the year 1998 when it renamed to E*\n",
    "\n",
    "- 2 - EC -\tДля детей младшего возраста. Подходит для детей от 3 лет, неприемлемое содержание отсутствует. Примеры: Дора Исследовательница, Сказки Дракона.\n",
    "\n",
    "- 3 - E 10+ \tПодходит для лиц старше 10 лет. Игра может содержать умеренные формы насилия, а некоторые сцены могут пугать детей. Примеры: Minecraft Dungeons, Растения против зомби.\n",
    "\n",
    "- 4 - T -\tПодходит для лиц старше 13 лет. Игра может содержать более реалистичные и натуралистические сцены насилия. Примеры: Fortnite, Sims 4.\n",
    "\n",
    "- 5 - M -\tПодходит для лиц старше 17 лет. Этот рейтинг используется, когда насилие становится реалистичным и похожим на реальную жизнь. Также может присутствовать ненормативная лексика, употребление табака, алкоголя или запрещенных наркотиков. Примеры: Ark: Survival Evolved, Destiny 2.\n",
    "\n",
    "- 6 - AO - \tПодходит для взрослых старше 18 лет. Классификация «для взрослых» используется, когда в игре присутствует крайний уровень насилия и немотивированного убийства. Также может присутствовать романтизация наркотиков, азартных игр и сексуальной активности. Примеры: Grand Theft Auto V, Fallout 4.\n",
    "\n",
    "посмотрим еще раз уникальные значения рейтингов"
   ]
  },
  {
   "cell_type": "code",
   "execution_count": 22,
   "metadata": {},
   "outputs": [
    {
     "data": {
      "text/plain": [
       "array(['E', nan, 'M', 'T', 'E10+', 'K-A', 'AO', 'EC', 'RP'], dtype=object)"
      ]
     },
     "execution_count": 22,
     "metadata": {},
     "output_type": "execute_result"
    }
   ],
   "source": [
    "data['rating'].unique()"
   ]
  },
  {
   "cell_type": "markdown",
   "metadata": {},
   "source": [
    "Создадим функции цифровизации рейтинга и обратного присвоения строкового значения"
   ]
  },
  {
   "cell_type": "code",
   "execution_count": 23,
   "metadata": {},
   "outputs": [],
   "source": [
    "def rate_dig(rating):\n",
    "    if rating == 'RP':\n",
    "        return 0\n",
    "    if rating == 'E':\n",
    "        return 1\n",
    "    if rating == 'K-A':\n",
    "        return 2\n",
    "    if rating == 'EC':\n",
    "        return 3\n",
    "    if rating == 'E10+':\n",
    "        return 4\n",
    "    if rating == 'T':\n",
    "        return 5\n",
    "    if rating == 'M':\n",
    "        return 6\n",
    "    if rating == 'AO':\n",
    "        return 7\n",
    "    if rating == np.nan:\n",
    "        return np.nan\n",
    "\n",
    "def rate_str(rating):\n",
    "    if rating == 0:\n",
    "        return 'RP'\n",
    "    if rating == 1:\n",
    "        return 'E'\n",
    "    if rating == 2:\n",
    "        return 'K-A'\n",
    "    if rating == 3:\n",
    "        return 'EC'\n",
    "    if rating == 4:\n",
    "        return 'E10+'\n",
    "    if rating == 5:\n",
    "        return 'T'\n",
    "    if rating == 6:\n",
    "        return 'M'\n",
    "    if rating == 7:\n",
    "        return 'AO'\n",
    "    if rating == np.nan:\n",
    "        return np.nan"
   ]
  },
  {
   "cell_type": "code",
   "execution_count": 24,
   "metadata": {},
   "outputs": [],
   "source": [
    "data['rating_dig']=data['rating'].apply(rate_dig)"
   ]
  },
  {
   "cell_type": "code",
   "execution_count": 25,
   "metadata": {},
   "outputs": [],
   "source": [
    "# для слияния таблиц во избежание ошибок создал поле копию 'name_n'\n",
    "data['name_n']=data['name']\n",
    "data_group = pd.DataFrame(data.groupby('name')['name'].count())\n",
    "data_group['name_n']=data_group.index\n",
    "data_group['year_min'] = data.groupby('name')['year_of_release'].min()\n",
    "data_group['year_max'] = data.groupby('name')['year_of_release'].max()\n",
    "data_group['year_med'] = data.groupby('name')['year_of_release'].median()\n",
    "data_group['rating_min'] = data.groupby('name')['rating_dig'].min()\n",
    "data_group['rating_max'] = data.groupby('name')['rating_dig'].max()\n",
    "data_group['rating_med'] = data.groupby('name')['rating_dig'].median()\n",
    "data_group['user_score_min'] = data.groupby('name')['user_score'].min()\n",
    "data_group['user_score_max'] = data.groupby('name')['user_score'].max()\n",
    "data_group['user_score_med'] = data.groupby('name')['user_score'].median()\n",
    "data_group['critic_score_min'] = data.groupby('name')['critic_score'].min()\n",
    "data_group['critic_score_max'] = data.groupby('name')['critic_score'].max()\n",
    "data_group['critic_score_med'] = data.groupby('name')['critic_score'].median()"
   ]
  },
  {
   "cell_type": "code",
   "execution_count": 26,
   "metadata": {},
   "outputs": [],
   "source": [
    "data = data.merge(data_group,on='name_n',how='left')"
   ]
  },
  {
   "cell_type": "code",
   "execution_count": 27,
   "metadata": {},
   "outputs": [
    {
     "name": "stdout",
     "output_type": "stream",
     "text": [
      "<class 'pandas.core.frame.DataFrame'>\n",
      "Int64Index: 16713 entries, 0 to 16712\n",
      "Data columns (total 26 columns):\n",
      " #   Column            Non-Null Count  Dtype  \n",
      "---  ------            --------------  -----  \n",
      " 0   name_x            16713 non-null  object \n",
      " 1   platform          16713 non-null  object \n",
      " 2   year_of_release   16444 non-null  Int64  \n",
      " 3   genre             16713 non-null  object \n",
      " 4   na_sales          16713 non-null  float64\n",
      " 5   eu_sales          16713 non-null  float64\n",
      " 6   jp_sales          16713 non-null  float64\n",
      " 7   other_sales       16713 non-null  float64\n",
      " 8   critic_score      8137 non-null   float64\n",
      " 9   user_score        10014 non-null  float64\n",
      " 10  rating            9949 non-null   object \n",
      " 11  rating_dig        9949 non-null   float64\n",
      " 12  name_n            16713 non-null  object \n",
      " 13  name_y            16713 non-null  int64  \n",
      " 14  year_min          16567 non-null  Int64  \n",
      " 15  year_max          16567 non-null  Int64  \n",
      " 16  year_med          16567 non-null  Float64\n",
      " 17  rating_min        10386 non-null  float64\n",
      " 18  rating_max        10386 non-null  float64\n",
      " 19  rating_med        10386 non-null  float64\n",
      " 20  user_score_min    10443 non-null  float64\n",
      " 21  user_score_max    10443 non-null  float64\n",
      " 22  user_score_med    10443 non-null  float64\n",
      " 23  critic_score_min  9098 non-null   float64\n",
      " 24  critic_score_max  9098 non-null   float64\n",
      " 25  critic_score_med  9098 non-null   float64\n",
      "dtypes: Float64(1), Int64(3), float64(16), int64(1), object(5)\n",
      "memory usage: 3.5+ MB\n"
     ]
    }
   ],
   "source": [
    "data.info()"
   ]
  },
  {
   "cell_type": "markdown",
   "metadata": {},
   "source": [
    "Вернем название поля name (name_x -> name) и удалим поля name_n, name_y"
   ]
  },
  {
   "cell_type": "code",
   "execution_count": 28,
   "metadata": {},
   "outputs": [
    {
     "name": "stdout",
     "output_type": "stream",
     "text": [
      "<class 'pandas.core.frame.DataFrame'>\n",
      "Int64Index: 16713 entries, 0 to 16712\n",
      "Data columns (total 24 columns):\n",
      " #   Column            Non-Null Count  Dtype  \n",
      "---  ------            --------------  -----  \n",
      " 0   name              16713 non-null  object \n",
      " 1   platform          16713 non-null  object \n",
      " 2   year_of_release   16444 non-null  Int64  \n",
      " 3   genre             16713 non-null  object \n",
      " 4   na_sales          16713 non-null  float64\n",
      " 5   eu_sales          16713 non-null  float64\n",
      " 6   jp_sales          16713 non-null  float64\n",
      " 7   other_sales       16713 non-null  float64\n",
      " 8   critic_score      8137 non-null   float64\n",
      " 9   user_score        10014 non-null  float64\n",
      " 10  rating            9949 non-null   object \n",
      " 11  rating_dig        9949 non-null   float64\n",
      " 12  year_min          16567 non-null  Int64  \n",
      " 13  year_max          16567 non-null  Int64  \n",
      " 14  year_med          16567 non-null  Float64\n",
      " 15  rating_min        10386 non-null  float64\n",
      " 16  rating_max        10386 non-null  float64\n",
      " 17  rating_med        10386 non-null  float64\n",
      " 18  user_score_min    10443 non-null  float64\n",
      " 19  user_score_max    10443 non-null  float64\n",
      " 20  user_score_med    10443 non-null  float64\n",
      " 21  critic_score_min  9098 non-null   float64\n",
      " 22  critic_score_max  9098 non-null   float64\n",
      " 23  critic_score_med  9098 non-null   float64\n",
      "dtypes: Float64(1), Int64(3), float64(16), object(4)\n",
      "memory usage: 3.3+ MB\n"
     ]
    }
   ],
   "source": [
    "data.rename(columns={'name_x':'name'},inplace = True)\n",
    "data = data.drop(columns=['name_n','name_y'])\n",
    "data.info()"
   ]
  },
  {
   "cell_type": "markdown",
   "metadata": {},
   "source": [
    "Посмотрим есть ли расхождения в рейтинге (для одной игры на разных платформах), чтобы принять решение какими данными заменять пропуски"
   ]
  },
  {
   "cell_type": "code",
   "execution_count": 29,
   "metadata": {
    "scrolled": false
   },
   "outputs": [
    {
     "data": {
      "text/html": [
       "<div>\n",
       "<style scoped>\n",
       "    .dataframe tbody tr th:only-of-type {\n",
       "        vertical-align: middle;\n",
       "    }\n",
       "\n",
       "    .dataframe tbody tr th {\n",
       "        vertical-align: top;\n",
       "    }\n",
       "\n",
       "    .dataframe thead th {\n",
       "        text-align: right;\n",
       "    }\n",
       "</style>\n",
       "<table border=\"1\" class=\"dataframe\">\n",
       "  <thead>\n",
       "    <tr style=\"text-align: right;\">\n",
       "      <th></th>\n",
       "      <th>name</th>\n",
       "      <th>name_n</th>\n",
       "      <th>year_min</th>\n",
       "      <th>year_max</th>\n",
       "      <th>year_med</th>\n",
       "      <th>rating_min</th>\n",
       "      <th>rating_max</th>\n",
       "      <th>rating_med</th>\n",
       "      <th>user_score_min</th>\n",
       "      <th>user_score_max</th>\n",
       "      <th>user_score_med</th>\n",
       "      <th>critic_score_min</th>\n",
       "      <th>critic_score_max</th>\n",
       "      <th>critic_score_med</th>\n",
       "    </tr>\n",
       "    <tr>\n",
       "      <th>name</th>\n",
       "      <th></th>\n",
       "      <th></th>\n",
       "      <th></th>\n",
       "      <th></th>\n",
       "      <th></th>\n",
       "      <th></th>\n",
       "      <th></th>\n",
       "      <th></th>\n",
       "      <th></th>\n",
       "      <th></th>\n",
       "      <th></th>\n",
       "      <th></th>\n",
       "      <th></th>\n",
       "      <th></th>\n",
       "    </tr>\n",
       "  </thead>\n",
       "  <tbody>\n",
       "    <tr>\n",
       "      <th>Astro Boy: The Video Game</th>\n",
       "      <td>4</td>\n",
       "      <td>Astro Boy: The Video Game</td>\n",
       "      <td>2009</td>\n",
       "      <td>2009</td>\n",
       "      <td>2009.0</td>\n",
       "      <td>1.0</td>\n",
       "      <td>4.0</td>\n",
       "      <td>4.0</td>\n",
       "      <td>-1.0</td>\n",
       "      <td>5.0</td>\n",
       "      <td>1.25</td>\n",
       "      <td>34.0</td>\n",
       "      <td>60.0</td>\n",
       "      <td>52.0</td>\n",
       "    </tr>\n",
       "    <tr>\n",
       "      <th>Avatar: The Last Airbender</th>\n",
       "      <td>4</td>\n",
       "      <td>Avatar: The Last Airbender</td>\n",
       "      <td>2006</td>\n",
       "      <td>2006</td>\n",
       "      <td>2006.0</td>\n",
       "      <td>1.0</td>\n",
       "      <td>4.0</td>\n",
       "      <td>4.0</td>\n",
       "      <td>5.8</td>\n",
       "      <td>6.5</td>\n",
       "      <td>6.35</td>\n",
       "      <td>56.0</td>\n",
       "      <td>64.0</td>\n",
       "      <td>58.5</td>\n",
       "    </tr>\n",
       "    <tr>\n",
       "      <th>Barnyard</th>\n",
       "      <td>4</td>\n",
       "      <td>Barnyard</td>\n",
       "      <td>2006</td>\n",
       "      <td>2006</td>\n",
       "      <td>2006.0</td>\n",
       "      <td>1.0</td>\n",
       "      <td>4.0</td>\n",
       "      <td>4.0</td>\n",
       "      <td>-1.0</td>\n",
       "      <td>8.7</td>\n",
       "      <td>2.35</td>\n",
       "      <td>56.0</td>\n",
       "      <td>66.0</td>\n",
       "      <td>63.5</td>\n",
       "    </tr>\n",
       "    <tr>\n",
       "      <th>Batman Begins</th>\n",
       "      <td>4</td>\n",
       "      <td>Batman Begins</td>\n",
       "      <td>2005</td>\n",
       "      <td>2005</td>\n",
       "      <td>2005.0</td>\n",
       "      <td>4.0</td>\n",
       "      <td>5.0</td>\n",
       "      <td>5.0</td>\n",
       "      <td>6.9</td>\n",
       "      <td>7.3</td>\n",
       "      <td>7.15</td>\n",
       "      <td>61.0</td>\n",
       "      <td>66.0</td>\n",
       "      <td>64.5</td>\n",
       "    </tr>\n",
       "    <tr>\n",
       "      <th>Batman: Rise of Sin Tzu</th>\n",
       "      <td>4</td>\n",
       "      <td>Batman: Rise of Sin Tzu</td>\n",
       "      <td>2003</td>\n",
       "      <td>2003</td>\n",
       "      <td>2003.0</td>\n",
       "      <td>1.0</td>\n",
       "      <td>5.0</td>\n",
       "      <td>5.0</td>\n",
       "      <td>-1.0</td>\n",
       "      <td>8.3</td>\n",
       "      <td>7.25</td>\n",
       "      <td>63.0</td>\n",
       "      <td>67.0</td>\n",
       "      <td>63.0</td>\n",
       "    </tr>\n",
       "  </tbody>\n",
       "</table>\n",
       "</div>"
      ],
      "text/plain": [
       "                            name                      name_n  year_min  \\\n",
       "name                                                                     \n",
       "Astro Boy: The Video Game      4   Astro Boy: The Video Game      2009   \n",
       "Avatar: The Last Airbender     4  Avatar: The Last Airbender      2006   \n",
       "Barnyard                       4                    Barnyard      2006   \n",
       "Batman Begins                  4               Batman Begins      2005   \n",
       "Batman: Rise of Sin Tzu        4     Batman: Rise of Sin Tzu      2003   \n",
       "\n",
       "                            year_max  year_med  rating_min  rating_max  \\\n",
       "name                                                                     \n",
       "Astro Boy: The Video Game       2009    2009.0         1.0         4.0   \n",
       "Avatar: The Last Airbender      2006    2006.0         1.0         4.0   \n",
       "Barnyard                        2006    2006.0         1.0         4.0   \n",
       "Batman Begins                   2005    2005.0         4.0         5.0   \n",
       "Batman: Rise of Sin Tzu         2003    2003.0         1.0         5.0   \n",
       "\n",
       "                            rating_med  user_score_min  user_score_max  \\\n",
       "name                                                                     \n",
       "Astro Boy: The Video Game          4.0            -1.0             5.0   \n",
       "Avatar: The Last Airbender         4.0             5.8             6.5   \n",
       "Barnyard                           4.0            -1.0             8.7   \n",
       "Batman Begins                      5.0             6.9             7.3   \n",
       "Batman: Rise of Sin Tzu            5.0            -1.0             8.3   \n",
       "\n",
       "                            user_score_med  critic_score_min  \\\n",
       "name                                                           \n",
       "Astro Boy: The Video Game             1.25              34.0   \n",
       "Avatar: The Last Airbender            6.35              56.0   \n",
       "Barnyard                              2.35              56.0   \n",
       "Batman Begins                         7.15              61.0   \n",
       "Batman: Rise of Sin Tzu               7.25              63.0   \n",
       "\n",
       "                            critic_score_max  critic_score_med  \n",
       "name                                                            \n",
       "Astro Boy: The Video Game               60.0              52.0  \n",
       "Avatar: The Last Airbender              64.0              58.5  \n",
       "Barnyard                                66.0              63.5  \n",
       "Batman Begins                           66.0              64.5  \n",
       "Batman: Rise of Sin Tzu                 67.0              63.0  "
      ]
     },
     "execution_count": 29,
     "metadata": {},
     "output_type": "execute_result"
    }
   ],
   "source": [
    "data_group[(data_group['rating_min']!=data_group['rating_max']) &\n",
    "           (data_group['rating_min'].notna() |\n",
    "             data_group['rating_max'].notna())].head()"
   ]
  },
  {
   "cell_type": "markdown",
   "metadata": {},
   "source": [
    "Видим, что расхождения бывают. Пэтому будем на стороне морали: при замене пропусков в рейтинге будем использовать верхние значения. Произведем следующие замены пропусков:\n",
    "- year_of_release <- year_max\n",
    "- critic_score <- critic_score_min\n",
    "- user_score <- user_score_min\n",
    "- rating_dig <- rating_dig_max"
   ]
  },
  {
   "cell_type": "code",
   "execution_count": 30,
   "metadata": {},
   "outputs": [],
   "source": [
    "idx = data[data['year_of_release'].isna()].index\n",
    "data.loc[idx,'year_of_release'] = data.loc[idx,'year_max']\n",
    "idx = data[data['critic_score'].isna()].index\n",
    "data.loc[idx,'critic_score'] = data.loc[idx,'critic_score_min']\n",
    "idx = data[data['user_score'].isna()].index\n",
    "data.loc[idx,'user_score'] = data.loc[idx,'user_score_min']\n",
    "idx = data[data['rating_dig'].isna()].index\n",
    "data.loc[idx,'rating_dig'] = data.loc[idx,'rating_min']\n",
    "\n",
    "data['rating']=data['rating_dig'].apply(rate_str)"
   ]
  },
  {
   "cell_type": "markdown",
   "metadata": {},
   "source": [
    "Выведем общую информацию и посмотрим матрицу совместного появления пустых значений"
   ]
  },
  {
   "cell_type": "code",
   "execution_count": 31,
   "metadata": {},
   "outputs": [],
   "source": [
    "# функция для создания пересечения списков\n",
    "def inter(list1, list2): \n",
    "    list3 = [value for value in list1 if value in list2] \n",
    "    return list3"
   ]
  },
  {
   "cell_type": "code",
   "execution_count": 32,
   "metadata": {},
   "outputs": [
    {
     "data": {
      "text/html": [
       "<div>\n",
       "<style scoped>\n",
       "    .dataframe tbody tr th:only-of-type {\n",
       "        vertical-align: middle;\n",
       "    }\n",
       "\n",
       "    .dataframe tbody tr th {\n",
       "        vertical-align: top;\n",
       "    }\n",
       "\n",
       "    .dataframe thead th {\n",
       "        text-align: right;\n",
       "    }\n",
       "</style>\n",
       "<table border=\"1\" class=\"dataframe\">\n",
       "  <thead>\n",
       "    <tr style=\"text-align: right;\">\n",
       "      <th></th>\n",
       "      <th>nunique</th>\n",
       "      <th>not_nan_count</th>\n",
       "      <th>nan_count</th>\n",
       "      <th>nan_ratio</th>\n",
       "      <th>data_type</th>\n",
       "      <th>conc_20_1</th>\n",
       "    </tr>\n",
       "  </thead>\n",
       "  <tbody>\n",
       "    <tr>\n",
       "      <th>name</th>\n",
       "      <td>11559.0</td>\n",
       "      <td>16713.0</td>\n",
       "      <td>0.0</td>\n",
       "      <td>0.000000</td>\n",
       "      <td>object</td>\n",
       "      <td>0.000718</td>\n",
       "    </tr>\n",
       "    <tr>\n",
       "      <th>platform</th>\n",
       "      <td>31.0</td>\n",
       "      <td>16713.0</td>\n",
       "      <td>0.0</td>\n",
       "      <td>0.000000</td>\n",
       "      <td>object</td>\n",
       "      <td>0.129301</td>\n",
       "    </tr>\n",
       "    <tr>\n",
       "      <th>year_of_release</th>\n",
       "      <td>37.0</td>\n",
       "      <td>16567.0</td>\n",
       "      <td>146.0</td>\n",
       "      <td>0.008736</td>\n",
       "      <td>Int64</td>\n",
       "      <td>0.086920</td>\n",
       "    </tr>\n",
       "    <tr>\n",
       "      <th>genre</th>\n",
       "      <td>12.0</td>\n",
       "      <td>16713.0</td>\n",
       "      <td>0.0</td>\n",
       "      <td>0.000000</td>\n",
       "      <td>object</td>\n",
       "      <td>0.201580</td>\n",
       "    </tr>\n",
       "    <tr>\n",
       "      <th>na_sales</th>\n",
       "      <td>402.0</td>\n",
       "      <td>16713.0</td>\n",
       "      <td>0.0</td>\n",
       "      <td>0.000000</td>\n",
       "      <td>float64</td>\n",
       "      <td>0.982050</td>\n",
       "    </tr>\n",
       "    <tr>\n",
       "      <th>eu_sales</th>\n",
       "      <td>307.0</td>\n",
       "      <td>16713.0</td>\n",
       "      <td>0.0</td>\n",
       "      <td>0.000000</td>\n",
       "      <td>float64</td>\n",
       "      <td>0.984563</td>\n",
       "    </tr>\n",
       "    <tr>\n",
       "      <th>jp_sales</th>\n",
       "      <td>244.0</td>\n",
       "      <td>16713.0</td>\n",
       "      <td>0.0</td>\n",
       "      <td>0.000000</td>\n",
       "      <td>float64</td>\n",
       "      <td>0.966134</td>\n",
       "    </tr>\n",
       "    <tr>\n",
       "      <th>other_sales</th>\n",
       "      <td>155.0</td>\n",
       "      <td>16713.0</td>\n",
       "      <td>0.0</td>\n",
       "      <td>0.000000</td>\n",
       "      <td>float64</td>\n",
       "      <td>0.986657</td>\n",
       "    </tr>\n",
       "    <tr>\n",
       "      <th>critic_score</th>\n",
       "      <td>82.0</td>\n",
       "      <td>9098.0</td>\n",
       "      <td>7615.0</td>\n",
       "      <td>0.455633</td>\n",
       "      <td>float64</td>\n",
       "      <td>0.116729</td>\n",
       "    </tr>\n",
       "    <tr>\n",
       "      <th>user_score</th>\n",
       "      <td>96.0</td>\n",
       "      <td>10443.0</td>\n",
       "      <td>6270.0</td>\n",
       "      <td>0.375157</td>\n",
       "      <td>float64</td>\n",
       "      <td>0.243991</td>\n",
       "    </tr>\n",
       "    <tr>\n",
       "      <th>rating</th>\n",
       "      <td>8.0</td>\n",
       "      <td>10386.0</td>\n",
       "      <td>6327.0</td>\n",
       "      <td>0.378568</td>\n",
       "      <td>object</td>\n",
       "      <td>0.400539</td>\n",
       "    </tr>\n",
       "  </tbody>\n",
       "</table>\n",
       "</div>"
      ],
      "text/plain": [
       "                 nunique  not_nan_count  nan_count  nan_ratio data_type  \\\n",
       "name             11559.0        16713.0        0.0   0.000000    object   \n",
       "platform            31.0        16713.0        0.0   0.000000    object   \n",
       "year_of_release     37.0        16567.0      146.0   0.008736     Int64   \n",
       "genre               12.0        16713.0        0.0   0.000000    object   \n",
       "na_sales           402.0        16713.0        0.0   0.000000   float64   \n",
       "eu_sales           307.0        16713.0        0.0   0.000000   float64   \n",
       "jp_sales           244.0        16713.0        0.0   0.000000   float64   \n",
       "other_sales        155.0        16713.0        0.0   0.000000   float64   \n",
       "critic_score        82.0         9098.0     7615.0   0.455633   float64   \n",
       "user_score          96.0        10443.0     6270.0   0.375157   float64   \n",
       "rating               8.0        10386.0     6327.0   0.378568    object   \n",
       "\n",
       "                 conc_20_1  \n",
       "name              0.000718  \n",
       "platform          0.129301  \n",
       "year_of_release   0.086920  \n",
       "genre             0.201580  \n",
       "na_sales          0.982050  \n",
       "eu_sales          0.984563  \n",
       "jp_sales          0.966134  \n",
       "other_sales       0.986657  \n",
       "critic_score      0.116729  \n",
       "user_score        0.243991  \n",
       "rating            0.400539  "
      ]
     },
     "metadata": {},
     "output_type": "display_data"
    },
    {
     "data": {
      "text/html": [
       "<div>\n",
       "<style scoped>\n",
       "    .dataframe tbody tr th:only-of-type {\n",
       "        vertical-align: middle;\n",
       "    }\n",
       "\n",
       "    .dataframe tbody tr th {\n",
       "        vertical-align: top;\n",
       "    }\n",
       "\n",
       "    .dataframe thead th {\n",
       "        text-align: right;\n",
       "    }\n",
       "</style>\n",
       "<table border=\"1\" class=\"dataframe\">\n",
       "  <thead>\n",
       "    <tr style=\"text-align: right;\">\n",
       "      <th></th>\n",
       "      <th>year_of_release</th>\n",
       "      <th>critic_score</th>\n",
       "      <th>user_score</th>\n",
       "      <th>rating</th>\n",
       "    </tr>\n",
       "  </thead>\n",
       "  <tbody>\n",
       "    <tr>\n",
       "      <th>year_of_release</th>\n",
       "      <td>1.000000</td>\n",
       "      <td>0.568493</td>\n",
       "      <td>0.452055</td>\n",
       "      <td>0.445205</td>\n",
       "    </tr>\n",
       "    <tr>\n",
       "      <th>critic_score</th>\n",
       "      <td>0.010900</td>\n",
       "      <td>1.000000</td>\n",
       "      <td>0.820617</td>\n",
       "      <td>0.822850</td>\n",
       "    </tr>\n",
       "    <tr>\n",
       "      <th>user_score</th>\n",
       "      <td>0.010526</td>\n",
       "      <td>0.996651</td>\n",
       "      <td>1.000000</td>\n",
       "      <td>0.992185</td>\n",
       "    </tr>\n",
       "    <tr>\n",
       "      <th>rating</th>\n",
       "      <td>0.010273</td>\n",
       "      <td>0.990359</td>\n",
       "      <td>0.983246</td>\n",
       "      <td>1.000000</td>\n",
       "    </tr>\n",
       "  </tbody>\n",
       "</table>\n",
       "</div>"
      ],
      "text/plain": [
       "                 year_of_release  critic_score  user_score    rating\n",
       "year_of_release         1.000000      0.568493    0.452055  0.445205\n",
       "critic_score            0.010900      1.000000    0.820617  0.822850\n",
       "user_score              0.010526      0.996651    1.000000  0.992185\n",
       "rating                  0.010273      0.990359    0.983246  1.000000"
      ]
     },
     "execution_count": 32,
     "metadata": {},
     "output_type": "execute_result"
    }
   ],
   "source": [
    "rez = result_table(data)\n",
    "rez_inter = inter(base_list,rez.index)\n",
    "display(rez.loc[rez_inter])\n",
    "\n",
    "cutoff = 0\n",
    "null = null_matrix(cutoff)\n",
    "null_inter = inter(base_list,null.index)\n",
    "null_matrix(cutoff).loc[null_inter,null_inter]"
   ]
  },
  {
   "cell_type": "markdown",
   "metadata": {},
   "source": [
    "Посмотрим для сравнения исходную сводную таблицу"
   ]
  },
  {
   "cell_type": "code",
   "execution_count": 33,
   "metadata": {},
   "outputs": [
    {
     "data": {
      "text/html": [
       "<div>\n",
       "<style scoped>\n",
       "    .dataframe tbody tr th:only-of-type {\n",
       "        vertical-align: middle;\n",
       "    }\n",
       "\n",
       "    .dataframe tbody tr th {\n",
       "        vertical-align: top;\n",
       "    }\n",
       "\n",
       "    .dataframe thead th {\n",
       "        text-align: right;\n",
       "    }\n",
       "</style>\n",
       "<table border=\"1\" class=\"dataframe\">\n",
       "  <thead>\n",
       "    <tr style=\"text-align: right;\">\n",
       "      <th></th>\n",
       "      <th>nunique</th>\n",
       "      <th>not_nan_count</th>\n",
       "      <th>nan_count</th>\n",
       "      <th>nan_ratio</th>\n",
       "      <th>data_type</th>\n",
       "      <th>conc_20_1</th>\n",
       "    </tr>\n",
       "  </thead>\n",
       "  <tbody>\n",
       "    <tr>\n",
       "      <th>name</th>\n",
       "      <td>11559.0</td>\n",
       "      <td>16713.0</td>\n",
       "      <td>2.0</td>\n",
       "      <td>0.000120</td>\n",
       "      <td>object</td>\n",
       "      <td>0.000718</td>\n",
       "    </tr>\n",
       "    <tr>\n",
       "      <th>platform</th>\n",
       "      <td>31.0</td>\n",
       "      <td>16715.0</td>\n",
       "      <td>0.0</td>\n",
       "      <td>0.000000</td>\n",
       "      <td>object</td>\n",
       "      <td>0.129285</td>\n",
       "    </tr>\n",
       "    <tr>\n",
       "      <th>year_of_release</th>\n",
       "      <td>37.0</td>\n",
       "      <td>16446.0</td>\n",
       "      <td>269.0</td>\n",
       "      <td>0.016093</td>\n",
       "      <td>Int64</td>\n",
       "      <td>0.086769</td>\n",
       "    </tr>\n",
       "    <tr>\n",
       "      <th>genre</th>\n",
       "      <td>12.0</td>\n",
       "      <td>16713.0</td>\n",
       "      <td>2.0</td>\n",
       "      <td>0.000120</td>\n",
       "      <td>object</td>\n",
       "      <td>0.201580</td>\n",
       "    </tr>\n",
       "    <tr>\n",
       "      <th>na_sales</th>\n",
       "      <td>402.0</td>\n",
       "      <td>16715.0</td>\n",
       "      <td>0.0</td>\n",
       "      <td>0.000000</td>\n",
       "      <td>float64</td>\n",
       "      <td>0.981932</td>\n",
       "    </tr>\n",
       "    <tr>\n",
       "      <th>eu_sales</th>\n",
       "      <td>307.0</td>\n",
       "      <td>16715.0</td>\n",
       "      <td>0.0</td>\n",
       "      <td>0.000000</td>\n",
       "      <td>float64</td>\n",
       "      <td>0.984445</td>\n",
       "    </tr>\n",
       "    <tr>\n",
       "      <th>jp_sales</th>\n",
       "      <td>244.0</td>\n",
       "      <td>16715.0</td>\n",
       "      <td>0.0</td>\n",
       "      <td>0.000000</td>\n",
       "      <td>float64</td>\n",
       "      <td>0.966019</td>\n",
       "    </tr>\n",
       "    <tr>\n",
       "      <th>other_sales</th>\n",
       "      <td>155.0</td>\n",
       "      <td>16715.0</td>\n",
       "      <td>0.0</td>\n",
       "      <td>0.000000</td>\n",
       "      <td>float64</td>\n",
       "      <td>0.986539</td>\n",
       "    </tr>\n",
       "    <tr>\n",
       "      <th>critic_score</th>\n",
       "      <td>82.0</td>\n",
       "      <td>8137.0</td>\n",
       "      <td>8578.0</td>\n",
       "      <td>0.513192</td>\n",
       "      <td>float64</td>\n",
       "      <td>0.118717</td>\n",
       "    </tr>\n",
       "    <tr>\n",
       "      <th>user_score</th>\n",
       "      <td>96.0</td>\n",
       "      <td>10014.0</td>\n",
       "      <td>6701.0</td>\n",
       "      <td>0.400897</td>\n",
       "      <td>float64</td>\n",
       "      <td>0.242061</td>\n",
       "    </tr>\n",
       "    <tr>\n",
       "      <th>rating</th>\n",
       "      <td>8.0</td>\n",
       "      <td>9949.0</td>\n",
       "      <td>6766.0</td>\n",
       "      <td>0.404786</td>\n",
       "      <td>object</td>\n",
       "      <td>0.401045</td>\n",
       "    </tr>\n",
       "  </tbody>\n",
       "</table>\n",
       "</div>"
      ],
      "text/plain": [
       "                 nunique  not_nan_count  nan_count  nan_ratio data_type  \\\n",
       "name             11559.0        16713.0        2.0   0.000120    object   \n",
       "platform            31.0        16715.0        0.0   0.000000    object   \n",
       "year_of_release     37.0        16446.0      269.0   0.016093     Int64   \n",
       "genre               12.0        16713.0        2.0   0.000120    object   \n",
       "na_sales           402.0        16715.0        0.0   0.000000   float64   \n",
       "eu_sales           307.0        16715.0        0.0   0.000000   float64   \n",
       "jp_sales           244.0        16715.0        0.0   0.000000   float64   \n",
       "other_sales        155.0        16715.0        0.0   0.000000   float64   \n",
       "critic_score        82.0         8137.0     8578.0   0.513192   float64   \n",
       "user_score          96.0        10014.0     6701.0   0.400897   float64   \n",
       "rating               8.0         9949.0     6766.0   0.404786    object   \n",
       "\n",
       "                 conc_20_1  \n",
       "name              0.000718  \n",
       "platform          0.129285  \n",
       "year_of_release   0.086769  \n",
       "genre             0.201580  \n",
       "na_sales          0.981932  \n",
       "eu_sales          0.984445  \n",
       "jp_sales          0.966019  \n",
       "other_sales       0.986539  \n",
       "critic_score      0.118717  \n",
       "user_score        0.242061  \n",
       "rating            0.401045  "
      ]
     },
     "execution_count": 33,
     "metadata": {},
     "output_type": "execute_result"
    }
   ],
   "source": [
    "base_rezult.loc[base_list]"
   ]
  },
  {
   "cell_type": "markdown",
   "metadata": {},
   "source": [
    "Видим, что мы уменьшили количество пропусков примерно на 10% (см. поле nan_ratio).\n",
    "\n",
    "Посмотрим как распределены значения полей датафрейма на пропусках в поле рейтинг. Понятно, что искать какие то зависимости имеет смысл в следующих полях: ['platform','genre','na_sales','eu_sales','jp_sales','other_sales']\n",
    "\n",
    "Используем написанные выше функции. Для числовых полей продаж возможны верхние выбросы данных, которые могут исказить разбиение на интервалы, поэтому установим отсечение 0,9 квантилем"
   ]
  },
  {
   "cell_type": "code",
   "execution_count": 34,
   "metadata": {},
   "outputs": [
    {
     "name": "stdout",
     "output_type": "stream",
     "text": [
      "Таблица с интервалами (корзинами) распределений\n"
     ]
    },
    {
     "data": {
      "text/html": [
       "<div>\n",
       "<style scoped>\n",
       "    .dataframe tbody tr th:only-of-type {\n",
       "        vertical-align: middle;\n",
       "    }\n",
       "\n",
       "    .dataframe tbody tr th {\n",
       "        vertical-align: top;\n",
       "    }\n",
       "\n",
       "    .dataframe thead th {\n",
       "        text-align: right;\n",
       "    }\n",
       "</style>\n",
       "<table border=\"1\" class=\"dataframe\">\n",
       "  <thead>\n",
       "    <tr style=\"text-align: right;\">\n",
       "      <th></th>\n",
       "      <th>(rating, na_sales_int)</th>\n",
       "      <th>(rating, na_sales_cnt)</th>\n",
       "      <th>(rating, eu_sales_int)</th>\n",
       "      <th>(rating, eu_sales_cnt)</th>\n",
       "      <th>(rating, jp_sales_int)</th>\n",
       "      <th>(rating, jp_sales_cnt)</th>\n",
       "      <th>(rating, other_sales_int)</th>\n",
       "      <th>(rating, other_sales_cnt)</th>\n",
       "      <th>(rating, platform_int)</th>\n",
       "      <th>(rating, platform_cnt)</th>\n",
       "      <th>(rating, genre_int)</th>\n",
       "      <th>(rating, genre_cnt)</th>\n",
       "    </tr>\n",
       "  </thead>\n",
       "  <tbody>\n",
       "    <tr>\n",
       "      <th>0</th>\n",
       "      <td>(-0.01, 0.031]</td>\n",
       "      <td>0.241668</td>\n",
       "      <td>(-0.01, 0.01]</td>\n",
       "      <td>0.239993</td>\n",
       "      <td>(-0.01, 0.021]</td>\n",
       "      <td>0.198588</td>\n",
       "      <td>(-0.01, -0.005]</td>\n",
       "      <td>0.000000</td>\n",
       "      <td>PS</td>\n",
       "      <td>0.056962</td>\n",
       "      <td>Action</td>\n",
       "      <td>0.062766</td>\n",
       "    </tr>\n",
       "    <tr>\n",
       "      <th>1</th>\n",
       "      <td>(0.031, 0.072]</td>\n",
       "      <td>0.027643</td>\n",
       "      <td>(0.01, 0.03]</td>\n",
       "      <td>0.034763</td>\n",
       "      <td>(0.021, 0.052]</td>\n",
       "      <td>0.048824</td>\n",
       "      <td>(-0.005, 0.0]</td>\n",
       "      <td>0.242566</td>\n",
       "      <td>DS</td>\n",
       "      <td>0.050739</td>\n",
       "      <td>Misc</td>\n",
       "      <td>0.049901</td>\n",
       "    </tr>\n",
       "    <tr>\n",
       "      <th>2</th>\n",
       "      <td>(0.072, 0.113]</td>\n",
       "      <td>0.017830</td>\n",
       "      <td>(0.03, 0.05]</td>\n",
       "      <td>0.011249</td>\n",
       "      <td>(0.052, 0.083]</td>\n",
       "      <td>0.027523</td>\n",
       "      <td>(0.0, 0.005]</td>\n",
       "      <td>0.000000</td>\n",
       "      <td>PS2</td>\n",
       "      <td>0.039371</td>\n",
       "      <td>Adventure</td>\n",
       "      <td>0.049602</td>\n",
       "    </tr>\n",
       "    <tr>\n",
       "      <th>3</th>\n",
       "      <td>(0.113, 0.154]</td>\n",
       "      <td>0.014480</td>\n",
       "      <td>(0.05, 0.07]</td>\n",
       "      <td>0.022378</td>\n",
       "      <td>(0.083, 0.114]</td>\n",
       "      <td>0.017352</td>\n",
       "      <td>(0.005, 0.01]</td>\n",
       "      <td>0.052833</td>\n",
       "      <td>PSP</td>\n",
       "      <td>0.038952</td>\n",
       "      <td>Sports</td>\n",
       "      <td>0.047149</td>\n",
       "    </tr>\n",
       "    <tr>\n",
       "      <th>4</th>\n",
       "      <td>(0.154, 0.195]</td>\n",
       "      <td>0.010411</td>\n",
       "      <td>(0.07, 0.09]</td>\n",
       "      <td>0.008676</td>\n",
       "      <td>(0.114, 0.145]</td>\n",
       "      <td>0.014240</td>\n",
       "      <td>(0.01, 0.015]</td>\n",
       "      <td>0.000000</td>\n",
       "      <td>PS3</td>\n",
       "      <td>0.020284</td>\n",
       "      <td>Role-Playing</td>\n",
       "      <td>0.039670</td>\n",
       "    </tr>\n",
       "    <tr>\n",
       "      <th>5</th>\n",
       "      <td>(0.195, 0.236]</td>\n",
       "      <td>0.007719</td>\n",
       "      <td>(0.09, 0.11]</td>\n",
       "      <td>0.006342</td>\n",
       "      <td>(0.145, 0.176]</td>\n",
       "      <td>0.008736</td>\n",
       "      <td>(0.015, 0.02]</td>\n",
       "      <td>0.000000</td>\n",
       "      <td>Wii</td>\n",
       "      <td>0.017711</td>\n",
       "      <td>Fighting</td>\n",
       "      <td>0.023335</td>\n",
       "    </tr>\n",
       "    <tr>\n",
       "      <th>6</th>\n",
       "      <td>(0.236, 0.277]</td>\n",
       "      <td>0.006522</td>\n",
       "      <td>(0.11, 0.13]</td>\n",
       "      <td>0.005624</td>\n",
       "      <td>(0.176, 0.207]</td>\n",
       "      <td>0.007778</td>\n",
       "      <td>(0.02, 0.025]</td>\n",
       "      <td>0.023694</td>\n",
       "      <td>N64</td>\n",
       "      <td>0.017711</td>\n",
       "      <td>Racing</td>\n",
       "      <td>0.020343</td>\n",
       "    </tr>\n",
       "    <tr>\n",
       "      <th>7</th>\n",
       "      <td>(0.277, 0.318]</td>\n",
       "      <td>0.005325</td>\n",
       "      <td>(0.13, 0.15]</td>\n",
       "      <td>0.004667</td>\n",
       "      <td>(0.207, 0.238]</td>\n",
       "      <td>0.006283</td>\n",
       "      <td>(0.025, 0.03]</td>\n",
       "      <td>0.013522</td>\n",
       "      <td>GBA</td>\n",
       "      <td>0.016574</td>\n",
       "      <td>Strategy</td>\n",
       "      <td>0.020104</td>\n",
       "    </tr>\n",
       "    <tr>\n",
       "      <th>8</th>\n",
       "      <td>(0.318, 0.359]</td>\n",
       "      <td>0.004488</td>\n",
       "      <td>(0.15, 0.17]</td>\n",
       "      <td>0.002513</td>\n",
       "      <td>(0.238, 0.269]</td>\n",
       "      <td>0.004966</td>\n",
       "      <td>(0.03, 0.035]</td>\n",
       "      <td>0.000000</td>\n",
       "      <td>3DS</td>\n",
       "      <td>0.016275</td>\n",
       "      <td>Platform</td>\n",
       "      <td>0.017531</td>\n",
       "    </tr>\n",
       "    <tr>\n",
       "      <th>9</th>\n",
       "      <td>(0.359, 0.4]</td>\n",
       "      <td>0.005505</td>\n",
       "      <td>(0.17, 0.19]</td>\n",
       "      <td>0.004787</td>\n",
       "      <td>(0.269, 0.3]</td>\n",
       "      <td>0.006821</td>\n",
       "      <td>(0.035, 0.04]</td>\n",
       "      <td>0.009035</td>\n",
       "      <td>PSV</td>\n",
       "      <td>0.015317</td>\n",
       "      <td>Shooter</td>\n",
       "      <td>0.017292</td>\n",
       "    </tr>\n",
       "  </tbody>\n",
       "</table>\n",
       "</div>"
      ],
      "text/plain": [
       "  (rating, na_sales_int)  (rating, na_sales_cnt) (rating, eu_sales_int)  \\\n",
       "0         (-0.01, 0.031]                0.241668          (-0.01, 0.01]   \n",
       "1         (0.031, 0.072]                0.027643           (0.01, 0.03]   \n",
       "2         (0.072, 0.113]                0.017830           (0.03, 0.05]   \n",
       "3         (0.113, 0.154]                0.014480           (0.05, 0.07]   \n",
       "4         (0.154, 0.195]                0.010411           (0.07, 0.09]   \n",
       "5         (0.195, 0.236]                0.007719           (0.09, 0.11]   \n",
       "6         (0.236, 0.277]                0.006522           (0.11, 0.13]   \n",
       "7         (0.277, 0.318]                0.005325           (0.13, 0.15]   \n",
       "8         (0.318, 0.359]                0.004488           (0.15, 0.17]   \n",
       "9           (0.359, 0.4]                0.005505           (0.17, 0.19]   \n",
       "\n",
       "   (rating, eu_sales_cnt) (rating, jp_sales_int)  (rating, jp_sales_cnt)  \\\n",
       "0                0.239993         (-0.01, 0.021]                0.198588   \n",
       "1                0.034763         (0.021, 0.052]                0.048824   \n",
       "2                0.011249         (0.052, 0.083]                0.027523   \n",
       "3                0.022378         (0.083, 0.114]                0.017352   \n",
       "4                0.008676         (0.114, 0.145]                0.014240   \n",
       "5                0.006342         (0.145, 0.176]                0.008736   \n",
       "6                0.005624         (0.176, 0.207]                0.007778   \n",
       "7                0.004667         (0.207, 0.238]                0.006283   \n",
       "8                0.002513         (0.238, 0.269]                0.004966   \n",
       "9                0.004787           (0.269, 0.3]                0.006821   \n",
       "\n",
       "  (rating, other_sales_int)  (rating, other_sales_cnt) (rating, platform_int)  \\\n",
       "0           (-0.01, -0.005]                   0.000000                     PS   \n",
       "1             (-0.005, 0.0]                   0.242566                     DS   \n",
       "2              (0.0, 0.005]                   0.000000                    PS2   \n",
       "3             (0.005, 0.01]                   0.052833                    PSP   \n",
       "4             (0.01, 0.015]                   0.000000                    PS3   \n",
       "5             (0.015, 0.02]                   0.000000                    Wii   \n",
       "6             (0.02, 0.025]                   0.023694                    N64   \n",
       "7             (0.025, 0.03]                   0.013522                    GBA   \n",
       "8             (0.03, 0.035]                   0.000000                    3DS   \n",
       "9             (0.035, 0.04]                   0.009035                    PSV   \n",
       "\n",
       "   (rating, platform_cnt) (rating, genre_int)  (rating, genre_cnt)  \n",
       "0                0.056962              Action             0.062766  \n",
       "1                0.050739                Misc             0.049901  \n",
       "2                0.039371           Adventure             0.049602  \n",
       "3                0.038952              Sports             0.047149  \n",
       "4                0.020284        Role-Playing             0.039670  \n",
       "5                0.017711            Fighting             0.023335  \n",
       "6                0.017711              Racing             0.020343  \n",
       "7                0.016574            Strategy             0.020104  \n",
       "8                0.016275            Platform             0.017531  \n",
       "9                0.015317             Shooter             0.017292  "
      ]
     },
     "metadata": {},
     "output_type": "display_data"
    },
    {
     "name": "stdout",
     "output_type": "stream",
     "text": [
      "Концентрация значений в топ  1  из  10  корзин\n"
     ]
    },
    {
     "data": {
      "text/html": [
       "<div>\n",
       "<style scoped>\n",
       "    .dataframe tbody tr th:only-of-type {\n",
       "        vertical-align: middle;\n",
       "    }\n",
       "\n",
       "    .dataframe tbody tr th {\n",
       "        vertical-align: top;\n",
       "    }\n",
       "\n",
       "    .dataframe thead th {\n",
       "        text-align: right;\n",
       "    }\n",
       "</style>\n",
       "<table border=\"1\" class=\"dataframe\">\n",
       "  <thead>\n",
       "    <tr style=\"text-align: right;\">\n",
       "      <th></th>\n",
       "      <th>na_sales</th>\n",
       "      <th>eu_sales</th>\n",
       "      <th>jp_sales</th>\n",
       "      <th>other_sales</th>\n",
       "      <th>platform</th>\n",
       "      <th>genre</th>\n",
       "    </tr>\n",
       "  </thead>\n",
       "  <tbody>\n",
       "    <tr>\n",
       "      <th>rating</th>\n",
       "      <td>0.241668</td>\n",
       "      <td>0.239993</td>\n",
       "      <td>0.198588</td>\n",
       "      <td>0.242566</td>\n",
       "      <td>0.056962</td>\n",
       "      <td>0.062766</td>\n",
       "    </tr>\n",
       "  </tbody>\n",
       "</table>\n",
       "</div>"
      ],
      "text/plain": [
       "        na_sales  eu_sales  jp_sales  other_sales  platform     genre\n",
       "rating  0.241668  0.239993  0.198588     0.242566  0.056962  0.062766"
      ]
     },
     "metadata": {},
     "output_type": "display_data"
    }
   ],
   "source": [
    "panni = 10              # количество корзин\n",
    "qmx =  0.9                # верхний квантиль (данные берутся ниже значения: для 1 - смотрим все данные)\n",
    "qmn =  0                # нижний квантиль (данные берутся выше значения: для 0 - смотрим все данные)\n",
    "condition = '@cond_clmn.isna()'          # условие отбора в базовых полях\n",
    "simple = False           # False - используем условие отбора в базовых полях\n",
    "top = 1                 # количество Топ корзин разбиения\n",
    "b_list = ['rating']           # список базовых полей\n",
    "b_list_use = True       # использовать / нет список базовых полей\n",
    "                        # список расчетных полей\n",
    "c_list =  ['platform','genre','na_sales','eu_sales','jp_sales','other_sales']\n",
    "c_list_use = True       # использовать / нет список расчетных полей\n",
    "cond_count_use = False   # True - доля в корзинах считается по отношению к количеству отфильтрованных строк\n",
    "                        # False- доля в корзинах считается по отношению к общему количеству строк\n",
    "#---------------------------------------------------------------------------\n",
    "\n",
    "fract_table_rat = condition_depend(panni,qmx,qmn,condition,simple, # таблица с интервалами (корзинами) распределений\n",
    "                     data,\n",
    "                     b_list,b_list_use,\n",
    "                     c_list,c_list_use,cond_count_use)\n",
    "cutoff = 0.0\n",
    "cond_conc_rat = condition_concentrate(cutoff,simple,top,\n",
    "                                            fract_table_rat,  # не заывать ставить правильное имя\n",
    "                                            df,b_list,b_list_use)\n",
    "\n",
    "print('Таблица с интервалами (корзинами) распределений')\n",
    "display(fract_table_rat)\n",
    "print('Концентрация значений в топ ',top,' из ',panni,' корзин')\n",
    "display(cond_conc_rat)"
   ]
  },
  {
   "cell_type": "markdown",
   "metadata": {},
   "source": [
    "Видим, что:\n",
    "- платформа и жанр игры не определяют пропуски в рейтинге\n",
    "- пропуски рейтинга соотносятся с интервалами низких продаж:\n",
    "    - na_sales (-0.01, 0.031] 24% всех строк\n",
    "    - eu_sales (-0.01, 0.01] 24%\n",
    "    - jp_sales (-0.01, 0.021]  20%\n",
    "    - other_sales (-0.005, 0.0]  24%\n",
    "\n",
    "Посмотрим в обратную сторону - как распределены значения рейтинга на указанных интервалах. Долю корзин разбиений будем считать от общего количества строк (cond_count_use = False)"
   ]
  },
  {
   "cell_type": "code",
   "execution_count": 35,
   "metadata": {},
   "outputs": [
    {
     "name": "stdout",
     "output_type": "stream",
     "text": [
      "Таблица с интервалами (корзинами) распределений\n"
     ]
    },
    {
     "data": {
      "text/html": [
       "<div>\n",
       "<style scoped>\n",
       "    .dataframe tbody tr th:only-of-type {\n",
       "        vertical-align: middle;\n",
       "    }\n",
       "\n",
       "    .dataframe tbody tr th {\n",
       "        vertical-align: top;\n",
       "    }\n",
       "\n",
       "    .dataframe thead th {\n",
       "        text-align: right;\n",
       "    }\n",
       "</style>\n",
       "<table border=\"1\" class=\"dataframe\">\n",
       "  <thead>\n",
       "    <tr style=\"text-align: right;\">\n",
       "      <th></th>\n",
       "      <th>(na_sales, rating_int)</th>\n",
       "      <th>(na_sales, rating_cnt)</th>\n",
       "    </tr>\n",
       "  </thead>\n",
       "  <tbody>\n",
       "    <tr>\n",
       "      <th>0</th>\n",
       "      <td>E</td>\n",
       "      <td>0.075197</td>\n",
       "    </tr>\n",
       "    <tr>\n",
       "      <th>1</th>\n",
       "      <td>T</td>\n",
       "      <td>0.071924</td>\n",
       "    </tr>\n",
       "    <tr>\n",
       "      <th>2</th>\n",
       "      <td>M</td>\n",
       "      <td>0.032255</td>\n",
       "    </tr>\n",
       "    <tr>\n",
       "      <th>3</th>\n",
       "      <td>E10+</td>\n",
       "      <td>0.027056</td>\n",
       "    </tr>\n",
       "    <tr>\n",
       "      <th>4</th>\n",
       "      <td>RP</td>\n",
       "      <td>0.000385</td>\n",
       "    </tr>\n",
       "    <tr>\n",
       "      <th>5</th>\n",
       "      <td>K-A</td>\n",
       "      <td>0.000193</td>\n",
       "    </tr>\n",
       "    <tr>\n",
       "      <th>6</th>\n",
       "      <td>NaN</td>\n",
       "      <td>NaN</td>\n",
       "    </tr>\n",
       "    <tr>\n",
       "      <th>7</th>\n",
       "      <td>NaN</td>\n",
       "      <td>NaN</td>\n",
       "    </tr>\n",
       "    <tr>\n",
       "      <th>8</th>\n",
       "      <td>NaN</td>\n",
       "      <td>NaN</td>\n",
       "    </tr>\n",
       "    <tr>\n",
       "      <th>9</th>\n",
       "      <td>NaN</td>\n",
       "      <td>NaN</td>\n",
       "    </tr>\n",
       "  </tbody>\n",
       "</table>\n",
       "</div>"
      ],
      "text/plain": [
       "  (na_sales, rating_int)  (na_sales, rating_cnt)\n",
       "0                      E                0.075197\n",
       "1                      T                0.071924\n",
       "2                      M                0.032255\n",
       "3                   E10+                0.027056\n",
       "4                     RP                0.000385\n",
       "5                    K-A                0.000193\n",
       "6                    NaN                     NaN\n",
       "7                    NaN                     NaN\n",
       "8                    NaN                     NaN\n",
       "9                    NaN                     NaN"
      ]
     },
     "metadata": {},
     "output_type": "display_data"
    },
    {
     "name": "stdout",
     "output_type": "stream",
     "text": [
      "Концентрация значений в топ  1  из  10  корзин\n"
     ]
    },
    {
     "data": {
      "text/html": [
       "<div>\n",
       "<style scoped>\n",
       "    .dataframe tbody tr th:only-of-type {\n",
       "        vertical-align: middle;\n",
       "    }\n",
       "\n",
       "    .dataframe tbody tr th {\n",
       "        vertical-align: top;\n",
       "    }\n",
       "\n",
       "    .dataframe thead th {\n",
       "        text-align: right;\n",
       "    }\n",
       "</style>\n",
       "<table border=\"1\" class=\"dataframe\">\n",
       "  <thead>\n",
       "    <tr style=\"text-align: right;\">\n",
       "      <th></th>\n",
       "      <th>rating</th>\n",
       "    </tr>\n",
       "  </thead>\n",
       "  <tbody>\n",
       "    <tr>\n",
       "      <th>na_sales</th>\n",
       "      <td>0.075197</td>\n",
       "    </tr>\n",
       "  </tbody>\n",
       "</table>\n",
       "</div>"
      ],
      "text/plain": [
       "            rating\n",
       "na_sales  0.075197"
      ]
     },
     "metadata": {},
     "output_type": "display_data"
    }
   ],
   "source": [
    "# na_sales (-0.01, 0.031] 24% всех строк\n",
    "\n",
    "panni = 10              # количество корзин\n",
    "qmx =  1                # верхний квантиль (данные берутся ниже значения: для 1 - смотрим все данные)\n",
    "qmn =  0                # нижний квантиль (данные берутся выше значения: для 0 - смотрим все данные)\n",
    "condition = '@cond_clmn>-0.01 and @cond_clmn<=0.031'          # условие отбора в базовых полях\n",
    "simple = False           # False - используем условие отбора в базовых полях\n",
    "top = 1                 # количество Топ корзин разбиения\n",
    "b_list = ['na_sales']           # список базовых полей\n",
    "b_list_use = True       # использовать / нет список базовых полей\n",
    "                        # список расчетных полей\n",
    "c_list =  ['rating']\n",
    "c_list_use = True       # использовать / нет список расчетных полей\n",
    "cond_count_use = False   # True - доля в корзинах считается по отношению к количеству отфильтрованных строк\n",
    "                        # False- доля в корзинах считается по отношению к общему количеству строк\n",
    "#---------------------------------------------------------------------------\n",
    "\n",
    "fract_table_rat = condition_depend(panni,qmx,qmn,condition,simple, # таблица с интервалами (корзинами) распределений\n",
    "                     data,\n",
    "                     b_list,b_list_use,\n",
    "                     c_list,c_list_use,cond_count_use)\n",
    "cutoff = 0.0\n",
    "cond_conc_rat = condition_concentrate(cutoff,simple,top,\n",
    "                                            fract_table_rat,  # не заывать ставить правильное имя\n",
    "                                            df,b_list,b_list_use)\n",
    "\n",
    "print('Таблица с интервалами (корзинами) распределений')\n",
    "display(fract_table_rat)\n",
    "print('Концентрация значений в топ ',top,' из ',panni,' корзин')\n",
    "display(cond_conc_rat)"
   ]
  },
  {
   "cell_type": "markdown",
   "metadata": {},
   "source": [
    "Для Америки в данный интервал попадает действительно малое количество значений. И при этом нет концентрации на каком то значении рейтинга"
   ]
  },
  {
   "cell_type": "code",
   "execution_count": 36,
   "metadata": {},
   "outputs": [
    {
     "name": "stdout",
     "output_type": "stream",
     "text": [
      "Таблица с интервалами (корзинами) распределений\n"
     ]
    },
    {
     "data": {
      "text/html": [
       "<div>\n",
       "<style scoped>\n",
       "    .dataframe tbody tr th:only-of-type {\n",
       "        vertical-align: middle;\n",
       "    }\n",
       "\n",
       "    .dataframe tbody tr th {\n",
       "        vertical-align: top;\n",
       "    }\n",
       "\n",
       "    .dataframe thead th {\n",
       "        text-align: right;\n",
       "    }\n",
       "</style>\n",
       "<table border=\"1\" class=\"dataframe\">\n",
       "  <thead>\n",
       "    <tr style=\"text-align: right;\">\n",
       "      <th></th>\n",
       "      <th>(eu_sales, rating_int)</th>\n",
       "      <th>(eu_sales, rating_cnt)</th>\n",
       "    </tr>\n",
       "  </thead>\n",
       "  <tbody>\n",
       "    <tr>\n",
       "      <th>0</th>\n",
       "      <td>E</td>\n",
       "      <td>0.156653</td>\n",
       "    </tr>\n",
       "    <tr>\n",
       "      <th>1</th>\n",
       "      <td>T</td>\n",
       "      <td>0.088099</td>\n",
       "    </tr>\n",
       "    <tr>\n",
       "      <th>2</th>\n",
       "      <td>E10+</td>\n",
       "      <td>0.051704</td>\n",
       "    </tr>\n",
       "    <tr>\n",
       "      <th>3</th>\n",
       "      <td>M</td>\n",
       "      <td>0.025323</td>\n",
       "    </tr>\n",
       "    <tr>\n",
       "      <th>4</th>\n",
       "      <td>EC</td>\n",
       "      <td>0.000770</td>\n",
       "    </tr>\n",
       "    <tr>\n",
       "      <th>5</th>\n",
       "      <td>K-A</td>\n",
       "      <td>0.000096</td>\n",
       "    </tr>\n",
       "    <tr>\n",
       "      <th>6</th>\n",
       "      <td>RP</td>\n",
       "      <td>0.000096</td>\n",
       "    </tr>\n",
       "    <tr>\n",
       "      <th>7</th>\n",
       "      <td>NaN</td>\n",
       "      <td>NaN</td>\n",
       "    </tr>\n",
       "    <tr>\n",
       "      <th>8</th>\n",
       "      <td>NaN</td>\n",
       "      <td>NaN</td>\n",
       "    </tr>\n",
       "    <tr>\n",
       "      <th>9</th>\n",
       "      <td>NaN</td>\n",
       "      <td>NaN</td>\n",
       "    </tr>\n",
       "  </tbody>\n",
       "</table>\n",
       "</div>"
      ],
      "text/plain": [
       "  (eu_sales, rating_int)  (eu_sales, rating_cnt)\n",
       "0                      E                0.156653\n",
       "1                      T                0.088099\n",
       "2                   E10+                0.051704\n",
       "3                      M                0.025323\n",
       "4                     EC                0.000770\n",
       "5                    K-A                0.000096\n",
       "6                     RP                0.000096\n",
       "7                    NaN                     NaN\n",
       "8                    NaN                     NaN\n",
       "9                    NaN                     NaN"
      ]
     },
     "metadata": {},
     "output_type": "display_data"
    },
    {
     "name": "stdout",
     "output_type": "stream",
     "text": [
      "Концентрация значений в топ  1  из  10  корзин\n"
     ]
    },
    {
     "data": {
      "text/html": [
       "<div>\n",
       "<style scoped>\n",
       "    .dataframe tbody tr th:only-of-type {\n",
       "        vertical-align: middle;\n",
       "    }\n",
       "\n",
       "    .dataframe tbody tr th {\n",
       "        vertical-align: top;\n",
       "    }\n",
       "\n",
       "    .dataframe thead th {\n",
       "        text-align: right;\n",
       "    }\n",
       "</style>\n",
       "<table border=\"1\" class=\"dataframe\">\n",
       "  <thead>\n",
       "    <tr style=\"text-align: right;\">\n",
       "      <th></th>\n",
       "      <th>rating</th>\n",
       "    </tr>\n",
       "  </thead>\n",
       "  <tbody>\n",
       "    <tr>\n",
       "      <th>eu_sales</th>\n",
       "      <td>0.156653</td>\n",
       "    </tr>\n",
       "  </tbody>\n",
       "</table>\n",
       "</div>"
      ],
      "text/plain": [
       "            rating\n",
       "eu_sales  0.156653"
      ]
     },
     "metadata": {},
     "output_type": "display_data"
    }
   ],
   "source": [
    "# eu_sales (-0.01, 0.01] 23% всех строк\n",
    "\n",
    "panni = 10              # количество корзин\n",
    "qmx =  1                # верхний квантиль (данные берутся ниже значения: для 1 - смотрим все данные)\n",
    "qmn =  0                # нижний квантиль (данные берутся выше значения: для 0 - смотрим все данные)\n",
    "condition = '@cond_clmn>-0.01 and @cond_clmn<=0.01'          # условие отбора в базовых полях\n",
    "simple = False           # False - используем условие отбора в базовых полях\n",
    "top = 1                 # количество Топ корзин разбиения\n",
    "b_list = ['eu_sales']           # список базовых полей\n",
    "b_list_use = True       # использовать / нет список базовых полей\n",
    "                        # список расчетных полей\n",
    "c_list =  ['rating']\n",
    "c_list_use = True       # использовать / нет список расчетных полей\n",
    "cond_count_use = False   # True - доля в корзинах считается по отношению к количеству отфильтрованных строк\n",
    "                        # False- доля в корзинах считается по отношению к общему количеству строк\n",
    "#---------------------------------------------------------------------------\n",
    "\n",
    "fract_table_rat = condition_depend(panni,qmx,qmn,condition,simple, # таблица с интервалами (корзинами) распределений\n",
    "                     data,\n",
    "                     b_list,b_list_use,\n",
    "                     c_list,c_list_use,cond_count_use)\n",
    "cutoff = 0.0\n",
    "cond_conc_rat = condition_concentrate(cutoff,simple,top,\n",
    "                                            fract_table_rat,  # не заывать ставить правильное имя\n",
    "                                            df,b_list,b_list_use)\n",
    "\n",
    "print('Таблица с интервалами (корзинами) распределений')\n",
    "display(fract_table_rat)\n",
    "print('Концентрация значений в топ ',top,' из ',panni,' корзин')\n",
    "display(cond_conc_rat)"
   ]
  },
  {
   "cell_type": "markdown",
   "metadata": {},
   "source": [
    "Для Европы данный интервал на самом деле достаточно широкий. Данные не сконцентрированы в одном  значении рейтинга"
   ]
  },
  {
   "cell_type": "code",
   "execution_count": 37,
   "metadata": {},
   "outputs": [
    {
     "name": "stdout",
     "output_type": "stream",
     "text": [
      "Таблица с интервалами (корзинами) распределений\n"
     ]
    },
    {
     "data": {
      "text/html": [
       "<div>\n",
       "<style scoped>\n",
       "    .dataframe tbody tr th:only-of-type {\n",
       "        vertical-align: middle;\n",
       "    }\n",
       "\n",
       "    .dataframe tbody tr th {\n",
       "        vertical-align: top;\n",
       "    }\n",
       "\n",
       "    .dataframe thead th {\n",
       "        text-align: right;\n",
       "    }\n",
       "</style>\n",
       "<table border=\"1\" class=\"dataframe\">\n",
       "  <thead>\n",
       "    <tr style=\"text-align: right;\">\n",
       "      <th></th>\n",
       "      <th>(jp_sales, rating_int)</th>\n",
       "      <th>(jp_sales, rating_cnt)</th>\n",
       "    </tr>\n",
       "  </thead>\n",
       "  <tbody>\n",
       "    <tr>\n",
       "      <th>0</th>\n",
       "      <td>E</td>\n",
       "      <td>0.355286</td>\n",
       "    </tr>\n",
       "    <tr>\n",
       "      <th>1</th>\n",
       "      <td>T</td>\n",
       "      <td>0.230984</td>\n",
       "    </tr>\n",
       "    <tr>\n",
       "      <th>2</th>\n",
       "      <td>E10+</td>\n",
       "      <td>0.124591</td>\n",
       "    </tr>\n",
       "    <tr>\n",
       "      <th>3</th>\n",
       "      <td>M</td>\n",
       "      <td>0.119488</td>\n",
       "    </tr>\n",
       "    <tr>\n",
       "      <th>4</th>\n",
       "      <td>EC</td>\n",
       "      <td>0.000963</td>\n",
       "    </tr>\n",
       "    <tr>\n",
       "      <th>5</th>\n",
       "      <td>RP</td>\n",
       "      <td>0.000385</td>\n",
       "    </tr>\n",
       "    <tr>\n",
       "      <th>6</th>\n",
       "      <td>K-A</td>\n",
       "      <td>0.000193</td>\n",
       "    </tr>\n",
       "    <tr>\n",
       "      <th>7</th>\n",
       "      <td>AO</td>\n",
       "      <td>0.000096</td>\n",
       "    </tr>\n",
       "    <tr>\n",
       "      <th>8</th>\n",
       "      <td>NaN</td>\n",
       "      <td>NaN</td>\n",
       "    </tr>\n",
       "    <tr>\n",
       "      <th>9</th>\n",
       "      <td>NaN</td>\n",
       "      <td>NaN</td>\n",
       "    </tr>\n",
       "  </tbody>\n",
       "</table>\n",
       "</div>"
      ],
      "text/plain": [
       "  (jp_sales, rating_int)  (jp_sales, rating_cnt)\n",
       "0                      E                0.355286\n",
       "1                      T                0.230984\n",
       "2                   E10+                0.124591\n",
       "3                      M                0.119488\n",
       "4                     EC                0.000963\n",
       "5                     RP                0.000385\n",
       "6                    K-A                0.000193\n",
       "7                     AO                0.000096\n",
       "8                    NaN                     NaN\n",
       "9                    NaN                     NaN"
      ]
     },
     "metadata": {},
     "output_type": "display_data"
    },
    {
     "name": "stdout",
     "output_type": "stream",
     "text": [
      "Концентрация значений в топ  1  из  10  корзин\n"
     ]
    },
    {
     "data": {
      "text/html": [
       "<div>\n",
       "<style scoped>\n",
       "    .dataframe tbody tr th:only-of-type {\n",
       "        vertical-align: middle;\n",
       "    }\n",
       "\n",
       "    .dataframe tbody tr th {\n",
       "        vertical-align: top;\n",
       "    }\n",
       "\n",
       "    .dataframe thead th {\n",
       "        text-align: right;\n",
       "    }\n",
       "</style>\n",
       "<table border=\"1\" class=\"dataframe\">\n",
       "  <thead>\n",
       "    <tr style=\"text-align: right;\">\n",
       "      <th></th>\n",
       "      <th>rating</th>\n",
       "    </tr>\n",
       "  </thead>\n",
       "  <tbody>\n",
       "    <tr>\n",
       "      <th>jp_sales</th>\n",
       "      <td>0.355286</td>\n",
       "    </tr>\n",
       "  </tbody>\n",
       "</table>\n",
       "</div>"
      ],
      "text/plain": [
       "            rating\n",
       "jp_sales  0.355286"
      ]
     },
     "metadata": {},
     "output_type": "display_data"
    }
   ],
   "source": [
    "# jp_sales (-0.01, 0.021] 20% всех строк\n",
    "\n",
    "panni = 10              # количество корзин\n",
    "qmx =  1                # верхний квантиль (данные берутся ниже значения: для 1 - смотрим все данные)\n",
    "qmn =  0                # нижний квантиль (данные берутся выше значения: для 0 - смотрим все данные)\n",
    "condition = '@cond_clmn>-0.01 and @cond_clmn<=0.021'          # условие отбора в базовых полях\n",
    "simple = False           # False - используем условие отбора в базовых полях\n",
    "top = 1                 # количество Топ корзин разбиения\n",
    "b_list = ['jp_sales']           # список базовых полей\n",
    "b_list_use = True       # использовать / нет список базовых полей\n",
    "                        # список расчетных полей\n",
    "c_list =  ['rating']\n",
    "c_list_use = True       # использовать / нет список расчетных полей\n",
    "cond_count_use = False   # True - доля в корзинах считается по отношению к количеству отфильтрованных строк\n",
    "                        # False- доля в корзинах считается по отношению к общему количеству строк\n",
    "#---------------------------------------------------------------------------\n",
    "\n",
    "fract_table_rat = condition_depend(panni,qmx,qmn,condition,simple, # таблица с интервалами (корзинами) распределений\n",
    "                     data,\n",
    "                     b_list,b_list_use,\n",
    "                     c_list,c_list_use,cond_count_use)\n",
    "cutoff = 0.0\n",
    "cond_conc_rat = condition_concentrate(cutoff,simple,top,\n",
    "                                            fract_table_rat,  # не заывать ставить правильное имя\n",
    "                                            df,b_list,b_list_use)\n",
    "\n",
    "print('Таблица с интервалами (корзинами) распределений')\n",
    "display(fract_table_rat)\n",
    "print('Концентрация значений в топ ',top,' из ',panni,' корзин')\n",
    "display(cond_conc_rat)"
   ]
  },
  {
   "cell_type": "markdown",
   "metadata": {},
   "source": [
    "Для Японии - аналогично с Европой."
   ]
  },
  {
   "cell_type": "code",
   "execution_count": 38,
   "metadata": {},
   "outputs": [
    {
     "name": "stdout",
     "output_type": "stream",
     "text": [
      "Таблица с интервалами (корзинами) распределений\n"
     ]
    },
    {
     "data": {
      "text/html": [
       "<div>\n",
       "<style scoped>\n",
       "    .dataframe tbody tr th:only-of-type {\n",
       "        vertical-align: middle;\n",
       "    }\n",
       "\n",
       "    .dataframe tbody tr th {\n",
       "        vertical-align: top;\n",
       "    }\n",
       "\n",
       "    .dataframe thead th {\n",
       "        text-align: right;\n",
       "    }\n",
       "</style>\n",
       "<table border=\"1\" class=\"dataframe\">\n",
       "  <thead>\n",
       "    <tr style=\"text-align: right;\">\n",
       "      <th></th>\n",
       "      <th>(other_sales, rating_int)</th>\n",
       "      <th>(other_sales, rating_cnt)</th>\n",
       "    </tr>\n",
       "  </thead>\n",
       "  <tbody>\n",
       "    <tr>\n",
       "      <th>0</th>\n",
       "      <td>E</td>\n",
       "      <td>0.111400</td>\n",
       "    </tr>\n",
       "    <tr>\n",
       "      <th>1</th>\n",
       "      <td>T</td>\n",
       "      <td>0.078567</td>\n",
       "    </tr>\n",
       "    <tr>\n",
       "      <th>2</th>\n",
       "      <td>E10+</td>\n",
       "      <td>0.027730</td>\n",
       "    </tr>\n",
       "    <tr>\n",
       "      <th>3</th>\n",
       "      <td>M</td>\n",
       "      <td>0.026767</td>\n",
       "    </tr>\n",
       "    <tr>\n",
       "      <th>4</th>\n",
       "      <td>EC</td>\n",
       "      <td>0.000289</td>\n",
       "    </tr>\n",
       "    <tr>\n",
       "      <th>5</th>\n",
       "      <td>K-A</td>\n",
       "      <td>0.000193</td>\n",
       "    </tr>\n",
       "    <tr>\n",
       "      <th>6</th>\n",
       "      <td>RP</td>\n",
       "      <td>0.000193</td>\n",
       "    </tr>\n",
       "    <tr>\n",
       "      <th>7</th>\n",
       "      <td>NaN</td>\n",
       "      <td>NaN</td>\n",
       "    </tr>\n",
       "    <tr>\n",
       "      <th>8</th>\n",
       "      <td>NaN</td>\n",
       "      <td>NaN</td>\n",
       "    </tr>\n",
       "    <tr>\n",
       "      <th>9</th>\n",
       "      <td>NaN</td>\n",
       "      <td>NaN</td>\n",
       "    </tr>\n",
       "  </tbody>\n",
       "</table>\n",
       "</div>"
      ],
      "text/plain": [
       "  (other_sales, rating_int)  (other_sales, rating_cnt)\n",
       "0                         E                   0.111400\n",
       "1                         T                   0.078567\n",
       "2                      E10+                   0.027730\n",
       "3                         M                   0.026767\n",
       "4                        EC                   0.000289\n",
       "5                       K-A                   0.000193\n",
       "6                        RP                   0.000193\n",
       "7                       NaN                        NaN\n",
       "8                       NaN                        NaN\n",
       "9                       NaN                        NaN"
      ]
     },
     "metadata": {},
     "output_type": "display_data"
    },
    {
     "name": "stdout",
     "output_type": "stream",
     "text": [
      "Концентрация значений в топ  1  из  10  корзин\n"
     ]
    },
    {
     "data": {
      "text/html": [
       "<div>\n",
       "<style scoped>\n",
       "    .dataframe tbody tr th:only-of-type {\n",
       "        vertical-align: middle;\n",
       "    }\n",
       "\n",
       "    .dataframe tbody tr th {\n",
       "        vertical-align: top;\n",
       "    }\n",
       "\n",
       "    .dataframe thead th {\n",
       "        text-align: right;\n",
       "    }\n",
       "</style>\n",
       "<table border=\"1\" class=\"dataframe\">\n",
       "  <thead>\n",
       "    <tr style=\"text-align: right;\">\n",
       "      <th></th>\n",
       "      <th>rating</th>\n",
       "    </tr>\n",
       "  </thead>\n",
       "  <tbody>\n",
       "    <tr>\n",
       "      <th>other_sales</th>\n",
       "      <td>0.1114</td>\n",
       "    </tr>\n",
       "  </tbody>\n",
       "</table>\n",
       "</div>"
      ],
      "text/plain": [
       "             rating\n",
       "other_sales  0.1114"
      ]
     },
     "metadata": {},
     "output_type": "display_data"
    }
   ],
   "source": [
    "# other_sales (-0.005, 0.0] 24% всех строк\n",
    "\n",
    "panni = 10              # количество корзин\n",
    "qmx =  1                # верхний квантиль (данные берутся ниже значения: для 1 - смотрим все данные)\n",
    "qmn =  0                # нижний квантиль (данные берутся выше значения: для 0 - смотрим все данные)\n",
    "condition = '@cond_clmn>-0.005 and @cond_clmn<=0.00'          # условие отбора в базовых полях\n",
    "simple = False           # False - используем условие отбора в базовых полях\n",
    "top = 1                 # количество Топ корзин разбиения\n",
    "b_list = ['other_sales']           # список базовых полей\n",
    "b_list_use = True       # использовать / нет список базовых полей\n",
    "                        # список расчетных полей\n",
    "c_list =  ['rating']\n",
    "c_list_use = True       # использовать / нет список расчетных полей\n",
    "cond_count_use = False   # True - доля в корзинах считается по отношению к количеству отфильтрованных строк\n",
    "                        # False- доля в корзинах считается по отношению к общему количеству строк\n",
    "#---------------------------------------------------------------------------\n",
    "\n",
    "fract_table_rat = condition_depend(panni,qmx,qmn,condition,simple, # таблица с интервалами (корзинами) распределений\n",
    "                     data,\n",
    "                     b_list,b_list_use,\n",
    "                     c_list,c_list_use,cond_count_use)\n",
    "cutoff = 0.0\n",
    "cond_conc_rat = condition_concentrate(cutoff,simple,top,\n",
    "                                            fract_table_rat,  # не заывать ставить правильное имя\n",
    "                                            df,b_list,b_list_use)\n",
    "\n",
    "print('Таблица с интервалами (корзинами) распределений')\n",
    "display(fract_table_rat)\n",
    "print('Концентрация значений в топ ',top,' из ',panni,' корзин')\n",
    "display(cond_conc_rat)"
   ]
  },
  {
   "cell_type": "markdown",
   "metadata": {},
   "source": [
    "Для других регионов - аналогично с Японией и Европой.\n",
    "\n",
    "Можно сделать вывод, что выделить какие то факторы в полях датасета, однозначно определяющие появление пропусков в поле rating (равно как и в поле user_score) не получается. Данные пропуски распределены в датасете достаточно равномерно.\n",
    "\n",
    "Поскольку пропуски в rating и в user_score - идут совместно, то причины их появления имеют технический характер: ошибки при копировании, расчете данных).\n",
    "\n",
    "Посмотрим последнее поле с пропусками critic_score. Отбор будем делать только тех строк, где есть пропуски в critic_score и нет пропусков в rating (поскольку пропуски в рейтинги полностью включены в множество пропусков в critic_score и поле рейтинга мы уже проанализировали)"
   ]
  },
  {
   "cell_type": "code",
   "execution_count": 39,
   "metadata": {
    "scrolled": false
   },
   "outputs": [
    {
     "name": "stdout",
     "output_type": "stream",
     "text": [
      "Таблица с интервалами (корзинами) распределений\n"
     ]
    },
    {
     "data": {
      "text/html": [
       "<div>\n",
       "<style scoped>\n",
       "    .dataframe tbody tr th:only-of-type {\n",
       "        vertical-align: middle;\n",
       "    }\n",
       "\n",
       "    .dataframe tbody tr th {\n",
       "        vertical-align: top;\n",
       "    }\n",
       "\n",
       "    .dataframe thead th {\n",
       "        text-align: right;\n",
       "    }\n",
       "</style>\n",
       "<table border=\"1\" class=\"dataframe\">\n",
       "  <thead>\n",
       "    <tr style=\"text-align: right;\">\n",
       "      <th></th>\n",
       "      <th>(critic_score, na_sales_int)</th>\n",
       "      <th>(critic_score, na_sales_cnt)</th>\n",
       "      <th>(critic_score, eu_sales_int)</th>\n",
       "      <th>(critic_score, eu_sales_cnt)</th>\n",
       "      <th>(critic_score, jp_sales_int)</th>\n",
       "      <th>(critic_score, jp_sales_cnt)</th>\n",
       "      <th>(critic_score, other_sales_int)</th>\n",
       "      <th>(critic_score, other_sales_cnt)</th>\n",
       "      <th>(critic_score, platform_int)</th>\n",
       "      <th>(critic_score, platform_cnt)</th>\n",
       "      <th>(critic_score, genre_int)</th>\n",
       "      <th>(critic_score, genre_cnt)</th>\n",
       "    </tr>\n",
       "  </thead>\n",
       "  <tbody>\n",
       "    <tr>\n",
       "      <th>0</th>\n",
       "      <td>(-0.01, 0.026]</td>\n",
       "      <td>0.018309</td>\n",
       "      <td>(-0.01, 0.002]</td>\n",
       "      <td>0.042901</td>\n",
       "      <td>(-0.01, -0.009]</td>\n",
       "      <td>0.000000</td>\n",
       "      <td>(-0.01, -0.005]</td>\n",
       "      <td>0.000000</td>\n",
       "      <td>DS</td>\n",
       "      <td>0.030396</td>\n",
       "      <td>Misc</td>\n",
       "      <td>0.018189</td>\n",
       "    </tr>\n",
       "    <tr>\n",
       "      <th>1</th>\n",
       "      <td>(0.026, 0.062]</td>\n",
       "      <td>0.017352</td>\n",
       "      <td>(0.002, 0.014]</td>\n",
       "      <td>0.008736</td>\n",
       "      <td>(-0.009, -0.008]</td>\n",
       "      <td>0.000000</td>\n",
       "      <td>(-0.005, 0.0]</td>\n",
       "      <td>0.029917</td>\n",
       "      <td>Wii</td>\n",
       "      <td>0.020643</td>\n",
       "      <td>Simulation</td>\n",
       "      <td>0.012625</td>\n",
       "    </tr>\n",
       "    <tr>\n",
       "      <th>2</th>\n",
       "      <td>(0.062, 0.098]</td>\n",
       "      <td>0.010650</td>\n",
       "      <td>(0.014, 0.026]</td>\n",
       "      <td>0.006821</td>\n",
       "      <td>(-0.008, -0.007]</td>\n",
       "      <td>0.000000</td>\n",
       "      <td>(0.0, 0.005]</td>\n",
       "      <td>0.000000</td>\n",
       "      <td>PC</td>\n",
       "      <td>0.005086</td>\n",
       "      <td>Sports</td>\n",
       "      <td>0.010172</td>\n",
       "    </tr>\n",
       "    <tr>\n",
       "      <th>3</th>\n",
       "      <td>(0.098, 0.134]</td>\n",
       "      <td>0.009813</td>\n",
       "      <td>(0.026, 0.038]</td>\n",
       "      <td>0.004129</td>\n",
       "      <td>(-0.007, -0.006]</td>\n",
       "      <td>0.000000</td>\n",
       "      <td>(0.005, 0.01]</td>\n",
       "      <td>0.028241</td>\n",
       "      <td>X360</td>\n",
       "      <td>0.004906</td>\n",
       "      <td>Action</td>\n",
       "      <td>0.009932</td>\n",
       "    </tr>\n",
       "    <tr>\n",
       "      <th>4</th>\n",
       "      <td>(0.134, 0.17]</td>\n",
       "      <td>0.004248</td>\n",
       "      <td>(0.038, 0.05]</td>\n",
       "      <td>0.002992</td>\n",
       "      <td>(-0.006, -0.005]</td>\n",
       "      <td>0.000000</td>\n",
       "      <td>(0.01, 0.015]</td>\n",
       "      <td>0.000000</td>\n",
       "      <td>PS2</td>\n",
       "      <td>0.004308</td>\n",
       "      <td>Puzzle</td>\n",
       "      <td>0.007180</td>\n",
       "    </tr>\n",
       "    <tr>\n",
       "      <th>5</th>\n",
       "      <td>(0.17, 0.206]</td>\n",
       "      <td>0.004428</td>\n",
       "      <td>(0.05, 0.062]</td>\n",
       "      <td>0.003171</td>\n",
       "      <td>(-0.005, -0.004]</td>\n",
       "      <td>0.000000</td>\n",
       "      <td>(0.015, 0.02]</td>\n",
       "      <td>0.000000</td>\n",
       "      <td>GBA</td>\n",
       "      <td>0.003291</td>\n",
       "      <td>Adventure</td>\n",
       "      <td>0.007001</td>\n",
       "    </tr>\n",
       "    <tr>\n",
       "      <th>6</th>\n",
       "      <td>(0.206, 0.242]</td>\n",
       "      <td>0.002992</td>\n",
       "      <td>(0.062, 0.074]</td>\n",
       "      <td>0.001137</td>\n",
       "      <td>(-0.004, -0.003]</td>\n",
       "      <td>0.000000</td>\n",
       "      <td>(0.02, 0.025]</td>\n",
       "      <td>0.009095</td>\n",
       "      <td>PS3</td>\n",
       "      <td>0.003171</td>\n",
       "      <td>Racing</td>\n",
       "      <td>0.006223</td>\n",
       "    </tr>\n",
       "    <tr>\n",
       "      <th>7</th>\n",
       "      <td>(0.242, 0.278]</td>\n",
       "      <td>0.001915</td>\n",
       "      <td>(0.074, 0.086]</td>\n",
       "      <td>0.000658</td>\n",
       "      <td>(-0.003, -0.002]</td>\n",
       "      <td>0.000000</td>\n",
       "      <td>(0.025, 0.03]</td>\n",
       "      <td>0.004607</td>\n",
       "      <td>3DS</td>\n",
       "      <td>0.002812</td>\n",
       "      <td>Shooter</td>\n",
       "      <td>0.002752</td>\n",
       "    </tr>\n",
       "    <tr>\n",
       "      <th>8</th>\n",
       "      <td>(0.278, 0.314]</td>\n",
       "      <td>0.001735</td>\n",
       "      <td>(0.086, 0.098]</td>\n",
       "      <td>0.000957</td>\n",
       "      <td>(-0.002, -0.001]</td>\n",
       "      <td>0.000000</td>\n",
       "      <td>(0.03, 0.035]</td>\n",
       "      <td>0.000000</td>\n",
       "      <td>PSP</td>\n",
       "      <td>0.001795</td>\n",
       "      <td>Strategy</td>\n",
       "      <td>0.002693</td>\n",
       "    </tr>\n",
       "    <tr>\n",
       "      <th>9</th>\n",
       "      <td>(0.314, 0.35]</td>\n",
       "      <td>0.001436</td>\n",
       "      <td>(0.098, 0.11]</td>\n",
       "      <td>0.001496</td>\n",
       "      <td>(-0.001, 0.0]</td>\n",
       "      <td>0.077724</td>\n",
       "      <td>(0.035, 0.04]</td>\n",
       "      <td>0.002573</td>\n",
       "      <td>PS</td>\n",
       "      <td>0.001197</td>\n",
       "      <td>Platform</td>\n",
       "      <td>0.001735</td>\n",
       "    </tr>\n",
       "  </tbody>\n",
       "</table>\n",
       "</div>"
      ],
      "text/plain": [
       "  (critic_score, na_sales_int)  (critic_score, na_sales_cnt)  \\\n",
       "0               (-0.01, 0.026]                      0.018309   \n",
       "1               (0.026, 0.062]                      0.017352   \n",
       "2               (0.062, 0.098]                      0.010650   \n",
       "3               (0.098, 0.134]                      0.009813   \n",
       "4                (0.134, 0.17]                      0.004248   \n",
       "5                (0.17, 0.206]                      0.004428   \n",
       "6               (0.206, 0.242]                      0.002992   \n",
       "7               (0.242, 0.278]                      0.001915   \n",
       "8               (0.278, 0.314]                      0.001735   \n",
       "9                (0.314, 0.35]                      0.001436   \n",
       "\n",
       "  (critic_score, eu_sales_int)  (critic_score, eu_sales_cnt)  \\\n",
       "0               (-0.01, 0.002]                      0.042901   \n",
       "1               (0.002, 0.014]                      0.008736   \n",
       "2               (0.014, 0.026]                      0.006821   \n",
       "3               (0.026, 0.038]                      0.004129   \n",
       "4                (0.038, 0.05]                      0.002992   \n",
       "5                (0.05, 0.062]                      0.003171   \n",
       "6               (0.062, 0.074]                      0.001137   \n",
       "7               (0.074, 0.086]                      0.000658   \n",
       "8               (0.086, 0.098]                      0.000957   \n",
       "9                (0.098, 0.11]                      0.001496   \n",
       "\n",
       "  (critic_score, jp_sales_int)  (critic_score, jp_sales_cnt)  \\\n",
       "0              (-0.01, -0.009]                      0.000000   \n",
       "1             (-0.009, -0.008]                      0.000000   \n",
       "2             (-0.008, -0.007]                      0.000000   \n",
       "3             (-0.007, -0.006]                      0.000000   \n",
       "4             (-0.006, -0.005]                      0.000000   \n",
       "5             (-0.005, -0.004]                      0.000000   \n",
       "6             (-0.004, -0.003]                      0.000000   \n",
       "7             (-0.003, -0.002]                      0.000000   \n",
       "8             (-0.002, -0.001]                      0.000000   \n",
       "9                (-0.001, 0.0]                      0.077724   \n",
       "\n",
       "  (critic_score, other_sales_int)  (critic_score, other_sales_cnt)  \\\n",
       "0                 (-0.01, -0.005]                         0.000000   \n",
       "1                   (-0.005, 0.0]                         0.029917   \n",
       "2                    (0.0, 0.005]                         0.000000   \n",
       "3                   (0.005, 0.01]                         0.028241   \n",
       "4                   (0.01, 0.015]                         0.000000   \n",
       "5                   (0.015, 0.02]                         0.000000   \n",
       "6                   (0.02, 0.025]                         0.009095   \n",
       "7                   (0.025, 0.03]                         0.004607   \n",
       "8                   (0.03, 0.035]                         0.000000   \n",
       "9                   (0.035, 0.04]                         0.002573   \n",
       "\n",
       "  (critic_score, platform_int)  (critic_score, platform_cnt)  \\\n",
       "0                           DS                      0.030396   \n",
       "1                          Wii                      0.020643   \n",
       "2                           PC                      0.005086   \n",
       "3                         X360                      0.004906   \n",
       "4                          PS2                      0.004308   \n",
       "5                          GBA                      0.003291   \n",
       "6                          PS3                      0.003171   \n",
       "7                          3DS                      0.002812   \n",
       "8                          PSP                      0.001795   \n",
       "9                           PS                      0.001197   \n",
       "\n",
       "  (critic_score, genre_int)  (critic_score, genre_cnt)  \n",
       "0                      Misc                   0.018189  \n",
       "1                Simulation                   0.012625  \n",
       "2                    Sports                   0.010172  \n",
       "3                    Action                   0.009932  \n",
       "4                    Puzzle                   0.007180  \n",
       "5                 Adventure                   0.007001  \n",
       "6                    Racing                   0.006223  \n",
       "7                   Shooter                   0.002752  \n",
       "8                  Strategy                   0.002693  \n",
       "9                  Platform                   0.001735  "
      ]
     },
     "metadata": {},
     "output_type": "display_data"
    },
    {
     "name": "stdout",
     "output_type": "stream",
     "text": [
      "Концентрация значений в топ  1  из  10  корзин\n"
     ]
    },
    {
     "data": {
      "text/html": [
       "<div>\n",
       "<style scoped>\n",
       "    .dataframe tbody tr th:only-of-type {\n",
       "        vertical-align: middle;\n",
       "    }\n",
       "\n",
       "    .dataframe tbody tr th {\n",
       "        vertical-align: top;\n",
       "    }\n",
       "\n",
       "    .dataframe thead th {\n",
       "        text-align: right;\n",
       "    }\n",
       "</style>\n",
       "<table border=\"1\" class=\"dataframe\">\n",
       "  <thead>\n",
       "    <tr style=\"text-align: right;\">\n",
       "      <th></th>\n",
       "      <th>na_sales</th>\n",
       "      <th>eu_sales</th>\n",
       "      <th>jp_sales</th>\n",
       "      <th>other_sales</th>\n",
       "      <th>platform</th>\n",
       "      <th>genre</th>\n",
       "    </tr>\n",
       "  </thead>\n",
       "  <tbody>\n",
       "    <tr>\n",
       "      <th>critic_score</th>\n",
       "      <td>0.018309</td>\n",
       "      <td>0.042901</td>\n",
       "      <td>0.077724</td>\n",
       "      <td>0.029917</td>\n",
       "      <td>0.030396</td>\n",
       "      <td>0.018189</td>\n",
       "    </tr>\n",
       "  </tbody>\n",
       "</table>\n",
       "</div>"
      ],
      "text/plain": [
       "              na_sales  eu_sales  jp_sales  other_sales  platform     genre\n",
       "critic_score  0.018309  0.042901  0.077724     0.029917  0.030396  0.018189"
      ]
     },
     "metadata": {},
     "output_type": "display_data"
    }
   ],
   "source": [
    "panni = 10              # количество корзин\n",
    "qmx =  0.9                # верхний квантиль (данные берутся ниже значения: для 1 - смотрим все данные)\n",
    "qmn =  0                # нижний квантиль (данные берутся выше значения: для 0 - смотрим все данные)\n",
    "condition = '@cond_clmn.isna() and rating.notna()'          # условие отбора в базовых полях\n",
    "simple = False           # False - используем условие отбора в базовых полях\n",
    "top = 1                 # количество Топ корзин разбиения\n",
    "b_list = ['critic_score']           # список базовых полей\n",
    "b_list_use = True       # использовать / нет список базовых полей\n",
    "                        # список расчетных полей\n",
    "c_list =  ['platform','genre','na_sales','eu_sales','jp_sales','other_sales']\n",
    "c_list_use = True       # использовать / нет список расчетных полей\n",
    "cond_count_use = False   # True - доля в корзинах считается по отношению к количеству отфильтрованных строк\n",
    "                        # False- доля в корзинах считается по отношению к общему количеству строк\n",
    "#---------------------------------------------------------------------------\n",
    "\n",
    "fract_table_crit = condition_depend(panni,qmx,qmn,condition,simple, # таблица с интервалами (корзинами) распределений\n",
    "                     data,\n",
    "                     b_list,b_list_use,\n",
    "                     c_list,c_list_use,cond_count_use)\n",
    "cutoff = 0.0\n",
    "cond_conc_crit = condition_concentrate(cutoff,simple,top,\n",
    "                                            fract_table_crit,  # не заывать ставить правильное имя\n",
    "                                            df,b_list,b_list_use)\n",
    "\n",
    "print('Таблица с интервалами (корзинами) распределений')\n",
    "display(fract_table_crit)\n",
    "print('Концентрация значений в топ ',top,' из ',panni,' корзин')\n",
    "display(cond_conc_crit)"
   ]
  },
  {
   "cell_type": "markdown",
   "metadata": {},
   "source": [
    "Посмотрим в обратную сторону: распределение значений оценок критиков на интервале американских продаж (-0.01, 0.026]"
   ]
  },
  {
   "cell_type": "code",
   "execution_count": 40,
   "metadata": {},
   "outputs": [
    {
     "name": "stdout",
     "output_type": "stream",
     "text": [
      "Таблица с интервалами (корзинами) распределений\n"
     ]
    },
    {
     "data": {
      "text/html": [
       "<div>\n",
       "<style scoped>\n",
       "    .dataframe tbody tr th:only-of-type {\n",
       "        vertical-align: middle;\n",
       "    }\n",
       "\n",
       "    .dataframe tbody tr th {\n",
       "        vertical-align: top;\n",
       "    }\n",
       "\n",
       "    .dataframe thead th {\n",
       "        text-align: right;\n",
       "    }\n",
       "</style>\n",
       "<table border=\"1\" class=\"dataframe\">\n",
       "  <thead>\n",
       "    <tr style=\"text-align: right;\">\n",
       "      <th></th>\n",
       "      <th>(na_sales, critic_score_int)</th>\n",
       "      <th>(na_sales, critic_score_cnt)</th>\n",
       "    </tr>\n",
       "  </thead>\n",
       "  <tbody>\n",
       "    <tr>\n",
       "      <th>0</th>\n",
       "      <td>(12.99, 20.191]</td>\n",
       "      <td>0.000550</td>\n",
       "    </tr>\n",
       "    <tr>\n",
       "      <th>1</th>\n",
       "      <td>(20.191, 27.392]</td>\n",
       "      <td>0.001429</td>\n",
       "    </tr>\n",
       "    <tr>\n",
       "      <th>2</th>\n",
       "      <td>(27.392, 34.593]</td>\n",
       "      <td>0.001649</td>\n",
       "    </tr>\n",
       "    <tr>\n",
       "      <th>3</th>\n",
       "      <td>(34.593, 41.794]</td>\n",
       "      <td>0.005056</td>\n",
       "    </tr>\n",
       "    <tr>\n",
       "      <th>4</th>\n",
       "      <td>(41.794, 48.995]</td>\n",
       "      <td>0.008244</td>\n",
       "    </tr>\n",
       "    <tr>\n",
       "      <th>5</th>\n",
       "      <td>(48.995, 56.196]</td>\n",
       "      <td>0.011981</td>\n",
       "    </tr>\n",
       "    <tr>\n",
       "      <th>6</th>\n",
       "      <td>(56.196, 63.397]</td>\n",
       "      <td>0.022972</td>\n",
       "    </tr>\n",
       "    <tr>\n",
       "      <th>7</th>\n",
       "      <td>(63.397, 70.598]</td>\n",
       "      <td>0.028468</td>\n",
       "    </tr>\n",
       "    <tr>\n",
       "      <th>8</th>\n",
       "      <td>(70.598, 77.799]</td>\n",
       "      <td>0.031326</td>\n",
       "    </tr>\n",
       "    <tr>\n",
       "      <th>9</th>\n",
       "      <td>(77.799, 85.0]</td>\n",
       "      <td>0.029787</td>\n",
       "    </tr>\n",
       "  </tbody>\n",
       "</table>\n",
       "</div>"
      ],
      "text/plain": [
       "  (na_sales, critic_score_int)  (na_sales, critic_score_cnt)\n",
       "0              (12.99, 20.191]                      0.000550\n",
       "1             (20.191, 27.392]                      0.001429\n",
       "2             (27.392, 34.593]                      0.001649\n",
       "3             (34.593, 41.794]                      0.005056\n",
       "4             (41.794, 48.995]                      0.008244\n",
       "5             (48.995, 56.196]                      0.011981\n",
       "6             (56.196, 63.397]                      0.022972\n",
       "7             (63.397, 70.598]                      0.028468\n",
       "8             (70.598, 77.799]                      0.031326\n",
       "9               (77.799, 85.0]                      0.029787"
      ]
     },
     "metadata": {},
     "output_type": "display_data"
    },
    {
     "name": "stdout",
     "output_type": "stream",
     "text": [
      "Концентрация значений в топ  1  из  10  корзин\n"
     ]
    },
    {
     "data": {
      "text/html": [
       "<div>\n",
       "<style scoped>\n",
       "    .dataframe tbody tr th:only-of-type {\n",
       "        vertical-align: middle;\n",
       "    }\n",
       "\n",
       "    .dataframe tbody tr th {\n",
       "        vertical-align: top;\n",
       "    }\n",
       "\n",
       "    .dataframe thead th {\n",
       "        text-align: right;\n",
       "    }\n",
       "</style>\n",
       "<table border=\"1\" class=\"dataframe\">\n",
       "  <thead>\n",
       "    <tr style=\"text-align: right;\">\n",
       "      <th></th>\n",
       "      <th>critic_score</th>\n",
       "    </tr>\n",
       "  </thead>\n",
       "  <tbody>\n",
       "    <tr>\n",
       "      <th>na_sales</th>\n",
       "      <td>0.031326</td>\n",
       "    </tr>\n",
       "  </tbody>\n",
       "</table>\n",
       "</div>"
      ],
      "text/plain": [
       "          critic_score\n",
       "na_sales      0.031326"
      ]
     },
     "metadata": {},
     "output_type": "display_data"
    }
   ],
   "source": [
    "panni = 10              # количество корзин\n",
    "qmx =  0.9                # верхний квантиль (данные берутся ниже значения: для 1 - смотрим все данные)\n",
    "qmn =  0                # нижний квантиль (данные берутся выше значения: для 0 - смотрим все данные)\n",
    "condition = '@cond_clmn<=0.026 and rating.notna()'          # условие отбора в базовых полях\n",
    "simple = False           # False - используем условие отбора в базовых полях\n",
    "top = 1                 # количество Топ корзин разбиения\n",
    "b_list = ['na_sales']           # список базовых полей\n",
    "b_list_use = True       # использовать / нет список базовых полей\n",
    "                        # список расчетных полей\n",
    "c_list =  ['critic_score']\n",
    "c_list_use = True       # использовать / нет список расчетных полей\n",
    "cond_count_use = False   # True - доля в корзинах считается по отношению к количеству отфильтрованных строк\n",
    "                        # False- доля в корзинах считается по отношению к общему количеству строк\n",
    "#---------------------------------------------------------------------------\n",
    "\n",
    "fract_table_crit = condition_depend(panni,qmx,qmn,condition,simple, # таблица с интервалами (корзинами) распределений\n",
    "                     data,\n",
    "                     b_list,b_list_use,\n",
    "                     c_list,c_list_use,cond_count_use)\n",
    "cutoff = 0.0\n",
    "cond_conc_crit = condition_concentrate(cutoff,simple,top,\n",
    "                                            fract_table_crit,  # не заывать ставить правильное имя\n",
    "                                            df,b_list,b_list_use)\n",
    "\n",
    "print('Таблица с интервалами (корзинами) распределений')\n",
    "display(fract_table_crit)\n",
    "print('Концентрация значений в топ ',top,' из ',panni,' корзин')\n",
    "display(cond_conc_crit)"
   ]
  },
  {
   "cell_type": "markdown",
   "metadata": {},
   "source": [
    "Оценки критиков для игр, объем продаж которых в Америке составил менее 0,026М, и по которым есть рейтинг также заметно не сконцентрированы в каком то интервале\n",
    "\n",
    "Посмотрим распределение значений оценок критиков на интервале европейских продаж до 0.002М (при наличии рейтинга)"
   ]
  },
  {
   "cell_type": "code",
   "execution_count": 41,
   "metadata": {},
   "outputs": [
    {
     "name": "stdout",
     "output_type": "stream",
     "text": [
      "Таблица с интервалами (корзинами) распределений\n"
     ]
    },
    {
     "data": {
      "text/html": [
       "<div>\n",
       "<style scoped>\n",
       "    .dataframe tbody tr th:only-of-type {\n",
       "        vertical-align: middle;\n",
       "    }\n",
       "\n",
       "    .dataframe tbody tr th {\n",
       "        vertical-align: top;\n",
       "    }\n",
       "\n",
       "    .dataframe thead th {\n",
       "        text-align: right;\n",
       "    }\n",
       "</style>\n",
       "<table border=\"1\" class=\"dataframe\">\n",
       "  <thead>\n",
       "    <tr style=\"text-align: right;\">\n",
       "      <th></th>\n",
       "      <th>(eu_sales, critic_score_int)</th>\n",
       "      <th>(eu_sales, critic_score_cnt)</th>\n",
       "    </tr>\n",
       "  </thead>\n",
       "  <tbody>\n",
       "    <tr>\n",
       "      <th>0</th>\n",
       "      <td>(18.99, 25.091]</td>\n",
       "      <td>0.000989</td>\n",
       "    </tr>\n",
       "    <tr>\n",
       "      <th>1</th>\n",
       "      <td>(25.091, 31.192]</td>\n",
       "      <td>0.003188</td>\n",
       "    </tr>\n",
       "    <tr>\n",
       "      <th>2</th>\n",
       "      <td>(31.192, 37.293]</td>\n",
       "      <td>0.007035</td>\n",
       "    </tr>\n",
       "    <tr>\n",
       "      <th>3</th>\n",
       "      <td>(37.293, 43.394]</td>\n",
       "      <td>0.009782</td>\n",
       "    </tr>\n",
       "    <tr>\n",
       "      <th>4</th>\n",
       "      <td>(43.394, 49.495]</td>\n",
       "      <td>0.013190</td>\n",
       "    </tr>\n",
       "    <tr>\n",
       "      <th>5</th>\n",
       "      <td>(49.495, 55.596]</td>\n",
       "      <td>0.014619</td>\n",
       "    </tr>\n",
       "    <tr>\n",
       "      <th>6</th>\n",
       "      <td>(55.596, 61.697]</td>\n",
       "      <td>0.023522</td>\n",
       "    </tr>\n",
       "    <tr>\n",
       "      <th>7</th>\n",
       "      <td>(61.697, 67.798]</td>\n",
       "      <td>0.027588</td>\n",
       "    </tr>\n",
       "    <tr>\n",
       "      <th>8</th>\n",
       "      <td>(67.798, 73.899]</td>\n",
       "      <td>0.029897</td>\n",
       "    </tr>\n",
       "    <tr>\n",
       "      <th>9</th>\n",
       "      <td>(73.899, 80.0]</td>\n",
       "      <td>0.023961</td>\n",
       "    </tr>\n",
       "  </tbody>\n",
       "</table>\n",
       "</div>"
      ],
      "text/plain": [
       "  (eu_sales, critic_score_int)  (eu_sales, critic_score_cnt)\n",
       "0              (18.99, 25.091]                      0.000989\n",
       "1             (25.091, 31.192]                      0.003188\n",
       "2             (31.192, 37.293]                      0.007035\n",
       "3             (37.293, 43.394]                      0.009782\n",
       "4             (43.394, 49.495]                      0.013190\n",
       "5             (49.495, 55.596]                      0.014619\n",
       "6             (55.596, 61.697]                      0.023522\n",
       "7             (61.697, 67.798]                      0.027588\n",
       "8             (67.798, 73.899]                      0.029897\n",
       "9               (73.899, 80.0]                      0.023961"
      ]
     },
     "metadata": {},
     "output_type": "display_data"
    },
    {
     "name": "stdout",
     "output_type": "stream",
     "text": [
      "Концентрация значений в топ  1  из  10  корзин\n"
     ]
    },
    {
     "data": {
      "text/html": [
       "<div>\n",
       "<style scoped>\n",
       "    .dataframe tbody tr th:only-of-type {\n",
       "        vertical-align: middle;\n",
       "    }\n",
       "\n",
       "    .dataframe tbody tr th {\n",
       "        vertical-align: top;\n",
       "    }\n",
       "\n",
       "    .dataframe thead th {\n",
       "        text-align: right;\n",
       "    }\n",
       "</style>\n",
       "<table border=\"1\" class=\"dataframe\">\n",
       "  <thead>\n",
       "    <tr style=\"text-align: right;\">\n",
       "      <th></th>\n",
       "      <th>critic_score</th>\n",
       "    </tr>\n",
       "  </thead>\n",
       "  <tbody>\n",
       "    <tr>\n",
       "      <th>eu_sales</th>\n",
       "      <td>0.029897</td>\n",
       "    </tr>\n",
       "  </tbody>\n",
       "</table>\n",
       "</div>"
      ],
      "text/plain": [
       "          critic_score\n",
       "eu_sales      0.029897"
      ]
     },
     "metadata": {},
     "output_type": "display_data"
    }
   ],
   "source": [
    "panni = 10              # количество корзин\n",
    "qmx =  0.9                # верхний квантиль (данные берутся ниже значения: для 1 - смотрим все данные)\n",
    "qmn =  0                # нижний квантиль (данные берутся выше значения: для 0 - смотрим все данные)\n",
    "condition = '@cond_clmn<=0.002 and rating.notna()'          # условие отбора в базовых полях\n",
    "simple = False           # False - используем условие отбора в базовых полях\n",
    "top = 1                 # количество Топ корзин разбиения\n",
    "b_list = ['eu_sales']           # список базовых полей\n",
    "b_list_use = True       # использовать / нет список базовых полей\n",
    "                        # список расчетных полей\n",
    "c_list =  ['critic_score']\n",
    "c_list_use = True       # использовать / нет список расчетных полей\n",
    "cond_count_use = False   # True - доля в корзинах считается по отношению к количеству отфильтрованных строк\n",
    "                        # False- доля в корзинах считается по отношению к общему количеству строк\n",
    "#---------------------------------------------------------------------------\n",
    "\n",
    "fract_table_crit = condition_depend(panni,qmx,qmn,condition,simple, # таблица с интервалами (корзинами) распределений\n",
    "                     data,\n",
    "                     b_list,b_list_use,\n",
    "                     c_list,c_list_use,cond_count_use)\n",
    "cutoff = 0.0\n",
    "cond_conc_crit = condition_concentrate(cutoff,simple,top,\n",
    "                                            fract_table_crit,  # не заывать ставить правильное имя\n",
    "                                            df,b_list,b_list_use)\n",
    "\n",
    "print('Таблица с интервалами (корзинами) распределений')\n",
    "display(fract_table_crit)\n",
    "print('Концентрация значений в топ ',top,' из ',panni,' корзин')\n",
    "display(cond_conc_crit)"
   ]
  },
  {
   "cell_type": "markdown",
   "metadata": {},
   "source": [
    "Аналогично для Европы (также как и для Японии и других регионов- дублировать код не стал)\n",
    "\n",
    "Таким образом можно сделать вывод, что дальнейшая явная замена пропусков (на основе закономерности в данных) в этом датасете невозможна, кроме сделанной выше.\n",
    "\n",
    "Заменять пропуски на медианные значения, считаю неправильным ввиду отсутсвия дополнительных критериев классификации игр - для возможности расчета статистических метрик по узкой группе. Расчет же метрик по всей таблице равносилен просто замене пропусков на условные значения вроде \"-1\". Поэтому оставшиеся пропуски оставляю. При необходимости не будем учитывать пропуски в расчетах с помощью фильтрации"
   ]
  },
  {
   "cell_type": "markdown",
   "metadata": {},
   "source": [
    "\n",
    "<div class=\"alert alert-success\">\n",
    "<b>Комментарий ревьюера:</b>☀️Честно говоря, впервые вижу такой фундаментальный и даже научный подход к обработке пропусков. Согласна с тобой !</div>"
   ]
  },
  {
   "cell_type": "markdown",
   "metadata": {},
   "source": [
    "<div class=\"alert alert-info\"> <b>Комментарий студента:</b> Ну вообще то ДатаСайнс - это НАУКА о данных. Не знаю кто и как- но я здесь наукой занимаюсь! )) </div>"
   ]
  },
  {
   "cell_type": "markdown",
   "metadata": {},
   "source": [
    "\n",
    "<div class=\"alert alert-success\">\n",
    "<b>Комментарий ревьюера v2.0:</b>☀️Я имела в виду, что ты подошел к этому моменту очень основательно, это похвально)</div>"
   ]
  },
  {
   "cell_type": "markdown",
   "metadata": {},
   "source": [
    "## Посчитайте суммарные продажи во всех регионах и запишите их в отдельный столбец."
   ]
  },
  {
   "cell_type": "code",
   "execution_count": 42,
   "metadata": {},
   "outputs": [],
   "source": [
    "data['comm_sales']=(data['na_sales']+data['eu_sales']+\n",
    "                    data['jp_sales']+data['other_sales'])"
   ]
  },
  {
   "cell_type": "markdown",
   "metadata": {},
   "source": [
    "\n",
    "<div class=\"alert alert-warning\">\n",
    "<b>Комментарий ревьюера:</b>☀️Хорошо, еще можно использовать \n",
    "\n",
    "    games[['na_sales','eu_sales','jp_sales', 'other_sales']].sum(axis = 1)\n",
    "</div>\n"
   ]
  },
  {
   "cell_type": "markdown",
   "metadata": {},
   "source": [
    "# Шаг 3.\n",
    "Проведите исследовательский анализ данных"
   ]
  },
  {
   "cell_type": "code",
   "execution_count": 43,
   "metadata": {},
   "outputs": [
    {
     "name": "stdout",
     "output_type": "stream",
     "text": [
      "<class 'pandas.core.frame.DataFrame'>\n",
      "Int64Index: 16713 entries, 0 to 16712\n",
      "Data columns (total 12 columns):\n",
      " #   Column           Non-Null Count  Dtype  \n",
      "---  ------           --------------  -----  \n",
      " 0   name             16713 non-null  object \n",
      " 1   platform         16713 non-null  object \n",
      " 2   year_of_release  16567 non-null  Int64  \n",
      " 3   genre            16713 non-null  object \n",
      " 4   na_sales         16713 non-null  float64\n",
      " 5   eu_sales         16713 non-null  float64\n",
      " 6   jp_sales         16713 non-null  float64\n",
      " 7   other_sales      16713 non-null  float64\n",
      " 8   critic_score     9098 non-null   float64\n",
      " 9   user_score       10443 non-null  float64\n",
      " 10  rating           10386 non-null  object \n",
      " 11  comm_sales       16713 non-null  float64\n",
      "dtypes: Int64(1), float64(7), object(4)\n",
      "memory usage: 2.2+ MB\n"
     ]
    }
   ],
   "source": [
    "data[base_list + ['comm_sales']].info()"
   ]
  },
  {
   "cell_type": "markdown",
   "metadata": {},
   "source": [
    "## Посмотрите, сколько игр выпускалось в разные годы. Важны ли данные за все периоды?"
   ]
  },
  {
   "cell_type": "code",
   "execution_count": 44,
   "metadata": {
    "scrolled": false
   },
   "outputs": [
    {
     "data": {
      "text/plain": [
       "[year_of_release\n",
       " 1980       9\n",
       " 1981      46\n",
       " 1982      36\n",
       " 1983      17\n",
       " 1984      14\n",
       " 1985      14\n",
       " 1986      21\n",
       " 1987      16\n",
       " 1988      15\n",
       " 1989      17\n",
       " 1990      16\n",
       " 1991      41\n",
       " 1992      43\n",
       " 1993      60\n",
       " 1994     121\n",
       " 1995     219\n",
       " 1996     263\n",
       " 1997     289\n",
       " 1998     379\n",
       " 1999     339\n",
       " 2000     350\n",
       " 2001     484\n",
       " 2002     845\n",
       " 2003     785\n",
       " 2004     765\n",
       " 2005     947\n",
       " 2006    1020\n",
       " 2007    1202\n",
       " 2008    1440\n",
       " 2009    1431\n",
       " 2010    1271\n",
       " 2011    1153\n",
       " 2012     662\n",
       " 2013     547\n",
       " 2014     582\n",
       " 2015     606\n",
       " 2016     502\n",
       " Name: name, dtype: int64]"
      ]
     },
     "metadata": {},
     "output_type": "display_data"
    },
    {
     "data": {
      "text/plain": [
       "<AxesSubplot:xlabel='year_of_release'>"
      ]
     },
     "execution_count": 44,
     "metadata": {},
     "output_type": "execute_result"
    },
    {
     "data": {
      "image/png": "[encoded data removed]",
      "text/plain": [
       "<Figure size 432x288 with 1 Axes>"
      ]
     },
     "metadata": {
      "needs_background": "light"
     },
     "output_type": "display_data"
    }
   ],
   "source": [
    "display([data.groupby('year_of_release')['name'].count()])\n",
    "data.groupby('year_of_release')['name'].count().plot()"
   ]
  },
  {
   "cell_type": "markdown",
   "metadata": {},
   "source": [
    "Данные до 1994 кратно меньше значений последующие года. Поэтому их можно считать их не важными для анализа"
   ]
  },
  {
   "cell_type": "markdown",
   "metadata": {},
   "source": [
    "\n",
    "<div class=\"alert alert-success\">\n",
    "<b>Комментарий ревьюера:</b>☀️Это правильно</div>"
   ]
  },
  {
   "cell_type": "markdown",
   "metadata": {
    "scrolled": false
   },
   "source": [
    "## Посмотрите, как менялись продажи по платформам.\n",
    "Выберите платформы с наибольшими суммарными продажами и постройте распределение по годам. За какой характерный срок появляются новые и исчезают старые платформы?"
   ]
  },
  {
   "cell_type": "code",
   "execution_count": 45,
   "metadata": {},
   "outputs": [
    {
     "data": {
      "text/plain": [
       "array(['Wii', 'NES', 'GB', 'DS', 'X360', 'PS3', 'PS2', 'SNES', 'GBA',\n",
       "       'PS4', '3DS', 'N64', 'PS', 'XB', 'PC', '2600', 'PSP', 'XOne',\n",
       "       'WiiU', 'GC', 'GEN', 'DC', 'PSV', 'SAT', 'SCD', 'WS', 'NG', 'TG16',\n",
       "       '3DO', 'GG', 'PCFX'], dtype=object)"
      ]
     },
     "metadata": {},
     "output_type": "display_data"
    },
    {
     "name": "stdout",
     "output_type": "stream",
     "text": [
      "Общее количество платформ равно:  31\n"
     ]
    }
   ],
   "source": [
    "# посмотрим список платформ\n",
    "display(data['platform'].unique())\n",
    "def plat_list(data):\n",
    "    platform_list = data['platform'].unique().tolist()\n",
    "    return platform_list\n",
    "platform_list = plat_list(data)\n",
    "print('Общее количество платформ равно: ',data['platform'].nunique())"
   ]
  },
  {
   "cell_type": "code",
   "execution_count": 46,
   "metadata": {},
   "outputs": [
    {
     "data": {
      "image/png": "[encoded data removed]",
      "text/plain": [
       "<Figure size 432x288 with 1 Axes>"
      ]
     },
     "metadata": {},
     "output_type": "display_data"
    }
   ],
   "source": [
    "# посмотрим на доли в общих продажах\n",
    "data.groupby('platform')['comm_sales'].sum().sort_values().plot(kind='pie');"
   ]
  },
  {
   "cell_type": "markdown",
   "metadata": {},
   "source": [
    "Отберем список крупнейших (возмем 3/4 \"пирога\"):"
   ]
  },
  {
   "cell_type": "code",
   "execution_count": 47,
   "metadata": {
    "scrolled": false
   },
   "outputs": [
    {
     "data": {
      "image/png": "[encoded data removed]",
      "text/plain": [
       "<Figure size 432x288 with 1 Axes>"
      ]
     },
     "metadata": {
      "needs_background": "light"
     },
     "output_type": "display_data"
    }
   ],
   "source": [
    "cutoff = 0.75 # доля, которую занимают крупнейшие платформы\n",
    "def largest_platform_sales(cutoff,data):\n",
    "    platform = (data.groupby('platform')['comm_sales'].sum().\n",
    "                sort_values().to_frame())\n",
    "    platform['cum_sum']=platform['comm_sales'].cumsum()\n",
    "    total_sales = platform['comm_sales'].sum()\n",
    "    largest = platform[platform['cum_sum']>(1-cutoff)*total_sales].index.tolist()\n",
    "\n",
    "    platform_sales = data.pivot_table(index='year_of_release',\n",
    "                     columns='platform',values='comm_sales',aggfunc='sum')\n",
    "    platform_sales['largest_sum']=platform_sales[largest].sum(axis=1)\n",
    "    # Оценим время жизни платформ\n",
    "    for clmn in platform_list:\n",
    "        year_min = platform_sales[platform_sales[clmn]>0].index.min()\n",
    "        year_max = platform_sales[platform_sales[clmn]>0].index.max()\n",
    "        year_high = platform_sales[platform_sales[clmn]==platform_sales[clmn].max()].index\n",
    "        life_time = year_max-year_min\n",
    "        rise_time = year_high-year_min\n",
    "        fall_time = year_max-year_high\n",
    "        platform.loc[clmn,'year_min']=year_min\n",
    "        platform.loc[clmn,'year_max']=year_max\n",
    "        platform.loc[clmn,'life_time']=life_time\n",
    "        platform.loc[clmn,'rise_time']=rise_time\n",
    "        platform.loc[clmn,'fall_time']=fall_time\n",
    "    return largest, platform, platform_sales\n",
    "largest, platform, platform_sales = largest_platform_sales(cutoff,data)\n",
    "#display(platform_sales[platform_sales['largest_sum']>0][largest])\n",
    "# Построим график\n",
    "platform_sales[platform_sales['largest_sum']>0][largest].plot();"
   ]
  },
  {
   "cell_type": "markdown",
   "metadata": {},
   "source": [
    "Все платформы имеют характерные периоды взлетов и падений продаж. Только ПиСи не умирает.\n",
    "Основная активность приходится на период с 2000 до 2012-2013 гг. Очевидно это (\"умирание\" рынка после 2013г) связано с появлением больших и достаточно мощных смартфонов и игр на них, а также ростом популярности браузерных игр (в т.ч. внутри соц.сетей)"
   ]
  },
  {
   "cell_type": "code",
   "execution_count": 48,
   "metadata": {},
   "outputs": [
    {
     "name": "stdout",
     "output_type": "stream",
     "text": [
      "Статистика по времении жизни ВСЕХ платформ:\n",
      "Минимальное время:  0.0\n",
      "Максимальное время:  31.0\n",
      "Медианное время:  7.0\n",
      "-------------------------------------------------------------\n",
      "Статистика по времении жизни КРУПНЕЙШИХ (75% рынка) платформ:\n",
      "Минимальное время:  3.0\n",
      "Максимальное время:  31.0\n",
      "Медианное время:  11.0\n",
      "-------------------------------------------------------------\n",
      "Статистика по времении жизни КРУПНЕЙШИХ (50% рынка) платформ:\n",
      "Минимальное время:  10.0\n",
      "Максимальное время:  28.0\n",
      "Медианное время:  11.0\n"
     ]
    }
   ],
   "source": [
    "largest, platform, platform_sales = largest_platform_sales(0.75,data)\n",
    "print('Статистика по времении жизни ВСЕХ платформ:')\n",
    "print('Минимальное время: ',platform['life_time'].min())\n",
    "print('Максимальное время: ',platform['life_time'].max())\n",
    "print('Медианное время: ',platform['life_time'].median())\n",
    "print('-------------------------------------------------------------')\n",
    "print('Статистика по времении жизни КРУПНЕЙШИХ (75% рынка) платформ:')\n",
    "print('Минимальное время: ',platform.loc[largest]['life_time'].min())\n",
    "print('Максимальное время: ',platform.loc[largest]['life_time'].max())\n",
    "print('Медианное время: ',platform.loc[largest]['life_time'].median())\n",
    "print('-------------------------------------------------------------')\n",
    "largest, platform, platform_sales = largest_platform_sales(0.5,data)\n",
    "print('Статистика по времении жизни КРУПНЕЙШИХ (50% рынка) платформ:')\n",
    "print('Минимальное время: ',platform.loc[largest]['life_time'].min())\n",
    "print('Максимальное время: ',platform.loc[largest]['life_time'].max())\n",
    "print('Медианное время: ',platform.loc[largest]['life_time'].median())"
   ]
  },
  {
   "cell_type": "markdown",
   "metadata": {},
   "source": [
    "Успешные (крупнейшие) платформы живут дольше медианы рынка на 57%"
   ]
  },
  {
   "cell_type": "markdown",
   "metadata": {},
   "source": [
    "\n",
    "<div class=\"alert alert-danger\">\n",
    "<b>Комментарий ревьюера:</b>Здесь стоит посмотреть на продажи по нескольким платформам (более подробно). Это поможет сделать точечные выводы</div>"
   ]
  },
  {
   "cell_type": "markdown",
   "metadata": {},
   "source": [
    "<div class=\"alert alert-info\"> <b>Комментарий студента:</b> Уважаемый ревьюер, прошу обратить внимание на формулировку задачи: \"Выберите платформы с наибольшими суммарными продажами и постройте распределение по годам. За какой характерный срок появляются новые и исчезают старые платформы?\"\n",
    "\n",
    "Именно это и сделано, причем с возможностью варировать \"наибольшесть\". Для меня, конечно, не сложно рассмотреть каждый ряд данных отдельно, но что мы таким образом получим дополнительно? Ведь - характерное время жизни - это и есть медиана или среднее по лайф циклам не так ли? Какие точечные выводы вы хотите увидеть дополнительно? Время активной жизни (на пике)? )) </div>"
   ]
  },
  {
   "cell_type": "markdown",
   "metadata": {},
   "source": [
    "\n",
    "<div class=\"alert alert-danger\">\n",
    "<b>Комментарий ревьюера v2.0:</b>Спасибо за аргументацию.  Прошу обратить внимание на формулировку \"Посмотрите, как менялись продажи по платформам. Выберите платформы с наибольшими суммарными продажами и постройте распределение по годам. За какой характерный срок появляются новые и исчезают старые платформы?\". Имеет смысл посмотреть по нескольким платформам на продажи, не по всем конечно, но по топу прибыльных </div>"
   ]
  },
  {
   "cell_type": "markdown",
   "metadata": {},
   "source": [
    "<div class=\"alert alert-info\"> <b>Комментарий студента /версия2:</b>  Ок. Давайте еще раз, по порядку:\n",
    "Посмотрим, как менялись продажи по платформам:</div>"
   ]
  },
  {
   "cell_type": "code",
   "execution_count": 49,
   "metadata": {
    "scrolled": false
   },
   "outputs": [
    {
     "data": {
      "image/png": "[encoded data removed]",
      "text/plain": [
       "<Figure size 432x288 with 1 Axes>"
      ]
     },
     "metadata": {
      "needs_background": "light"
     },
     "output_type": "display_data"
    }
   ],
   "source": [
    "cutoff = 1\n",
    "largest, platform, platform_sales = largest_platform_sales(cutoff,data)\n",
    "platform_sales[platform_sales['largest_sum']>0][largest].plot();"
   ]
  },
  {
   "cell_type": "markdown",
   "metadata": {},
   "source": [
    "<div class=\"alert alert-info\"> Посмотрели. Выше  я сразу посмотрел 75% рынка. Здесь - 100%.\n",
    "\n",
    "Следующая часть \"Выберите платформы с наибольшими суммарными продажами и постройте распределение по годам\" </div>"
   ]
  },
  {
   "cell_type": "code",
   "execution_count": 50,
   "metadata": {},
   "outputs": [
    {
     "data": {
      "image/png": "[encoded data removed]",
      "text/plain": [
       "<Figure size 432x288 with 1 Axes>"
      ]
     },
     "metadata": {
      "needs_background": "light"
     },
     "output_type": "display_data"
    }
   ],
   "source": [
    "cutoff = 0.75\n",
    "largest, platform, platform_sales = largest_platform_sales(cutoff,data)\n",
    "platform_sales[platform_sales['largest_sum']>0][largest].plot();"
   ]
  },
  {
   "cell_type": "markdown",
   "metadata": {},
   "source": [
    "<div class=\"alert alert-info\"> Взяли 75% крупнейших игроков рынка. Построили распределение по годам.\n",
    "Посмотрим еще более узкий сегмент: крупнейшие 50% рынка. </div>"
   ]
  },
  {
   "cell_type": "code",
   "execution_count": 51,
   "metadata": {},
   "outputs": [
    {
     "data": {
      "image/png": "[encoded data removed]",
      "text/plain": [
       "<Figure size 432x288 with 1 Axes>"
      ]
     },
     "metadata": {
      "needs_background": "light"
     },
     "output_type": "display_data"
    }
   ],
   "source": [
    "cutoff = 0.5\n",
    "largest, platform, platform_sales = largest_platform_sales(cutoff,data)\n",
    "platform_sales[platform_sales['largest_sum']>0][largest].plot();"
   ]
  },
  {
   "cell_type": "markdown",
   "metadata": {},
   "source": [
    "<div class=\"alert alert-info\"> Мы и посмотрели несколько крупнейших. Посмотрели на продажи. Динамика по годам.\n",
    "\n",
    "Если это не то, то что требуется? </div>"
   ]
  },
  {
   "cell_type": "markdown",
   "metadata": {},
   "source": [
    "\n",
    "<div class=\"alert alert-success\">\n",
    "<b>Комментарий ревьюера v3.0:</b>☀️Спасибо за то, что более подробно посмотрел</div>"
   ]
  },
  {
   "cell_type": "markdown",
   "metadata": {},
   "source": [
    "<div class=\"alert alert-info\"> Следующий подпункт: \"за какой характерный срок появляются новые и исчезают старые платформы?\" </div>"
   ]
  },
  {
   "cell_type": "code",
   "execution_count": 52,
   "metadata": {},
   "outputs": [
    {
     "data": {
      "text/html": [
       "<div>\n",
       "<style scoped>\n",
       "    .dataframe tbody tr th:only-of-type {\n",
       "        vertical-align: middle;\n",
       "    }\n",
       "\n",
       "    .dataframe tbody tr th {\n",
       "        vertical-align: top;\n",
       "    }\n",
       "\n",
       "    .dataframe thead th {\n",
       "        text-align: right;\n",
       "    }\n",
       "</style>\n",
       "<table border=\"1\" class=\"dataframe\">\n",
       "  <thead>\n",
       "    <tr style=\"text-align: right;\">\n",
       "      <th></th>\n",
       "      <th>life_time_1</th>\n",
       "      <th>rise_time_1</th>\n",
       "      <th>fall_time_1</th>\n",
       "      <th>life_time_0.75</th>\n",
       "      <th>rise_time_0.75</th>\n",
       "      <th>fall_time_0.75</th>\n",
       "      <th>life_time_0.5</th>\n",
       "      <th>rise_time_0.5</th>\n",
       "      <th>fall_time_0.5</th>\n",
       "    </tr>\n",
       "  </thead>\n",
       "  <tbody>\n",
       "    <tr>\n",
       "      <th>min</th>\n",
       "      <td>0.00000</td>\n",
       "      <td>0.000000</td>\n",
       "      <td>0.000000</td>\n",
       "      <td>3.0</td>\n",
       "      <td>2.0</td>\n",
       "      <td>1.0</td>\n",
       "      <td>10.0</td>\n",
       "      <td>3.0</td>\n",
       "      <td>5.0</td>\n",
       "    </tr>\n",
       "    <tr>\n",
       "      <th>max</th>\n",
       "      <td>31.00000</td>\n",
       "      <td>26.000000</td>\n",
       "      <td>21.000000</td>\n",
       "      <td>31.0</td>\n",
       "      <td>26.0</td>\n",
       "      <td>9.0</td>\n",
       "      <td>28.0</td>\n",
       "      <td>22.0</td>\n",
       "      <td>7.0</td>\n",
       "    </tr>\n",
       "    <tr>\n",
       "      <th>median</th>\n",
       "      <td>7.00000</td>\n",
       "      <td>2.000000</td>\n",
       "      <td>5.000000</td>\n",
       "      <td>11.0</td>\n",
       "      <td>4.0</td>\n",
       "      <td>5.5</td>\n",
       "      <td>11.0</td>\n",
       "      <td>5.0</td>\n",
       "      <td>6.0</td>\n",
       "    </tr>\n",
       "    <tr>\n",
       "      <th>mean</th>\n",
       "      <td>8.16129</td>\n",
       "      <td>3.451613</td>\n",
       "      <td>4.709677</td>\n",
       "      <td>13.2</td>\n",
       "      <td>7.8</td>\n",
       "      <td>5.4</td>\n",
       "      <td>14.2</td>\n",
       "      <td>8.0</td>\n",
       "      <td>6.2</td>\n",
       "    </tr>\n",
       "  </tbody>\n",
       "</table>\n",
       "</div>"
      ],
      "text/plain": [
       "        life_time_1  rise_time_1  fall_time_1  life_time_0.75  rise_time_0.75  \\\n",
       "min         0.00000     0.000000     0.000000             3.0             2.0   \n",
       "max        31.00000    26.000000    21.000000            31.0            26.0   \n",
       "median      7.00000     2.000000     5.000000            11.0             4.0   \n",
       "mean        8.16129     3.451613     4.709677            13.2             7.8   \n",
       "\n",
       "        fall_time_0.75  life_time_0.5  rise_time_0.5  fall_time_0.5  \n",
       "min                1.0           10.0            3.0            5.0  \n",
       "max                9.0           28.0           22.0            7.0  \n",
       "median             5.5           11.0            5.0            6.0  \n",
       "mean               5.4           14.2            8.0            6.2  "
      ]
     },
     "execution_count": 52,
     "metadata": {},
     "output_type": "execute_result"
    }
   ],
   "source": [
    "stat_list = ['min','max','median','mean']\n",
    "life_time = pd.DataFrame(index=stat_list)\n",
    "clmn_list = ['life_time','rise_time','fall_time']\n",
    "market_share = [1,0.75,0.5]\n",
    "\n",
    "for m in market_share:\n",
    "    largest, platform, platform_sales = largest_platform_sales(m,data)\n",
    "    for clmn in clmn_list:\n",
    "        clmn_l = clmn+'_'+str(m)\n",
    "        life_time.loc['min',clmn_l]=platform.loc[largest][clmn].min()\n",
    "        life_time.loc['max',clmn_l]=platform.loc[largest][clmn].max()\n",
    "        life_time.loc['median',clmn_l]=platform.loc[largest][clmn].median()\n",
    "        life_time.loc['mean',clmn_l]=platform.loc[largest][clmn].mean()\n",
    "\n",
    "life_time\n",
    "\n"
   ]
  },
  {
   "cell_type": "markdown",
   "metadata": {},
   "source": [
    "<div class=\"alert alert-info\"> Добавил еще среднее время жизни. Также добавил данные по времени роста продаж до максимума и время снижения. Мы видим характерные данные как по всему рынку, так и по сегменту крупнейших платформ в двух срезах: 75% и 50% крупнейших компаний\n",
    "\n",
    "К данным выше добавим то, что:\n",
    "\n",
    "- все платформы растут в реднем 5.2 года, снижаются - 4.9\n",
    "- крупнейшие 75% рынка растут в среднем 7.8 года, снижаются - 5.4\n",
    "- крупнейшие 50% рынка растут в среднем 8 лет, снижаются - 6.2\n",
    "\n",
    "    </div>"
   ]
  },
  {
   "cell_type": "markdown",
   "metadata": {},
   "source": [
    "\n",
    "<div class=\"alert alert-success\">\n",
    "<b>Комментарий ревьюера v3.0:</b>☀️Хорошо. Можем обратить внимание, что в среднем продажи по платформам могут упасть за 4-6 лет</div>"
   ]
  },
  {
   "cell_type": "markdown",
   "metadata": {},
   "source": [
    "## Возьмите данные за соответствующий актуальный период.\n",
    "Актуальный период определите самостоятельно в результате исследования предыдущих вопросов. Основной фактор — эти данные помогут построить прогноз на 2017 год."
   ]
  },
  {
   "cell_type": "markdown",
   "metadata": {},
   "source": [
    "Период наибольшей активности определили выше: с 2000-2002 до 2012-2013. Это соответсвует медианной длительности  жизни платформ. Но поскольку нам нам необходимо делать прогноз на 2017 г. Возьмем все данные старше 2002 г."
   ]
  },
  {
   "cell_type": "markdown",
   "metadata": {},
   "source": [
    "\n",
    "<div class=\"alert alert-danger\">\n",
    "<b>Комментарий ревьюера:</b>Для целей прогнозирования продаж на следующий год даже в традиционных бизнесах редко берут данные более чем за 2-3 года. А в такой динамично меняющейся индустрии, как компьютерные игры и вовсе не стоит брать слишком большой временной интервал - иначе обязательно захватишь уже отжившие тренды. Но и слишком короткий период тоже брать не стоит</div>"
   ]
  },
  {
   "cell_type": "markdown",
   "metadata": {},
   "source": [
    "<div class=\"alert alert-info\"> <b>Комментарий студента:</b> Вы знаете?- я попробовал взять только последние 3 года. Мне не понравилось. Мы таким образом ниикак не улучшаем качество анализа (применительно к агг=реггированным годовым данным), наоборот отбрасываем значительную часть важной информации. Я поставил переменную year_cutoff. Поставьте туда 2014 и вы получите куцые ряды и убогие графики, на которых легко сделать ошибочные выводы. Считаю, что сфокусировать анализ на послених 2-3 годах мы можем всегда при наличии данных. Но вот расширить взгляд и получить более общие выводы на жестко обрезанных данных - вряд ли получится. Согласен, что не имеет смысла брать данные \"незрелого рынка\" до 2000-х. И также согласен, что для анализа неаггрегированных годовых (а включая все \"внутренние\" данные) такое обрезание имеет смысл- это будет сделано при проверке стат.гипотез в конце работы.\n",
    "\n",
    "Про \"отжившие тренды\": считаю, как раз они и формируют статистику по лайф-циклам платформ. Как мы видим паттерны динамики продаж у всех платформ (не одногодок) одинаковые. Ну и понятно, что в целом мы имеем дело с \"отжишими трендами\", т.к. все платформы фактически \"умерли\". Поэтому, может быть вариант с \"захватить отжившие тренды\" не так уж и плох, а наоборот- это улучшит качество анализа?\n",
    "    \n",
    "Кроме того выбор анализируемого периода в размере 2-3 лет при работе с годовыми данными означает, что <b> мы будем работать с рядами (выборками) длинной 2-3 значения!!!</b>. Вообще говоря, мы не можем применять к таким рядам статистические (не говоря уже про эконометрические) модели.\n",
    "\n",
    "Поэтому еще раз - для анализа лайф-циклов оставил данные с 2003 г., Для проверки стат гипотез взял данные с 2014 г.</div>"
   ]
  },
  {
   "cell_type": "markdown",
   "metadata": {},
   "source": [
    "\n",
    "<div class=\"alert alert-danger\">\n",
    "<b>Комментарий ревьюера v2.0:</b>Во-первых, данных с 2014 года достаточно для анализа. Во-вторых, прогноз на 2017 год - брать данные за 15 лет до этого - нерационально. Если посмотреть на продажи по конкретным платформам, можно наблюдать, что даже за 10 лет продажи падают, поэтому такой большой период некорректно брать для построения прогноза.</div>"
   ]
  },
  {
   "cell_type": "markdown",
   "metadata": {},
   "source": [
    "<div class=\"alert alert-info\"> <b>Комментарий студента /версия2: </b> Я взял данные с 2014 г. в пункте о проверке гипотез, где это действительно изменило результат. Но я не увидел там ваш комментарий.\n",
    "    \n",
    "В пунктах 9-13, насколько я понял, ранее вы выразили свое согласие с моим анализом, произведенным на данных с 2002 г. Поэтому данные в этих пунктах не резал.\n",
    "    \n",
    "Также в п.13 не увидел ваш комментарий относительно внесенных добавлений\n",
    "    </div>"
   ]
  },
  {
   "cell_type": "markdown",
   "metadata": {},
   "source": [
    "\n",
    "<div class=\"alert alert-danger\">\n",
    "<b>Комментарий ревьюера v3.0:</b> Ранее я оставила комментарий о том, что для прогнозирования чаще всего берут период 2-3 года. Красный комментарий свидетельствует о замечании, которое нужно исправить. Прошу прощения, что была не совсем \"прямой\" в своем комментарии. Для актуального периода лучше взять временной промежуток с 2014 года.</div>"
   ]
  },
  {
   "cell_type": "markdown",
   "metadata": {},
   "source": [
    "<div class=\"alert alert-info\"> <b>Комментарий студента /версия3: </b> ОК. Посмотрим на данных с 2014 г\n",
    "    </div>"
   ]
  },
  {
   "cell_type": "markdown",
   "metadata": {},
   "source": [
    "\n",
    "<div class=\"alert alert-success\">\n",
    "<b>Комментарий ревьюера v4.0:</b> Спасибо большое за правки!</div>"
   ]
  },
  {
   "cell_type": "markdown",
   "metadata": {},
   "source": [
    "## Не учитывайте в работе данные за предыдущие годы."
   ]
  },
  {
   "cell_type": "code",
   "execution_count": 195,
   "metadata": {},
   "outputs": [],
   "source": [
    "year_cutoff = 2014\n",
    "data_cut = data[data['year_of_release']>=year_cutoff]\n",
    "platform_list = plat_list(data_cut)\n",
    "#platform_list"
   ]
  },
  {
   "cell_type": "markdown",
   "metadata": {},
   "source": [
    "## Какие платформы:\n",
    "- лидируют по продажам,\n",
    "- растут или падают?\n",
    "\n",
    "Выберите несколько потенциально прибыльных платформ"
   ]
  },
  {
   "cell_type": "code",
   "execution_count": 196,
   "metadata": {},
   "outputs": [
    {
     "data": {
      "image/png": "[encoded data removed]",
      "text/plain": [
       "<Figure size 432x288 with 1 Axes>"
      ]
     },
     "metadata": {
      "needs_background": "light"
     },
     "output_type": "display_data"
    }
   ],
   "source": [
    "# Посмотрим 100% рынка\n",
    "cutoff = 1\n",
    "largest, platform, platform_sales = largest_platform_sales(cutoff,data_cut)\n",
    "# Построим график\n",
    "plt.plot(platform_sales[platform_sales['largest_sum']>0][largest]);\n",
    "plt.legend(platform_list,bbox_to_anchor=(1, 1.05));"
   ]
  },
  {
   "cell_type": "markdown",
   "metadata": {},
   "source": [
    "Визуально понятно, что динамика по всем платформам схожая - взлет, кульминация, спад. При этом часть платформ к текущему моменту (2016 г.) прекратили свое существование"
   ]
  },
  {
   "cell_type": "code",
   "execution_count": 197,
   "metadata": {},
   "outputs": [
    {
     "data": {
      "image/png": "[encoded data removed]",
      "text/plain": [
       "<Figure size 432x288 with 1 Axes>"
      ]
     },
     "metadata": {
      "needs_background": "light"
     },
     "output_type": "display_data"
    }
   ],
   "source": [
    "# Посмотрим 50% рынка\n",
    "cutoff = 0.5\n",
    "largest, platform, platform_sales = largest_platform_sales(cutoff,data_cut)\n",
    "# Построим график\n",
    "platform_sales[platform_sales['largest_sum']>0][largest].plot();"
   ]
  },
  {
   "cell_type": "markdown",
   "metadata": {},
   "source": [
    "50% рынка за рассматриваемый период делили 2 платформы. Динамика аналогичная. И все большиие платформы фактически \"умерли\". Отберем платформы, которые имели продажи за 2016 г."
   ]
  },
  {
   "cell_type": "code",
   "execution_count": 198,
   "metadata": {},
   "outputs": [
    {
     "data": {
      "image/png": "[encoded data removed]",
      "text/plain": [
       "<Figure size 432x288 with 1 Axes>"
      ]
     },
     "metadata": {
      "needs_background": "light"
     },
     "output_type": "display_data"
    }
   ],
   "source": [
    "cutoff = 1\n",
    "largest, platform, platform_sales = largest_platform_sales(cutoff,data_cut)\n",
    "platform_current = []\n",
    "for clmn in platform_list:\n",
    "    if platform_sales.loc[2016,clmn]>0:\n",
    "        platform_current.append(clmn)\n",
    "platform_sales[platform_sales['largest_sum']>0][platform_current].plot();"
   ]
  },
  {
   "cell_type": "markdown",
   "metadata": {},
   "source": [
    "Все \"оставшиеся в живых\" платформы снижают продажи. Лучше других (по абсолютным показателям) выглядит PS4, XOne, 3DS."
   ]
  },
  {
   "cell_type": "markdown",
   "metadata": {},
   "source": [
    "\n",
    "<div class=\"alert alert-success\">\n",
    "<b>Комментарий ревьюера:</b> 👍 Тут трудно поспорить :)</div>"
   ]
  },
  {
   "cell_type": "markdown",
   "metadata": {},
   "source": [
    "<div class=\"alert alert-info\"> <b>Комментарий студента /версия3: </b> Выводы те же. Но графики на данных с 2014г. менеее информативны.\n",
    "    </div>"
   ]
  },
  {
   "cell_type": "markdown",
   "metadata": {},
   "source": [
    "## Постройте график «ящик с усами»\n",
    "по глобальным продажам игр в разбивке по платформам. Опишите результат."
   ]
  },
  {
   "cell_type": "markdown",
   "metadata": {},
   "source": [
    "<div class=\"alert alert-info\"> <b>Комментарий студента /версия3: </b> Смотрим данные с 2014 г.\n",
    "    </div>"
   ]
  },
  {
   "cell_type": "code",
   "execution_count": 201,
   "metadata": {},
   "outputs": [
    {
     "data": {
      "image/png": "[encoded data removed]",
      "text/plain": [
       "<Figure size 720x216 with 1 Axes>"
      ]
     },
     "metadata": {
      "needs_background": "light"
     },
     "output_type": "display_data"
    }
   ],
   "source": [
    "# смотрим данные с 2014 г.\n",
    "# построим один \"ящик\" для всех платформ\n",
    "data_cut.pivot_table(index='name',\n",
    "                 columns='platform',values='comm_sales',\n",
    "                 aggfunc='sum').plot(kind='box', figsize=(10,3),rot=90);"
   ]
  },
  {
   "cell_type": "markdown",
   "metadata": {},
   "source": [
    "Видим, что из-за неравномерности продаж по разным платформам, маленькие платформы \"подавляются\" большими на графике. Чтобы не смотреть отдельные графики, нормализуем данные."
   ]
  },
  {
   "cell_type": "code",
   "execution_count": 202,
   "metadata": {},
   "outputs": [
    {
     "data": {
      "image/png": "[encoded data removed]",
      "text/plain": [
       "<Figure size 720x216 with 1 Axes>"
      ]
     },
     "metadata": {
      "needs_background": "light"
     },
     "output_type": "display_data"
    }
   ],
   "source": [
    "platform_sales_glob = data_cut.pivot_table(index='name',\n",
    "                 columns='platform',values='comm_sales',\n",
    "                 aggfunc='sum')\n",
    "def data_norm(data_to_norm):\n",
    "    data_norm = pd.DataFrame()\n",
    "    for clmn in [column for column in data_to_norm]:\n",
    "        if (data_to_norm.dtypes[clmn] != 'object' and\n",
    "            data_to_norm.dtypes[clmn] != 'bool' and\n",
    "            data_to_norm.dtypes[clmn] != 'datetime64[ns]'):\n",
    "            data_norm[clmn] = data_to_norm[clmn]\n",
    "\n",
    "    data_norm = (data_norm-data_norm.min())/(data_norm.max()-data_norm.min())\n",
    "    return data_norm\n",
    "data_norm(platform_sales_glob).plot(kind='box', figsize=(10,3),rot=90);"
   ]
  },
  {
   "cell_type": "markdown",
   "metadata": {},
   "source": [
    "Видим, что почти все платформы имеют верхние выбросы. Посмотрим какой примерный процент отсечения необходим, чтобы \"выровнять\" данные"
   ]
  },
  {
   "cell_type": "code",
   "execution_count": 205,
   "metadata": {},
   "outputs": [
    {
     "data": {
      "image/png": "[encoded data removed]",
      "text/plain": [
       "<Figure size 720x216 with 1 Axes>"
      ]
     },
     "metadata": {
      "needs_background": "light"
     },
     "output_type": "display_data"
    }
   ],
   "source": [
    "data_norm_filtred = data_norm(platform_sales_glob)\n",
    "quan = 0.7\n",
    "data_norm_filtred = data_norm_filtred[\n",
    "    ~data_norm_filtred[data_norm_filtred < data_norm_filtred.quantile(quan)].isna()]\n",
    "data_norm_filtred = data_norm(data_norm_filtred)\n",
    "data_norm_filtred.plot(kind='box', figsize=(10,3),rot=90);"
   ]
  },
  {
   "cell_type": "markdown",
   "metadata": {},
   "source": [
    "Перебрав разные проценты отсечения можно сделать вывод, что самые выдающиеся продажи находятся в верхних 5%. Но почти полное выравнивание данных происходит при отсечении верхних 30% игр. Данные распределены неравномерно. Большое большое количество верхних \"тяжелых\" по продажам игр."
   ]
  },
  {
   "cell_type": "markdown",
   "metadata": {},
   "source": [
    "## Посмотрите, как влияют отзывы пользователей и критиков\n",
    "на продажи внутри одной популярной платформы . Постройте диаграмму рассеяния и посчитайте корреляцию между отзывами и продажами. Сформулируйте выводы."
   ]
  },
  {
   "cell_type": "markdown",
   "metadata": {},
   "source": [
    "В качестве \"одной популярной платформы\" рассмотрим PS3- это один из оставшихся в живых лидеров со значительными объемом продаж и достаточным объемом информации для исследования. Плюс, как мы выяснили выше, пропуски в полях оценок распределены в датасете достаточно равномерно, поэтому выбирать платформу с наименьшим удельным весом пропусков в полях оценок не будем."
   ]
  },
  {
   "cell_type": "markdown",
   "metadata": {},
   "source": [
    "<div class=\"alert alert-info\"> <b>Комментарий студента /версия3: </b> Смотрим данные с 2014 г.\n",
    "    </div>"
   ]
  },
  {
   "cell_type": "code",
   "execution_count": 60,
   "metadata": {},
   "outputs": [
    {
     "data": {
      "text/plain": [
       "[['name',\n",
       "  'platform',\n",
       "  'year_of_release',\n",
       "  'genre',\n",
       "  'na_sales',\n",
       "  'eu_sales',\n",
       "  'jp_sales',\n",
       "  'other_sales',\n",
       "  'critic_score',\n",
       "  'user_score',\n",
       "  'rating']]"
      ]
     },
     "execution_count": 60,
     "metadata": {},
     "output_type": "execute_result"
    }
   ],
   "source": [
    "# вспомним названия полей\n",
    "[base_list]"
   ]
  },
  {
   "cell_type": "code",
   "execution_count": 206,
   "metadata": {},
   "outputs": [
    {
     "data": {
      "image/png": "[encoded data removed]",
      "text/plain": [
       "<Figure size 432x288 with 1 Axes>"
      ]
     },
     "metadata": {
      "needs_background": "light"
     },
     "output_type": "display_data"
    }
   ],
   "source": [
    "# построим диаграмму рассеяния\n",
    "(data_cut[data_cut['platform']=='PS3'].\n",
    "    plot.scatter (x = 'critic_score', y = 'comm_sales',alpha=0.7));"
   ]
  },
  {
   "cell_type": "markdown",
   "metadata": {},
   "source": [
    "Видим неярко выраженную (несильную) прямую зависимость между оценками критиков и общими продажами. Вержняя часть множества точек диаграммы ограничена (чисто визуально) гиперболой.\n",
    "\n",
    "Посмотрим данные с отсечением верхних 5% значений продаж"
   ]
  },
  {
   "cell_type": "code",
   "execution_count": 208,
   "metadata": {},
   "outputs": [
    {
     "data": {
      "image/png": "[encoded data removed]",
      "text/plain": [
       "<Figure size 432x288 with 1 Axes>"
      ]
     },
     "metadata": {
      "needs_background": "light"
     },
     "output_type": "display_data"
    }
   ],
   "source": [
    "(data_cut[(data_cut['platform']=='PS3')&\n",
    "      (data_cut['comm_sales']<data_cut['comm_sales'].quantile(0.95))].\n",
    "    plot.scatter (x = 'critic_score', y = 'comm_sales',alpha=0.7));\n"
   ]
  },
  {
   "cell_type": "markdown",
   "metadata": {},
   "source": [
    "На данных без выбросов прямая зависимость выражена более заметно.\n",
    "\n",
    "Посчитаем корреляцию"
   ]
  },
  {
   "cell_type": "code",
   "execution_count": 210,
   "metadata": {},
   "outputs": [
    {
     "data": {
      "text/html": [
       "<div>\n",
       "<style scoped>\n",
       "    .dataframe tbody tr th:only-of-type {\n",
       "        vertical-align: middle;\n",
       "    }\n",
       "\n",
       "    .dataframe tbody tr th {\n",
       "        vertical-align: top;\n",
       "    }\n",
       "\n",
       "    .dataframe thead th {\n",
       "        text-align: right;\n",
       "    }\n",
       "</style>\n",
       "<table border=\"1\" class=\"dataframe\">\n",
       "  <thead>\n",
       "    <tr style=\"text-align: right;\">\n",
       "      <th></th>\n",
       "      <th>critic_score</th>\n",
       "      <th>comm_sales</th>\n",
       "    </tr>\n",
       "  </thead>\n",
       "  <tbody>\n",
       "    <tr>\n",
       "      <th>critic_score</th>\n",
       "      <td>1.000000</td>\n",
       "      <td>0.303412</td>\n",
       "    </tr>\n",
       "    <tr>\n",
       "      <th>comm_sales</th>\n",
       "      <td>0.303412</td>\n",
       "      <td>1.000000</td>\n",
       "    </tr>\n",
       "  </tbody>\n",
       "</table>\n",
       "</div>"
      ],
      "text/plain": [
       "              critic_score  comm_sales\n",
       "critic_score      1.000000    0.303412\n",
       "comm_sales        0.303412    1.000000"
      ]
     },
     "execution_count": 210,
     "metadata": {},
     "output_type": "execute_result"
    }
   ],
   "source": [
    "# по всем данным\n",
    "data_cut[data_cut['platform']=='PS3'][['critic_score','comm_sales']].corr()"
   ]
  },
  {
   "cell_type": "code",
   "execution_count": 211,
   "metadata": {},
   "outputs": [
    {
     "data": {
      "text/html": [
       "<div>\n",
       "<style scoped>\n",
       "    .dataframe tbody tr th:only-of-type {\n",
       "        vertical-align: middle;\n",
       "    }\n",
       "\n",
       "    .dataframe tbody tr th {\n",
       "        vertical-align: top;\n",
       "    }\n",
       "\n",
       "    .dataframe thead th {\n",
       "        text-align: right;\n",
       "    }\n",
       "</style>\n",
       "<table border=\"1\" class=\"dataframe\">\n",
       "  <thead>\n",
       "    <tr style=\"text-align: right;\">\n",
       "      <th></th>\n",
       "      <th>critic_score</th>\n",
       "      <th>comm_sales</th>\n",
       "    </tr>\n",
       "  </thead>\n",
       "  <tbody>\n",
       "    <tr>\n",
       "      <th>critic_score</th>\n",
       "      <td>1.000000</td>\n",
       "      <td>0.356797</td>\n",
       "    </tr>\n",
       "    <tr>\n",
       "      <th>comm_sales</th>\n",
       "      <td>0.356797</td>\n",
       "      <td>1.000000</td>\n",
       "    </tr>\n",
       "  </tbody>\n",
       "</table>\n",
       "</div>"
      ],
      "text/plain": [
       "              critic_score  comm_sales\n",
       "critic_score      1.000000    0.356797\n",
       "comm_sales        0.356797    1.000000"
      ]
     },
     "execution_count": 211,
     "metadata": {},
     "output_type": "execute_result"
    }
   ],
   "source": [
    "# по данным без выбросов\n",
    "(data_cut[(data_cut['platform']=='PS3')&\n",
    "      (data_cut['comm_sales']<data_cut['comm_sales'].\n",
    "       quantile(0.95))][['critic_score','comm_sales']].corr())"
   ]
  },
  {
   "cell_type": "markdown",
   "metadata": {},
   "source": [
    "На данных без выбросов уровень статистической взаимосвязи между продажами и оценками критиков для платформы PS3 можно условно охарактеризовать как средний.\n",
    "\n",
    "Посмотрим взаимосвязь между продажами и оценками пользователей. Также помним, что в данном поле есть значения \"-1\" (ex \"tbd\") которые необходимо исключить."
   ]
  },
  {
   "cell_type": "code",
   "execution_count": 212,
   "metadata": {},
   "outputs": [
    {
     "data": {
      "image/png": "[encoded data removed]",
      "text/plain": [
       "<Figure size 432x288 with 1 Axes>"
      ]
     },
     "metadata": {
      "needs_background": "light"
     },
     "output_type": "display_data"
    }
   ],
   "source": [
    "# построим диаграмму рассеяния\n",
    "(data_cut[(data_cut['platform']=='PS3') &\n",
    "      (data_cut['user_score']!=-1)].\n",
    "    plot.scatter (x = 'user_score', y = 'comm_sales',alpha=0.7));"
   ]
  },
  {
   "cell_type": "markdown",
   "metadata": {},
   "source": [
    "На полных данных визуально связь хуже просматривается, чем в случае с оценками критиков.\n",
    "\n",
    "Уберем верхние 5%"
   ]
  },
  {
   "cell_type": "code",
   "execution_count": 213,
   "metadata": {},
   "outputs": [
    {
     "data": {
      "image/png": "[encoded data removed]",
      "text/plain": [
       "<Figure size 432x288 with 1 Axes>"
      ]
     },
     "metadata": {
      "needs_background": "light"
     },
     "output_type": "display_data"
    }
   ],
   "source": [
    "(data_cut[(data_cut['platform']=='PS3') &\n",
    "      (data_cut['user_score']!=-1) &\n",
    "      (data_cut['comm_sales']<data_cut['comm_sales'].quantile(0.95))].\n",
    "    plot.scatter (x = 'user_score', y = 'comm_sales',alpha=0.7));"
   ]
  },
  {
   "cell_type": "markdown",
   "metadata": {},
   "source": [
    "Вывод о наличии зависимости сделать нельзя.\n",
    "\n",
    "Посмотрим корреляцию"
   ]
  },
  {
   "cell_type": "code",
   "execution_count": 214,
   "metadata": {},
   "outputs": [
    {
     "data": {
      "text/html": [
       "<div>\n",
       "<style scoped>\n",
       "    .dataframe tbody tr th:only-of-type {\n",
       "        vertical-align: middle;\n",
       "    }\n",
       "\n",
       "    .dataframe tbody tr th {\n",
       "        vertical-align: top;\n",
       "    }\n",
       "\n",
       "    .dataframe thead th {\n",
       "        text-align: right;\n",
       "    }\n",
       "</style>\n",
       "<table border=\"1\" class=\"dataframe\">\n",
       "  <thead>\n",
       "    <tr style=\"text-align: right;\">\n",
       "      <th></th>\n",
       "      <th>user_score</th>\n",
       "      <th>comm_sales</th>\n",
       "    </tr>\n",
       "  </thead>\n",
       "  <tbody>\n",
       "    <tr>\n",
       "      <th>user_score</th>\n",
       "      <td>1.000000</td>\n",
       "      <td>-0.153515</td>\n",
       "    </tr>\n",
       "    <tr>\n",
       "      <th>comm_sales</th>\n",
       "      <td>-0.153515</td>\n",
       "      <td>1.000000</td>\n",
       "    </tr>\n",
       "  </tbody>\n",
       "</table>\n",
       "</div>"
      ],
      "text/plain": [
       "            user_score  comm_sales\n",
       "user_score    1.000000   -0.153515\n",
       "comm_sales   -0.153515    1.000000"
      ]
     },
     "execution_count": 214,
     "metadata": {},
     "output_type": "execute_result"
    }
   ],
   "source": [
    "# по всем данным\n",
    "data_cut[(data_cut['platform']=='PS3') &\n",
    "      (data_cut['user_score']!=-1)][['user_score','comm_sales']].corr()"
   ]
  },
  {
   "cell_type": "code",
   "execution_count": 216,
   "metadata": {},
   "outputs": [
    {
     "data": {
      "text/html": [
       "<div>\n",
       "<style scoped>\n",
       "    .dataframe tbody tr th:only-of-type {\n",
       "        vertical-align: middle;\n",
       "    }\n",
       "\n",
       "    .dataframe tbody tr th {\n",
       "        vertical-align: top;\n",
       "    }\n",
       "\n",
       "    .dataframe thead th {\n",
       "        text-align: right;\n",
       "    }\n",
       "</style>\n",
       "<table border=\"1\" class=\"dataframe\">\n",
       "  <thead>\n",
       "    <tr style=\"text-align: right;\">\n",
       "      <th></th>\n",
       "      <th>user_score</th>\n",
       "      <th>comm_sales</th>\n",
       "    </tr>\n",
       "  </thead>\n",
       "  <tbody>\n",
       "    <tr>\n",
       "      <th>user_score</th>\n",
       "      <td>1.000000</td>\n",
       "      <td>-0.040017</td>\n",
       "    </tr>\n",
       "    <tr>\n",
       "      <th>comm_sales</th>\n",
       "      <td>-0.040017</td>\n",
       "      <td>1.000000</td>\n",
       "    </tr>\n",
       "  </tbody>\n",
       "</table>\n",
       "</div>"
      ],
      "text/plain": [
       "            user_score  comm_sales\n",
       "user_score    1.000000   -0.040017\n",
       "comm_sales   -0.040017    1.000000"
      ]
     },
     "execution_count": 216,
     "metadata": {},
     "output_type": "execute_result"
    }
   ],
   "source": [
    "# Уберем верхние 5%\n",
    "(data_cut[(data_cut['platform']=='PS3') &\n",
    "      (data_cut['user_score']!=-1) &\n",
    "      (data_cut['comm_sales']<data_cut['comm_sales'].quantile(0.95))]\n",
    "    [['user_score','comm_sales']].corr())"
   ]
  },
  {
   "cell_type": "markdown",
   "metadata": {},
   "source": [
    "На данных с выбросами и без выбросов уровень статистической ОБРАТНОЙ взаимосвязи между продажами и оценками пользователей для платформы PS3 можно условно охарактеризовать как слабый."
   ]
  },
  {
   "cell_type": "markdown",
   "metadata": {},
   "source": [
    "<div class=\"alert alert-info\"> <b>Комментарий студента /версия3: </b> Смотрим данные с 2014 г.\n",
    "На данных с выбросами уровень статистической ОБРАТНОЙ взаимосвязи между продажами и оценками пользователей для платформы PS3 можно условно охарактеризовать как слабый. На данных без выбросов- как отсутствующий\n",
    "    </div>"
   ]
  },
  {
   "cell_type": "markdown",
   "metadata": {},
   "source": [
    "\n",
    "<div class=\"alert alert-success\">\n",
    "<b>Комментарий ревьюера v4.0:</b>Да, это верно, так и есть</div>"
   ]
  },
  {
   "cell_type": "markdown",
   "metadata": {},
   "source": [
    "## Соотнесите выводы с продажами игр на других платформах"
   ]
  },
  {
   "cell_type": "code",
   "execution_count": 218,
   "metadata": {},
   "outputs": [
    {
     "name": "stderr",
     "output_type": "stream",
     "text": [
      "/opt/conda/lib/python3.9/site-packages/numpy/lib/function_base.py:2683: RuntimeWarning: Degrees of freedom <= 0 for slice\n",
      "  c = cov(x, y, rowvar, dtype=dtype)\n",
      "/opt/conda/lib/python3.9/site-packages/numpy/lib/function_base.py:2542: RuntimeWarning: divide by zero encountered in true_divide\n",
      "  c *= np.true_divide(1, fact)\n",
      "/opt/conda/lib/python3.9/site-packages/numpy/lib/function_base.py:2683: RuntimeWarning: Degrees of freedom <= 0 for slice\n",
      "  c = cov(x, y, rowvar, dtype=dtype)\n",
      "/opt/conda/lib/python3.9/site-packages/numpy/lib/function_base.py:2542: RuntimeWarning: divide by zero encountered in true_divide\n",
      "  c *= np.true_divide(1, fact)\n",
      "/opt/conda/lib/python3.9/site-packages/numpy/lib/function_base.py:2683: RuntimeWarning: Degrees of freedom <= 0 for slice\n",
      "  c = cov(x, y, rowvar, dtype=dtype)\n",
      "/opt/conda/lib/python3.9/site-packages/numpy/lib/function_base.py:2542: RuntimeWarning: divide by zero encountered in true_divide\n",
      "  c *= np.true_divide(1, fact)\n",
      "/opt/conda/lib/python3.9/site-packages/numpy/lib/function_base.py:2683: RuntimeWarning: Degrees of freedom <= 0 for slice\n",
      "  c = cov(x, y, rowvar, dtype=dtype)\n",
      "/opt/conda/lib/python3.9/site-packages/numpy/lib/function_base.py:2542: RuntimeWarning: divide by zero encountered in true_divide\n",
      "  c *= np.true_divide(1, fact)\n",
      "/opt/conda/lib/python3.9/site-packages/numpy/lib/function_base.py:2683: RuntimeWarning: Degrees of freedom <= 0 for slice\n",
      "  c = cov(x, y, rowvar, dtype=dtype)\n",
      "/opt/conda/lib/python3.9/site-packages/numpy/lib/function_base.py:2542: RuntimeWarning: divide by zero encountered in true_divide\n",
      "  c *= np.true_divide(1, fact)\n"
     ]
    }
   ],
   "source": [
    "# Функция для сбора корреляций по платформам\n",
    "def plat_corr(d,quan):\n",
    "    # d - DataFrame\n",
    "    # quan - квантиль отсечения верхних значений продаж\n",
    "    platform_list = plat_list(d)\n",
    "    platform_corr = pd.DataFrame(index=platform_list)\n",
    "    for p in platform_list:\n",
    "        platform_corr.loc[p,'cr_score_full'] = (\n",
    "            d[(d['platform']==p)]['comm_sales'].\n",
    "            corr(d[d['platform']==p]['critic_score']))\n",
    "        platform_corr.loc[p,'cr_score_crop'] = (\n",
    "            d[(d['platform']==p) &\n",
    "             (d['comm_sales']<d['comm_sales'].quantile(quan))\n",
    "             ]['comm_sales'].\n",
    "            corr(d[(d['platform']==p) &\n",
    "             (d['comm_sales']<d['comm_sales'].quantile(quan))\n",
    "                  ]['critic_score']))\n",
    "        platform_corr.loc[p,'us_score_full'] = (\n",
    "            d[(d['platform']==p) & (d['user_score']!=-1)]['comm_sales'].\n",
    "            corr(d[(d['platform']==p) &\n",
    "           (d['user_score']!=-1)]['user_score']))\n",
    "        platform_corr.loc[p,'us_score_corp'] = (\n",
    "            d[(d['platform']==p) & (d['user_score']!=-1) &\n",
    "           (d['comm_sales']<d['comm_sales'].quantile(quan))\n",
    "             ]['comm_sales'].\n",
    "            corr(d[(d['platform']==p) & (d['user_score']!=-1) &\n",
    "           (d['comm_sales']<d['comm_sales'].quantile(quan))\n",
    "                  ]['user_score']))\n",
    "    return platform_corr\n",
    "plat_corr_cut = plat_corr(data_cut,0.95) # посмотрим на данных с 2014 г."
   ]
  },
  {
   "cell_type": "markdown",
   "metadata": {},
   "source": [
    "Выдается предупреждение касательно деления на ноль. Но я не стал вводить дополнительные проверки, т.к. данные считаются правильно.\n",
    "\n",
    "Посчитатем статистические метрики для таблицы корреляций"
   ]
  },
  {
   "cell_type": "code",
   "execution_count": 219,
   "metadata": {},
   "outputs": [
    {
     "data": {
      "text/html": [
       "<div>\n",
       "<style scoped>\n",
       "    .dataframe tbody tr th:only-of-type {\n",
       "        vertical-align: middle;\n",
       "    }\n",
       "\n",
       "    .dataframe tbody tr th {\n",
       "        vertical-align: top;\n",
       "    }\n",
       "\n",
       "    .dataframe thead th {\n",
       "        text-align: right;\n",
       "    }\n",
       "</style>\n",
       "<table border=\"1\" class=\"dataframe\">\n",
       "  <thead>\n",
       "    <tr style=\"text-align: right;\">\n",
       "      <th></th>\n",
       "      <th>cr_score_full</th>\n",
       "      <th>cr_score_crop</th>\n",
       "      <th>us_score_full</th>\n",
       "      <th>us_score_corp</th>\n",
       "    </tr>\n",
       "  </thead>\n",
       "  <tbody>\n",
       "    <tr>\n",
       "      <th>count</th>\n",
       "      <td>9.000000</td>\n",
       "      <td>9.000000</td>\n",
       "      <td>9.000000</td>\n",
       "      <td>8.000000</td>\n",
       "    </tr>\n",
       "    <tr>\n",
       "      <th>mean</th>\n",
       "      <td>0.304049</td>\n",
       "      <td>0.343378</td>\n",
       "      <td>0.111896</td>\n",
       "      <td>0.050049</td>\n",
       "    </tr>\n",
       "    <tr>\n",
       "      <th>std</th>\n",
       "      <td>0.087931</td>\n",
       "      <td>0.090364</td>\n",
       "      <td>0.381973</td>\n",
       "      <td>0.166411</td>\n",
       "    </tr>\n",
       "    <tr>\n",
       "      <th>min</th>\n",
       "      <td>0.150621</td>\n",
       "      <td>0.150621</td>\n",
       "      <td>-0.160024</td>\n",
       "      <td>-0.160024</td>\n",
       "    </tr>\n",
       "    <tr>\n",
       "      <th>25%</th>\n",
       "      <td>0.286751</td>\n",
       "      <td>0.310677</td>\n",
       "      <td>-0.124158</td>\n",
       "      <td>-0.041798</td>\n",
       "    </tr>\n",
       "    <tr>\n",
       "      <th>50%</th>\n",
       "      <td>0.307390</td>\n",
       "      <td>0.356797</td>\n",
       "      <td>-0.057391</td>\n",
       "      <td>0.017571</td>\n",
       "    </tr>\n",
       "    <tr>\n",
       "      <th>75%</th>\n",
       "      <td>0.381525</td>\n",
       "      <td>0.408213</td>\n",
       "      <td>0.196855</td>\n",
       "      <td>0.087605</td>\n",
       "    </tr>\n",
       "    <tr>\n",
       "      <th>max</th>\n",
       "      <td>0.390241</td>\n",
       "      <td>0.459310</td>\n",
       "      <td>1.000000</td>\n",
       "      <td>0.389225</td>\n",
       "    </tr>\n",
       "  </tbody>\n",
       "</table>\n",
       "</div>"
      ],
      "text/plain": [
       "       cr_score_full  cr_score_crop  us_score_full  us_score_corp\n",
       "count       9.000000       9.000000       9.000000       8.000000\n",
       "mean        0.304049       0.343378       0.111896       0.050049\n",
       "std         0.087931       0.090364       0.381973       0.166411\n",
       "min         0.150621       0.150621      -0.160024      -0.160024\n",
       "25%         0.286751       0.310677      -0.124158      -0.041798\n",
       "50%         0.307390       0.356797      -0.057391       0.017571\n",
       "75%         0.381525       0.408213       0.196855       0.087605\n",
       "max         0.390241       0.459310       1.000000       0.389225"
      ]
     },
     "execution_count": 219,
     "metadata": {},
     "output_type": "execute_result"
    }
   ],
   "source": [
    "plat_corr_cut.describe()"
   ]
  },
  {
   "cell_type": "markdown",
   "metadata": {},
   "source": [
    "Видим, что рассмотренная выше платформа PS3 обладает максимальной (среди других платформ) корреляцией между продажами и оценками критиков и входит в половину платформ с наибольшей зависимостью между продажами и оценками пользователей."
   ]
  },
  {
   "cell_type": "markdown",
   "metadata": {},
   "source": [
    "\n",
    "<div class=\"alert alert-success\">\n",
    "<b>Комментарий ревьюера:</b> 👍Согласна</div>"
   ]
  },
  {
   "cell_type": "markdown",
   "metadata": {},
   "source": [
    "<div class=\"alert alert-info\"> <b>Комментарий студента /версия3: </b> Смотрим данные с 2014 г.\n",
    "На обрезанных данных с выбросами рассмотренная выше платформа PS3 обладает СРЕДНЕЙ (среди других платформ) корреляцией между продажами и оценками критиков и входит в первую четверть платформ с НАИМЕНЬШЕЙ зависимостью между продажами и оценками пользователей. Также появились платформы со слабой обратной зависимостью продаж от оценок\n",
    "    </div>"
   ]
  },
  {
   "cell_type": "markdown",
   "metadata": {},
   "source": [
    "## Посмотрите на общее распределение игр по жанрам.\n",
    "Что можно сказать о самых прибыльных жанрах? Выделяются ли жанры с высокими и низкими продажами?"
   ]
  },
  {
   "cell_type": "markdown",
   "metadata": {},
   "source": [
    "<div class=\"alert alert-info\"> <b>Комментарий студента /версия3: </b> Смотрим данные с 2014 г.  </div>"
   ]
  },
  {
   "cell_type": "code",
   "execution_count": 220,
   "metadata": {
    "scrolled": false
   },
   "outputs": [
    {
     "data": {
      "image/png": "[encoded data removed]",
      "text/plain": [
       "<Figure size 432x288 with 1 Axes>"
      ]
     },
     "metadata": {
      "needs_background": "light"
     },
     "output_type": "display_data"
    }
   ],
   "source": [
    "# построим диаграмму продаж по жанрам\n",
    "agg_func = {'comm_sales': ['sum','count','mean','median']}\n",
    "genre_sales = (data_cut.groupby('genre').agg(agg_func).\n",
    "               sort_values(by=('comm_sales','sum')))\n",
    "plt.bar(genre_sales.index, genre_sales[('comm_sales','sum')],\n",
    "        1, alpha=0.5, color='b', label='sum')\n",
    "plt.bar(genre_sales.index, genre_sales[('comm_sales','count')],\n",
    "        0.7, alpha=0.3, color='g', label='count')\n",
    "plt.xticks(rotation=90)\n",
    "plt.legend()\n",
    "plt.show()"
   ]
  },
  {
   "cell_type": "markdown",
   "metadata": {},
   "source": [
    "Для данных за все года: Больше всего по количеству и сумме продавалось игр в жанрах Sports, Action. Меньше всего по сумме было продаж в жанрах: Strategy, Adventure, Pazzle."
   ]
  },
  {
   "cell_type": "markdown",
   "metadata": {},
   "source": [
    "<div class=\"alert alert-info\"> <b>Комментарий студента /версия3: </b> На данных с 2014 г. такие же лидеры   </div>"
   ]
  },
  {
   "cell_type": "code",
   "execution_count": 221,
   "metadata": {},
   "outputs": [
    {
     "data": {
      "image/png": "[encoded data removed]",
      "text/plain": [
       "<Figure size 432x288 with 1 Axes>"
      ]
     },
     "metadata": {},
     "output_type": "display_data"
    }
   ],
   "source": [
    "# посмотрим как поделен рынок по жанрам\n",
    "genre_sales[('comm_sales','sum')].plot(kind='pie');"
   ]
  },
  {
   "cell_type": "markdown",
   "metadata": {},
   "source": [
    "Для данных за все года: 4 жанра: Role-playing, Shooter, Sports, Action занимают более 50% глобального рынка"
   ]
  },
  {
   "cell_type": "markdown",
   "metadata": {},
   "source": [
    "<div class=\"alert alert-info\"> <b>Комментарий студента /версия3: </b> На данных с 2014 г. 3 жанра: Shooter, Sports, Action занимают более 50% глобального рынка   </div>"
   ]
  },
  {
   "cell_type": "code",
   "execution_count": 222,
   "metadata": {},
   "outputs": [
    {
     "data": {
      "image/png": "[encoded data removed]",
      "text/plain": [
       "<Figure size 432x288 with 1 Axes>"
      ]
     },
     "metadata": {
      "needs_background": "light"
     },
     "output_type": "display_data"
    }
   ],
   "source": [
    "# Посчитаем среднюю цену игры\n",
    "genre_sales['avg_price']=(genre_sales[('comm_sales','sum')]/\n",
    "                          genre_sales[('comm_sales','count')])\n",
    "genre_sales['avg_price'].sort_values().plot(kind='bar');"
   ]
  },
  {
   "cell_type": "markdown",
   "metadata": {},
   "source": [
    "Для данных за все года:\n",
    "\n",
    "Самые дорогие игры в жанрах: Role-Playing, Shooter, Platform.\n",
    "\n",
    "Самые дешевые: Strategy, Adventure, Pazzle."
   ]
  },
  {
   "cell_type": "markdown",
   "metadata": {},
   "source": [
    "<div class=\"alert alert-info\"> <b>Комментарий студента /версия3: </b> На данных с 2014 г.:\n",
    "    \n",
    "Самые дорогие игры в жанрах: Shooter, Sports, Platform.\n",
    "\n",
    "Самые дешевые: Adventure, Strategy, Pazzle.</div>"
   ]
  },
  {
   "cell_type": "markdown",
   "metadata": {},
   "source": [
    "\n",
    "<div class=\"alert alert-danger\">\n",
    "<b>Комментарий ревьюера:</b>☀️Общие продажи - плохая метрика для поиска наиболее прибыльного жанра. За высокими показателями общих продаж может скрываться множество мелких игр с низкими продажами. Или 2-3 звезды и куча провалов. Лучше найти жанр, где игры стабильно приносят высокий доход - для этого стоит рассмотреть средние или медианные продажи.\n",
    "</div>\n"
   ]
  },
  {
   "cell_type": "markdown",
   "metadata": {},
   "source": [
    "<div class=\"alert alert-info\"> <b>Комментарий студента:</b> Посмотрим как распределены медианные продажи по жанрам </div>"
   ]
  },
  {
   "cell_type": "code",
   "execution_count": 223,
   "metadata": {},
   "outputs": [],
   "source": [
    "genre_sales.sort_values(by=('comm_sales','median'),inplace=True)"
   ]
  },
  {
   "cell_type": "code",
   "execution_count": 224,
   "metadata": {
    "scrolled": true
   },
   "outputs": [
    {
     "data": {
      "image/png": "[encoded data removed]",
      "text/plain": [
       "<Figure size 432x288 with 1 Axes>"
      ]
     },
     "metadata": {
      "needs_background": "light"
     },
     "output_type": "display_data"
    }
   ],
   "source": [
    "plt.bar(genre_sales.index, genre_sales[('comm_sales','median')],\n",
    "        0.9, alpha=0.5, color='b', label='sum')\n",
    "plt.xticks(rotation=90)\n",
    "plt.legend()\n",
    "plt.show()"
   ]
  },
  {
   "cell_type": "markdown",
   "metadata": {},
   "source": [
    "<div class=\"alert alert-info\"> <b>Комментарий студента:</b> Видим, что медианные продажи самые высокие в жанрах Platform, Shooter, Sports. Эти лидеры почти совпадают с лидерами по средней цене игры в жанре.\n",
    "\n",
    "При этом, строго говоря, прибыль определяется доходами и расходами (в разном их исчислении). В рамках данного проекта и на основе данного датасета мы не можем оценить расходную часть. Поэтому правильнее было бы говорить поиске жанров с наибольшими (наиболее стабильными и т.п.) продажами. </div>"
   ]
  },
  {
   "cell_type": "markdown",
   "metadata": {},
   "source": [
    "\n",
    "<div class=\"alert alert-warning\">\n",
    "<b>Комментарий ревьюера v3.0:</b>☀️Здесь нужно скорректировать исследование под новый актуальный период и посмотреть, как поменяются результаты. Хотя даже так видно, что результаты по общим продажам и по медианным разные. Медианные/средние продажи лучше характеризуют \"стабильность\" ситуации </div>"
   ]
  },
  {
   "cell_type": "markdown",
   "metadata": {},
   "source": [
    "<div class=\"alert alert-info\"> <b>Комментарий студента /версия3: </b> На данных с 2014 г.:\n",
    "    \n",
    "Видим, что медианные продажи самые высокие в жанрах Platform, Shooter, Sports. Эти лидеры полностью совпадают с лидерами медианной цене игры в жанре на данных за все года. </div>"
   ]
  },
  {
   "cell_type": "markdown",
   "metadata": {},
   "source": [
    "\n",
    "<div class=\"alert alert-success\">\n",
    "<b>Комментарий ревьюера v4.0:</b>Спасибо! Да, как видишь, результаты здесь изменились</div>"
   ]
  },
  {
   "cell_type": "markdown",
   "metadata": {},
   "source": [
    "# Шаг 4.\n",
    "Составьте портрет пользователя каждого региона\n",
    "Определите для пользователя каждого региона (NA, EU, JP):"
   ]
  },
  {
   "cell_type": "markdown",
   "metadata": {},
   "source": [
    "## Самые популярные платформы (топ-5).\n",
    "Опишите различия в долях продаж."
   ]
  },
  {
   "cell_type": "code",
   "execution_count": 225,
   "metadata": {},
   "outputs": [
    {
     "data": {
      "text/html": [
       "<style  type=\"text/css\" >\n",
       "</style><table id=\"T_4c67d_\" ><thead>    <tr>        <th class=\"blank level0\" ></th>        <th class=\"col_heading level0 col0\" >na_sales</th>        <th class=\"col_heading level0 col1\" >na_share</th>        <th class=\"col_heading level0 col2\" >eu_sales</th>        <th class=\"col_heading level0 col3\" >eu_share</th>        <th class=\"col_heading level0 col4\" >jp_sales</th>        <th class=\"col_heading level0 col5\" >jp_share</th>        <th class=\"col_heading level0 col6\" >other_sales</th>        <th class=\"col_heading level0 col7\" >other_share</th>    </tr></thead><tbody>\n",
       "                <tr>\n",
       "                        <th id=\"T_4c67d_level0_row0\" class=\"row_heading level0 row0\" >PS4</th>\n",
       "                        <td id=\"T_4c67d_row0_col0\" class=\"data row0 col0\" >98.6</td>\n",
       "                        <td id=\"T_4c67d_row0_col1\" class=\"data row0 col1\" >34.7%</td>\n",
       "                        <td id=\"T_4c67d_row0_col2\" class=\"data row0 col2\" >130.0</td>\n",
       "                        <td id=\"T_4c67d_row0_col3\" class=\"data row0 col3\" >48.0%</td>\n",
       "                        <td id=\"T_4c67d_row0_col4\" class=\"data row0 col4\" >15.0</td>\n",
       "                        <td id=\"T_4c67d_row0_col5\" class=\"data row0 col5\" >16.1%</td>\n",
       "                        <td id=\"T_4c67d_row0_col6\" class=\"data row0 col6\" >44.5</td>\n",
       "                        <td id=\"T_4c67d_row0_col7\" class=\"data row0 col7\" >54.5%</td>\n",
       "            </tr>\n",
       "            <tr>\n",
       "                        <th id=\"T_4c67d_level0_row1\" class=\"row_heading level0 row1\" >XOne</th>\n",
       "                        <td id=\"T_4c67d_row1_col0\" class=\"data row1 col0\" >81.3</td>\n",
       "                        <td id=\"T_4c67d_row1_col1\" class=\"data row1 col1\" >28.6%</td>\n",
       "                        <td id=\"T_4c67d_row1_col2\" class=\"data row1 col2\" >46.3</td>\n",
       "                        <td id=\"T_4c67d_row1_col3\" class=\"data row1 col3\" >17.1%</td>\n",
       "                        <td id=\"T_4c67d_row1_col4\" class=\"data row1 col4\" >nan</td>\n",
       "                        <td id=\"T_4c67d_row1_col5\" class=\"data row1 col5\" >nan%</td>\n",
       "                        <td id=\"T_4c67d_row1_col6\" class=\"data row1 col6\" >12.5</td>\n",
       "                        <td id=\"T_4c67d_row1_col7\" class=\"data row1 col7\" >15.3%</td>\n",
       "            </tr>\n",
       "            <tr>\n",
       "                        <th id=\"T_4c67d_level0_row2\" class=\"row_heading level0 row2\" >X360</th>\n",
       "                        <td id=\"T_4c67d_row2_col0\" class=\"data row2 col0\" >28.3</td>\n",
       "                        <td id=\"T_4c67d_row2_col1\" class=\"data row2 col1\" >10.0%</td>\n",
       "                        <td id=\"T_4c67d_row2_col2\" class=\"data row2 col2\" >nan</td>\n",
       "                        <td id=\"T_4c67d_row2_col3\" class=\"data row2 col3\" >nan%</td>\n",
       "                        <td id=\"T_4c67d_row2_col4\" class=\"data row2 col4\" >nan</td>\n",
       "                        <td id=\"T_4c67d_row2_col5\" class=\"data row2 col5\" >nan%</td>\n",
       "                        <td id=\"T_4c67d_row2_col6\" class=\"data row2 col6\" >4.3</td>\n",
       "                        <td id=\"T_4c67d_row2_col7\" class=\"data row2 col7\" >5.3%</td>\n",
       "            </tr>\n",
       "            <tr>\n",
       "                        <th id=\"T_4c67d_level0_row3\" class=\"row_heading level0 row3\" >3DS</th>\n",
       "                        <td id=\"T_4c67d_row3_col0\" class=\"data row3 col0\" >22.6</td>\n",
       "                        <td id=\"T_4c67d_row3_col1\" class=\"data row3 col1\" >8.0%</td>\n",
       "                        <td id=\"T_4c67d_row3_col2\" class=\"data row3 col2\" >16.1</td>\n",
       "                        <td id=\"T_4c67d_row3_col3\" class=\"data row3 col3\" >5.9%</td>\n",
       "                        <td id=\"T_4c67d_row3_col4\" class=\"data row3 col4\" >44.2</td>\n",
       "                        <td id=\"T_4c67d_row3_col5\" class=\"data row3 col5\" >47.5%</td>\n",
       "                        <td id=\"T_4c67d_row3_col6\" class=\"data row3 col6\" >3.7</td>\n",
       "                        <td id=\"T_4c67d_row3_col7\" class=\"data row3 col7\" >4.5%</td>\n",
       "            </tr>\n",
       "            <tr>\n",
       "                        <th id=\"T_4c67d_level0_row4\" class=\"row_heading level0 row4\" >PS3</th>\n",
       "                        <td id=\"T_4c67d_row4_col0\" class=\"data row4 col0\" >22.1</td>\n",
       "                        <td id=\"T_4c67d_row4_col1\" class=\"data row4 col1\" >7.8%</td>\n",
       "                        <td id=\"T_4c67d_row4_col2\" class=\"data row4 col2\" >25.5</td>\n",
       "                        <td id=\"T_4c67d_row4_col3\" class=\"data row4 col3\" >9.4%</td>\n",
       "                        <td id=\"T_4c67d_row4_col4\" class=\"data row4 col4\" >11.2</td>\n",
       "                        <td id=\"T_4c67d_row4_col5\" class=\"data row4 col5\" >12.1%</td>\n",
       "                        <td id=\"T_4c67d_row4_col6\" class=\"data row4 col6\" >9.4</td>\n",
       "                        <td id=\"T_4c67d_row4_col7\" class=\"data row4 col7\" >11.5%</td>\n",
       "            </tr>\n",
       "            <tr>\n",
       "                        <th id=\"T_4c67d_level0_row5\" class=\"row_heading level0 row5\" >PC</th>\n",
       "                        <td id=\"T_4c67d_row5_col0\" class=\"data row5 col0\" >nan</td>\n",
       "                        <td id=\"T_4c67d_row5_col1\" class=\"data row5 col1\" >nan%</td>\n",
       "                        <td id=\"T_4c67d_row5_col2\" class=\"data row5 col2\" >18.2</td>\n",
       "                        <td id=\"T_4c67d_row5_col3\" class=\"data row5 col3\" >6.7%</td>\n",
       "                        <td id=\"T_4c67d_row5_col4\" class=\"data row5 col4\" >nan</td>\n",
       "                        <td id=\"T_4c67d_row5_col5\" class=\"data row5 col5\" >nan%</td>\n",
       "                        <td id=\"T_4c67d_row5_col6\" class=\"data row5 col6\" >nan</td>\n",
       "                        <td id=\"T_4c67d_row5_col7\" class=\"data row5 col7\" >nan%</td>\n",
       "            </tr>\n",
       "            <tr>\n",
       "                        <th id=\"T_4c67d_level0_row6\" class=\"row_heading level0 row6\" >PSV</th>\n",
       "                        <td id=\"T_4c67d_row6_col0\" class=\"data row6 col0\" >nan</td>\n",
       "                        <td id=\"T_4c67d_row6_col1\" class=\"data row6 col1\" >nan%</td>\n",
       "                        <td id=\"T_4c67d_row6_col2\" class=\"data row6 col2\" >nan</td>\n",
       "                        <td id=\"T_4c67d_row6_col3\" class=\"data row6 col3\" >nan%</td>\n",
       "                        <td id=\"T_4c67d_row6_col4\" class=\"data row6 col4\" >14.5</td>\n",
       "                        <td id=\"T_4c67d_row6_col5\" class=\"data row6 col5\" >15.6%</td>\n",
       "                        <td id=\"T_4c67d_row6_col6\" class=\"data row6 col6\" >nan</td>\n",
       "                        <td id=\"T_4c67d_row6_col7\" class=\"data row6 col7\" >nan%</td>\n",
       "            </tr>\n",
       "            <tr>\n",
       "                        <th id=\"T_4c67d_level0_row7\" class=\"row_heading level0 row7\" >WiiU</th>\n",
       "                        <td id=\"T_4c67d_row7_col0\" class=\"data row7 col0\" >nan</td>\n",
       "                        <td id=\"T_4c67d_row7_col1\" class=\"data row7 col1\" >nan%</td>\n",
       "                        <td id=\"T_4c67d_row7_col2\" class=\"data row7 col2\" >nan</td>\n",
       "                        <td id=\"T_4c67d_row7_col3\" class=\"data row7 col3\" >nan%</td>\n",
       "                        <td id=\"T_4c67d_row7_col4\" class=\"data row7 col4\" >7.3</td>\n",
       "                        <td id=\"T_4c67d_row7_col5\" class=\"data row7 col5\" >7.9%</td>\n",
       "                        <td id=\"T_4c67d_row7_col6\" class=\"data row7 col6\" >nan</td>\n",
       "                        <td id=\"T_4c67d_row7_col7\" class=\"data row7 col7\" >nan%</td>\n",
       "            </tr>\n",
       "    </tbody></table>"
      ],
      "text/plain": [
       "<pandas.io.formats.style.Styler at 0x7faa6ea538b0>"
      ]
     },
     "execution_count": 225,
     "metadata": {},
     "output_type": "execute_result"
    }
   ],
   "source": [
    "# построим сводный датафрейм продаж по платформам\n",
    "# d = data_cut # посмотрим данные с 2002 г.\n",
    "def top_sales(d,category):\n",
    "    top_plat_reg = pd.DataFrame()\n",
    "    top_plat_reg = pd.concat((top_plat_reg,\n",
    "          d.groupby(category)['na_sales'].sum().nlargest(5),\n",
    "          d.groupby(category)['eu_sales'].sum().nlargest(5),\n",
    "          d.groupby(category)['jp_sales'].sum().nlargest(5),\n",
    "          d.groupby(category)['other_sales'].sum().nlargest(5),\n",
    "                             ),axis=1)\n",
    "    # долю продаж считаем от общих продаж (не в топ 5)\n",
    "    top_plat_reg['na_share']=top_plat_reg['na_sales']/d['na_sales'].sum()\n",
    "    top_plat_reg['eu_share']=top_plat_reg['eu_sales']/d['eu_sales'].sum()\n",
    "    top_plat_reg['jp_share']=top_plat_reg['jp_sales']/d['jp_sales'].sum()\n",
    "    top_plat_reg['other_share']=top_plat_reg['other_sales']/d['other_sales'].sum()\n",
    "\n",
    "    # словарь для форматирования вывода\n",
    "    d_style = {'na_sales':'{:.1f}','eu_sales':'{:.1f}','jp_sales':'{:.1f}','other_sales':'{:.1f}',\n",
    "               'na_share':'{:.1%}','eu_share':'{:.1%}',\n",
    "                'jp_share':'{:.1%}','other_share':'{:.1%}'}\n",
    "\n",
    "    disp_list = ['na_sales','na_share','eu_sales','eu_share',\n",
    "    'jp_sales','jp_share','other_sales','other_share']\n",
    "    \n",
    "    return d_style, disp_list, top_plat_reg\n",
    "\n",
    "d_style, disp_list, top_plat_reg = top_sales(data_cut,'platform')\n",
    "top_plat_reg[disp_list].style.format(d_style)"
   ]
  },
  {
   "cell_type": "markdown",
   "metadata": {},
   "source": [
    "<div class=\"alert alert-info\"> <b> На данных с 2002 г. </b> </div>\n",
    "\n",
    "Топ5 платформ в Америке, Европе и в других регионах (кроме Японии) совпадают. Но лидеры различаются: в Америке - X360, в Европе- PS3, в других регионах- PS2. Японский Топ5 возглавляет DS с большим удельным весом в 25% (Это логично следует из страны происхождения платформ), также в японском Топ5 есть 3DS и PSP, которых нет в Топ5 остального (кроме Японии) мира и в японский топ не вошли X360 и Wii.\n",
    "\n"
   ]
  },
  {
   "cell_type": "markdown",
   "metadata": {},
   "source": [
    "<div class=\"alert alert-info\"> <b>Комментарий студента /версия3: </b> На данных с 2014 г.:\n",
    "    \n",
    "Топ5 платформ в Америке, и в других регионах (кроме Европы  и Японии) совпадают.\n",
    "ТОП5 Европы почти совпадает с Америкой, за исключением X360, вместо нее в европейский ТОП5 вошел PC. Японский Топ5 возглавляет 3DS с большим удельным весом в 48% (Это логично следует из страны происхождения платформ), также в японском Топ5 есть PSV и WiiU, которых нет в Топ5 остального (кроме Японии) мира и в японский топ не вошли X360 и XOne.\n",
    "</div>"
   ]
  },
  {
   "cell_type": "markdown",
   "metadata": {},
   "source": [
    "## Самые популярные жанры (топ-5). Поясните разницу"
   ]
  },
  {
   "cell_type": "code",
   "execution_count": 226,
   "metadata": {},
   "outputs": [
    {
     "data": {
      "text/html": [
       "<style  type=\"text/css\" >\n",
       "</style><table id=\"T_1bdc5_\" ><thead>    <tr>        <th class=\"blank level0\" ></th>        <th class=\"col_heading level0 col0\" >na_sales</th>        <th class=\"col_heading level0 col1\" >na_share</th>        <th class=\"col_heading level0 col2\" >eu_sales</th>        <th class=\"col_heading level0 col3\" >eu_share</th>        <th class=\"col_heading level0 col4\" >jp_sales</th>        <th class=\"col_heading level0 col5\" >jp_share</th>        <th class=\"col_heading level0 col6\" >other_sales</th>        <th class=\"col_heading level0 col7\" >other_share</th>    </tr></thead><tbody>\n",
       "                <tr>\n",
       "                        <th id=\"T_1bdc5_level0_row0\" class=\"row_heading level0 row0\" >Shooter</th>\n",
       "                        <td id=\"T_1bdc5_row0_col0\" class=\"data row0 col0\" >79.0</td>\n",
       "                        <td id=\"T_1bdc5_row0_col1\" class=\"data row0 col1\" >27.8%</td>\n",
       "                        <td id=\"T_1bdc5_row0_col2\" class=\"data row0 col2\" >65.5</td>\n",
       "                        <td id=\"T_1bdc5_row0_col3\" class=\"data row0 col3\" >24.2%</td>\n",
       "                        <td id=\"T_1bdc5_row0_col4\" class=\"data row0 col4\" >4.9</td>\n",
       "                        <td id=\"T_1bdc5_row0_col5\" class=\"data row0 col5\" >5.2%</td>\n",
       "                        <td id=\"T_1bdc5_row0_col6\" class=\"data row0 col6\" >21.5</td>\n",
       "                        <td id=\"T_1bdc5_row0_col7\" class=\"data row0 col7\" >26.4%</td>\n",
       "            </tr>\n",
       "            <tr>\n",
       "                        <th id=\"T_1bdc5_level0_row1\" class=\"row_heading level0 row1\" >Action</th>\n",
       "                        <td id=\"T_1bdc5_row1_col0\" class=\"data row1 col0\" >72.6</td>\n",
       "                        <td id=\"T_1bdc5_row1_col1\" class=\"data row1 col1\" >25.5%</td>\n",
       "                        <td id=\"T_1bdc5_row1_col2\" class=\"data row1 col2\" >74.9</td>\n",
       "                        <td id=\"T_1bdc5_row1_col3\" class=\"data row1 col3\" >27.7%</td>\n",
       "                        <td id=\"T_1bdc5_row1_col4\" class=\"data row1 col4\" >29.6</td>\n",
       "                        <td id=\"T_1bdc5_row1_col5\" class=\"data row1 col5\" >31.8%</td>\n",
       "                        <td id=\"T_1bdc5_row1_col6\" class=\"data row1 col6\" >22.6</td>\n",
       "                        <td id=\"T_1bdc5_row1_col7\" class=\"data row1 col7\" >27.7%</td>\n",
       "            </tr>\n",
       "            <tr>\n",
       "                        <th id=\"T_1bdc5_level0_row2\" class=\"row_heading level0 row2\" >Sports</th>\n",
       "                        <td id=\"T_1bdc5_row2_col0\" class=\"data row2 col0\" >46.1</td>\n",
       "                        <td id=\"T_1bdc5_row2_col1\" class=\"data row2 col1\" >16.2%</td>\n",
       "                        <td id=\"T_1bdc5_row2_col2\" class=\"data row2 col2\" >45.7</td>\n",
       "                        <td id=\"T_1bdc5_row2_col3\" class=\"data row2 col3\" >16.9%</td>\n",
       "                        <td id=\"T_1bdc5_row2_col4\" class=\"data row2 col4\" >nan</td>\n",
       "                        <td id=\"T_1bdc5_row2_col5\" class=\"data row2 col5\" >nan%</td>\n",
       "                        <td id=\"T_1bdc5_row2_col6\" class=\"data row2 col6\" >14.4</td>\n",
       "                        <td id=\"T_1bdc5_row2_col7\" class=\"data row2 col7\" >17.6%</td>\n",
       "            </tr>\n",
       "            <tr>\n",
       "                        <th id=\"T_1bdc5_level0_row3\" class=\"row_heading level0 row3\" >Role-Playing</th>\n",
       "                        <td id=\"T_1bdc5_row3_col0\" class=\"data row3 col0\" >33.5</td>\n",
       "                        <td id=\"T_1bdc5_row3_col1\" class=\"data row3 col1\" >11.8%</td>\n",
       "                        <td id=\"T_1bdc5_row3_col2\" class=\"data row3 col2\" >28.2</td>\n",
       "                        <td id=\"T_1bdc5_row3_col3\" class=\"data row3 col3\" >10.4%</td>\n",
       "                        <td id=\"T_1bdc5_row3_col4\" class=\"data row3 col4\" >31.2</td>\n",
       "                        <td id=\"T_1bdc5_row3_col5\" class=\"data row3 col5\" >33.5%</td>\n",
       "                        <td id=\"T_1bdc5_row3_col6\" class=\"data row3 col6\" >8.6</td>\n",
       "                        <td id=\"T_1bdc5_row3_col7\" class=\"data row3 col7\" >10.6%</td>\n",
       "            </tr>\n",
       "            <tr>\n",
       "                        <th id=\"T_1bdc5_level0_row4\" class=\"row_heading level0 row4\" >Misc</th>\n",
       "                        <td id=\"T_1bdc5_row4_col0\" class=\"data row4 col0\" >15.0</td>\n",
       "                        <td id=\"T_1bdc5_row4_col1\" class=\"data row4 col1\" >5.3%</td>\n",
       "                        <td id=\"T_1bdc5_row4_col2\" class=\"data row4 col2\" >nan</td>\n",
       "                        <td id=\"T_1bdc5_row4_col3\" class=\"data row4 col3\" >nan%</td>\n",
       "                        <td id=\"T_1bdc5_row4_col4\" class=\"data row4 col4\" >5.6</td>\n",
       "                        <td id=\"T_1bdc5_row4_col5\" class=\"data row4 col5\" >6.0%</td>\n",
       "                        <td id=\"T_1bdc5_row4_col6\" class=\"data row4 col6\" >4.0</td>\n",
       "                        <td id=\"T_1bdc5_row4_col7\" class=\"data row4 col7\" >4.9%</td>\n",
       "            </tr>\n",
       "            <tr>\n",
       "                        <th id=\"T_1bdc5_level0_row5\" class=\"row_heading level0 row5\" >Racing</th>\n",
       "                        <td id=\"T_1bdc5_row5_col0\" class=\"data row5 col0\" >nan</td>\n",
       "                        <td id=\"T_1bdc5_row5_col1\" class=\"data row5 col1\" >nan%</td>\n",
       "                        <td id=\"T_1bdc5_row5_col2\" class=\"data row5 col2\" >14.1</td>\n",
       "                        <td id=\"T_1bdc5_row5_col3\" class=\"data row5 col3\" >5.2%</td>\n",
       "                        <td id=\"T_1bdc5_row5_col4\" class=\"data row5 col4\" >nan</td>\n",
       "                        <td id=\"T_1bdc5_row5_col5\" class=\"data row5 col5\" >nan%</td>\n",
       "                        <td id=\"T_1bdc5_row5_col6\" class=\"data row5 col6\" >nan</td>\n",
       "                        <td id=\"T_1bdc5_row5_col7\" class=\"data row5 col7\" >nan%</td>\n",
       "            </tr>\n",
       "            <tr>\n",
       "                        <th id=\"T_1bdc5_level0_row6\" class=\"row_heading level0 row6\" >Fighting</th>\n",
       "                        <td id=\"T_1bdc5_row6_col0\" class=\"data row6 col0\" >nan</td>\n",
       "                        <td id=\"T_1bdc5_row6_col1\" class=\"data row6 col1\" >nan%</td>\n",
       "                        <td id=\"T_1bdc5_row6_col2\" class=\"data row6 col2\" >nan</td>\n",
       "                        <td id=\"T_1bdc5_row6_col3\" class=\"data row6 col3\" >nan%</td>\n",
       "                        <td id=\"T_1bdc5_row6_col4\" class=\"data row6 col4\" >6.4</td>\n",
       "                        <td id=\"T_1bdc5_row6_col5\" class=\"data row6 col5\" >6.8%</td>\n",
       "                        <td id=\"T_1bdc5_row6_col6\" class=\"data row6 col6\" >nan</td>\n",
       "                        <td id=\"T_1bdc5_row6_col7\" class=\"data row6 col7\" >nan%</td>\n",
       "            </tr>\n",
       "    </tbody></table>"
      ],
      "text/plain": [
       "<pandas.io.formats.style.Styler at 0x7faac03379d0>"
      ]
     },
     "execution_count": 226,
     "metadata": {},
     "output_type": "execute_result"
    }
   ],
   "source": [
    "# построим сводный датафрейм продаж по жанрам\n",
    "# d = data_cut # посмотрим данные с 2002 г.\n",
    "d_style, disp_list, top_plat_reg = top_sales(data_cut,'genre')\n",
    "top_plat_reg[disp_list].style.format(d_style)"
   ]
  },
  {
   "cell_type": "markdown",
   "metadata": {},
   "source": [
    "<div class=\"alert alert-info\"> <b> На данных с 2002 г. </b> </div>\n",
    "Американский Топ5 жанров возглавляет Action. Первые 4 места у Америки и Европы - одинаковые с соответствующим лидерством и убыванием долей. 5-е место в Америке - Role-Playing, в Европе- Racing (при всем американском Наскаре и т.п., Европа больше любит и умеет в скорость).\n",
    "\n",
    "Японцы любят Role-Playing на 29.3% от всего своего рынка, при этом в японский Топ5 не попали Shooter и Racing. Скорее всего, сказываются общие культурные различия и предпочтения.\n",
    "\n",
    "Другие регионы (other_sales) - аналогичны по своим предпочтениям и долям продаж Европе."
   ]
  },
  {
   "cell_type": "markdown",
   "metadata": {},
   "source": [
    "<div class=\"alert alert-info\"> <b>Комментарий студента /версия3: </b> На данных с 2014 г.:\n",
    "    \n",
    "Американский Топ5 жанров возглавляет Shooter. Первые 4 места у Америки и Европы - одинаковые с соответствующим лидерством и убыванием долей. 5-е место в Америке - Misc, в Европе- Racing (при всем американском Наскаре и т.п., Европа больше любит и умеет в скорость).\n",
    "Японцы любят Role-Playing на 34% от всего своего рынка, при этом в японский Топ5 не попал Sports. Также по сравнению с прошлыми годами в японский ТОП5 добавились жанры Shooter\tи Fighting. Японский рынок стал более толерантным к жестоким играм. \n",
    "\n",
    "Другие регионы (other_sales) - аналогичны по своим предпочтениям и долям продаж Америке.\n",
    "</div>"
   ]
  },
  {
   "cell_type": "markdown",
   "metadata": {},
   "source": [
    "\n",
    "<div class=\"alert alert-danger\">\n",
    "<b>Комментарий ревьюера:</b>☀️Выводы верные! Стоит сказать, что здесь не хватает визуализации. Например, можно построить круговые диаграммы в ряд для трех регионов с помощью subplots().\n",
    "</div>\n"
   ]
  },
  {
   "cell_type": "markdown",
   "metadata": {},
   "source": [
    "Добавим графиков!!"
   ]
  },
  {
   "cell_type": "code",
   "execution_count": 227,
   "metadata": {},
   "outputs": [
    {
     "data": {
      "image/png": "[encoded data removed]",
      "text/plain": [
       "<Figure size 864x576 with 3 Axes>"
      ]
     },
     "metadata": {},
     "output_type": "display_data"
    }
   ],
   "source": [
    "x1 = top_plat_reg[top_plat_reg['na_sales'].notna()].index\n",
    "y1 = top_plat_reg[top_plat_reg['na_sales'].notna()]['na_sales']\n",
    "x2 = top_plat_reg[top_plat_reg['eu_sales'].notna()].index\n",
    "y2 = top_plat_reg[top_plat_reg['eu_sales'].notna()]['eu_sales']\n",
    "x3 = top_plat_reg[top_plat_reg['jp_sales'].notna()].index\n",
    "y3 = top_plat_reg[top_plat_reg['jp_sales'].notna()]['jp_sales']\n",
    "x4 = top_plat_reg[top_plat_reg['other_sales'].notna()].index\n",
    "y4 = top_plat_reg[top_plat_reg['other_sales'].notna()]['other_sales']\n",
    "\n",
    "figure, axis = plt.subplots(1, 3, figsize=(12,8))\n",
    "\n",
    "axis[0].pie(y1,labels=x1)\n",
    "axis[0].set_title(\"na_sales\")\n",
    "  \n",
    "axis[1].pie(y2,labels=x2)\n",
    "axis[1].set_title(\"eu_sales\")\n",
    "  \n",
    "axis[2].pie(y3,labels=x3)\n",
    "axis[2].set_title(\"jp_sales\")\n",
    "  \n",
    "#axis[1, 1].pie(y4,labels=x4)\n",
    "#axis[1, 1].set_title(\"other_sales\")\n",
    "  \n",
    "plt.show()"
   ]
  },
  {
   "cell_type": "markdown",
   "metadata": {},
   "source": [
    "\n",
    "<div class=\"alert alert-success\">\n",
    "<b>Комментарий ревьюера v4.0:</b>Отлично :) Так смотрится ярче , интереснее и информативнее</div>"
   ]
  },
  {
   "cell_type": "markdown",
   "metadata": {},
   "source": [
    "## Влияет ли рейтинг ESRB на продажи в отдельном регионе"
   ]
  },
  {
   "cell_type": "markdown",
   "metadata": {},
   "source": [
    "Посмотрим как распределены продажи по рейтингам"
   ]
  },
  {
   "cell_type": "code",
   "execution_count": 228,
   "metadata": {},
   "outputs": [
    {
     "data": {
      "text/html": [
       "<div>\n",
       "<style scoped>\n",
       "    .dataframe tbody tr th:only-of-type {\n",
       "        vertical-align: middle;\n",
       "    }\n",
       "\n",
       "    .dataframe tbody tr th {\n",
       "        vertical-align: top;\n",
       "    }\n",
       "\n",
       "    .dataframe thead th {\n",
       "        text-align: right;\n",
       "    }\n",
       "</style>\n",
       "<table border=\"1\" class=\"dataframe\">\n",
       "  <thead>\n",
       "    <tr style=\"text-align: right;\">\n",
       "      <th></th>\n",
       "      <th>na_sales</th>\n",
       "      <th>eu_sales</th>\n",
       "      <th>jp_sales</th>\n",
       "      <th>other_sales</th>\n",
       "      <th>rating_dig</th>\n",
       "    </tr>\n",
       "    <tr>\n",
       "      <th>rating</th>\n",
       "      <th></th>\n",
       "      <th></th>\n",
       "      <th></th>\n",
       "      <th></th>\n",
       "      <th></th>\n",
       "    </tr>\n",
       "  </thead>\n",
       "  <tbody>\n",
       "    <tr>\n",
       "      <th>M</th>\n",
       "      <td>104.32</td>\n",
       "      <td>102.10</td>\n",
       "      <td>8.61</td>\n",
       "      <td>31.50</td>\n",
       "      <td>6.0</td>\n",
       "    </tr>\n",
       "    <tr>\n",
       "      <th>E</th>\n",
       "      <td>50.81</td>\n",
       "      <td>58.32</td>\n",
       "      <td>8.98</td>\n",
       "      <td>15.42</td>\n",
       "      <td>1.0</td>\n",
       "    </tr>\n",
       "    <tr>\n",
       "      <th>T</th>\n",
       "      <td>40.28</td>\n",
       "      <td>35.33</td>\n",
       "      <td>16.28</td>\n",
       "      <td>11.76</td>\n",
       "      <td>5.0</td>\n",
       "    </tr>\n",
       "    <tr>\n",
       "      <th>E10+</th>\n",
       "      <td>34.56</td>\n",
       "      <td>27.51</td>\n",
       "      <td>4.77</td>\n",
       "      <td>8.23</td>\n",
       "      <td>4.0</td>\n",
       "    </tr>\n",
       "  </tbody>\n",
       "</table>\n",
       "</div>"
      ],
      "text/plain": [
       "        na_sales  eu_sales  jp_sales  other_sales  rating_dig\n",
       "rating                                                       \n",
       "M         104.32    102.10      8.61        31.50         6.0\n",
       "E          50.81     58.32      8.98        15.42         1.0\n",
       "T          40.28     35.33     16.28        11.76         5.0\n",
       "E10+       34.56     27.51      4.77         8.23         4.0"
      ]
     },
     "metadata": {},
     "output_type": "display_data"
    },
    {
     "data": {
      "image/png": "[encoded data removed]",
      "text/plain": [
       "<Figure size 432x288 with 1 Axes>"
      ]
     },
     "metadata": {
      "needs_background": "light"
     },
     "output_type": "display_data"
    }
   ],
   "source": [
    "d = data_cut # используем данные с 2014 г.\n",
    "reg_list = ['na_sales','eu_sales','jp_sales','other_sales']\n",
    "rating_sales = (d.groupby('rating')[reg_list].sum().\n",
    "                sort_values(by='na_sales',ascending=False))\n",
    "rating_sales = pd.concat((rating_sales,\n",
    "              d.groupby('rating')['rating_dig'].first()),axis=1)\n",
    "display(rating_sales)\n",
    "rating_sales[reg_list].plot(kind='bar');"
   ]
  },
  {
   "cell_type": "markdown",
   "metadata": {},
   "source": [
    "Видим, что зависимость продаж от рейтинга есть и она одинаковая во всех регионах. Больше всего продаж игр с рейтингом \"E\" (для всех возрастов). Но убывание продаж идет не строго по росту возрастного ценза. Второй рейтинг по объему продаж- \"М\" (17+), далее- \"Т\" (13+).  В Японии игры с рейтингом \"Т\" продаются лучше \"М\""
   ]
  },
  {
   "cell_type": "markdown",
   "metadata": {},
   "source": [
    "<div class=\"alert alert-info\"> <b>Комментарий студента /версия3: </b> На данных с 2014 г.:\n",
    "    \n",
    "Видим, что зависимость продаж от рейтинга есть и она одинаковая во всех регионах. Больше всего продаж игр с рейтингом \"М\" (17+). Второй рейтинг по объему продаж- \"E\" (для всех возрастов), далее- \"Т\" (13+). В Японии другой ранк: 1-е место \"Т\", 2-е \"Е\", потом \"М\" и \"Е10+\"\n",
    "    \n",
    "</div>"
   ]
  },
  {
   "cell_type": "markdown",
   "metadata": {},
   "source": [
    "# Шаг 5. Проверьте гипотезы"
   ]
  },
  {
   "cell_type": "markdown",
   "metadata": {},
   "source": [
    "## Средние пользовательские рейтинги платформ Xbox One и PC одинаковые"
   ]
  },
  {
   "cell_type": "markdown",
   "metadata": {},
   "source": [
    "Считаем, что оценки пользователей для разных платформ выставляются независимо. Таким образом нам необходимо проверить гипотезу о равенстве среднего двух генеральных совокупностей.\n",
    "\n",
    "Используем встроенный t-тест и сравним возвращаемый тестом уровень значимости с заданным критическим уровнем\n",
    "\n",
    "- Н0 - Среднее выборки поля user_score для платформы XBox (X360) равно такому же среднему для PC\n",
    "- Н1 - соответственно- не равно"
   ]
  },
  {
   "cell_type": "code",
   "execution_count": 80,
   "metadata": {},
   "outputs": [],
   "source": [
    "year_cutoff = 2013\n",
    "data_cut = data[data['year_of_release']>year_cutoff]"
   ]
  },
  {
   "cell_type": "code",
   "execution_count": 81,
   "metadata": {},
   "outputs": [
    {
     "name": "stdout",
     "output_type": "stream",
     "text": [
      "Средняя пользовательская оценка для XBox:  5.77\n",
      "Средняя пользовательская оценка для PC:  6.29\n",
      "Критический уровень статистической значимости 1.0%\n",
      "p-значение: 3.5961%\n",
      "Не получилось отвергнуть нулевую гипотезу\n"
     ]
    }
   ],
   "source": [
    "d = data_cut # используем данные с 2002 г\n",
    "# не забываем исключить из рассмотрения пустые значения и \"-1\"\n",
    "xbox_score = d[(d['platform']=='X360') & (d['user_score']!=-1) &\n",
    "         (d['user_score'].notna())]['user_score']\n",
    "pc_score   = d[(d['platform']=='PC')  & (d['user_score']!=-1) &\n",
    "         (d['user_score'].notna())]['user_score']\n",
    "\n",
    "\n",
    "\n",
    "print('Средняя пользовательская оценка для XBox: ',round(xbox_score.mean(),2))\n",
    "print('Средняя пользовательская оценка для PC: ',round(pc_score.mean(),2))\n",
    "\n",
    "alpha = 0.01 # критический уровень статистической значимости %\n",
    "\n",
    "results = st.ttest_ind(\n",
    "    xbox_score, \n",
    "    pc_score,equal_var = False)\n",
    "\n",
    "print('Критический уровень статистической значимости','{:,.1%}'.format(alpha))\n",
    "print('p-значение:', '{:,.4%}'.format(results.pvalue))\n",
    "\n",
    "if results.pvalue < alpha:\n",
    "    print(\"Отвергаем нулевую гипотезу\")\n",
    "else:\n",
    "    print(\"Не получилось отвергнуть нулевую гипотезу\") "
   ]
  },
  {
   "cell_type": "markdown",
   "metadata": {},
   "source": [
    "Не отвергаем гипотезу о равенстве пользовательских рейтингов. Верно и для alpha=5%"
   ]
  },
  {
   "cell_type": "markdown",
   "metadata": {},
   "source": [
    "## Средние пользовательские рейтинги жанров Action (англ. «действие», экшен-игры) и Sports (англ. «спортивные соревнования») разные"
   ]
  },
  {
   "cell_type": "markdown",
   "metadata": {},
   "source": [
    "Считаем, что оценки пользователей для разных жанров выставляются независимо. Таким образом нам необходимо проверить гипотезу о равенстве среднего двух генеральных совокупностей.\n",
    "\n",
    "Используем встроенный t-тест и сравним возвращаемый тестом уровень значимости с заданным критическим уровнем\n",
    "\n",
    "- Н0 - Среднее выборки поля user_score для жанра Action НЕ равно такому же среднему для Sports\n",
    "- Н1 - соответственно - равно"
   ]
  },
  {
   "cell_type": "code",
   "execution_count": 82,
   "metadata": {},
   "outputs": [],
   "source": [
    "year_cutoff = 2013\n",
    "data_cut = data[data['year_of_release']>year_cutoff]"
   ]
  },
  {
   "cell_type": "code",
   "execution_count": 83,
   "metadata": {},
   "outputs": [
    {
     "name": "stdout",
     "output_type": "stream",
     "text": [
      "Средняя пользовательская оценка для Action:  6.8\n",
      "Средняя пользовательская оценка для PC:  5.25\n",
      "Критический уровень статистической значимости 1.0%\n",
      "p-значение: 0.0000%\n",
      "Не получилось отвергнуть нулевую гипотезу\n"
     ]
    }
   ],
   "source": [
    "d = data_cut # используем данные с 2002 г\n",
    "# не забываем исключить из рассмотрения пустые значения и \"-1\"\n",
    "action_score = d[(d['genre']=='Action') & (d['user_score']!=-1) &\n",
    "         (d['user_score'].notna())]['user_score']\n",
    "sports_score = d[(d['genre']=='Sports')  & (d['user_score']!=-1) &\n",
    "         (d['user_score'].notna())]['user_score']\n",
    "\n",
    "\n",
    "\n",
    "print('Средняя пользовательская оценка для Action: ',\n",
    "      round(action_score.mean(),2))\n",
    "print('Средняя пользовательская оценка для PC: ',\n",
    "      round(sports_score.mean(),2))\n",
    "\n",
    "alpha = 0.01 # критический уровень статистической значимости %\n",
    "\n",
    "results = st.ttest_ind(\n",
    "    action_score, \n",
    "    sports_score,equal_var = False)\n",
    "\n",
    "print('Критический уровень статистической значимости','{:,.1%}'.format(alpha))\n",
    "print('p-значение:', '{:,.4%}'.format(results.pvalue))\n",
    "\n",
    "if results.pvalue > alpha: # здесь установим >\n",
    "    print(\"Отвергаем нулевую гипотезу\")\n",
    "else:\n",
    "    print(\"Не получилось отвергнуть нулевую гипотезу\") "
   ]
  },
  {
   "cell_type": "markdown",
   "metadata": {},
   "source": [
    "Не отвергаем гипотезу о разных средних рейтингах для Action и Sports. Верно и для alpha=5%"
   ]
  },
  {
   "cell_type": "markdown",
   "metadata": {},
   "source": [
    "\n",
    "<div class=\"alert alert-danger\">\n",
    "<b>Комментарий ревьюера:</b> В проверке гипотез у тебя отличная логика! Очень хорошо, что ты выводишь значения сравниваемых параметров. Осталось только скорректировать это под новый актуальный период\n",
    "</div>\n"
   ]
  },
  {
   "cell_type": "markdown",
   "metadata": {},
   "source": [
    "<div class=\"alert alert-info\"> <b>Комментарий студента:</b> Изменение анализируемого периода изменило вывод для первой гипотезы! </div>"
   ]
  },
  {
   "cell_type": "markdown",
   "metadata": {},
   "source": [
    "\n",
    "<div class=\"alert alert-success\">\n",
    "<b>Комментарий ревьюера v3.0:</b>☀️Да, спасибо за правки. </div>"
   ]
  },
  {
   "cell_type": "markdown",
   "metadata": {},
   "source": [
    "# Шаг 6. Общий вывод"
   ]
  },
  {
   "cell_type": "markdown",
   "metadata": {},
   "source": [
    "1. Выделить какие то факторы в полях датасета, однозначно определяющие появление значительной части пропусков (кроме проведенных замен) в поле rating (равно как и в поле user_score и critic_score) не получается. Данные пропуски распределены в датасете достаточно равномерно. Их появление обусловлено техническими причинами (ошибки при копировании, выгрузке, расчтах данных)\n",
    "\n",
    "2. Все игровые платформы имеют характерные периоды взлетов и падений продаж. Основная активность приходится на период с 2000 до 2012-2013 гг. Очевидно, что снижение продаж видеоигр связано с появлением больших и достаточно мощных смартфонов и игр на них, а также ростом популярности браузерных игр (в т.ч. внутри соц.сетей)\n",
    "\n",
    "3. Статистика по времении жизни КРУПНЕЙШИХ (75% рынка) платформ:\n",
    "    \n",
    "    - Минимальное время:  3.0\n",
    "    - Максимальное время:  31.0\n",
    "    - Медианное время:  11.0\n",
    "\n",
    "Добавление\n",
    "<div class=\"alert alert-info\"> К данным выше добавим то, что:\n",
    "\n",
    "- все платформы растут в реднем 5.2 года, снижаются - 4.9\n",
    "- крупнейшие 75% рынка растут в среднем 7.8 года, снижаются - 5.4\n",
    "- крупнейшие 50% рынка растут в среднем 8 лет, снижаются - 6.2\n",
    "</div>\n",
    "*\n",
    "4. Все \"оставшиеся в живых\" на 2016г. платформы снижают продажи со своих максимумов. Лучше других (по абсолютным показателям) выглядят PS4, XOne, 3DS.\n",
    "\n",
    "\n",
    "5. Медианное значений корреляцией:\n",
    "* На данных с 2002 г.:\n",
    "- между глобальными продажами и оценками критиков составляет 0.32, что можно охарактеризовать как среднюю прямую зависимость.\n",
    "- между глобальными продажами и оценками пользователей составляет 0.17, что можно охарактеризовать как слабую прямую зависимость.\n",
    "\n",
    "<div class=\"alert alert-info\"> на данных с 2014 г.:\n",
    "\n",
    "Видим, что медианное значений корреляцией:\n",
    "- между глобальными продажами и оценками критиков составляет 0.35, что можно охарактеризовать как среднюю прямую зависимость.\n",
    "- между глобальными продажами и оценками пользователей составляет 0.017, что можно охарактеризовать как отсутствие зависимости.\n",
    "</div>\n",
    "* \n",
    "\n",
    "6. Больше всего по количеству и сумме продавалось игр в жанрах Sports, Action. Меньше всего по сумме было продаж в жанрах: Strategy, Adventure, Pazzle.\n",
    "<div class=\"alert alert-info\">\n",
    "    \n",
    "    - На данных с 2014 г. такие же лидеры\n",
    "    \n",
    "    - медианные продажи на данных с 2014 г самые высокие в жанрах Platform, Shooter, Sports. Эти лидеры полностью совпадают с лидерами медианной цене игры в жанре на данных за все года.\n",
    "</div>\n",
    "\n",
    "7. На данных с 2002 г. Топ5 платформ в Америке, Европе и в других регионах (кроме Японии) совпадают. Но лидеры различаются: в Америке - X360, в Европе- PS3, в других регионах- PS2. Японский Топ5 возглавляет DS с большим удельным весом в 25%.\n",
    "<div class=\"alert alert-info\"> На данных с 2014 г.:    \n",
    "Топ5 платформ в Америке, и в других регионах (кроме Европы  и Японии) совпадают.\n",
    "ТОП5 Европы почти совпадает с Америкой, за исключением X360, вместо нее в европейский ТОП5 вошел PC. Японский Топ5 возглавляет 3DS с большим удельным весом в 48% (Это логично следует из страны происхождения платформ), также в японском Топ5 есть PSV и WiiU, которых нет в Топ5 остального (кроме Японии) мира и в японский топ не вошли X360 и XOne.\n",
    "</div>\n",
    "\n",
    "8. Н данных  с 2002 г. Американский Топ5 жанров возглавляет Action. Первые 4 места у Америки и Европы - одинаковые с соответствующим лидерством и убыванием долей. Японцы любят Role-Playing на 29.3%, при этом в японский Топ5 не попали Shooter и Racing. Скорее всего, сказываются общие культурные различия и предпочтения.\n",
    "<div class=\"alert alert-info\"> На данных с 2014 г.:\n",
    "Американский Топ5 жанров возглавляет Shooter. Первые 4 места у Америки и Европы - одинаковые с соответствующим лидерством и убыванием долей. 5-е место в Америке - Misc, в Европе- Racing (при всем американском Наскаре и т.п., Европа больше любит и умеет в скорость).\n",
    "Японцы любят Role-Playing на 34% от всего своего рынка, при этом в японский Топ5 не попал Sports. Также по сравнению с прошлыми годами в японский ТОП5 добавились жанры Shooter\tи Fighting. Японский рынок стал более толерантным к жестоким играм. \n",
    "Другие регионы (other_sales) - аналогичны по своим предпочтениям и долям продаж Америке.\n",
    "</div>\n",
    "\n",
    "9. На данных с 2002 г. Выявлена зависимость продаж от рейтинга есть и она одинаковая во всех регионах. Больше всего продаж игр с рейтингом \"E\" (для всех возрастов). Но убывание продаж идет не строго по росту возрастного ценза. Второй рейтинг по объему продаж- \"М\" (17+), далее- \"Т\" (13+). В Японии игры с рейтингом \"Т\" продаются лучше \"М\"\n",
    "<div class=\"alert alert-info\"> На данных с 2014 г.:\n",
    "Видим, что зависимость продаж от рейтинга есть и она одинаковая во всех регионах. Больше всего продаж игр с рейтингом \"М\" (17+). Второй рейтинг по объему продаж- \"E\" (для всех возрастов), далее- \"Т\" (13+). В Японии другой ранк: 1-е место \"Т\", 2-е \"Е\", потом \"М\" и \"Е10+\"\n",
    "</div>\n",
    "\n",
    "10. На данных с 2014 г. Проверили и не можем отвергнуть гипотезу о равенстве средних значений пользовательских рейтингов платформ Xbox One и PC.\n",
    "\n",
    "11. На данных с 2014 г. Проверили и не отвергаем гипотезу о том, что средние пользовательские рейтинги жанров Action и Sports - разные"
   ]
  },
  {
   "cell_type": "markdown",
   "metadata": {},
   "source": [
    "\n",
    "<div class=\"alert alert-success\">\n",
    "<b>Комментарий ревьюера:</b>☀️Спасибо за подробный общий вывод :)\n",
    "</div>\n"
   ]
  },
  {
   "cell_type": "markdown",
   "metadata": {},
   "source": [
    "\n",
    "<div class=\"alert alert-warning\">\n",
    "<b>Комментарий ревьюера:</b>☀️Григорий, спасибо тебе за твой проект! Ты отлично справился, видно, что приложено много усилий, однако есть моменты, которые нужно доработать. Подробнее о них ты узнаешь в моих комментариях по ходу проекта. Пожалуйста, ознакомься с ними и оставь свои :) Отправляю тебе проект на доработку и жду на повторное ревью. Все получится, успехов ! ;)\n",
    "</div>\n"
   ]
  },
  {
   "cell_type": "markdown",
   "metadata": {},
   "source": [
    "<div class=\"alert alert-info\"> <b>Комментарий студента:</b> Благодарю за ревью! </div>"
   ]
  },
  {
   "cell_type": "markdown",
   "metadata": {},
   "source": [
    "\n",
    "<div class=\"alert alert-danger\">\n",
    "<b>Комментарий ревьюера v2.0:</b> Благодарю за правки, которые ты внес. Пожалуйста, ознакомься с моими комментариями. </div>"
   ]
  },
  {
   "cell_type": "markdown",
   "metadata": {},
   "source": [
    "<div class=\"alert alert-info\"> Комментарий студента /версия2:\n",
    "Внесены изменения в п.6\n",
    "    \n",
    "В пунктах 9-13, насколько я понял, ранее вы выразили свое согласие с моим анализом, произведенным на данных с 2002 г. Поэтому данные в этих пунктах не резал.\n",
    "\n",
    "Также в п.13 не увидел ваш комментарий относительно внесенных добавлений\n",
    "    \n",
    "п.17-18. Я взял данные с 2014 г. в пункте о проверке гипотез, где это действительно изменило результат. Но я не увидел там ваш комментарий.\n",
    "    </div>"
   ]
  },
  {
   "cell_type": "markdown",
   "metadata": {},
   "source": [
    "\n",
    "<div class=\"alert alert-danger\">\n",
    "<b>Комментарий ревьюера v3.0:</b>☀️Теперь на все ответила. Осталось только скорректировать актуальный период. Успехов! Спасибо за четкую аргументацию </div>"
   ]
  },
  {
   "cell_type": "markdown",
   "metadata": {},
   "source": [
    "\n",
    "<div class=\"alert alert-success\">\n",
    "<b>Комментарий ревьюера v4.0:</b>Спасибо за доработанные выводы и проект :) Ты большой молодец, все принято! Желаю успехов на поприще аналитики ;) Оставить свою позицию и давать аргументацию - важный навык, в будущем тебе это пригодится ;) </div>"
   ]
  }
 ],
 "metadata": {
  "ExecuteTimeLog": [
   {
    "duration": 53,
    "start_time": "2023-01-20T11:14:48.979Z"
   },
   {
    "duration": 1301,
    "start_time": "2023-01-20T11:14:53.329Z"
   },
   {
    "duration": 72,
    "start_time": "2023-01-20T11:14:54.633Z"
   },
   {
    "duration": 27,
    "start_time": "2023-01-20T11:14:54.707Z"
   },
   {
    "duration": 6,
    "start_time": "2023-01-20T11:14:54.736Z"
   },
   {
    "duration": 40,
    "start_time": "2023-01-20T11:14:54.743Z"
   },
   {
    "duration": 7,
    "start_time": "2023-01-20T11:14:54.786Z"
   },
   {
    "duration": 12,
    "start_time": "2023-01-20T11:14:54.795Z"
   },
   {
    "duration": 29,
    "start_time": "2023-01-20T11:14:54.808Z"
   },
   {
    "duration": 14,
    "start_time": "2023-01-20T11:14:54.839Z"
   },
   {
    "duration": 28,
    "start_time": "2023-01-20T11:14:54.856Z"
   },
   {
    "duration": 16,
    "start_time": "2023-01-20T11:14:54.886Z"
   },
   {
    "duration": 29,
    "start_time": "2023-01-20T11:14:54.904Z"
   },
   {
    "duration": 117,
    "start_time": "2023-01-20T11:14:54.935Z"
   },
   {
    "duration": 4,
    "start_time": "2023-01-20T11:14:55.055Z"
   },
   {
    "duration": 17,
    "start_time": "2023-01-20T11:14:55.061Z"
   },
   {
    "duration": 43,
    "start_time": "2023-01-20T11:14:55.080Z"
   },
   {
    "duration": 10,
    "start_time": "2023-01-20T11:14:55.125Z"
   },
   {
    "duration": 11,
    "start_time": "2023-01-20T11:14:55.137Z"
   },
   {
    "duration": 551,
    "start_time": "2023-01-20T11:14:55.150Z"
   },
   {
    "duration": 94,
    "start_time": "2023-01-20T11:14:55.703Z"
   },
   {
    "duration": 26,
    "start_time": "2023-01-20T11:14:55.799Z"
   },
   {
    "duration": 5,
    "start_time": "2023-01-20T11:14:55.826Z"
   },
   {
    "duration": 17,
    "start_time": "2023-01-20T11:14:55.832Z"
   },
   {
    "duration": 14,
    "start_time": "2023-01-20T11:14:55.850Z"
   },
   {
    "duration": 189,
    "start_time": "2023-01-20T11:14:55.865Z"
   },
   {
    "duration": 18,
    "start_time": "2023-01-20T11:14:56.056Z"
   },
   {
    "duration": 17,
    "start_time": "2023-01-20T11:14:56.075Z"
   },
   {
    "duration": 42,
    "start_time": "2023-01-20T11:14:56.098Z"
   },
   {
    "duration": 20,
    "start_time": "2023-01-20T11:14:56.142Z"
   },
   {
    "duration": 25,
    "start_time": "2023-01-20T11:14:56.164Z"
   },
   {
    "duration": 4,
    "start_time": "2023-01-20T11:14:56.191Z"
   },
   {
    "duration": 2360,
    "start_time": "2023-01-20T11:14:56.196Z"
   },
   {
    "duration": 13,
    "start_time": "2023-01-20T11:14:58.557Z"
   },
   {
    "duration": 451,
    "start_time": "2023-01-20T11:14:58.571Z"
   },
   {
    "duration": 251,
    "start_time": "2023-01-20T11:14:59.024Z"
   },
   {
    "duration": 250,
    "start_time": "2023-01-20T11:14:59.276Z"
   },
   {
    "duration": 237,
    "start_time": "2023-01-20T11:14:59.528Z"
   },
   {
    "duration": 228,
    "start_time": "2023-01-20T11:14:59.766Z"
   },
   {
    "duration": 462,
    "start_time": "2023-01-20T11:14:59.996Z"
   },
   {
    "duration": 270,
    "start_time": "2023-01-20T11:15:00.460Z"
   },
   {
    "duration": 282,
    "start_time": "2023-01-20T11:15:00.732Z"
   },
   {
    "duration": 4,
    "start_time": "2023-01-20T11:15:01.021Z"
   },
   {
    "duration": 83,
    "start_time": "2023-01-20T11:15:01.027Z"
   },
   {
    "duration": 185,
    "start_time": "2023-01-20T11:15:01.112Z"
   },
   {
    "duration": 12,
    "start_time": "2023-01-20T11:15:01.298Z"
   },
   {
    "duration": 260,
    "start_time": "2023-01-20T11:15:01.321Z"
   },
   {
    "duration": 319,
    "start_time": "2023-01-20T11:15:01.583Z"
   },
   {
    "duration": 171,
    "start_time": "2023-01-20T11:15:01.904Z"
   },
   {
    "duration": 7,
    "start_time": "2023-01-20T11:15:02.076Z"
   },
   {
    "duration": 360,
    "start_time": "2023-01-20T11:15:02.084Z"
   },
   {
    "duration": 299,
    "start_time": "2023-01-20T11:15:02.446Z"
   },
   {
    "duration": 263,
    "start_time": "2023-01-20T11:15:02.746Z"
   },
   {
    "duration": 500,
    "start_time": "2023-01-20T11:15:03.010Z"
   },
   {
    "duration": 601,
    "start_time": "2023-01-20T11:15:03.512Z"
   },
   {
    "duration": 829,
    "start_time": "2023-01-20T11:15:04.115Z"
   },
   {
    "duration": 5,
    "start_time": "2023-01-20T11:15:04.946Z"
   },
   {
    "duration": 166,
    "start_time": "2023-01-20T11:15:04.952Z"
   },
   {
    "duration": 199,
    "start_time": "2023-01-20T11:15:05.119Z"
   },
   {
    "duration": 14,
    "start_time": "2023-01-20T11:15:05.320Z"
   },
   {
    "duration": 19,
    "start_time": "2023-01-20T11:15:05.336Z"
   },
   {
    "duration": 170,
    "start_time": "2023-01-20T11:15:05.357Z"
   },
   {
    "duration": 165,
    "start_time": "2023-01-20T11:15:05.529Z"
   },
   {
    "duration": 26,
    "start_time": "2023-01-20T11:15:05.696Z"
   },
   {
    "duration": 14,
    "start_time": "2023-01-20T11:15:05.724Z"
   },
   {
    "duration": 418,
    "start_time": "2023-01-20T11:15:05.740Z"
   },
   {
    "duration": 23,
    "start_time": "2023-01-20T11:15:06.160Z"
   },
   {
    "duration": 247,
    "start_time": "2023-01-20T11:15:06.186Z"
   },
   {
    "duration": 144,
    "start_time": "2023-01-20T11:15:06.435Z"
   },
   {
    "duration": 161,
    "start_time": "2023-01-20T11:15:06.581Z"
   },
   {
    "duration": 27,
    "start_time": "2023-01-20T11:15:06.744Z"
   },
   {
    "duration": 22,
    "start_time": "2023-01-20T11:15:06.773Z"
   },
   {
    "duration": 227,
    "start_time": "2023-01-20T11:15:06.796Z"
   },
   {
    "duration": 15,
    "start_time": "2023-01-20T11:15:07.025Z"
   },
   {
    "duration": 16,
    "start_time": "2023-01-20T11:15:07.041Z"
   },
   {
    "duration": 45,
    "start_time": "2023-01-21T00:50:36.845Z"
   },
   {
    "duration": 1356,
    "start_time": "2023-01-21T00:50:44.451Z"
   },
   {
    "duration": 110,
    "start_time": "2023-01-21T00:50:45.809Z"
   },
   {
    "duration": 21,
    "start_time": "2023-01-21T00:50:47.191Z"
   },
   {
    "duration": 3,
    "start_time": "2023-01-21T00:50:49.178Z"
   },
   {
    "duration": 13,
    "start_time": "2023-01-21T00:50:49.967Z"
   },
   {
    "duration": 6,
    "start_time": "2023-01-21T00:50:51.316Z"
   },
   {
    "duration": 6,
    "start_time": "2023-01-21T00:50:52.177Z"
   },
   {
    "duration": 11,
    "start_time": "2023-01-21T00:50:52.583Z"
   },
   {
    "duration": 7,
    "start_time": "2023-01-21T00:50:53.405Z"
   },
   {
    "duration": 17,
    "start_time": "2023-01-21T00:50:54.242Z"
   },
   {
    "duration": 15,
    "start_time": "2023-01-21T00:50:56.295Z"
   },
   {
    "duration": 16,
    "start_time": "2023-01-21T00:50:57.403Z"
   },
   {
    "duration": 83,
    "start_time": "2023-01-21T00:50:58.787Z"
   },
   {
    "duration": 3,
    "start_time": "2023-01-21T00:50:59.713Z"
   },
   {
    "duration": 7,
    "start_time": "2023-01-21T00:51:00.563Z"
   },
   {
    "duration": 25,
    "start_time": "2023-01-21T00:51:00.991Z"
   },
   {
    "duration": 10,
    "start_time": "2023-01-21T00:51:01.455Z"
   },
   {
    "duration": 4,
    "start_time": "2023-01-21T00:51:01.891Z"
   },
   {
    "duration": 513,
    "start_time": "2023-01-21T00:51:02.929Z"
   },
   {
    "duration": 79,
    "start_time": "2023-01-21T00:51:04.290Z"
   },
   {
    "duration": 13,
    "start_time": "2023-01-21T00:51:05.141Z"
   },
   {
    "duration": 5,
    "start_time": "2023-01-21T00:51:06.008Z"
   },
   {
    "duration": 5,
    "start_time": "2023-01-21T00:51:07.010Z"
   },
   {
    "duration": 11,
    "start_time": "2023-01-21T00:51:07.484Z"
   },
   {
    "duration": 165,
    "start_time": "2023-01-21T00:51:07.935Z"
   },
   {
    "duration": 20,
    "start_time": "2023-01-21T00:51:08.364Z"
   },
   {
    "duration": 18,
    "start_time": "2023-01-21T00:51:08.795Z"
   },
   {
    "duration": 21,
    "start_time": "2023-01-21T00:51:09.638Z"
   },
   {
    "duration": 21,
    "start_time": "2023-01-21T00:51:10.548Z"
   },
   {
    "duration": 23,
    "start_time": "2023-01-21T00:51:11.576Z"
   },
   {
    "duration": 3,
    "start_time": "2023-01-21T00:51:12.443Z"
   },
   {
    "duration": 2037,
    "start_time": "2023-01-21T00:51:12.890Z"
   },
   {
    "duration": 12,
    "start_time": "2023-01-21T00:51:14.929Z"
   },
   {
    "duration": 389,
    "start_time": "2023-01-21T00:51:14.954Z"
   },
   {
    "duration": 253,
    "start_time": "2023-01-21T00:51:15.654Z"
   },
   {
    "duration": 215,
    "start_time": "2023-01-21T00:51:16.520Z"
   },
   {
    "duration": 202,
    "start_time": "2023-01-21T00:51:17.358Z"
   },
   {
    "duration": 213,
    "start_time": "2023-01-21T00:51:18.463Z"
   },
   {
    "duration": 441,
    "start_time": "2023-01-21T00:51:19.413Z"
   },
   {
    "duration": 242,
    "start_time": "2023-01-21T00:51:20.327Z"
   },
   {
    "duration": 235,
    "start_time": "2023-01-21T00:51:21.219Z"
   },
   {
    "duration": 5,
    "start_time": "2023-01-21T00:51:34.213Z"
   },
   {
    "duration": 16,
    "start_time": "2023-01-21T00:51:35.862Z"
   },
   {
    "duration": 139,
    "start_time": "2023-01-21T00:51:36.842Z"
   },
   {
    "duration": 9,
    "start_time": "2023-01-21T00:51:39.562Z"
   },
   {
    "duration": 217,
    "start_time": "2023-01-21T00:51:40.055Z"
   },
   {
    "duration": 264,
    "start_time": "2023-01-21T00:51:41.656Z"
   },
   {
    "duration": 137,
    "start_time": "2023-01-21T00:51:52.770Z"
   },
   {
    "duration": 5,
    "start_time": "2023-01-21T00:53:07.231Z"
   },
   {
    "duration": 223,
    "start_time": "2023-01-21T00:53:22.165Z"
   },
   {
    "duration": 176,
    "start_time": "2023-01-21T00:53:30.261Z"
   },
   {
    "duration": 5,
    "start_time": "2023-01-21T01:06:54.771Z"
   },
   {
    "duration": 8,
    "start_time": "2023-01-21T01:07:04.363Z"
   },
   {
    "duration": 9,
    "start_time": "2023-01-21T01:11:10.445Z"
   },
   {
    "duration": 362,
    "start_time": "2023-01-21T01:11:11.922Z"
   },
   {
    "duration": 206,
    "start_time": "2023-01-21T01:11:26.516Z"
   },
   {
    "duration": 233,
    "start_time": "2023-01-21T01:11:39.503Z"
   },
   {
    "duration": 450,
    "start_time": "2023-01-21T01:11:44.062Z"
   },
   {
    "duration": 629,
    "start_time": "2023-01-21T01:11:45.905Z"
   },
   {
    "duration": 540,
    "start_time": "2023-01-21T01:11:48.008Z"
   },
   {
    "duration": 4,
    "start_time": "2023-01-21T01:11:50.712Z"
   },
   {
    "duration": 111,
    "start_time": "2023-01-21T01:11:52.044Z"
   },
   {
    "duration": 135,
    "start_time": "2023-01-21T01:11:53.237Z"
   },
   {
    "duration": 15,
    "start_time": "2023-01-21T01:11:54.503Z"
   },
   {
    "duration": 13,
    "start_time": "2023-01-21T01:11:55.078Z"
   },
   {
    "duration": 120,
    "start_time": "2023-01-21T01:11:56.539Z"
   },
   {
    "duration": 136,
    "start_time": "2023-01-21T01:11:57.694Z"
   },
   {
    "duration": 12,
    "start_time": "2023-01-21T01:11:58.896Z"
   },
   {
    "duration": 15,
    "start_time": "2023-01-21T01:11:59.760Z"
   },
   {
    "duration": 362,
    "start_time": "2023-01-21T01:12:02.408Z"
   },
   {
    "duration": 19,
    "start_time": "2023-01-21T01:12:04.837Z"
   },
   {
    "duration": 190,
    "start_time": "2023-01-21T01:12:09.871Z"
   },
   {
    "duration": 120,
    "start_time": "2023-01-21T01:12:11.636Z"
   },
   {
    "duration": 230,
    "start_time": "2023-01-21T01:12:12.903Z"
   },
   {
    "duration": 5,
    "start_time": "2023-01-21T01:25:40.183Z"
   },
   {
    "duration": 1236,
    "start_time": "2023-01-21T01:26:38.928Z"
   },
   {
    "duration": 5,
    "start_time": "2023-01-21T01:26:54.404Z"
   },
   {
    "duration": 6,
    "start_time": "2023-01-21T01:28:49.564Z"
   },
   {
    "duration": 226,
    "start_time": "2023-01-21T01:28:53.240Z"
   },
   {
    "duration": 6,
    "start_time": "2023-01-21T01:29:08.136Z"
   },
   {
    "duration": 305,
    "start_time": "2023-01-21T01:29:10.506Z"
   },
   {
    "duration": 6,
    "start_time": "2023-01-21T01:29:57.508Z"
   },
   {
    "duration": 8,
    "start_time": "2023-01-21T01:30:54.927Z"
   },
   {
    "duration": 7,
    "start_time": "2023-01-21T01:30:58.252Z"
   },
   {
    "duration": 291,
    "start_time": "2023-01-21T01:31:21.571Z"
   },
   {
    "duration": 1214,
    "start_time": "2023-01-21T01:32:27.276Z"
   },
   {
    "duration": 7,
    "start_time": "2023-01-21T01:33:24.729Z"
   },
   {
    "duration": 6,
    "start_time": "2023-01-21T01:33:31.350Z"
   },
   {
    "duration": 1217,
    "start_time": "2023-01-21T01:34:40.279Z"
   },
   {
    "duration": 290,
    "start_time": "2023-01-21T01:34:46.141Z"
   },
   {
    "duration": 6,
    "start_time": "2023-01-21T01:35:21.315Z"
   },
   {
    "duration": 234,
    "start_time": "2023-01-21T01:35:23.299Z"
   },
   {
    "duration": 7,
    "start_time": "2023-01-21T01:35:39.137Z"
   },
   {
    "duration": 298,
    "start_time": "2023-01-21T01:35:42.184Z"
   },
   {
    "duration": 287,
    "start_time": "2023-01-21T01:36:43.457Z"
   },
   {
    "duration": 179,
    "start_time": "2023-01-21T01:37:43.153Z"
   },
   {
    "duration": 181,
    "start_time": "2023-01-21T01:38:28.086Z"
   },
   {
    "duration": 140,
    "start_time": "2023-01-21T01:43:33.008Z"
   },
   {
    "duration": 11,
    "start_time": "2023-01-21T01:44:40.163Z"
   },
   {
    "duration": 73,
    "start_time": "2023-01-21T01:45:27.415Z"
   },
   {
    "duration": 67,
    "start_time": "2023-01-21T01:45:35.504Z"
   },
   {
    "duration": 81,
    "start_time": "2023-01-21T01:45:53.487Z"
   },
   {
    "duration": 9,
    "start_time": "2023-01-21T01:46:08.592Z"
   },
   {
    "duration": 10,
    "start_time": "2023-01-21T01:46:23.328Z"
   },
   {
    "duration": 8,
    "start_time": "2023-01-21T01:46:33.710Z"
   },
   {
    "duration": 6,
    "start_time": "2023-01-21T01:46:45.003Z"
   },
   {
    "duration": 10,
    "start_time": "2023-01-21T01:48:17.963Z"
   },
   {
    "duration": 9,
    "start_time": "2023-01-21T01:48:51.078Z"
   },
   {
    "duration": 13,
    "start_time": "2023-01-21T01:49:07.086Z"
   },
   {
    "duration": 4,
    "start_time": "2023-01-21T01:49:28.032Z"
   },
   {
    "duration": 150,
    "start_time": "2023-01-21T01:49:37.831Z"
   },
   {
    "duration": 70,
    "start_time": "2023-01-21T01:50:33.726Z"
   },
   {
    "duration": 10,
    "start_time": "2023-01-21T01:50:39.826Z"
   },
   {
    "duration": 149,
    "start_time": "2023-01-21T01:50:54.316Z"
   },
   {
    "duration": 165,
    "start_time": "2023-01-21T01:55:49.662Z"
   },
   {
    "duration": 6,
    "start_time": "2023-01-21T02:01:14.747Z"
   },
   {
    "duration": 273,
    "start_time": "2023-01-21T02:01:19.201Z"
   },
   {
    "duration": 196,
    "start_time": "2023-01-21T02:01:21.132Z"
   },
   {
    "duration": 242,
    "start_time": "2023-01-21T02:01:25.711Z"
   },
   {
    "duration": 10,
    "start_time": "2023-01-21T02:19:21.990Z"
   },
   {
    "duration": 8,
    "start_time": "2023-01-21T02:19:31.035Z"
   },
   {
    "duration": 24,
    "start_time": "2023-01-21T02:19:37.377Z"
   },
   {
    "duration": 24,
    "start_time": "2023-01-21T02:19:40.683Z"
   },
   {
    "duration": 370,
    "start_time": "2023-01-21T02:19:44.191Z"
   },
   {
    "duration": 227,
    "start_time": "2023-01-21T02:22:24.840Z"
   },
   {
    "duration": 259,
    "start_time": "2023-01-21T02:23:02.389Z"
   },
   {
    "duration": 10,
    "start_time": "2023-01-21T02:24:41.743Z"
   },
   {
    "duration": 114,
    "start_time": "2023-01-21T02:24:51.766Z"
   },
   {
    "duration": 153,
    "start_time": "2023-01-21T02:25:01.008Z"
   },
   {
    "duration": 147,
    "start_time": "2023-01-21T02:25:23.405Z"
   },
   {
    "duration": 97,
    "start_time": "2023-01-21T02:29:22.403Z"
   },
   {
    "duration": 97,
    "start_time": "2023-01-21T02:29:39.969Z"
   },
   {
    "duration": 76,
    "start_time": "2023-01-21T02:29:56.190Z"
   },
   {
    "duration": 74,
    "start_time": "2023-01-21T02:30:03.924Z"
   },
   {
    "duration": 103,
    "start_time": "2023-01-21T02:30:14.022Z"
   },
   {
    "duration": 149,
    "start_time": "2023-01-21T02:31:15.154Z"
   },
   {
    "duration": 144,
    "start_time": "2023-01-21T02:32:51.542Z"
   },
   {
    "duration": 231,
    "start_time": "2023-01-21T02:33:13.875Z"
   },
   {
    "duration": 157,
    "start_time": "2023-01-21T02:34:46.139Z"
   },
   {
    "duration": 153,
    "start_time": "2023-01-21T02:34:53.147Z"
   },
   {
    "duration": 96,
    "start_time": "2023-01-21T02:36:38.366Z"
   },
   {
    "duration": 71,
    "start_time": "2023-01-21T02:37:10.934Z"
   },
   {
    "duration": 81,
    "start_time": "2023-01-21T02:40:37.049Z"
   },
   {
    "duration": 257,
    "start_time": "2023-01-21T02:42:37.630Z"
   },
   {
    "duration": 245,
    "start_time": "2023-01-21T02:42:49.175Z"
   },
   {
    "duration": 343,
    "start_time": "2023-01-21T02:43:17.745Z"
   },
   {
    "duration": 221,
    "start_time": "2023-01-21T02:44:40.507Z"
   },
   {
    "duration": 228,
    "start_time": "2023-01-21T02:44:46.226Z"
   },
   {
    "duration": 208,
    "start_time": "2023-01-21T02:44:54.491Z"
   },
   {
    "duration": 239,
    "start_time": "2023-01-21T02:44:59.582Z"
   },
   {
    "duration": 242,
    "start_time": "2023-01-21T02:45:11.128Z"
   },
   {
    "duration": 181,
    "start_time": "2023-01-21T02:46:38.579Z"
   },
   {
    "duration": 285,
    "start_time": "2023-01-21T02:46:48.109Z"
   },
   {
    "duration": 195,
    "start_time": "2023-01-21T02:46:54.342Z"
   },
   {
    "duration": 6,
    "start_time": "2023-01-21T02:49:07.053Z"
   },
   {
    "duration": 12,
    "start_time": "2023-01-21T02:49:12.309Z"
   },
   {
    "duration": 11,
    "start_time": "2023-01-21T02:57:54.735Z"
   },
   {
    "duration": 11,
    "start_time": "2023-01-21T02:58:04.652Z"
   },
   {
    "duration": 12,
    "start_time": "2023-01-21T02:58:10.840Z"
   },
   {
    "duration": 11,
    "start_time": "2023-01-21T03:00:12.819Z"
   },
   {
    "duration": 4,
    "start_time": "2023-01-21T03:00:45.195Z"
   },
   {
    "duration": 12,
    "start_time": "2023-01-21T03:00:46.431Z"
   },
   {
    "duration": 6,
    "start_time": "2023-01-21T03:01:53.361Z"
   },
   {
    "duration": 16,
    "start_time": "2023-01-21T03:01:54.080Z"
   },
   {
    "duration": 6,
    "start_time": "2023-01-21T03:02:06.703Z"
   },
   {
    "duration": 12,
    "start_time": "2023-01-21T03:02:07.410Z"
   },
   {
    "duration": 12,
    "start_time": "2023-01-21T03:02:13.436Z"
   },
   {
    "duration": 5,
    "start_time": "2023-01-21T03:02:41.908Z"
   },
   {
    "duration": 13,
    "start_time": "2023-01-21T03:02:42.507Z"
   },
   {
    "duration": 6,
    "start_time": "2023-01-21T03:02:48.104Z"
   },
   {
    "duration": 14,
    "start_time": "2023-01-21T03:02:48.573Z"
   },
   {
    "duration": 6,
    "start_time": "2023-01-21T03:02:57.282Z"
   },
   {
    "duration": 14,
    "start_time": "2023-01-21T03:02:57.716Z"
   },
   {
    "duration": 247,
    "start_time": "2023-01-21T12:58:33.520Z"
   },
   {
    "duration": 490,
    "start_time": "2023-01-21T12:59:04.815Z"
   },
   {
    "duration": 326,
    "start_time": "2023-01-21T12:59:16.518Z"
   },
   {
    "duration": 522,
    "start_time": "2023-01-21T13:09:53.105Z"
   },
   {
    "duration": 497,
    "start_time": "2023-01-21T13:11:33.528Z"
   },
   {
    "duration": 360,
    "start_time": "2023-01-21T13:11:47.618Z"
   },
   {
    "duration": 216,
    "start_time": "2023-01-21T13:12:49.930Z"
   },
   {
    "duration": 111,
    "start_time": "2023-01-21T13:18:11.046Z"
   },
   {
    "duration": 50,
    "start_time": "2023-01-21T13:24:23.500Z"
   },
   {
    "duration": 4,
    "start_time": "2023-01-21T13:29:09.517Z"
   },
   {
    "duration": 18,
    "start_time": "2023-01-21T13:29:14.575Z"
   },
   {
    "duration": 51,
    "start_time": "2023-01-21T13:29:26.063Z"
   },
   {
    "duration": 283,
    "start_time": "2023-01-21T13:37:17.704Z"
   },
   {
    "duration": 148,
    "start_time": "2023-01-21T13:37:21.706Z"
   },
   {
    "duration": 288,
    "start_time": "2023-01-21T13:44:45.774Z"
   },
   {
    "duration": 90,
    "start_time": "2023-01-21T14:06:13.969Z"
   },
   {
    "duration": 245,
    "start_time": "2023-01-21T14:06:34.183Z"
   },
   {
    "duration": 247,
    "start_time": "2023-01-21T14:07:17.979Z"
   },
   {
    "duration": 257,
    "start_time": "2023-01-21T14:09:01.103Z"
   },
   {
    "duration": 309,
    "start_time": "2023-01-21T14:14:27.333Z"
   },
   {
    "duration": 1185,
    "start_time": "2023-01-21T15:45:58.830Z"
   },
   {
    "duration": 60,
    "start_time": "2023-01-21T15:46:00.016Z"
   },
   {
    "duration": 21,
    "start_time": "2023-01-21T15:46:00.078Z"
   },
   {
    "duration": 2,
    "start_time": "2023-01-21T15:46:00.101Z"
   },
   {
    "duration": 30,
    "start_time": "2023-01-21T15:46:00.105Z"
   },
   {
    "duration": 15,
    "start_time": "2023-01-21T15:46:00.137Z"
   },
   {
    "duration": 16,
    "start_time": "2023-01-21T15:46:00.155Z"
   },
   {
    "duration": 19,
    "start_time": "2023-01-21T15:46:00.174Z"
   },
   {
    "duration": 11,
    "start_time": "2023-01-21T15:46:00.195Z"
   },
   {
    "duration": 35,
    "start_time": "2023-01-21T15:46:00.209Z"
   },
   {
    "duration": 26,
    "start_time": "2023-01-21T15:46:00.245Z"
   },
   {
    "duration": 36,
    "start_time": "2023-01-21T15:46:00.273Z"
   },
   {
    "duration": 101,
    "start_time": "2023-01-21T15:46:00.310Z"
   },
   {
    "duration": 3,
    "start_time": "2023-01-21T15:46:00.412Z"
   },
   {
    "duration": 16,
    "start_time": "2023-01-21T15:46:00.416Z"
   },
   {
    "duration": 41,
    "start_time": "2023-01-21T15:46:00.434Z"
   },
   {
    "duration": 34,
    "start_time": "2023-01-21T15:46:00.477Z"
   },
   {
    "duration": 63,
    "start_time": "2023-01-21T15:46:00.512Z"
   },
   {
    "duration": 563,
    "start_time": "2023-01-21T15:46:00.577Z"
   },
   {
    "duration": 87,
    "start_time": "2023-01-21T15:46:01.142Z"
   },
   {
    "duration": 12,
    "start_time": "2023-01-21T15:46:01.231Z"
   },
   {
    "duration": 34,
    "start_time": "2023-01-21T15:46:01.245Z"
   },
   {
    "duration": 47,
    "start_time": "2023-01-21T15:46:01.281Z"
   },
   {
    "duration": 60,
    "start_time": "2023-01-21T15:46:01.329Z"
   },
   {
    "duration": 191,
    "start_time": "2023-01-21T15:46:01.391Z"
   },
   {
    "duration": 23,
    "start_time": "2023-01-21T15:46:01.584Z"
   },
   {
    "duration": 17,
    "start_time": "2023-01-21T15:46:01.609Z"
   },
   {
    "duration": 28,
    "start_time": "2023-01-21T15:46:01.631Z"
   },
   {
    "duration": 39,
    "start_time": "2023-01-21T15:46:01.661Z"
   },
   {
    "duration": 22,
    "start_time": "2023-01-21T15:46:01.702Z"
   },
   {
    "duration": 6,
    "start_time": "2023-01-21T15:46:01.726Z"
   },
   {
    "duration": 2207,
    "start_time": "2023-01-21T15:46:01.733Z"
   },
   {
    "duration": 16,
    "start_time": "2023-01-21T15:46:03.941Z"
   },
   {
    "duration": 484,
    "start_time": "2023-01-21T15:46:03.959Z"
   },
   {
    "duration": 230,
    "start_time": "2023-01-21T15:46:04.445Z"
   },
   {
    "duration": 228,
    "start_time": "2023-01-21T15:46:04.676Z"
   },
   {
    "duration": 226,
    "start_time": "2023-01-21T15:46:04.906Z"
   },
   {
    "duration": 222,
    "start_time": "2023-01-21T15:46:05.134Z"
   },
   {
    "duration": 398,
    "start_time": "2023-01-21T15:46:05.357Z"
   },
   {
    "duration": 242,
    "start_time": "2023-01-21T15:46:05.756Z"
   },
   {
    "duration": 243,
    "start_time": "2023-01-21T15:46:06.000Z"
   },
   {
    "duration": 4,
    "start_time": "2023-01-21T15:46:06.244Z"
   },
   {
    "duration": 23,
    "start_time": "2023-01-21T15:46:06.249Z"
   },
   {
    "duration": 171,
    "start_time": "2023-01-21T15:46:06.274Z"
   },
   {
    "duration": 14,
    "start_time": "2023-01-21T15:46:06.446Z"
   },
   {
    "duration": 231,
    "start_time": "2023-01-21T15:46:06.462Z"
   },
   {
    "duration": 306,
    "start_time": "2023-01-21T15:46:06.695Z"
   },
   {
    "duration": 218,
    "start_time": "2023-01-21T15:46:07.003Z"
   },
   {
    "duration": 549,
    "start_time": "2023-01-21T15:46:07.223Z"
   },
   {
    "duration": 390,
    "start_time": "2023-01-21T15:46:07.773Z"
   },
   {
    "duration": 295,
    "start_time": "2023-01-21T15:46:08.165Z"
   },
   {
    "duration": 345,
    "start_time": "2023-01-21T15:46:08.461Z"
   },
   {
    "duration": 8,
    "start_time": "2023-01-21T15:46:08.808Z"
   },
   {
    "duration": 358,
    "start_time": "2023-01-21T15:46:08.818Z"
   },
   {
    "duration": 235,
    "start_time": "2023-01-21T15:46:09.179Z"
   },
   {
    "duration": 265,
    "start_time": "2023-01-21T15:46:09.416Z"
   },
   {
    "duration": 454,
    "start_time": "2023-01-21T15:46:09.682Z"
   },
   {
    "duration": 613,
    "start_time": "2023-01-21T15:46:10.138Z"
   },
   {
    "duration": 545,
    "start_time": "2023-01-21T15:46:10.753Z"
   },
   {
    "duration": 4,
    "start_time": "2023-01-21T15:46:11.300Z"
   },
   {
    "duration": 135,
    "start_time": "2023-01-21T15:46:11.305Z"
   },
   {
    "duration": 138,
    "start_time": "2023-01-21T15:46:11.442Z"
   },
   {
    "duration": 13,
    "start_time": "2023-01-21T15:46:11.581Z"
   },
   {
    "duration": 11,
    "start_time": "2023-01-21T15:46:11.596Z"
   },
   {
    "duration": 135,
    "start_time": "2023-01-21T15:46:11.609Z"
   },
   {
    "duration": 137,
    "start_time": "2023-01-21T15:46:11.746Z"
   },
   {
    "duration": 11,
    "start_time": "2023-01-21T15:46:11.885Z"
   },
   {
    "duration": 12,
    "start_time": "2023-01-21T15:46:11.898Z"
   },
   {
    "duration": 380,
    "start_time": "2023-01-21T15:46:11.911Z"
   },
   {
    "duration": 19,
    "start_time": "2023-01-21T15:46:12.293Z"
   },
   {
    "duration": 211,
    "start_time": "2023-01-21T15:46:12.313Z"
   },
   {
    "duration": 223,
    "start_time": "2023-01-21T15:46:12.526Z"
   },
   {
    "duration": 152,
    "start_time": "2023-01-21T15:46:12.751Z"
   },
   {
    "duration": 4,
    "start_time": "2023-01-21T15:46:12.904Z"
   },
   {
    "duration": 165,
    "start_time": "2023-01-21T15:46:12.909Z"
   },
   {
    "duration": 37,
    "start_time": "2023-01-21T15:46:13.076Z"
   },
   {
    "duration": 23,
    "start_time": "2023-01-21T15:46:13.115Z"
   },
   {
    "duration": 228,
    "start_time": "2023-01-21T15:46:13.139Z"
   },
   {
    "duration": 202,
    "start_time": "2023-01-21T15:46:13.369Z"
   },
   {
    "duration": 5,
    "start_time": "2023-01-21T15:46:13.572Z"
   },
   {
    "duration": 26,
    "start_time": "2023-01-21T15:46:13.579Z"
   },
   {
    "duration": 4,
    "start_time": "2023-01-21T15:46:13.610Z"
   },
   {
    "duration": 14,
    "start_time": "2023-01-21T15:46:13.617Z"
   },
   {
    "duration": 20,
    "start_time": "2023-01-21T15:48:22.919Z"
   },
   {
    "duration": 30,
    "start_time": "2023-01-21T15:49:50.986Z"
   },
   {
    "duration": 5,
    "start_time": "2023-01-22T00:01:27.444Z"
   },
   {
    "duration": 265,
    "start_time": "2023-01-22T00:01:30.225Z"
   },
   {
    "duration": 201,
    "start_time": "2023-01-22T00:01:47.710Z"
   },
   {
    "duration": 269,
    "start_time": "2023-01-22T00:02:26.913Z"
   },
   {
    "duration": 9,
    "start_time": "2023-01-22T00:04:25.877Z"
   },
   {
    "duration": 206,
    "start_time": "2023-01-22T00:04:32.331Z"
   },
   {
    "duration": 200,
    "start_time": "2023-01-22T00:06:36.594Z"
   },
   {
    "duration": 311,
    "start_time": "2023-01-22T00:08:08.769Z"
   },
   {
    "duration": 235,
    "start_time": "2023-01-22T00:08:26.749Z"
   },
   {
    "duration": 226,
    "start_time": "2023-01-22T00:08:30.749Z"
   },
   {
    "duration": 233,
    "start_time": "2023-01-22T00:08:39.361Z"
   },
   {
    "duration": 124,
    "start_time": "2023-01-22T00:10:45.882Z"
   },
   {
    "duration": 75,
    "start_time": "2023-01-22T00:11:12.117Z"
   },
   {
    "duration": 143,
    "start_time": "2023-01-22T00:11:46.753Z"
   },
   {
    "duration": 11,
    "start_time": "2023-01-22T00:11:56.160Z"
   },
   {
    "duration": 9,
    "start_time": "2023-01-22T00:12:22.538Z"
   },
   {
    "duration": 11,
    "start_time": "2023-01-22T00:12:45.223Z"
   },
   {
    "duration": 108,
    "start_time": "2023-01-22T00:13:09.840Z"
   },
   {
    "duration": 218,
    "start_time": "2023-01-22T00:15:06.744Z"
   },
   {
    "duration": 10,
    "start_time": "2023-01-22T00:15:56.458Z"
   },
   {
    "duration": 22,
    "start_time": "2023-01-22T00:16:21.307Z"
   },
   {
    "duration": 13,
    "start_time": "2023-01-22T00:16:40.668Z"
   },
   {
    "duration": 137,
    "start_time": "2023-01-22T00:20:18.969Z"
   },
   {
    "duration": 149,
    "start_time": "2023-01-22T00:20:38.109Z"
   },
   {
    "duration": 18,
    "start_time": "2023-01-22T00:20:42.607Z"
   },
   {
    "duration": 183,
    "start_time": "2023-01-22T00:26:08.245Z"
   },
   {
    "duration": 116,
    "start_time": "2023-01-22T00:27:17.591Z"
   },
   {
    "duration": 152,
    "start_time": "2023-01-22T00:30:06.527Z"
   },
   {
    "duration": 3,
    "start_time": "2023-01-22T00:33:05.889Z"
   },
   {
    "duration": 147,
    "start_time": "2023-01-22T00:33:14.789Z"
   },
   {
    "duration": 23,
    "start_time": "2023-01-22T00:35:49.139Z"
   },
   {
    "duration": 19,
    "start_time": "2023-01-22T00:44:23.412Z"
   },
   {
    "duration": 190,
    "start_time": "2023-01-22T00:51:32.532Z"
   },
   {
    "duration": 181,
    "start_time": "2023-01-22T00:51:46.637Z"
   }
  ],
  "celltoolbar": "Необработанный формат ячейки",
  "kernelspec": {
   "display_name": "Python 3 (ipykernel)",
   "language": "python",
   "name": "python3"
  },
  "language_info": {
   "codemirror_mode": {
    "name": "ipython",
    "version": 3
   },
   "file_extension": ".py",
   "mimetype": "text/x-python",
   "name": "python",
   "nbconvert_exporter": "python",
   "pygments_lexer": "ipython3",
   "version": "3.9.13"
  },
  "toc": {
   "base_numbering": 1,
   "nav_menu": {},
   "number_sections": true,
   "sideBar": true,
   "skip_h1_title": true,
   "title_cell": "Table of Contents",
   "title_sidebar": "Contents",
   "toc_cell": false,
   "toc_position": {},
   "toc_section_display": true,
   "toc_window_display": false
  }
 },
 "nbformat": 4,
 "nbformat_minor": 2
}
