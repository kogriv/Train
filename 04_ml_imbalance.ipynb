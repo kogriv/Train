{
 "cells": [
  {
   "cell_type": "markdown",
   "metadata": {},
   "source": [
    "# Отток клиентов"
   ]
  },
  {
   "cell_type": "markdown",
   "metadata": {},
   "source": [
    "Из «Бета-Банка» стали уходить клиенты. Каждый месяц. Немного, но заметно. Банковские маркетологи посчитали: сохранять текущих клиентов дешевле, чем привлекать новых.\n",
    "\n",
    "Нужно спрогнозировать, уйдёт клиент из банка в ближайшее время или нет. Вам предоставлены исторические данные о поведении клиентов и расторжении договоров с банком. \n",
    "\n",
    "Постройте модель с предельно большим значением *F1*-меры. Чтобы сдать проект успешно, нужно довести метрику до 0.59. Проверьте *F1*-меру на тестовой выборке самостоятельно.\n",
    "\n",
    "Дополнительно измеряйте *AUC-ROC*, сравнивайте её значение с *F1*-мерой.\n",
    "\n",
    "Источник данных: [https://www.kaggle.com/barelydedicated/bank-customer-churn-modeling](https://www.kaggle.com/barelydedicated/bank-customer-churn-modeling)"
   ]
  },
  {
   "cell_type": "markdown",
   "metadata": {},
   "source": [
    "## Подготовка данных"
   ]
  },
  {
   "cell_type": "markdown",
   "metadata": {},
   "source": [
    "Имопртируем необходимые библиотеки и классы"
   ]
  },
  {
   "cell_type": "code",
   "execution_count": 16,
   "metadata": {},
   "outputs": [],
   "source": [
    "import warnings\n",
    "warnings.filterwarnings(\"ignore\")\n",
    "import pandas as pd\n",
    "import numpy as np\n",
    "import matplotlib.pyplot as plt\n",
    "\n",
    "from sklearn.tree import DecisionTreeClassifier\n",
    "from sklearn.ensemble import RandomForestClassifier\n",
    "from sklearn.linear_model import LogisticRegression\n",
    "\n",
    "from sklearn.model_selection import train_test_split\n",
    "from sklearn.metrics import (\n",
    "    accuracy_score, precision_score, recall_score,\n",
    "    f1_score, roc_curve, roc_auc_score\n",
    ")\n",
    "\n",
    "from sklearn.preprocessing import StandardScaler, MinMaxScaler\n",
    "\n",
    "from sklearn.dummy import DummyClassifier\n",
    "\n",
    "# Импортирую библиотеку для отображения статус-бара\n",
    "import tqdm"
   ]
  },
  {
   "cell_type": "markdown",
   "metadata": {},
   "source": [
    "### Общая информация по датасету"
   ]
  },
  {
   "cell_type": "code",
   "execution_count": 17,
   "metadata": {},
   "outputs": [
    {
     "name": "stdout",
     "output_type": "stream",
     "text": [
      "<class 'pandas.core.frame.DataFrame'>\n",
      "RangeIndex: 10000 entries, 0 to 9999\n",
      "Data columns (total 14 columns):\n",
      " #   Column           Non-Null Count  Dtype  \n",
      "---  ------           --------------  -----  \n",
      " 0   RowNumber        10000 non-null  int64  \n",
      " 1   CustomerId       10000 non-null  int64  \n",
      " 2   Surname          10000 non-null  object \n",
      " 3   CreditScore      10000 non-null  int64  \n",
      " 4   Geography        10000 non-null  object \n",
      " 5   Gender           10000 non-null  object \n",
      " 6   Age              10000 non-null  int64  \n",
      " 7   Tenure           9091 non-null   float64\n",
      " 8   Balance          10000 non-null  float64\n",
      " 9   NumOfProducts    10000 non-null  int64  \n",
      " 10  HasCrCard        10000 non-null  int64  \n",
      " 11  IsActiveMember   10000 non-null  int64  \n",
      " 12  EstimatedSalary  10000 non-null  float64\n",
      " 13  Exited           10000 non-null  int64  \n",
      "dtypes: float64(3), int64(8), object(3)\n",
      "memory usage: 1.1+ MB\n"
     ]
    }
   ],
   "source": [
    "data = pd.read_csv('/datasets/Churn.csv')\n",
    "data.info()"
   ]
  },
  {
   "cell_type": "markdown",
   "metadata": {},
   "source": [
    "Датасет содержит 10К строк. Все поля кроме 'Tenure' не содержат пустые значения (пропуски).\n",
    "\n",
    "Названия полей приведу к \"питоновскому стилю\" - добавление нижних подчеркиваний, запись в нижнем регистре\n",
    "\n",
    "Изменим названия полей и посмотрим первые 5 строк.\n"
   ]
  },
  {
   "cell_type": "code",
   "execution_count": 18,
   "metadata": {},
   "outputs": [
    {
     "data": {
      "text/html": [
       "<div>\n",
       "<style scoped>\n",
       "    .dataframe tbody tr th:only-of-type {\n",
       "        vertical-align: middle;\n",
       "    }\n",
       "\n",
       "    .dataframe tbody tr th {\n",
       "        vertical-align: top;\n",
       "    }\n",
       "\n",
       "    .dataframe thead th {\n",
       "        text-align: right;\n",
       "    }\n",
       "</style>\n",
       "<table border=\"1\" class=\"dataframe\">\n",
       "  <thead>\n",
       "    <tr style=\"text-align: right;\">\n",
       "      <th></th>\n",
       "      <th>row_number</th>\n",
       "      <th>customer_id</th>\n",
       "      <th>surname</th>\n",
       "      <th>credit_score</th>\n",
       "      <th>geography</th>\n",
       "      <th>gender</th>\n",
       "      <th>age</th>\n",
       "      <th>tenure</th>\n",
       "      <th>balance</th>\n",
       "      <th>num_of_products</th>\n",
       "      <th>has_cr_card</th>\n",
       "      <th>is_active_member</th>\n",
       "      <th>estimated_salary</th>\n",
       "      <th>exited</th>\n",
       "    </tr>\n",
       "  </thead>\n",
       "  <tbody>\n",
       "    <tr>\n",
       "      <th>0</th>\n",
       "      <td>1</td>\n",
       "      <td>15634602</td>\n",
       "      <td>Hargrave</td>\n",
       "      <td>619</td>\n",
       "      <td>France</td>\n",
       "      <td>Female</td>\n",
       "      <td>42</td>\n",
       "      <td>2.0</td>\n",
       "      <td>0.00</td>\n",
       "      <td>1</td>\n",
       "      <td>1</td>\n",
       "      <td>1</td>\n",
       "      <td>101348.88</td>\n",
       "      <td>1</td>\n",
       "    </tr>\n",
       "    <tr>\n",
       "      <th>1</th>\n",
       "      <td>2</td>\n",
       "      <td>15647311</td>\n",
       "      <td>Hill</td>\n",
       "      <td>608</td>\n",
       "      <td>Spain</td>\n",
       "      <td>Female</td>\n",
       "      <td>41</td>\n",
       "      <td>1.0</td>\n",
       "      <td>83807.86</td>\n",
       "      <td>1</td>\n",
       "      <td>0</td>\n",
       "      <td>1</td>\n",
       "      <td>112542.58</td>\n",
       "      <td>0</td>\n",
       "    </tr>\n",
       "    <tr>\n",
       "      <th>2</th>\n",
       "      <td>3</td>\n",
       "      <td>15619304</td>\n",
       "      <td>Onio</td>\n",
       "      <td>502</td>\n",
       "      <td>France</td>\n",
       "      <td>Female</td>\n",
       "      <td>42</td>\n",
       "      <td>8.0</td>\n",
       "      <td>159660.80</td>\n",
       "      <td>3</td>\n",
       "      <td>1</td>\n",
       "      <td>0</td>\n",
       "      <td>113931.57</td>\n",
       "      <td>1</td>\n",
       "    </tr>\n",
       "    <tr>\n",
       "      <th>3</th>\n",
       "      <td>4</td>\n",
       "      <td>15701354</td>\n",
       "      <td>Boni</td>\n",
       "      <td>699</td>\n",
       "      <td>France</td>\n",
       "      <td>Female</td>\n",
       "      <td>39</td>\n",
       "      <td>1.0</td>\n",
       "      <td>0.00</td>\n",
       "      <td>2</td>\n",
       "      <td>0</td>\n",
       "      <td>0</td>\n",
       "      <td>93826.63</td>\n",
       "      <td>0</td>\n",
       "    </tr>\n",
       "    <tr>\n",
       "      <th>4</th>\n",
       "      <td>5</td>\n",
       "      <td>15737888</td>\n",
       "      <td>Mitchell</td>\n",
       "      <td>850</td>\n",
       "      <td>Spain</td>\n",
       "      <td>Female</td>\n",
       "      <td>43</td>\n",
       "      <td>2.0</td>\n",
       "      <td>125510.82</td>\n",
       "      <td>1</td>\n",
       "      <td>1</td>\n",
       "      <td>1</td>\n",
       "      <td>79084.10</td>\n",
       "      <td>0</td>\n",
       "    </tr>\n",
       "  </tbody>\n",
       "</table>\n",
       "</div>"
      ],
      "text/plain": [
       "   row_number  customer_id   surname  credit_score geography  gender  age  \\\n",
       "0           1     15634602  Hargrave           619    France  Female   42   \n",
       "1           2     15647311      Hill           608     Spain  Female   41   \n",
       "2           3     15619304      Onio           502    France  Female   42   \n",
       "3           4     15701354      Boni           699    France  Female   39   \n",
       "4           5     15737888  Mitchell           850     Spain  Female   43   \n",
       "\n",
       "   tenure    balance  num_of_products  has_cr_card  is_active_member  \\\n",
       "0     2.0       0.00                1            1                 1   \n",
       "1     1.0   83807.86                1            0                 1   \n",
       "2     8.0  159660.80                3            1                 0   \n",
       "3     1.0       0.00                2            0                 0   \n",
       "4     2.0  125510.82                1            1                 1   \n",
       "\n",
       "   estimated_salary  exited  \n",
       "0         101348.88       1  \n",
       "1         112542.58       0  \n",
       "2         113931.57       1  \n",
       "3          93826.63       0  \n",
       "4          79084.10       0  "
      ]
     },
     "execution_count": 18,
     "metadata": {},
     "output_type": "execute_result"
    }
   ],
   "source": [
    "# вставим подчеркивания\n",
    "data.rename(columns={'RowNumber':'row_number','CustomerId':'customer_id','CreditScore':'credit_score',\n",
    "                    'NumOfProducts':'num_of_products','HasCrCard':'has_cr_card',\n",
    "                    'IsActiveMember':'is_active_member','EstimatedSalary':'estimated_salary'\n",
    "                   }, inplace = True)\n",
    "# переведем в нижний регистр\n",
    "data.columns = data.columns.str.lower()\n",
    "data.head()"
   ]
  },
  {
   "cell_type": "markdown",
   "metadata": {},
   "source": [
    "Посмотрим дубликаты"
   ]
  },
  {
   "cell_type": "code",
   "execution_count": 19,
   "metadata": {},
   "outputs": [
    {
     "data": {
      "text/plain": [
       "0"
      ]
     },
     "execution_count": 19,
     "metadata": {},
     "output_type": "execute_result"
    }
   ],
   "source": [
    "data.duplicated().sum()"
   ]
  },
  {
   "cell_type": "markdown",
   "metadata": {},
   "source": [
    "Поля row_number, customer_id, surname - очевидно, не имеют ценности в рамках нашей задачи. Удалим их."
   ]
  },
  {
   "cell_type": "code",
   "execution_count": 20,
   "metadata": {},
   "outputs": [],
   "source": [
    "data = data.drop(['row_number','customer_id','surname'], axis=1)"
   ]
  },
  {
   "cell_type": "markdown",
   "metadata": {},
   "source": [
    "Посмотрим распределение значений числовых полей"
   ]
  },
  {
   "cell_type": "code",
   "execution_count": 21,
   "metadata": {},
   "outputs": [
    {
     "data": {
      "image/png": "[encoded data removed]",
      "text/plain": [
       "<Figure size 1080x1440 with 9 Axes>"
      ]
     },
     "metadata": {
      "needs_background": "light"
     },
     "output_type": "display_data"
    }
   ],
   "source": [
    "data.hist(figsize=(15, 20));"
   ]
  },
  {
   "cell_type": "markdown",
   "metadata": {},
   "source": [
    "Из примечательного видим, что клиентский \"стаж\" распределен равномерно с заметным пиком в \"старых\" клиентах (стаж - 10 лет). Также видим пик количества клиентов с низкими значениями баланса.\n",
    "\n",
    "Посмотрим сводную стат информацию"
   ]
  },
  {
   "cell_type": "code",
   "execution_count": 22,
   "metadata": {},
   "outputs": [
    {
     "data": {
      "text/html": [
       "<style  type=\"text/css\" >\n",
       "</style><table id=\"T_a4f18_\" ><thead>    <tr>        <th class=\"blank level0\" ></th>        <th class=\"col_heading level0 col0\" >col_null_count</th>        <th class=\"col_heading level0 col1\" >col_type</th>        <th class=\"col_heading level0 col2\" >count</th>        <th class=\"col_heading level0 col3\" >mean</th>        <th class=\"col_heading level0 col4\" >std</th>        <th class=\"col_heading level0 col5\" >min</th>        <th class=\"col_heading level0 col6\" >25%</th>        <th class=\"col_heading level0 col7\" >50%</th>        <th class=\"col_heading level0 col8\" >75%</th>        <th class=\"col_heading level0 col9\" >max</th>        <th class=\"col_heading level0 col10\" >mean_median</th>    </tr></thead><tbody>\n",
       "                <tr>\n",
       "                        <th id=\"T_a4f18_level0_row0\" class=\"row_heading level0 row0\" >credit_score</th>\n",
       "                        <td id=\"T_a4f18_row0_col0\" class=\"data row0 col0\" >0</td>\n",
       "                        <td id=\"T_a4f18_row0_col1\" class=\"data row0 col1\" >int64</td>\n",
       "                        <td id=\"T_a4f18_row0_col2\" class=\"data row0 col2\" >10000</td>\n",
       "                        <td id=\"T_a4f18_row0_col3\" class=\"data row0 col3\" >650.53</td>\n",
       "                        <td id=\"T_a4f18_row0_col4\" class=\"data row0 col4\" >96.65</td>\n",
       "                        <td id=\"T_a4f18_row0_col5\" class=\"data row0 col5\" >350.0</td>\n",
       "                        <td id=\"T_a4f18_row0_col6\" class=\"data row0 col6\" >584.0</td>\n",
       "                        <td id=\"T_a4f18_row0_col7\" class=\"data row0 col7\" >652.0</td>\n",
       "                        <td id=\"T_a4f18_row0_col8\" class=\"data row0 col8\" >718.0</td>\n",
       "                        <td id=\"T_a4f18_row0_col9\" class=\"data row0 col9\" >850.0</td>\n",
       "                        <td id=\"T_a4f18_row0_col10\" class=\"data row0 col10\" >-0.23%</td>\n",
       "            </tr>\n",
       "            <tr>\n",
       "                        <th id=\"T_a4f18_level0_row1\" class=\"row_heading level0 row1\" >geography</th>\n",
       "                        <td id=\"T_a4f18_row1_col0\" class=\"data row1 col0\" >0</td>\n",
       "                        <td id=\"T_a4f18_row1_col1\" class=\"data row1 col1\" >object</td>\n",
       "                        <td id=\"T_a4f18_row1_col2\" class=\"data row1 col2\" >nan</td>\n",
       "                        <td id=\"T_a4f18_row1_col3\" class=\"data row1 col3\" >nan</td>\n",
       "                        <td id=\"T_a4f18_row1_col4\" class=\"data row1 col4\" >nan</td>\n",
       "                        <td id=\"T_a4f18_row1_col5\" class=\"data row1 col5\" >nan</td>\n",
       "                        <td id=\"T_a4f18_row1_col6\" class=\"data row1 col6\" >nan</td>\n",
       "                        <td id=\"T_a4f18_row1_col7\" class=\"data row1 col7\" >nan</td>\n",
       "                        <td id=\"T_a4f18_row1_col8\" class=\"data row1 col8\" >nan</td>\n",
       "                        <td id=\"T_a4f18_row1_col9\" class=\"data row1 col9\" >nan</td>\n",
       "                        <td id=\"T_a4f18_row1_col10\" class=\"data row1 col10\" >nan%</td>\n",
       "            </tr>\n",
       "            <tr>\n",
       "                        <th id=\"T_a4f18_level0_row2\" class=\"row_heading level0 row2\" >gender</th>\n",
       "                        <td id=\"T_a4f18_row2_col0\" class=\"data row2 col0\" >0</td>\n",
       "                        <td id=\"T_a4f18_row2_col1\" class=\"data row2 col1\" >object</td>\n",
       "                        <td id=\"T_a4f18_row2_col2\" class=\"data row2 col2\" >nan</td>\n",
       "                        <td id=\"T_a4f18_row2_col3\" class=\"data row2 col3\" >nan</td>\n",
       "                        <td id=\"T_a4f18_row2_col4\" class=\"data row2 col4\" >nan</td>\n",
       "                        <td id=\"T_a4f18_row2_col5\" class=\"data row2 col5\" >nan</td>\n",
       "                        <td id=\"T_a4f18_row2_col6\" class=\"data row2 col6\" >nan</td>\n",
       "                        <td id=\"T_a4f18_row2_col7\" class=\"data row2 col7\" >nan</td>\n",
       "                        <td id=\"T_a4f18_row2_col8\" class=\"data row2 col8\" >nan</td>\n",
       "                        <td id=\"T_a4f18_row2_col9\" class=\"data row2 col9\" >nan</td>\n",
       "                        <td id=\"T_a4f18_row2_col10\" class=\"data row2 col10\" >nan%</td>\n",
       "            </tr>\n",
       "            <tr>\n",
       "                        <th id=\"T_a4f18_level0_row3\" class=\"row_heading level0 row3\" >age</th>\n",
       "                        <td id=\"T_a4f18_row3_col0\" class=\"data row3 col0\" >0</td>\n",
       "                        <td id=\"T_a4f18_row3_col1\" class=\"data row3 col1\" >int64</td>\n",
       "                        <td id=\"T_a4f18_row3_col2\" class=\"data row3 col2\" >10000</td>\n",
       "                        <td id=\"T_a4f18_row3_col3\" class=\"data row3 col3\" >38.92</td>\n",
       "                        <td id=\"T_a4f18_row3_col4\" class=\"data row3 col4\" >10.49</td>\n",
       "                        <td id=\"T_a4f18_row3_col5\" class=\"data row3 col5\" >18.0</td>\n",
       "                        <td id=\"T_a4f18_row3_col6\" class=\"data row3 col6\" >32.0</td>\n",
       "                        <td id=\"T_a4f18_row3_col7\" class=\"data row3 col7\" >37.0</td>\n",
       "                        <td id=\"T_a4f18_row3_col8\" class=\"data row3 col8\" >44.0</td>\n",
       "                        <td id=\"T_a4f18_row3_col9\" class=\"data row3 col9\" >92.0</td>\n",
       "                        <td id=\"T_a4f18_row3_col10\" class=\"data row3 col10\" >5.19%</td>\n",
       "            </tr>\n",
       "            <tr>\n",
       "                        <th id=\"T_a4f18_level0_row4\" class=\"row_heading level0 row4\" >tenure</th>\n",
       "                        <td id=\"T_a4f18_row4_col0\" class=\"data row4 col0\" >909</td>\n",
       "                        <td id=\"T_a4f18_row4_col1\" class=\"data row4 col1\" >float64</td>\n",
       "                        <td id=\"T_a4f18_row4_col2\" class=\"data row4 col2\" >9091</td>\n",
       "                        <td id=\"T_a4f18_row4_col3\" class=\"data row4 col3\" >5.00</td>\n",
       "                        <td id=\"T_a4f18_row4_col4\" class=\"data row4 col4\" >2.89</td>\n",
       "                        <td id=\"T_a4f18_row4_col5\" class=\"data row4 col5\" >0.0</td>\n",
       "                        <td id=\"T_a4f18_row4_col6\" class=\"data row4 col6\" >2.0</td>\n",
       "                        <td id=\"T_a4f18_row4_col7\" class=\"data row4 col7\" >5.0</td>\n",
       "                        <td id=\"T_a4f18_row4_col8\" class=\"data row4 col8\" >7.0</td>\n",
       "                        <td id=\"T_a4f18_row4_col9\" class=\"data row4 col9\" >10.0</td>\n",
       "                        <td id=\"T_a4f18_row4_col10\" class=\"data row4 col10\" >-0.05%</td>\n",
       "            </tr>\n",
       "            <tr>\n",
       "                        <th id=\"T_a4f18_level0_row5\" class=\"row_heading level0 row5\" >balance</th>\n",
       "                        <td id=\"T_a4f18_row5_col0\" class=\"data row5 col0\" >0</td>\n",
       "                        <td id=\"T_a4f18_row5_col1\" class=\"data row5 col1\" >float64</td>\n",
       "                        <td id=\"T_a4f18_row5_col2\" class=\"data row5 col2\" >10000</td>\n",
       "                        <td id=\"T_a4f18_row5_col3\" class=\"data row5 col3\" >76485.89</td>\n",
       "                        <td id=\"T_a4f18_row5_col4\" class=\"data row5 col4\" >62397.41</td>\n",
       "                        <td id=\"T_a4f18_row5_col5\" class=\"data row5 col5\" >0.0</td>\n",
       "                        <td id=\"T_a4f18_row5_col6\" class=\"data row5 col6\" >0.0</td>\n",
       "                        <td id=\"T_a4f18_row5_col7\" class=\"data row5 col7\" >97198.5</td>\n",
       "                        <td id=\"T_a4f18_row5_col8\" class=\"data row5 col8\" >127644.2</td>\n",
       "                        <td id=\"T_a4f18_row5_col9\" class=\"data row5 col9\" >250898.1</td>\n",
       "                        <td id=\"T_a4f18_row5_col10\" class=\"data row5 col10\" >-21.31%</td>\n",
       "            </tr>\n",
       "            <tr>\n",
       "                        <th id=\"T_a4f18_level0_row6\" class=\"row_heading level0 row6\" >num_of_products</th>\n",
       "                        <td id=\"T_a4f18_row6_col0\" class=\"data row6 col0\" >0</td>\n",
       "                        <td id=\"T_a4f18_row6_col1\" class=\"data row6 col1\" >int64</td>\n",
       "                        <td id=\"T_a4f18_row6_col2\" class=\"data row6 col2\" >10000</td>\n",
       "                        <td id=\"T_a4f18_row6_col3\" class=\"data row6 col3\" >1.53</td>\n",
       "                        <td id=\"T_a4f18_row6_col4\" class=\"data row6 col4\" >0.58</td>\n",
       "                        <td id=\"T_a4f18_row6_col5\" class=\"data row6 col5\" >1.0</td>\n",
       "                        <td id=\"T_a4f18_row6_col6\" class=\"data row6 col6\" >1.0</td>\n",
       "                        <td id=\"T_a4f18_row6_col7\" class=\"data row6 col7\" >1.0</td>\n",
       "                        <td id=\"T_a4f18_row6_col8\" class=\"data row6 col8\" >2.0</td>\n",
       "                        <td id=\"T_a4f18_row6_col9\" class=\"data row6 col9\" >4.0</td>\n",
       "                        <td id=\"T_a4f18_row6_col10\" class=\"data row6 col10\" >53.02%</td>\n",
       "            </tr>\n",
       "            <tr>\n",
       "                        <th id=\"T_a4f18_level0_row7\" class=\"row_heading level0 row7\" >has_cr_card</th>\n",
       "                        <td id=\"T_a4f18_row7_col0\" class=\"data row7 col0\" >0</td>\n",
       "                        <td id=\"T_a4f18_row7_col1\" class=\"data row7 col1\" >int64</td>\n",
       "                        <td id=\"T_a4f18_row7_col2\" class=\"data row7 col2\" >10000</td>\n",
       "                        <td id=\"T_a4f18_row7_col3\" class=\"data row7 col3\" >0.71</td>\n",
       "                        <td id=\"T_a4f18_row7_col4\" class=\"data row7 col4\" >0.46</td>\n",
       "                        <td id=\"T_a4f18_row7_col5\" class=\"data row7 col5\" >0.0</td>\n",
       "                        <td id=\"T_a4f18_row7_col6\" class=\"data row7 col6\" >0.0</td>\n",
       "                        <td id=\"T_a4f18_row7_col7\" class=\"data row7 col7\" >1.0</td>\n",
       "                        <td id=\"T_a4f18_row7_col8\" class=\"data row7 col8\" >1.0</td>\n",
       "                        <td id=\"T_a4f18_row7_col9\" class=\"data row7 col9\" >1.0</td>\n",
       "                        <td id=\"T_a4f18_row7_col10\" class=\"data row7 col10\" >-29.45%</td>\n",
       "            </tr>\n",
       "            <tr>\n",
       "                        <th id=\"T_a4f18_level0_row8\" class=\"row_heading level0 row8\" >is_active_member</th>\n",
       "                        <td id=\"T_a4f18_row8_col0\" class=\"data row8 col0\" >0</td>\n",
       "                        <td id=\"T_a4f18_row8_col1\" class=\"data row8 col1\" >int64</td>\n",
       "                        <td id=\"T_a4f18_row8_col2\" class=\"data row8 col2\" >10000</td>\n",
       "                        <td id=\"T_a4f18_row8_col3\" class=\"data row8 col3\" >0.52</td>\n",
       "                        <td id=\"T_a4f18_row8_col4\" class=\"data row8 col4\" >0.50</td>\n",
       "                        <td id=\"T_a4f18_row8_col5\" class=\"data row8 col5\" >0.0</td>\n",
       "                        <td id=\"T_a4f18_row8_col6\" class=\"data row8 col6\" >0.0</td>\n",
       "                        <td id=\"T_a4f18_row8_col7\" class=\"data row8 col7\" >1.0</td>\n",
       "                        <td id=\"T_a4f18_row8_col8\" class=\"data row8 col8\" >1.0</td>\n",
       "                        <td id=\"T_a4f18_row8_col9\" class=\"data row8 col9\" >1.0</td>\n",
       "                        <td id=\"T_a4f18_row8_col10\" class=\"data row8 col10\" >-48.49%</td>\n",
       "            </tr>\n",
       "            <tr>\n",
       "                        <th id=\"T_a4f18_level0_row9\" class=\"row_heading level0 row9\" >estimated_salary</th>\n",
       "                        <td id=\"T_a4f18_row9_col0\" class=\"data row9 col0\" >0</td>\n",
       "                        <td id=\"T_a4f18_row9_col1\" class=\"data row9 col1\" >float64</td>\n",
       "                        <td id=\"T_a4f18_row9_col2\" class=\"data row9 col2\" >10000</td>\n",
       "                        <td id=\"T_a4f18_row9_col3\" class=\"data row9 col3\" >100090.24</td>\n",
       "                        <td id=\"T_a4f18_row9_col4\" class=\"data row9 col4\" >57510.49</td>\n",
       "                        <td id=\"T_a4f18_row9_col5\" class=\"data row9 col5\" >11.6</td>\n",
       "                        <td id=\"T_a4f18_row9_col6\" class=\"data row9 col6\" >51002.1</td>\n",
       "                        <td id=\"T_a4f18_row9_col7\" class=\"data row9 col7\" >100193.9</td>\n",
       "                        <td id=\"T_a4f18_row9_col8\" class=\"data row9 col8\" >149388.2</td>\n",
       "                        <td id=\"T_a4f18_row9_col9\" class=\"data row9 col9\" >199992.5</td>\n",
       "                        <td id=\"T_a4f18_row9_col10\" class=\"data row9 col10\" >-0.10%</td>\n",
       "            </tr>\n",
       "            <tr>\n",
       "                        <th id=\"T_a4f18_level0_row10\" class=\"row_heading level0 row10\" >exited</th>\n",
       "                        <td id=\"T_a4f18_row10_col0\" class=\"data row10 col0\" >0</td>\n",
       "                        <td id=\"T_a4f18_row10_col1\" class=\"data row10 col1\" >int64</td>\n",
       "                        <td id=\"T_a4f18_row10_col2\" class=\"data row10 col2\" >10000</td>\n",
       "                        <td id=\"T_a4f18_row10_col3\" class=\"data row10 col3\" >0.20</td>\n",
       "                        <td id=\"T_a4f18_row10_col4\" class=\"data row10 col4\" >0.40</td>\n",
       "                        <td id=\"T_a4f18_row10_col5\" class=\"data row10 col5\" >0.0</td>\n",
       "                        <td id=\"T_a4f18_row10_col6\" class=\"data row10 col6\" >0.0</td>\n",
       "                        <td id=\"T_a4f18_row10_col7\" class=\"data row10 col7\" >0.0</td>\n",
       "                        <td id=\"T_a4f18_row10_col8\" class=\"data row10 col8\" >0.0</td>\n",
       "                        <td id=\"T_a4f18_row10_col9\" class=\"data row10 col9\" >1.0</td>\n",
       "                        <td id=\"T_a4f18_row10_col10\" class=\"data row10 col10\" >inf%</td>\n",
       "            </tr>\n",
       "    </tbody></table>"
      ],
      "text/plain": [
       "<pandas.io.formats.style.Styler at 0x7f65d876c3d0>"
      ]
     },
     "execution_count": 22,
     "metadata": {},
     "output_type": "execute_result"
    }
   ],
   "source": [
    "def summary_table():\n",
    "    df = pd.DataFrame({'col_null_count':data.isna().sum()},index=data.isna().sum().index)\n",
    "    df['col_type']=data.dtypes\n",
    "    df = df.join(data.describe().transpose())\n",
    "    df['mean_median']=(df['mean']-df['50%'])/df['50%'] # превышение среднего над медианой\n",
    "    df_style = {'count':'{:.0f}','mean':'{:.2f}','mean_median':'{:.2%}', # словарь для форматирования вывода\n",
    "                'std':'{:.2f}','min':'{:.1f}','25%':'{:.1f}','50%':'{:.1f}','75%':'{:.1f}','max':'{:.1f}'}\n",
    "    return df, df_style\n",
    "df, df_style = summary_table()\n",
    "df.style.format(df_style)"
   ]
  },
  {
   "cell_type": "markdown",
   "metadata": {},
   "source": [
    "Отметим заметное расхождение медианы и среднего в поле balance- это связано с большой долей нулей"
   ]
  },
  {
   "cell_type": "markdown",
   "metadata": {},
   "source": [
    "### Обработка пропусков"
   ]
  },
  {
   "cell_type": "markdown",
   "metadata": {},
   "source": [
    "Отдельно посмотрим как распределены значения полей на пропусках в поле tenure. Т.е. попробуем определить закономерности появления пропусков от значений в других полях (например, вдруг почти все пропуски соответствуют интервалу значений баланса от 25000-26000, или каким то подобным образом сконцентрированы в интервалах значений других полей?)\n",
    "\n",
    "Использую для этого написанную мной для прошлых проектов функцию."
   ]
  },
  {
   "cell_type": "markdown",
   "metadata": {},
   "source": [
    "<div style=\"background: #B0E0E6; padding: 5px; border: 1px solid SteelBlue; border-radius: 5px;\">\n",
    "    <font color='4682B4'>В итоге ОКАЗАЛОСЬ, что достаточно было посмотреть распределение НЕПУСТЫХ значений. Но в данный момент мы не можем ничего определенного сказать о ПРОПУЩЕННЫХ значениях - их распределение мы не знаем. С помощью данной функции я исследую именно пропуски: есть ли заметная концентрация пропусков на каких то определенных (узких) интервалах значений в других полях. Если есть, то можно уже смотреть в обратную сторону: как распределены непустые значения tenure на этих найденых узких интервалах значений других полей. Теоретически, таким образом мы можем более осмысленно заполнять пропуски. Но как видим - не в этом случае.\n",
    "    \n",
    "Понятно, что проект и задача не об этом, но тем не менее, считаю такую проверку пропусков, которые составляют 10% датасета, необходимой перед их заполнением \n",
    "   </font>\n",
    "</div>"
   ]
  },
  {
   "cell_type": "code",
   "execution_count": 23,
   "metadata": {},
   "outputs": [],
   "source": [
    "# II. Функция построения датафрейма распределния значений расчетных полей по интервалам\n",
    "#             при фильтрации по заданному условию в базовом поле\n",
    "#             в качестве базовых полей можно использовать:\n",
    "#             1. в случае анализа пропусков (.isna()) - любые поля таблицы\n",
    "#             2. при использовании условий фильтрации - только числовые поля\n",
    "\n",
    "# блок значений переменных функции / описание ниже,  в теле функции\n",
    "#-------------------------------------------------------------\n",
    "panni = 20              # количество корзин\n",
    "qmx =  1                # верхний квантиль (данные берутся ниже значения: для 1 - смотрим все данные)\n",
    "qmn =  0                # нижний квантиль (данные берутся выше значения: для 0 - смотрим все данные)\n",
    "condition = ''          # условие отбора в базовых полях\n",
    "simple = True          # False - используем условие отбора в базовых полях\n",
    "top = 1                 # количество Топ корзин разбиения\n",
    "b_list = ['']           # список базовых полей\n",
    "b_list_use = True      # использовать / нет список базовых полей\n",
    "                        # список расчетных полей\n",
    "c_list =  ['']\n",
    "c_list_use = True       # использовать / нет список расчетных полей\n",
    "cond_count_use = False   # True - доля в корзинах считается по отношению к количеству отфильтрованных строк\n",
    "                        # False- доля в корзинах считается по отношению к общему количеству строк\n",
    "\n",
    "    # зависимость переменных:\n",
    "# top <= panni\n",
    "# somple = False -> condition != ''\n",
    "# b_list_use = True -> b_list != ['']\n",
    "# c_list_use = True -> c_list !=['']\n",
    "\n",
    "#--------------------------------------------------------------\n",
    "\n",
    "def condition_depend(panni,qmx,qmn,condition,simple,\n",
    "                     data,\n",
    "                     b_list,b_list_use,\n",
    "                     c_list,c_list_use,\n",
    "                     cond_count_use):\n",
    "    \n",
    "    # panni -     количество корзин для числовых полей\n",
    "    # qmx -       верхний квантиль для ограничения интервалов (для отсечения верхних выбросов)\n",
    "    # qmn -       нижний квантиль для ограничения интервалов (для отсечения нижних выбросов)\n",
    "    # condition - условиe, по которому фильтруется базовое поле\n",
    "               #  например condition = '@cond_clmn.isna()' или '@cond_clmn > @cond_clmn.quantile(0.9)'\n",
    "               #  где @cond_clmn - базовое поле (например из списка b_list)\n",
    "    # simple -    если = True - просто смотрим распределения по всем полям по их корзинам\n",
    "               #  без использования условия в базовом поле\n",
    "    # data -      общий анализируемый датафрейм\n",
    "    # df -        сводный для data датафрейм (названия, типы полей, статметрики)\n",
    "    # b_list -    список базовых полей для проверки на условия\n",
    "              #   для проверки пропусков возможны любые поля, для других условий- пока только числовые\n",
    "    # b_list_use- True - использовать заданный список, False- используется все поля таблицы\n",
    "    # c_list -    список расчетных полей\n",
    "    # c_list_use- True - использовать заданный список, False- используется все поля таблицы\n",
    "    # cond_count_use - True - считать долю корзины как отношение корзины к количеству строк,\n",
    "              #   которые были отобраны в фильтре по базовому полю\n",
    "              #   False - отношение к общему количеству строк расчетного поля\n",
    "\n",
    "    df, df_style = summary_table()\n",
    "  \n",
    "    digit_list = df[(df['col_type'] == 'int64') |\n",
    "                    (df['col_type'] == 'float64') ].index     # список числовых полей для расчетных полей\n",
    "\n",
    "    date_list  = df[(df['col_type'] == 'datetime64[ns]')].index  # список числовых полей с датами\n",
    "    \n",
    "    other_list = df[(df['col_type'] != 'int64') &\n",
    "                    (df['col_type'] != 'float64') &\n",
    "                    (df['col_type'] != 'datetime64[ns]') &\n",
    "                    (df.index != 'first_day_exposition')\n",
    "                # & (df.index != 'first_day_exposition_date')\n",
    "                                                        ].index # список нечисловых полей для расчетных полей\n",
    "                                                                # функция получилась не совсем универсальной\n",
    "                                                                # из-за поля first_day_exposition\n",
    "    if simple: # если простой анализ (без фильтрации в базовом поле)\n",
    "        null_list = ['simple'] # имя переменной null_list было взято изначально, когда предполагалось\n",
    "                               # использовать функцию только для анализа пустых значений\n",
    "                               # это список базовых полей, по которым фильтруется таблица\n",
    "    elif condition == '@cond_clmn.isna()':\n",
    "        null_list = df[(df['col_null_count'] != 0)].index    # список полей с пропусками для базовых полей\n",
    "    else:\n",
    "        null_list = digit_list # список числовых полей: если не смотрим .isna() и не simple\n",
    "                               # значит условие содержит операции сравнения, т.е. работу с числами\n",
    "                               # условия для строковых данных пока не используются в функции\n",
    "    if b_list_use and b_list != [''] and simple: # фильтрация списка расчетных полей\n",
    "        digit_list= digit_list[digit_list.isin(b_list)]\n",
    "        other_list= other_list[other_list.isin(b_list)]\n",
    "        date_list = date_list[date_list.isin(b_list)]\n",
    "    if b_list_use and b_list != ['']: # фильтрация списка базовых полей\n",
    "        null_list = b_list\n",
    "\n",
    "    if c_list_use and not simple: # фильтрация списка расчетных полей\n",
    "        digit_list = digit_list[digit_list.isin(c_list)]\n",
    "        other_list = other_list[other_list.isin(c_list)]\n",
    "        date_list  = date_list[date_list.isin(c_list)]\n",
    "    \n",
    "        \n",
    "    nd = pd.DataFrame(index=range(panni)) # создадим сводный датафрейм с корзинами разбиений,\n",
    "                                          # в который будем добавлять столбцы\n",
    "    \n",
    "   # 1. проходим по списку базовых полей (с пропусками)\n",
    "    for base in null_list:                # \n",
    "        if simple:\n",
    "            idx_true=df.index[0]+' == '+df.index[0] # условие для полного отбора\n",
    "            cond = idx_true               # если выбрано условие simple=True - не проходим по базовым полям,\n",
    "                                          # не фильтруем по условию .isna() в базовом поле\n",
    "                                          # просто смотрим всю таблицу на разбиения\n",
    "        else:\n",
    "            cond_clmn = data[base]\n",
    "            cond = condition              # строка-условие для фильтрации датафрейма по базовому полю\n",
    "        \n",
    "        # 1.1. вложенный цикл по расчетным числовым полям\n",
    "        for calc in digit_list:           # \n",
    "            #print('calc',calc)\n",
    "            panniers = panni              # на каждой итерации цикла обновляем количество корзин\n",
    "            col_uniq = data.query(cond)[calc].nunique()  # количество уникальных значений в расчетном поле \n",
    "            panniers = min(panniers,col_uniq) # количество корзин должно быть не больше кол-ва уник значений\n",
    "            panniers = max(panniers,1)    # количество корзин должно быть больше 0\n",
    "            if col_uniq <= panni:         # для малого количества уникальных значений \"режем\"\n",
    "                bins = np.linspace((data.query(cond)[calc].min()-1), # отнимаем 1 для включения нижней границы\n",
    "                                   data.query(cond)[calc].max(), col_uniq+1)  # интервалы по уникальным значенияч\n",
    "                #bins = col_uniq\n",
    "                cut_label = range(col_uniq) # метки (индексы) корзин для всех полей сделаем однотиными- т.е. пронумеруем\n",
    "            else:                         # для больших рядов \"режем\" на ровные части с отсечением\n",
    "                bins=np.linspace((data.query(cond)[calc].quantile(qmn)-1), # нижнего квантиля\n",
    "                                  data.query(cond)[calc].quantile(qmx),    # и верхнего квантиля\n",
    "                                  panniers+1)\n",
    "                cut_label = range(min(panniers,bins.shape[0]))\n",
    "            if col_uniq>0: #and base != calc\n",
    "                nulldata  = pd.cut(data.query(cond)[calc], # разбивка по интервалам, индекс- нумерация (0-panniers)\n",
    "                                   bins,\n",
    "                                   labels=cut_label).value_counts(sort=False)\n",
    "                nulldata1 = pd.cut(data.query(cond)[calc], # разбивка по интервалам - индекс- границы интервалов\n",
    "                                   bins).value_counts(sort=False)\n",
    "                col_int = calc+'_int'  # наименование поля интервала- расчетное поле + суфикс\n",
    "                col_cnt = calc+'_cnt'  # наименование поля количество значений в интервале- расчетное поле + суфикс\n",
    "                cond_count = data[~data[calc].isna()][calc].count() # кол-во непустых значений в расчетном поле\n",
    "                #print('calc:',calc,', cond_count: ',cond_count,', data[calc].count(): ',data[calc].count())\n",
    "                if cond_count_use:     # кол-во непустых значений в расч поле, в строках отфильтрованных по условию\n",
    "                    cond_count = data.query(cond)[calc].count()\n",
    "                if cond_count > 0:     # исключим деление на ноль\n",
    "                    nd_col = pd.DataFrame({(base,col_int):nulldata1.index,\n",
    "                                           (base,col_cnt):nulldata\n",
    "                                           /cond_count},\n",
    "                                            index=range(panniers))\n",
    "                else:\n",
    "                    nd_col = pd.DataFrame({(base,col_int):nulldata1.index,\n",
    "                                           (base,col_cnt):0},\n",
    "                                            index=range(panniers))\n",
    "                nd = pd.concat((nd,nd_col),axis=1) # добавление полученных значений разбивки в сводный датафрейм\n",
    "        \n",
    "        \n",
    "        # 1.2. вложенный цикл для нечисловых полей\n",
    "        for calc in other_list:\n",
    "            col_uniq = data.query(cond)[calc].nunique()  # количество уникальных значений в расчетном поле \n",
    "            panniers = max(col_uniq,1)\n",
    "            panniers = min(panni,col_uniq)\n",
    "            nulldata  = data.query(cond)[calc].value_counts(sort=False).nlargest(panniers) # берем только то, что \"влазит\"\n",
    "                                                                                           # в нашу разбивку\n",
    "            col_int = calc+'_int'\n",
    "            col_cnt = calc+'_cnt'\n",
    "            nd_col  = pd.DataFrame({(base,col_int):nulldata.index},index=range(panniers))\n",
    "            nulldata.reset_index(drop=True,inplace=True)\n",
    "            cond_count = data[~data[calc].isna()][calc].count() # кол-во непустых значений в расчетном поле\n",
    "            if cond_count_use:     # кол-во непустых значений в расч поле, в строках отфильтрованных по условию\n",
    "                cond_count = data.query(cond)[calc].count()\n",
    "            if cond_count > 0:\n",
    "                nd_col2 = pd.DataFrame({(base,col_cnt):nulldata\n",
    "                                       /cond_count},\n",
    "                                        index=range(panniers))\n",
    "            else:\n",
    "                nd_col2 = pd.DataFrame({(base,col_cnt):0},\n",
    "                                        index=range(panniers))\n",
    "            #nd_col = pd.concat((nd_col,nd_col2),axis=1)\n",
    "            nd = pd.concat((nd,nd_col,nd_col2),axis=1)\n",
    "        \n",
    "        for calc in date_list:\n",
    "            calc_clmn = data[calc]\n",
    "            col_int = calc+'_int'\n",
    "            col_cnt = calc+'_cnt'\n",
    "            if cond != '' and cond != '@cond_clmn.isna()': # фильтрация расчетного поля для построения интервалов\n",
    "                cond = cond+' and @calc_clmn > @calc_clmn.quantile(@qmn) and @calc_clmn < @calc_clmn.quantile(@qmx)'\n",
    "            else:\n",
    "                cond = '@calc_clmn > @calc_clmn.quantile(@qmn) and @calc_clmn < @calc_clmn.quantile(@qmx)'\n",
    "            col_uniq = data.query(cond)[calc].nunique()  # количество уникальных значений в расчетном поле \n",
    "            panniers = max(col_uniq,1)\n",
    "            panniers = min(panni,col_uniq)\n",
    "            nulldata  = pd.cut(data.query(cond)[calc], # разбивка по интервалам, индекс- нумерация (0-panniers)\n",
    "                                   bins=panniers).value_counts(sort=False)\n",
    "            nd_col  = pd.DataFrame({(base,col_int):nulldata.index},index=range(panniers))\n",
    "            nulldata.reset_index(drop=True,inplace=True)\n",
    "            cond_count = data[~data[calc].isna()][calc].count() # кол-во непустых значений в расчетном поле\n",
    "            if cond_count_use:     # кол-во непустых значений в расч поле, в строках отфильтрованных по условию\n",
    "                cond_count = data.query(cond)[calc].count()\n",
    "            if cond_count > 0:\n",
    "                nd_col2 = pd.DataFrame({(base,col_cnt):nulldata\n",
    "                                       /cond_count},\n",
    "                                        index=range(panniers))\n",
    "            else:\n",
    "                nd_col2 = pd.DataFrame({(base,col_cnt):0},\n",
    "                                        index=range(panniers))\n",
    "            nd = pd.concat((nd,nd_col,nd_col2),axis=1)\n",
    "            \n",
    "    return nd\n",
    "#fract_table = condition_depend(panni,qmx,qmn,condition,simple,\n",
    "#                     data,\n",
    "#                     b_list,b_list_use,\n",
    "#                     c_list,c_list_use,cond_count_use)\n",
    "#fract_table"
   ]
  },
  {
   "cell_type": "markdown",
   "metadata": {},
   "source": [
    "Создам отдельные списки имен полей"
   ]
  },
  {
   "cell_type": "code",
   "execution_count": 24,
   "metadata": {},
   "outputs": [],
   "source": [
    "cat_obj_list = ['geography','gender']\n",
    "cat_int_list = ['num_of_products','has_cr_card','is_active_member']\n",
    "no_cat_list = ['credit_score','age','tenure','balance','estimated_salary']\n",
    "targ_list = ['exited']"
   ]
  },
  {
   "cell_type": "markdown",
   "metadata": {},
   "source": [
    "Посмотрим пропуски tenure для категорийных текстовых полей"
   ]
  },
  {
   "cell_type": "code",
   "execution_count": 25,
   "metadata": {},
   "outputs": [
    {
     "data": {
      "text/html": [
       "<div>\n",
       "<style scoped>\n",
       "    .dataframe tbody tr th:only-of-type {\n",
       "        vertical-align: middle;\n",
       "    }\n",
       "\n",
       "    .dataframe tbody tr th {\n",
       "        vertical-align: top;\n",
       "    }\n",
       "\n",
       "    .dataframe thead th {\n",
       "        text-align: right;\n",
       "    }\n",
       "</style>\n",
       "<table border=\"1\" class=\"dataframe\">\n",
       "  <thead>\n",
       "    <tr style=\"text-align: right;\">\n",
       "      <th></th>\n",
       "      <th>(tenure, geography_int)</th>\n",
       "      <th>(tenure, geography_cnt)</th>\n",
       "      <th>(tenure, gender_int)</th>\n",
       "      <th>(tenure, gender_cnt)</th>\n",
       "    </tr>\n",
       "  </thead>\n",
       "  <tbody>\n",
       "    <tr>\n",
       "      <th>0</th>\n",
       "      <td>France</td>\n",
       "      <td>0.510451</td>\n",
       "      <td>Male</td>\n",
       "      <td>0.531353</td>\n",
       "    </tr>\n",
       "    <tr>\n",
       "      <th>1</th>\n",
       "      <td>Spain</td>\n",
       "      <td>0.251925</td>\n",
       "      <td>Female</td>\n",
       "      <td>0.468647</td>\n",
       "    </tr>\n",
       "    <tr>\n",
       "      <th>2</th>\n",
       "      <td>Germany</td>\n",
       "      <td>0.237624</td>\n",
       "      <td>NaN</td>\n",
       "      <td>NaN</td>\n",
       "    </tr>\n",
       "    <tr>\n",
       "      <th>3</th>\n",
       "      <td>NaN</td>\n",
       "      <td>NaN</td>\n",
       "      <td>NaN</td>\n",
       "      <td>NaN</td>\n",
       "    </tr>\n",
       "    <tr>\n",
       "      <th>4</th>\n",
       "      <td>NaN</td>\n",
       "      <td>NaN</td>\n",
       "      <td>NaN</td>\n",
       "      <td>NaN</td>\n",
       "    </tr>\n",
       "    <tr>\n",
       "      <th>5</th>\n",
       "      <td>NaN</td>\n",
       "      <td>NaN</td>\n",
       "      <td>NaN</td>\n",
       "      <td>NaN</td>\n",
       "    </tr>\n",
       "    <tr>\n",
       "      <th>6</th>\n",
       "      <td>NaN</td>\n",
       "      <td>NaN</td>\n",
       "      <td>NaN</td>\n",
       "      <td>NaN</td>\n",
       "    </tr>\n",
       "    <tr>\n",
       "      <th>7</th>\n",
       "      <td>NaN</td>\n",
       "      <td>NaN</td>\n",
       "      <td>NaN</td>\n",
       "      <td>NaN</td>\n",
       "    </tr>\n",
       "    <tr>\n",
       "      <th>8</th>\n",
       "      <td>NaN</td>\n",
       "      <td>NaN</td>\n",
       "      <td>NaN</td>\n",
       "      <td>NaN</td>\n",
       "    </tr>\n",
       "    <tr>\n",
       "      <th>9</th>\n",
       "      <td>NaN</td>\n",
       "      <td>NaN</td>\n",
       "      <td>NaN</td>\n",
       "      <td>NaN</td>\n",
       "    </tr>\n",
       "  </tbody>\n",
       "</table>\n",
       "</div>"
      ],
      "text/plain": [
       "  (tenure, geography_int)  (tenure, geography_cnt) (tenure, gender_int)  \\\n",
       "0                  France                 0.510451                 Male   \n",
       "1                   Spain                 0.251925               Female   \n",
       "2                 Germany                 0.237624                  NaN   \n",
       "3                     NaN                      NaN                  NaN   \n",
       "4                     NaN                      NaN                  NaN   \n",
       "5                     NaN                      NaN                  NaN   \n",
       "6                     NaN                      NaN                  NaN   \n",
       "7                     NaN                      NaN                  NaN   \n",
       "8                     NaN                      NaN                  NaN   \n",
       "9                     NaN                      NaN                  NaN   \n",
       "\n",
       "   (tenure, gender_cnt)  \n",
       "0              0.531353  \n",
       "1              0.468647  \n",
       "2                   NaN  \n",
       "3                   NaN  \n",
       "4                   NaN  \n",
       "5                   NaN  \n",
       "6                   NaN  \n",
       "7                   NaN  \n",
       "8                   NaN  \n",
       "9                   NaN  "
      ]
     },
     "execution_count": 25,
     "metadata": {},
     "output_type": "execute_result"
    }
   ],
   "source": [
    "panni = 10              # количество корзин\n",
    "qmx =  1                # верхний квантиль (данные берутся ниже значения: для 1 - смотрим все данные)\n",
    "qmn =  0                # нижний квантиль (данные берутся выше значения: для 0 - смотрим все данные)\n",
    "condition = '@cond_clmn.isna()'          # условие отбора в базовых полях\n",
    "simple = False           # False - используем условие отбора в базовых полях\n",
    "top = 5                 # количество Топ корзин разбиения\n",
    "b_list = ['tenure']           # список базовых полей\n",
    "b_list_use = True      # использовать / нет список базовых полей\n",
    "c_list =  cat_obj_list          # список расчетных полей\n",
    "c_list_use = True      # использовать / нет список расчетных полей\n",
    "cond_count_use = True  # True - доля в корзинах считается по отношению к количеству отфильтрованных строк\n",
    "                        # False- доля в корзинах считается по отношению к общему количеству строк\n",
    "#-------------------------------------------------------------------\n",
    "fract_table = condition_depend(panni,qmx,qmn,condition,simple,\n",
    "                     data,\n",
    "                     b_list,b_list_use,\n",
    "                     c_list,c_list_use,cond_count_use)\n",
    "fract_table"
   ]
  },
  {
   "cell_type": "markdown",
   "metadata": {},
   "source": [
    "Видим, что пропуски не сосредоточены на каком то из категорийных строковых значений\n",
    "\n",
    "Посмотрим пропуски tenure для категорийных численных полей"
   ]
  },
  {
   "cell_type": "code",
   "execution_count": 26,
   "metadata": {},
   "outputs": [
    {
     "data": {
      "text/html": [
       "<div>\n",
       "<style scoped>\n",
       "    .dataframe tbody tr th:only-of-type {\n",
       "        vertical-align: middle;\n",
       "    }\n",
       "\n",
       "    .dataframe tbody tr th {\n",
       "        vertical-align: top;\n",
       "    }\n",
       "\n",
       "    .dataframe thead th {\n",
       "        text-align: right;\n",
       "    }\n",
       "</style>\n",
       "<table border=\"1\" class=\"dataframe\">\n",
       "  <thead>\n",
       "    <tr style=\"text-align: right;\">\n",
       "      <th></th>\n",
       "      <th>(tenure, num_of_products_int)</th>\n",
       "      <th>(tenure, num_of_products_cnt)</th>\n",
       "      <th>(tenure, has_cr_card_int)</th>\n",
       "      <th>(tenure, has_cr_card_cnt)</th>\n",
       "      <th>(tenure, is_active_member_int)</th>\n",
       "      <th>(tenure, is_active_member_cnt)</th>\n",
       "      <th>(tenure, exited_int)</th>\n",
       "      <th>(tenure, exited_cnt)</th>\n",
       "    </tr>\n",
       "  </thead>\n",
       "  <tbody>\n",
       "    <tr>\n",
       "      <th>0</th>\n",
       "      <td>(0.0, 1.0]</td>\n",
       "      <td>0.513751</td>\n",
       "      <td>(-1.0, 0.0]</td>\n",
       "      <td>0.289329</td>\n",
       "      <td>(-1.0, 0.0]</td>\n",
       "      <td>0.489549</td>\n",
       "      <td>(-1.0, 0.0]</td>\n",
       "      <td>0.79868</td>\n",
       "    </tr>\n",
       "    <tr>\n",
       "      <th>1</th>\n",
       "      <td>(1.0, 2.0]</td>\n",
       "      <td>0.446645</td>\n",
       "      <td>(0.0, 1.0]</td>\n",
       "      <td>0.710671</td>\n",
       "      <td>(0.0, 1.0]</td>\n",
       "      <td>0.510451</td>\n",
       "      <td>(0.0, 1.0]</td>\n",
       "      <td>0.20132</td>\n",
       "    </tr>\n",
       "    <tr>\n",
       "      <th>2</th>\n",
       "      <td>(2.0, 3.0]</td>\n",
       "      <td>0.035204</td>\n",
       "      <td>NaN</td>\n",
       "      <td>NaN</td>\n",
       "      <td>NaN</td>\n",
       "      <td>NaN</td>\n",
       "      <td>NaN</td>\n",
       "      <td>NaN</td>\n",
       "    </tr>\n",
       "    <tr>\n",
       "      <th>3</th>\n",
       "      <td>(3.0, 4.0]</td>\n",
       "      <td>0.004400</td>\n",
       "      <td>NaN</td>\n",
       "      <td>NaN</td>\n",
       "      <td>NaN</td>\n",
       "      <td>NaN</td>\n",
       "      <td>NaN</td>\n",
       "      <td>NaN</td>\n",
       "    </tr>\n",
       "    <tr>\n",
       "      <th>4</th>\n",
       "      <td>NaN</td>\n",
       "      <td>NaN</td>\n",
       "      <td>NaN</td>\n",
       "      <td>NaN</td>\n",
       "      <td>NaN</td>\n",
       "      <td>NaN</td>\n",
       "      <td>NaN</td>\n",
       "      <td>NaN</td>\n",
       "    </tr>\n",
       "    <tr>\n",
       "      <th>5</th>\n",
       "      <td>NaN</td>\n",
       "      <td>NaN</td>\n",
       "      <td>NaN</td>\n",
       "      <td>NaN</td>\n",
       "      <td>NaN</td>\n",
       "      <td>NaN</td>\n",
       "      <td>NaN</td>\n",
       "      <td>NaN</td>\n",
       "    </tr>\n",
       "    <tr>\n",
       "      <th>6</th>\n",
       "      <td>NaN</td>\n",
       "      <td>NaN</td>\n",
       "      <td>NaN</td>\n",
       "      <td>NaN</td>\n",
       "      <td>NaN</td>\n",
       "      <td>NaN</td>\n",
       "      <td>NaN</td>\n",
       "      <td>NaN</td>\n",
       "    </tr>\n",
       "    <tr>\n",
       "      <th>7</th>\n",
       "      <td>NaN</td>\n",
       "      <td>NaN</td>\n",
       "      <td>NaN</td>\n",
       "      <td>NaN</td>\n",
       "      <td>NaN</td>\n",
       "      <td>NaN</td>\n",
       "      <td>NaN</td>\n",
       "      <td>NaN</td>\n",
       "    </tr>\n",
       "    <tr>\n",
       "      <th>8</th>\n",
       "      <td>NaN</td>\n",
       "      <td>NaN</td>\n",
       "      <td>NaN</td>\n",
       "      <td>NaN</td>\n",
       "      <td>NaN</td>\n",
       "      <td>NaN</td>\n",
       "      <td>NaN</td>\n",
       "      <td>NaN</td>\n",
       "    </tr>\n",
       "    <tr>\n",
       "      <th>9</th>\n",
       "      <td>NaN</td>\n",
       "      <td>NaN</td>\n",
       "      <td>NaN</td>\n",
       "      <td>NaN</td>\n",
       "      <td>NaN</td>\n",
       "      <td>NaN</td>\n",
       "      <td>NaN</td>\n",
       "      <td>NaN</td>\n",
       "    </tr>\n",
       "  </tbody>\n",
       "</table>\n",
       "</div>"
      ],
      "text/plain": [
       "  (tenure, num_of_products_int)  (tenure, num_of_products_cnt)  \\\n",
       "0                    (0.0, 1.0]                       0.513751   \n",
       "1                    (1.0, 2.0]                       0.446645   \n",
       "2                    (2.0, 3.0]                       0.035204   \n",
       "3                    (3.0, 4.0]                       0.004400   \n",
       "4                           NaN                            NaN   \n",
       "5                           NaN                            NaN   \n",
       "6                           NaN                            NaN   \n",
       "7                           NaN                            NaN   \n",
       "8                           NaN                            NaN   \n",
       "9                           NaN                            NaN   \n",
       "\n",
       "  (tenure, has_cr_card_int)  (tenure, has_cr_card_cnt)  \\\n",
       "0               (-1.0, 0.0]                   0.289329   \n",
       "1                (0.0, 1.0]                   0.710671   \n",
       "2                       NaN                        NaN   \n",
       "3                       NaN                        NaN   \n",
       "4                       NaN                        NaN   \n",
       "5                       NaN                        NaN   \n",
       "6                       NaN                        NaN   \n",
       "7                       NaN                        NaN   \n",
       "8                       NaN                        NaN   \n",
       "9                       NaN                        NaN   \n",
       "\n",
       "  (tenure, is_active_member_int)  (tenure, is_active_member_cnt)  \\\n",
       "0                    (-1.0, 0.0]                        0.489549   \n",
       "1                     (0.0, 1.0]                        0.510451   \n",
       "2                            NaN                             NaN   \n",
       "3                            NaN                             NaN   \n",
       "4                            NaN                             NaN   \n",
       "5                            NaN                             NaN   \n",
       "6                            NaN                             NaN   \n",
       "7                            NaN                             NaN   \n",
       "8                            NaN                             NaN   \n",
       "9                            NaN                             NaN   \n",
       "\n",
       "  (tenure, exited_int)  (tenure, exited_cnt)  \n",
       "0          (-1.0, 0.0]               0.79868  \n",
       "1           (0.0, 1.0]               0.20132  \n",
       "2                  NaN                   NaN  \n",
       "3                  NaN                   NaN  \n",
       "4                  NaN                   NaN  \n",
       "5                  NaN                   NaN  \n",
       "6                  NaN                   NaN  \n",
       "7                  NaN                   NaN  \n",
       "8                  NaN                   NaN  \n",
       "9                  NaN                   NaN  "
      ]
     },
     "execution_count": 26,
     "metadata": {},
     "output_type": "execute_result"
    }
   ],
   "source": [
    "panni = 10              # количество корзин\n",
    "qmx =  1                # верхний квантиль (данные берутся ниже значения: для 1 - смотрим все данные)\n",
    "qmn =  0                # нижний квантиль (данные берутся выше значения: для 0 - смотрим все данные)\n",
    "condition = '@cond_clmn.isna()'          # условие отбора в базовых полях\n",
    "simple = False           # False - используем условие отбора в базовых полях\n",
    "top = 5                 # количество Топ корзин разбиения\n",
    "b_list = ['tenure']           # список базовых полей\n",
    "b_list_use = True      # использовать / нет список базовых полей\n",
    "c_list =  cat_int_list+targ_list          # список расчетных полей\n",
    "c_list_use = True      # использовать / нет список расчетных полей\n",
    "cond_count_use = True  # True - доля в корзинах считается по отношению к количеству отфильтрованных строк\n",
    "                        # False- доля в корзинах считается по отношению к общему количеству строк\n",
    "#-------------------------------------------------------------------\n",
    "fract_table = condition_depend(panni,qmx,qmn,condition,simple,\n",
    "                     data,\n",
    "                     b_list,b_list_use,\n",
    "                     c_list,c_list_use,cond_count_use)\n",
    "fract_table"
   ]
  },
  {
   "cell_type": "markdown",
   "metadata": {},
   "source": [
    "Видим, что пропуски не сосредоточены на каком то из категорийных численных значений\n",
    "\n",
    "Посмотрим пропуски tenure для некатегорийных численных полей"
   ]
  },
  {
   "cell_type": "code",
   "execution_count": 27,
   "metadata": {},
   "outputs": [
    {
     "data": {
      "text/html": [
       "<div>\n",
       "<style scoped>\n",
       "    .dataframe tbody tr th:only-of-type {\n",
       "        vertical-align: middle;\n",
       "    }\n",
       "\n",
       "    .dataframe tbody tr th {\n",
       "        vertical-align: top;\n",
       "    }\n",
       "\n",
       "    .dataframe thead th {\n",
       "        text-align: right;\n",
       "    }\n",
       "</style>\n",
       "<table border=\"1\" class=\"dataframe\">\n",
       "  <thead>\n",
       "    <tr style=\"text-align: right;\">\n",
       "      <th></th>\n",
       "      <th>(tenure, credit_score_int)</th>\n",
       "      <th>(tenure, credit_score_cnt)</th>\n",
       "      <th>(tenure, age_int)</th>\n",
       "      <th>(tenure, age_cnt)</th>\n",
       "      <th>(tenure, balance_int)</th>\n",
       "      <th>(tenure, balance_cnt)</th>\n",
       "      <th>(tenure, estimated_salary_int)</th>\n",
       "      <th>(tenure, estimated_salary_cnt)</th>\n",
       "    </tr>\n",
       "  </thead>\n",
       "  <tbody>\n",
       "    <tr>\n",
       "      <th>0</th>\n",
       "      <td>(358.0, 407.2]</td>\n",
       "      <td>0.002200</td>\n",
       "      <td>(17.0, 24.5]</td>\n",
       "      <td>0.031903</td>\n",
       "      <td>(-1.0, 20665.475]</td>\n",
       "      <td>0.368537</td>\n",
       "      <td>(105.67, 20034.148]</td>\n",
       "      <td>0.084708</td>\n",
       "    </tr>\n",
       "    <tr>\n",
       "      <th>1</th>\n",
       "      <td>(407.2, 456.4]</td>\n",
       "      <td>0.022002</td>\n",
       "      <td>(24.5, 32.0]</td>\n",
       "      <td>0.247525</td>\n",
       "      <td>(20665.475, 41331.95]</td>\n",
       "      <td>0.005501</td>\n",
       "      <td>(20034.148, 39962.626]</td>\n",
       "      <td>0.100110</td>\n",
       "    </tr>\n",
       "    <tr>\n",
       "      <th>2</th>\n",
       "      <td>(456.4, 505.6]</td>\n",
       "      <td>0.056106</td>\n",
       "      <td>(32.0, 39.5]</td>\n",
       "      <td>0.334433</td>\n",
       "      <td>(41331.95, 61998.425]</td>\n",
       "      <td>0.014301</td>\n",
       "      <td>(39962.626, 59891.104]</td>\n",
       "      <td>0.121012</td>\n",
       "    </tr>\n",
       "    <tr>\n",
       "      <th>3</th>\n",
       "      <td>(505.6, 554.8]</td>\n",
       "      <td>0.105611</td>\n",
       "      <td>(39.5, 47.0]</td>\n",
       "      <td>0.226623</td>\n",
       "      <td>(61998.425, 82664.9]</td>\n",
       "      <td>0.041804</td>\n",
       "      <td>(59891.104, 79819.582]</td>\n",
       "      <td>0.102310</td>\n",
       "    </tr>\n",
       "    <tr>\n",
       "      <th>4</th>\n",
       "      <td>(554.8, 604.0]</td>\n",
       "      <td>0.148515</td>\n",
       "      <td>(47.0, 54.5]</td>\n",
       "      <td>0.082508</td>\n",
       "      <td>(82664.9, 103331.375]</td>\n",
       "      <td>0.124312</td>\n",
       "      <td>(79819.582, 99748.06]</td>\n",
       "      <td>0.092409</td>\n",
       "    </tr>\n",
       "    <tr>\n",
       "      <th>5</th>\n",
       "      <td>(604.0, 653.2]</td>\n",
       "      <td>0.199120</td>\n",
       "      <td>(54.5, 62.0]</td>\n",
       "      <td>0.051705</td>\n",
       "      <td>(103331.375, 123997.85]</td>\n",
       "      <td>0.152915</td>\n",
       "      <td>(99748.06, 119676.538]</td>\n",
       "      <td>0.110011</td>\n",
       "    </tr>\n",
       "    <tr>\n",
       "      <th>6</th>\n",
       "      <td>(653.2, 702.4]</td>\n",
       "      <td>0.156216</td>\n",
       "      <td>(62.0, 69.5]</td>\n",
       "      <td>0.014301</td>\n",
       "      <td>(123997.85, 144664.325]</td>\n",
       "      <td>0.167217</td>\n",
       "      <td>(119676.538, 139605.016]</td>\n",
       "      <td>0.100110</td>\n",
       "    </tr>\n",
       "    <tr>\n",
       "      <th>7</th>\n",
       "      <td>(702.4, 751.6]</td>\n",
       "      <td>0.149615</td>\n",
       "      <td>(69.5, 77.0]</td>\n",
       "      <td>0.008801</td>\n",
       "      <td>(144664.325, 165330.8]</td>\n",
       "      <td>0.075908</td>\n",
       "      <td>(139605.016, 159533.494]</td>\n",
       "      <td>0.102310</td>\n",
       "    </tr>\n",
       "    <tr>\n",
       "      <th>8</th>\n",
       "      <td>(751.6, 800.8]</td>\n",
       "      <td>0.085809</td>\n",
       "      <td>(77.0, 84.5]</td>\n",
       "      <td>0.001100</td>\n",
       "      <td>(165330.8, 185997.275]</td>\n",
       "      <td>0.036304</td>\n",
       "      <td>(159533.494, 179461.972]</td>\n",
       "      <td>0.092409</td>\n",
       "    </tr>\n",
       "    <tr>\n",
       "      <th>9</th>\n",
       "      <td>(800.8, 850.0]</td>\n",
       "      <td>0.074807</td>\n",
       "      <td>(84.5, 92.0]</td>\n",
       "      <td>0.001100</td>\n",
       "      <td>(185997.275, 206663.75]</td>\n",
       "      <td>0.013201</td>\n",
       "      <td>(179461.972, 199390.45]</td>\n",
       "      <td>0.094609</td>\n",
       "    </tr>\n",
       "  </tbody>\n",
       "</table>\n",
       "</div>"
      ],
      "text/plain": [
       "  (tenure, credit_score_int)  (tenure, credit_score_cnt) (tenure, age_int)  \\\n",
       "0             (358.0, 407.2]                    0.002200      (17.0, 24.5]   \n",
       "1             (407.2, 456.4]                    0.022002      (24.5, 32.0]   \n",
       "2             (456.4, 505.6]                    0.056106      (32.0, 39.5]   \n",
       "3             (505.6, 554.8]                    0.105611      (39.5, 47.0]   \n",
       "4             (554.8, 604.0]                    0.148515      (47.0, 54.5]   \n",
       "5             (604.0, 653.2]                    0.199120      (54.5, 62.0]   \n",
       "6             (653.2, 702.4]                    0.156216      (62.0, 69.5]   \n",
       "7             (702.4, 751.6]                    0.149615      (69.5, 77.0]   \n",
       "8             (751.6, 800.8]                    0.085809      (77.0, 84.5]   \n",
       "9             (800.8, 850.0]                    0.074807      (84.5, 92.0]   \n",
       "\n",
       "   (tenure, age_cnt)    (tenure, balance_int)  (tenure, balance_cnt)  \\\n",
       "0           0.031903        (-1.0, 20665.475]               0.368537   \n",
       "1           0.247525    (20665.475, 41331.95]               0.005501   \n",
       "2           0.334433    (41331.95, 61998.425]               0.014301   \n",
       "3           0.226623     (61998.425, 82664.9]               0.041804   \n",
       "4           0.082508    (82664.9, 103331.375]               0.124312   \n",
       "5           0.051705  (103331.375, 123997.85]               0.152915   \n",
       "6           0.014301  (123997.85, 144664.325]               0.167217   \n",
       "7           0.008801   (144664.325, 165330.8]               0.075908   \n",
       "8           0.001100   (165330.8, 185997.275]               0.036304   \n",
       "9           0.001100  (185997.275, 206663.75]               0.013201   \n",
       "\n",
       "  (tenure, estimated_salary_int)  (tenure, estimated_salary_cnt)  \n",
       "0            (105.67, 20034.148]                        0.084708  \n",
       "1         (20034.148, 39962.626]                        0.100110  \n",
       "2         (39962.626, 59891.104]                        0.121012  \n",
       "3         (59891.104, 79819.582]                        0.102310  \n",
       "4          (79819.582, 99748.06]                        0.092409  \n",
       "5         (99748.06, 119676.538]                        0.110011  \n",
       "6       (119676.538, 139605.016]                        0.100110  \n",
       "7       (139605.016, 159533.494]                        0.102310  \n",
       "8       (159533.494, 179461.972]                        0.092409  \n",
       "9        (179461.972, 199390.45]                        0.094609  "
      ]
     },
     "execution_count": 27,
     "metadata": {},
     "output_type": "execute_result"
    }
   ],
   "source": [
    "panni = 10              # количество корзин\n",
    "qmx =  1                # верхний квантиль (данные берутся ниже значения: для 1 - смотрим все данные)\n",
    "qmn =  0                # нижний квантиль (данные берутся выше значения: для 0 - смотрим все данные)\n",
    "condition = '@cond_clmn.isna()'          # условие отбора в базовых полях\n",
    "simple = False           # False - используем условие отбора в базовых полях\n",
    "top = 5                 # количество Топ корзин разбиения\n",
    "b_list = ['tenure']           # список базовых полей\n",
    "b_list_use = True      # использовать / нет список базовых полей\n",
    "c_list =  no_cat_list          # список расчетных полей\n",
    "c_list_use = True      # использовать / нет список расчетных полей\n",
    "cond_count_use = True  # True - доля в корзинах считается по отношению к количеству отфильтрованных строк\n",
    "                        # False- доля в корзинах считается по отношению к общему количеству строк\n",
    "#-------------------------------------------------------------------\n",
    "fract_table = condition_depend(panni,qmx,qmn,condition,simple,\n",
    "                     data,\n",
    "                     b_list,b_list_use,\n",
    "                     c_list,c_list_use,cond_count_use)\n",
    "fract_table"
   ]
  },
  {
   "cell_type": "markdown",
   "metadata": {},
   "source": [
    "Для некатегорийных полей, также нельзя выявить какие то характерные диапазоны, которые соответствовали бы значительной концентрации пропусков в поле tenure. можно сделать вывод, что пропуски в клиентском стаже распределены в датасете равномерно. Посмотрим дополнительно зависимость непустых значений полей признаков.\n",
    "\n",
    "Посмотрим матрицу корреляции полей признаков"
   ]
  },
  {
   "cell_type": "code",
   "execution_count": 28,
   "metadata": {},
   "outputs": [
    {
     "data": {
      "text/html": [
       "<div>\n",
       "<style scoped>\n",
       "    .dataframe tbody tr th:only-of-type {\n",
       "        vertical-align: middle;\n",
       "    }\n",
       "\n",
       "    .dataframe tbody tr th {\n",
       "        vertical-align: top;\n",
       "    }\n",
       "\n",
       "    .dataframe thead th {\n",
       "        text-align: right;\n",
       "    }\n",
       "</style>\n",
       "<table border=\"1\" class=\"dataframe\">\n",
       "  <thead>\n",
       "    <tr style=\"text-align: right;\">\n",
       "      <th></th>\n",
       "      <th>credit_score</th>\n",
       "      <th>age</th>\n",
       "      <th>tenure</th>\n",
       "      <th>balance</th>\n",
       "      <th>num_of_products</th>\n",
       "      <th>has_cr_card</th>\n",
       "      <th>is_active_member</th>\n",
       "      <th>estimated_salary</th>\n",
       "      <th>exited</th>\n",
       "    </tr>\n",
       "  </thead>\n",
       "  <tbody>\n",
       "    <tr>\n",
       "      <th>credit_score</th>\n",
       "      <td>1.000000</td>\n",
       "      <td>-0.003965</td>\n",
       "      <td>-0.000062</td>\n",
       "      <td>0.006268</td>\n",
       "      <td>0.012238</td>\n",
       "      <td>-0.005458</td>\n",
       "      <td>0.025651</td>\n",
       "      <td>-0.001384</td>\n",
       "      <td>-0.027094</td>\n",
       "    </tr>\n",
       "    <tr>\n",
       "      <th>age</th>\n",
       "      <td>-0.003965</td>\n",
       "      <td>1.000000</td>\n",
       "      <td>-0.013134</td>\n",
       "      <td>0.028308</td>\n",
       "      <td>-0.030680</td>\n",
       "      <td>-0.011721</td>\n",
       "      <td>0.085472</td>\n",
       "      <td>-0.007201</td>\n",
       "      <td>0.285323</td>\n",
       "    </tr>\n",
       "    <tr>\n",
       "      <th>tenure</th>\n",
       "      <td>-0.000062</td>\n",
       "      <td>-0.013134</td>\n",
       "      <td>1.000000</td>\n",
       "      <td>-0.007911</td>\n",
       "      <td>0.011979</td>\n",
       "      <td>0.027232</td>\n",
       "      <td>-0.032178</td>\n",
       "      <td>0.010520</td>\n",
       "      <td>-0.016761</td>\n",
       "    </tr>\n",
       "    <tr>\n",
       "      <th>balance</th>\n",
       "      <td>0.006268</td>\n",
       "      <td>0.028308</td>\n",
       "      <td>-0.007911</td>\n",
       "      <td>1.000000</td>\n",
       "      <td>-0.304180</td>\n",
       "      <td>-0.014858</td>\n",
       "      <td>-0.010084</td>\n",
       "      <td>0.012797</td>\n",
       "      <td>0.118533</td>\n",
       "    </tr>\n",
       "    <tr>\n",
       "      <th>num_of_products</th>\n",
       "      <td>0.012238</td>\n",
       "      <td>-0.030680</td>\n",
       "      <td>0.011979</td>\n",
       "      <td>-0.304180</td>\n",
       "      <td>1.000000</td>\n",
       "      <td>0.003183</td>\n",
       "      <td>0.009612</td>\n",
       "      <td>0.014204</td>\n",
       "      <td>-0.047820</td>\n",
       "    </tr>\n",
       "    <tr>\n",
       "      <th>has_cr_card</th>\n",
       "      <td>-0.005458</td>\n",
       "      <td>-0.011721</td>\n",
       "      <td>0.027232</td>\n",
       "      <td>-0.014858</td>\n",
       "      <td>0.003183</td>\n",
       "      <td>1.000000</td>\n",
       "      <td>-0.011866</td>\n",
       "      <td>-0.009933</td>\n",
       "      <td>-0.007138</td>\n",
       "    </tr>\n",
       "    <tr>\n",
       "      <th>is_active_member</th>\n",
       "      <td>0.025651</td>\n",
       "      <td>0.085472</td>\n",
       "      <td>-0.032178</td>\n",
       "      <td>-0.010084</td>\n",
       "      <td>0.009612</td>\n",
       "      <td>-0.011866</td>\n",
       "      <td>1.000000</td>\n",
       "      <td>-0.011421</td>\n",
       "      <td>-0.156128</td>\n",
       "    </tr>\n",
       "    <tr>\n",
       "      <th>estimated_salary</th>\n",
       "      <td>-0.001384</td>\n",
       "      <td>-0.007201</td>\n",
       "      <td>0.010520</td>\n",
       "      <td>0.012797</td>\n",
       "      <td>0.014204</td>\n",
       "      <td>-0.009933</td>\n",
       "      <td>-0.011421</td>\n",
       "      <td>1.000000</td>\n",
       "      <td>0.012097</td>\n",
       "    </tr>\n",
       "    <tr>\n",
       "      <th>exited</th>\n",
       "      <td>-0.027094</td>\n",
       "      <td>0.285323</td>\n",
       "      <td>-0.016761</td>\n",
       "      <td>0.118533</td>\n",
       "      <td>-0.047820</td>\n",
       "      <td>-0.007138</td>\n",
       "      <td>-0.156128</td>\n",
       "      <td>0.012097</td>\n",
       "      <td>1.000000</td>\n",
       "    </tr>\n",
       "  </tbody>\n",
       "</table>\n",
       "</div>"
      ],
      "text/plain": [
       "                  credit_score       age    tenure   balance  num_of_products  \\\n",
       "credit_score          1.000000 -0.003965 -0.000062  0.006268         0.012238   \n",
       "age                  -0.003965  1.000000 -0.013134  0.028308        -0.030680   \n",
       "tenure               -0.000062 -0.013134  1.000000 -0.007911         0.011979   \n",
       "balance               0.006268  0.028308 -0.007911  1.000000        -0.304180   \n",
       "num_of_products       0.012238 -0.030680  0.011979 -0.304180         1.000000   \n",
       "has_cr_card          -0.005458 -0.011721  0.027232 -0.014858         0.003183   \n",
       "is_active_member      0.025651  0.085472 -0.032178 -0.010084         0.009612   \n",
       "estimated_salary     -0.001384 -0.007201  0.010520  0.012797         0.014204   \n",
       "exited               -0.027094  0.285323 -0.016761  0.118533        -0.047820   \n",
       "\n",
       "                  has_cr_card  is_active_member  estimated_salary    exited  \n",
       "credit_score        -0.005458          0.025651         -0.001384 -0.027094  \n",
       "age                 -0.011721          0.085472         -0.007201  0.285323  \n",
       "tenure               0.027232         -0.032178          0.010520 -0.016761  \n",
       "balance             -0.014858         -0.010084          0.012797  0.118533  \n",
       "num_of_products      0.003183          0.009612          0.014204 -0.047820  \n",
       "has_cr_card          1.000000         -0.011866         -0.009933 -0.007138  \n",
       "is_active_member    -0.011866          1.000000         -0.011421 -0.156128  \n",
       "estimated_salary    -0.009933         -0.011421          1.000000  0.012097  \n",
       "exited              -0.007138         -0.156128          0.012097  1.000000  "
      ]
     },
     "execution_count": 28,
     "metadata": {},
     "output_type": "execute_result"
    }
   ],
   "source": [
    "data.corr()"
   ]
  },
  {
   "cell_type": "markdown",
   "metadata": {},
   "source": [
    "В целом по полям признаков выраженной взаимной зависимости (мультиколинеарности) не обнаружено.\n",
    "\n",
    "Поле tenure не имеет выраженной зависимости от других полей.\n",
    "\n",
    "Т.о. можно сделать вывод, что заполнить какую то часть пропусков поля tenure данными  (значениями из узкого диапазона) на основе каких то взаимосвязей в датасете нельзя.\n",
    "\n",
    "Т.о. можно заполнить пропуски медианным значением, но поскольку доля таких сэмплов составляет почти 10%, мы очевидно исказим существующее распределение. Поэтому заполним пропуски в соответствии с фактическим распределением непустых значений в поле."
   ]
  },
  {
   "cell_type": "code",
   "execution_count": 29,
   "metadata": {},
   "outputs": [
    {
     "data": {
      "text/plain": [
       "array([ 0.,  1.,  2.,  3.,  4.,  5.,  6.,  7.,  8.,  9., 10.])"
      ]
     },
     "metadata": {},
     "output_type": "display_data"
    },
    {
     "data": {
      "text/plain": [
       "array([0.04201958, 0.10471895, 0.10449896, 0.10207898, 0.09734903,\n",
       "       0.10196898, 0.09690903, 0.10174898, 0.10262897, 0.09701903,\n",
       "       0.04905951])"
      ]
     },
     "execution_count": 29,
     "metadata": {},
     "output_type": "execute_result"
    }
   ],
   "source": [
    "tenure_values = data[data['tenure'].notna()]['tenure'].sort_values().unique()\n",
    "display(tenure_values)\n",
    "tenure_proba = data[data['tenure'].notna()]['tenure'].value_counts(normalize=True).sort_index().values\n",
    "tenure_proba"
   ]
  },
  {
   "cell_type": "code",
   "execution_count": 31,
   "metadata": {},
   "outputs": [
    {
     "name": "stdout",
     "output_type": "stream",
     "text": [
      "<class 'pandas.core.frame.DataFrame'>\n",
      "RangeIndex: 10000 entries, 0 to 9999\n",
      "Data columns (total 11 columns):\n",
      " #   Column            Non-Null Count  Dtype  \n",
      "---  ------            --------------  -----  \n",
      " 0   credit_score      10000 non-null  int64  \n",
      " 1   geography         10000 non-null  object \n",
      " 2   gender            10000 non-null  object \n",
      " 3   age               10000 non-null  int64  \n",
      " 4   tenure            10000 non-null  float64\n",
      " 5   balance           10000 non-null  float64\n",
      " 6   num_of_products   10000 non-null  int64  \n",
      " 7   has_cr_card       10000 non-null  int64  \n",
      " 8   is_active_member  10000 non-null  int64  \n",
      " 9   estimated_salary  10000 non-null  float64\n",
      " 10  exited            10000 non-null  int64  \n",
      "dtypes: float64(3), int64(6), object(2)\n",
      "memory usage: 859.5+ KB\n"
     ]
    },
    {
     "data": {
      "text/plain": [
       "None"
      ]
     },
     "metadata": {},
     "output_type": "display_data"
    },
    {
     "data": {
      "image/png": "[encoded data removed]",
      "text/plain": [
       "<Figure size 432x288 with 1 Axes>"
      ]
     },
     "metadata": {
      "needs_background": "light"
     },
     "output_type": "display_data"
    }
   ],
   "source": [
    "tenure_arr = np.random.choice(tenure_values, len(data), p=tenure_proba)\n",
    "tenure_df = pd.DataFrame({'ten_prob': tenure_arr},index = data.index)\n",
    "idx = data[data['tenure'].isna()].index\n",
    "data.loc[idx,'tenure'] = tenure_df.loc[idx,'ten_prob']\n",
    "display(data.info())\n",
    "data['tenure'].hist().set_title('Распределение значений в поле tenure');"
   ]
  },
  {
   "cell_type": "markdown",
   "metadata": {},
   "source": [
    "Пропуски заполнили. Распределние сохранили."
   ]
  },
  {
   "cell_type": "markdown",
   "metadata": {},
   "source": [
    "### Закодируем категориальные строковые признаки"
   ]
  },
  {
   "cell_type": "markdown",
   "metadata": {},
   "source": [
    "В общем, конечно необходимо кодировать признаки после разбиения датасета на тестовую и обучающую выборки для избежания утечки и предотвращения некорректной работы модели при появлении новых классов в тесте. Но в рамках данного проекта считаю это излишним, т.к. категориальные признаки широко представлены в нашем датасете и очевидно, что попадут во все выборки практически при любом сплите.\n",
    "\n",
    "Поэтому воспользуемся функцией get_dummies"
   ]
  },
  {
   "cell_type": "code",
   "execution_count": 32,
   "metadata": {
    "scrolled": false
   },
   "outputs": [
    {
     "name": "stdout",
     "output_type": "stream",
     "text": [
      "<class 'pandas.core.frame.DataFrame'>\n",
      "RangeIndex: 10000 entries, 0 to 9999\n",
      "Data columns (total 12 columns):\n",
      " #   Column             Non-Null Count  Dtype  \n",
      "---  ------             --------------  -----  \n",
      " 0   credit_score       10000 non-null  int64  \n",
      " 1   age                10000 non-null  int64  \n",
      " 2   tenure             10000 non-null  float64\n",
      " 3   balance            10000 non-null  float64\n",
      " 4   num_of_products    10000 non-null  int64  \n",
      " 5   has_cr_card        10000 non-null  int64  \n",
      " 6   is_active_member   10000 non-null  int64  \n",
      " 7   estimated_salary   10000 non-null  float64\n",
      " 8   exited             10000 non-null  int64  \n",
      " 9   geography_Germany  10000 non-null  uint8  \n",
      " 10  geography_Spain    10000 non-null  uint8  \n",
      " 11  gender_Male        10000 non-null  uint8  \n",
      "dtypes: float64(3), int64(6), uint8(3)\n",
      "memory usage: 732.5 KB\n"
     ]
    }
   ],
   "source": [
    "data = pd.get_dummies(data, drop_first=True)\n",
    "data.info()"
   ]
  },
  {
   "cell_type": "markdown",
   "metadata": {},
   "source": [
    "<div style=\"background: #B0E0E6; padding: 5px; border: 1px solid SteelBlue; border-radius: 5px;\">\n",
    "    <font color='4682B4'>Здесь решил применить гет_даммис.\n",
    "        Основная ошибка при использовании гет_даммис может возникнуть из-за появления новых классов, которых нет в обучающей выборке. Этот момент я описал в комментарии выше: \"Но в рамках данного проекта считаю это излишним, т.к. категориальные признаки широко представлены в нашем датасете и очевидно, что попадут во все выборки практически при любом сплите.\" </font>\n",
    "</div>"
   ]
  },
  {
   "cell_type": "markdown",
   "metadata": {},
   "source": [
    "\"Непредставленной\" (drop_first) страной стала Франция, гендером - Female"
   ]
  },
  {
   "cell_type": "markdown",
   "metadata": {},
   "source": [
    "Поле tenure фактически содержит органиченное количество значений и похоже на категорию, но применять к нему кодирование неправильно, поскольку значения в поле сравнимы между собой и теоретически именно как значения (числа) tenure сами по себе должны влиять на целевое значение."
   ]
  },
  {
   "cell_type": "markdown",
   "metadata": {},
   "source": [
    "### Разделение выборки и масштабирование признаков"
   ]
  },
  {
   "cell_type": "markdown",
   "metadata": {},
   "source": [
    "Далее необходимо масштабировать данные признаков. Предварительно определимся с типами масштабирования для разных полей. Исходя из формы распределния данных (гистограммы выше) применю для полей:\n",
    "- credit_score, age - стандартизацию,\n",
    "- tenure, estimated_salary, num_of_products - минимакс,\n",
    "- has_cr_card, is_active_member - не масштабирую\n",
    "- balance - поле имеет значительное количество значений около (равные) нуля. Поле отмасштабирую с помощью StandardScaler. В дальнейшем при необходимости посмотрю вариант преобразования поля в категориальное (нулевой баланс / Не нулевой).\n",
    "\n",
    "Посмотрим значения balance меньше 1000"
   ]
  },
  {
   "cell_type": "code",
   "execution_count": 33,
   "metadata": {},
   "outputs": [
    {
     "data": {
      "text/plain": [
       "array([0.])"
      ]
     },
     "execution_count": 33,
     "metadata": {},
     "output_type": "execute_result"
    }
   ],
   "source": [
    "data[data['balance']<1000]['balance'].unique()"
   ]
  },
  {
   "cell_type": "code",
   "execution_count": 34,
   "metadata": {},
   "outputs": [
    {
     "data": {
      "text/plain": [
       "1.0    6383\n",
       "0.0    3617\n",
       "Name: balance, dtype: int64"
      ]
     },
     "execution_count": 34,
     "metadata": {},
     "output_type": "execute_result"
    }
   ],
   "source": [
    "# посмотрим долю нулей\n",
    "data['balance'].where(data['balance']==0,other=1).value_counts()"
   ]
  },
  {
   "cell_type": "markdown",
   "metadata": {},
   "source": [
    "Приступим к масштабированию значений признаков.\n",
    "Чтобы не было утечки, предварительно разделим выборку.\n",
    "\n",
    "Выборку разделю на train, valid, test\n",
    "\n",
    "Поиск гиперпараметров буду производить с помощью классов Randomized(Grid)SearchCV. Это немного быстрее прямого перебора. Плюс хочу проверить данные методы в проекте и получить обратную связь от ревьюера в связи с этим. Валидационная выборка теоретически не нужна при решетчатом поиске. Но как выяснилось, кросвалидация применима при работе на балансированной выборке. Поскольку же мы будем в дальнейшем балансировать выборку, используя увеличение редких экземпляров, то решетчатый поиск приведет к утечке. Поэтому при апсэмпле буду использовать простой перебор параметров."
   ]
  },
  {
   "cell_type": "code",
   "execution_count": 35,
   "metadata": {},
   "outputs": [],
   "source": [
    "features = data.drop(['exited'], axis=1)\n",
    "target = data['exited']\n",
    "# разделим выборку на обучающую и тестовую\n",
    "features_train_undiv, features_test, target_train_undiv, target_test = train_test_split(\n",
    "    features, target, test_size=0.20, random_state=12345)"
   ]
  },
  {
   "cell_type": "code",
   "execution_count": 36,
   "metadata": {},
   "outputs": [
    {
     "data": {
      "text/plain": [
       "'Обучающая выборка признаков'"
      ]
     },
     "metadata": {},
     "output_type": "display_data"
    },
    {
     "data": {
      "text/plain": [
       "(6000, 11)"
      ]
     },
     "metadata": {},
     "output_type": "display_data"
    },
    {
     "data": {
      "text/plain": [
       "'Валидационная выборка  признаков'"
      ]
     },
     "metadata": {},
     "output_type": "display_data"
    },
    {
     "data": {
      "text/plain": [
       "(2000, 11)"
      ]
     },
     "metadata": {},
     "output_type": "display_data"
    },
    {
     "data": {
      "text/plain": [
       "'Тестовая выборка  признаков'"
      ]
     },
     "metadata": {},
     "output_type": "display_data"
    },
    {
     "data": {
      "text/plain": [
       "(2000, 11)"
      ]
     },
     "metadata": {},
     "output_type": "display_data"
    }
   ],
   "source": [
    "# еще раз разделим теперь уже обучающую выборку на обучающую и валидационную\n",
    "\n",
    "features_train, features_valid, target_train, target_valid = train_test_split(\n",
    "    features_train_undiv, target_train_undiv, test_size=0.25, random_state=12345)\n",
    "display('Обучающая выборка признаков',features_train.shape)\n",
    "display('Валидационная выборка  признаков',features_valid.shape)\n",
    "display('Тестовая выборка  признаков',features_test.shape)"
   ]
  },
  {
   "cell_type": "markdown",
   "metadata": {},
   "source": [
    "Масштабирование данных"
   ]
  },
  {
   "cell_type": "code",
   "execution_count": 37,
   "metadata": {},
   "outputs": [],
   "source": [
    "# составим списки полей для разных типов масштабирования\n",
    "stand_list = ['credit_score', 'age','balance']\n",
    "minmax_list = ['tenure', 'estimated_salary', 'num_of_products']"
   ]
  },
  {
   "cell_type": "markdown",
   "metadata": {},
   "source": [
    "<div style=\"background: #B0E0E6; padding: 5px; border: 1px solid SteelBlue; border-radius: 5px;\">\n",
    "    <font color='4682B4'><u><b>КОММЕНТАРИЙ СТУДЕНТА</b></u></font>\n",
    "    <br />\n",
    "    <font color='4682B4'> Где то прочитал, что желательно сохранять исходную форму распределения данных. Поэтому использовал разные скалеры. Нигде запретов в явном виде на такую манипуляцию я не нашел, т.е. вроде как это законно. Плюс хотел посмотреть, что получится при таком миксе. Как видим позже- данные подходят. Конечно, чтобы говорить о пользе или вреде такого подхода, имеет смысл сравнить результаты в двух вариантах. Но здесь главное- я посмотрел, что таким миксом я не \"сломал\" систему- все работает. )) </font>\n",
    "</div>"
   ]
  },
  {
   "cell_type": "markdown",
   "metadata": {},
   "source": [
    "Масштабируем поля с помощью стандартизации"
   ]
  },
  {
   "cell_type": "code",
   "execution_count": 38,
   "metadata": {},
   "outputs": [
    {
     "data": {
      "image/png": "[encoded data removed]",
      "text/plain": [
       "<Figure size 432x288 with 4 Axes>"
      ]
     },
     "metadata": {
      "needs_background": "light"
     },
     "output_type": "display_data"
    }
   ],
   "source": [
    "stand_scaler_train = StandardScaler()\n",
    "stand_scaler_train.fit(features_train[stand_list])\n",
    "features_train[stand_list]=stand_scaler_train.transform(features_train[stand_list])\n",
    "features_train[stand_list].hist();"
   ]
  },
  {
   "cell_type": "markdown",
   "metadata": {},
   "source": [
    "Масштабируем поля с помощью минимакса"
   ]
  },
  {
   "cell_type": "code",
   "execution_count": 39,
   "metadata": {},
   "outputs": [
    {
     "data": {
      "image/png": "[encoded data removed]",
      "text/plain": [
       "<Figure size 432x288 with 4 Axes>"
      ]
     },
     "metadata": {
      "needs_background": "light"
     },
     "output_type": "display_data"
    }
   ],
   "source": [
    "minmax_scaler_train = MinMaxScaler()\n",
    "minmax_scaler_train.fit(features_train[minmax_list])\n",
    "features_train[minmax_list] = minmax_scaler_train.transform(features_train[minmax_list])\n",
    "features_train[minmax_list].hist();"
   ]
  },
  {
   "cell_type": "markdown",
   "metadata": {},
   "source": [
    "Теперь отмасштабируем валидационную и тестовую выборку полученными скалерами"
   ]
  },
  {
   "cell_type": "code",
   "execution_count": 40,
   "metadata": {},
   "outputs": [],
   "source": [
    "features_valid[stand_list]=stand_scaler_train.transform(features_valid[stand_list])\n",
    "features_valid[minmax_list] = minmax_scaler_train.transform(features_valid[minmax_list])\n",
    "\n",
    "features_test[stand_list]=stand_scaler_train.transform(features_test[stand_list])\n",
    "features_test[minmax_list] = minmax_scaler_train.transform(features_test[minmax_list])"
   ]
  },
  {
   "cell_type": "markdown",
   "metadata": {},
   "source": [
    "Подготовка данных проведена. Приступим к исследованию моделей"
   ]
  },
  {
   "cell_type": "markdown",
   "metadata": {},
   "source": [
    "## Исследование задачи"
   ]
  },
  {
   "cell_type": "markdown",
   "metadata": {},
   "source": [
    "Исследовать буду 3 модели: логистическую регрессию, деревья решений и случайный лес.\n",
    "Поиск лучших параметров буду проводить с помощью методов _SearchCV."
   ]
  },
  {
   "cell_type": "markdown",
   "metadata": {},
   "source": [
    "Подготовлю функции для решетчатого поиска"
   ]
  },
  {
   "cell_type": "markdown",
   "metadata": {},
   "source": [
    "### Логистическая регрессия. Поиск ГП."
   ]
  },
  {
   "cell_type": "code",
   "execution_count": 41,
   "metadata": {},
   "outputs": [],
   "source": [
    "# функция обучения и вывода метрик\n",
    "def model_out(model,features_train,target_train,features_valid,target_valid):\n",
    "    model.fit(features_train, target_train)\n",
    "    predictions_valid = model.predict(features_valid)\n",
    "    probabilities = model.predict_proba(features_valid)\n",
    "    probabilities_one = probabilities[:, 1]\n",
    "    f1 = f1_score(target_valid, predictions_valid)\n",
    "    roc_auc = roc_auc_score(target_valid,probabilities_one)\n",
    "    accuracy = accuracy_score(target_valid,predictions_valid)\n",
    "    recall = recall_score(target_valid,predictions_valid)\n",
    "    precission = precision_score(target_valid,predictions_valid)\n",
    "    return model,f1,roc_auc,accuracy,recall,precission"
   ]
  },
  {
   "cell_type": "code",
   "execution_count": 42,
   "metadata": {},
   "outputs": [],
   "source": [
    "# функция для вывода данных roc_curve для обученной модели\n",
    "def roc_curve_data(model,target_valid):\n",
    "    predictions_valid = model.predict(features_valid)\n",
    "    probabilities = model.predict_proba(features_valid)\n",
    "    probabilities_one = probabilities[:, 1]\n",
    "    fpr, tpr, threshholds = roc_curve(target_valid,probabilities_one)\n",
    "    return fpr, tpr, threshholds"
   ]
  },
  {
   "cell_type": "code",
   "execution_count": 43,
   "metadata": {},
   "outputs": [],
   "source": [
    "# Определим списки значений гиперпараметров, которые будут использоваться в поиске\n",
    "C_list = [0.1,1,10,50]\n",
    "max_iter_list = [int(x) for x in range(100, 2200, 500)]"
   ]
  },
  {
   "cell_type": "code",
   "execution_count": 44,
   "metadata": {},
   "outputs": [],
   "source": [
    "# функция поиска ГП для лог.регрессии\n",
    "def logr_search(features_train,target_train,\n",
    "                features_valid,target_valid,\n",
    "                class_weight=None):\n",
    "    f1_best_list_logr = [0,0,0,0,0,0,0] # список значений при лучшем f1\n",
    "                             # f1_best_list[0] - f1\n",
    "                             # f1_best_list[1] - roc_auc\n",
    "                             # f1_best_list[2] - accuracy\n",
    "                             # f1_best_list[3] - recall\n",
    "                             # f1_best_list[4] - precission\n",
    "                             # f1_best_list[5] - гиперпараметр C\n",
    "                             # f1_best_list[6] - гиперпараметр max_iter\n",
    "    roc_auc_best_list_logr = [0,0,0,0,0,0,0] # список значений при лучшем roc_auc\n",
    "\n",
    "    for c_var in tqdm.tqdm(C_list):\n",
    "        for i_var in max_iter_list:\n",
    "            model_logr = LogisticRegression(random_state=12345, solver='lbfgs',\n",
    "                                C=c_var,max_iter=i_var,\n",
    "                                class_weight=class_weight)\n",
    "            model,f1,roc_auc,accuracy,recall,precission = model_out(\n",
    "                                    model_logr,features_train,\n",
    "                                    target_train,features_valid,target_valid)\n",
    "            if f1 > f1_best_list_logr[0]:\n",
    "                f1_best_list_logr = [f1,roc_auc,accuracy,\n",
    "                                recall,precission,c_var,i_var]\n",
    "            if roc_auc > roc_auc_best_list_logr[1]:\n",
    "                roc_auc_best_list_logr = [f1,roc_auc,accuracy,\n",
    "                                     recall,precission,c_var,i_var]\n",
    "    return f1_best_list_logr, roc_auc_best_list_logr"
   ]
  },
  {
   "cell_type": "markdown",
   "metadata": {},
   "source": [
    "Определим лучшие параметры лог.регерессии"
   ]
  },
  {
   "cell_type": "code",
   "execution_count": 45,
   "metadata": {},
   "outputs": [
    {
     "name": "stderr",
     "output_type": "stream",
     "text": [
      "100%|██████████| 4/4 [00:13<00:00,  3.48s/it]\n"
     ]
    }
   ],
   "source": [
    "f1_best_list_logr, roc_auc_best_list_logr = logr_search(features_train,target_train,\n",
    "                                              features_valid,target_valid)"
   ]
  },
  {
   "cell_type": "markdown",
   "metadata": {},
   "source": [
    "Посмотрим лучшие результаты"
   ]
  },
  {
   "cell_type": "code",
   "execution_count": 46,
   "metadata": {},
   "outputs": [],
   "source": [
    "result = pd.DataFrame(columns=[\n",
    "    'f1','roc_auc','accuracy','recall','precission','C','max_iter'])"
   ]
  },
  {
   "cell_type": "code",
   "execution_count": 47,
   "metadata": {},
   "outputs": [
    {
     "data": {
      "text/html": [
       "<div>\n",
       "<style scoped>\n",
       "    .dataframe tbody tr th:only-of-type {\n",
       "        vertical-align: middle;\n",
       "    }\n",
       "\n",
       "    .dataframe tbody tr th {\n",
       "        vertical-align: top;\n",
       "    }\n",
       "\n",
       "    .dataframe thead th {\n",
       "        text-align: right;\n",
       "    }\n",
       "</style>\n",
       "<table border=\"1\" class=\"dataframe\">\n",
       "  <thead>\n",
       "    <tr style=\"text-align: right;\">\n",
       "      <th></th>\n",
       "      <th>f1</th>\n",
       "      <th>roc_auc</th>\n",
       "      <th>accuracy</th>\n",
       "      <th>recall</th>\n",
       "      <th>precission</th>\n",
       "      <th>C</th>\n",
       "      <th>max_iter</th>\n",
       "    </tr>\n",
       "  </thead>\n",
       "  <tbody>\n",
       "    <tr>\n",
       "      <th>logr_f1</th>\n",
       "      <td>0.301318</td>\n",
       "      <td>0.770045</td>\n",
       "      <td>0.8145</td>\n",
       "      <td>0.204604</td>\n",
       "      <td>0.571429</td>\n",
       "      <td>1.0</td>\n",
       "      <td>100.0</td>\n",
       "    </tr>\n",
       "    <tr>\n",
       "      <th>logr_roc_auc</th>\n",
       "      <td>0.293893</td>\n",
       "      <td>0.770408</td>\n",
       "      <td>0.8150</td>\n",
       "      <td>0.196931</td>\n",
       "      <td>0.578947</td>\n",
       "      <td>0.1</td>\n",
       "      <td>100.0</td>\n",
       "    </tr>\n",
       "  </tbody>\n",
       "</table>\n",
       "</div>"
      ],
      "text/plain": [
       "                    f1   roc_auc  accuracy    recall  precission    C  \\\n",
       "logr_f1       0.301318  0.770045    0.8145  0.204604    0.571429  1.0   \n",
       "logr_roc_auc  0.293893  0.770408    0.8150  0.196931    0.578947  0.1   \n",
       "\n",
       "              max_iter  \n",
       "logr_f1          100.0  \n",
       "logr_roc_auc     100.0  "
      ]
     },
     "execution_count": 47,
     "metadata": {},
     "output_type": "execute_result"
    }
   ],
   "source": [
    "result.loc['logr_f1']=f1_best_list_logr\n",
    "result.loc['logr_roc_auc'] = roc_auc_best_list_logr\n",
    "result"
   ]
  },
  {
   "cell_type": "markdown",
   "metadata": {},
   "source": [
    "При лучшем roc_auc метрика f1 меньше своего максимума.\n",
    "\n",
    "Посмотрим метрики f1 и roc_auc посчитав их напрямую- обучим модель с найденными лучшими параметрами"
   ]
  },
  {
   "cell_type": "code",
   "execution_count": 48,
   "metadata": {},
   "outputs": [],
   "source": [
    "# функция для построения графика ROC CURVE\n",
    "def plot_roc_curve(fpr,tpr, label=None):\n",
    "    plt.plot(fpr,tpr,linewidth=2, label=label)\n",
    "    plt.plot([0,1],[0,1],'k--')\n",
    "    plt.axis([0,1,0,1])\n",
    "    plt.xlabel('FPR')\n",
    "    plt.ylabel('TPR')"
   ]
  },
  {
   "cell_type": "markdown",
   "metadata": {},
   "source": [
    "Обучим модель на лучших параметрах и выведем метрики"
   ]
  },
  {
   "cell_type": "code",
   "execution_count": 49,
   "metadata": {},
   "outputs": [],
   "source": [
    "logr_best = LogisticRegression(random_state=12345, solver='lbfgs',C=1,max_iter=100)"
   ]
  },
  {
   "cell_type": "code",
   "execution_count": 50,
   "metadata": {},
   "outputs": [],
   "source": [
    "def best_model(model,features_train,target_train,features_valid,target_valid,\n",
    "               prnt=False):\n",
    "    model_fited,f1,roc_auc,accuracy,recall,precission = model_out(\n",
    "                            model,features_train,\n",
    "                            target_train,features_valid,target_valid)\n",
    "    if prnt:\n",
    "        print('метрика f1 ----------',f1.round(5))\n",
    "        print('метрика roc_auc -----',roc_auc.round(4))\n",
    "        print('метрика accuracy ----',accuracy.round(4))\n",
    "        print('метрика recall ------',recall.round(4))\n",
    "        print('метрика precission --',precission.round(4))\n",
    "    return model_fited"
   ]
  },
  {
   "cell_type": "code",
   "execution_count": 51,
   "metadata": {},
   "outputs": [
    {
     "name": "stdout",
     "output_type": "stream",
     "text": [
      "метрика f1 ---------- 0.30132\n",
      "метрика roc_auc ----- 0.77\n",
      "метрика accuracy ---- 0.8145\n",
      "метрика recall ------ 0.2046\n",
      "метрика precission -- 0.5714\n"
     ]
    }
   ],
   "source": [
    "logr_best_fited = best_model(logr_best,features_train,target_train,\n",
    "                             features_valid,target_valid,prnt=True)"
   ]
  },
  {
   "cell_type": "code",
   "execution_count": 52,
   "metadata": {},
   "outputs": [],
   "source": [
    "# сохраним данные для roc_curve\n",
    "fpr_logr_best, tpr_logr_best, threshholds_logr_best = roc_curve_data(\n",
    "                                                    logr_best_fited,target_valid)"
   ]
  },
  {
   "cell_type": "markdown",
   "metadata": {},
   "source": [
    "### Дерево решений. Поиск ГП."
   ]
  },
  {
   "cell_type": "code",
   "execution_count": 53,
   "metadata": {},
   "outputs": [],
   "source": [
    "# Определим списки значений гиперпараметров, которые будут использоваться в поиске\n",
    "max_depth_list = [int(x) for x in range(10, 30, 2)]\n",
    "min_samples_split_list = [int(x) for x in range(2,40,2)]\n",
    "min_samples_leaf_list = [int(x) for x in range(1,20,2)]"
   ]
  },
  {
   "cell_type": "code",
   "execution_count": 54,
   "metadata": {},
   "outputs": [],
   "source": [
    "#param = pd.DataFrame() # служебный датафрейм - не используется"
   ]
  },
  {
   "cell_type": "code",
   "execution_count": 55,
   "metadata": {},
   "outputs": [],
   "source": [
    "# функция поиска ГП в дереве решений\n",
    "def dtcl_search(features_train,target_train,\n",
    "                features_valid,target_valid,\n",
    "                class_weight=None):\n",
    "    f1_best_list_dtcl = [0,0,0,0,0,0,0,0] # список значений при лучшем f1\n",
    "                             # f1_best_list[0] - f1\n",
    "                             # f1_best_list[1] - roc_auc\n",
    "                             # f1_best_list[2] - accuracy\n",
    "                             # f1_best_list[3] - recall\n",
    "                             # f1_best_list[4] - precission\n",
    "                             # f1_best_list[5] - гиперпараметр max_depth\n",
    "                             # f1_best_list[6] - гиперпараметр min_samples_split\n",
    "                             # f1_best_list[7] - гиперпараметр min_samples_leaf\n",
    "    roc_auc_best_list_dtcl = [0,0,0,0,0,0,0,0] # список значений при лучшем roc_auc\n",
    "\n",
    "#     id = 0\n",
    "#     roc_auc_best = 0\n",
    "#     f1_best = 0\n",
    "    for md in tqdm.tqdm(max_depth_list):\n",
    "        for spl in min_samples_split_list:\n",
    "            for leaf in min_samples_leaf_list:\n",
    "                model_dtcl = DecisionTreeClassifier(\n",
    "                                        random_state=12345,\n",
    "                                        max_depth=md,\n",
    "                                        min_samples_split=spl,\n",
    "                                        min_samples_leaf=leaf,\n",
    "                                        class_weight=class_weight)\n",
    "                model,f1,roc_auc,accuracy,recall,precission = model_out(\n",
    "                                        model_dtcl,\n",
    "                                        features_train,target_train,\n",
    "                                        features_valid,target_valid)\n",
    "#                 f1_list = f1_best_list_dtcl[0]\n",
    "#                 ra_list = roc_auc_best_list_dtcl[1]\n",
    "#                 param.loc[id,['md','spl','leaf','f1','f1_l','roc_auc','ra_l',\n",
    "#                               'f1_best','roc_auc_best']]= [\n",
    "#                     md,spl,leaf,f1,f1_list,roc_auc,ra_list,0,0]\n",
    "                if f1 > f1_best_list_dtcl[0]:\n",
    "                    f1_best_list_dtcl = [f1,roc_auc,accuracy,\n",
    "                                         recall,precission,md,spl,leaf]\n",
    "#                     f1_best += 1\n",
    "#                     param.loc[id,['f1_best']]=f1_best\n",
    "                if roc_auc > roc_auc_best_list_dtcl[1]:\n",
    "                    roc_auc_best_list_dtcl = [f1,roc_auc,accuracy,\n",
    "                                              recall,precission,md,spl,leaf]\n",
    "#                     roc_auc_best +=1\n",
    "#                     param.loc[id,['roc_auc_best']]=roc_auc_best\n",
    "#                 id +=1\n",
    "                    \n",
    "    return f1_best_list_dtcl, roc_auc_best_list_dtcl"
   ]
  },
  {
   "cell_type": "markdown",
   "metadata": {},
   "source": [
    "Определим лучшие параметры"
   ]
  },
  {
   "cell_type": "code",
   "execution_count": 56,
   "metadata": {},
   "outputs": [
    {
     "name": "stderr",
     "output_type": "stream",
     "text": [
      "100%|██████████| 10/10 [01:06<00:00,  6.70s/it]\n"
     ]
    }
   ],
   "source": [
    "f1_best_list_dtcl, roc_auc_best_list_dtcl = dtcl_search(\n",
    "                                features_train,target_train,\n",
    "                                features_valid,target_valid)"
   ]
  },
  {
   "cell_type": "code",
   "execution_count": 57,
   "metadata": {},
   "outputs": [
    {
     "data": {
      "text/html": [
       "<div>\n",
       "<style scoped>\n",
       "    .dataframe tbody tr th:only-of-type {\n",
       "        vertical-align: middle;\n",
       "    }\n",
       "\n",
       "    .dataframe tbody tr th {\n",
       "        vertical-align: top;\n",
       "    }\n",
       "\n",
       "    .dataframe thead th {\n",
       "        text-align: right;\n",
       "    }\n",
       "</style>\n",
       "<table border=\"1\" class=\"dataframe\">\n",
       "  <thead>\n",
       "    <tr style=\"text-align: right;\">\n",
       "      <th></th>\n",
       "      <th>logr_f1</th>\n",
       "      <th>logr_roc_auc</th>\n",
       "      <th>dtcl_f1</th>\n",
       "      <th>dtcl_roc_auc</th>\n",
       "    </tr>\n",
       "  </thead>\n",
       "  <tbody>\n",
       "    <tr>\n",
       "      <th>f1</th>\n",
       "      <td>0.301318</td>\n",
       "      <td>0.293893</td>\n",
       "      <td>0.568047</td>\n",
       "      <td>0.551724</td>\n",
       "    </tr>\n",
       "    <tr>\n",
       "      <th>roc_auc</th>\n",
       "      <td>0.770045</td>\n",
       "      <td>0.770408</td>\n",
       "      <td>0.797586</td>\n",
       "      <td>0.814983</td>\n",
       "    </tr>\n",
       "    <tr>\n",
       "      <th>accuracy</th>\n",
       "      <td>0.814500</td>\n",
       "      <td>0.815000</td>\n",
       "      <td>0.854000</td>\n",
       "      <td>0.850500</td>\n",
       "    </tr>\n",
       "    <tr>\n",
       "      <th>recall</th>\n",
       "      <td>0.204604</td>\n",
       "      <td>0.196931</td>\n",
       "      <td>0.491049</td>\n",
       "      <td>0.470588</td>\n",
       "    </tr>\n",
       "    <tr>\n",
       "      <th>precission</th>\n",
       "      <td>0.571429</td>\n",
       "      <td>0.578947</td>\n",
       "      <td>0.673684</td>\n",
       "      <td>0.666667</td>\n",
       "    </tr>\n",
       "    <tr>\n",
       "      <th>C</th>\n",
       "      <td>1.000000</td>\n",
       "      <td>0.100000</td>\n",
       "      <td>NaN</td>\n",
       "      <td>NaN</td>\n",
       "    </tr>\n",
       "    <tr>\n",
       "      <th>max_iter</th>\n",
       "      <td>100.000000</td>\n",
       "      <td>100.000000</td>\n",
       "      <td>NaN</td>\n",
       "      <td>NaN</td>\n",
       "    </tr>\n",
       "    <tr>\n",
       "      <th>max_depth</th>\n",
       "      <td>NaN</td>\n",
       "      <td>NaN</td>\n",
       "      <td>12.000000</td>\n",
       "      <td>10.000000</td>\n",
       "    </tr>\n",
       "    <tr>\n",
       "      <th>min_samples_split</th>\n",
       "      <td>NaN</td>\n",
       "      <td>NaN</td>\n",
       "      <td>2.000000</td>\n",
       "      <td>36.000000</td>\n",
       "    </tr>\n",
       "    <tr>\n",
       "      <th>min_samples_leaf</th>\n",
       "      <td>NaN</td>\n",
       "      <td>NaN</td>\n",
       "      <td>15.000000</td>\n",
       "      <td>17.000000</td>\n",
       "    </tr>\n",
       "  </tbody>\n",
       "</table>\n",
       "</div>"
      ],
      "text/plain": [
       "                      logr_f1  logr_roc_auc    dtcl_f1  dtcl_roc_auc\n",
       "f1                   0.301318      0.293893   0.568047      0.551724\n",
       "roc_auc              0.770045      0.770408   0.797586      0.814983\n",
       "accuracy             0.814500      0.815000   0.854000      0.850500\n",
       "recall               0.204604      0.196931   0.491049      0.470588\n",
       "precission           0.571429      0.578947   0.673684      0.666667\n",
       "C                    1.000000      0.100000        NaN           NaN\n",
       "max_iter           100.000000    100.000000        NaN           NaN\n",
       "max_depth                 NaN           NaN  12.000000     10.000000\n",
       "min_samples_split         NaN           NaN   2.000000     36.000000\n",
       "min_samples_leaf          NaN           NaN  15.000000     17.000000"
      ]
     },
     "execution_count": 57,
     "metadata": {},
     "output_type": "execute_result"
    }
   ],
   "source": [
    "# посмотрим итоговые метрики\n",
    "result.loc['dtcl_f1',\n",
    "           ['f1','roc_auc','accuracy','recall','precission',\n",
    "      'max_depth','min_samples_split','min_samples_leaf']] = f1_best_list_dtcl\n",
    "result.loc['dtcl_roc_auc',\n",
    "           ['f1','roc_auc','accuracy','recall','precission',\n",
    "'max_depth','min_samples_split','min_samples_leaf']]= roc_auc_best_list_dtcl\n",
    "result.transpose()"
   ]
  },
  {
   "cell_type": "markdown",
   "metadata": {},
   "source": [
    "При лучшем roc_auc метрика f1 немного меньше своего максимума. Также метрика не дотягивает до требуемого порога 0.59\n",
    "\n",
    "Обучим модель на лучших параметрах и сохраним данные для roc_curve."
   ]
  },
  {
   "cell_type": "code",
   "execution_count": 58,
   "metadata": {},
   "outputs": [],
   "source": [
    "dtcl_best = DecisionTreeClassifier(random_state=12345, max_depth=10,\n",
    "                                   min_samples_split=30, min_samples_leaf=13)"
   ]
  },
  {
   "cell_type": "code",
   "execution_count": 59,
   "metadata": {
    "scrolled": true
   },
   "outputs": [],
   "source": [
    "dtcl_best_fited = best_model(dtcl_best,features_train,target_train,\n",
    "                             features_valid,target_valid,prnt=False)"
   ]
  },
  {
   "cell_type": "code",
   "execution_count": 60,
   "metadata": {},
   "outputs": [],
   "source": [
    "# сохраним данные для roc_curve\n",
    "fpr_dtcl_best, tpr_dtcl_best, threshholds_dtcl_best = roc_curve_data(\n",
    "                                                    dtcl_best_fited,target_valid)"
   ]
  },
  {
   "cell_type": "markdown",
   "metadata": {},
   "source": [
    "### Случайный лес. Поиск ГП"
   ]
  },
  {
   "cell_type": "code",
   "execution_count": 61,
   "metadata": {},
   "outputs": [],
   "source": [
    "# Определим списки значений гиперпараметров, которые будут использоваться в поиске\n",
    "n_estimators_list = [int(x) for x in range(30, 100, 10)]\n",
    "max_depth_list = [int(x) for x in range(10, 30, 4)]\n",
    "min_samples_split_list = [int(x) for x in range(2,30,4)]\n",
    "min_samples_leaf_list =  [int(x) for x in range(1,20,4)]"
   ]
  },
  {
   "cell_type": "markdown",
   "metadata": {},
   "source": [
    "Определим лучшие гиперпараметры"
   ]
  },
  {
   "cell_type": "code",
   "execution_count": 62,
   "metadata": {},
   "outputs": [],
   "source": [
    "# функция для поиска ГП на случайном лесе\n",
    "def rfcl_search(features_train,target_train,\n",
    "                features_valid,target_valid,\n",
    "                class_weight=None):\n",
    "    f1_best_list_rfcl = [0,0,0,0,0,0,0,0,0] # список значений при лучшем f1\n",
    "                             # f1_best_list[0] - f1\n",
    "                             # f1_best_list[1] - roc_auc\n",
    "                             # f1_best_list[2] - accuracy\n",
    "                             # f1_best_list[3] - recall\n",
    "                             # f1_best_list[4] - precission\n",
    "                             # f1_best_list[5] - гиперпараметр max_depth\n",
    "                             # f1_best_list[6] - гиперпараметр min_samples_split\n",
    "                             # f1_best_list[7] - гиперпараметр min_samples_leaf\n",
    "                             # f1_best_list[8] - гиперпараметр n_estimators\n",
    "    roc_auc_best_list_rfcl = [0,0,0,0,0,0,0,0,0] # список значений при лучшем roc_auc\n",
    "    for est in tqdm.tqdm(n_estimators_list):\n",
    "        for md in max_depth_list:\n",
    "            for spl in min_samples_split_list:\n",
    "                for leaf in min_samples_leaf_list:\n",
    "                    model_rfcl = RandomForestClassifier(\n",
    "                                            random_state=12345,\n",
    "                                            n_estimators=est,n_jobs=-1,\n",
    "                                            max_depth=md,\n",
    "                                            min_samples_split=spl,\n",
    "                                            min_samples_leaf=leaf,\n",
    "                                            class_weight=class_weight)\n",
    "                    model,f1,roc_auc,accuracy,recall,precission = model_out(\n",
    "                                            model_rfcl,\n",
    "                                            features_train,target_train,\n",
    "                                            features_valid,target_valid)\n",
    "                    if f1 > f1_best_list_rfcl[0]:\n",
    "                        f1_best_list_rfcl = [f1,roc_auc,accuracy,\n",
    "                                             recall,precission,md,spl,leaf,est]\n",
    "                    if roc_auc > roc_auc_best_list_rfcl[1]:\n",
    "                        roc_auc_best_list_rfcl = [f1,roc_auc,accuracy,\n",
    "                                                  recall,precission,md,spl,leaf,est]\n",
    "\n",
    "    return f1_best_list_rfcl, roc_auc_best_list_rfcl"
   ]
  },
  {
   "cell_type": "markdown",
   "metadata": {},
   "source": [
    "Время поиска на моем компьютере составило около 5 минут"
   ]
  },
  {
   "cell_type": "code",
   "execution_count": 63,
   "metadata": {},
   "outputs": [
    {
     "name": "stderr",
     "output_type": "stream",
     "text": [
      "100%|██████████| 7/7 [08:41<00:00, 74.47s/it]\n"
     ]
    }
   ],
   "source": [
    "f1_best_list_rfcl, roc_auc_best_list_rfcl = rfcl_search(\n",
    "                                features_train,target_train,\n",
    "                                features_valid,target_valid)"
   ]
  },
  {
   "cell_type": "code",
   "execution_count": 64,
   "metadata": {},
   "outputs": [
    {
     "data": {
      "text/html": [
       "<div>\n",
       "<style scoped>\n",
       "    .dataframe tbody tr th:only-of-type {\n",
       "        vertical-align: middle;\n",
       "    }\n",
       "\n",
       "    .dataframe tbody tr th {\n",
       "        vertical-align: top;\n",
       "    }\n",
       "\n",
       "    .dataframe thead th {\n",
       "        text-align: right;\n",
       "    }\n",
       "</style>\n",
       "<table border=\"1\" class=\"dataframe\">\n",
       "  <thead>\n",
       "    <tr style=\"text-align: right;\">\n",
       "      <th></th>\n",
       "      <th>logr_f1</th>\n",
       "      <th>logr_roc_auc</th>\n",
       "      <th>dtcl_f1</th>\n",
       "      <th>dtcl_roc_auc</th>\n",
       "      <th>rfcl_f1</th>\n",
       "      <th>rfcl_roc_auc</th>\n",
       "    </tr>\n",
       "  </thead>\n",
       "  <tbody>\n",
       "    <tr>\n",
       "      <th>f1</th>\n",
       "      <td>0.301318</td>\n",
       "      <td>0.293893</td>\n",
       "      <td>0.568047</td>\n",
       "      <td>0.551724</td>\n",
       "      <td>0.579805</td>\n",
       "      <td>0.560656</td>\n",
       "    </tr>\n",
       "    <tr>\n",
       "      <th>roc_auc</th>\n",
       "      <td>0.770045</td>\n",
       "      <td>0.770408</td>\n",
       "      <td>0.797586</td>\n",
       "      <td>0.814983</td>\n",
       "      <td>0.853551</td>\n",
       "      <td>0.859074</td>\n",
       "    </tr>\n",
       "    <tr>\n",
       "      <th>accuracy</th>\n",
       "      <td>0.814500</td>\n",
       "      <td>0.815000</td>\n",
       "      <td>0.854000</td>\n",
       "      <td>0.850500</td>\n",
       "      <td>0.871000</td>\n",
       "      <td>0.866000</td>\n",
       "    </tr>\n",
       "    <tr>\n",
       "      <th>recall</th>\n",
       "      <td>0.204604</td>\n",
       "      <td>0.196931</td>\n",
       "      <td>0.491049</td>\n",
       "      <td>0.470588</td>\n",
       "      <td>0.455243</td>\n",
       "      <td>0.437340</td>\n",
       "    </tr>\n",
       "    <tr>\n",
       "      <th>precission</th>\n",
       "      <td>0.571429</td>\n",
       "      <td>0.578947</td>\n",
       "      <td>0.673684</td>\n",
       "      <td>0.666667</td>\n",
       "      <td>0.798206</td>\n",
       "      <td>0.780822</td>\n",
       "    </tr>\n",
       "    <tr>\n",
       "      <th>C</th>\n",
       "      <td>1.000000</td>\n",
       "      <td>0.100000</td>\n",
       "      <td>NaN</td>\n",
       "      <td>NaN</td>\n",
       "      <td>NaN</td>\n",
       "      <td>NaN</td>\n",
       "    </tr>\n",
       "    <tr>\n",
       "      <th>max_iter</th>\n",
       "      <td>100.000000</td>\n",
       "      <td>100.000000</td>\n",
       "      <td>NaN</td>\n",
       "      <td>NaN</td>\n",
       "      <td>NaN</td>\n",
       "      <td>NaN</td>\n",
       "    </tr>\n",
       "    <tr>\n",
       "      <th>max_depth</th>\n",
       "      <td>NaN</td>\n",
       "      <td>NaN</td>\n",
       "      <td>12.000000</td>\n",
       "      <td>10.000000</td>\n",
       "      <td>14.000000</td>\n",
       "      <td>14.000000</td>\n",
       "    </tr>\n",
       "    <tr>\n",
       "      <th>min_samples_split</th>\n",
       "      <td>NaN</td>\n",
       "      <td>NaN</td>\n",
       "      <td>2.000000</td>\n",
       "      <td>36.000000</td>\n",
       "      <td>2.000000</td>\n",
       "      <td>22.000000</td>\n",
       "    </tr>\n",
       "    <tr>\n",
       "      <th>min_samples_leaf</th>\n",
       "      <td>NaN</td>\n",
       "      <td>NaN</td>\n",
       "      <td>15.000000</td>\n",
       "      <td>17.000000</td>\n",
       "      <td>5.000000</td>\n",
       "      <td>9.000000</td>\n",
       "    </tr>\n",
       "    <tr>\n",
       "      <th>n_estimators</th>\n",
       "      <td>NaN</td>\n",
       "      <td>NaN</td>\n",
       "      <td>NaN</td>\n",
       "      <td>NaN</td>\n",
       "      <td>50.000000</td>\n",
       "      <td>40.000000</td>\n",
       "    </tr>\n",
       "  </tbody>\n",
       "</table>\n",
       "</div>"
      ],
      "text/plain": [
       "                      logr_f1  logr_roc_auc    dtcl_f1  dtcl_roc_auc  \\\n",
       "f1                   0.301318      0.293893   0.568047      0.551724   \n",
       "roc_auc              0.770045      0.770408   0.797586      0.814983   \n",
       "accuracy             0.814500      0.815000   0.854000      0.850500   \n",
       "recall               0.204604      0.196931   0.491049      0.470588   \n",
       "precission           0.571429      0.578947   0.673684      0.666667   \n",
       "C                    1.000000      0.100000        NaN           NaN   \n",
       "max_iter           100.000000    100.000000        NaN           NaN   \n",
       "max_depth                 NaN           NaN  12.000000     10.000000   \n",
       "min_samples_split         NaN           NaN   2.000000     36.000000   \n",
       "min_samples_leaf          NaN           NaN  15.000000     17.000000   \n",
       "n_estimators              NaN           NaN        NaN           NaN   \n",
       "\n",
       "                     rfcl_f1  rfcl_roc_auc  \n",
       "f1                  0.579805      0.560656  \n",
       "roc_auc             0.853551      0.859074  \n",
       "accuracy            0.871000      0.866000  \n",
       "recall              0.455243      0.437340  \n",
       "precission          0.798206      0.780822  \n",
       "C                        NaN           NaN  \n",
       "max_iter                 NaN           NaN  \n",
       "max_depth          14.000000     14.000000  \n",
       "min_samples_split   2.000000     22.000000  \n",
       "min_samples_leaf    5.000000      9.000000  \n",
       "n_estimators       50.000000     40.000000  "
      ]
     },
     "execution_count": 64,
     "metadata": {},
     "output_type": "execute_result"
    }
   ],
   "source": [
    "# посмотрим итоговые метрики\n",
    "result.loc['rfcl_f1',\n",
    "           ['f1','roc_auc','accuracy','recall','precission',\n",
    "            'max_depth','min_samples_split',\n",
    "            'min_samples_leaf','n_estimators']] = f1_best_list_rfcl\n",
    "result.loc['rfcl_roc_auc',\n",
    "           ['f1','roc_auc','accuracy','recall','precission',\n",
    "            'max_depth','min_samples_split',\n",
    "            'min_samples_leaf','n_estimators']]= roc_auc_best_list_rfcl\n",
    "result.transpose()"
   ]
  },
  {
   "cell_type": "markdown",
   "metadata": {},
   "source": [
    "Метрика f1 для случайного леса оказалась ниже требуемого по задаче значения. Но выше других моделей. Метрика roc_auc заметно выше, чем в других моделях"
   ]
  },
  {
   "cell_type": "markdown",
   "metadata": {},
   "source": [
    "Обучим модель на лучших параметрах и сохраним данные для roc_curve."
   ]
  },
  {
   "cell_type": "code",
   "execution_count": 65,
   "metadata": {},
   "outputs": [],
   "source": [
    "rfcl_best = RandomForestClassifier( random_state=12345,\n",
    "                                    n_estimators=50,n_jobs=-1,\n",
    "                                    max_depth=14,\n",
    "                                    min_samples_split=2,\n",
    "                                    min_samples_leaf=5)"
   ]
  },
  {
   "cell_type": "code",
   "execution_count": 66,
   "metadata": {},
   "outputs": [],
   "source": [
    "rfcl_best_fited = best_model(rfcl_best,features_train,target_train,\n",
    "                             features_valid,target_valid,prnt=False)"
   ]
  },
  {
   "cell_type": "code",
   "execution_count": 67,
   "metadata": {},
   "outputs": [],
   "source": [
    "# сохраним данные для roc_curve\n",
    "fpr_rfcl_best, tpr_rfcl_best, threshholds_rfcl_best = roc_curve_data(\n",
    "                                                    rfcl_best_fited,target_valid)"
   ]
  },
  {
   "cell_type": "markdown",
   "metadata": {},
   "source": [
    "Построим график ROC для трех моделей"
   ]
  },
  {
   "cell_type": "code",
   "execution_count": 68,
   "metadata": {},
   "outputs": [
    {
     "data": {
      "image/png": "[encoded data removed]",
      "text/plain": [
       "<Figure size 432x288 with 1 Axes>"
      ]
     },
     "metadata": {
      "needs_background": "light"
     },
     "output_type": "display_data"
    }
   ],
   "source": [
    "plot_roc_curve(fpr_logr_best,tpr_logr_best,'LogRegression')\n",
    "plot_roc_curve(fpr_dtcl_best,tpr_dtcl_best,'DecisionTree')\n",
    "plot_roc_curve(fpr_rfcl_best,tpr_rfcl_best,'RandomForest')\n",
    "plt.legend(loc='lower right')\n",
    "plt.title('ROC curve')\n",
    "plt.show()"
   ]
  },
  {
   "cell_type": "markdown",
   "metadata": {},
   "source": [
    "Видим, что обобщающая способность случайного леса, выраженная метрикой auc_roc выше, чем у других моделей."
   ]
  },
  {
   "cell_type": "markdown",
   "metadata": {},
   "source": [
    "## Борьба с дисбалансом"
   ]
  },
  {
   "cell_type": "code",
   "execution_count": 69,
   "metadata": {},
   "outputs": [
    {
     "data": {
      "text/plain": [
       "0    0.7963\n",
       "1    0.2037\n",
       "Name: exited, dtype: float64"
      ]
     },
     "execution_count": 69,
     "metadata": {},
     "output_type": "execute_result"
    }
   ],
   "source": [
    "data['exited'].value_counts(normalize=True)"
   ]
  },
  {
   "cell_type": "markdown",
   "metadata": {},
   "source": [
    "Соотношение классов [1] и [0] в exited равно 1:4."
   ]
  },
  {
   "cell_type": "markdown",
   "metadata": {},
   "source": [
    "### Применим class_weight='balanced'"
   ]
  },
  {
   "cell_type": "markdown",
   "metadata": {},
   "source": [
    "Применим class_weight='balanced' в исследуемых моделях. Найдем гиперпараметры для моделей."
   ]
  },
  {
   "cell_type": "markdown",
   "metadata": {},
   "source": [
    "#### Логистическая регрессия поиск ГП."
   ]
  },
  {
   "cell_type": "code",
   "execution_count": 70,
   "metadata": {},
   "outputs": [
    {
     "name": "stderr",
     "output_type": "stream",
     "text": [
      "100%|██████████| 4/4 [00:20<00:00,  5.15s/it]\n"
     ]
    }
   ],
   "source": [
    "f1_best_list_logr_bal, roc_auc_best_list_logr_bal = logr_search(\n",
    "                                              features_train,target_train,\n",
    "                                              features_valid,target_valid,\n",
    "                                              class_weight='balanced')"
   ]
  },
  {
   "cell_type": "code",
   "execution_count": 73,
   "metadata": {},
   "outputs": [],
   "source": [
    "result_bal = pd.DataFrame(columns=[\n",
    "    'f1','roc_auc','accuracy','recall','precission','C','max_iter'])"
   ]
  },
  {
   "cell_type": "code",
   "execution_count": 74,
   "metadata": {},
   "outputs": [
    {
     "data": {
      "text/html": [
       "<div>\n",
       "<style scoped>\n",
       "    .dataframe tbody tr th:only-of-type {\n",
       "        vertical-align: middle;\n",
       "    }\n",
       "\n",
       "    .dataframe tbody tr th {\n",
       "        vertical-align: top;\n",
       "    }\n",
       "\n",
       "    .dataframe thead th {\n",
       "        text-align: right;\n",
       "    }\n",
       "</style>\n",
       "<table border=\"1\" class=\"dataframe\">\n",
       "  <thead>\n",
       "    <tr style=\"text-align: right;\">\n",
       "      <th></th>\n",
       "      <th>f1</th>\n",
       "      <th>roc_auc</th>\n",
       "      <th>accuracy</th>\n",
       "      <th>recall</th>\n",
       "      <th>precission</th>\n",
       "      <th>C</th>\n",
       "      <th>max_iter</th>\n",
       "    </tr>\n",
       "  </thead>\n",
       "  <tbody>\n",
       "    <tr>\n",
       "      <th>logr_f1</th>\n",
       "      <td>0.476360</td>\n",
       "      <td>0.772283</td>\n",
       "      <td>0.7065</td>\n",
       "      <td>0.682864</td>\n",
       "      <td>0.365753</td>\n",
       "      <td>0.1</td>\n",
       "      <td>100.0</td>\n",
       "    </tr>\n",
       "    <tr>\n",
       "      <th>logr_roc_auc</th>\n",
       "      <td>0.475936</td>\n",
       "      <td>0.772299</td>\n",
       "      <td>0.7060</td>\n",
       "      <td>0.682864</td>\n",
       "      <td>0.365253</td>\n",
       "      <td>1.0</td>\n",
       "      <td>100.0</td>\n",
       "    </tr>\n",
       "  </tbody>\n",
       "</table>\n",
       "</div>"
      ],
      "text/plain": [
       "                    f1   roc_auc  accuracy    recall  precission    C  \\\n",
       "logr_f1       0.476360  0.772283    0.7065  0.682864    0.365753  0.1   \n",
       "logr_roc_auc  0.475936  0.772299    0.7060  0.682864    0.365253  1.0   \n",
       "\n",
       "              max_iter  \n",
       "logr_f1          100.0  \n",
       "logr_roc_auc     100.0  "
      ]
     },
     "execution_count": 74,
     "metadata": {},
     "output_type": "execute_result"
    }
   ],
   "source": [
    "result_bal.loc['logr_f1']=f1_best_list_logr_bal\n",
    "result_bal.loc['logr_roc_auc'] = roc_auc_best_list_logr_bal\n",
    "result_bal"
   ]
  },
  {
   "cell_type": "markdown",
   "metadata": {},
   "source": [
    "F1 для лог регрессии с применением class_weight='balanced' увеличилось, но не достигло требуемого уровня"
   ]
  },
  {
   "cell_type": "markdown",
   "metadata": {},
   "source": [
    "#### Дерево решений, поиск ГП."
   ]
  },
  {
   "cell_type": "code",
   "execution_count": 75,
   "metadata": {},
   "outputs": [
    {
     "name": "stderr",
     "output_type": "stream",
     "text": [
      "100%|██████████| 5/5 [00:06<00:00,  1.28s/it]\n"
     ]
    }
   ],
   "source": [
    "f1_best_list_dtcl_bal, roc_auc_best_list_dtcl_bal = dtcl_search(\n",
    "                                              features_train,target_train,\n",
    "                                              features_valid,target_valid,\n",
    "                                              class_weight='balanced')"
   ]
  },
  {
   "cell_type": "code",
   "execution_count": 76,
   "metadata": {},
   "outputs": [
    {
     "data": {
      "text/html": [
       "<div>\n",
       "<style scoped>\n",
       "    .dataframe tbody tr th:only-of-type {\n",
       "        vertical-align: middle;\n",
       "    }\n",
       "\n",
       "    .dataframe tbody tr th {\n",
       "        vertical-align: top;\n",
       "    }\n",
       "\n",
       "    .dataframe thead th {\n",
       "        text-align: right;\n",
       "    }\n",
       "</style>\n",
       "<table border=\"1\" class=\"dataframe\">\n",
       "  <thead>\n",
       "    <tr style=\"text-align: right;\">\n",
       "      <th></th>\n",
       "      <th>logr_f1</th>\n",
       "      <th>logr_roc_auc</th>\n",
       "      <th>dtcl_f1</th>\n",
       "      <th>dtcl_roc_auc</th>\n",
       "    </tr>\n",
       "  </thead>\n",
       "  <tbody>\n",
       "    <tr>\n",
       "      <th>f1</th>\n",
       "      <td>0.476360</td>\n",
       "      <td>0.475936</td>\n",
       "      <td>0.511041</td>\n",
       "      <td>0.503650</td>\n",
       "    </tr>\n",
       "    <tr>\n",
       "      <th>roc_auc</th>\n",
       "      <td>0.772283</td>\n",
       "      <td>0.772299</td>\n",
       "      <td>0.750712</td>\n",
       "      <td>0.801296</td>\n",
       "    </tr>\n",
       "    <tr>\n",
       "      <th>accuracy</th>\n",
       "      <td>0.706500</td>\n",
       "      <td>0.706000</td>\n",
       "      <td>0.767500</td>\n",
       "      <td>0.728000</td>\n",
       "    </tr>\n",
       "    <tr>\n",
       "      <th>recall</th>\n",
       "      <td>0.682864</td>\n",
       "      <td>0.682864</td>\n",
       "      <td>0.621483</td>\n",
       "      <td>0.705882</td>\n",
       "    </tr>\n",
       "    <tr>\n",
       "      <th>precission</th>\n",
       "      <td>0.365753</td>\n",
       "      <td>0.365253</td>\n",
       "      <td>0.433929</td>\n",
       "      <td>0.391489</td>\n",
       "    </tr>\n",
       "    <tr>\n",
       "      <th>C</th>\n",
       "      <td>0.100000</td>\n",
       "      <td>1.000000</td>\n",
       "      <td>NaN</td>\n",
       "      <td>NaN</td>\n",
       "    </tr>\n",
       "    <tr>\n",
       "      <th>max_iter</th>\n",
       "      <td>100.000000</td>\n",
       "      <td>100.000000</td>\n",
       "      <td>NaN</td>\n",
       "      <td>NaN</td>\n",
       "    </tr>\n",
       "    <tr>\n",
       "      <th>max_depth</th>\n",
       "      <td>NaN</td>\n",
       "      <td>NaN</td>\n",
       "      <td>14.000000</td>\n",
       "      <td>10.000000</td>\n",
       "    </tr>\n",
       "    <tr>\n",
       "      <th>min_samples_split</th>\n",
       "      <td>NaN</td>\n",
       "      <td>NaN</td>\n",
       "      <td>2.000000</td>\n",
       "      <td>2.000000</td>\n",
       "    </tr>\n",
       "    <tr>\n",
       "      <th>min_samples_leaf</th>\n",
       "      <td>NaN</td>\n",
       "      <td>NaN</td>\n",
       "      <td>5.000000</td>\n",
       "      <td>17.000000</td>\n",
       "    </tr>\n",
       "  </tbody>\n",
       "</table>\n",
       "</div>"
      ],
      "text/plain": [
       "                      logr_f1  logr_roc_auc    dtcl_f1  dtcl_roc_auc\n",
       "f1                   0.476360      0.475936   0.511041      0.503650\n",
       "roc_auc              0.772283      0.772299   0.750712      0.801296\n",
       "accuracy             0.706500      0.706000   0.767500      0.728000\n",
       "recall               0.682864      0.682864   0.621483      0.705882\n",
       "precission           0.365753      0.365253   0.433929      0.391489\n",
       "C                    0.100000      1.000000        NaN           NaN\n",
       "max_iter           100.000000    100.000000        NaN           NaN\n",
       "max_depth                 NaN           NaN  14.000000     10.000000\n",
       "min_samples_split         NaN           NaN   2.000000      2.000000\n",
       "min_samples_leaf          NaN           NaN   5.000000     17.000000"
      ]
     },
     "execution_count": 76,
     "metadata": {},
     "output_type": "execute_result"
    }
   ],
   "source": [
    "# посмотрим итоговые метрики\n",
    "result_bal.loc['dtcl_f1',\n",
    "           ['f1','roc_auc','accuracy','recall','precission',\n",
    "      'max_depth','min_samples_split','min_samples_leaf']] = f1_best_list_dtcl_bal\n",
    "result_bal.loc['dtcl_roc_auc',\n",
    "           ['f1','roc_auc','accuracy','recall','precission',\n",
    "'max_depth','min_samples_split','min_samples_leaf']]= roc_auc_best_list_dtcl_bal\n",
    "result_bal.transpose()"
   ]
  },
  {
   "cell_type": "markdown",
   "metadata": {},
   "source": [
    "Значение F1 для дерева решений с применением class_weight='balanced' даже немного снизилось"
   ]
  },
  {
   "cell_type": "markdown",
   "metadata": {},
   "source": [
    "#### Случайный лес, поиск ГП."
   ]
  },
  {
   "cell_type": "code",
   "execution_count": 77,
   "metadata": {},
   "outputs": [
    {
     "name": "stderr",
     "output_type": "stream",
     "text": [
      "100%|██████████| 7/7 [08:50<00:00, 75.79s/it]\n"
     ]
    }
   ],
   "source": [
    "f1_best_list_rfcl_bal, roc_auc_best_list_rfcl_bal = rfcl_search(\n",
    "                                              features_train,target_train,\n",
    "                                              features_valid,target_valid,\n",
    "                                              class_weight='balanced')"
   ]
  },
  {
   "cell_type": "code",
   "execution_count": 78,
   "metadata": {},
   "outputs": [
    {
     "data": {
      "text/html": [
       "<div>\n",
       "<style scoped>\n",
       "    .dataframe tbody tr th:only-of-type {\n",
       "        vertical-align: middle;\n",
       "    }\n",
       "\n",
       "    .dataframe tbody tr th {\n",
       "        vertical-align: top;\n",
       "    }\n",
       "\n",
       "    .dataframe thead th {\n",
       "        text-align: right;\n",
       "    }\n",
       "</style>\n",
       "<table border=\"1\" class=\"dataframe\">\n",
       "  <thead>\n",
       "    <tr style=\"text-align: right;\">\n",
       "      <th></th>\n",
       "      <th>logr_f1</th>\n",
       "      <th>logr_roc_auc</th>\n",
       "      <th>dtcl_f1</th>\n",
       "      <th>dtcl_roc_auc</th>\n",
       "      <th>rfcl_f1</th>\n",
       "      <th>rfcl_roc_auc</th>\n",
       "    </tr>\n",
       "  </thead>\n",
       "  <tbody>\n",
       "    <tr>\n",
       "      <th>f1</th>\n",
       "      <td>0.476360</td>\n",
       "      <td>0.475936</td>\n",
       "      <td>0.511041</td>\n",
       "      <td>0.503650</td>\n",
       "      <td>0.615196</td>\n",
       "      <td>0.590542</td>\n",
       "    </tr>\n",
       "    <tr>\n",
       "      <th>roc_auc</th>\n",
       "      <td>0.772283</td>\n",
       "      <td>0.772299</td>\n",
       "      <td>0.750712</td>\n",
       "      <td>0.801296</td>\n",
       "      <td>0.851877</td>\n",
       "      <td>0.857086</td>\n",
       "    </tr>\n",
       "    <tr>\n",
       "      <th>accuracy</th>\n",
       "      <td>0.706500</td>\n",
       "      <td>0.706000</td>\n",
       "      <td>0.767500</td>\n",
       "      <td>0.728000</td>\n",
       "      <td>0.843000</td>\n",
       "      <td>0.822500</td>\n",
       "    </tr>\n",
       "    <tr>\n",
       "      <th>recall</th>\n",
       "      <td>0.682864</td>\n",
       "      <td>0.682864</td>\n",
       "      <td>0.621483</td>\n",
       "      <td>0.705882</td>\n",
       "      <td>0.641944</td>\n",
       "      <td>0.654731</td>\n",
       "    </tr>\n",
       "    <tr>\n",
       "      <th>precission</th>\n",
       "      <td>0.365753</td>\n",
       "      <td>0.365253</td>\n",
       "      <td>0.433929</td>\n",
       "      <td>0.391489</td>\n",
       "      <td>0.590588</td>\n",
       "      <td>0.537815</td>\n",
       "    </tr>\n",
       "    <tr>\n",
       "      <th>C</th>\n",
       "      <td>0.100000</td>\n",
       "      <td>1.000000</td>\n",
       "      <td>NaN</td>\n",
       "      <td>NaN</td>\n",
       "      <td>NaN</td>\n",
       "      <td>NaN</td>\n",
       "    </tr>\n",
       "    <tr>\n",
       "      <th>max_iter</th>\n",
       "      <td>100.000000</td>\n",
       "      <td>100.000000</td>\n",
       "      <td>NaN</td>\n",
       "      <td>NaN</td>\n",
       "      <td>NaN</td>\n",
       "      <td>NaN</td>\n",
       "    </tr>\n",
       "    <tr>\n",
       "      <th>max_depth</th>\n",
       "      <td>NaN</td>\n",
       "      <td>NaN</td>\n",
       "      <td>14.000000</td>\n",
       "      <td>10.000000</td>\n",
       "      <td>18.000000</td>\n",
       "      <td>10.000000</td>\n",
       "    </tr>\n",
       "    <tr>\n",
       "      <th>min_samples_split</th>\n",
       "      <td>NaN</td>\n",
       "      <td>NaN</td>\n",
       "      <td>2.000000</td>\n",
       "      <td>2.000000</td>\n",
       "      <td>14.000000</td>\n",
       "      <td>2.000000</td>\n",
       "    </tr>\n",
       "    <tr>\n",
       "      <th>min_samples_leaf</th>\n",
       "      <td>NaN</td>\n",
       "      <td>NaN</td>\n",
       "      <td>5.000000</td>\n",
       "      <td>17.000000</td>\n",
       "      <td>5.000000</td>\n",
       "      <td>9.000000</td>\n",
       "    </tr>\n",
       "    <tr>\n",
       "      <th>n_estimators</th>\n",
       "      <td>NaN</td>\n",
       "      <td>NaN</td>\n",
       "      <td>NaN</td>\n",
       "      <td>NaN</td>\n",
       "      <td>70.000000</td>\n",
       "      <td>50.000000</td>\n",
       "    </tr>\n",
       "  </tbody>\n",
       "</table>\n",
       "</div>"
      ],
      "text/plain": [
       "                      logr_f1  logr_roc_auc    dtcl_f1  dtcl_roc_auc  \\\n",
       "f1                   0.476360      0.475936   0.511041      0.503650   \n",
       "roc_auc              0.772283      0.772299   0.750712      0.801296   \n",
       "accuracy             0.706500      0.706000   0.767500      0.728000   \n",
       "recall               0.682864      0.682864   0.621483      0.705882   \n",
       "precission           0.365753      0.365253   0.433929      0.391489   \n",
       "C                    0.100000      1.000000        NaN           NaN   \n",
       "max_iter           100.000000    100.000000        NaN           NaN   \n",
       "max_depth                 NaN           NaN  14.000000     10.000000   \n",
       "min_samples_split         NaN           NaN   2.000000      2.000000   \n",
       "min_samples_leaf          NaN           NaN   5.000000     17.000000   \n",
       "n_estimators              NaN           NaN        NaN           NaN   \n",
       "\n",
       "                     rfcl_f1  rfcl_roc_auc  \n",
       "f1                  0.615196      0.590542  \n",
       "roc_auc             0.851877      0.857086  \n",
       "accuracy            0.843000      0.822500  \n",
       "recall              0.641944      0.654731  \n",
       "precission          0.590588      0.537815  \n",
       "C                        NaN           NaN  \n",
       "max_iter                 NaN           NaN  \n",
       "max_depth          18.000000     10.000000  \n",
       "min_samples_split  14.000000      2.000000  \n",
       "min_samples_leaf    5.000000      9.000000  \n",
       "n_estimators       70.000000     50.000000  "
      ]
     },
     "execution_count": 78,
     "metadata": {},
     "output_type": "execute_result"
    }
   ],
   "source": [
    "# посмотрим итоговые метрики\n",
    "result_bal.loc['rfcl_f1',\n",
    "           ['f1','roc_auc','accuracy','recall','precission',\n",
    "            'max_depth','min_samples_split',\n",
    "            'min_samples_leaf','n_estimators']] = f1_best_list_rfcl_bal\n",
    "result_bal.loc['rfcl_roc_auc',\n",
    "           ['f1','roc_auc','accuracy','recall','precission',\n",
    "            'max_depth','min_samples_split',\n",
    "            'min_samples_leaf','n_estimators']]= roc_auc_best_list_rfcl_bal\n",
    "result_bal.transpose()"
   ]
  },
  {
   "cell_type": "markdown",
   "metadata": {},
   "source": [
    "Видим, что при применении гиперпараметра балансировки выборки по целевому полю:\n",
    "- логистическая регрессия значительно увеличила значение метрики f1 при сохранении roc_auc\n",
    "- дерево решений незначительно снизило f1\n",
    "- случайный лес показал лучшую обобщаюю способность на валидационной выборке. Метрика F1 выросла до 0.62, что является приемлемым значением по условиям задачи. Значение ROC_AUC осталось на том же уровне"
   ]
  },
  {
   "cell_type": "markdown",
   "metadata": {},
   "source": [
    "Таким образом для тестирования на исходной выборке (без апсэмплирования) можем выбрать модель случайного леса с гиперпараметрами:\n",
    "\n",
    "\n",
    "n_estimators=70, max_depth=17, min_samples_split=2,\n",
    "min_samples_leaf=5, class_weight='balanced'"
   ]
  },
  {
   "cell_type": "markdown",
   "metadata": {},
   "source": [
    "### Используем метод увеличения выборки (апсэмплирование)"
   ]
  },
  {
   "cell_type": "markdown",
   "metadata": {},
   "source": [
    "Увеличим количество строк с классом [1] во всех выборках в 4 раза"
   ]
  },
  {
   "cell_type": "code",
   "execution_count": 79,
   "metadata": {},
   "outputs": [
    {
     "data": {
      "text/plain": [
       "'Обучающая выборка признаков'"
      ]
     },
     "metadata": {},
     "output_type": "display_data"
    },
    {
     "data": {
      "text/plain": [
       "(9657, 11)"
      ]
     },
     "metadata": {},
     "output_type": "display_data"
    }
   ],
   "source": [
    "from sklearn.utils import shuffle\n",
    "# функция увеличения выборки\n",
    "def upsample(features, target, repeat):\n",
    "    features_zeros = features[target == 0]\n",
    "    features_ones = features[target == 1]\n",
    "    target_zeros = target[target == 0]\n",
    "    target_ones = target[target == 1]\n",
    "\n",
    "    features_upsampled = pd.concat([features_zeros] + [features_ones] * repeat)\n",
    "    target_upsampled = pd.concat([target_zeros] + [target_ones] * repeat)\n",
    "    \n",
    "    features_upsampled, target_upsampled = shuffle(\n",
    "        features_upsampled, target_upsampled, random_state=12345)\n",
    "    \n",
    "    return features_upsampled, target_upsampled\n",
    "\n",
    "features_train_ups, target_train_ups = upsample(features_train, target_train, 4)\n",
    "#features_valid_ups, target_valid_ups = upsample(features_valid, target_valid, 4)\n",
    "#features_test_ups, target_test_ups = upsample(features_test, target_test, 4)\n",
    "display('Обучающая выборка признаков',features_train_ups.shape)\n",
    "#display('Валидационная выборка  признаков',features_valid_ups.shape)\n",
    "#display('Тестовая выборка  признаков',features_test_ups.shape)"
   ]
  },
  {
   "cell_type": "markdown",
   "metadata": {},
   "source": [
    "Изначально сделал неправильный ход- увеличил также валидационную и тестовую выборку. Их ведь надо оставить нетронутыми"
   ]
  },
  {
   "cell_type": "markdown",
   "metadata": {},
   "source": [
    "Обучим модели с найденными выше гиперпараметрами и посмотрим как изменятся метрики."
   ]
  },
  {
   "cell_type": "markdown",
   "metadata": {},
   "source": [
    "#### Логистическая регрессия, поиск ГП"
   ]
  },
  {
   "cell_type": "code",
   "execution_count": 80,
   "metadata": {},
   "outputs": [
    {
     "name": "stderr",
     "output_type": "stream",
     "text": [
      "100%|██████████| 4/4 [00:17<00:00,  4.50s/it]\n"
     ]
    }
   ],
   "source": [
    "f1_best_list_logr_ups, roc_auc_best_list_logr_ups = logr_search(\n",
    "                                              features_train_ups,target_train_ups,\n",
    "                                              features_valid,target_valid)"
   ]
  },
  {
   "cell_type": "code",
   "execution_count": 81,
   "metadata": {},
   "outputs": [],
   "source": [
    "result_ups = pd.DataFrame(columns=[\n",
    "    'f1','roc_auc','accuracy','recall','precission','C','max_iter'])"
   ]
  },
  {
   "cell_type": "code",
   "execution_count": 82,
   "metadata": {},
   "outputs": [
    {
     "data": {
      "text/html": [
       "<div>\n",
       "<style scoped>\n",
       "    .dataframe tbody tr th:only-of-type {\n",
       "        vertical-align: middle;\n",
       "    }\n",
       "\n",
       "    .dataframe tbody tr th {\n",
       "        vertical-align: top;\n",
       "    }\n",
       "\n",
       "    .dataframe thead th {\n",
       "        text-align: right;\n",
       "    }\n",
       "</style>\n",
       "<table border=\"1\" class=\"dataframe\">\n",
       "  <thead>\n",
       "    <tr style=\"text-align: right;\">\n",
       "      <th></th>\n",
       "      <th>f1</th>\n",
       "      <th>roc_auc</th>\n",
       "      <th>accuracy</th>\n",
       "      <th>recall</th>\n",
       "      <th>precission</th>\n",
       "      <th>C</th>\n",
       "      <th>max_iter</th>\n",
       "    </tr>\n",
       "  </thead>\n",
       "  <tbody>\n",
       "    <tr>\n",
       "      <th>logr_f1</th>\n",
       "      <td>0.475856</td>\n",
       "      <td>0.772270</td>\n",
       "      <td>0.7015</td>\n",
       "      <td>0.693095</td>\n",
       "      <td>0.362299</td>\n",
       "      <td>0.1</td>\n",
       "      <td>100.0</td>\n",
       "    </tr>\n",
       "    <tr>\n",
       "      <th>logr_roc_auc</th>\n",
       "      <td>0.474100</td>\n",
       "      <td>0.772291</td>\n",
       "      <td>0.7005</td>\n",
       "      <td>0.690537</td>\n",
       "      <td>0.360963</td>\n",
       "      <td>1.0</td>\n",
       "      <td>100.0</td>\n",
       "    </tr>\n",
       "  </tbody>\n",
       "</table>\n",
       "</div>"
      ],
      "text/plain": [
       "                    f1   roc_auc  accuracy    recall  precission    C  \\\n",
       "logr_f1       0.475856  0.772270    0.7015  0.693095    0.362299  0.1   \n",
       "logr_roc_auc  0.474100  0.772291    0.7005  0.690537    0.360963  1.0   \n",
       "\n",
       "              max_iter  \n",
       "logr_f1          100.0  \n",
       "logr_roc_auc     100.0  "
      ]
     },
     "execution_count": 82,
     "metadata": {},
     "output_type": "execute_result"
    }
   ],
   "source": [
    "result_ups.loc['logr_f1']=f1_best_list_logr_ups\n",
    "result_ups.loc['logr_roc_auc'] = roc_auc_best_list_logr_ups\n",
    "result_ups"
   ]
  },
  {
   "cell_type": "markdown",
   "metadata": {},
   "source": [
    "Параметры те же. Метрика F1 лог.регресси заметно выросла. ROC_AUC не изменилась"
   ]
  },
  {
   "cell_type": "markdown",
   "metadata": {},
   "source": [
    "#### Дерево решений, поиск ГП"
   ]
  },
  {
   "cell_type": "code",
   "execution_count": 83,
   "metadata": {},
   "outputs": [
    {
     "name": "stderr",
     "output_type": "stream",
     "text": [
      "100%|██████████| 5/5 [00:07<00:00,  1.58s/it]\n"
     ]
    }
   ],
   "source": [
    "f1_best_list_dtcl_ups, roc_auc_best_list_dtcl_ups = dtcl_search(\n",
    "                                              features_train_ups,target_train_ups,\n",
    "                                              features_valid,target_valid)"
   ]
  },
  {
   "cell_type": "code",
   "execution_count": 84,
   "metadata": {},
   "outputs": [
    {
     "data": {
      "text/html": [
       "<div>\n",
       "<style scoped>\n",
       "    .dataframe tbody tr th:only-of-type {\n",
       "        vertical-align: middle;\n",
       "    }\n",
       "\n",
       "    .dataframe tbody tr th {\n",
       "        vertical-align: top;\n",
       "    }\n",
       "\n",
       "    .dataframe thead th {\n",
       "        text-align: right;\n",
       "    }\n",
       "</style>\n",
       "<table border=\"1\" class=\"dataframe\">\n",
       "  <thead>\n",
       "    <tr style=\"text-align: right;\">\n",
       "      <th></th>\n",
       "      <th>logr_f1</th>\n",
       "      <th>logr_roc_auc</th>\n",
       "      <th>dtcl_f1</th>\n",
       "      <th>dtcl_roc_auc</th>\n",
       "    </tr>\n",
       "  </thead>\n",
       "  <tbody>\n",
       "    <tr>\n",
       "      <th>f1</th>\n",
       "      <td>0.475856</td>\n",
       "      <td>0.474100</td>\n",
       "      <td>0.516685</td>\n",
       "      <td>0.497332</td>\n",
       "    </tr>\n",
       "    <tr>\n",
       "      <th>roc_auc</th>\n",
       "      <td>0.772270</td>\n",
       "      <td>0.772291</td>\n",
       "      <td>0.760930</td>\n",
       "      <td>0.780001</td>\n",
       "    </tr>\n",
       "    <tr>\n",
       "      <th>accuracy</th>\n",
       "      <td>0.701500</td>\n",
       "      <td>0.700500</td>\n",
       "      <td>0.775500</td>\n",
       "      <td>0.764500</td>\n",
       "    </tr>\n",
       "    <tr>\n",
       "      <th>recall</th>\n",
       "      <td>0.693095</td>\n",
       "      <td>0.690537</td>\n",
       "      <td>0.613811</td>\n",
       "      <td>0.595908</td>\n",
       "    </tr>\n",
       "    <tr>\n",
       "      <th>precission</th>\n",
       "      <td>0.362299</td>\n",
       "      <td>0.360963</td>\n",
       "      <td>0.446097</td>\n",
       "      <td>0.426740</td>\n",
       "    </tr>\n",
       "    <tr>\n",
       "      <th>C</th>\n",
       "      <td>0.100000</td>\n",
       "      <td>1.000000</td>\n",
       "      <td>NaN</td>\n",
       "      <td>NaN</td>\n",
       "    </tr>\n",
       "    <tr>\n",
       "      <th>max_iter</th>\n",
       "      <td>100.000000</td>\n",
       "      <td>100.000000</td>\n",
       "      <td>NaN</td>\n",
       "      <td>NaN</td>\n",
       "    </tr>\n",
       "    <tr>\n",
       "      <th>max_depth</th>\n",
       "      <td>NaN</td>\n",
       "      <td>NaN</td>\n",
       "      <td>14.000000</td>\n",
       "      <td>18.000000</td>\n",
       "    </tr>\n",
       "    <tr>\n",
       "      <th>min_samples_split</th>\n",
       "      <td>NaN</td>\n",
       "      <td>NaN</td>\n",
       "      <td>22.000000</td>\n",
       "      <td>2.000000</td>\n",
       "    </tr>\n",
       "    <tr>\n",
       "      <th>min_samples_leaf</th>\n",
       "      <td>NaN</td>\n",
       "      <td>NaN</td>\n",
       "      <td>9.000000</td>\n",
       "      <td>17.000000</td>\n",
       "    </tr>\n",
       "  </tbody>\n",
       "</table>\n",
       "</div>"
      ],
      "text/plain": [
       "                      logr_f1  logr_roc_auc    dtcl_f1  dtcl_roc_auc\n",
       "f1                   0.475856      0.474100   0.516685      0.497332\n",
       "roc_auc              0.772270      0.772291   0.760930      0.780001\n",
       "accuracy             0.701500      0.700500   0.775500      0.764500\n",
       "recall               0.693095      0.690537   0.613811      0.595908\n",
       "precission           0.362299      0.360963   0.446097      0.426740\n",
       "C                    0.100000      1.000000        NaN           NaN\n",
       "max_iter           100.000000    100.000000        NaN           NaN\n",
       "max_depth                 NaN           NaN  14.000000     18.000000\n",
       "min_samples_split         NaN           NaN  22.000000      2.000000\n",
       "min_samples_leaf          NaN           NaN   9.000000     17.000000"
      ]
     },
     "execution_count": 84,
     "metadata": {},
     "output_type": "execute_result"
    }
   ],
   "source": [
    "# посмотрим итоговые метрики\n",
    "result_ups.loc['dtcl_f1',\n",
    "           ['f1','roc_auc','accuracy','recall','precission',\n",
    "      'max_depth','min_samples_split','min_samples_leaf']] = f1_best_list_dtcl_ups\n",
    "result_ups.loc['dtcl_roc_auc',\n",
    "           ['f1','roc_auc','accuracy','recall','precission',\n",
    "'max_depth','min_samples_split','min_samples_leaf']]= roc_auc_best_list_dtcl_ups\n",
    "result_ups.transpose()"
   ]
  },
  {
   "cell_type": "markdown",
   "metadata": {},
   "source": [
    "Метрика F1 для решающего дерева даже снизилась. ROC_AUC также немного снизилась."
   ]
  },
  {
   "cell_type": "markdown",
   "metadata": {},
   "source": [
    "#### Случайный лес. Поиск ГП."
   ]
  },
  {
   "cell_type": "code",
   "execution_count": 85,
   "metadata": {},
   "outputs": [
    {
     "name": "stderr",
     "output_type": "stream",
     "text": [
      "100%|██████████| 7/7 [12:26<00:00, 106.58s/it]\n"
     ]
    }
   ],
   "source": [
    "f1_best_list_rfcl_ups, roc_auc_best_list_rfcl_ups = rfcl_search(\n",
    "                                              features_train_ups,target_train_ups,\n",
    "                                              features_valid,target_valid)"
   ]
  },
  {
   "cell_type": "code",
   "execution_count": 86,
   "metadata": {},
   "outputs": [
    {
     "data": {
      "text/html": [
       "<div>\n",
       "<style scoped>\n",
       "    .dataframe tbody tr th:only-of-type {\n",
       "        vertical-align: middle;\n",
       "    }\n",
       "\n",
       "    .dataframe tbody tr th {\n",
       "        vertical-align: top;\n",
       "    }\n",
       "\n",
       "    .dataframe thead th {\n",
       "        text-align: right;\n",
       "    }\n",
       "</style>\n",
       "<table border=\"1\" class=\"dataframe\">\n",
       "  <thead>\n",
       "    <tr style=\"text-align: right;\">\n",
       "      <th></th>\n",
       "      <th>logr_f1</th>\n",
       "      <th>logr_roc_auc</th>\n",
       "      <th>dtcl_f1</th>\n",
       "      <th>dtcl_roc_auc</th>\n",
       "      <th>rfcl_f1</th>\n",
       "      <th>rfcl_roc_auc</th>\n",
       "    </tr>\n",
       "  </thead>\n",
       "  <tbody>\n",
       "    <tr>\n",
       "      <th>f1</th>\n",
       "      <td>0.475856</td>\n",
       "      <td>0.474100</td>\n",
       "      <td>0.516685</td>\n",
       "      <td>0.497332</td>\n",
       "      <td>0.604982</td>\n",
       "      <td>0.592920</td>\n",
       "    </tr>\n",
       "    <tr>\n",
       "      <th>roc_auc</th>\n",
       "      <td>0.772270</td>\n",
       "      <td>0.772291</td>\n",
       "      <td>0.760930</td>\n",
       "      <td>0.780001</td>\n",
       "      <td>0.849652</td>\n",
       "      <td>0.856151</td>\n",
       "    </tr>\n",
       "    <tr>\n",
       "      <th>accuracy</th>\n",
       "      <td>0.701500</td>\n",
       "      <td>0.700500</td>\n",
       "      <td>0.775500</td>\n",
       "      <td>0.764500</td>\n",
       "      <td>0.833500</td>\n",
       "      <td>0.816000</td>\n",
       "    </tr>\n",
       "    <tr>\n",
       "      <th>recall</th>\n",
       "      <td>0.693095</td>\n",
       "      <td>0.690537</td>\n",
       "      <td>0.613811</td>\n",
       "      <td>0.595908</td>\n",
       "      <td>0.652174</td>\n",
       "      <td>0.685422</td>\n",
       "    </tr>\n",
       "    <tr>\n",
       "      <th>precission</th>\n",
       "      <td>0.362299</td>\n",
       "      <td>0.360963</td>\n",
       "      <td>0.446097</td>\n",
       "      <td>0.426740</td>\n",
       "      <td>0.564159</td>\n",
       "      <td>0.522417</td>\n",
       "    </tr>\n",
       "    <tr>\n",
       "      <th>C</th>\n",
       "      <td>0.100000</td>\n",
       "      <td>1.000000</td>\n",
       "      <td>NaN</td>\n",
       "      <td>NaN</td>\n",
       "      <td>NaN</td>\n",
       "      <td>NaN</td>\n",
       "    </tr>\n",
       "    <tr>\n",
       "      <th>max_iter</th>\n",
       "      <td>100.000000</td>\n",
       "      <td>100.000000</td>\n",
       "      <td>NaN</td>\n",
       "      <td>NaN</td>\n",
       "      <td>NaN</td>\n",
       "      <td>NaN</td>\n",
       "    </tr>\n",
       "    <tr>\n",
       "      <th>max_depth</th>\n",
       "      <td>NaN</td>\n",
       "      <td>NaN</td>\n",
       "      <td>14.000000</td>\n",
       "      <td>18.000000</td>\n",
       "      <td>18.000000</td>\n",
       "      <td>10.000000</td>\n",
       "    </tr>\n",
       "    <tr>\n",
       "      <th>min_samples_split</th>\n",
       "      <td>NaN</td>\n",
       "      <td>NaN</td>\n",
       "      <td>22.000000</td>\n",
       "      <td>2.000000</td>\n",
       "      <td>2.000000</td>\n",
       "      <td>22.000000</td>\n",
       "    </tr>\n",
       "    <tr>\n",
       "      <th>min_samples_leaf</th>\n",
       "      <td>NaN</td>\n",
       "      <td>NaN</td>\n",
       "      <td>9.000000</td>\n",
       "      <td>17.000000</td>\n",
       "      <td>5.000000</td>\n",
       "      <td>5.000000</td>\n",
       "    </tr>\n",
       "    <tr>\n",
       "      <th>n_estimators</th>\n",
       "      <td>NaN</td>\n",
       "      <td>NaN</td>\n",
       "      <td>NaN</td>\n",
       "      <td>NaN</td>\n",
       "      <td>70.000000</td>\n",
       "      <td>90.000000</td>\n",
       "    </tr>\n",
       "  </tbody>\n",
       "</table>\n",
       "</div>"
      ],
      "text/plain": [
       "                      logr_f1  logr_roc_auc    dtcl_f1  dtcl_roc_auc  \\\n",
       "f1                   0.475856      0.474100   0.516685      0.497332   \n",
       "roc_auc              0.772270      0.772291   0.760930      0.780001   \n",
       "accuracy             0.701500      0.700500   0.775500      0.764500   \n",
       "recall               0.693095      0.690537   0.613811      0.595908   \n",
       "precission           0.362299      0.360963   0.446097      0.426740   \n",
       "C                    0.100000      1.000000        NaN           NaN   \n",
       "max_iter           100.000000    100.000000        NaN           NaN   \n",
       "max_depth                 NaN           NaN  14.000000     18.000000   \n",
       "min_samples_split         NaN           NaN  22.000000      2.000000   \n",
       "min_samples_leaf          NaN           NaN   9.000000     17.000000   \n",
       "n_estimators              NaN           NaN        NaN           NaN   \n",
       "\n",
       "                     rfcl_f1  rfcl_roc_auc  \n",
       "f1                  0.604982      0.592920  \n",
       "roc_auc             0.849652      0.856151  \n",
       "accuracy            0.833500      0.816000  \n",
       "recall              0.652174      0.685422  \n",
       "precission          0.564159      0.522417  \n",
       "C                        NaN           NaN  \n",
       "max_iter                 NaN           NaN  \n",
       "max_depth          18.000000     10.000000  \n",
       "min_samples_split   2.000000     22.000000  \n",
       "min_samples_leaf    5.000000      5.000000  \n",
       "n_estimators       70.000000     90.000000  "
      ]
     },
     "execution_count": 86,
     "metadata": {},
     "output_type": "execute_result"
    }
   ],
   "source": [
    "# посмотрим итоговые метрики\n",
    "result_ups.loc['rfcl_f1',\n",
    "           ['f1','roc_auc','accuracy','recall','precission',\n",
    "            'max_depth','min_samples_split',\n",
    "            'min_samples_leaf','n_estimators']] = f1_best_list_rfcl_ups\n",
    "result_ups.loc['rfcl_roc_auc',\n",
    "           ['f1','roc_auc','accuracy','recall','precission',\n",
    "            'max_depth','min_samples_split',\n",
    "            'min_samples_leaf','n_estimators']]= roc_auc_best_list_rfcl_ups\n",
    "result_ups.transpose()"
   ]
  },
  {
   "cell_type": "markdown",
   "metadata": {},
   "source": [
    "Видим, что значение метрики F1 на апсемплированных выборках заметно выросли у лог. регресси и у случайного леса. Дерево решений снизило значение метрики\n",
    "\n",
    "Максимальная метрика F1 и  ROC_AUC по прежнему у случайного леса.\n",
    "\n",
    "Таким образом на тестовых данных буду использовать модель случайного леса в двух вариантах:\n",
    "- на неувеличенной выборке с гиперпараметрами:  n_estimators=70, max_depth=17, min_samples_split=2, min_samples_leaf=5, class_weight='balanced'\n",
    "- на увеличенной выборке с ГП: n_estimators=70, max_depth=18,                        min_samples_leaf=5, min_samples_split=2"
   ]
  },
  {
   "cell_type": "markdown",
   "metadata": {},
   "source": [
    "## Тестирование модели"
   ]
  },
  {
   "cell_type": "markdown",
   "metadata": {},
   "source": [
    "Не увеличенная выборка"
   ]
  },
  {
   "cell_type": "code",
   "execution_count": 87,
   "metadata": {},
   "outputs": [],
   "source": [
    "# Инициализируем модель \n",
    "rfcl_best_bal = RandomForestClassifier(random_state=12345, n_estimators=70,\n",
    "                                       max_depth=17,min_samples_leaf=5,\n",
    "                                       min_samples_split=2,class_weight='balanced')"
   ]
  },
  {
   "cell_type": "code",
   "execution_count": 88,
   "metadata": {},
   "outputs": [
    {
     "name": "stdout",
     "output_type": "stream",
     "text": [
      "метрика f1 ---------- 0.64309\n",
      "метрика roc_auc ----- 0.8638\n",
      "метрика accuracy ---- 0.8385\n",
      "метрика recall ------ 0.6815\n",
      "метрика precission -- 0.6088\n"
     ]
    }
   ],
   "source": [
    "rfcl_best_fited_bal = best_model(rfcl_best_bal,features_train_ups,target_train_ups,\n",
    "                             features_test,target_test,prnt=True)"
   ]
  },
  {
   "cell_type": "markdown",
   "metadata": {},
   "source": [
    "На тестовой выборке получили требуемое значение F1 > 0.59"
   ]
  },
  {
   "cell_type": "markdown",
   "metadata": {},
   "source": [
    "Увеличенная выборка"
   ]
  },
  {
   "cell_type": "code",
   "execution_count": 89,
   "metadata": {},
   "outputs": [
    {
     "name": "stdout",
     "output_type": "stream",
     "text": [
      "метрика f1 ---------- 0.6247\n",
      "метрика roc_auc ----- 0.8566\n",
      "метрика accuracy ---- 0.845\n",
      "метрика recall ------ 0.6042\n",
      "метрика precission -- 0.6466\n"
     ]
    }
   ],
   "source": [
    "# Случайный лес\n",
    "rfcl_best_ups = RandomForestClassifier(random_state=12345,\n",
    "                                           n_estimators=70, max_depth=18,\n",
    "                                           min_samples_leaf=2,\n",
    "                                           min_samples_split=5)\n",
    "\n",
    "rfcl_best_fited_ups = best_model(rfcl_best_ups,features_train_ups,target_train_ups,\n",
    "                             features_test,target_test,prnt=True)"
   ]
  },
  {
   "cell_type": "markdown",
   "metadata": {},
   "source": [
    "Значние F1 на увеличенной выборке немного меньше, чем с использованием class_weight='balanced'"
   ]
  },
  {
   "cell_type": "markdown",
   "metadata": {},
   "source": [
    "В обоих вариантах балансирования значение F1 на тесте выросло по сравнению с валидацией"
   ]
  },
  {
   "cell_type": "markdown",
   "metadata": {},
   "source": [
    "Общий вывод касательно балансировки классов могу сделать следующий: с точки зрения увеличения метрики F1 методы апсэмплирования и применения гиперпараметра class_weight='balanced' одинаково эффективны. При этом метрика roc_auc после балансировки изменяется незначительно."
   ]
  },
  {
   "cell_type": "markdown",
   "metadata": {},
   "source": [
    "Полученная модель очевидно правильно обнаруживает только 64% из всех фактически ушедших клиентов (доля ложно отрицательных предсказаний, соответственно = 36%)"
   ]
  },
  {
   "cell_type": "code",
   "execution_count": 90,
   "metadata": {},
   "outputs": [
    {
     "name": "stdout",
     "output_type": "stream",
     "text": [
      "F1 для константной модели: 0.3518747424804285\n"
     ]
    }
   ],
   "source": [
    "dummy_model = DummyClassifier(strategy='constant', constant=1)\n",
    "dummy_model.fit(features_train_ups, target_train_ups)\n",
    "f1_const = f1_score(dummy_model.predict(features_test), target_test)\n",
    "print('F1 для константной модели:',f1_const)"
   ]
  },
  {
   "cell_type": "markdown",
   "metadata": {},
   "source": [
    "Проверку модели на адекватность прошли. F1 для константной модели значительно ниже полученного моделью."
   ]
  }
 ],
 "metadata": {
  "ExecuteTimeLog": [
   {
    "duration": 1770,
    "start_time": "2023-02-28T13:31:49.509Z"
   },
   {
    "duration": 148,
    "start_time": "2023-02-28T13:31:51.281Z"
   },
   {
    "duration": 0,
    "start_time": "2023-02-28T13:31:51.433Z"
   },
   {
    "duration": 0,
    "start_time": "2023-02-28T13:31:51.433Z"
   },
   {
    "duration": 0,
    "start_time": "2023-02-28T13:31:51.434Z"
   },
   {
    "duration": 0,
    "start_time": "2023-02-28T13:31:51.435Z"
   },
   {
    "duration": 0,
    "start_time": "2023-02-28T13:31:51.436Z"
   },
   {
    "duration": 0,
    "start_time": "2023-02-28T13:31:51.438Z"
   },
   {
    "duration": 0,
    "start_time": "2023-02-28T13:31:51.439Z"
   },
   {
    "duration": 0,
    "start_time": "2023-02-28T13:31:51.440Z"
   },
   {
    "duration": 0,
    "start_time": "2023-02-28T13:31:51.440Z"
   },
   {
    "duration": 0,
    "start_time": "2023-02-28T13:31:51.441Z"
   },
   {
    "duration": 0,
    "start_time": "2023-02-28T13:31:51.442Z"
   },
   {
    "duration": 0,
    "start_time": "2023-02-28T13:31:51.443Z"
   },
   {
    "duration": 0,
    "start_time": "2023-02-28T13:31:51.444Z"
   },
   {
    "duration": 0,
    "start_time": "2023-02-28T13:31:51.445Z"
   },
   {
    "duration": 0,
    "start_time": "2023-02-28T13:31:51.446Z"
   },
   {
    "duration": 0,
    "start_time": "2023-02-28T13:31:51.448Z"
   },
   {
    "duration": 0,
    "start_time": "2023-02-28T13:31:51.448Z"
   },
   {
    "duration": 0,
    "start_time": "2023-02-28T13:31:51.449Z"
   },
   {
    "duration": 0,
    "start_time": "2023-02-28T13:31:51.451Z"
   },
   {
    "duration": 0,
    "start_time": "2023-02-28T13:31:51.452Z"
   },
   {
    "duration": 0,
    "start_time": "2023-02-28T13:31:51.454Z"
   },
   {
    "duration": 0,
    "start_time": "2023-02-28T13:31:51.455Z"
   },
   {
    "duration": 0,
    "start_time": "2023-02-28T13:31:51.457Z"
   },
   {
    "duration": 0,
    "start_time": "2023-02-28T13:31:51.504Z"
   },
   {
    "duration": 0,
    "start_time": "2023-02-28T13:31:51.505Z"
   },
   {
    "duration": 0,
    "start_time": "2023-02-28T13:31:51.506Z"
   },
   {
    "duration": 0,
    "start_time": "2023-02-28T13:31:51.507Z"
   },
   {
    "duration": 0,
    "start_time": "2023-02-28T13:31:51.509Z"
   },
   {
    "duration": 0,
    "start_time": "2023-02-28T13:31:51.510Z"
   },
   {
    "duration": 0,
    "start_time": "2023-02-28T13:31:51.512Z"
   },
   {
    "duration": 0,
    "start_time": "2023-02-28T13:31:51.513Z"
   },
   {
    "duration": 0,
    "start_time": "2023-02-28T13:31:51.515Z"
   },
   {
    "duration": 0,
    "start_time": "2023-02-28T13:31:51.516Z"
   },
   {
    "duration": 0,
    "start_time": "2023-02-28T13:31:51.517Z"
   },
   {
    "duration": 0,
    "start_time": "2023-02-28T13:31:51.518Z"
   },
   {
    "duration": 0,
    "start_time": "2023-02-28T13:31:51.519Z"
   },
   {
    "duration": 0,
    "start_time": "2023-02-28T13:31:51.520Z"
   },
   {
    "duration": 0,
    "start_time": "2023-02-28T13:31:51.521Z"
   },
   {
    "duration": 0,
    "start_time": "2023-02-28T13:31:51.522Z"
   },
   {
    "duration": 0,
    "start_time": "2023-02-28T13:31:51.523Z"
   },
   {
    "duration": 0,
    "start_time": "2023-02-28T13:31:51.524Z"
   },
   {
    "duration": 0,
    "start_time": "2023-02-28T13:31:51.525Z"
   },
   {
    "duration": 0,
    "start_time": "2023-02-28T13:31:51.527Z"
   },
   {
    "duration": 0,
    "start_time": "2023-02-28T13:31:51.529Z"
   },
   {
    "duration": 0,
    "start_time": "2023-02-28T13:31:51.530Z"
   },
   {
    "duration": 0,
    "start_time": "2023-02-28T13:31:51.531Z"
   },
   {
    "duration": 0,
    "start_time": "2023-02-28T13:31:51.532Z"
   },
   {
    "duration": 0,
    "start_time": "2023-02-28T13:31:51.533Z"
   },
   {
    "duration": 0,
    "start_time": "2023-02-28T13:31:51.534Z"
   },
   {
    "duration": 0,
    "start_time": "2023-02-28T13:31:51.536Z"
   },
   {
    "duration": 0,
    "start_time": "2023-02-28T13:31:51.537Z"
   },
   {
    "duration": 0,
    "start_time": "2023-02-28T13:31:51.537Z"
   },
   {
    "duration": 0,
    "start_time": "2023-02-28T13:31:51.538Z"
   },
   {
    "duration": 0,
    "start_time": "2023-02-28T13:31:51.539Z"
   },
   {
    "duration": 0,
    "start_time": "2023-02-28T13:31:51.597Z"
   },
   {
    "duration": 1,
    "start_time": "2023-02-28T13:31:51.598Z"
   },
   {
    "duration": 0,
    "start_time": "2023-02-28T13:31:51.600Z"
   },
   {
    "duration": 0,
    "start_time": "2023-02-28T13:31:51.603Z"
   },
   {
    "duration": 0,
    "start_time": "2023-02-28T13:31:51.607Z"
   },
   {
    "duration": 0,
    "start_time": "2023-02-28T13:31:51.608Z"
   },
   {
    "duration": 0,
    "start_time": "2023-02-28T13:31:51.609Z"
   },
   {
    "duration": 0,
    "start_time": "2023-02-28T13:31:51.611Z"
   },
   {
    "duration": 0,
    "start_time": "2023-02-28T13:31:51.611Z"
   },
   {
    "duration": 0,
    "start_time": "2023-02-28T13:31:51.613Z"
   },
   {
    "duration": 0,
    "start_time": "2023-02-28T13:31:51.614Z"
   },
   {
    "duration": 0,
    "start_time": "2023-02-28T13:31:51.615Z"
   },
   {
    "duration": 0,
    "start_time": "2023-02-28T13:31:51.616Z"
   },
   {
    "duration": 0,
    "start_time": "2023-02-28T13:31:51.618Z"
   },
   {
    "duration": 0,
    "start_time": "2023-02-28T13:31:51.619Z"
   },
   {
    "duration": 0,
    "start_time": "2023-02-28T13:31:51.620Z"
   },
   {
    "duration": 1561,
    "start_time": "2023-02-28T14:00:52.876Z"
   },
   {
    "duration": 94,
    "start_time": "2023-02-28T14:01:00.278Z"
   },
   {
    "duration": 18,
    "start_time": "2023-02-28T14:01:11.671Z"
   },
   {
    "duration": 13,
    "start_time": "2023-02-28T14:01:14.842Z"
   },
   {
    "duration": 5,
    "start_time": "2023-02-28T14:01:16.533Z"
   },
   {
    "duration": 1093,
    "start_time": "2023-02-28T14:01:17.686Z"
   },
   {
    "duration": 132,
    "start_time": "2023-02-28T14:01:19.048Z"
   },
   {
    "duration": 31,
    "start_time": "2023-02-28T14:01:37.085Z"
   },
   {
    "duration": 3,
    "start_time": "2023-02-28T14:01:39.183Z"
   },
   {
    "duration": 74,
    "start_time": "2023-02-28T14:01:40.437Z"
   },
   {
    "duration": 137,
    "start_time": "2023-02-28T14:01:42.181Z"
   },
   {
    "duration": 136,
    "start_time": "2023-02-28T14:01:46.119Z"
   },
   {
    "duration": 15,
    "start_time": "2023-02-28T14:01:48.303Z"
   },
   {
    "duration": 10,
    "start_time": "2023-02-28T14:01:50.088Z"
   },
   {
    "duration": 132,
    "start_time": "2023-02-28T14:01:51.450Z"
   },
   {
    "duration": 4,
    "start_time": "2023-02-28T14:02:20.702Z"
   },
   {
    "duration": 42,
    "start_time": "2023-02-28T14:02:24.636Z"
   },
   {
    "duration": 17,
    "start_time": "2023-02-28T14:02:26.272Z"
   },
   {
    "duration": 11,
    "start_time": "2023-02-28T14:02:27.703Z"
   },
   {
    "duration": 5,
    "start_time": "2023-02-28T14:02:29.314Z"
   },
   {
    "duration": 1061,
    "start_time": "2023-02-28T14:02:30.592Z"
   },
   {
    "duration": 40,
    "start_time": "2023-02-28T14:02:32.031Z"
   },
   {
    "duration": 24,
    "start_time": "2023-02-28T14:02:36.683Z"
   },
   {
    "duration": 3,
    "start_time": "2023-02-28T14:02:37.842Z"
   },
   {
    "duration": 63,
    "start_time": "2023-02-28T14:02:39.405Z"
   },
   {
    "duration": 125,
    "start_time": "2023-02-28T14:02:43.229Z"
   },
   {
    "duration": 138,
    "start_time": "2023-02-28T14:02:57.579Z"
   },
   {
    "duration": 17,
    "start_time": "2023-02-28T14:02:58.518Z"
   },
   {
    "duration": 11,
    "start_time": "2023-02-28T14:03:00.446Z"
   },
   {
    "duration": 14,
    "start_time": "2023-02-28T14:03:01.538Z"
   },
   {
    "duration": 143,
    "start_time": "2023-02-28T14:03:20.258Z"
   },
   {
    "duration": 24,
    "start_time": "2023-02-28T14:05:08.681Z"
   },
   {
    "duration": 8,
    "start_time": "2023-02-28T14:05:47.897Z"
   },
   {
    "duration": 6,
    "start_time": "2023-02-28T14:05:48.533Z"
   },
   {
    "duration": 8,
    "start_time": "2023-02-28T14:05:51.476Z"
   },
   {
    "duration": 13,
    "start_time": "2023-02-28T14:05:52.713Z"
   },
   {
    "duration": 3,
    "start_time": "2023-02-28T14:05:59.243Z"
   },
   {
    "duration": 261,
    "start_time": "2023-02-28T14:06:25.917Z"
   },
   {
    "duration": 350,
    "start_time": "2023-02-28T14:06:28.774Z"
   },
   {
    "duration": 27,
    "start_time": "2023-02-28T14:06:30.926Z"
   },
   {
    "duration": 4,
    "start_time": "2023-02-28T14:07:56.208Z"
   },
   {
    "duration": 4,
    "start_time": "2023-02-28T14:07:59.834Z"
   },
   {
    "duration": 4,
    "start_time": "2023-02-28T14:08:00.274Z"
   },
   {
    "duration": 5,
    "start_time": "2023-02-28T14:08:01.776Z"
   },
   {
    "duration": 13930,
    "start_time": "2023-02-28T14:08:02.684Z"
   },
   {
    "duration": 17,
    "start_time": "2023-02-28T14:08:21.282Z"
   },
   {
    "duration": 13,
    "start_time": "2023-02-28T14:08:23.104Z"
   },
   {
    "duration": 5,
    "start_time": "2023-02-28T14:08:29.609Z"
   },
   {
    "duration": 3,
    "start_time": "2023-02-28T14:08:31.373Z"
   },
   {
    "duration": 5,
    "start_time": "2023-02-28T14:08:32.843Z"
   },
   {
    "duration": 347,
    "start_time": "2023-02-28T14:08:33.842Z"
   },
   {
    "duration": 24,
    "start_time": "2023-02-28T14:08:34.287Z"
   },
   {
    "duration": 3,
    "start_time": "2023-02-28T14:08:37.206Z"
   },
   {
    "duration": 2,
    "start_time": "2023-02-28T14:08:38.947Z"
   },
   {
    "duration": 7,
    "start_time": "2023-02-28T14:08:42.374Z"
   },
   {
    "duration": 67002,
    "start_time": "2023-02-28T14:08:44.312Z"
   },
   {
    "duration": 27,
    "start_time": "2023-02-28T14:10:00.775Z"
   },
   {
    "duration": 5,
    "start_time": "2023-02-28T14:10:15.503Z"
   },
   {
    "duration": 36,
    "start_time": "2023-02-28T14:10:17.435Z"
   },
   {
    "duration": 7,
    "start_time": "2023-02-28T14:10:17.910Z"
   },
   {
    "duration": 3,
    "start_time": "2023-02-28T14:10:21.073Z"
   },
   {
    "duration": 6,
    "start_time": "2023-02-28T14:10:24.617Z"
   },
   {
    "duration": 521303,
    "start_time": "2023-02-28T14:10:28.379Z"
   },
   {
    "duration": 33,
    "start_time": "2023-02-28T14:19:18.776Z"
   },
   {
    "duration": 12,
    "start_time": "2023-02-28T14:19:58.187Z"
   },
   {
    "duration": 387,
    "start_time": "2023-02-28T14:20:00.869Z"
   },
   {
    "duration": 58,
    "start_time": "2023-02-28T14:20:07.442Z"
   },
   {
    "duration": 159,
    "start_time": "2023-02-28T14:20:11.548Z"
   },
   {
    "duration": 7,
    "start_time": "2023-02-28T14:20:22.539Z"
   },
   {
    "duration": 20594,
    "start_time": "2023-02-28T14:20:27.701Z"
   },
   {
    "duration": 5,
    "start_time": "2023-02-28T14:20:50.443Z"
   },
   {
    "duration": 14,
    "start_time": "2023-02-28T14:20:53.223Z"
   },
   {
    "duration": 5,
    "start_time": "2023-02-28T14:21:18.578Z"
   },
   {
    "duration": 13,
    "start_time": "2023-02-28T14:21:19.114Z"
   },
   {
    "duration": 6417,
    "start_time": "2023-02-28T14:21:24.565Z"
   },
   {
    "duration": 18,
    "start_time": "2023-02-28T14:21:34.005Z"
   },
   {
    "duration": 530537,
    "start_time": "2023-02-28T14:21:42.044Z"
   },
   {
    "duration": 20,
    "start_time": "2023-02-28T14:31:00.478Z"
   },
   {
    "duration": 13,
    "start_time": "2023-02-28T14:32:30.737Z"
   },
   {
    "duration": 18002,
    "start_time": "2023-02-28T14:32:42.702Z"
   },
   {
    "duration": 6,
    "start_time": "2023-02-28T14:33:04.213Z"
   },
   {
    "duration": 13,
    "start_time": "2023-02-28T14:33:06.211Z"
   },
   {
    "duration": 7928,
    "start_time": "2023-02-28T14:33:14.035Z"
   },
   {
    "duration": 31,
    "start_time": "2023-02-28T14:33:25.178Z"
   },
   {
    "duration": 746068,
    "start_time": "2023-02-28T14:33:32.571Z"
   },
   {
    "duration": 20,
    "start_time": "2023-02-28T14:46:16.638Z"
   },
   {
    "duration": 3,
    "start_time": "2023-02-28T14:47:03.621Z"
   },
   {
    "duration": 874,
    "start_time": "2023-02-28T14:47:07.624Z"
   },
   {
    "duration": 816,
    "start_time": "2023-02-28T14:48:19.462Z"
   },
   {
    "duration": 14,
    "start_time": "2023-02-28T14:48:34.281Z"
   }
  ],
  "kernelspec": {
   "display_name": "Python 3 (ipykernel)",
   "language": "python",
   "name": "python3"
  },
  "language_info": {
   "codemirror_mode": {
    "name": "ipython",
    "version": 3
   },
   "file_extension": ".py",
   "mimetype": "text/x-python",
   "name": "python",
   "nbconvert_exporter": "python",
   "pygments_lexer": "ipython3",
   "version": "3.10.9"
  },
  "toc": {
   "base_numbering": 1,
   "nav_menu": {},
   "number_sections": true,
   "sideBar": true,
   "skip_h1_title": true,
   "title_cell": "Содержание",
   "title_sidebar": "Contents",
   "toc_cell": true,
   "toc_position": {},
   "toc_section_display": true,
   "toc_window_display": false
  }
 },
 "nbformat": 4,
 "nbformat_minor": 2
}
