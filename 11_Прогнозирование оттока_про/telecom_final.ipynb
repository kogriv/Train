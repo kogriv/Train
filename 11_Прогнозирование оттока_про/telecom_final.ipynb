{
 "cells": [
  {
   "cell_type": "markdown",
   "metadata": {},
   "source": [
    "# Описание проекта: телекоммуникации"
   ]
  },
  {
   "cell_type": "markdown",
   "metadata": {},
   "source": [
    "Оператор связи __«Ниединогоразрыва.ком»__ хочет научиться прогнозировать отток клиентов. Если выяснится, что пользователь планирует уйти, ему будут предложены промокоды и специальные условия. Команда оператора собрала персональные данные о некоторых клиентах, информацию об их тарифах и договорах.\n",
    "\n",
    "**Описание услуг**\n",
    "\n",
    "Оператор предоставляет два основных типа услуг: \n",
    "\n",
    "1. Стационарную телефонную связь. Возможно подключение телефонного аппарата к нескольким линиям одновременно.\n",
    "2. Интернет. Подключение может быть двух типов: через телефонную линию (DSL, от англ. *digital subscriber line*) или оптоволоконный кабель (*Fiber optic*).  \n",
    "\n",
    "Также доступны такие услуги:\n",
    "\n",
    "- Интернет-безопасность: антивирус (*DeviceProtection*) и блокировка небезопасных сайтов (*OnlineSecurity*);\n",
    "- Выделенная линия технической поддержки (*TechSupport*);\n",
    "- Облачное хранилище файлов для резервного копирования данных (*OnlineBackup*);\n",
    "- Стриминговое телевидение (*StreamingTV*) и каталог фильмов (*StreamingMovies*).\n",
    "\n",
    "За услуги клиенты могут платить каждый месяц или заключить договор на 1–2 года. Доступны различные способы расчёта и возможность получения электронного чека."
   ]
  },
  {
   "cell_type": "markdown",
   "metadata": {},
   "source": [
    "## Описание данных\n",
    "\n",
    "Данные состоят из файлов, полученных из разных источников:\n",
    "\n",
    "- `contract.csv` — информация о договоре;\n",
    "- `personal.csv` — персональные данные клиента;\n",
    "- `internet.csv` — информация об интернет-услугах;\n",
    "- `phone.csv` — информация об услугах телефонии.\n",
    "\n",
    "Во всех файлах столбец `customerID` содержит код клиента.\n",
    "\n",
    "Информация о договорах актуальна на 1 февраля 2020.\n",
    "\n",
    "Данные находятся в директории `/datasets/final_provider/`."
   ]
  },
  {
   "cell_type": "markdown",
   "metadata": {},
   "source": [
    "#### Список уточняющих вопросов:\n",
    "\n",
    "Вопросов нет"
   ]
  },
  {
   "cell_type": "markdown",
   "metadata": {},
   "source": [
    "#### План работы:\n",
    "\n",
    "Улучшить удержание клиентов и снизить отток.\n",
    "\n",
    "Задача: Разработать модель бинарной классификации, которая будет предсказывать, уйдет ли клиент или останется с компанией на основе доступных признаков. \n",
    "Решается задача бинарной классификации."
   ]
  },
  {
   "cell_type": "markdown",
   "metadata": {},
   "source": [
    "**План**\n",
    "<a id='plan'></a>\n",
    "1. [x] Проверка и подготовка данных :  \n",
    "    - [x] Поиск ошибков, пропусков\n",
    "    - [x] Оценка статистик численных значений\n",
    "    - [x] Сравнение датафреймов на пересечение индексов\n",
    "    - [x] Создание общего датафрейма. Определение категориальных полей\n",
    "    - [x] Заполнение пропусков в обобщенной таблице\n",
    "2. [x] Исследовательский анализ\n",
    "    - [x] Исследовать зависимости признаков от целевого признака\n",
    "    - [x] Проверка сбалансированности классов\n",
    "3. [x] Построение и обучение моделей\n",
    "    - [x] Построить, обучить с использованием кросс-валидации несколько моделей\n",
    "    - [x] Оценить результаты в рамках требований\n",
    "4. [x] Вывод по результатам"
   ]
  },
  {
   "cell_type": "markdown",
   "metadata": {},
   "source": [
    "# Импорт библиотек. Глобальные переменные"
   ]
  },
  {
   "cell_type": "code",
   "execution_count": 1,
   "metadata": {},
   "outputs": [
    {
     "name": "stderr",
     "output_type": "stream",
     "text": [
      "Using `tqdm.autonotebook.tqdm` in notebook mode. Use `tqdm.tqdm` instead to force console mode (e.g. in jupyter console)\n"
     ]
    }
   ],
   "source": [
    "import pandas as pd\n",
    "import numpy as np\n",
    "import seaborn as sns\n",
    "from matplotlib import pyplot as plt\n",
    "\n",
    "import phik\n",
    "import math\n",
    "\n",
    "# обучение\n",
    "from sklearn.metrics import (auc, roc_curve, roc_auc_score, accuracy_score, \n",
    "                             precision_score, recall_score, confusion_matrix)\n",
    "from sklearn.model_selection import (train_test_split, cross_val_predict,\n",
    "                                     GridSearchCV, RandomizedSearchCV)\n",
    "\n",
    "\n",
    "from sklearn.ensemble import RandomForestClassifier \n",
    "import lightgbm as lgb\n",
    "from lightgbm import LGBMClassifier\n",
    "from catboost import CatBoostClassifier, Pool\n",
    "from sklearn.linear_model import LogisticRegression\n",
    "# from sklearn.linear_model import Ridge\n",
    "from sklearn.linear_model import RidgeClassifier\n",
    "from sklearn.preprocessing import PolynomialFeatures\n",
    "from sklearn.pipeline import make_pipeline\n",
    "\n",
    "from sklearn.preprocessing import StandardScaler, OneHotEncoder, OrdinalEncoder, LabelEncoder\n",
    "from sklearn.pipeline import Pipeline\n",
    "from sklearn.dummy import DummyClassifier\n",
    "from sklearn.compose import ColumnTransformer\n",
    "\n",
    "import shap\n",
    "\n",
    "from tqdm import tqdm\n",
    "from sklearn.base import clone\n",
    "import copy\n",
    "from sklearn.model_selection import KFold\n",
    "from sklearn.model_selection import cross_val_score\n",
    "from sklearn.model_selection import cross_validate\n"
   ]
  },
  {
   "cell_type": "code",
   "execution_count": 2,
   "metadata": {},
   "outputs": [],
   "source": [
    "PARSE_DATE='2020-02-01'"
   ]
  },
  {
   "cell_type": "code",
   "execution_count": 3,
   "metadata": {},
   "outputs": [],
   "source": [
    "RANDOM_STATE = 3072023 #np.random.RandomState(3072023)\n",
    "RAND_STATE = 3072023"
   ]
  },
  {
   "cell_type": "markdown",
   "metadata": {},
   "source": [
    "Загрузим и изучим данные"
   ]
  },
  {
   "cell_type": "code",
   "execution_count": 4,
   "metadata": {
    "scrolled": true
   },
   "outputs": [
    {
     "name": "stdout",
     "output_type": "stream",
     "text": [
      "Прочитали данные с диска\n"
     ]
    }
   ],
   "source": [
    "try:\n",
    "    d_contract = pd.read_csv('C:/0/d/f/contract_new.csv')\n",
    "    d_internet  = pd.read_csv('C:/0/d/f/internet_new.csv')\n",
    "    d_personal = pd.read_csv('C:/0/d/f/personal_new.csv')\n",
    "    d_phone    = pd.read_csv('C:/0/d/f/phone_new.csv')\n",
    "    print('Прочитали данные с диска')\n",
    "except:\n",
    "    d_contract = pd.read_csv('/datasets/contract_new.csv')\n",
    "    d_internet = pd.read_csv('/datasets/internet_new.csv')\n",
    "    d_personal = pd.read_csv('/datasets/personal_new.csv')\n",
    "    d_phone    = pd.read_csv('/datasets/phone_new.csv')\n",
    "    print('Прочитали данные в сети')"
   ]
  },
  {
   "cell_type": "code",
   "execution_count": 5,
   "metadata": {},
   "outputs": [],
   "source": [
    "# создадим список названий датафреймов\n",
    "d_list = ['contract','internet','personal','phone']"
   ]
  },
  {
   "cell_type": "markdown",
   "metadata": {},
   "source": [
    "# EDA и предобработка"
   ]
  },
  {
   "cell_type": "markdown",
   "metadata": {},
   "source": [
    "## Посмотрим информацию по датафреймам"
   ]
  },
  {
   "cell_type": "markdown",
   "metadata": {},
   "source": [
    "### Датафрейм d_contract"
   ]
  },
  {
   "cell_type": "code",
   "execution_count": 6,
   "metadata": {},
   "outputs": [
    {
     "name": "stdout",
     "output_type": "stream",
     "text": [
      "<class 'pandas.core.frame.DataFrame'>\n",
      "RangeIndex: 7043 entries, 0 to 7042\n",
      "Data columns (total 8 columns):\n",
      " #   Column            Non-Null Count  Dtype  \n",
      "---  ------            --------------  -----  \n",
      " 0   customerID        7043 non-null   object \n",
      " 1   BeginDate         7043 non-null   object \n",
      " 2   EndDate           7043 non-null   object \n",
      " 3   Type              7043 non-null   object \n",
      " 4   PaperlessBilling  7043 non-null   object \n",
      " 5   PaymentMethod     7043 non-null   object \n",
      " 6   MonthlyCharges    7043 non-null   float64\n",
      " 7   TotalCharges      7043 non-null   object \n",
      "dtypes: float64(1), object(7)\n",
      "memory usage: 440.3+ KB\n"
     ]
    }
   ],
   "source": [
    "d_contract.info()"
   ]
  },
  {
   "cell_type": "code",
   "execution_count": 7,
   "metadata": {},
   "outputs": [
    {
     "data": {
      "text/html": [
       "<div>\n",
       "<style scoped>\n",
       "    .dataframe tbody tr th:only-of-type {\n",
       "        vertical-align: middle;\n",
       "    }\n",
       "\n",
       "    .dataframe tbody tr th {\n",
       "        vertical-align: top;\n",
       "    }\n",
       "\n",
       "    .dataframe thead th {\n",
       "        text-align: right;\n",
       "    }\n",
       "</style>\n",
       "<table border=\"1\" class=\"dataframe\">\n",
       "  <thead>\n",
       "    <tr style=\"text-align: right;\">\n",
       "      <th></th>\n",
       "      <th>customerID</th>\n",
       "      <th>BeginDate</th>\n",
       "      <th>EndDate</th>\n",
       "      <th>Type</th>\n",
       "      <th>PaperlessBilling</th>\n",
       "      <th>PaymentMethod</th>\n",
       "      <th>MonthlyCharges</th>\n",
       "      <th>TotalCharges</th>\n",
       "    </tr>\n",
       "  </thead>\n",
       "  <tbody>\n",
       "    <tr>\n",
       "      <th>0</th>\n",
       "      <td>7590-VHVEG</td>\n",
       "      <td>2020-01-01</td>\n",
       "      <td>No</td>\n",
       "      <td>Month-to-month</td>\n",
       "      <td>Yes</td>\n",
       "      <td>Electronic check</td>\n",
       "      <td>29.85</td>\n",
       "      <td>31.04</td>\n",
       "    </tr>\n",
       "    <tr>\n",
       "      <th>1</th>\n",
       "      <td>5575-GNVDE</td>\n",
       "      <td>2017-04-01</td>\n",
       "      <td>No</td>\n",
       "      <td>One year</td>\n",
       "      <td>No</td>\n",
       "      <td>Mailed check</td>\n",
       "      <td>56.95</td>\n",
       "      <td>2071.84</td>\n",
       "    </tr>\n",
       "    <tr>\n",
       "      <th>2</th>\n",
       "      <td>3668-QPYBK</td>\n",
       "      <td>2019-10-01</td>\n",
       "      <td>No</td>\n",
       "      <td>Month-to-month</td>\n",
       "      <td>Yes</td>\n",
       "      <td>Mailed check</td>\n",
       "      <td>53.85</td>\n",
       "      <td>226.17</td>\n",
       "    </tr>\n",
       "    <tr>\n",
       "      <th>3</th>\n",
       "      <td>7795-CFOCW</td>\n",
       "      <td>2016-05-01</td>\n",
       "      <td>No</td>\n",
       "      <td>One year</td>\n",
       "      <td>No</td>\n",
       "      <td>Bank transfer (automatic)</td>\n",
       "      <td>42.30</td>\n",
       "      <td>1960.6</td>\n",
       "    </tr>\n",
       "    <tr>\n",
       "      <th>4</th>\n",
       "      <td>9237-HQITU</td>\n",
       "      <td>2019-09-01</td>\n",
       "      <td>No</td>\n",
       "      <td>Month-to-month</td>\n",
       "      <td>Yes</td>\n",
       "      <td>Electronic check</td>\n",
       "      <td>70.70</td>\n",
       "      <td>353.5</td>\n",
       "    </tr>\n",
       "  </tbody>\n",
       "</table>\n",
       "</div>"
      ],
      "text/plain": [
       "   customerID   BeginDate EndDate            Type PaperlessBilling  \\\n",
       "0  7590-VHVEG  2020-01-01      No  Month-to-month              Yes   \n",
       "1  5575-GNVDE  2017-04-01      No        One year               No   \n",
       "2  3668-QPYBK  2019-10-01      No  Month-to-month              Yes   \n",
       "3  7795-CFOCW  2016-05-01      No        One year               No   \n",
       "4  9237-HQITU  2019-09-01      No  Month-to-month              Yes   \n",
       "\n",
       "               PaymentMethod  MonthlyCharges TotalCharges  \n",
       "0           Electronic check           29.85        31.04  \n",
       "1               Mailed check           56.95      2071.84  \n",
       "2               Mailed check           53.85       226.17  \n",
       "3  Bank transfer (automatic)           42.30       1960.6  \n",
       "4           Electronic check           70.70        353.5  "
      ]
     },
     "execution_count": 7,
     "metadata": {},
     "output_type": "execute_result"
    }
   ],
   "source": [
    "d_contract.head()"
   ]
  },
  {
   "cell_type": "markdown",
   "metadata": {},
   "source": [
    "Изменим тип данных поля TotalCharges с object на float64"
   ]
  },
  {
   "cell_type": "code",
   "execution_count": 8,
   "metadata": {},
   "outputs": [],
   "source": [
    "d_contract['TotalCharges'] = pd.to_numeric(d_contract['TotalCharges'], errors='coerce').fillna(0)"
   ]
  },
  {
   "cell_type": "code",
   "execution_count": 9,
   "metadata": {},
   "outputs": [
    {
     "data": {
      "text/html": [
       "<div>\n",
       "<style scoped>\n",
       "    .dataframe tbody tr th:only-of-type {\n",
       "        vertical-align: middle;\n",
       "    }\n",
       "\n",
       "    .dataframe tbody tr th {\n",
       "        vertical-align: top;\n",
       "    }\n",
       "\n",
       "    .dataframe thead th {\n",
       "        text-align: right;\n",
       "    }\n",
       "</style>\n",
       "<table border=\"1\" class=\"dataframe\">\n",
       "  <thead>\n",
       "    <tr style=\"text-align: right;\">\n",
       "      <th></th>\n",
       "      <th>MonthlyCharges</th>\n",
       "      <th>TotalCharges</th>\n",
       "    </tr>\n",
       "  </thead>\n",
       "  <tbody>\n",
       "    <tr>\n",
       "      <th>count</th>\n",
       "      <td>7043.000000</td>\n",
       "      <td>7043.000000</td>\n",
       "    </tr>\n",
       "    <tr>\n",
       "      <th>mean</th>\n",
       "      <td>64.761692</td>\n",
       "      <td>2115.312885</td>\n",
       "    </tr>\n",
       "    <tr>\n",
       "      <th>std</th>\n",
       "      <td>30.090047</td>\n",
       "      <td>2112.742814</td>\n",
       "    </tr>\n",
       "    <tr>\n",
       "      <th>min</th>\n",
       "      <td>18.250000</td>\n",
       "      <td>0.000000</td>\n",
       "    </tr>\n",
       "    <tr>\n",
       "      <th>25%</th>\n",
       "      <td>35.500000</td>\n",
       "      <td>436.750000</td>\n",
       "    </tr>\n",
       "    <tr>\n",
       "      <th>50%</th>\n",
       "      <td>70.350000</td>\n",
       "      <td>1343.350000</td>\n",
       "    </tr>\n",
       "    <tr>\n",
       "      <th>75%</th>\n",
       "      <td>89.850000</td>\n",
       "      <td>3236.690000</td>\n",
       "    </tr>\n",
       "    <tr>\n",
       "      <th>max</th>\n",
       "      <td>118.750000</td>\n",
       "      <td>9221.380000</td>\n",
       "    </tr>\n",
       "  </tbody>\n",
       "</table>\n",
       "</div>"
      ],
      "text/plain": [
       "       MonthlyCharges  TotalCharges\n",
       "count     7043.000000   7043.000000\n",
       "mean        64.761692   2115.312885\n",
       "std         30.090047   2112.742814\n",
       "min         18.250000      0.000000\n",
       "25%         35.500000    436.750000\n",
       "50%         70.350000   1343.350000\n",
       "75%         89.850000   3236.690000\n",
       "max        118.750000   9221.380000"
      ]
     },
     "execution_count": 9,
     "metadata": {},
     "output_type": "execute_result"
    }
   ],
   "source": [
    "d_contract.describe()"
   ]
  },
  {
   "cell_type": "markdown",
   "metadata": {},
   "source": [
    "Посмотрим как доли уникальных значений по всем полям"
   ]
  },
  {
   "cell_type": "code",
   "execution_count": 10,
   "metadata": {},
   "outputs": [
    {
     "data": {
      "text/plain": [
       "EndDate\n",
       "No            0.843675\n",
       "2020-01-01    0.005537\n",
       "2019-12-01    0.005395\n",
       "2018-11-01    0.004969\n",
       "2019-09-01    0.004544\n",
       "                ...   \n",
       "2014-09-01    0.000284\n",
       "2014-12-01    0.000284\n",
       "2014-06-01    0.000142\n",
       "2014-10-01    0.000142\n",
       "2014-11-01    0.000142\n",
       "Name: proportion, Length: 67, dtype: float64"
      ]
     },
     "execution_count": 10,
     "metadata": {},
     "output_type": "execute_result"
    }
   ],
   "source": [
    "d_contract['EndDate'].value_counts(normalize=True)"
   ]
  },
  {
   "cell_type": "code",
   "execution_count": 11,
   "metadata": {},
   "outputs": [
    {
     "data": {
      "text/plain": [
       "Type\n",
       "Month-to-month    0.550192\n",
       "Two year          0.240664\n",
       "One year          0.209144\n",
       "Name: proportion, dtype: float64"
      ]
     },
     "execution_count": 11,
     "metadata": {},
     "output_type": "execute_result"
    }
   ],
   "source": [
    "d_contract['Type'].value_counts(normalize=True)"
   ]
  },
  {
   "cell_type": "code",
   "execution_count": 12,
   "metadata": {},
   "outputs": [
    {
     "data": {
      "text/plain": [
       "PaperlessBilling\n",
       "Yes    0.592219\n",
       "No     0.407781\n",
       "Name: proportion, dtype: float64"
      ]
     },
     "execution_count": 12,
     "metadata": {},
     "output_type": "execute_result"
    }
   ],
   "source": [
    "d_contract['PaperlessBilling'].value_counts(normalize=True)"
   ]
  },
  {
   "cell_type": "code",
   "execution_count": 13,
   "metadata": {},
   "outputs": [
    {
     "data": {
      "text/plain": [
       "PaymentMethod\n",
       "Electronic check             0.335794\n",
       "Mailed check                 0.228880\n",
       "Bank transfer (automatic)    0.219225\n",
       "Credit card (automatic)      0.216101\n",
       "Name: proportion, dtype: float64"
      ]
     },
     "execution_count": 13,
     "metadata": {},
     "output_type": "execute_result"
    }
   ],
   "source": [
    "d_contract['PaymentMethod'].value_counts(normalize=True)"
   ]
  },
  {
   "cell_type": "code",
   "execution_count": 14,
   "metadata": {},
   "outputs": [
    {
     "data": {
      "text/plain": [
       "0"
      ]
     },
     "execution_count": 14,
     "metadata": {},
     "output_type": "execute_result"
    }
   ],
   "source": [
    "# Посмотрим дубликаты\n",
    "d_contract.duplicated().sum()"
   ]
  },
  {
   "cell_type": "code",
   "execution_count": 15,
   "metadata": {
    "scrolled": false
   },
   "outputs": [],
   "source": [
    "def check_uniq_customers(df):\n",
    "    ununiq_cnt =  d_contract.shape[0]-d_contract['customerID'].nunique()\n",
    "    if ununiq_cnt>0:\n",
    "        print('Некоторые клиенты в таблице встречаются более одного раза')\n",
    "        print('Количество записей с одинаковыми клиентами:',ununiq_cnt)\n",
    "    else: print('Все клиенты в таблице встречаются не более одного раза')\n",
    "    return"
   ]
  },
  {
   "cell_type": "code",
   "execution_count": 16,
   "metadata": {},
   "outputs": [
    {
     "name": "stdout",
     "output_type": "stream",
     "text": [
      "Все клиенты в таблице встречаются не более одного раза\n"
     ]
    }
   ],
   "source": [
    "check_uniq_customers(d_contract)"
   ]
  },
  {
   "cell_type": "markdown",
   "metadata": {},
   "source": [
    "#### Первые EDA выводы. Датафрейм d_contract:\n",
    "- не содержит пропусков\n",
    "- не содержит дубликатов\n",
    "- все клиенты встречаются в таблице d_contract не более одного раза\n",
    "- содержит поле EndDate, которое будет использовано для создания поля с целевым бинарным значением. Видим, что классы не сбалансированны (доля незаконченных договоров составляет 84,3675%)\n",
    "- поле 'MonthlyCharges':\n",
    "    - среднее значение  (64.76) немного ниже медианы (70.35), что может указывать на легкое смещение распределения влево\n",
    "    - (это может указывать на то, что цена играет важную роль при выборе услуг. Некоторые клиенты могут активно искать более низкие стоимости, сравнивать предложения и выбирать наиболее экономичные варианты (это подтверждается также большой долей клиентов с помесячной системой оплаты). Это может быть связано с особенностями рынка, конкуренцией или потребностями клиентов с ограниченными ресурсами. Также смещение распределения влево может указывать на преобладание клиентов с низкими месячными платежами. Возможно, компания имеет более широкую базу клиентов с меньшими расходами, что может быть стратегическим выбором или следствием характеристик предоставляемых услуг).\n",
    "    - Также можно отметить наличие выбросов, так как максимальное значение (118.75) значительно отличается от третьего квартиля (89.85).\n",
    "- поле 'TotalCharges':\n",
    "    - среднее значение (2115.31) выше медианы (1343.35), что может указывать на смещение распределения вправо (некоторые клиенты могут выбирать более дорогие пакеты услуг, дополнительные сервисы или иметь длительные периоды использования услуг, что приводит к значительно более высоким затратам)\n"
   ]
  },
  {
   "cell_type": "markdown",
   "metadata": {},
   "source": [
    "### Датафрейм d_internet"
   ]
  },
  {
   "cell_type": "code",
   "execution_count": 17,
   "metadata": {},
   "outputs": [
    {
     "name": "stdout",
     "output_type": "stream",
     "text": [
      "<class 'pandas.core.frame.DataFrame'>\n",
      "RangeIndex: 5517 entries, 0 to 5516\n",
      "Data columns (total 8 columns):\n",
      " #   Column            Non-Null Count  Dtype \n",
      "---  ------            --------------  ----- \n",
      " 0   customerID        5517 non-null   object\n",
      " 1   InternetService   5517 non-null   object\n",
      " 2   OnlineSecurity    5517 non-null   object\n",
      " 3   OnlineBackup      5517 non-null   object\n",
      " 4   DeviceProtection  5517 non-null   object\n",
      " 5   TechSupport       5517 non-null   object\n",
      " 6   StreamingTV       5517 non-null   object\n",
      " 7   StreamingMovies   5517 non-null   object\n",
      "dtypes: object(8)\n",
      "memory usage: 344.9+ KB\n"
     ]
    }
   ],
   "source": [
    "d_internet.info()"
   ]
  },
  {
   "cell_type": "code",
   "execution_count": 18,
   "metadata": {},
   "outputs": [
    {
     "data": {
      "text/html": [
       "<div>\n",
       "<style scoped>\n",
       "    .dataframe tbody tr th:only-of-type {\n",
       "        vertical-align: middle;\n",
       "    }\n",
       "\n",
       "    .dataframe tbody tr th {\n",
       "        vertical-align: top;\n",
       "    }\n",
       "\n",
       "    .dataframe thead th {\n",
       "        text-align: right;\n",
       "    }\n",
       "</style>\n",
       "<table border=\"1\" class=\"dataframe\">\n",
       "  <thead>\n",
       "    <tr style=\"text-align: right;\">\n",
       "      <th></th>\n",
       "      <th>customerID</th>\n",
       "      <th>InternetService</th>\n",
       "      <th>OnlineSecurity</th>\n",
       "      <th>OnlineBackup</th>\n",
       "      <th>DeviceProtection</th>\n",
       "      <th>TechSupport</th>\n",
       "      <th>StreamingTV</th>\n",
       "      <th>StreamingMovies</th>\n",
       "    </tr>\n",
       "  </thead>\n",
       "  <tbody>\n",
       "    <tr>\n",
       "      <th>0</th>\n",
       "      <td>7590-VHVEG</td>\n",
       "      <td>DSL</td>\n",
       "      <td>No</td>\n",
       "      <td>Yes</td>\n",
       "      <td>No</td>\n",
       "      <td>No</td>\n",
       "      <td>No</td>\n",
       "      <td>No</td>\n",
       "    </tr>\n",
       "    <tr>\n",
       "      <th>1</th>\n",
       "      <td>5575-GNVDE</td>\n",
       "      <td>DSL</td>\n",
       "      <td>Yes</td>\n",
       "      <td>No</td>\n",
       "      <td>Yes</td>\n",
       "      <td>No</td>\n",
       "      <td>No</td>\n",
       "      <td>No</td>\n",
       "    </tr>\n",
       "    <tr>\n",
       "      <th>2</th>\n",
       "      <td>3668-QPYBK</td>\n",
       "      <td>DSL</td>\n",
       "      <td>Yes</td>\n",
       "      <td>Yes</td>\n",
       "      <td>No</td>\n",
       "      <td>No</td>\n",
       "      <td>No</td>\n",
       "      <td>No</td>\n",
       "    </tr>\n",
       "    <tr>\n",
       "      <th>3</th>\n",
       "      <td>7795-CFOCW</td>\n",
       "      <td>DSL</td>\n",
       "      <td>Yes</td>\n",
       "      <td>No</td>\n",
       "      <td>Yes</td>\n",
       "      <td>Yes</td>\n",
       "      <td>No</td>\n",
       "      <td>No</td>\n",
       "    </tr>\n",
       "    <tr>\n",
       "      <th>4</th>\n",
       "      <td>9237-HQITU</td>\n",
       "      <td>Fiber optic</td>\n",
       "      <td>No</td>\n",
       "      <td>No</td>\n",
       "      <td>No</td>\n",
       "      <td>No</td>\n",
       "      <td>No</td>\n",
       "      <td>No</td>\n",
       "    </tr>\n",
       "  </tbody>\n",
       "</table>\n",
       "</div>"
      ],
      "text/plain": [
       "   customerID InternetService OnlineSecurity OnlineBackup DeviceProtection  \\\n",
       "0  7590-VHVEG             DSL             No          Yes               No   \n",
       "1  5575-GNVDE             DSL            Yes           No              Yes   \n",
       "2  3668-QPYBK             DSL            Yes          Yes               No   \n",
       "3  7795-CFOCW             DSL            Yes           No              Yes   \n",
       "4  9237-HQITU     Fiber optic             No           No               No   \n",
       "\n",
       "  TechSupport StreamingTV StreamingMovies  \n",
       "0          No          No              No  \n",
       "1          No          No              No  \n",
       "2          No          No              No  \n",
       "3         Yes          No              No  \n",
       "4          No          No              No  "
      ]
     },
     "execution_count": 18,
     "metadata": {},
     "output_type": "execute_result"
    }
   ],
   "source": [
    "d_internet.head()"
   ]
  },
  {
   "cell_type": "code",
   "execution_count": 19,
   "metadata": {},
   "outputs": [],
   "source": [
    "\"\"\"\n",
    "функция, которая принимает датафрейм и список его категориальных полей и возвращает\n",
    "датафрейм category_distributions с долями категорий:\n",
    "\"\"\"\n",
    "def calculate_category_distributions(dataframe, categorical_fields):\n",
    "    category_distributions = pd.DataFrame()\n",
    "\n",
    "    for field in categorical_fields:\n",
    "        field_distribution = dataframe[field].value_counts(normalize=True)\n",
    "        field_distribution.name = field\n",
    "        category_distributions = pd.concat([category_distributions, field_distribution], axis=1)\n",
    "        \n",
    "    category_distributions = category_distributions.transpose()\n",
    "    category_distributions.columns.name = 'Category'\n",
    "    \n",
    "    return category_distributions"
   ]
  },
  {
   "cell_type": "code",
   "execution_count": 20,
   "metadata": {},
   "outputs": [
    {
     "data": {
      "text/html": [
       "<div>\n",
       "<style scoped>\n",
       "    .dataframe tbody tr th:only-of-type {\n",
       "        vertical-align: middle;\n",
       "    }\n",
       "\n",
       "    .dataframe tbody tr th {\n",
       "        vertical-align: top;\n",
       "    }\n",
       "\n",
       "    .dataframe thead th {\n",
       "        text-align: right;\n",
       "    }\n",
       "</style>\n",
       "<table border=\"1\" class=\"dataframe\">\n",
       "  <thead>\n",
       "    <tr style=\"text-align: right;\">\n",
       "      <th>Category</th>\n",
       "      <th>No</th>\n",
       "      <th>Yes</th>\n",
       "      <th>Fiber optic</th>\n",
       "      <th>DSL</th>\n",
       "    </tr>\n",
       "  </thead>\n",
       "  <tbody>\n",
       "    <tr>\n",
       "      <th>OnlineSecurity</th>\n",
       "      <td>0.634040</td>\n",
       "      <td>0.365960</td>\n",
       "      <td>NaN</td>\n",
       "      <td>NaN</td>\n",
       "    </tr>\n",
       "    <tr>\n",
       "      <th>OnlineBackup</th>\n",
       "      <td>0.559724</td>\n",
       "      <td>0.440276</td>\n",
       "      <td>NaN</td>\n",
       "      <td>NaN</td>\n",
       "    </tr>\n",
       "    <tr>\n",
       "      <th>DeviceProtection</th>\n",
       "      <td>0.560993</td>\n",
       "      <td>0.439007</td>\n",
       "      <td>NaN</td>\n",
       "      <td>NaN</td>\n",
       "    </tr>\n",
       "    <tr>\n",
       "      <th>TechSupport</th>\n",
       "      <td>0.629509</td>\n",
       "      <td>0.370491</td>\n",
       "      <td>NaN</td>\n",
       "      <td>NaN</td>\n",
       "    </tr>\n",
       "    <tr>\n",
       "      <th>StreamingTV</th>\n",
       "      <td>0.509335</td>\n",
       "      <td>0.490665</td>\n",
       "      <td>NaN</td>\n",
       "      <td>NaN</td>\n",
       "    </tr>\n",
       "    <tr>\n",
       "      <th>StreamingMovies</th>\n",
       "      <td>0.504803</td>\n",
       "      <td>0.495197</td>\n",
       "      <td>NaN</td>\n",
       "      <td>NaN</td>\n",
       "    </tr>\n",
       "    <tr>\n",
       "      <th>InternetService</th>\n",
       "      <td>NaN</td>\n",
       "      <td>NaN</td>\n",
       "      <td>0.561175</td>\n",
       "      <td>0.438825</td>\n",
       "    </tr>\n",
       "  </tbody>\n",
       "</table>\n",
       "</div>"
      ],
      "text/plain": [
       "Category                No       Yes  Fiber optic       DSL\n",
       "OnlineSecurity    0.634040  0.365960          NaN       NaN\n",
       "OnlineBackup      0.559724  0.440276          NaN       NaN\n",
       "DeviceProtection  0.560993  0.439007          NaN       NaN\n",
       "TechSupport       0.629509  0.370491          NaN       NaN\n",
       "StreamingTV       0.509335  0.490665          NaN       NaN\n",
       "StreamingMovies   0.504803  0.495197          NaN       NaN\n",
       "InternetService        NaN       NaN     0.561175  0.438825"
      ]
     },
     "execution_count": 20,
     "metadata": {},
     "output_type": "execute_result"
    }
   ],
   "source": [
    "# Получение долей категорий в каждом столбце\n",
    "calculate_category_distributions(d_internet, ['OnlineSecurity', 'OnlineBackup',\n",
    "                                             'DeviceProtection', 'TechSupport',\n",
    "                                             'StreamingTV', 'StreamingMovies','InternetService'])"
   ]
  },
  {
   "cell_type": "code",
   "execution_count": 21,
   "metadata": {},
   "outputs": [
    {
     "name": "stdout",
     "output_type": "stream",
     "text": [
      "Все клиенты в таблице встречаются не более одного раза\n"
     ]
    }
   ],
   "source": [
    "check_uniq_customers(d_internet)"
   ]
  },
  {
   "cell_type": "markdown",
   "metadata": {},
   "source": [
    "#### Первые EDA выводы. Датафрейм d_internet:\n",
    "- пропусков нет\n",
    "- все клиенты встречаются в таблице d_internet не более одного раза (дубликатов нет)\n",
    "- все поля каегориальные и имеют по два значения\n",
    "- значения во всех полях распределены примерно поровну"
   ]
  },
  {
   "cell_type": "markdown",
   "metadata": {},
   "source": [
    "### Датафрейм d_personal"
   ]
  },
  {
   "cell_type": "code",
   "execution_count": 22,
   "metadata": {},
   "outputs": [
    {
     "name": "stdout",
     "output_type": "stream",
     "text": [
      "<class 'pandas.core.frame.DataFrame'>\n",
      "RangeIndex: 7043 entries, 0 to 7042\n",
      "Data columns (total 5 columns):\n",
      " #   Column         Non-Null Count  Dtype \n",
      "---  ------         --------------  ----- \n",
      " 0   customerID     7043 non-null   object\n",
      " 1   gender         7043 non-null   object\n",
      " 2   SeniorCitizen  7043 non-null   int64 \n",
      " 3   Partner        7043 non-null   object\n",
      " 4   Dependents     7043 non-null   object\n",
      "dtypes: int64(1), object(4)\n",
      "memory usage: 275.2+ KB\n"
     ]
    }
   ],
   "source": [
    "d_personal.info()"
   ]
  },
  {
   "cell_type": "code",
   "execution_count": 23,
   "metadata": {},
   "outputs": [
    {
     "data": {
      "text/html": [
       "<div>\n",
       "<style scoped>\n",
       "    .dataframe tbody tr th:only-of-type {\n",
       "        vertical-align: middle;\n",
       "    }\n",
       "\n",
       "    .dataframe tbody tr th {\n",
       "        vertical-align: top;\n",
       "    }\n",
       "\n",
       "    .dataframe thead th {\n",
       "        text-align: right;\n",
       "    }\n",
       "</style>\n",
       "<table border=\"1\" class=\"dataframe\">\n",
       "  <thead>\n",
       "    <tr style=\"text-align: right;\">\n",
       "      <th></th>\n",
       "      <th>customerID</th>\n",
       "      <th>gender</th>\n",
       "      <th>SeniorCitizen</th>\n",
       "      <th>Partner</th>\n",
       "      <th>Dependents</th>\n",
       "    </tr>\n",
       "  </thead>\n",
       "  <tbody>\n",
       "    <tr>\n",
       "      <th>0</th>\n",
       "      <td>7590-VHVEG</td>\n",
       "      <td>Female</td>\n",
       "      <td>0</td>\n",
       "      <td>Yes</td>\n",
       "      <td>No</td>\n",
       "    </tr>\n",
       "    <tr>\n",
       "      <th>1</th>\n",
       "      <td>5575-GNVDE</td>\n",
       "      <td>Male</td>\n",
       "      <td>0</td>\n",
       "      <td>No</td>\n",
       "      <td>No</td>\n",
       "    </tr>\n",
       "    <tr>\n",
       "      <th>2</th>\n",
       "      <td>3668-QPYBK</td>\n",
       "      <td>Male</td>\n",
       "      <td>0</td>\n",
       "      <td>No</td>\n",
       "      <td>No</td>\n",
       "    </tr>\n",
       "    <tr>\n",
       "      <th>3</th>\n",
       "      <td>7795-CFOCW</td>\n",
       "      <td>Male</td>\n",
       "      <td>0</td>\n",
       "      <td>No</td>\n",
       "      <td>No</td>\n",
       "    </tr>\n",
       "    <tr>\n",
       "      <th>4</th>\n",
       "      <td>9237-HQITU</td>\n",
       "      <td>Female</td>\n",
       "      <td>0</td>\n",
       "      <td>No</td>\n",
       "      <td>No</td>\n",
       "    </tr>\n",
       "  </tbody>\n",
       "</table>\n",
       "</div>"
      ],
      "text/plain": [
       "   customerID  gender  SeniorCitizen Partner Dependents\n",
       "0  7590-VHVEG  Female              0     Yes         No\n",
       "1  5575-GNVDE    Male              0      No         No\n",
       "2  3668-QPYBK    Male              0      No         No\n",
       "3  7795-CFOCW    Male              0      No         No\n",
       "4  9237-HQITU  Female              0      No         No"
      ]
     },
     "execution_count": 23,
     "metadata": {},
     "output_type": "execute_result"
    }
   ],
   "source": [
    "d_personal.head()"
   ]
  },
  {
   "cell_type": "code",
   "execution_count": 24,
   "metadata": {},
   "outputs": [
    {
     "data": {
      "text/html": [
       "<div>\n",
       "<style scoped>\n",
       "    .dataframe tbody tr th:only-of-type {\n",
       "        vertical-align: middle;\n",
       "    }\n",
       "\n",
       "    .dataframe tbody tr th {\n",
       "        vertical-align: top;\n",
       "    }\n",
       "\n",
       "    .dataframe thead th {\n",
       "        text-align: right;\n",
       "    }\n",
       "</style>\n",
       "<table border=\"1\" class=\"dataframe\">\n",
       "  <thead>\n",
       "    <tr style=\"text-align: right;\">\n",
       "      <th>Category</th>\n",
       "      <th>Male</th>\n",
       "      <th>Female</th>\n",
       "      <th>0</th>\n",
       "      <th>1</th>\n",
       "      <th>No</th>\n",
       "      <th>Yes</th>\n",
       "    </tr>\n",
       "  </thead>\n",
       "  <tbody>\n",
       "    <tr>\n",
       "      <th>gender</th>\n",
       "      <td>0.504756</td>\n",
       "      <td>0.495244</td>\n",
       "      <td>NaN</td>\n",
       "      <td>NaN</td>\n",
       "      <td>NaN</td>\n",
       "      <td>NaN</td>\n",
       "    </tr>\n",
       "    <tr>\n",
       "      <th>SeniorCitizen</th>\n",
       "      <td>NaN</td>\n",
       "      <td>NaN</td>\n",
       "      <td>0.837853</td>\n",
       "      <td>0.162147</td>\n",
       "      <td>NaN</td>\n",
       "      <td>NaN</td>\n",
       "    </tr>\n",
       "    <tr>\n",
       "      <th>Partner</th>\n",
       "      <td>NaN</td>\n",
       "      <td>NaN</td>\n",
       "      <td>NaN</td>\n",
       "      <td>NaN</td>\n",
       "      <td>0.516967</td>\n",
       "      <td>0.483033</td>\n",
       "    </tr>\n",
       "    <tr>\n",
       "      <th>Dependents</th>\n",
       "      <td>NaN</td>\n",
       "      <td>NaN</td>\n",
       "      <td>NaN</td>\n",
       "      <td>NaN</td>\n",
       "      <td>0.700412</td>\n",
       "      <td>0.299588</td>\n",
       "    </tr>\n",
       "  </tbody>\n",
       "</table>\n",
       "</div>"
      ],
      "text/plain": [
       "Category           Male    Female         0         1        No       Yes\n",
       "gender         0.504756  0.495244       NaN       NaN       NaN       NaN\n",
       "SeniorCitizen       NaN       NaN  0.837853  0.162147       NaN       NaN\n",
       "Partner             NaN       NaN       NaN       NaN  0.516967  0.483033\n",
       "Dependents          NaN       NaN       NaN       NaN  0.700412  0.299588"
      ]
     },
     "execution_count": 24,
     "metadata": {},
     "output_type": "execute_result"
    }
   ],
   "source": [
    "# Получение долей категорий в каждом столбце\n",
    "calculate_category_distributions(d_personal, ['gender', 'SeniorCitizen',\n",
    "                                             'Partner', 'Dependents'])"
   ]
  },
  {
   "cell_type": "code",
   "execution_count": 25,
   "metadata": {},
   "outputs": [
    {
     "name": "stdout",
     "output_type": "stream",
     "text": [
      "Все клиенты в таблице встречаются не более одного раза\n"
     ]
    }
   ],
   "source": [
    "check_uniq_customers(d_personal)"
   ]
  },
  {
   "cell_type": "markdown",
   "metadata": {},
   "source": [
    "#### Первые EDA выводы. Датафрейм d_personal:\n",
    "- пропусков нет\n",
    "- все клиенты в таблице встречаются не более одного раза (дубликатов нет)\n",
    "- все поля каегориальные и имеют по два значения\n",
    "- значения во всех полях gender и Partner распределены примерно поровну, в полях SeniorCitizen и Dependents с преобладанием нулевого класса"
   ]
  },
  {
   "cell_type": "markdown",
   "metadata": {},
   "source": [
    "### Датафрейм d_phone"
   ]
  },
  {
   "cell_type": "code",
   "execution_count": 26,
   "metadata": {
    "scrolled": true
   },
   "outputs": [
    {
     "name": "stdout",
     "output_type": "stream",
     "text": [
      "<class 'pandas.core.frame.DataFrame'>\n",
      "RangeIndex: 6361 entries, 0 to 6360\n",
      "Data columns (total 2 columns):\n",
      " #   Column         Non-Null Count  Dtype \n",
      "---  ------         --------------  ----- \n",
      " 0   customerID     6361 non-null   object\n",
      " 1   MultipleLines  6361 non-null   object\n",
      "dtypes: object(2)\n",
      "memory usage: 99.5+ KB\n"
     ]
    }
   ],
   "source": [
    "d_phone.info()"
   ]
  },
  {
   "cell_type": "code",
   "execution_count": 27,
   "metadata": {},
   "outputs": [
    {
     "data": {
      "text/html": [
       "<div>\n",
       "<style scoped>\n",
       "    .dataframe tbody tr th:only-of-type {\n",
       "        vertical-align: middle;\n",
       "    }\n",
       "\n",
       "    .dataframe tbody tr th {\n",
       "        vertical-align: top;\n",
       "    }\n",
       "\n",
       "    .dataframe thead th {\n",
       "        text-align: right;\n",
       "    }\n",
       "</style>\n",
       "<table border=\"1\" class=\"dataframe\">\n",
       "  <thead>\n",
       "    <tr style=\"text-align: right;\">\n",
       "      <th></th>\n",
       "      <th>customerID</th>\n",
       "      <th>MultipleLines</th>\n",
       "    </tr>\n",
       "  </thead>\n",
       "  <tbody>\n",
       "    <tr>\n",
       "      <th>0</th>\n",
       "      <td>5575-GNVDE</td>\n",
       "      <td>No</td>\n",
       "    </tr>\n",
       "    <tr>\n",
       "      <th>1</th>\n",
       "      <td>3668-QPYBK</td>\n",
       "      <td>No</td>\n",
       "    </tr>\n",
       "    <tr>\n",
       "      <th>2</th>\n",
       "      <td>9237-HQITU</td>\n",
       "      <td>No</td>\n",
       "    </tr>\n",
       "    <tr>\n",
       "      <th>3</th>\n",
       "      <td>9305-CDSKC</td>\n",
       "      <td>Yes</td>\n",
       "    </tr>\n",
       "    <tr>\n",
       "      <th>4</th>\n",
       "      <td>1452-KIOVK</td>\n",
       "      <td>Yes</td>\n",
       "    </tr>\n",
       "  </tbody>\n",
       "</table>\n",
       "</div>"
      ],
      "text/plain": [
       "   customerID MultipleLines\n",
       "0  5575-GNVDE            No\n",
       "1  3668-QPYBK            No\n",
       "2  9237-HQITU            No\n",
       "3  9305-CDSKC           Yes\n",
       "4  1452-KIOVK           Yes"
      ]
     },
     "execution_count": 27,
     "metadata": {},
     "output_type": "execute_result"
    }
   ],
   "source": [
    "d_phone.head()"
   ]
  },
  {
   "cell_type": "code",
   "execution_count": 28,
   "metadata": {},
   "outputs": [
    {
     "data": {
      "text/html": [
       "<div>\n",
       "<style scoped>\n",
       "    .dataframe tbody tr th:only-of-type {\n",
       "        vertical-align: middle;\n",
       "    }\n",
       "\n",
       "    .dataframe tbody tr th {\n",
       "        vertical-align: top;\n",
       "    }\n",
       "\n",
       "    .dataframe thead th {\n",
       "        text-align: right;\n",
       "    }\n",
       "</style>\n",
       "<table border=\"1\" class=\"dataframe\">\n",
       "  <thead>\n",
       "    <tr style=\"text-align: right;\">\n",
       "      <th>Category</th>\n",
       "      <th>No</th>\n",
       "      <th>Yes</th>\n",
       "    </tr>\n",
       "  </thead>\n",
       "  <tbody>\n",
       "    <tr>\n",
       "      <th>MultipleLines</th>\n",
       "      <td>0.532935</td>\n",
       "      <td>0.467065</td>\n",
       "    </tr>\n",
       "  </tbody>\n",
       "</table>\n",
       "</div>"
      ],
      "text/plain": [
       "Category             No       Yes\n",
       "MultipleLines  0.532935  0.467065"
      ]
     },
     "execution_count": 28,
     "metadata": {},
     "output_type": "execute_result"
    }
   ],
   "source": [
    "# Получение долей категорий в каждом столбце\n",
    "calculate_category_distributions(d_phone, ['MultipleLines'])"
   ]
  },
  {
   "cell_type": "code",
   "execution_count": 29,
   "metadata": {},
   "outputs": [
    {
     "name": "stdout",
     "output_type": "stream",
     "text": [
      "Все клиенты в таблице встречаются не более одного раза\n"
     ]
    }
   ],
   "source": [
    "check_uniq_customers(d_phone)"
   ]
  },
  {
   "cell_type": "markdown",
   "metadata": {},
   "source": [
    "#### Первые EDA выводы. Датафрейм d_phone:\n",
    "- пропусков нет\n",
    "- все клиенты в таблице встречаются не более одного раза (дубликатов нет)\n",
    "- все поля каегориальные и имеют по два значения\n",
    "- значения в поле  распределены MultipleLines примерно поровну."
   ]
  },
  {
   "cell_type": "markdown",
   "metadata": {},
   "source": [
    "## Сравним и объединим таблицы"
   ]
  },
  {
   "cell_type": "markdown",
   "metadata": {},
   "source": [
    "Посмотрим совпадения / расхождения по полю customerID"
   ]
  },
  {
   "cell_type": "code",
   "execution_count": 30,
   "metadata": {},
   "outputs": [],
   "source": [
    "# Общий список клиентов\n",
    "all_customer_ids = pd.concat([\n",
    "    d_contract['customerID'],d_internet['customerID'],\n",
    "    d_personal['customerID'],d_phone['customerID']\n",
    "]).unique().tolist()"
   ]
  },
  {
   "cell_type": "code",
   "execution_count": 31,
   "metadata": {
    "scrolled": true
   },
   "outputs": [
    {
     "name": "stdout",
     "output_type": "stream",
     "text": [
      "Количество уникальных customerID, в объединенном списке:  7043\n",
      "\n",
      "Таблица - Количество уникальных customerID, которого не хвадает до объединенного списка:\n",
      "d_contract  -  0\n",
      "d_internet  -  1526\n",
      "d_personal  -  0\n",
      "d_phone  -  682\n"
     ]
    }
   ],
   "source": [
    "print('Количество уникальных customerID, в объединенном списке: ',len(all_customer_ids))\n",
    "print()\n",
    "print('Таблица - Количество уникальных customerID, которого не хвадает до объединенного списка:')\n",
    "for d in d_list:\n",
    "    l = len(list(set(all_customer_ids)-set(eval('d_'+d+'[\"customerID\"]'))))\n",
    "    print('d_'+d,' - ',l)"
   ]
  },
  {
   "cell_type": "markdown",
   "metadata": {},
   "source": [
    "Видим, что уникальные значения поля customerID в таблицах d_contract, d_personal в точности совпадают между собой и с общим (объединенным) списком.\n",
    "\n",
    "Около 10% клиентов не пользуются телефоном и около 15% не пользуются интернетом. Также, очевидно, что основная часть клиентов пользуется и телефоном и интернетом\n",
    "\n",
    "Соответственно, при объединении таблиц мы получим пустые значения для части клиентов в полях для интернет и телефонной таблиц"
   ]
  },
  {
   "cell_type": "code",
   "execution_count": 32,
   "metadata": {},
   "outputs": [],
   "source": [
    "# установим в качестве индекса значения поля customerID\n",
    "for d in d_list:\n",
    "    eval('d_' + d).set_index('customerID', inplace=True)"
   ]
  },
  {
   "cell_type": "code",
   "execution_count": 33,
   "metadata": {},
   "outputs": [],
   "source": [
    "# объединим таблицы\n",
    "df = pd.concat([eval('d_' + item) for item in d_list], axis=1)"
   ]
  },
  {
   "cell_type": "code",
   "execution_count": 34,
   "metadata": {},
   "outputs": [
    {
     "name": "stdout",
     "output_type": "stream",
     "text": [
      "<class 'pandas.core.frame.DataFrame'>\n",
      "Index: 7043 entries, 7590-VHVEG to 3186-AJIEK\n",
      "Data columns (total 19 columns):\n",
      " #   Column            Non-Null Count  Dtype  \n",
      "---  ------            --------------  -----  \n",
      " 0   BeginDate         7043 non-null   object \n",
      " 1   EndDate           7043 non-null   object \n",
      " 2   Type              7043 non-null   object \n",
      " 3   PaperlessBilling  7043 non-null   object \n",
      " 4   PaymentMethod     7043 non-null   object \n",
      " 5   MonthlyCharges    7043 non-null   float64\n",
      " 6   TotalCharges      7043 non-null   float64\n",
      " 7   InternetService   5517 non-null   object \n",
      " 8   OnlineSecurity    5517 non-null   object \n",
      " 9   OnlineBackup      5517 non-null   object \n",
      " 10  DeviceProtection  5517 non-null   object \n",
      " 11  TechSupport       5517 non-null   object \n",
      " 12  StreamingTV       5517 non-null   object \n",
      " 13  StreamingMovies   5517 non-null   object \n",
      " 14  gender            7043 non-null   object \n",
      " 15  SeniorCitizen     7043 non-null   int64  \n",
      " 16  Partner           7043 non-null   object \n",
      " 17  Dependents        7043 non-null   object \n",
      " 18  MultipleLines     6361 non-null   object \n",
      "dtypes: float64(2), int64(1), object(16)\n",
      "memory usage: 1.1+ MB\n"
     ]
    }
   ],
   "source": [
    "df.info()"
   ]
  },
  {
   "cell_type": "markdown",
   "metadata": {},
   "source": [
    "Обработаем категориальные признаки.\n",
    "- Поля таблиц d_contact: `['BeginDate', 'EndDate', 'Type', 'PaperlessBilling', 'PaymentMethod', 'MonthlyCharges', 'TotalCharges']` и d_personal: `['gender', 'SeniorCitizen', 'Partner', 'Dependents']` не имеют пропусков\n",
    "- поля таблиц d_internet `['InternetService', 'OnlineSecurity', 'OnlineBackup', 'DeviceProtection','TechSupport', 'StreamingTV', 'StreamingMovies']` и d_phone `['MultipleLines']` имеют бинарные значения. Пропуски в них заменим на `'N_A'`"
   ]
  },
  {
   "cell_type": "code",
   "execution_count": 35,
   "metadata": {},
   "outputs": [],
   "source": [
    "# создадим список категориальных полей\n",
    "cat_features = (['Type', 'PaymentMethod', 'PaperlessBilling'] + \n",
    "    list(d_personal.columns) + \n",
    "    list(d_internet.columns) + \n",
    "    list(d_phone.columns))"
   ]
  },
  {
   "cell_type": "code",
   "execution_count": 36,
   "metadata": {},
   "outputs": [],
   "source": [
    "# заменим пропуски на 'N_A'\n",
    "for feild in cat_features: df[feild] = df[feild].fillna('N_A')"
   ]
  },
  {
   "cell_type": "markdown",
   "metadata": {},
   "source": [
    "<div style=\"background: #B0E0E6; padding: 5px; border: 1px solid SteelBlue; border-radius: 5px;\">\n",
    "    <font color='4682B4'><u><b>__</b></u></font>\n",
    "    <br />\n",
    "    <font color='4682B4'> Замена пропущенных значений в полях с категориальными значениями на новое значение 'N_A' вместо 'No' может быть обоснована следующими причинами:\n",
    "\n",
    "Отдельное значение для пропущенных данных: Иногда пропущенные значения могут иметь свою собственную семантику и не являться просто отсутствием значения. В данном случае, использование значения 'N_A' может указывать на отсутствие данных или недоступность информации, что отличается от значения 'No', которое обычно используется для указания явного отрицания или отсутствия.\n",
    "\n",
    "Предотвращение искажений в анализе: Замена пропущенных значений категориальных переменных на конкретное значение, такое как 'No', может внести искажения в анализ данных и моделирование. Это связано с тем, что пропуски могут иметь свою собственную структуру или неслучайный характер, и присвоение им конкретного значения может исказить распределение данных и влиять на результаты анализа.\n",
    "\n",
    "Лучшая интерпретируемость результатов: Использование отдельного значения, такого как 'N_A', помогает явно отличать пропущенные значения от других категорий, таких как 'Yes' и 'No'. Это может быть полезно при интерпретации результатов анализа или моделирования, поскольку исключает неопределенность, связанную с неприсутствующими данными.\n",
    "   </font>\n",
    "</div>"
   ]
  },
  {
   "cell_type": "markdown",
   "metadata": {},
   "source": [
    "<div style=\"background: #B0E0E6; padding: 5px; border: 1px solid SteelBlue; border-radius: 5px;\">\n",
    "    <font color='4682B4'><u><b>__</b></u></font>\n",
    "    <br />\n",
    "    <font color='4682B4'> \n",
    "У нас есть информация обо всех услугах, которыми пользуется клиент, и мы можем проследить, какие конкретно услуги у него подключены или не подключены. Поэтому использование значения 'No' для пропущенных значений может неправильно указывать на отсутствие подключенного пакета услуг, когда на самом деле у клиента может быть подключен другой пакет или он вообще не пользуется услугами.\n",
    "\n",
    "Замена пропусков на новое значение 'N_A' позволяет нам явно указать, что для данных клиентов нет доступных данных о пакете услуг или конкретных услугах. Таким образом, мы сохраняем информацию о пропущенных данных и отличаем их от случаев, когда клиент не подключен к конкретному пакету услуг.\n",
    "   </font>\n",
    "</div>"
   ]
  },
  {
   "cell_type": "code",
   "execution_count": 37,
   "metadata": {},
   "outputs": [
    {
     "data": {
      "text/html": [
       "<div>\n",
       "<style scoped>\n",
       "    .dataframe tbody tr th:only-of-type {\n",
       "        vertical-align: middle;\n",
       "    }\n",
       "\n",
       "    .dataframe tbody tr th {\n",
       "        vertical-align: top;\n",
       "    }\n",
       "\n",
       "    .dataframe thead th {\n",
       "        text-align: right;\n",
       "    }\n",
       "</style>\n",
       "<table border=\"1\" class=\"dataframe\">\n",
       "  <thead>\n",
       "    <tr style=\"text-align: right;\">\n",
       "      <th></th>\n",
       "      <th>Type</th>\n",
       "      <th>PaymentMethod</th>\n",
       "      <th>PaperlessBilling</th>\n",
       "      <th>gender</th>\n",
       "      <th>SeniorCitizen</th>\n",
       "      <th>Partner</th>\n",
       "      <th>Dependents</th>\n",
       "      <th>InternetService</th>\n",
       "      <th>OnlineSecurity</th>\n",
       "      <th>OnlineBackup</th>\n",
       "      <th>DeviceProtection</th>\n",
       "      <th>TechSupport</th>\n",
       "      <th>StreamingTV</th>\n",
       "      <th>StreamingMovies</th>\n",
       "      <th>MultipleLines</th>\n",
       "    </tr>\n",
       "    <tr>\n",
       "      <th>customerID</th>\n",
       "      <th></th>\n",
       "      <th></th>\n",
       "      <th></th>\n",
       "      <th></th>\n",
       "      <th></th>\n",
       "      <th></th>\n",
       "      <th></th>\n",
       "      <th></th>\n",
       "      <th></th>\n",
       "      <th></th>\n",
       "      <th></th>\n",
       "      <th></th>\n",
       "      <th></th>\n",
       "      <th></th>\n",
       "      <th></th>\n",
       "    </tr>\n",
       "  </thead>\n",
       "  <tbody>\n",
       "    <tr>\n",
       "      <th>7590-VHVEG</th>\n",
       "      <td>Month-to-month</td>\n",
       "      <td>Electronic check</td>\n",
       "      <td>Yes</td>\n",
       "      <td>Female</td>\n",
       "      <td>0</td>\n",
       "      <td>Yes</td>\n",
       "      <td>No</td>\n",
       "      <td>DSL</td>\n",
       "      <td>No</td>\n",
       "      <td>Yes</td>\n",
       "      <td>No</td>\n",
       "      <td>No</td>\n",
       "      <td>No</td>\n",
       "      <td>No</td>\n",
       "      <td>N_A</td>\n",
       "    </tr>\n",
       "    <tr>\n",
       "      <th>5575-GNVDE</th>\n",
       "      <td>One year</td>\n",
       "      <td>Mailed check</td>\n",
       "      <td>No</td>\n",
       "      <td>Male</td>\n",
       "      <td>0</td>\n",
       "      <td>No</td>\n",
       "      <td>No</td>\n",
       "      <td>DSL</td>\n",
       "      <td>Yes</td>\n",
       "      <td>No</td>\n",
       "      <td>Yes</td>\n",
       "      <td>No</td>\n",
       "      <td>No</td>\n",
       "      <td>No</td>\n",
       "      <td>No</td>\n",
       "    </tr>\n",
       "    <tr>\n",
       "      <th>3668-QPYBK</th>\n",
       "      <td>Month-to-month</td>\n",
       "      <td>Mailed check</td>\n",
       "      <td>Yes</td>\n",
       "      <td>Male</td>\n",
       "      <td>0</td>\n",
       "      <td>No</td>\n",
       "      <td>No</td>\n",
       "      <td>DSL</td>\n",
       "      <td>Yes</td>\n",
       "      <td>Yes</td>\n",
       "      <td>No</td>\n",
       "      <td>No</td>\n",
       "      <td>No</td>\n",
       "      <td>No</td>\n",
       "      <td>No</td>\n",
       "    </tr>\n",
       "    <tr>\n",
       "      <th>7795-CFOCW</th>\n",
       "      <td>One year</td>\n",
       "      <td>Bank transfer (automatic)</td>\n",
       "      <td>No</td>\n",
       "      <td>Male</td>\n",
       "      <td>0</td>\n",
       "      <td>No</td>\n",
       "      <td>No</td>\n",
       "      <td>DSL</td>\n",
       "      <td>Yes</td>\n",
       "      <td>No</td>\n",
       "      <td>Yes</td>\n",
       "      <td>Yes</td>\n",
       "      <td>No</td>\n",
       "      <td>No</td>\n",
       "      <td>N_A</td>\n",
       "    </tr>\n",
       "    <tr>\n",
       "      <th>9237-HQITU</th>\n",
       "      <td>Month-to-month</td>\n",
       "      <td>Electronic check</td>\n",
       "      <td>Yes</td>\n",
       "      <td>Female</td>\n",
       "      <td>0</td>\n",
       "      <td>No</td>\n",
       "      <td>No</td>\n",
       "      <td>Fiber optic</td>\n",
       "      <td>No</td>\n",
       "      <td>No</td>\n",
       "      <td>No</td>\n",
       "      <td>No</td>\n",
       "      <td>No</td>\n",
       "      <td>No</td>\n",
       "      <td>No</td>\n",
       "    </tr>\n",
       "  </tbody>\n",
       "</table>\n",
       "</div>"
      ],
      "text/plain": [
       "                      Type              PaymentMethod PaperlessBilling  \\\n",
       "customerID                                                               \n",
       "7590-VHVEG  Month-to-month           Electronic check              Yes   \n",
       "5575-GNVDE        One year               Mailed check               No   \n",
       "3668-QPYBK  Month-to-month               Mailed check              Yes   \n",
       "7795-CFOCW        One year  Bank transfer (automatic)               No   \n",
       "9237-HQITU  Month-to-month           Electronic check              Yes   \n",
       "\n",
       "            gender  SeniorCitizen Partner Dependents InternetService  \\\n",
       "customerID                                                             \n",
       "7590-VHVEG  Female              0     Yes         No             DSL   \n",
       "5575-GNVDE    Male              0      No         No             DSL   \n",
       "3668-QPYBK    Male              0      No         No             DSL   \n",
       "7795-CFOCW    Male              0      No         No             DSL   \n",
       "9237-HQITU  Female              0      No         No     Fiber optic   \n",
       "\n",
       "           OnlineSecurity OnlineBackup DeviceProtection TechSupport  \\\n",
       "customerID                                                            \n",
       "7590-VHVEG             No          Yes               No          No   \n",
       "5575-GNVDE            Yes           No              Yes          No   \n",
       "3668-QPYBK            Yes          Yes               No          No   \n",
       "7795-CFOCW            Yes           No              Yes         Yes   \n",
       "9237-HQITU             No           No               No          No   \n",
       "\n",
       "           StreamingTV StreamingMovies MultipleLines  \n",
       "customerID                                            \n",
       "7590-VHVEG          No              No           N_A  \n",
       "5575-GNVDE          No              No            No  \n",
       "3668-QPYBK          No              No            No  \n",
       "7795-CFOCW          No              No           N_A  \n",
       "9237-HQITU          No              No            No  "
      ]
     },
     "execution_count": 37,
     "metadata": {},
     "output_type": "execute_result"
    }
   ],
   "source": [
    "df[cat_features].head()"
   ]
  },
  {
   "cell_type": "markdown",
   "metadata": {},
   "source": [
    "Разберемся с датами"
   ]
  },
  {
   "cell_type": "markdown",
   "metadata": {},
   "source": [
    "<div style=\"background: #B0E0E6; padding: 5px; border: 1px solid SteelBlue; border-radius: 5px;\">\n",
    "    <font color='4682B4'><u><b>__</b></u></font>\n",
    "    <br />\n",
    "    <font color='4682B4'> Проверим даты в поле `EndDate`. Мы будем использовать данное поле для вычисления меток целевого значения. Принцип определения меток: если у клиента нет даты окончания договора, его можно считать неушедшим. Это можно сделать на данном этапе, создав поле `churn`, но мы пока не знаем как пересекаются множества значений полей `customerID` в разных таблицах. Поэтому логично будет значения `No` заменить на значения даты среза базы данных PARSE_DATE = 2020-02-01. Но предварительно надо проверить есть ли в таблице клиенты, которые ушли в эту дату, поскольку, ориентируясь на 2020-02-01 как на признак неушедших клиентов, мы можем ошибочно к ним отнести фактически ушедших.\n",
    "   </font>\n",
    "</div>"
   ]
  },
  {
   "cell_type": "code",
   "execution_count": 38,
   "metadata": {},
   "outputs": [
    {
     "data": {
      "text/plain": [
       "'2020-01-01'"
      ]
     },
     "execution_count": 38,
     "metadata": {},
     "output_type": "execute_result"
    }
   ],
   "source": [
    "# последняя дата для \"ушедших\" клиентов\n",
    "df.loc[d_contract['EndDate'] != 'No', 'EndDate'].max()"
   ]
  },
  {
   "cell_type": "code",
   "execution_count": 39,
   "metadata": {},
   "outputs": [
    {
     "data": {
      "text/plain": [
       "'2020-02-01'"
      ]
     },
     "execution_count": 39,
     "metadata": {},
     "output_type": "execute_result"
    }
   ],
   "source": [
    "PARSE_DATE"
   ]
  },
  {
   "cell_type": "code",
   "execution_count": 40,
   "metadata": {},
   "outputs": [
    {
     "data": {
      "text/plain": [
       "0"
      ]
     },
     "execution_count": 40,
     "metadata": {},
     "output_type": "execute_result"
    }
   ],
   "source": [
    "df[df['EndDate']==PARSE_DATE]['EndDate'].count()"
   ]
  },
  {
   "cell_type": "markdown",
   "metadata": {},
   "source": [
    "<div style=\"background: #B0E0E6; padding: 5px; border: 1px solid SteelBlue; border-radius: 5px;\">\n",
    "    <font color='4682B4'><u><b>__</b></u></font>\n",
    "    <br />\n",
    "    <font color='4682B4'> Видим, что клиентов, ушедших в `PARSE_DATE` нет. Таким образом замена `No` на `PARSE_DATE` законна.\n",
    "   </font>\n",
    "</div>"
   ]
  },
  {
   "cell_type": "markdown",
   "metadata": {},
   "source": [
    "<div style=\"background: #B0E0E6; padding: 5px; border: 1px solid SteelBlue; border-radius: 5px;\">\n",
    "    <font color='4682B4'><u><b></b></u></font>\n",
    "    <br />\n",
    "    <font color='4682B4'> Перед заменой 'EndDate' на `PARSE_DATE` используем значение `No` для определения меток в поле целевого значения.\n",
    "   </font>\n",
    "</div>"
   ]
  },
  {
   "cell_type": "code",
   "execution_count": 41,
   "metadata": {},
   "outputs": [
    {
     "data": {
      "text/plain": [
       "churn\n",
       "0    0.843675\n",
       "1    0.156325\n",
       "Name: proportion, dtype: float64"
      ]
     },
     "execution_count": 41,
     "metadata": {},
     "output_type": "execute_result"
    }
   ],
   "source": [
    "# создадим столбец с целевой меткой\n",
    "max_end_date = PARSE_DATE\n",
    "df['churn'] = (df['EndDate'] != 'No').astype(int)\n",
    "df['churn'].value_counts(normalize=True)"
   ]
  },
  {
   "cell_type": "code",
   "execution_count": 42,
   "metadata": {},
   "outputs": [],
   "source": [
    "# Обработка значений \"No\" в поле EndDate\n",
    "df.loc[df['EndDate'] == 'No', 'EndDate'] = PARSE_DATE"
   ]
  },
  {
   "cell_type": "code",
   "execution_count": 43,
   "metadata": {},
   "outputs": [],
   "source": [
    "# Изменение типа на datetime\n",
    "df['EndDate'] = pd.to_datetime(df['EndDate'])\n",
    "df['BeginDate'] = pd.to_datetime(df['BeginDate'])"
   ]
  },
  {
   "cell_type": "markdown",
   "metadata": {},
   "source": [
    "Общая доля ушедших клиентов - 15,6%"
   ]
  },
  {
   "cell_type": "markdown",
   "metadata": {},
   "source": [
    "Оценим дискретность значений в столбцах df['EndDate'] и df['BeginDate'] - т.е. какие характерные даты там встречаются (только соответствующие началу месяца или также есть даты внутри месяца)"
   ]
  },
  {
   "cell_type": "code",
   "execution_count": 44,
   "metadata": {},
   "outputs": [],
   "source": [
    "begin_dates = pd.to_datetime(df['BeginDate'])\n",
    "end_dates = pd.to_datetime(df['EndDate'])"
   ]
  },
  {
   "cell_type": "code",
   "execution_count": 45,
   "metadata": {
    "scrolled": true
   },
   "outputs": [
    {
     "name": "stdout",
     "output_type": "stream",
     "text": [
      "Количество дат в столбце BeginDate, соответствующих маске \"yyyy.mm.01\":\n",
      "7043\n",
      "Даты в столбце BeginDate, не соответствующие маске \"yyyy.mm.01\":\n",
      "Series([], Name: BeginDate, dtype: datetime64[ns])\n",
      "\n",
      "Количество дат в столбце EndDate, соответствующих маске \"yyyy.mm.01\":\n",
      "7043\n",
      "Даты в столбце EndDate, не соответствующие маске \"yyyy.mm.01\":\n",
      "Series([], Name: EndDate, dtype: datetime64[ns])\n"
     ]
    }
   ],
   "source": [
    "begin_dates_masked = begin_dates.dt.strftime('%Y.%m.%d').str.endswith('.01')\n",
    "end_dates_masked = end_dates.dt.strftime('%Y.%m.%d').str.endswith('.01')\n",
    "\n",
    "print('Количество дат в столбце BeginDate, соответствующих маске \"yyyy.mm.01\":')\n",
    "print(len(begin_dates[begin_dates_masked]))\n",
    "print('Даты в столбце BeginDate, не соответствующие маске \"yyyy.mm.01\":')\n",
    "print(begin_dates[~begin_dates_masked])\n",
    "print()\n",
    "print('Количество дат в столбце EndDate, соответствующих маске \"yyyy.mm.01\":')\n",
    "print(len(end_dates[end_dates_masked]))\n",
    "print('Даты в столбце EndDate, не соответствующие маске \"yyyy.mm.01\":')\n",
    "print(end_dates[~end_dates_masked])"
   ]
  },
  {
   "cell_type": "markdown",
   "metadata": {},
   "source": [
    "Видим, что все даты соответствуют маске yyyy.mm.01. Будем считать длительность действия договора в днях"
   ]
  },
  {
   "cell_type": "code",
   "execution_count": 46,
   "metadata": {},
   "outputs": [],
   "source": [
    "df['Duration'] = (df['EndDate'] - df['BeginDate']).dt.days"
   ]
  },
  {
   "cell_type": "markdown",
   "metadata": {},
   "source": [
    "Теперь создадим список полей с численными значениями"
   ]
  },
  {
   "cell_type": "code",
   "execution_count": 47,
   "metadata": {},
   "outputs": [],
   "source": [
    "num_features = ['Duration','MonthlyCharges','TotalCharges']"
   ]
  },
  {
   "cell_type": "markdown",
   "metadata": {},
   "source": [
    "## Исследование данных"
   ]
  },
  {
   "cell_type": "code",
   "execution_count": 48,
   "metadata": {},
   "outputs": [
    {
     "data": {
      "image/png": "[encoded data removed]",
      "text/plain": [
       "<Figure size 640x480 with 2 Axes>"
      ]
     },
     "metadata": {},
     "output_type": "display_data"
    }
   ],
   "source": [
    "sns.heatmap(df[num_features].corr(),annot=True, cmap='magma', vmin=-1, vmax=1)\n",
    "plt.title('Матрица корреляции числовых полей')\n",
    "plt.show()"
   ]
  },
  {
   "cell_type": "markdown",
   "metadata": {},
   "source": [
    "Видим, что общие затраты имеуют условно высокий уровень прямой зависимости от времени жизни контракта. И чуть менее слабую прямую зависимость от ежемесячных платежей. Эти зависимости очевидны."
   ]
  },
  {
   "cell_type": "code",
   "execution_count": 49,
   "metadata": {},
   "outputs": [
    {
     "name": "stdout",
     "output_type": "stream",
     "text": [
      "<class 'pandas.core.frame.DataFrame'>\n",
      "Index: 7043 entries, 7590-VHVEG to 3186-AJIEK\n",
      "Data columns (total 21 columns):\n",
      " #   Column            Non-Null Count  Dtype         \n",
      "---  ------            --------------  -----         \n",
      " 0   BeginDate         7043 non-null   datetime64[ns]\n",
      " 1   EndDate           7043 non-null   datetime64[ns]\n",
      " 2   Type              7043 non-null   object        \n",
      " 3   PaperlessBilling  7043 non-null   object        \n",
      " 4   PaymentMethod     7043 non-null   object        \n",
      " 5   MonthlyCharges    7043 non-null   float64       \n",
      " 6   TotalCharges      7043 non-null   float64       \n",
      " 7   InternetService   7043 non-null   object        \n",
      " 8   OnlineSecurity    7043 non-null   object        \n",
      " 9   OnlineBackup      7043 non-null   object        \n",
      " 10  DeviceProtection  7043 non-null   object        \n",
      " 11  TechSupport       7043 non-null   object        \n",
      " 12  StreamingTV       7043 non-null   object        \n",
      " 13  StreamingMovies   7043 non-null   object        \n",
      " 14  gender            7043 non-null   object        \n",
      " 15  SeniorCitizen     7043 non-null   int64         \n",
      " 16  Partner           7043 non-null   object        \n",
      " 17  Dependents        7043 non-null   object        \n",
      " 18  MultipleLines     7043 non-null   object        \n",
      " 19  churn             7043 non-null   int32         \n",
      " 20  Duration          7043 non-null   int64         \n",
      "dtypes: datetime64[ns](2), float64(2), int32(1), int64(2), object(14)\n",
      "memory usage: 1.2+ MB\n"
     ]
    }
   ],
   "source": [
    "df.info()"
   ]
  },
  {
   "cell_type": "code",
   "execution_count": 50,
   "metadata": {},
   "outputs": [
    {
     "name": "stdout",
     "output_type": "stream",
     "text": [
      "                  BeginDate   EndDate      Type  PaperlessBilling  \\\n",
      "BeginDate          1.000000  0.548313  0.766249          0.081447   \n",
      "EndDate            0.548313  1.000000  0.285429          0.062936   \n",
      "Type               0.766249  0.285429  1.000000          0.106860   \n",
      "PaperlessBilling   0.081447  0.062936  0.106860          1.000000   \n",
      "PaymentMethod      0.456389  0.169262  0.277462          0.370495   \n",
      "MonthlyCharges     0.421886  0.173493  0.388444          0.467812   \n",
      "TotalCharges       0.774207  0.217670  0.470860          0.201703   \n",
      "InternetService    0.192197  0.117099  0.505187          0.231438   \n",
      "OnlineSecurity     0.460712  0.166235  0.636884          0.208320   \n",
      "OnlineBackup       0.496176  0.236373  0.581660          0.195321   \n",
      "DeviceProtection   0.502422  0.225828  0.631531          0.195687   \n",
      "TechSupport        0.455418  0.150303  0.671629          0.200621   \n",
      "StreamingTV        0.419599  0.185980  0.549564          0.204717   \n",
      "StreamingMovies    0.431137  0.199118  0.553556          0.202241   \n",
      "gender             0.011268  0.018274  0.000000          0.000000   \n",
      "SeniorCitizen      0.050862  0.090502  0.086231          0.242133   \n",
      "Partner            0.473514  0.177492  0.179736          0.013218   \n",
      "Dependents         0.208564  0.055518  0.147680          0.172593   \n",
      "MultipleLines      0.468035  0.249504  0.244410          0.099953   \n",
      "churn              0.450254  1.000000  0.094015          0.083398   \n",
      "Duration           0.978521  0.396342  0.634155          0.026799   \n",
      "\n",
      "                  PaymentMethod  MonthlyCharges  TotalCharges  \\\n",
      "BeginDate              0.456389        0.421886      0.774207   \n",
      "EndDate                0.169262        0.173493      0.217670   \n",
      "Type                   0.277462        0.388444      0.470860   \n",
      "PaperlessBilling       0.370495        0.467812      0.201703   \n",
      "PaymentMethod          1.000000        0.399526      0.335666   \n",
      "MonthlyCharges         0.399526        1.000000      0.710905   \n",
      "TotalCharges           0.335666        0.710905      1.000000   \n",
      "InternetService        0.323886        0.919002      0.490081   \n",
      "OnlineSecurity         0.315799        0.812632      0.516538   \n",
      "OnlineBackup           0.293413        0.818851      0.550544   \n",
      "DeviceProtection       0.297923        0.827272      0.558393   \n",
      "TechSupport            0.317713        0.816660      0.527838   \n",
      "StreamingTV            0.284531        0.864677      0.555322   \n",
      "StreamingMovies        0.285525        0.863616      0.554030   \n",
      "gender                 0.000000        0.008175      0.000000   \n",
      "SeniorCitizen          0.292725        0.304985      0.135650   \n",
      "Partner                0.243008        0.203545      0.381958   \n",
      "Dependents             0.224903        0.184366      0.084247   \n",
      "MultipleLines          0.174849        0.709983      0.467787   \n",
      "churn                  0.214832        0.226280      0.302890   \n",
      "Duration               0.350964        0.387727      0.848337   \n",
      "\n",
      "                  InternetService  OnlineSecurity  OnlineBackup  ...  \\\n",
      "BeginDate                0.192197        0.460712      0.496176  ...   \n",
      "EndDate                  0.117099        0.166235      0.236373  ...   \n",
      "Type                     0.505187        0.636884      0.581660  ...   \n",
      "PaperlessBilling         0.231438        0.208320      0.195321  ...   \n",
      "PaymentMethod            0.323886        0.315799      0.293413  ...   \n",
      "MonthlyCharges           0.919002        0.812632      0.818851  ...   \n",
      "TotalCharges             0.490081        0.516538      0.550544  ...   \n",
      "InternetService          1.000000        0.949498      0.942842  ...   \n",
      "OnlineSecurity           0.949498        1.000000      0.947224  ...   \n",
      "OnlineBackup             0.942842        0.947224      1.000000  ...   \n",
      "DeviceProtection         0.942811        0.946787      0.947487  ...   \n",
      "TechSupport              0.948914        0.952651      0.947756  ...   \n",
      "StreamingTV              0.946713        0.943082      0.945789  ...   \n",
      "StreamingMovies          0.946294        0.943248      0.945395  ...   \n",
      "gender                   0.000000        0.001460      0.000000  ...   \n",
      "SeniorCitizen            0.160702        0.127319      0.109995  ...   \n",
      "Partner                  0.000000        0.091202      0.092012  ...   \n",
      "Dependents               0.108463        0.117219      0.097766  ...   \n",
      "MultipleLines            0.739808        0.540261      0.562933  ...   \n",
      "churn                    0.056621        0.058659      0.089704  ...   \n",
      "Duration                 0.060845        0.346398      0.366170  ...   \n",
      "\n",
      "                  TechSupport  StreamingTV  StreamingMovies    gender  \\\n",
      "BeginDate            0.455418     0.419599         0.431137  0.011268   \n",
      "EndDate              0.150303     0.185980         0.199118  0.018274   \n",
      "Type                 0.671629     0.549564         0.553556  0.000000   \n",
      "PaperlessBilling     0.200621     0.204717         0.202241  0.000000   \n",
      "PaymentMethod        0.317713     0.284531         0.285525  0.000000   \n",
      "MonthlyCharges       0.816660     0.864677         0.863616  0.008175   \n",
      "TotalCharges         0.527838     0.555322         0.554030  0.000000   \n",
      "InternetService      0.948914     0.946713         0.946294  0.000000   \n",
      "OnlineSecurity       0.952651     0.943082         0.943248  0.001460   \n",
      "OnlineBackup         0.947756     0.945789         0.945395  0.000000   \n",
      "DeviceProtection     0.950247     0.952863         0.953717  0.000000   \n",
      "TechSupport          1.000000     0.946393         0.946417  0.000000   \n",
      "StreamingTV          0.946393     1.000000         0.965306  0.000000   \n",
      "StreamingMovies      0.946417     0.965306         1.000000  0.000000   \n",
      "gender               0.000000     0.000000         0.000000  1.000000   \n",
      "SeniorCitizen        0.135283     0.111714         0.113778  0.000000   \n",
      "Partner              0.076326     0.082251         0.077506  0.000000   \n",
      "Dependents           0.109753     0.088193         0.084684  0.000000   \n",
      "MultipleLines        0.541088     0.586049         0.586815  0.000000   \n",
      "churn                0.051537     0.078545         0.086577  0.008581   \n",
      "Duration             0.353438     0.306675         0.307297  0.000000   \n",
      "\n",
      "                  SeniorCitizen   Partner  Dependents  MultipleLines  \\\n",
      "BeginDate              0.050862  0.473514    0.208564       0.468035   \n",
      "EndDate                0.090502  0.177492    0.055518       0.249504   \n",
      "Type                   0.086231  0.179736    0.147680       0.244410   \n",
      "PaperlessBilling       0.242133  0.013218    0.172593       0.099953   \n",
      "PaymentMethod          0.292725  0.243008    0.224903       0.174849   \n",
      "MonthlyCharges         0.304985  0.203545    0.184366       0.709983   \n",
      "TotalCharges           0.135650  0.381958    0.084247       0.467787   \n",
      "InternetService        0.160702  0.000000    0.108463       0.739808   \n",
      "OnlineSecurity         0.127319  0.091202    0.117219       0.540261   \n",
      "OnlineBackup           0.109995  0.092012    0.097766       0.562933   \n",
      "DeviceProtection       0.110177  0.100092    0.094597       0.564610   \n",
      "TechSupport            0.135283  0.076326    0.109753       0.541088   \n",
      "StreamingTV            0.111714  0.082251    0.088193       0.586049   \n",
      "StreamingMovies        0.113778  0.077506    0.084684       0.586815   \n",
      "gender                 0.000000  0.000000    0.000000       0.000000   \n",
      "SeniorCitizen          1.000000  0.016992    0.324576       0.087925   \n",
      "Partner                0.016992  1.000000    0.652122       0.086249   \n",
      "Dependents             0.324576  0.652122    1.000000       0.011198   \n",
      "MultipleLines          0.087925  0.086249    0.011198       1.000000   \n",
      "churn                  0.086159  0.226688    0.046871       0.105101   \n",
      "Duration               0.063315  0.453688    0.198729       0.347289   \n",
      "\n",
      "                     churn  Duration  \n",
      "BeginDate         0.450254  0.978521  \n",
      "EndDate           1.000000  0.396342  \n",
      "Type              0.094015  0.634155  \n",
      "PaperlessBilling  0.083398  0.026799  \n",
      "PaymentMethod     0.214832  0.350964  \n",
      "MonthlyCharges    0.226280  0.387727  \n",
      "TotalCharges      0.302890  0.848337  \n",
      "InternetService   0.056621  0.060845  \n",
      "OnlineSecurity    0.058659  0.346398  \n",
      "OnlineBackup      0.089704  0.366170  \n",
      "DeviceProtection  0.085608  0.374702  \n",
      "TechSupport       0.051537  0.353438  \n",
      "StreamingTV       0.078545  0.306675  \n",
      "StreamingMovies   0.086577  0.307297  \n",
      "gender            0.008581  0.000000  \n",
      "SeniorCitizen     0.086159  0.063315  \n",
      "Partner           0.226688  0.453688  \n",
      "Dependents        0.046871  0.198729  \n",
      "MultipleLines     0.105101  0.347289  \n",
      "churn             1.000000  0.374569  \n",
      "Duration          0.374569  1.000000  \n",
      "\n",
      "[21 rows x 21 columns]\n"
     ]
    }
   ],
   "source": [
    "# Вычисляем матрицу корреляции Фи-коэффициента\n",
    "corr_matrix = df.phik_matrix(interval_cols=num_features)\n",
    "\n",
    "print(corr_matrix)"
   ]
  },
  {
   "cell_type": "markdown",
   "metadata": {},
   "source": [
    "<div style=\"background: #B0E0E6; padding: 5px; border: 1px solid SteelBlue; border-radius: 5px;\">\n",
    "    <font color='4682B4'><u><b>__</b></u></font>\n",
    "    <br />\n",
    "    <font color='4682B4'> После анализа матрицы корреляции Фи-коэффициента для категориальных признаков, можно сделать следующие выводы:\n",
    "\n",
    "Категориальные признаки и их связь с оттоком (churn):\n",
    "- Partner имеет наиболее сильную положительную корреляцию с оттоком (churn), что может указывать на то, что клиенты, не имеющие партнера, склонны больше уходить.\n",
    "- PaymentMethod и InternetService также имеют некоторую положительную корреляцию с оттоком (churn), что может указывать на связь между выбранным методом оплаты или типом интернет-сервиса и решением клиента уйти.\n",
    "        \n",
    "Некоторые признаки имеют сильную положительную корреляцию:\n",
    "- OnlineSecurity, OnlineBackup, DeviceProtection, TechSupport, StreamingTV и StreamingMovies имеют сильную положительную корреляцию между собой. Это может указывать на то, что клиенты, которые подписываются на одну из этих услуг, склонны подписываться и на другие связанные услуги.\n",
    "- InternetService имеет сильную положительную корреляцию с OnlineSecurity, OnlineBackup, DeviceProtection, TechSupport, StreamingTV и StreamingMovies. Это может указывать на то, что клиенты, использующие определенный тип интернет-сервиса, чаще всего также подписываются на эти связанные услуги.\n",
    "\n",
    "Некоторые признаки имеют сильную отрицательную корреляцию:\n",
    "- Type и InternetService имеют сильную отрицательную корреляцию с gender. Это может указывать на то, что тип услуги или тип интернет-сервиса может быть связан с полом клиента.\n",
    "\n",
    "Некоторые признаки имеют слабую корреляцию:\n",
    "- Type, PaymentMethod и PaperlessBilling имеют слабую корреляцию с другими признаками. Это может указывать на то, что эти признаки могут быть независимыми и не сильно связаны с другими признаками.\n",
    "\n",
    "   </font>\n",
    "</div>"
   ]
  },
  {
   "cell_type": "markdown",
   "metadata": {},
   "source": [
    "<div style=\"background: #B0E0E6; padding: 5px; border: 1px solid SteelBlue; border-radius: 5px;\">\n",
    "    <font color='4682B4'><u><b>__</b></u></font>\n",
    "    <br />\n",
    "    <font color='4682B4'> Настраивание параметра interval_cols в функции phik_matrix() важно, потому что этот параметр позволяет указать столбцы с интервальными (числовыми) переменными в вашем наборе данных.\n",
    "\n",
    "Матрица корреляции Фи-коэффициента (Phi correlation coefficient matrix) предназначена для измерения корреляции между переменными в наборе данных, включая как категориальные, так и числовые переменные. Однако, для правильного вычисления Фи-коэффициента, интервальные переменные (числовые) требуют предварительного группирования или бинирования.\n",
    "\n",
    "Указание параметра interval_cols позволяет функции phik_matrix() знать, какие столбцы следует рассматривать как интервальные переменные и какие необходимо бинировать перед вычислением коэффициента Фи. Это важно, чтобы получить правильные значения корреляции между всеми переменными, включая числовые.\n",
    "\n",
    "Таким образом, правильное указание interval_cols позволяет учесть числовые переменные в вычислении корреляции Фи и обеспечить корректный анализ зависимостей между всеми типами переменных в вашем наборе данных.\n",
    "\n",
    "   </font>\n",
    "</div>"
   ]
  },
  {
   "cell_type": "code",
   "execution_count": 51,
   "metadata": {},
   "outputs": [],
   "source": [
    "# Вычисляем матрицу корреляции Фи-коэффициента\n",
    "df_without_churn = df#.drop(columns=['churn'])\n",
    "corr_matrix = df_without_churn.phik_matrix(interval_cols=num_features)\n",
    "\n",
    "# Выводим матрицу только для значений коэффициентов >= 0.8\n",
    "high_corr_matrix = corr_matrix[corr_matrix >= 0.8]\n"
   ]
  },
  {
   "cell_type": "code",
   "execution_count": 52,
   "metadata": {},
   "outputs": [
    {
     "name": "stdout",
     "output_type": "stream",
     "text": [
      "                  BeginDate  EndDate  MonthlyCharges  TotalCharges  \\\n",
      "BeginDate          1.000000      NaN             NaN           NaN   \n",
      "EndDate                 NaN      1.0             NaN           NaN   \n",
      "MonthlyCharges          NaN      NaN        1.000000           NaN   \n",
      "TotalCharges            NaN      NaN             NaN      1.000000   \n",
      "InternetService         NaN      NaN        0.919002           NaN   \n",
      "OnlineSecurity          NaN      NaN        0.812632           NaN   \n",
      "OnlineBackup            NaN      NaN        0.818851           NaN   \n",
      "DeviceProtection        NaN      NaN        0.827272           NaN   \n",
      "TechSupport             NaN      NaN        0.816660           NaN   \n",
      "StreamingTV             NaN      NaN        0.864677           NaN   \n",
      "StreamingMovies         NaN      NaN        0.863616           NaN   \n",
      "churn                   NaN      1.0             NaN           NaN   \n",
      "Duration           0.978521      NaN             NaN      0.848337   \n",
      "\n",
      "                  InternetService  OnlineSecurity  OnlineBackup  \\\n",
      "BeginDate                     NaN             NaN           NaN   \n",
      "EndDate                       NaN             NaN           NaN   \n",
      "MonthlyCharges           0.919002        0.812632      0.818851   \n",
      "TotalCharges                  NaN             NaN           NaN   \n",
      "InternetService          1.000000        0.949498      0.942842   \n",
      "OnlineSecurity           0.949498        1.000000      0.947224   \n",
      "OnlineBackup             0.942842        0.947224      1.000000   \n",
      "DeviceProtection         0.942811        0.946787      0.947487   \n",
      "TechSupport              0.948914        0.952651      0.947756   \n",
      "StreamingTV              0.946713        0.943082      0.945789   \n",
      "StreamingMovies          0.946294        0.943248      0.945395   \n",
      "churn                         NaN             NaN           NaN   \n",
      "Duration                      NaN             NaN           NaN   \n",
      "\n",
      "                  DeviceProtection  TechSupport  StreamingTV  StreamingMovies  \\\n",
      "BeginDate                      NaN          NaN          NaN              NaN   \n",
      "EndDate                        NaN          NaN          NaN              NaN   \n",
      "MonthlyCharges            0.827272     0.816660     0.864677         0.863616   \n",
      "TotalCharges                   NaN          NaN          NaN              NaN   \n",
      "InternetService           0.942811     0.948914     0.946713         0.946294   \n",
      "OnlineSecurity            0.946787     0.952651     0.943082         0.943248   \n",
      "OnlineBackup              0.947487     0.947756     0.945789         0.945395   \n",
      "DeviceProtection          1.000000     0.950247     0.952863         0.953717   \n",
      "TechSupport               0.950247     1.000000     0.946393         0.946417   \n",
      "StreamingTV               0.952863     0.946393     1.000000         0.965306   \n",
      "StreamingMovies           0.953717     0.946417     0.965306         1.000000   \n",
      "churn                          NaN          NaN          NaN              NaN   \n",
      "Duration                       NaN          NaN          NaN              NaN   \n",
      "\n",
      "                  churn  Duration  \n",
      "BeginDate           NaN  0.978521  \n",
      "EndDate             1.0       NaN  \n",
      "MonthlyCharges      NaN       NaN  \n",
      "TotalCharges        NaN  0.848337  \n",
      "InternetService     NaN       NaN  \n",
      "OnlineSecurity      NaN       NaN  \n",
      "OnlineBackup        NaN       NaN  \n",
      "DeviceProtection    NaN       NaN  \n",
      "TechSupport         NaN       NaN  \n",
      "StreamingTV         NaN       NaN  \n",
      "StreamingMovies     NaN       NaN  \n",
      "churn               1.0       NaN  \n",
      "Duration            NaN  1.000000  \n"
     ]
    }
   ],
   "source": [
    "# Определяем строки и столбцы, содержащие значения отличные от NaN\n",
    "rows_to_keep = []\n",
    "cols_to_keep = []\n",
    "\n",
    "# Проверяем диагональные элементы матрицы\n",
    "for field in high_corr_matrix.index:\n",
    "    # Проверяем значения в строке и столбце, исключая диагональные элементы\n",
    "    row_values = high_corr_matrix.loc[field, :].drop(field)\n",
    "    col_values = high_corr_matrix.loc[:, field].drop(field)\n",
    "    if any(row_values.notnull()) or any(col_values.notnull()):\n",
    "        rows_to_keep.append(field)\n",
    "        cols_to_keep.append(field)\n",
    "\n",
    "# Формируем итоговую отфильтрованную матрицу\n",
    "filtered_matrix = high_corr_matrix.loc[rows_to_keep, cols_to_keep]\n",
    "print(filtered_matrix)"
   ]
  },
  {
   "cell_type": "markdown",
   "metadata": {},
   "source": [
    "<div style=\"background: #B0E0E6; padding: 5px; border: 1px solid SteelBlue; border-radius: 5px;\">\n",
    "    <font color='4682B4'><u><b>__</b></u></font>\n",
    "    <br />\n",
    "    <font color='4682B4'> Анализ матрицы Фи-корреляции:\n",
    "\n",
    "  - Наблюдается понятная высокая положительная корреляция между переменными \"BeginDate\" и \"Duration\" (0.978521), а также между Churn и EndDate. Это потому что Churn и Duration сформированы на основе дат. Даты исключим из дальнейшего рассмотрения.\n",
    "\n",
    "  - Переменные `\"MonthlyCharges\"` и поля из списка:  `[\"InternetService\", \"InternetService\", \"OnlineSecurity\", \"OnlineBackup\", \"DeviceProtection\", \"TechSupport\", \"StreamingTV\", \"StreamingMovies\"]`  имеют высокую положительную корреляцию. Это означает, что существует сильная связь между месячными платежами клиентов и интернет (тв) -услугой, которую они используют. Данный список исключим из дальнейшего рассмотрения.\n",
    "\n",
    "  - `\"TotalCharges\"` имеет высокую положительную корреляцию с `\"Duration\"` - исключим `TotalCharges` из дальнейшего рассмотрения\n",
    "   </font>\n",
    "</div>"
   ]
  },
  {
   "cell_type": "markdown",
   "metadata": {},
   "source": [
    "<div style=\"background: #B0E0E6; padding: 5px; border: 1px solid SteelBlue; border-radius: 5px;\">\n",
    "    <font color='4682B4'><u><b>КОММЕНТАРИЙ СТУДЕНТА V.2</b></u></font>\n",
    "    <br />\n",
    "    <font color='4682B4'> Создам списки полей для исключения. Само исключение сделаю позже перед моделированием. Чтобы не исключать поля на этапе EDA (ниже)\n",
    "\n",
    "   </font>\n",
    "</div>"
   ]
  },
  {
   "cell_type": "code",
   "execution_count": 53,
   "metadata": {},
   "outputs": [],
   "source": [
    "num_feat_drop = [\"TotalCharges\"]\n",
    "cat_feat_drop = [\"InternetService\", \"InternetService\", \"OnlineSecurity\",\n",
    "                 \"OnlineBackup\", \"DeviceProtection\", \"TechSupport\",\n",
    "                 \"StreamingTV\", \"StreamingMovies\"]"
   ]
  },
  {
   "cell_type": "markdown",
   "metadata": {},
   "source": [
    "### Посмотрим распределение данных"
   ]
  },
  {
   "cell_type": "code",
   "execution_count": 54,
   "metadata": {},
   "outputs": [],
   "source": [
    "def stat_plot(data, legend, bins=50):\n",
    "    fig, (ax_hist, ax_box_0, ax_box_1) = plt.subplots(3, sharex=True, gridspec_kw={\"height_ratios\": (1, 0.4, 0.4)})\n",
    "    \n",
    "    # Гистограмма\n",
    "    ax_hist.hist(data, bins=bins, density=True, label=legend, stacked=True,\n",
    "                 color=['lightgreen', 'red'], alpha=0.7, edgecolor='black', linewidth=0.5)\n",
    "    ax_hist.legend()\n",
    "    ax_hist.set_title('Histogram')\n",
    "    ax_hist.set_ylabel('Density')\n",
    "    \n",
    "    # Ящик с усами (Churn = 0)\n",
    "    boxprops_churn_0 = {'facecolor': 'lightgreen', 'alpha': 0.7}\n",
    "    ax_box_0.boxplot(data[0], vert=False, labels=[legend[0]], patch_artist=True,\n",
    "                     boxprops=boxprops_churn_0)\n",
    "    ax_box_0.set_title('Boxplot')\n",
    "    \n",
    "    # Ящик с усами (Churn = 1)\n",
    "    boxprops_churn_1 = {'facecolor': 'red', 'alpha': 0.7}\n",
    "    ax_box_1.boxplot(data[1], vert=False, labels=[legend[1]], patch_artist=True,\n",
    "                     boxprops=boxprops_churn_1)\n",
    "    \n",
    "    plt.xlabel('Value')\n",
    "    plt.suptitle(data[0].name)\n",
    "    plt.tight_layout()\n",
    "    plt.show()"
   ]
  },
  {
   "cell_type": "code",
   "execution_count": 55,
   "metadata": {
    "scrolled": false
   },
   "outputs": [
    {
     "data": {
      "image/png": "[encoded data removed]",
      "text/plain": [
       "<Figure size 640x480 with 3 Axes>"
      ]
     },
     "metadata": {},
     "output_type": "display_data"
    }
   ],
   "source": [
    "field = 'Duration'\n",
    "stat_plot([df[df['churn'] == 0][field], df[df['churn'] == 1][field]],\n",
    "          legend=['churn = 0', 'Churn = 1'], bins=50)"
   ]
  },
  {
   "cell_type": "markdown",
   "metadata": {},
   "source": [
    "Видим, что клиенты уходят в основном \"сразу\"- в первые месяцы. При этом не ушедшие клиенты, также имеют пик в начальных сроках дюрации контрактов, но также есть заметная группа \"постоянных\" клиентов с высокими значениями дюрации. Также отметим, что межквартильный размах дюрации ушедших клиентов уже, чем у постоянных."
   ]
  },
  {
   "cell_type": "code",
   "execution_count": 56,
   "metadata": {},
   "outputs": [
    {
     "data": {
      "image/png": "[encoded data removed]",
      "text/plain": [
       "<Figure size 640x480 with 3 Axes>"
      ]
     },
     "metadata": {},
     "output_type": "display_data"
    }
   ],
   "source": [
    "field = 'MonthlyCharges'\n",
    "stat_plot([df[df['churn'] == 0][field], df[df['churn'] == 1][field]],\n",
    "          legend=['churn = 0', 'Churn = 1'], bins=50)"
   ]
  },
  {
   "cell_type": "markdown",
   "metadata": {},
   "source": [
    "Распределение ежемесячных платежей имеет заметный пик около нуля. Данная особенность предварительно была выявлена на начальном этапе: \"это может указывать на то, что цена играет важную роль при выборе услуг. Некоторые клиенты могут активно искать более низкие стоимости, сравнивать предложения и выбирать наиболее экономичные варианты (это подтверждается также большой долей клиентов с помесячной системой оплаты\".\n",
    "\n",
    "Также отметим, что основная часть ушедших клиентов платила больше, чем неушедшие клиенты. Т.е. такие клиенты готовы платить больше, но они более осознанно подходят к выбору поставщика услуг и готовы его менять."
   ]
  },
  {
   "cell_type": "code",
   "execution_count": 57,
   "metadata": {},
   "outputs": [
    {
     "data": {
      "image/png": "[encoded data removed]",
      "text/plain": [
       "<Figure size 640x480 with 3 Axes>"
      ]
     },
     "metadata": {},
     "output_type": "display_data"
    }
   ],
   "source": [
    "field = 'TotalCharges'\n",
    "stat_plot([df[df['churn'] == 0][field], df[df['churn'] == 1][field]],\n",
    "          legend=['churn = 0', 'Churn = 1'], bins=50)"
   ]
  },
  {
   "cell_type": "markdown",
   "metadata": {},
   "source": [
    "Распределение общих затрат подтверждает выводы о том, что клиенты стремятся выбирать наиболее экономичные варианты, а также, что в портфеле компании - значительная часть новых клиентов, т.е. с низкими значениями дюрации контрактов. Т.е. можно говорить о постоянном пополнении клиентской базы.\n",
    "\n",
    "Компания как теряет в значительной степени клиентов с низкими значениями дюрации контрактов, так и пополняет свою клиентскую базу новыми клиентами, ищущими низкие цены. Т.о. можно говорить, что значительная часть новых клиентов не задерживается в компании."
   ]
  },
  {
   "cell_type": "markdown",
   "metadata": {},
   "source": [
    "Посмотрим значения дюрации контрактов для разных категориальных признаков, по ушедшим / неушедшим клиентам"
   ]
  },
  {
   "cell_type": "code",
   "execution_count": 58,
   "metadata": {},
   "outputs": [],
   "source": [
    "def plot_feat_impact(feature, category_feature):\n",
    "    v_cnt = df[feature].value_counts()\n",
    "    plt.figure(figsize=(12, 0.6 * len(v_cnt)))\n",
    "    \n",
    "    # Установка порядка категорий на графике\n",
    "    if 'Yes' in v_cnt.index:\n",
    "        c_ord = ['Yes', 'No']\n",
    "        if 'N_A' in v_cnt.index:\n",
    "            c_ord.append('N_A')\n",
    "    else: c_ord = None\n",
    "    \n",
    "    # График средних значений без разделения по группам Churn\n",
    "    sns.barplot(x=df[category_feature], y=df[feature].astype('str'),\n",
    "                errcolor='lightgrey', color='lightgreen', order=c_ord)\n",
    "    \n",
    "    # График средних значений с разделением по группам Churn\n",
    "    sns.barplot(x=df[category_feature], y=df[feature].astype('str'),\n",
    "                hue=df['churn'], order=c_ord)\n",
    "    \n",
    "    plt.xlabel(\"\")\n",
    "    plt.show()"
   ]
  },
  {
   "cell_type": "code",
   "execution_count": 59,
   "metadata": {},
   "outputs": [
    {
     "data": {
      "text/plain": [
       "['Type',\n",
       " 'PaymentMethod',\n",
       " 'PaperlessBilling',\n",
       " 'gender',\n",
       " 'SeniorCitizen',\n",
       " 'Partner',\n",
       " 'Dependents',\n",
       " 'InternetService',\n",
       " 'OnlineSecurity',\n",
       " 'OnlineBackup',\n",
       " 'DeviceProtection',\n",
       " 'TechSupport',\n",
       " 'StreamingTV',\n",
       " 'StreamingMovies',\n",
       " 'MultipleLines']"
      ]
     },
     "execution_count": 59,
     "metadata": {},
     "output_type": "execute_result"
    }
   ],
   "source": [
    "cat_features"
   ]
  },
  {
   "cell_type": "code",
   "execution_count": 60,
   "metadata": {
    "scrolled": true
   },
   "outputs": [
    {
     "data": {
      "image/png": "[encoded data removed]",
      "text/plain": [
       "<Figure size 1200x180 with 1 Axes>"
      ]
     },
     "metadata": {},
     "output_type": "display_data"
    }
   ],
   "source": [
    "plot_feat_impact('Type', 'Duration')"
   ]
  },
  {
   "cell_type": "markdown",
   "metadata": {},
   "source": [
    "Ушедших клиентов с помесячной оплатой заметно больше, че неушедших. Далее если клиент остается в компании, он скорее всего переходит на более длинные контракты"
   ]
  },
  {
   "cell_type": "code",
   "execution_count": 61,
   "metadata": {},
   "outputs": [
    {
     "data": {
      "image/png": "[encoded data removed]",
      "text/plain": [
       "<Figure size 1200x240 with 1 Axes>"
      ]
     },
     "metadata": {},
     "output_type": "display_data"
    }
   ],
   "source": [
    "plot_feat_impact('PaymentMethod', 'Duration')"
   ]
  },
  {
   "cell_type": "markdown",
   "metadata": {},
   "source": [
    "\"Летуны\" держат руку на пульсе с оплатами. Постоянные клиенты используют автоматическое списание средств."
   ]
  },
  {
   "cell_type": "code",
   "execution_count": 62,
   "metadata": {},
   "outputs": [
    {
     "data": {
      "image/png": "[encoded data removed]",
      "text/plain": [
       "<Figure size 1200x120 with 1 Axes>"
      ]
     },
     "metadata": {},
     "output_type": "display_data"
    },
    {
     "data": {
      "image/png": "[encoded data removed]",
      "text/plain": [
       "<Figure size 1200x120 with 1 Axes>"
      ]
     },
     "metadata": {},
     "output_type": "display_data"
    },
    {
     "data": {
      "image/png": "[encoded data removed]",
      "text/plain": [
       "<Figure size 1200x120 with 1 Axes>"
      ]
     },
     "metadata": {},
     "output_type": "display_data"
    }
   ],
   "source": [
    "for f in ['PaperlessBilling','gender','SeniorCitizen']:\n",
    "    plot_feat_impact(f, 'Duration')"
   ]
  },
  {
   "cell_type": "markdown",
   "metadata": {},
   "source": [
    "Данная группа признаков сильно не влияет на дюрацию контрактов в разрезе ушедших/неушедших клиентов"
   ]
  },
  {
   "cell_type": "code",
   "execution_count": 63,
   "metadata": {},
   "outputs": [
    {
     "data": {
      "image/png": "[encoded data removed]",
      "text/plain": [
       "<Figure size 1200x120 with 1 Axes>"
      ]
     },
     "metadata": {},
     "output_type": "display_data"
    }
   ],
   "source": [
    "plot_feat_impact('Partner', 'Duration')"
   ]
  },
  {
   "cell_type": "markdown",
   "metadata": {},
   "source": [
    "Наличие партнера заметно влияет на длитеность контрактов: в группе без партнера дюрация ушедших клиентов больше. В группе с партнером- наоборот."
   ]
  },
  {
   "cell_type": "code",
   "execution_count": 64,
   "metadata": {},
   "outputs": [
    {
     "data": {
      "image/png": "[encoded data removed]",
      "text/plain": [
       "<Figure size 1200x180 with 1 Axes>"
      ]
     },
     "metadata": {},
     "output_type": "display_data"
    },
    {
     "data": {
      "image/png": "[encoded data removed]",
      "text/plain": [
       "<Figure size 1200x180 with 1 Axes>"
      ]
     },
     "metadata": {},
     "output_type": "display_data"
    },
    {
     "data": {
      "image/png": "[encoded data removed]",
      "text/plain": [
       "<Figure size 1200x180 with 1 Axes>"
      ]
     },
     "metadata": {},
     "output_type": "display_data"
    },
    {
     "data": {
      "image/png": "[encoded data removed]",
      "text/plain": [
       "<Figure size 1200x180 with 1 Axes>"
      ]
     },
     "metadata": {},
     "output_type": "display_data"
    },
    {
     "data": {
      "image/png": "[encoded data removed]",
      "text/plain": [
       "<Figure size 1200x180 with 1 Axes>"
      ]
     },
     "metadata": {},
     "output_type": "display_data"
    }
   ],
   "source": [
    "for f in ['InternetService','OnlineSecurity','OnlineBackup','DeviceProtection','TechSupport',]:\n",
    "    plot_feat_impact(f, 'Duration')"
   ]
  },
  {
   "cell_type": "markdown",
   "metadata": {},
   "source": [
    "Можно отметить, что ушедшие клиенты без услуг связанных с интернетов имеют заметно бОльшую дюрацию контрактов, и наоборот в группах с такими услугами дюрация ушедших - меньше. Т.е. клиенты, которые не уходят сначала не пользуются сервисами, но, похоже, потом их приобретают."
   ]
  },
  {
   "cell_type": "code",
   "execution_count": 65,
   "metadata": {},
   "outputs": [
    {
     "data": {
      "image/png": "[encoded data removed]",
      "text/plain": [
       "<Figure size 1200x180 with 1 Axes>"
      ]
     },
     "metadata": {},
     "output_type": "display_data"
    },
    {
     "data": {
      "image/png": "[encoded data removed]",
      "text/plain": [
       "<Figure size 1200x180 with 1 Axes>"
      ]
     },
     "metadata": {},
     "output_type": "display_data"
    },
    {
     "data": {
      "image/png": "[encoded data removed]",
      "text/plain": [
       "<Figure size 1200x180 with 1 Axes>"
      ]
     },
     "metadata": {},
     "output_type": "display_data"
    }
   ],
   "source": [
    "for f in ['StreamingTV','StreamingMovies','MultipleLines']:\n",
    "    plot_feat_impact(f, 'Duration')"
   ]
  },
  {
   "cell_type": "markdown",
   "metadata": {},
   "source": [
    "Аналогично - с услугами телефонии телевидения."
   ]
  },
  {
   "cell_type": "markdown",
   "metadata": {},
   "source": [
    "## EDA общие выводы:"
   ]
  },
  {
   "cell_type": "markdown",
   "metadata": {},
   "source": [
    "После проведения предварительного анализа данных (EDA) для датафреймов d_contract, d_internet, d_personal и d_phone, мы получили следующие основные выводы:\n",
    "\n",
    "- Общие выводы:\n",
    "    - Данные не содержат пропусков, дубликатов и повторяющихся клиентов.\n",
    "    - Классы целевого признака Churn (уход клиента) не сбалансированы, примерно 84.37% клиентов имеют незаконченные договоры (ушедшие клиенты).\n",
    "    - Время пользования услугами влияет на решение клиента об уходе или остающемся. Большинство ушедших клиентов покидают компанию в первые месяцы.\n",
    "    - Цена (ежемесячный платеж) играет важную роль при выборе услуг. Клиенты, выбирающие низкие стоимости и экономичные варианты, склонны менять провайдера.\n",
    "    - Длительность контракта, тип оплаты и наличие партнера также влияют на решение клиента об уходе или остающемся.\n",
    "    - Постоянные клиенты имеют более долгую длительность контракта и часто используют автоматическое списание средств.\n",
    "    - Клиенты, подключающие дополнительные услуги (интернет, телефония, телевидение), склонны оставаться дольше.\n",
    "    - Большая часть ушедших клиентов платила больше, чем клиенты, которые остаются.\n",
    "    - Распределение ежемесячных платежей имеет пик около нуля, что указывает на высокую чувствительность клиентов к цене.\n",
    "\n",
    "    - Компания сталкивается с вызовом удержания клиентов, особенно в первые месяцы пользования услугами.\n",
    "    - Акцент на дополнительных услугах, сопутствующих основным (интернет, телефония, телевидение), может повысить лояльность клиентов и увеличить их длительность контракта.\n",
    "    - Необходимо анализировать поведение клиентов с разными типами оплаты и разработать индивидуальные стратегии удержания для каждого типа.\n",
    "    - Постоянное пополнение клиентской базы новыми клиентами является хорошей стратегией, но также необходимо обратить внимание на удержание текущих клиентов.\n",
    "    - Необходимо провести дальнейший анализ и моделирование данных для более точного прогнозирования ухода клиентов и разработки персонализированных стратегий удержания."
   ]
  },
  {
   "cell_type": "markdown",
   "metadata": {},
   "source": [
    "Преобразование данных связанное с кодированием и масштабированием признаков будет включено в пайплайн модели машинного обучения и не включено в данный раздел."
   ]
  },
  {
   "cell_type": "markdown",
   "metadata": {},
   "source": [
    "# Обучение моделей"
   ]
  },
  {
   "cell_type": "markdown",
   "metadata": {},
   "source": [
    "Получим train/test выборки в соотношении 3:1 \n",
    "\n",
    "Выделим целевой признак"
   ]
  },
  {
   "cell_type": "markdown",
   "metadata": {},
   "source": [
    "### Подготовка признаков"
   ]
  },
  {
   "cell_type": "markdown",
   "metadata": {},
   "source": [
    "Удалю следующие столбцы:\n",
    "- Даты `BeginDate` и `EndDate`, поскольку их наличие повлечет утечку при обучении\n",
    "- `TotalCharges` - мультиколлинеарный по отношению к `Duration`\n",
    "\n",
    "Преобразуем столбцы с категориями к типи _categotry_"
   ]
  },
  {
   "cell_type": "code",
   "execution_count": 67,
   "metadata": {},
   "outputs": [],
   "source": [
    "df.drop(columns=(['BeginDate', 'EndDate']+num_feat_drop+cat_feat_drop), inplace=True)"
   ]
  },
  {
   "cell_type": "code",
   "execution_count": 68,
   "metadata": {},
   "outputs": [],
   "source": [
    "# Удаление элементов\n",
    "num_features = [feature for feature in num_features if feature not in num_feat_drop]\n",
    "cat_features = [feature for feature in cat_features if feature not in cat_feat_drop]"
   ]
  },
  {
   "cell_type": "code",
   "execution_count": 69,
   "metadata": {},
   "outputs": [],
   "source": [
    "df[cat_features] = df[cat_features].astype(\"category\")"
   ]
  },
  {
   "cell_type": "code",
   "execution_count": 70,
   "metadata": {},
   "outputs": [
    {
     "name": "stdout",
     "output_type": "stream",
     "text": [
      "<class 'pandas.core.frame.DataFrame'>\n",
      "Index: 7043 entries, 7590-VHVEG to 3186-AJIEK\n",
      "Data columns (total 11 columns):\n",
      " #   Column            Non-Null Count  Dtype   \n",
      "---  ------            --------------  -----   \n",
      " 0   Type              7043 non-null   category\n",
      " 1   PaperlessBilling  7043 non-null   category\n",
      " 2   PaymentMethod     7043 non-null   category\n",
      " 3   MonthlyCharges    7043 non-null   float64 \n",
      " 4   gender            7043 non-null   category\n",
      " 5   SeniorCitizen     7043 non-null   category\n",
      " 6   Partner           7043 non-null   category\n",
      " 7   Dependents        7043 non-null   category\n",
      " 8   MultipleLines     7043 non-null   category\n",
      " 9   churn             7043 non-null   int32   \n",
      " 10  Duration          7043 non-null   int64   \n",
      "dtypes: category(8), float64(1), int32(1), int64(1)\n",
      "memory usage: 506.7+ KB\n"
     ]
    }
   ],
   "source": [
    "df.info()"
   ]
  },
  {
   "cell_type": "code",
   "execution_count": 71,
   "metadata": {},
   "outputs": [],
   "source": [
    "# разделяем датасет\n",
    "X_train, X_test, y_train, y_test = train_test_split(df.drop('churn', axis=1),\n",
    "                                                    df['churn'], test_size=0.25, \n",
    "                                                    random_state=RANDOM_STATE) "
   ]
  },
  {
   "cell_type": "code",
   "execution_count": 72,
   "metadata": {},
   "outputs": [
    {
     "name": "stdout",
     "output_type": "stream",
     "text": [
      "Размер обучающей выборки:  (5282, 10) (5282,)\n",
      "Размер тестовой выборки:  (1761, 10) (1761,)\n"
     ]
    }
   ],
   "source": [
    "print('Размер обучающей выборки: ', X_train.shape, y_train.shape)\n",
    "print('Размер тестовой выборки: ', X_test.shape, y_test.shape)"
   ]
  },
  {
   "cell_type": "markdown",
   "metadata": {},
   "source": [
    "Обучать будем 4 модели: Ридж логистическую регрессию с полиномиальным преобразованием признаков, Случайный лес, ЛайтГБМ и КэтБуст.\n",
    "\n",
    "Скалер (OHE) и масштабатор (нормальный) для обучения Ридж регрессию и случайного леса положим внутрь пайплайна на уровне кросс-валидации для избежания утечек, в LGBMClassifier и CatBoostClassifier будем передавать напрямую категориальные признаки (т.е. ОНЕ не будет), а скаллер также будет использоваться в пайплайне. Т.о. мы избежим миниутечек на кросс-валидации."
   ]
  },
  {
   "cell_type": "markdown",
   "metadata": {},
   "source": [
    "Будем использовать кроссвалидацию с разбиением датасета на 4 части.\n",
    "\n",
    "Для оценки качества модели будем использовать метрику ROC AUC"
   ]
  },
  {
   "cell_type": "code",
   "execution_count": 73,
   "metadata": {},
   "outputs": [],
   "source": [
    "# создадим датафрейм для записи результатов\n",
    "models = ['Ridge_poly','Random_forest','Light_GBM','CatBoost']\n",
    "# ROC_AUC_CV - метрика на кроссвалидации\n",
    "model_results = pd.DataFrame(columns=['ROC_AUC_CV','total_time_train_CV','best_model_time_train_CV'],\n",
    "                             index=models,dtype=float)"
   ]
  },
  {
   "cell_type": "code",
   "execution_count": 74,
   "metadata": {},
   "outputs": [],
   "source": [
    "# словарь \"пустых\" моделей\n",
    "models_init = {}"
   ]
  },
  {
   "cell_type": "markdown",
   "metadata": {},
   "source": [
    "Создам функцию для рандомного поиска гиперпараметров"
   ]
  },
  {
   "cell_type": "code",
   "execution_count": 75,
   "metadata": {},
   "outputs": [],
   "source": [
    "def f_random_cv(model, grid, CV, score, features, target, degree=None):\n",
    "    \"\"\"\n",
    "    Функция f_random_cv выполняет случайный поиск с кросс-валидацией для модели машинного обучения.\n",
    "\n",
    "    Аргументы:\n",
    "    - model: модель машинного обучения, которую требуется настроить\n",
    "    - grid: сетка гиперпараметров для случайного поиска\n",
    "    - CV: количество фолдов для кросс-валидации\n",
    "    - score: метрика оценки качества модели\n",
    "    - features: признаки (X) для обучения модели\n",
    "    - target: целевая переменная (y) для обучения модели\n",
    "    - degree (по умолчанию None): степень полиномиальной трансформации признаков\n",
    "\n",
    "    Возвращает:\n",
    "    - random_cv: объект RandomizedSearchCV, обученный на данных\n",
    "\n",
    "    \"\"\"\n",
    "\n",
    "    # Разделение признаков на числовые и категориальные\n",
    "    numeric_features = num_features\n",
    "    categorical_features = cat_features\n",
    "\n",
    "    # Создание трансформеров для масштабирования числовых и кодирования категориальных признаков\n",
    "    numeric_transformer = StandardScaler()\n",
    "    ohe_transformer = OneHotEncoder(drop='first')\n",
    "    ordinal_transformer = OrdinalEncoder()\n",
    "    label_encoder = LabelEncoder()\n",
    "\n",
    "    # Определение пайплайна для моделей, требующих масштабирования,\n",
    "    # кодирования и полиномиальной трансформации\n",
    "    if degree is not None:\n",
    "        polynomial_features = PolynomialFeatures(degree=degree)\n",
    "        polynomial_transformer = ColumnTransformer(\n",
    "            transformers=[\n",
    "                ('poly', polynomial_features, numeric_features)\n",
    "            ])\n",
    "\n",
    "        preprocessor_with_encoding_poly = ColumnTransformer(\n",
    "            transformers=[\n",
    "                ('cat', ohe_transformer, categorical_features),\n",
    "                ('poly', polynomial_transformer, numeric_features),\n",
    "                ('num', numeric_transformer, numeric_features),\n",
    "            ])\n",
    "\n",
    "        pipeline_with_encoding_poly = Pipeline([\n",
    "            ('preprocessor', preprocessor_with_encoding_poly),\n",
    "            ('model', model)\n",
    "        ])\n",
    "\n",
    "        pipeline = pipeline_with_encoding_poly\n",
    "    else:\n",
    "        # Определение пайплайна для моделей, требующих только масштабирование и OHE одирование\n",
    "        preprocessor_with_ohe_encoding = ColumnTransformer(\n",
    "            transformers=[\n",
    "                ('num', numeric_transformer, numeric_features),\n",
    "                ('cat', ohe_transformer, categorical_features)\n",
    "            ])\n",
    "\n",
    "        pipeline_with_ohe_encoding = Pipeline([\n",
    "            ('preprocessor', preprocessor_with_ohe_encoding),\n",
    "            ('model', model)\n",
    "        ])\n",
    "\n",
    "        # Определение пайплайна для моделей, требующих только масштабирование и Ord одирование\n",
    "        preprocessor_with_ord_encoding = ColumnTransformer(\n",
    "            transformers=[\n",
    "                ('num', numeric_transformer, numeric_features),\n",
    "                ('cat', ordinal_transformer, categorical_features)\n",
    "            ])\n",
    "\n",
    "        pipeline_with_ord_encoding = Pipeline([\n",
    "            ('preprocessor', preprocessor_with_ord_encoding),\n",
    "            ('model', model)\n",
    "        ])\n",
    "\n",
    "        # Определение пайплайна для моделей, не требующих кодирования категориальных признаков\n",
    "        preprocessor_scaling_only = ColumnTransformer(\n",
    "            transformers=[\n",
    "                ('num', numeric_transformer, numeric_features)\n",
    "            ],\n",
    "            remainder='passthrough'\n",
    "        )\n",
    "\n",
    "        pipeline_scaling_only = Pipeline([\n",
    "            ('preprocessor', preprocessor_scaling_only),\n",
    "            ('model', model)\n",
    "        ])\n",
    "        # \n",
    "        preprocessor_with_label_encoding = ColumnTransformer(\n",
    "            transformers=[\n",
    "                ('num', numeric_transformer, numeric_features),\n",
    "                ('cat', label_encoder, categorical_features)\n",
    "            ]\n",
    "        )\n",
    "\n",
    "        pipeline_with_label_encoding = Pipeline([\n",
    "            ('preprocessor', preprocessor_with_label_encoding),\n",
    "            ('model', model)\n",
    "        ])\n",
    "        # Выбор пайплайна в зависимости от типа модели\n",
    "        if model.__class__.__name__ in ['RandomForestClassifier']:\n",
    "            pipeline = pipeline_with_ord_encoding\n",
    "        elif model.__class__.__name__ in ['RidgeClassifier',\n",
    "                                          'LGBMClassifier'\n",
    "                                         ]:\n",
    "            pipeline = pipeline_with_ohe_encoding \n",
    "        else:\n",
    "            pipeline = pipeline_scaling_only\n",
    "            \n",
    "    # Создание объекта случайного поиска с кросс-валидацией\n",
    "    random_cv = RandomizedSearchCV(\n",
    "        estimator=pipeline,\n",
    "        param_distributions=grid,\n",
    "        cv=CV,\n",
    "        scoring=score,\n",
    "        n_jobs=-1,\n",
    "        random_state=RANDOM_STATE)\n",
    "\n",
    "    # Обучение модели\n",
    "    random_cv.fit(features, target)\n",
    "\n",
    "    # Возвращение обученного объекта RandomizedSearchCV\n",
    "    return random_cv"
   ]
  },
  {
   "cell_type": "markdown",
   "metadata": {},
   "source": [
    "Общие параметры"
   ]
  },
  {
   "cell_type": "code",
   "execution_count": 76,
   "metadata": {},
   "outputs": [],
   "source": [
    "# для всех моделей\n",
    "scoring = 'roc_auc'\n",
    "# Использую генератор разбиений cv в RandomizedSearchCV\n",
    "# для создания объекта кросс-валидации\n",
    "cv_q = 4\n",
    "CV = KFold(n_splits=cv_q, shuffle=True, random_state=RANDOM_STATE)"
   ]
  },
  {
   "cell_type": "markdown",
   "metadata": {},
   "source": [
    "Сохраним индексы фолдов кросс-валидации"
   ]
  },
  {
   "cell_type": "code",
   "execution_count": 77,
   "metadata": {},
   "outputs": [],
   "source": [
    "fold_train = {}\n",
    "fold_test = {}\n",
    "for i, (train_index, test_index) in enumerate(CV.split(X_train)):\n",
    "    fold_train[i] = train_index\n",
    "    fold_test[i] = test_index"
   ]
  },
  {
   "cell_type": "markdown",
   "metadata": {},
   "source": [
    "## Ридж классификатор с полиномиальной трансформацией признаков"
   ]
  },
  {
   "cell_type": "code",
   "execution_count": 78,
   "metadata": {},
   "outputs": [],
   "source": [
    "# Определяем модель\n",
    "model_Ridge_poly = RidgeClassifier(random_state=RANDOM_STATE)"
   ]
  },
  {
   "cell_type": "code",
   "execution_count": 79,
   "metadata": {},
   "outputs": [],
   "source": [
    "models_init['Ridge_poly'] = clone(model_Ridge_poly)"
   ]
  },
  {
   "cell_type": "code",
   "execution_count": 80,
   "metadata": {},
   "outputs": [],
   "source": [
    "# Определяем диапазон параметров\n",
    "grid_Ridge_poly = {\n",
    "    'model__alpha': [0.01, 0.1, 1, 10, 100, 1000],\n",
    "    'model__fit_intercept': [True, False],\n",
    "    'model__solver': ['auto', 'svd', 'cholesky', 'lsqr', 'sparse_cg', 'sag', 'saga'],\n",
    "    'model__max_iter': [100, 500, 1000],\n",
    "    'model__tol': [0.0001, 0.001, 0.01],\n",
    "}\n",
    "# degrees = [2, 3, 4]  # Возможные степени полинома"
   ]
  },
  {
   "cell_type": "code",
   "execution_count": 81,
   "metadata": {
    "scrolled": false
   },
   "outputs": [
    {
     "name": "stderr",
     "output_type": "stream",
     "text": [
      "100%|██████████| 1/1 [00:01<00:00,  1.45s/it]\n"
     ]
    }
   ],
   "source": [
    "# Подбираем лучшие гиперпараметры\n",
    "# for degree in degrees:\n",
    "for i in tqdm(range(1)): # применил цикл с одной итерацией для запуска статус бара tqdm\n",
    "    random_cv_Ridge_poly = f_random_cv(model_Ridge_poly, grid_Ridge_poly,\n",
    "                              CV, scoring, X_train, y_train, degree=2)\n",
    "# print('=====degree:',degree,'========')\n",
    "# print(\"Best params Ridge_poly: \", random_cv_Ridge_poly.best_params_)\n",
    "# print(\"Best score Ridge_poly: \", random_cv_Ridge_poly.best_score_)"
   ]
  },
  {
   "cell_type": "code",
   "execution_count": 82,
   "metadata": {},
   "outputs": [
    {
     "name": "stdout",
     "output_type": "stream",
     "text": [
      "Best params Ridge_poly:  {'model__tol': 0.01, 'model__solver': 'cholesky', 'model__max_iter': 100, 'model__fit_intercept': True, 'model__alpha': 100}\n",
      "Best score Ridge_poly:  0.8302794529824461\n"
     ]
    }
   ],
   "source": [
    "# лучшие гиперпараметры и значение метрики\n",
    "print(\"Best params Ridge_poly: \", random_cv_Ridge_poly.best_params_)\n",
    "print(\"Best score Ridge_poly: \", random_cv_Ridge_poly.best_score_)"
   ]
  },
  {
   "cell_type": "markdown",
   "metadata": {},
   "source": [
    "Видим, что модель не дотягивает до порога."
   ]
  },
  {
   "cell_type": "markdown",
   "metadata": {},
   "source": [
    "Запишем результат"
   ]
  },
  {
   "cell_type": "code",
   "execution_count": 83,
   "metadata": {},
   "outputs": [],
   "source": [
    "def model_res_time(model):\n",
    "    # Функция для расчета времени обучения модели с помощью кросс-валидации\n",
    "    # Аргументы:\n",
    "    #   model: название модели, для которой нужно рассчитать время обучения\n",
    "    #\n",
    "    #    Получаем среднее время обучения (mean_fit_time) для каждого фолда кросс-валидации из mod.cv_results_.\n",
    "    #    Вычисляем общее время обучения (total_time) путем сложения всех средних времен обучения.\n",
    "    #    Получаем лучшее время обучения (best_time) из mean_fit_time с индексом, соответствующим лучшей модели (mod.best_index_).\n",
    "    #    Записываем результаты в DataFrame model_results:\n",
    "    #        - Записываем лучший показатель ROC AUC (mod.best_score_) в столбец 'ROC_AUC_CV' для строки с названием модели (model).\n",
    "    #        - Записываем общее время обучения (total_time) в столбец 'total_time_train_CV' для строки с названием модели (model).\n",
    "    #        - Записываем лучшее время обучения (best_time) в столбец 'best_model_time_train_CV' для строки с названием модели (model).\n",
    "\n",
    "    mod = eval('random_cv_'+model)\n",
    "    mean_fit_time = mod.cv_results_['mean_fit_time']\n",
    "    total_time = np.sum(mean_fit_time)\n",
    "    best_time = mod.cv_results_['mean_fit_time'][mod.best_index_]\n",
    "\n",
    "    model_results.loc[model,['ROC_AUC_CV','total_time_train_CV','best_model_time_train_CV']]=\\\n",
    "    [mod.best_score_,total_time,best_time]"
   ]
  },
  {
   "cell_type": "code",
   "execution_count": 84,
   "metadata": {
    "scrolled": true
   },
   "outputs": [],
   "source": [
    "# запись результатов\n",
    "model_res_time(models[0])"
   ]
  },
  {
   "cell_type": "markdown",
   "metadata": {},
   "source": [
    "## Случайный лес RandomForestClassifier"
   ]
  },
  {
   "cell_type": "code",
   "execution_count": 85,
   "metadata": {},
   "outputs": [],
   "source": [
    "# Инициализируем модель\n",
    "model_Random_forest = RandomForestClassifier(random_state=RANDOM_STATE)"
   ]
  },
  {
   "cell_type": "code",
   "execution_count": 86,
   "metadata": {},
   "outputs": [],
   "source": [
    "models_init['Random_forest'] = RandomForestClassifier(random_state=RANDOM_STATE)"
   ]
  },
  {
   "cell_type": "code",
   "execution_count": 87,
   "metadata": {},
   "outputs": [],
   "source": [
    "# Определяем диапазон параметров\n",
    "grid_Random_forest = {\n",
    "    'model__max_depth': range(4, 21, 4),\n",
    "    'model__min_samples_leaf': range(1, 11, 1),\n",
    "    'model__n_estimators': [10, 50, 100],\n",
    "    'model__class_weight': [None, 'balanced'],\n",
    "    'model__max_features': ['sqrt', 'log2', None],  # Добавлен параметр max_features\n",
    "    'model__bootstrap': [True, False]  # Добавлен параметр bootstrap\n",
    "}"
   ]
  },
  {
   "cell_type": "code",
   "execution_count": 88,
   "metadata": {},
   "outputs": [
    {
     "name": "stderr",
     "output_type": "stream",
     "text": [
      "100%|██████████| 1/1 [00:08<00:00,  8.55s/it]\n"
     ]
    }
   ],
   "source": [
    "# Подбираем лучшие гиперпараметры - расчет около 10 сек\n",
    "for i in tqdm(range(1)): # применил цикл с одной итерацией для запуска статус бара tqdm\n",
    "    random_cv_Random_forest = f_random_cv(model_Random_forest,grid_Random_forest,CV,\n",
    "                                          scoring,X_train,y_train)"
   ]
  },
  {
   "cell_type": "code",
   "execution_count": 89,
   "metadata": {},
   "outputs": [
    {
     "name": "stdout",
     "output_type": "stream",
     "text": [
      "Best params Random_forest:  {'model__n_estimators': 100, 'model__min_samples_leaf': 8, 'model__max_features': 'sqrt', 'model__max_depth': 8, 'model__class_weight': 'balanced', 'model__bootstrap': False}\n",
      "Best score Random_forest:  0.8236633503924585\n"
     ]
    }
   ],
   "source": [
    "# лучшие гиперпараметры и значение метрики\n",
    "print(\"Best params Random_forest: \", random_cv_Random_forest.best_params_)\n",
    "print(\"Best score Random_forest: \", random_cv_Random_forest.best_score_)"
   ]
  },
  {
   "cell_type": "markdown",
   "metadata": {},
   "source": [
    "Модель случайного леса также не дотягивает до порога."
   ]
  },
  {
   "cell_type": "code",
   "execution_count": 90,
   "metadata": {},
   "outputs": [],
   "source": [
    "# запись результатов\n",
    "model_res_time(models[1])"
   ]
  },
  {
   "cell_type": "markdown",
   "metadata": {},
   "source": [
    "## Градиентный бустинг"
   ]
  },
  {
   "cell_type": "markdown",
   "metadata": {},
   "source": [
    "### Light GBM"
   ]
  },
  {
   "cell_type": "code",
   "execution_count": 91,
   "metadata": {},
   "outputs": [],
   "source": [
    "# инициализируем модель categorical_feature=cat_indices,\n",
    "model_Light_GBM = LGBMClassifier(random_state=RANDOM_STATE)"
   ]
  },
  {
   "cell_type": "code",
   "execution_count": 92,
   "metadata": {},
   "outputs": [],
   "source": [
    "models_init['Light_GBM'] = LGBMClassifier(random_state=RANDOM_STATE)"
   ]
  },
  {
   "cell_type": "code",
   "execution_count": 93,
   "metadata": {},
   "outputs": [],
   "source": [
    "grid_Light_GBM = {\n",
    "    'model__learning_rate': [0.01, 0.05, 0.1, 0.5],\n",
    "    'model__max_depth': [-1, 3, 5, 7, 10, 20],\n",
    "    'model__min_child_samples': [1, 5, 10, 20, 30, 50, 100],\n",
    "    'model__num_leaves': [31, 50, 100, 200, 300, 400, 500],\n",
    "    'model__subsample': [0.6, 0.7, 0.8, 0.9, 1.0],\n",
    "    'model__colsample_bytree': [0.6, 0.7, 0.8, 0.9, 1.0],\n",
    "    'model__reg_alpha': [0, 0.1, 0.5, 1.0],\n",
    "    'model__reg_lambda': [0, 0.1, 0.5, 1.0],\n",
    "    'model__class_weight': [None, 'balanced']\n",
    "}"
   ]
  },
  {
   "cell_type": "code",
   "execution_count": 94,
   "metadata": {
    "scrolled": false
   },
   "outputs": [
    {
     "name": "stderr",
     "output_type": "stream",
     "text": [
      "100%|██████████| 1/1 [00:02<00:00,  2.27s/it]\n"
     ]
    }
   ],
   "source": [
    "# Обучим модель на исходных данных - расчет около 10 сек\n",
    "for i in tqdm(range(1)): # применил цикл с одной итерацией для запуска статус бара tqdm\n",
    "    random_cv_Light_GBM = f_random_cv(model_Light_GBM,grid_Light_GBM,CV,scoring,X_train,y_train)"
   ]
  },
  {
   "cell_type": "code",
   "execution_count": 95,
   "metadata": {
    "scrolled": true
   },
   "outputs": [
    {
     "name": "stdout",
     "output_type": "stream",
     "text": [
      "Best params Light_GBM:  {'model__subsample': 0.9, 'model__reg_lambda': 0, 'model__reg_alpha': 0.5, 'model__num_leaves': 400, 'model__min_child_samples': 20, 'model__max_depth': 3, 'model__learning_rate': 0.5, 'model__colsample_bytree': 0.9, 'model__class_weight': None}\n",
      "Best score Light_GBM:  0.9012186341919276\n"
     ]
    }
   ],
   "source": [
    "# лучшие гиперпараметры и значение метрики\n",
    "print(\"Best params Light_GBM: \", random_cv_Light_GBM.best_params_)\n",
    "print(\"Best score Light_GBM: \", random_cv_Light_GBM.best_score_)"
   ]
  },
  {
   "cell_type": "markdown",
   "metadata": {},
   "source": [
    "Модель бьет пороговое значение. Расчет делается очень быстро."
   ]
  },
  {
   "cell_type": "code",
   "execution_count": 96,
   "metadata": {},
   "outputs": [],
   "source": [
    "# запись результатов\n",
    "model_res_time(models[2])"
   ]
  },
  {
   "cell_type": "markdown",
   "metadata": {},
   "source": [
    "### CatBoost"
   ]
  },
  {
   "cell_type": "code",
   "execution_count": 97,
   "metadata": {},
   "outputs": [
    {
     "data": {
      "text/plain": [
       "[2, 3, 4, 5, 6, 7, 8, 9]"
      ]
     },
     "execution_count": 97,
     "metadata": {},
     "output_type": "execute_result"
    }
   ],
   "source": [
    "# Создам список индексов кат полей, которые идут в препроцессоре после чиленных полей\n",
    "combined_features = num_features + cat_features\n",
    "cat_indices = [index for index, item in enumerate(combined_features) if item in cat_features]\n",
    "cat_indices"
   ]
  },
  {
   "cell_type": "code",
   "execution_count": 98,
   "metadata": {},
   "outputs": [],
   "source": [
    "# Инициализация модели CatBoostClassifier\n",
    "model_CatBoost = CatBoostClassifier(cat_features=cat_indices,\n",
    "                                    random_state=RAND_STATE,verbose=False)"
   ]
  },
  {
   "cell_type": "code",
   "execution_count": 99,
   "metadata": {},
   "outputs": [],
   "source": [
    "models_init['CatBoost'] = CatBoostClassifier(cat_features=cat_indices,\n",
    "                                             random_state=RAND_STATE,verbose=False)"
   ]
  },
  {
   "cell_type": "code",
   "execution_count": 100,
   "metadata": {},
   "outputs": [],
   "source": [
    "# Сетка гиперпараметров\n",
    "grid_CatBoost = {\n",
    "          'model__max_depth': [3, 5], #[4, 8],\n",
    "          'model__learning_rate': [0.01, 0.1], #[0.005, 0.01, 0.1],\n",
    "#           'n_estimators': [100, 200]\n",
    "          }"
   ]
  },
  {
   "cell_type": "code",
   "execution_count": 101,
   "metadata": {},
   "outputs": [
    {
     "name": "stderr",
     "output_type": "stream",
     "text": [
      "  0%|          | 0/1 [00:00<?, ?it/s]The total space of parameters 4 is smaller than n_iter=10. Running 4 iterations. For exhaustive searches, use GridSearchCV.\n",
      "100%|██████████| 1/1 [03:32<00:00, 212.52s/it]\n"
     ]
    }
   ],
   "source": [
    "# Обучим модель на исходных данных - расчет около 3 минут\n",
    "for i in tqdm(range(1)): # применил цикл с одной итерацией для запуска статус бара tqdm\n",
    "    random_cv_CatBoost = f_random_cv(model_CatBoost,grid_CatBoost,CV,scoring,X_train,y_train)"
   ]
  },
  {
   "cell_type": "code",
   "execution_count": 102,
   "metadata": {},
   "outputs": [
    {
     "name": "stdout",
     "output_type": "stream",
     "text": [
      "Best params CatBoost:  {'model__max_depth': 3, 'model__learning_rate': 0.1}\n",
      "Best score CatBoost:  0.918782706237414\n"
     ]
    }
   ],
   "source": [
    "# лучшие гиперпараметры и значение метрики\n",
    "print(\"Best params CatBoost: \", random_cv_CatBoost.best_params_)\n",
    "print(\"Best score CatBoost: \", random_cv_CatBoost.best_score_)"
   ]
  },
  {
   "cell_type": "code",
   "execution_count": 103,
   "metadata": {},
   "outputs": [],
   "source": [
    "model_res_time(models[3])"
   ]
  },
  {
   "cell_type": "markdown",
   "metadata": {},
   "source": [
    "Модель показала самый высокий скор. Но при этом обучалас дольше других моделей."
   ]
  },
  {
   "cell_type": "markdown",
   "metadata": {},
   "source": [
    "\n",
    "Создам функцию с для построения графика AUC."
   ]
  },
  {
   "cell_type": "markdown",
   "metadata": {},
   "source": [
    "<div style=\"background: #B0E0E6; padding: 5px; border: 1px solid SteelBlue; border-radius: 5px;\">\n",
    "    <font color='4682B4'><u><b>__</b></u></font>\n",
    "    <br />\n",
    "    <font color='4682B4'> Добавил отдельную функцию для построения графиков auc_plot_CV(models, X_tr, y_tr) графика с использованием только cross_val_predict.\n",
    "        \n",
    "\n",
    "И оставил предыдущую функцию auc_plot_full(models, X_tr, y_tr, X_te=None, y_te=None, fold_index=-1), для того, чтобы можно было строить график без кросс-валидации и в сценарии обучения и теста на разных выборках\n",
    "   </font>\n",
    "</div>"
   ]
  },
  {
   "cell_type": "code",
   "execution_count": 104,
   "metadata": {},
   "outputs": [],
   "source": [
    "def auc_plot_CV(models, X_tr, y_tr):\n",
    "    \"\"\"\n",
    "    Cтроит ROC-кривую для заданных моделей с использованием кросс-валидации.\n",
    "\n",
    "    Аргументы:\n",
    "    - models: список имен моделей для оценки\n",
    "    - X_tr: признаки для обучения моделей\n",
    "    - y_tr: целевая переменная обучающей выборки\n",
    "\n",
    "    Возвращает:\n",
    "    - best_models_cv: список лучших обученных моделей\n",
    "    \"\"\"\n",
    "\n",
    "    # обучение и тест только на обучающей выборке\n",
    "    X_train = X_tr\n",
    "    X_test = X_tr\n",
    "    y_train = y_tr\n",
    "    y_test = y_tr\n",
    "    fig, ax = plt.subplots()\n",
    "    best_models_cv = [] # обученные модели\n",
    "    \n",
    "    for model_name in tqdm(models):\n",
    "        # Получение обученной модели по имени\n",
    "        m = globals()['random_cv_' + model_name]\n",
    "        # Обучение модели\n",
    "        model = m.best_estimator_\n",
    "        model.fit(X_train, y_train)\n",
    "        best_models_cv.append(model)\n",
    "        \n",
    "        # Проверка, поддерживает ли модель метод .predict_proba()\n",
    "        if hasattr(model, 'predict_proba'):\n",
    "            method='predict_proba'\n",
    "            y_pred_prob = cross_val_predict(model,X_test,y_test,cv=CV,method=method)[:, 1]\n",
    "        else:\n",
    "            method='decision_function'\n",
    "            y_pred_prob = cross_val_predict(model,X_test,y_test,cv=CV,method=method)\n",
    "#         print(model_name,y_pred_prob)\n",
    "        \n",
    "        # Расчет значения ROC-AUC\n",
    "        roc_auc = roc_auc_score(y_test, y_pred_prob)\n",
    "        # Расчет значения FPR (False Positive Rate) и TPR (True Positive Rate)\n",
    "        fpr, tpr, _ = roc_curve(y_test, y_pred_prob)\n",
    "        # Построение ROC-кривой\n",
    "        ax.plot(fpr, tpr, label=f'{model_name} (AUC = {roc_auc:.2f})')\n",
    "\n",
    "    # Добавление легенды и подписей к осям\n",
    "    ax.legend()\n",
    "    ax.set_xlabel('False Positive Rate')\n",
    "    ax.set_ylabel('True Positive Rate')\n",
    "    ax.set_title('ROC Curve with CV')\n",
    "    \n",
    "    # Отображение графика\n",
    "    plt.show()\n",
    "\n",
    "    return best_models_cv"
   ]
  },
  {
   "cell_type": "code",
   "execution_count": 105,
   "metadata": {},
   "outputs": [],
   "source": [
    "def auc_plot_full(models, X_tr, y_tr, X_te=None, y_te=None, fold_index=-1):\n",
    "    \"\"\"\n",
    "    Cтроит ROC-кривую для заданных моделей.\n",
    "\n",
    "    Аргументы:\n",
    "    - models: список имен моделей для оценки\n",
    "    - X_tr: признаки для обучения моделей\n",
    "    - X_te: признаки тестовой выборки\n",
    "    - y_tr: целевая переменная обучающей выборки\n",
    "    - y_te: целевая переменная тестовой выборки\n",
    "    - fold_index: индекс фолда для кросс-валидации (-1, если нет кросс-валидации)\n",
    "     при fold_index = -1 обучение производится на всей выборке X_tr\n",
    "     по умолчанию тестовые выборки не используются, и обучение и тест - на всей выборке\n",
    "     \n",
    "\n",
    "    Возвращает:\n",
    "    - best_models: список лучших обученных моделей\n",
    "    \"\"\"\n",
    "\n",
    "    \n",
    "    # используются фолды, обучение и тест только на обучающей выборке\n",
    "    # моделируется один из проходов кроссвалидации\n",
    "    if fold_index != -1 and X_te == None and y_te == None:\n",
    "        X_train = X_tr.loc[X_tr.index[fold_train[fold_index]].tolist()]\n",
    "        X_test  = X_tr.loc[X_tr.index[fold_test[fold_index]].tolist()]\n",
    "        y_train = y_tr.loc[X_tr.index[fold_train[fold_index]].tolist()]\n",
    "        y_test = y_tr.loc[X_tr.index[fold_test[fold_index]].tolist()]\n",
    "    # не используются фолды, обучение и тест только на обучающей выборке\n",
    "    # моделируется переобучение\n",
    "    elif fold_index == -1 and X_te == None and y_te == None:\n",
    "        X_train = X_tr\n",
    "        X_test  = X_tr\n",
    "        y_train = y_tr\n",
    "        y_test = y_tr\n",
    "    # не используются фолды, обучение и тест на разных выборках\n",
    "    # сторится график для выбранной модели\n",
    "    elif fold_index == -1 and X_te != None and y_te != None:\n",
    "        X_train = X_tr\n",
    "        X_test  = X_te\n",
    "        y_train = y_tr\n",
    "        y_test = y_te\n",
    "    else:\n",
    "        X_train = X_tr\n",
    "        X_test = X_tr\n",
    "        y_train = y_tr\n",
    "        y_test = y_tr\n",
    "    fig, ax = plt.subplots()\n",
    "    best_models = [] # обученные модели\n",
    "    \n",
    "    for model_name in tqdm(models):\n",
    "        # Получение обученной модели по имени\n",
    "        m = globals()['random_cv_' + model_name]\n",
    "        # Обучение модели\n",
    "        model = m.best_estimator_\n",
    "        model.fit(X_train, y_train)\n",
    "        best_models.append(model)\n",
    "        \n",
    "        # Проверка, поддерживает ли модель метод .predict_proba()\n",
    "        if hasattr(model, 'predict_proba'):\n",
    "            # Прогнозирование вероятностей на обучающем наборе данных\n",
    "            y_pred_prob = model.predict_proba(X_test)[:, 1]\n",
    "        else:\n",
    "            # Если метод .predict_proba() не поддерживается, используем .predict()\n",
    "            y_pred_prob = model.decision_function(X_test)\n",
    "#         print(model_name,y_pred_prob)\n",
    "        \n",
    "       \n",
    "        # Расчет значения ROC-AUC\n",
    "        roc_auc = roc_auc_score(y_test, y_pred_prob)\n",
    "#         print(model, roc_auc)\n",
    "        # Расчет значения FPR (False Positive Rate) и TPR (True Positive Rate)\n",
    "        fpr, tpr, _ = roc_curve(y_test, y_pred_prob)\n",
    "        \n",
    "        # Построение ROC-кривой\n",
    "        ax.plot(fpr, tpr, label=f'{model_name} (AUC = {roc_auc:.2f})')\n",
    "\n",
    "    # Добавление легенды и подписей к осям\n",
    "    ax.legend()\n",
    "    ax.set_xlabel('False Positive Rate')\n",
    "    ax.set_ylabel('True Positive Rate')\n",
    "    if fold_index != -1 and X_te == None and y_te == None:\n",
    "        ax.set_title('ROC Curve with CV')\n",
    "    elif fold_index == -1 and X_te == None and y_te == None:\n",
    "        ax.set_title('ROC Curve overfitted')\n",
    "    elif fold_index == -1 and X_te != None and y_te != None:\n",
    "        ax.set_title('ROC Curve train-test_full')\n",
    "    else: ax.set_title('ROC Curve default')\n",
    "    \n",
    "    # Отображение графика\n",
    "    plt.show()\n",
    "\n",
    "    return best_models"
   ]
  },
  {
   "cell_type": "code",
   "execution_count": 106,
   "metadata": {},
   "outputs": [
    {
     "name": "stderr",
     "output_type": "stream",
     "text": [
      "100%|██████████| 4/4 [00:22<00:00,  5.53s/it]\n"
     ]
    },
    {
     "data": {
      "image/png": "[encoded data removed]",
      "text/plain": [
       "<Figure size 640x480 with 1 Axes>"
      ]
     },
     "metadata": {},
     "output_type": "display_data"
    }
   ],
   "source": [
    "# посмотрим кривые AUC при обучении и тесте на всей обучающей выборке\n",
    "best_models_overfitted = auc_plot_full(models, X_train, y_train);"
   ]
  },
  {
   "cell_type": "code",
   "execution_count": 107,
   "metadata": {},
   "outputs": [
    {
     "name": "stderr",
     "output_type": "stream",
     "text": [
      "100%|██████████| 4/4 [01:44<00:00, 26.23s/it]\n"
     ]
    },
    {
     "data": {
      "image/png": "[encoded data removed]",
      "text/plain": [
       "<Figure size 640x480 with 1 Axes>"
      ]
     },
     "metadata": {},
     "output_type": "display_data"
    }
   ],
   "source": [
    "# Построим кривый для кроссвалидации на обучающей выборке\n",
    "best_models_cv = auc_plot_CV(models, X_train, y_train)"
   ]
  },
  {
   "cell_type": "markdown",
   "metadata": {},
   "source": [
    "<div style=\"background: #B0E0E6; padding: 5px; border: 1px solid SteelBlue; border-radius: 5px;\">\n",
    "    <font color='4682B4'><u><b></b></u></font>\n",
    "    <br />\n",
    "    <font color='4682B4'> Видим, что линейная модель лог.регрессии практически не переобучается: ее метрика сохраняется при обучении-тесте на всей выборке и при использовании кросс-валидации. Случайный лес имеет худшую обощающую способность (хорошо обучается и сильно теряет на тесте).\n",
    "\n",
    "Модели бустинга имеют лучшие метрики ROC_AUC\n",
    "\n",
    "   </font>\n",
    "</div>"
   ]
  },
  {
   "cell_type": "markdown",
   "metadata": {},
   "source": [
    "<div style=\"background: #B0E0E6; padding: 5px; border: 1px solid SteelBlue; border-radius: 5px;\">\n",
    "    <font color='4682B4'><u><b></b></u></font>\n",
    "    <br />\n",
    "    <font color='4682B4'> Добавил отдельный расчет метрик с использованием cv_results_` из обученных  `RandomizedSearchCV`\n",
    "\n",
    "При этом метрика roc_auc и время обучения считалось и записывалось выше- сразу после выполнения `RandomizedSearchCV`\n",
    "   </font>\n",
    "</div>"
   ]
  },
  {
   "cell_type": "markdown",
   "metadata": {},
   "source": [
    "Посмотрим сводку уже полученных данных"
   ]
  },
  {
   "cell_type": "code",
   "execution_count": 108,
   "metadata": {},
   "outputs": [
    {
     "data": {
      "text/html": [
       "<div>\n",
       "<style scoped>\n",
       "    .dataframe tbody tr th:only-of-type {\n",
       "        vertical-align: middle;\n",
       "    }\n",
       "\n",
       "    .dataframe tbody tr th {\n",
       "        vertical-align: top;\n",
       "    }\n",
       "\n",
       "    .dataframe thead th {\n",
       "        text-align: right;\n",
       "    }\n",
       "</style>\n",
       "<table border=\"1\" class=\"dataframe\">\n",
       "  <thead>\n",
       "    <tr style=\"text-align: right;\">\n",
       "      <th></th>\n",
       "      <th>ROC_AUC_CV</th>\n",
       "      <th>total_time_train_CV</th>\n",
       "      <th>best_model_time_train_CV</th>\n",
       "    </tr>\n",
       "  </thead>\n",
       "  <tbody>\n",
       "    <tr>\n",
       "      <th>Ridge_poly</th>\n",
       "      <td>0.830279</td>\n",
       "      <td>0.730812</td>\n",
       "      <td>0.049251</td>\n",
       "    </tr>\n",
       "    <tr>\n",
       "      <th>Random_forest</th>\n",
       "      <td>0.823663</td>\n",
       "      <td>7.087017</td>\n",
       "      <td>0.744941</td>\n",
       "    </tr>\n",
       "    <tr>\n",
       "      <th>Light_GBM</th>\n",
       "      <td>0.901219</td>\n",
       "      <td>1.459541</td>\n",
       "      <td>0.080823</td>\n",
       "    </tr>\n",
       "    <tr>\n",
       "      <th>CatBoost</th>\n",
       "      <td>0.918783</td>\n",
       "      <td>185.769748</td>\n",
       "      <td>36.650023</td>\n",
       "    </tr>\n",
       "  </tbody>\n",
       "</table>\n",
       "</div>"
      ],
      "text/plain": [
       "               ROC_AUC_CV  total_time_train_CV  best_model_time_train_CV\n",
       "Ridge_poly       0.830279             0.730812                  0.049251\n",
       "Random_forest    0.823663             7.087017                  0.744941\n",
       "Light_GBM        0.901219             1.459541                  0.080823\n",
       "CatBoost         0.918783           185.769748                 36.650023"
      ]
     },
     "execution_count": 108,
     "metadata": {},
     "output_type": "execute_result"
    }
   ],
   "source": [
    "model_results"
   ]
  },
  {
   "cell_type": "markdown",
   "metadata": {},
   "source": [
    "Нам необходимо также получить метрики 'accuracy', 'recall', 'precision' для кросс-валидации"
   ]
  },
  {
   "cell_type": "code",
   "execution_count": 109,
   "metadata": {},
   "outputs": [],
   "source": [
    "# Определение списка метрик\n",
    "metrics = ['accuracy', 'recall', 'precision']"
   ]
  },
  {
   "cell_type": "code",
   "execution_count": 110,
   "metadata": {},
   "outputs": [],
   "source": [
    "def calculate_metrics(models, X, y, scoring):\n",
    "    \"\"\"\n",
    "    Вычисляет метрики производительности для best_estimator_\n",
    "    каждой модели.\n",
    "\n",
    "    Аргументы:\n",
    "    - models: список имен моделей для оценки\n",
    "    - X: признаки для обучения моделей\n",
    "    - y: целевая переменная\n",
    "    - scoring: список метрик\n",
    "\n",
    "    Возвращает:\n",
    "    - model_results: DataFrame с результатами метрик для каждой модели\n",
    "    \"\"\"\n",
    "\n",
    "    confusion_matrices = {}\n",
    "    \n",
    "    for model_name in tqdm(models):\n",
    "        # Получение объекта RandomSearchCV по имени\n",
    "        random_search = globals()['random_cv_' + model_name]\n",
    "        # Получение лучшей модели\n",
    "        best_model = random_search.best_estimator_\n",
    "\n",
    "        # Кросс-валидация с расчетом указанных метрик\n",
    "        cv_results = cross_validate(best_model, X, y, scoring=metrics, cv=CV)\n",
    "\n",
    "        # Вычисление метрик производительности\n",
    "#         cv_results = random_search.cv_results_\n",
    "        for metric in scoring:\n",
    "            scores = cv_results[f'test_{metric}']\n",
    "            metric_value = np.mean(scores)\n",
    "            model_results.loc[model_name, metric] = metric_value\n",
    "\n",
    "\n",
    "\n",
    "    return model_results"
   ]
  },
  {
   "cell_type": "code",
   "execution_count": 111,
   "metadata": {},
   "outputs": [
    {
     "name": "stderr",
     "output_type": "stream",
     "text": [
      "100%|██████████| 4/4 [01:22<00:00, 20.67s/it]\n"
     ]
    }
   ],
   "source": [
    "model_results = calculate_metrics(models,X_train, y_train, metrics)"
   ]
  },
  {
   "cell_type": "markdown",
   "metadata": {},
   "source": [
    "Посмотрим итоговую сводку по метрикам моделей"
   ]
  },
  {
   "cell_type": "code",
   "execution_count": 112,
   "metadata": {},
   "outputs": [
    {
     "data": {
      "text/html": [
       "<div>\n",
       "<style scoped>\n",
       "    .dataframe tbody tr th:only-of-type {\n",
       "        vertical-align: middle;\n",
       "    }\n",
       "\n",
       "    .dataframe tbody tr th {\n",
       "        vertical-align: top;\n",
       "    }\n",
       "\n",
       "    .dataframe thead th {\n",
       "        text-align: right;\n",
       "    }\n",
       "</style>\n",
       "<table border=\"1\" class=\"dataframe\">\n",
       "  <thead>\n",
       "    <tr style=\"text-align: right;\">\n",
       "      <th></th>\n",
       "      <th>ROC_AUC_CV</th>\n",
       "      <th>total_time_train_CV</th>\n",
       "      <th>best_model_time_train_CV</th>\n",
       "      <th>accuracy</th>\n",
       "      <th>recall</th>\n",
       "      <th>precision</th>\n",
       "    </tr>\n",
       "  </thead>\n",
       "  <tbody>\n",
       "    <tr>\n",
       "      <th>Ridge_poly</th>\n",
       "      <td>0.830279</td>\n",
       "      <td>0.730812</td>\n",
       "      <td>0.049251</td>\n",
       "      <td>0.858387</td>\n",
       "      <td>0.072344</td>\n",
       "      <td>0.887775</td>\n",
       "    </tr>\n",
       "    <tr>\n",
       "      <th>Random_forest</th>\n",
       "      <td>0.823663</td>\n",
       "      <td>7.087017</td>\n",
       "      <td>0.744941</td>\n",
       "      <td>0.747632</td>\n",
       "      <td>0.727771</td>\n",
       "      <td>0.342295</td>\n",
       "    </tr>\n",
       "    <tr>\n",
       "      <th>Light_GBM</th>\n",
       "      <td>0.901219</td>\n",
       "      <td>1.459541</td>\n",
       "      <td>0.080823</td>\n",
       "      <td>0.911207</td>\n",
       "      <td>0.502564</td>\n",
       "      <td>0.852440</td>\n",
       "    </tr>\n",
       "    <tr>\n",
       "      <th>CatBoost</th>\n",
       "      <td>0.918783</td>\n",
       "      <td>185.769748</td>\n",
       "      <td>36.650023</td>\n",
       "      <td>0.914049</td>\n",
       "      <td>0.499543</td>\n",
       "      <td>0.881976</td>\n",
       "    </tr>\n",
       "  </tbody>\n",
       "</table>\n",
       "</div>"
      ],
      "text/plain": [
       "               ROC_AUC_CV  total_time_train_CV  best_model_time_train_CV  \\\n",
       "Ridge_poly       0.830279             0.730812                  0.049251   \n",
       "Random_forest    0.823663             7.087017                  0.744941   \n",
       "Light_GBM        0.901219             1.459541                  0.080823   \n",
       "CatBoost         0.918783           185.769748                 36.650023   \n",
       "\n",
       "               accuracy    recall  precision  \n",
       "Ridge_poly     0.858387  0.072344   0.887775  \n",
       "Random_forest  0.747632  0.727771   0.342295  \n",
       "Light_GBM      0.911207  0.502564   0.852440  \n",
       "CatBoost       0.914049  0.499543   0.881976  "
      ]
     },
     "execution_count": 112,
     "metadata": {},
     "output_type": "execute_result"
    }
   ],
   "source": [
    "model_results"
   ]
  },
  {
   "cell_type": "markdown",
   "metadata": {},
   "source": [
    "Исходя из данной таблицы результатов, можно сделать следующие выводы:\n",
    "\n",
    "  - Показатель ROC AUC является важной метрикой для оценки качества моделей. В данном случае, модель CatBoost показывает наивысший показатель ROC AUC, что может указывать на хорошую способность модели разделять классы.\n",
    "\n",
    "  - Время обучения на кросс-валидации (time_train_CV) варьируется в значительной степени между моделями. Модель Light GBM имеет самое низкое время обучения, в то время как модель CatBoost требует наибольшего времени.\n",
    "\n",
    "  - Модель CatBoost показывает высокую точность (accuracy), что указывает на способность модели правильно классифицировать большую долю данных.\n",
    "\n",
    "  - Показатель полноты (recall) отражает способность модели правильно идентифицировать положительный класс. Модель CatBoost имеет показатель полноты (0.49), что уступает случайному лесу.\n",
    "\n",
    "  - Показатель точности (precision) отражает способность модели избегать ложноположительных результатов. Модель CatBoost имеет высокий показатель точности (0.880), что означает, что она способна минимизировать число ложноположительных предсказаний.\n",
    "\n",
    "Таким образом, модель CatBoost демонстрирует лучшие результаты по нескольким метрикам, включая ROC AUC, точность, полноту и точность, хотя время обучения у нее также является наибольшим среди рассмотренных моделей."
   ]
  },
  {
   "cell_type": "markdown",
   "metadata": {},
   "source": [
    "Для прогноза будем использовать модель CatBoost"
   ]
  },
  {
   "cell_type": "markdown",
   "metadata": {},
   "source": [
    "### Объяснение модели"
   ]
  },
  {
   "cell_type": "code",
   "execution_count": 113,
   "metadata": {},
   "outputs": [],
   "source": [
    "feature_importance = pd.Series(random_cv_CatBoost.best_estimator_['model'].feature_importances_,\n",
    "                               index=combined_features)"
   ]
  },
  {
   "cell_type": "code",
   "execution_count": 114,
   "metadata": {},
   "outputs": [],
   "source": [
    "feature_importance = (feature_importance/feature_importance.max()).sort_values(ascending=False)"
   ]
  },
  {
   "cell_type": "code",
   "execution_count": 115,
   "metadata": {},
   "outputs": [
    {
     "data": {
      "image/png": "[encoded data removed]",
      "text/plain": [
       "<Figure size 1400x800 with 1 Axes>"
      ]
     },
     "metadata": {},
     "output_type": "display_data"
    }
   ],
   "source": [
    "plt.figure(figsize=(14,8))\n",
    "sns.barplot(x=feature_importance.values, y=feature_importance.index)\n",
    "plt.title('Feature Importance', fontsize=16)\n",
    "plt.xlabel('Importance', fontsize=16)\n",
    "plt.ylabel('Feature', fontsize=16)\n",
    "plt.grid()\n",
    "# Сохранение графика в файл\n",
    "# plt.savefig('feature_importance_plot.png')\n",
    "plt.show()\n"
   ]
  },
  {
   "cell_type": "markdown",
   "metadata": {},
   "source": [
    "### Используем библиотеку SHAP"
   ]
  },
  {
   "cell_type": "code",
   "execution_count": 116,
   "metadata": {},
   "outputs": [],
   "source": [
    "explainer = shap.Explainer(random_cv_CatBoost.best_estimator_['model'])"
   ]
  },
  {
   "cell_type": "markdown",
   "metadata": {},
   "source": [
    "Поскольку модель выдает трансформированные имена полей - в виде их индексов, преобразуем названия полей, для того, чтобы explainer смог их прочитать"
   ]
  },
  {
   "cell_type": "code",
   "execution_count": 117,
   "metadata": {},
   "outputs": [],
   "source": [
    "fields = list(combined_features)\n",
    "# Переупорядочите столбцы в X_train\n",
    "X_train_ordered = X_train.reindex(columns=fields)\n",
    "# Сформируйте словарь для переименования полей категориальных признаков\n",
    "rename_dict = {old_name: str(cat_indices[i]) for i, old_name in enumerate(cat_features)}\n",
    "# Переименуйте поля в X_train_ordered\n",
    "X_train_ordered.rename(columns=rename_dict, inplace=True)\n",
    "# X_train_ordered"
   ]
  },
  {
   "cell_type": "code",
   "execution_count": 118,
   "metadata": {},
   "outputs": [],
   "source": [
    "shap_values_train = explainer(X_train_ordered)"
   ]
  },
  {
   "cell_type": "markdown",
   "metadata": {},
   "source": [
    "Построим диаграмму того, какие признаки, в целом, являются наиболее важными для прогнозов, выдаваемых моделью"
   ]
  },
  {
   "cell_type": "code",
   "execution_count": 119,
   "metadata": {},
   "outputs": [
    {
     "data": {
      "image/png": "[encoded data removed]",
      "text/plain": [
       "<Figure size 800x650 with 1 Axes>"
      ]
     },
     "metadata": {},
     "output_type": "display_data"
    },
    {
     "data": {
      "text/plain": [
       "<Figure size 640x480 with 0 Axes>"
      ]
     },
     "metadata": {},
     "output_type": "display_data"
    }
   ],
   "source": [
    "shap.plots.bar(shap_values_train);\n",
    "plt.savefig('shap_values_plot.png')\n",
    "# Отобразите график\n",
    "plt.show();"
   ]
  },
  {
   "cell_type": "code",
   "execution_count": 120,
   "metadata": {},
   "outputs": [
    {
     "data": {
      "text/html": [
       "<div>\n",
       "<style scoped>\n",
       "    .dataframe tbody tr th:only-of-type {\n",
       "        vertical-align: middle;\n",
       "    }\n",
       "\n",
       "    .dataframe tbody tr th {\n",
       "        vertical-align: top;\n",
       "    }\n",
       "\n",
       "    .dataframe thead th {\n",
       "        text-align: right;\n",
       "    }\n",
       "</style>\n",
       "<table border=\"1\" class=\"dataframe\">\n",
       "  <thead>\n",
       "    <tr style=\"text-align: right;\">\n",
       "      <th></th>\n",
       "      <th>Duration</th>\n",
       "      <th>MonthlyCharges</th>\n",
       "      <th>2</th>\n",
       "      <th>3</th>\n",
       "      <th>4</th>\n",
       "      <th>5</th>\n",
       "      <th>6</th>\n",
       "      <th>7</th>\n",
       "      <th>8</th>\n",
       "      <th>9</th>\n",
       "    </tr>\n",
       "  </thead>\n",
       "  <tbody>\n",
       "    <tr>\n",
       "      <th>0</th>\n",
       "      <td>Duration</td>\n",
       "      <td>MonthlyCharges</td>\n",
       "      <td>Type</td>\n",
       "      <td>PaymentMethod</td>\n",
       "      <td>PaperlessBilling</td>\n",
       "      <td>gender</td>\n",
       "      <td>SeniorCitizen</td>\n",
       "      <td>Partner</td>\n",
       "      <td>Dependents</td>\n",
       "      <td>MultipleLines</td>\n",
       "    </tr>\n",
       "  </tbody>\n",
       "</table>\n",
       "</div>"
      ],
      "text/plain": [
       "   Duration  MonthlyCharges     2              3                 4       5  \\\n",
       "0  Duration  MonthlyCharges  Type  PaymentMethod  PaperlessBilling  gender   \n",
       "\n",
       "               6        7           8              9  \n",
       "0  SeniorCitizen  Partner  Dependents  MultipleLines  "
      ]
     },
     "execution_count": 120,
     "metadata": {},
     "output_type": "execute_result"
    }
   ],
   "source": [
    "pd.DataFrame(combined_features,index=X_train_ordered.columns).transpose()"
   ]
  },
  {
   "cell_type": "markdown",
   "metadata": {},
   "source": [
    "Впереди с отрывом признак дюрации контракта. Далее в топ 3 по важности- месячные платежи и 4-признак безмумажного выставления счетов"
   ]
  },
  {
   "cell_type": "markdown",
   "metadata": {},
   "source": [
    "Посмотрим график взаимоотношений между признаками и прогнозами модели"
   ]
  },
  {
   "cell_type": "code",
   "execution_count": 121,
   "metadata": {},
   "outputs": [
    {
     "name": "stderr",
     "output_type": "stream",
     "text": [
      "No data for colormapping provided via 'c'. Parameters 'vmin', 'vmax' will be ignored\n"
     ]
    },
    {
     "data": {
      "image/png": "[encoded data removed]",
      "text/plain": [
       "<Figure size 800x550 with 2 Axes>"
      ]
     },
     "metadata": {},
     "output_type": "display_data"
    }
   ],
   "source": [
    "shap.plots.beeswarm(shap_values_train);"
   ]
  },
  {
   "cell_type": "markdown",
   "metadata": {},
   "source": [
    "Для дюрации можно говорить об обратной зависимости между значимостью признака и его значением."
   ]
  },
  {
   "cell_type": "markdown",
   "metadata": {},
   "source": [
    "Посмотрим также диаграмму зависимости между отдельными значениями признаков и их SHAP‑значениями"
   ]
  },
  {
   "cell_type": "code",
   "execution_count": 122,
   "metadata": {},
   "outputs": [
    {
     "data": {
      "image/png": "[encoded data removed]",
      "text/plain": [
       "<Figure size 600x500 with 2 Axes>"
      ]
     },
     "metadata": {},
     "output_type": "display_data"
    }
   ],
   "source": [
    "# Получите значения SHAP для признака \"Duration\"\n",
    "shap.plots.scatter(shap_values_train[:,\"Duration\"])\n"
   ]
  },
  {
   "cell_type": "markdown",
   "metadata": {},
   "source": [
    "Видим что есть выброс значений значимости на околонулевой дюрации."
   ]
  },
  {
   "cell_type": "code",
   "execution_count": 123,
   "metadata": {},
   "outputs": [
    {
     "data": {
      "image/png": "[encoded data removed]",
      "text/plain": [
       "<Figure size 600x500 with 2 Axes>"
      ]
     },
     "metadata": {},
     "output_type": "display_data"
    }
   ],
   "source": [
    "shap.plots.scatter(shap_values_train[:,\"MonthlyCharges\"])"
   ]
  },
  {
   "cell_type": "markdown",
   "metadata": {},
   "source": [
    "На данном графике нелзя однозначно сделать вывод о зависимости значимости признака ежемесячных платежей от их размера."
   ]
  },
  {
   "cell_type": "markdown",
   "metadata": {},
   "source": [
    "### Тестирование моделей"
   ]
  },
  {
   "cell_type": "markdown",
   "metadata": {},
   "source": [
    "Создадим копию лучшего оценщика и запустим пайплайн обучения"
   ]
  },
  {
   "cell_type": "code",
   "execution_count": 124,
   "metadata": {},
   "outputs": [],
   "source": [
    "best_CatBoost = random_cv_CatBoost.best_estimator_"
   ]
  },
  {
   "cell_type": "code",
   "execution_count": 125,
   "metadata": {},
   "outputs": [
    {
     "data": {
      "text/html": [
       "<style>#sk-container-id-1 {color: black;}#sk-container-id-1 pre{padding: 0;}#sk-container-id-1 div.sk-toggleable {background-color: white;}#sk-container-id-1 label.sk-toggleable__label {cursor: pointer;display: block;width: 100%;margin-bottom: 0;padding: 0.3em;box-sizing: border-box;text-align: center;}#sk-container-id-1 label.sk-toggleable__label-arrow:before {content: \"▸\";float: left;margin-right: 0.25em;color: #696969;}#sk-container-id-1 label.sk-toggleable__label-arrow:hover:before {color: black;}#sk-container-id-1 div.sk-estimator:hover label.sk-toggleable__label-arrow:before {color: black;}#sk-container-id-1 div.sk-toggleable__content {max-height: 0;max-width: 0;overflow: hidden;text-align: left;background-color: #f0f8ff;}#sk-container-id-1 div.sk-toggleable__content pre {margin: 0.2em;color: black;border-radius: 0.25em;background-color: #f0f8ff;}#sk-container-id-1 input.sk-toggleable__control:checked~div.sk-toggleable__content {max-height: 200px;max-width: 100%;overflow: auto;}#sk-container-id-1 input.sk-toggleable__control:checked~label.sk-toggleable__label-arrow:before {content: \"▾\";}#sk-container-id-1 div.sk-estimator input.sk-toggleable__control:checked~label.sk-toggleable__label {background-color: #d4ebff;}#sk-container-id-1 div.sk-label input.sk-toggleable__control:checked~label.sk-toggleable__label {background-color: #d4ebff;}#sk-container-id-1 input.sk-hidden--visually {border: 0;clip: rect(1px 1px 1px 1px);clip: rect(1px, 1px, 1px, 1px);height: 1px;margin: -1px;overflow: hidden;padding: 0;position: absolute;width: 1px;}#sk-container-id-1 div.sk-estimator {font-family: monospace;background-color: #f0f8ff;border: 1px dotted black;border-radius: 0.25em;box-sizing: border-box;margin-bottom: 0.5em;}#sk-container-id-1 div.sk-estimator:hover {background-color: #d4ebff;}#sk-container-id-1 div.sk-parallel-item::after {content: \"\";width: 100%;border-bottom: 1px solid gray;flex-grow: 1;}#sk-container-id-1 div.sk-label:hover label.sk-toggleable__label {background-color: #d4ebff;}#sk-container-id-1 div.sk-serial::before {content: \"\";position: absolute;border-left: 1px solid gray;box-sizing: border-box;top: 0;bottom: 0;left: 50%;z-index: 0;}#sk-container-id-1 div.sk-serial {display: flex;flex-direction: column;align-items: center;background-color: white;padding-right: 0.2em;padding-left: 0.2em;position: relative;}#sk-container-id-1 div.sk-item {position: relative;z-index: 1;}#sk-container-id-1 div.sk-parallel {display: flex;align-items: stretch;justify-content: center;background-color: white;position: relative;}#sk-container-id-1 div.sk-item::before, #sk-container-id-1 div.sk-parallel-item::before {content: \"\";position: absolute;border-left: 1px solid gray;box-sizing: border-box;top: 0;bottom: 0;left: 50%;z-index: -1;}#sk-container-id-1 div.sk-parallel-item {display: flex;flex-direction: column;z-index: 1;position: relative;background-color: white;}#sk-container-id-1 div.sk-parallel-item:first-child::after {align-self: flex-end;width: 50%;}#sk-container-id-1 div.sk-parallel-item:last-child::after {align-self: flex-start;width: 50%;}#sk-container-id-1 div.sk-parallel-item:only-child::after {width: 0;}#sk-container-id-1 div.sk-dashed-wrapped {border: 1px dashed gray;margin: 0 0.4em 0.5em 0.4em;box-sizing: border-box;padding-bottom: 0.4em;background-color: white;}#sk-container-id-1 div.sk-label label {font-family: monospace;font-weight: bold;display: inline-block;line-height: 1.2em;}#sk-container-id-1 div.sk-label-container {text-align: center;}#sk-container-id-1 div.sk-container {/* jupyter's `normalize.less` sets `[hidden] { display: none; }` but bootstrap.min.css set `[hidden] { display: none !important; }` so we also need the `!important` here to be able to override the default hidden behavior on the sphinx rendered scikit-learn.org. See: https://github.com/scikit-learn/scikit-learn/issues/21755 */display: inline-block !important;position: relative;}#sk-container-id-1 div.sk-text-repr-fallback {display: none;}</style><div id=\"sk-container-id-1\" class=\"sk-top-container\"><div class=\"sk-text-repr-fallback\"><pre>Pipeline(steps=[(&#x27;preprocessor&#x27;,\n",
       "                 ColumnTransformer(remainder=&#x27;passthrough&#x27;,\n",
       "                                   transformers=[(&#x27;num&#x27;, StandardScaler(),\n",
       "                                                  [&#x27;Duration&#x27;,\n",
       "                                                   &#x27;MonthlyCharges&#x27;])])),\n",
       "                (&#x27;model&#x27;,\n",
       "                 &lt;catboost.core.CatBoostClassifier object at 0x0000015A4BE26050&gt;)])</pre><b>In a Jupyter environment, please rerun this cell to show the HTML representation or trust the notebook. <br />On GitHub, the HTML representation is unable to render, please try loading this page with nbviewer.org.</b></div><div class=\"sk-container\" hidden><div class=\"sk-item sk-dashed-wrapped\"><div class=\"sk-label-container\"><div class=\"sk-label sk-toggleable\"><input class=\"sk-toggleable__control sk-hidden--visually\" id=\"sk-estimator-id-1\" type=\"checkbox\" ><label for=\"sk-estimator-id-1\" class=\"sk-toggleable__label sk-toggleable__label-arrow\">Pipeline</label><div class=\"sk-toggleable__content\"><pre>Pipeline(steps=[(&#x27;preprocessor&#x27;,\n",
       "                 ColumnTransformer(remainder=&#x27;passthrough&#x27;,\n",
       "                                   transformers=[(&#x27;num&#x27;, StandardScaler(),\n",
       "                                                  [&#x27;Duration&#x27;,\n",
       "                                                   &#x27;MonthlyCharges&#x27;])])),\n",
       "                (&#x27;model&#x27;,\n",
       "                 &lt;catboost.core.CatBoostClassifier object at 0x0000015A4BE26050&gt;)])</pre></div></div></div><div class=\"sk-serial\"><div class=\"sk-item sk-dashed-wrapped\"><div class=\"sk-label-container\"><div class=\"sk-label sk-toggleable\"><input class=\"sk-toggleable__control sk-hidden--visually\" id=\"sk-estimator-id-2\" type=\"checkbox\" ><label for=\"sk-estimator-id-2\" class=\"sk-toggleable__label sk-toggleable__label-arrow\">preprocessor: ColumnTransformer</label><div class=\"sk-toggleable__content\"><pre>ColumnTransformer(remainder=&#x27;passthrough&#x27;,\n",
       "                  transformers=[(&#x27;num&#x27;, StandardScaler(),\n",
       "                                 [&#x27;Duration&#x27;, &#x27;MonthlyCharges&#x27;])])</pre></div></div></div><div class=\"sk-parallel\"><div class=\"sk-parallel-item\"><div class=\"sk-item\"><div class=\"sk-label-container\"><div class=\"sk-label sk-toggleable\"><input class=\"sk-toggleable__control sk-hidden--visually\" id=\"sk-estimator-id-3\" type=\"checkbox\" ><label for=\"sk-estimator-id-3\" class=\"sk-toggleable__label sk-toggleable__label-arrow\">num</label><div class=\"sk-toggleable__content\"><pre>[&#x27;Duration&#x27;, &#x27;MonthlyCharges&#x27;]</pre></div></div></div><div class=\"sk-serial\"><div class=\"sk-item\"><div class=\"sk-estimator sk-toggleable\"><input class=\"sk-toggleable__control sk-hidden--visually\" id=\"sk-estimator-id-4\" type=\"checkbox\" ><label for=\"sk-estimator-id-4\" class=\"sk-toggleable__label sk-toggleable__label-arrow\">StandardScaler</label><div class=\"sk-toggleable__content\"><pre>StandardScaler()</pre></div></div></div></div></div></div><div class=\"sk-parallel-item\"><div class=\"sk-item\"><div class=\"sk-label-container\"><div class=\"sk-label sk-toggleable\"><input class=\"sk-toggleable__control sk-hidden--visually\" id=\"sk-estimator-id-5\" type=\"checkbox\" ><label for=\"sk-estimator-id-5\" class=\"sk-toggleable__label sk-toggleable__label-arrow\">remainder</label><div class=\"sk-toggleable__content\"><pre>[&#x27;Type&#x27;, &#x27;PaperlessBilling&#x27;, &#x27;PaymentMethod&#x27;, &#x27;gender&#x27;, &#x27;SeniorCitizen&#x27;, &#x27;Partner&#x27;, &#x27;Dependents&#x27;, &#x27;MultipleLines&#x27;]</pre></div></div></div><div class=\"sk-serial\"><div class=\"sk-item\"><div class=\"sk-estimator sk-toggleable\"><input class=\"sk-toggleable__control sk-hidden--visually\" id=\"sk-estimator-id-6\" type=\"checkbox\" ><label for=\"sk-estimator-id-6\" class=\"sk-toggleable__label sk-toggleable__label-arrow\">passthrough</label><div class=\"sk-toggleable__content\"><pre>passthrough</pre></div></div></div></div></div></div></div></div><div class=\"sk-item\"><div class=\"sk-estimator sk-toggleable\"><input class=\"sk-toggleable__control sk-hidden--visually\" id=\"sk-estimator-id-7\" type=\"checkbox\" ><label for=\"sk-estimator-id-7\" class=\"sk-toggleable__label sk-toggleable__label-arrow\">CatBoostClassifier</label><div class=\"sk-toggleable__content\"><pre>&lt;catboost.core.CatBoostClassifier object at 0x0000015A4BE26050&gt;</pre></div></div></div></div></div></div></div>"
      ],
      "text/plain": [
       "Pipeline(steps=[('preprocessor',\n",
       "                 ColumnTransformer(remainder='passthrough',\n",
       "                                   transformers=[('num', StandardScaler(),\n",
       "                                                  ['Duration',\n",
       "                                                   'MonthlyCharges'])])),\n",
       "                ('model',\n",
       "                 <catboost.core.CatBoostClassifier object at 0x0000015A4BE26050>)])"
      ]
     },
     "execution_count": 125,
     "metadata": {},
     "output_type": "execute_result"
    }
   ],
   "source": [
    "best_CatBoost.fit(X_train,y_train)"
   ]
  },
  {
   "cell_type": "markdown",
   "metadata": {},
   "source": [
    "Выведем метрику ROC_AUC и Accuracy"
   ]
  },
  {
   "cell_type": "code",
   "execution_count": 126,
   "metadata": {},
   "outputs": [
    {
     "data": {
      "text/plain": [
       "0.9251178204240178"
      ]
     },
     "execution_count": 126,
     "metadata": {},
     "output_type": "execute_result"
    }
   ],
   "source": [
    "roc_auc_score(y_test, best_CatBoost.predict_proba(X_test)[:,1])"
   ]
  },
  {
   "cell_type": "code",
   "execution_count": 127,
   "metadata": {},
   "outputs": [
    {
     "data": {
      "text/plain": [
       "0.9244747302668939"
      ]
     },
     "execution_count": 127,
     "metadata": {},
     "output_type": "execute_result"
    }
   ],
   "source": [
    "accuracy_score(y_test, best_CatBoost.predict(X_test))"
   ]
  },
  {
   "cell_type": "markdown",
   "metadata": {},
   "source": [
    "Видим, что значение метрик на тестовой выборке соответствует значениям, полученным при кроссвалидации. Еще раз убедились, что обобщающая способность модели высокая."
   ]
  },
  {
   "cell_type": "markdown",
   "metadata": {},
   "source": [
    "<div style=\"background: #B0E0E6; padding: 5px; border: 1px solid SteelBlue; border-radius: 5px;\">\n",
    "    <font color='4682B4'><u><b>__</b></u></font>\n",
    "    <br />\n",
    "    <font color='4682B4'> Интерпритация Accuracy:\n",
    "        \n",
    "    Accuracy является метрикой, которая измеряет общую точность модели путем сравнения правильно классифицированных наблюдений (уход клиентов) с общим числом наблюдений в тестовом наборе данных. В данном случае, значение 0.9347 означает, что модель правильно предсказала уход клиента в примерно 93.47% случаев на тестовой выборке. Соответственно, для примерно 6,5% фактически ушедших клиентов модель не смогла спрогнозировать их уход.\n",
    "        \n",
    "Также учитывая дисбаланс классов можно говорить, что применительно ко всей клиентской базе, модель правильно определяет 14,61% (0.935*0.1563) из всех клиентов, которые уйдут, и не выявляет 1% уходящих клиентов.\n",
    "   </font>\n",
    "</div>"
   ]
  },
  {
   "cell_type": "markdown",
   "metadata": {},
   "source": [
    "Проанализируем матрицу ошибок"
   ]
  },
  {
   "cell_type": "code",
   "execution_count": 128,
   "metadata": {},
   "outputs": [],
   "source": [
    "# Вычисление матрицы несоответствий\n",
    "confusion_matrices = {}\n",
    "y_pred = best_CatBoost.predict(X_test)\n",
    "confusion_matrices['CatBoost'] = confusion_matrix(y_test, y_pred)"
   ]
  },
  {
   "cell_type": "code",
   "execution_count": 129,
   "metadata": {},
   "outputs": [
    {
     "data": {
      "image/png": "[encoded data removed]",
      "text/plain": [
       "<Figure size 1600x800 with 2 Axes>"
      ]
     },
     "metadata": {},
     "output_type": "display_data"
    }
   ],
   "source": [
    "# Определение количества подграфиков\n",
    "num_subplots = len(confusion_matrices)\n",
    "num_rows = math.ceil(num_subplots / 2)\n",
    "\n",
    "# Создание сетки для подграфиков\n",
    "fig, axes = plt.subplots(num_rows, 2, figsize=(16, 8*num_rows))\n",
    "axes = axes.flatten()\n",
    "\n",
    "# Построение тепловых карт для каждой матрицы несоответствий\n",
    "for i, (name, matrix) in enumerate(confusion_matrices.items()):\n",
    "    # Вычисление долей в матрице несоответствий\n",
    "    total = matrix.sum()\n",
    "    matrix_percent = matrix / total\n",
    "\n",
    "    # Построение тепловой карты с долями\n",
    "    sns.heatmap(pd.DataFrame(matrix_percent), annot=True, fmt=\".2%\", cmap='Blues', vmin=0, vmax=1, ax=axes[i])\n",
    "    axes[i].set(title=name, xlabel='Predictions', ylabel='True')\n",
    "\n",
    "# Удаление пустых подграфиков, если их число не кратно 2\n",
    "if num_subplots % 2 != 0:\n",
    "    fig.delaxes(axes[-1])\n",
    "\n",
    "plt.suptitle('Confusion Matrices', fontsize=14, y=1.1)\n",
    "plt.tight_layout()\n",
    "plt.show()"
   ]
  },
  {
   "cell_type": "code",
   "execution_count": 130,
   "metadata": {},
   "outputs": [
    {
     "data": {
      "text/plain": [
       "{'CatBoost': array([[1446,   12],\n",
       "        [ 121,  182]], dtype=int64)}"
      ]
     },
     "execution_count": 130,
     "metadata": {},
     "output_type": "execute_result"
    }
   ],
   "source": [
    "confusion_matrices"
   ]
  },
  {
   "cell_type": "markdown",
   "metadata": {},
   "source": [
    "   - Верно классифицированы отрицательные случаи (неуход клиента): 1446 (True Negatives).\n",
    "   - Неверно классифицированы положительные случаи (уход клиента) как отрицательные: 12 (False Negatives).\n",
    "   - Неверно классифицированы отрицательные случаи как положительные: 121 (False Positives).\n",
    "   - Верно классифицированы положительные случаи (уход клиента): 182 (True Positives).\n",
    "\n",
    "Из этой матрицы ошибок и информации о несбалансированности классов можно сделать следующие выводы:\n",
    "\n",
    "  - Модель CatBoost показывает хороший результат в определении неухода клиента (отрицательные случаи), что подтверждается высоким количеством верно классифицированных отрицательных случаев (True Negatives).\n",
    "\n",
    "  - Учитывая несбалансированность классов и факт того, что ушедшие клиенты составляют всего 15,63%, количество неверно классифицированных положительных случаев (False Negatives) равное 12 является важным. В данном случае, модель пропустила 12 ушедших клиента, что может быть нежелательным, особенно если сохранение клиентов имеет высокую важность.\n",
    "\n",
    "  - Количество ложноположительных случаев (False Positives) равное 121 указывает на то, что модель классифицирует некоторые отрицательные случаи как положительные. Это может привести к излишней затрате ресурсов на удержание клиентов, которые фактически не собираются уходить.\n",
    "\n",
    "Учитывая несбалансированность классов, модель CatBoost обладает некоторым потенциалом для улучшения в определении ушедших клиентов (положительных случаев), а также в сокращении ложноположительных предсказаний. Может потребоваться настройка пороговых значений вероятности классов или использование методов для балансировки классов, чтобы достичь лучшего баланса между полнотой и точностью модели."
   ]
  },
  {
   "cell_type": "markdown",
   "metadata": {},
   "source": [
    "## Вывод"
   ]
  },
  {
   "cell_type": "markdown",
   "metadata": {},
   "source": [
    "В ходе проведенной работы был выполнен анализ данных и построены модели для прогнозирования оттока клиентов. Можно сформулировать следующие ключевые выводы:\n",
    "\n",
    "   Время пользования услугами оказывает существенное влияние на решение клиента об уходе или остающемся. Большинство ушедших клиентов покидают компанию в первые месяцы. Это указывает на важность принятия мер для удержания клиентов в начальный период использования услуг.\n",
    "\n",
    "   Цена (ежемесячный платеж) является значимым фактором при выборе услуг. Клиенты, ориентированные на низкие стоимости и экономичные варианты, склонны менять провайдера.\n",
    "\n",
    "   Длительность контракта, тип оплаты и наличие партнера также оказывают влияние на решение клиента об уходе или остающемся. Постоянные клиенты имеют более долгую длительность контракта и часто предпочитают автоматическое списание средств. Это свидетельствует о важности создания программ лояльности для удержания клиентов.\n",
    "\n",
    "   Клиенты, подключающие дополнительные услуги (интернет, телефония, телевидение), склонны оставаться дольше. Это указывает на необходимость акцентирования внимания на дополнительных услугах и предложении пакетных предложений, которые повысят лояльность клиентов.\n",
    "\n",
    "   Большая часть ушедших клиентов платила больше, чем клиенты, которые остаются. Это может указывать на недовольство клиентов соотношением цены и предоставляемых услуг.\n",
    "\n",
    "   Анализ матриц несоответствий показал, что модели 'Light_GBM' и 'CatBoost' демонстрируют лучшие результаты в верном классифицировании объектов оттока. Они имеют более высокие значения верно классифицированных положительных и отрицательных объектов, что указывает на их хорошую обобщающую способность.\n",
    "\n",
    "   Модели 'Light_GBM' и 'CatBoost' рекомендуется использовать для прогнозирования оттока клиентов, так как они показывают наилучшие результаты в классификации."
   ]
  },
  {
   "attachments": {
    "%D0%B8%D0%B7%D0%BE%D0%B1%D1%80%D0%B0%D0%B6%D0%B5%D0%BD%D0%B8%D0%B5-2.png": {
     "image/png": "[encoded data removed]"
    }
   },
   "cell_type": "markdown",
   "metadata": {},
   "source": [
    "## Отчет\n",
    "\n",
    "### 1) Выполненные шаги\n",
    "1.1. Подготовка данных:\n",
    "   В начале работы были изучены таблицы данных и объединены в одну общую таблицу. Для бинарных признаков, в которых возникли пропуски, было решено заполнить пропуски третьей категорией. Для улучшения анализа и построения моделей были удалены признаки дат, а также добавлены новые признаки, такие как целевая метка (факт ухода клиента) и продолжительность пользования услугами.\n",
    "\n",
    "1.2. Исследовательский анализ:\n",
    "   Были проведены исследования зависимостей между признаками и целевым признаком (фактом ухода клиента). В результате был обнаружен мультиколлинеарный признак TotalCharges, который был удален для избежания проблем с мультиколлинеарностью. Также была выявлена небалансированность классов, что потребовало учета этого факта при построении моделей.\n",
    "\n",
    "1.3. Построение и обучение моделей:\n",
    "   Были построены и обучены несколько моделей с использованием кросс-валидации: полиномиальная ридж лог.регрессия, случайный лес и градиентный бустинг с использованием моделей LGBMClassifier и CatBoostClassifier. После обучения, была выбрана модель CatBoostClassifier, которая была протестирована на тестовой выборке, вычислена метрика AUC-ROC, а также оценены accuracy и склонность модели к предсказанию ложных ответов.\n",
    "\n",
    "1.4. Выводы:\n",
    "   Исходя из результатов, были сделаны выводы, что модель CatBoostClassifier показала наилучшие результаты по метрике AUC-ROC и общей точности предсказаний. Модель имеют меньшую склонность к предсказанию ложных ответов и обладают хорошей способностью обобщения. Таким образом, для прогнозирования оттока клиентов рекомендуется использовать CatBoostClassifier.\n",
    "   \n",
    "### 2) Анализ соответствия фактической работы запланированным шагам\n",
    "\n",
    "   Проверка и подготовка данных:\n",
    "       - Фактически были выполнены все запланированные шаги, включая поиск ошибок и пропусков, оценку статистик численных значений, сравнение датафреймов на пересечение индексов, создание общего датафрейма и определение категориальных полей, а также заполнение пропусков в обобщенной таблице.\n",
    "\n",
    "   Исследовательский анализ:\n",
    "      - В ходе работы были исследованы зависимости признаков от целевого признака, а также была проведена проверка сбалансированности классов. Была обнаружена несбалансированность классов, учтена при построении моделей. Также был обнаружен мультиколлинеарный признак и он был удален для избежания проблем с мультиколлинеарностью.\n",
    "\n",
    "   Построение и обучение моделей:\n",
    "      - В рамках выполненной работы было построено несколько моделей с использованием кросс-валидации, включая полиномиальную ридж логистическую регрессию, случайный лес, LGBMClassifier и CatBoostClassifier. Модели были обучены и оценены на основе метрик AUC-ROC, accuracy, а также была проведена оценка их склонности к предсказанию ложных ответов.\n",
    "\n",
    "   Выводы:\n",
    "      - Выводы, сделанные в ходе фактической работы, соответствуют запланированным шагам. Было определено, что модель CatBoostClassifier показала наилучшие результаты по метрике AUC-ROC и общей точности предсказаний. Также было отмечено, что модель обладает меньшей склонностью к предсказанию ложных ответов и хорошей способностью обобщения. В результате, для прогнозирования оттока клиентов было рекомендовано использовать CatBoostClassifier.\n",
    "\n",
    "Таким образом, фактическая работа соответствует запланированным шагам, и выполнение каждого шага привело к достижению поставленных целей и выводов на основе проведенного анализа и обучения моделей.\n",
    "\n",
    "\n",
    "### 3) Рефлексия над сложностями и описание путей их решения\n",
    "   Основные трудности были технического характера- как правильно сделать пайплайн, который может учесть разнообразные модели, а также - как правильно распаковывать пайплайн для получения воспроизводимых результатов.\n",
    "\n",
    "### 4) Итоговый спиок признаков (с расшифровкой) для обучения модели, способы их обработки (как кодировали/стандартизировали/преобразовывали)\n",
    "  - Категориальные признаки:\n",
    "    - 'Type': Тип услуги (например, интернет, телефон)\n",
    "    - 'PaymentMethod': Способ оплаты\n",
    "    - 'PaperlessBilling': Безбумажное выставление счетов\n",
    "    - 'gender': Пол клиента\n",
    "    - 'SeniorCitizen': Признак пожилого клиента\n",
    "    - 'Partner': Наличие партнера\n",
    "    - 'Dependents': Наличие иждивенцев\n",
    "    - 'MultipleLines': Наличие нескольких линий\n",
    "\n",
    "    Обработка: Для обработки категориальных признаков в модели CatBoostClassifier был использован встроенный механизм автоматического кодирования категориальных признаков. Модель сама определяет оптимальный способ кодирования, учитывая особенности каждого признака.\n",
    "\n",
    " - Числовые признаки:\n",
    "     - 'Duration': Продолжительность пользования услугами (в месяцах)\n",
    "     - 'MonthlyCharges': Ежемесячные платежи клиента\n",
    "\n",
    "    Обработка: Для числовых признаков 'Duration' и 'MonthlyCharges' была использована стандартизация с помощью StandardScaler из библиотеки scikit-learn. Стандартизация масштабирует значения признаков таким образом, чтобы они имели среднее значение 0 и стандартное отклонение 1. Это позволяет модели работать с признаками одного порядка величины и улучшает качество обучения.\n",
    "\n",
    "Таким образом, категориальные признаки были автоматически закодированы моделью CatBoostClassifier, а числовые признаки 'Duration' и 'MonthlyCharges' были стандартизированы с использованием StandardScaler перед подачей на вход модели. Это обеспечивает правильную обработку и учет различных типов признаков при обучении модели.\n",
    "\n",
    "### 5) Краткое описание предобработки данных (проблема- что делали)\n",
    "\n",
    "  - Объединение таблиц: Были объединены различные таблицы данных в одну общую таблицу, чтобы иметь единое пространство признаков для анализа и обучения модели.\n",
    "\n",
    "  - Обработка пропусков: Была проверена наличие пропусков в данных. Для категориальных признаков с пропусками было решено заполнить пропуски третьей категорией, чтобы сохранить информацию о наличии отсутствующих данных. Признаки дат были удалены для упрощения анализа и обучения модели.\n",
    "\n",
    "  - Обработка мультиколлинеарности: В ходе исследовательского анализа была обнаружена мультиколлинеарность в признаках `[\"InternetService\", \"InternetService\", \"OnlineSecurity\", \"OnlineBackup\", \"DeviceProtection\", \"TechSupport\", \"StreamingTV\", \"StreamingMovies\"] `\"TotalCharges\"`. Для предотвращения проблем с мультиколлинеарностью и улучшения качества модели признаки были удалены из рассмотрения.\n",
    "\n",
    "  - Кодирование категориальных признаков: Категориальные признаки, такие как тип услуги, способ оплаты, наличие партнера и другие, были автоматически закодированы с использованием встроенного механизма кодирования категориальных признаков в модели CatBoostClassifier. Это позволяет модели корректно работать с категориальными данными без необходимости явного кодирования признаков.\n",
    "\n",
    "  - Стандартизация числовых признаков: Числовые признаки 'Duration' и 'MonthlyCharges' были стандартизированы с использованием StandardScaler из библиотеки scikit-learn. Стандартизация помогает привести значения признаков к одному масштабу и облегчает обучение модели.\n",
    "\n",
    "Таким образом, предобработка данных включала объединение таблиц, обработку пропусков, удаление мультиколлинеарного признака, кодирование категориальных признаков и стандартизацию числовых признаков. Все эти шаги были выполнены для обеспечения корректного и эффективного обучения модели CatBoostClassifier на предоставленных данных.\n",
    "\n",
    "### 6) Сводная таблица исследованных моделей и их метрика на кросс-валидации\n",
    "\n",
    "| Model          | ROC_AUC_CV | time_train_CV | accuracy  | recall    | precision  |\n",
    "|----------------|------------|---------------|-----------|-----------|------------|\n",
    "| Ridge_poly     | 0.830279   | 0.640249      | 0.858387  | 0.072344  | 0.887775   |\n",
    "| Random_forest  | 0.823663   | 6.657835      | 0.747632  | 0.727771  | 0.342295   |\n",
    "| Light_GBM      | 0.901219   | 1.521750      | 0.911207  | 0.502564  | 0.852440   |\n",
    "| CatBoost       | 0.918783   | 170.813265    | 0.914049  | 0.499543  | 0.881976   |\n",
    "\n",
    "### 7) Лучшая модель\n",
    "   - Модель:  CatBoostClassifier\n",
    "   - Параметры:  `max_depth= 3, 'learning_rate = 0.1` остальные параметры - по умолчанию\n",
    "   - Метрика на кросс-валидации `ROC_AUC` : 0.908\n",
    "   - Метрика на кросс-валидации `accuracy`: 0.935\n",
    "\n",
    "### 8) Итоговая метрика на test (ROC_AUS и  Accuracy)\n",
    "   - Метрика на тесте `ROC_AUC` : 0.925\n",
    "   - Метрика на тесте `accuracy`: 0.924\n",
    "\n",
    "### 9) Матрица ошибок:\n",
    "|           | Predicted 0 | Predicted 1 |\n",
    "|-----------|-------------|-------------|\n",
    "| Actual 0  | 1446        | 12           |\n",
    "| Actual 1  | 121         | 182         |\n",
    "\n",
    "\n",
    "  - Модель CatBoost показывает хороший результат в определении неухода клиента (отрицательные случаи), что подтверждается высоким количеством верно классифицированных отрицательных случаев (True Negatives) равным 1446.\n",
    "\n",
    "  - Учитывая несбалансированность классов и факт того, что ушедшие клиенты составляют всего 15,63%, количество неверно классифицированных положительных случаев (False Negatives) равное 12 является важным. В данном случае, модель пропустила 12 ушедших клиента, что может быть нежелательным, особенно если сохранение клиентов имеет высокую важность.\n",
    "\n",
    "  - Количество ложноположительных случаев (False Positives) равное 121 указывает на то, что модель классифицирует некоторые отрицательные случаи как положительные. Это может привести к излишней затрате ресурсов на удержание клиентов, которые фактически не собираются уходить.\n",
    "\n",
    "### 10) Важность признаков\n",
    "![%D0%B8%D0%B7%D0%BE%D0%B1%D1%80%D0%B0%D0%B6%D0%B5%D0%BD%D0%B8%D0%B5-2.png](attachment:%D0%B8%D0%B7%D0%BE%D0%B1%D1%80%D0%B0%D0%B6%D0%B5%D0%BD%D0%B8%D0%B5-2.png)\n",
    "   Немного оважности признаков:\n",
    "   - Впереди с отрывом признак дюрации контракта\n",
    "   - Есть выброс значений значимости на околонулевой дюрации..\n",
    "   - Отсутствует ярковыраженная прямая зависимость значимости признака ежемесячных платежей от их размера\n"
   ]
  },
  {
   "cell_type": "code",
   "execution_count": null,
   "metadata": {},
   "outputs": [],
   "source": []
  }
 ],
 "metadata": {
  "kernelspec": {
   "display_name": "Python 3 (ipykernel)",
   "language": "python",
   "name": "python3"
  },
  "language_info": {
   "codemirror_mode": {
    "name": "ipython",
    "version": 3
   },
   "file_extension": ".py",
   "mimetype": "text/x-python",
   "name": "python",
   "nbconvert_exporter": "python",
   "pygments_lexer": "ipython3",
   "version": "3.10.9"
  },
  "toc": {
   "base_numbering": 1,
   "nav_menu": {},
   "number_sections": true,
   "sideBar": true,
   "skip_h1_title": true,
   "title_cell": "Table of Contents",
   "title_sidebar": "Contents",
   "toc_cell": false,
   "toc_position": {},
   "toc_section_display": true,
   "toc_window_display": false
  },
  "varInspector": {
   "cols": {
    "lenName": 16,
    "lenType": 16,
    "lenVar": 40
   },
   "kernels_config": {
    "python": {
     "delete_cmd_postfix": "",
     "delete_cmd_prefix": "del ",
     "library": "var_list.py",
     "varRefreshCmd": "print(var_dic_list())"
    },
    "r": {
     "delete_cmd_postfix": ") ",
     "delete_cmd_prefix": "rm(",
     "library": "var_list.r",
     "varRefreshCmd": "cat(var_dic_list()) "
    }
   },
   "types_to_exclude": [
    "module",
    "function",
    "builtin_function_or_method",
    "instance",
    "_Feature"
   ],
   "window_display": false
  }
 },
 "nbformat": 4,
 "nbformat_minor": 2
}
