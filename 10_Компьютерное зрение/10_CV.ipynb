{
 "cells": [
  {
   "cell_type": "markdown",
   "metadata": {},
   "source": [
    "## Исследовательский анализ данных"
   ]
  },
  {
   "cell_type": "code",
   "execution_count": 1,
   "metadata": {},
   "outputs": [],
   "source": [
    "import pandas as pd\n",
    "import numpy as np\n",
    "from tensorflow.keras.preprocessing.image import ImageDataGenerator\n",
    "import sys\n",
    "import matplotlib.pyplot as plt\n",
    "from tqdm import tqdm\n",
    "from PIL import Image"
   ]
  },
  {
   "cell_type": "code",
   "execution_count": 2,
   "metadata": {},
   "outputs": [],
   "source": [
    "path = '/datasets/faces/final_files/'"
   ]
  },
  {
   "cell_type": "markdown",
   "metadata": {},
   "source": [
    "Посмотрим данные"
   ]
  },
  {
   "cell_type": "code",
   "execution_count": 3,
   "metadata": {},
   "outputs": [
    {
     "name": "stdout",
     "output_type": "stream",
     "text": [
      "Found 7591 validated image filenames.\n"
     ]
    }
   ],
   "source": [
    "labels = pd.read_csv('/datasets/faces/labels.csv')\n",
    "train_datagen = ImageDataGenerator(rescale=1./255)\n",
    "train_gen_flow = train_datagen.flow_from_dataframe(\n",
    "        dataframe=labels,\n",
    "        directory= path,\n",
    "        x_col='file_name',\n",
    "        y_col='real_age',\n",
    "        target_size=(224, 224),\n",
    "        batch_size=32,\n",
    "        class_mode='raw',\n",
    "        seed=12345) "
   ]
  },
  {
   "cell_type": "markdown",
   "metadata": {},
   "source": [
    "Посмотрим на размер выборки"
   ]
  },
  {
   "cell_type": "code",
   "execution_count": 4,
   "metadata": {},
   "outputs": [
    {
     "name": "stdout",
     "output_type": "stream",
     "text": [
      "Размер выборки: 7591\n"
     ]
    }
   ],
   "source": [
    "sample_size = len(labels)\n",
    "print(\"Размер выборки:\", sample_size)"
   ]
  },
  {
   "cell_type": "code",
   "execution_count": 9,
   "metadata": {},
   "outputs": [
    {
     "name": "stdout",
     "output_type": "stream",
     "text": [
      "Размер выборки : 7591\n"
     ]
    }
   ],
   "source": [
    "### пример кода c f-строкой\n",
    "print(f\"Размер выборки : {sample_size}\")"
   ]
  },
  {
   "cell_type": "markdown",
   "metadata": {},
   "source": [
    "Построим график распределения возраста в выборке"
   ]
  },
  {
   "cell_type": "code",
   "execution_count": 5,
   "metadata": {},
   "outputs": [
    {
     "data": {
      "image/png": "[encoded data removed]",
      "text/plain": [
       "<Figure size 432x288 with 1 Axes>"
      ]
     },
     "metadata": {
      "needs_background": "light"
     },
     "output_type": "display_data"
    }
   ],
   "source": [
    "plt.hist(labels['real_age'], bins=40)\n",
    "plt.xlabel('Возраст')\n",
    "plt.ylabel('Частота / Количество наблюдений')\n",
    "plt.title('Распределение возраста в выборке')\n",
    "plt.show()"
   ]
  },
  {
   "cell_type": "code",
   "execution_count": 6,
   "metadata": {},
   "outputs": [
    {
     "data": {
      "text/html": [
       "<div>\n",
       "<style scoped>\n",
       "    .dataframe tbody tr th:only-of-type {\n",
       "        vertical-align: middle;\n",
       "    }\n",
       "\n",
       "    .dataframe tbody tr th {\n",
       "        vertical-align: top;\n",
       "    }\n",
       "\n",
       "    .dataframe thead th {\n",
       "        text-align: right;\n",
       "    }\n",
       "</style>\n",
       "<table border=\"1\" class=\"dataframe\">\n",
       "  <thead>\n",
       "    <tr style=\"text-align: right;\">\n",
       "      <th></th>\n",
       "      <th>real_age</th>\n",
       "    </tr>\n",
       "  </thead>\n",
       "  <tbody>\n",
       "    <tr>\n",
       "      <th>count</th>\n",
       "      <td>7591.000000</td>\n",
       "    </tr>\n",
       "    <tr>\n",
       "      <th>mean</th>\n",
       "      <td>31.201159</td>\n",
       "    </tr>\n",
       "    <tr>\n",
       "      <th>std</th>\n",
       "      <td>17.145060</td>\n",
       "    </tr>\n",
       "    <tr>\n",
       "      <th>min</th>\n",
       "      <td>1.000000</td>\n",
       "    </tr>\n",
       "    <tr>\n",
       "      <th>25%</th>\n",
       "      <td>20.000000</td>\n",
       "    </tr>\n",
       "    <tr>\n",
       "      <th>50%</th>\n",
       "      <td>29.000000</td>\n",
       "    </tr>\n",
       "    <tr>\n",
       "      <th>75%</th>\n",
       "      <td>41.000000</td>\n",
       "    </tr>\n",
       "    <tr>\n",
       "      <th>max</th>\n",
       "      <td>100.000000</td>\n",
       "    </tr>\n",
       "  </tbody>\n",
       "</table>\n",
       "</div>"
      ],
      "text/plain": [
       "          real_age\n",
       "count  7591.000000\n",
       "mean     31.201159\n",
       "std      17.145060\n",
       "min       1.000000\n",
       "25%      20.000000\n",
       "50%      29.000000\n",
       "75%      41.000000\n",
       "max     100.000000"
      ]
     },
     "execution_count": 6,
     "metadata": {},
     "output_type": "execute_result"
    }
   ],
   "source": [
    "labels.describe()"
   ]
  },
  {
   "cell_type": "markdown",
   "metadata": {},
   "source": [
    "- Размер выборки составляет 7,591 наблюдение. Это достаточно большой объем данных для обучения модели.\n",
    "\n",
    "- Смещение данных: Медианное значение возраста (50-й процентиль) равно 29 годам, в то время как средний возраст составляет около 31.2 года. Это указывает на некоторое смещение данных вправо (положительное смещение). Такое смещение может быть вызвано наличием небольшого количества выбросов с более высокими значениями возраста\n",
    "\n",
    "- Стандартное отклонение возраста равно примерно 17.1. Модель, обученная на таком разнообразном наборе возрастов, может быть достаточно универсальной и способной к обобщению на новые данные.\n",
    "\n",
    "- Минимальный возраст в выборке составляет 1 год, а максимальный возраст - 100 лет. Это говорит о широком диапазоне возрастов, представленных в данных.\n",
    "\n",
    "Исходя из этих статистических данных, можно сделать вывод, что набор данных представляет широкий спектр возрастов, с разбросом от маленького детского возраста до пожилых людей. Это может потребовать настройки модели и принятия во внимание особенностей различных возрастных групп при обучении модели, чтобы достичь оптимальных результатов.\n"
   ]
  },
  {
   "cell_type": "markdown",
   "metadata": {},
   "source": [
    "<div style=\"background: #B0E0E6; padding: 5px; border: 1px solid SteelBlue; border-radius: 5px;\">\n",
    "    <font color='4682B4'>\n",
    "    <font color='4682B4'> \n",
    "В целом выборка имеет распределение похожее на нормальное. 1-й пик значений около 27 лет, также есть небольшой пик в значениях возраста до 10 лет. \n",
    "После 20 лет наблюдаем минипики, на значениях кратных 10. Возможно, это связано с округлением возраста до 10 лет при разметке в случае, если возраст человека на фотографии не был точно известен.\n",
    "        \n",
    "Относительно аномальных пиков на графике распределения целевой переменной, возможно, следующие объяснения:\n",
    "\n",
    "Выбросы: Пики, которые выделяются от основного распределения, могут быть связаны с наличием выбросов или экстремальных значений возраста в выборке. Это могут быть необычные случаи, ошибки в данных или особенности набора данных, которые приводят к таким выбросам.\n",
    "\n",
    "Сегментация возрастных групп: Другим объяснением может быть сегментация выборки по конкретным возрастным группам или категориям, что приводит к формированию пиков на графике. Например, если данные разделены на группы \"дети\", \"взрослые\" и \"пожилые\", то это может привести к видимым пикам в каждой группе.\n",
    "        \n",
    "   </font>\n",
    "</div>"
   ]
  },
  {
   "cell_type": "markdown",
   "metadata": {},
   "source": [
    "Напечатаем на экране 15 фотографий и посмотим, как устроен датасет"
   ]
  },
  {
   "cell_type": "code",
   "execution_count": 3,
   "metadata": {},
   "outputs": [],
   "source": [
    "# Получим 10-15 фотографий из выборки\n",
    "sample_images = labels.sample(15)\n",
    "\n",
    "# Проверим фактическое количество доступных изображений\n",
    "num_images = len(sample_images)\n",
    "print(\"Фактическое количество доступных изображений:\", num_images)\n",
    "\n",
    "# Изменим количество строк и столбцов в subplots в соответствии с фактическим количеством изображений\n",
    "num_rows = (num_images - 1) // 5 + 1\n",
    "num_cols = min(num_images, 5)\n",
    "\n",
    "# Отобразим фотографии\n",
    "fig, axes = plt.subplots(nrows=num_rows, ncols=num_cols, figsize=(12, 8))\n",
    "\n",
    "for i, row in enumerate(sample_images.itertuples(), 1):\n",
    "    img_path = path + row.file_name\n",
    "    img = plt.imread(img_path)\n",
    "    axes[(i - 1) // num_cols, (i - 1) % num_cols].imshow(img)\n",
    "    axes[(i - 1) // num_cols, (i - 1) % num_cols].axis('off')\n",
    "\n",
    "plt.tight_layout()\n",
    "plt.show()"
   ]
  },
  {
   "cell_type": "markdown",
   "metadata": {},
   "source": [
    "Все фото одинакового размера (квадратные) и содержат только лица. Поэтому предобратка датасета не требуется. При этом загрузчик данных приведет все изображения к целефой форме 224 на 224 пикселя."
   ]
  },
  {
   "cell_type": "markdown",
   "metadata": {},
   "source": [
    "## Обучение модели"
   ]
  },
  {
   "cell_type": "markdown",
   "metadata": {},
   "source": [
    "Используем модель ResNet50 с функцией активации relu для применения сети для задачи регрессии.\n",
    "Данная модель была обучена на локальном компьютере.\n",
    "\n",
    "Запишем код."
   ]
  },
  {
   "cell_type": "markdown",
   "metadata": {},
   "source": [
    "```python\n",
    "\n",
    "from tensorflow.keras.preprocessing.image import ImageDataGenerator\n",
    "from tensorflow.keras.models import Sequential\n",
    "from tensorflow.keras.layers import GlobalAveragePooling2D, Dense\n",
    "from tensorflow.keras.optimizers import Adam\n",
    "from tensorflow.keras.applications.resnet import ResNet50\n",
    "from tensorflow import keras\n",
    "import pandas as pd\n",
    "\n",
    "path = '/datasets/faces/final_files/'\n",
    "wpath = '/datasets/keras_models/resnet50_weights_tf_dim_ordering_tf_kernels_notop.h5'\n",
    "\n",
    "# Загрузка обучающего набора данных из папки 'path`\n",
    "def load_train(path):\n",
    "    labels = pd.read_csv(path + 'labels.csv')\n",
    "    datagen = ImageDataGenerator(\n",
    "        validation_split=0.25,\n",
    "        rescale=1/255.,\n",
    "        horizontal_flip=True,\n",
    "        width_shift_range=0.15,\n",
    "        height_shift_range=0.15,\n",
    "        zoom_range=0.1,\n",
    "    )\n",
    "\n",
    "    return datagen.flow_from_dataframe(\n",
    "        dataframe=labels,\n",
    "        directory=path,\n",
    "        x_col='file_name',\n",
    "        y_col='real_age',\n",
    "        target_size=(224, 224),\n",
    "        batch_size=32,\n",
    "        class_mode='raw',\n",
    "        subset='training',\n",
    "        seed=123,\n",
    "    )\n",
    "\n",
    "# Загрузка тестового набора данных из папки 'path`\n",
    "def load_test(path):\n",
    "    labels = pd.read_csv(path + 'labels.csv')\n",
    "    datagen = ImageDataGenerator(\n",
    "        validation_split=0.25,\n",
    "        rescale=1/255.)\n",
    "\n",
    "    return datagen.flow_from_dataframe(\n",
    "        dataframe=labels,\n",
    "        directory=path,\n",
    "        x_col='file_name',\n",
    "        y_col='real_age',\n",
    "        target_size=(224, 224),\n",
    "        batch_size=32,\n",
    "        class_mode='raw',\n",
    "        subset='validation',\n",
    "        seed=123,\n",
    "    )\n",
    "\n",
    "# Создание модели ResNet50 с загрузкой готовых весов.\n",
    "# Добавление пользовательского полносвязного слоя сверху с активацией `relu` для предсказания возраста.\n",
    "\n",
    "def create_model(input_shape):\n",
    "    backbone = ResNet50(\n",
    "        weights=wpath,\n",
    "        input_shape=input_shape,\n",
    "        include_top=False)\n",
    "\n",
    "    model = Sequential()\n",
    "    model.add(backbone)\n",
    "    model.add(GlobalAveragePooling2D())\n",
    "    model.add(Dense(1, activation='relu'))\n",
    "    model.compile(optimizer=Adam(learning_rate=0.0005),\n",
    "                  loss='mean_squared_error', metrics=['mean_absolute_error'])\n",
    "    return model\n",
    "\n",
    "\"\"\"Обучение модели `model`\n",
    "\n",
    "train_data         : DataFrameIterator для обучающего набора данных\n",
    "test_data          : DataFrameIterator для набора данных валидации\n",
    "epochs, batch_size : параметры keras.Model.fit()\n",
    "\n",
    "Returns:\n",
    "model (keras.Model): Обученная модель\n",
    "\"\"\"\n",
    "def train_model(model, train_data, test_data, batch_size=None, epochs=20,\n",
    "                steps_per_epoch=None, validation_steps=None):\n",
    "    model.fit(train_data,\n",
    "              validation_data=test_data,\n",
    "              epochs=epochs, batch_size=batch_size,\n",
    "              steps_per_epoch=steps_per_epoch,  # train_data.samples/train_data.batch_size,\n",
    "              validation_steps=validation_steps,  # test_data.samples/test_data.batch_size,\n",
    "              verbose=2, shuffle=True)\n",
    "    return model\n",
    "\n",
    "```"
   ]
  },
  {
   "cell_type": "markdown",
   "metadata": {},
   "source": [
    "```\n",
    "\n",
    "Found 5694 validated image filenames.\n",
    "\n",
    "Found 1897 validated image filenames.\n",
    "\n",
    "...Devices:\n",
    "\n",
    "2023-06-18 05:30:25.544135: I tensorflow/compiler/xla/service/service.cc:176]   StreamExecutor device (0): Tesla V100-SXM2-32GB, Compute Capability 7.0\n",
    "\n",
    "...\n",
    "Train for 178 steps, validate for 60 steps\n",
    "\n",
    "Epoch 1/20\n",
    "....\n",
    "178/178 - 100s - loss: 217.4510 - mean_absolute_error: 10.9406 - val_loss: 286.1032 - val_mean_absolute_error: 12.8756\n",
    "\n",
    "Epoch 2/20\n",
    "178/178 - 93s - loss: 125.8219 - mean_absolute_error: 8.4875 - val_loss: 361.2077 - val_mean_absolute_error: 13.9963\n",
    "\n",
    "Epoch 3/20\n",
    "178/178 - 92s - loss: 109.8990 - mean_absolute_error: 7.9731 - val_loss: 340.0013 - val_mean_absolute_error: 13.5622\n",
    "\n",
    "Epoch 4/20\n",
    "178/178 - 92s - loss: 96.0345 - mean_absolute_error: 7.4426 - val_loss: 188.2284 - val_mean_absolute_error: 10.4035\n",
    "\n",
    "Epoch 5/20\n",
    "178/178 - 91s - loss: 90.4977 - mean_absolute_error: 7.1224 - val_loss: 101.0601 - val_mean_absolute_error: 7.8089\n",
    "\n",
    "Epoch 6/20\n",
    "178/178 - 92s - loss: 87.6187 - mean_absolute_error: 7.0929 - val_loss: 101.1436 - val_mean_absolute_error: 7.6857\n",
    "\n",
    "Epoch 7/20\n",
    "178/178 - 92s - loss: 76.4310 - mean_absolute_error: 6.6128 - val_loss: 131.9612 - val_mean_absolute_error: 8.6983\n",
    "\n",
    "Epoch 8/20\n",
    "178/178 - 92s - loss: 74.0372 - mean_absolute_error: 6.5270 - val_loss: 90.0899 - val_mean_absolute_error: 7.2912\n",
    "\n",
    "Epoch 9/20\n",
    "178/178 - 89s - loss: 68.8214 - mean_absolute_error: 6.2568 - val_loss: 265.7301 - val_mean_absolute_error: 13.0692\n",
    "\n",
    "Epoch 10/20\n",
    "178/178 - 89s - loss: 64.2670 - mean_absolute_error: 6.0966 - val_loss: 176.6956 - val_mean_absolute_error: 10.0382\n",
    "\n",
    "Epoch 11/20\n",
    "178/178 - 89s - loss: 63.9211 - mean_absolute_error: 6.1007 - val_loss: 114.0499 - val_mean_absolute_error: 8.0275\n",
    "\n",
    "Epoch 12/20\n",
    "178/178 - 89s - loss: 61.3102 - mean_absolute_error: 5.9573 - val_loss: 143.2438 - val_mean_absolute_error: 9.1002\n",
    "\n",
    "Epoch 13/20\n",
    "178/178 - 89s - loss: 58.6244 - mean_absolute_error: 5.8191 - val_loss: 200.4709 - val_mean_absolute_error: 10.4924\n",
    "\n",
    "Epoch 14/20\n",
    "178/178 - 89s - loss: 52.7222 - mean_absolute_error: 5.5188 - val_loss: 84.4685 - val_mean_absolute_error: 6.9735\n",
    "\n",
    "Epoch 15/20\n",
    "178/178 - 89s - loss: 52.8567 - mean_absolute_error: 5.5308 - val_loss: 117.3572 - val_mean_absolute_error: 8.6011\n",
    "\n",
    "Epoch 16/20\n",
    "178/178 - 89s - loss: 58.1594 - mean_absolute_error: 5.7855 - val_loss: 107.1864 - val_mean_absolute_error: 8.3435\n",
    "\n",
    "Epoch 17/20\n",
    "178/178 - 89s - loss: 50.9032 - mean_absolute_error: 5.4171 - val_loss: 84.4378 - val_mean_absolute_error: 6.7631\n",
    "\n",
    "Epoch 18/20\n",
    "178/178 - 89s - loss: 46.5250 - mean_absolute_error: 5.2040 - val_loss: 113.9315 - val_mean_absolute_error: 8.0716\n",
    "\n",
    "Epoch 19/20\n",
    "178/178 - 89s - loss: 40.9729 - mean_absolute_error: 4.8547 - val_loss: 93.4059 - val_mean_absolute_error: 7.1614\n",
    "\n",
    "Epoch 20/20\n",
    "178/178 - 89s - loss: 39.6958 - mean_absolute_error: 4.8382 - val_loss: 70.3920 - val_mean_absolute_error: 6.2570\n",
    "...\n",
    "\n",
    "60/60 - 10s - loss: 70.3920 - mean_absolute_error: 6.2570\n",
    "\n",
    "Test MAE: 6.2570\n",
    "\n",
    "```"
   ]
  },
  {
   "cell_type": "markdown",
   "metadata": {},
   "source": [
    "## Анализ обученной модели"
   ]
  },
  {
   "cell_type": "markdown",
   "metadata": {},
   "source": [
    "<div style=\"background: #B0E0E6; padding: 5px; border: 1px solid SteelBlue; border-radius: 5px;\">\n",
    "    <font color='4682B4'>\n",
    "    <font color='4682B4'> Получили значение метрики mean_absolute_error на тесте 6.2570. На обучающей выборке - 4.8382. Т.е. при использовании данной модели для детекции возраста мы будем ошибаться в среднем +- на 6.5 лет. Т.е. для отсечки на алкоголь и сигареты, модель слабовата.\n",
    "\n",
    "При этом на всех эпохах заметно подобное снижение метрики на тестовых данных. Т.е. можно сказать, что сама мадель (ее архитектура) недостатосно совершенна для решения подобной задачи. Также возможно сделать предположение, что увеличение объема данных и количества эпох обучения может увеличить метрику.\n",
    "        \n",
    "   </font>\n",
    "</div>"
   ]
  }
 ],
 "metadata": {
  "ExecuteTimeLog": [
   {
    "duration": 13,
    "start_time": "2023-06-18T09:11:13.072Z"
   },
   {
    "duration": 105,
    "start_time": "2023-06-18T09:11:55.099Z"
   },
   {
    "duration": 2940,
    "start_time": "2023-06-18T09:12:27.872Z"
   },
   {
    "duration": 3471,
    "start_time": "2023-06-18T09:13:43.063Z"
   },
   {
    "duration": 8,
    "start_time": "2023-06-18T09:13:46.537Z"
   },
   {
    "duration": 162970,
    "start_time": "2023-06-18T09:13:49.382Z"
   },
   {
    "duration": 3003,
    "start_time": "2023-06-18T18:07:12.214Z"
   },
   {
    "duration": 3,
    "start_time": "2023-06-18T18:07:15.220Z"
   },
   {
    "duration": 106534,
    "start_time": "2023-06-18T18:07:15.225Z"
   },
   {
    "duration": 11,
    "start_time": "2023-06-18T18:09:01.766Z"
   },
   {
    "duration": 257,
    "start_time": "2023-06-18T18:09:01.780Z"
   },
   {
    "duration": 25,
    "start_time": "2023-06-18T18:09:02.040Z"
   },
   {
    "duration": 2680,
    "start_time": "2023-06-18T18:09:02.067Z"
   },
   {
    "duration": 4,
    "start_time": "2023-06-18T18:10:16.442Z"
   },
   {
    "duration": 5,
    "start_time": "2023-06-18T18:10:56.232Z"
   },
   {
    "duration": 60,
    "start_time": "2023-06-19T17:42:21.890Z"
   },
   {
    "duration": 152,
    "start_time": "2023-06-19T17:48:36.312Z"
   },
   {
    "duration": 3,
    "start_time": "2023-06-19T17:58:58.614Z"
   }
  ],
  "kernelspec": {
   "display_name": "Python 3 (ipykernel)",
   "language": "python",
   "name": "python3"
  },
  "language_info": {
   "codemirror_mode": {
    "name": "ipython",
    "version": 3
   },
   "file_extension": ".py",
   "mimetype": "text/x-python",
   "name": "python",
   "nbconvert_exporter": "python",
   "pygments_lexer": "ipython3",
   "version": "3.9.16"
  },
  "toc": {
   "base_numbering": 1,
   "nav_menu": {},
   "number_sections": true,
   "sideBar": true,
   "skip_h1_title": true,
   "title_cell": "Table of Contents",
   "title_sidebar": "Contents",
   "toc_cell": false,
   "toc_position": {},
   "toc_section_display": true,
   "toc_window_display": false
  }
 },
 "nbformat": 4,
 "nbformat_minor": 2
}
