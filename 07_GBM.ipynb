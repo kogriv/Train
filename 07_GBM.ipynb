{
 "cells": [
  {
   "cell_type": "markdown",
   "metadata": {},
   "source": [
    "# Определение стоимости автомобилей"
   ]
  },
  {
   "cell_type": "markdown",
   "metadata": {},
   "source": [
    "Сервис по продаже автомобилей с пробегом «Не бит, не крашен» разрабатывает приложение для привлечения новых клиентов. В нём можно быстро узнать рыночную стоимость своего автомобиля. В вашем распоряжении исторические данные: технические характеристики, комплектации и цены автомобилей. Вам нужно построить модель для определения стоимости. \n",
    "\n",
    "Заказчику важны:\n",
    "\n",
    "- качество предсказания;\n",
    "- скорость предсказания;\n",
    "- время обучения."
   ]
  },
  {
   "cell_type": "code",
   "execution_count": 1,
   "metadata": {},
   "outputs": [],
   "source": [
    "import warnings\n",
    "warnings.filterwarnings(\"ignore\")\n",
    "import time\n",
    "import pandas as pd\n",
    "import numpy as np\n",
    "import matplotlib.pyplot as plt\n",
    "from scipy import stats as st\n",
    "\n",
    "import lightgbm as lgb\n",
    "from sklearn.tree import DecisionTreeRegressor\n",
    "from sklearn.linear_model import Ridge\n",
    "\n",
    "from sklearn.model_selection import train_test_split, RandomizedSearchCV\n",
    "from sklearn.metrics import mean_squared_error\n",
    "\n",
    "from sklearn.preprocessing import StandardScaler, OneHotEncoder\n",
    "\n",
    "import tqdm\n"
   ]
  },
  {
   "cell_type": "code",
   "execution_count": 2,
   "metadata": {},
   "outputs": [],
   "source": [
    "STATE = np.random.RandomState(12345)"
   ]
  },
  {
   "cell_type": "markdown",
   "metadata": {},
   "source": [
    "## Подготовка данных"
   ]
  },
  {
   "cell_type": "code",
   "execution_count": 3,
   "metadata": {},
   "outputs": [
    {
     "name": "stdout",
     "output_type": "stream",
     "text": [
      "Прочитали данные с диска\n"
     ]
    }
   ],
   "source": [
    "try:\n",
    "    data = pd.read_csv('C:/0/d/autos.csv')\n",
    "    print('Прочитали данные с диска')\n",
    "except:\n",
    "    data = pd.read_csv('/datasets/autos.csv')\n",
    "    print('Прочитали данные в сети')"
   ]
  },
  {
   "cell_type": "code",
   "execution_count": 4,
   "metadata": {},
   "outputs": [
    {
     "name": "stdout",
     "output_type": "stream",
     "text": [
      "<class 'pandas.core.frame.DataFrame'>\n",
      "RangeIndex: 354369 entries, 0 to 354368\n",
      "Data columns (total 16 columns):\n",
      " #   Column             Non-Null Count   Dtype \n",
      "---  ------             --------------   ----- \n",
      " 0   DateCrawled        354369 non-null  object\n",
      " 1   Price              354369 non-null  int64 \n",
      " 2   VehicleType        316879 non-null  object\n",
      " 3   RegistrationYear   354369 non-null  int64 \n",
      " 4   Gearbox            334536 non-null  object\n",
      " 5   Power              354369 non-null  int64 \n",
      " 6   Model              334664 non-null  object\n",
      " 7   Kilometer          354369 non-null  int64 \n",
      " 8   RegistrationMonth  354369 non-null  int64 \n",
      " 9   FuelType           321474 non-null  object\n",
      " 10  Brand              354369 non-null  object\n",
      " 11  Repaired           283215 non-null  object\n",
      " 12  DateCreated        354369 non-null  object\n",
      " 13  NumberOfPictures   354369 non-null  int64 \n",
      " 14  PostalCode         354369 non-null  int64 \n",
      " 15  LastSeen           354369 non-null  object\n",
      "dtypes: int64(7), object(9)\n",
      "memory usage: 43.3+ MB\n"
     ]
    }
   ],
   "source": [
    "data.info()"
   ]
  },
  {
   "cell_type": "code",
   "execution_count": 5,
   "metadata": {},
   "outputs": [
    {
     "data": {
      "text/plain": [
       "DateCrawled              0\n",
       "Price                    0\n",
       "VehicleType          37490\n",
       "RegistrationYear         0\n",
       "Gearbox              19833\n",
       "Power                    0\n",
       "Model                19705\n",
       "Kilometer                0\n",
       "RegistrationMonth        0\n",
       "FuelType             32895\n",
       "Brand                    0\n",
       "Repaired             71154\n",
       "DateCreated              0\n",
       "NumberOfPictures         0\n",
       "PostalCode               0\n",
       "LastSeen                 0\n",
       "dtype: int64"
      ]
     },
     "execution_count": 5,
     "metadata": {},
     "output_type": "execute_result"
    }
   ],
   "source": [
    "data.isna().sum()"
   ]
  },
  {
   "cell_type": "markdown",
   "metadata": {},
   "source": [
    "Датасет содержит 16 полей, 354369 строк. 5 полей содержат пустые значения (пропуски).\n",
    "\n",
    "Названия полей приведу к \"питоновскому стилю\" - добавление нижних подчеркиваний, запись в нижнем регистре\n",
    "\n",
    "Изменим названия полей и посмотрим первые 10 строк."
   ]
  },
  {
   "cell_type": "code",
   "execution_count": 6,
   "metadata": {},
   "outputs": [],
   "source": [
    "data.rename(columns={'DateCrawled':'Date_Crawled','VehicleType':'Vehicle_Type',\n",
    "                     'RegistrationYear':'Registration_Year',\n",
    "                    'RegistrationMonth':'Registration_Month','FuelType':'Fuel_Type',\n",
    "                    'DateCreated':'Date_Created','NumberOfPictures':'Number_Of_Pictures',\n",
    "                     'PostalCode':'Postal_Code','LastSeen':'Last_Seen'\n",
    "                   }, inplace = True)\n",
    "# переведем в нижний регистр\n",
    "data.columns = data.columns.str.lower()"
   ]
  },
  {
   "cell_type": "code",
   "execution_count": 7,
   "metadata": {},
   "outputs": [
    {
     "data": {
      "text/html": [
       "<div>\n",
       "<style scoped>\n",
       "    .dataframe tbody tr th:only-of-type {\n",
       "        vertical-align: middle;\n",
       "    }\n",
       "\n",
       "    .dataframe tbody tr th {\n",
       "        vertical-align: top;\n",
       "    }\n",
       "\n",
       "    .dataframe thead th {\n",
       "        text-align: right;\n",
       "    }\n",
       "</style>\n",
       "<table border=\"1\" class=\"dataframe\">\n",
       "  <thead>\n",
       "    <tr style=\"text-align: right;\">\n",
       "      <th></th>\n",
       "      <th>date_crawled</th>\n",
       "      <th>price</th>\n",
       "      <th>vehicle_type</th>\n",
       "      <th>registration_year</th>\n",
       "      <th>gearbox</th>\n",
       "      <th>power</th>\n",
       "      <th>model</th>\n",
       "      <th>kilometer</th>\n",
       "      <th>registration_month</th>\n",
       "      <th>fuel_type</th>\n",
       "      <th>brand</th>\n",
       "      <th>repaired</th>\n",
       "      <th>date_created</th>\n",
       "      <th>number_of_pictures</th>\n",
       "      <th>postal_code</th>\n",
       "      <th>last_seen</th>\n",
       "    </tr>\n",
       "  </thead>\n",
       "  <tbody>\n",
       "    <tr>\n",
       "      <th>0</th>\n",
       "      <td>2016-03-24 11:52:17</td>\n",
       "      <td>480</td>\n",
       "      <td>NaN</td>\n",
       "      <td>1993</td>\n",
       "      <td>manual</td>\n",
       "      <td>0</td>\n",
       "      <td>golf</td>\n",
       "      <td>150000</td>\n",
       "      <td>0</td>\n",
       "      <td>petrol</td>\n",
       "      <td>volkswagen</td>\n",
       "      <td>NaN</td>\n",
       "      <td>2016-03-24 00:00:00</td>\n",
       "      <td>0</td>\n",
       "      <td>70435</td>\n",
       "      <td>2016-04-07 03:16:57</td>\n",
       "    </tr>\n",
       "    <tr>\n",
       "      <th>1</th>\n",
       "      <td>2016-03-24 10:58:45</td>\n",
       "      <td>18300</td>\n",
       "      <td>coupe</td>\n",
       "      <td>2011</td>\n",
       "      <td>manual</td>\n",
       "      <td>190</td>\n",
       "      <td>NaN</td>\n",
       "      <td>125000</td>\n",
       "      <td>5</td>\n",
       "      <td>gasoline</td>\n",
       "      <td>audi</td>\n",
       "      <td>yes</td>\n",
       "      <td>2016-03-24 00:00:00</td>\n",
       "      <td>0</td>\n",
       "      <td>66954</td>\n",
       "      <td>2016-04-07 01:46:50</td>\n",
       "    </tr>\n",
       "    <tr>\n",
       "      <th>2</th>\n",
       "      <td>2016-03-14 12:52:21</td>\n",
       "      <td>9800</td>\n",
       "      <td>suv</td>\n",
       "      <td>2004</td>\n",
       "      <td>auto</td>\n",
       "      <td>163</td>\n",
       "      <td>grand</td>\n",
       "      <td>125000</td>\n",
       "      <td>8</td>\n",
       "      <td>gasoline</td>\n",
       "      <td>jeep</td>\n",
       "      <td>NaN</td>\n",
       "      <td>2016-03-14 00:00:00</td>\n",
       "      <td>0</td>\n",
       "      <td>90480</td>\n",
       "      <td>2016-04-05 12:47:46</td>\n",
       "    </tr>\n",
       "    <tr>\n",
       "      <th>3</th>\n",
       "      <td>2016-03-17 16:54:04</td>\n",
       "      <td>1500</td>\n",
       "      <td>small</td>\n",
       "      <td>2001</td>\n",
       "      <td>manual</td>\n",
       "      <td>75</td>\n",
       "      <td>golf</td>\n",
       "      <td>150000</td>\n",
       "      <td>6</td>\n",
       "      <td>petrol</td>\n",
       "      <td>volkswagen</td>\n",
       "      <td>no</td>\n",
       "      <td>2016-03-17 00:00:00</td>\n",
       "      <td>0</td>\n",
       "      <td>91074</td>\n",
       "      <td>2016-03-17 17:40:17</td>\n",
       "    </tr>\n",
       "    <tr>\n",
       "      <th>4</th>\n",
       "      <td>2016-03-31 17:25:20</td>\n",
       "      <td>3600</td>\n",
       "      <td>small</td>\n",
       "      <td>2008</td>\n",
       "      <td>manual</td>\n",
       "      <td>69</td>\n",
       "      <td>fabia</td>\n",
       "      <td>90000</td>\n",
       "      <td>7</td>\n",
       "      <td>gasoline</td>\n",
       "      <td>skoda</td>\n",
       "      <td>no</td>\n",
       "      <td>2016-03-31 00:00:00</td>\n",
       "      <td>0</td>\n",
       "      <td>60437</td>\n",
       "      <td>2016-04-06 10:17:21</td>\n",
       "    </tr>\n",
       "  </tbody>\n",
       "</table>\n",
       "</div>"
      ],
      "text/plain": [
       "          date_crawled  price vehicle_type  registration_year gearbox  power  \\\n",
       "0  2016-03-24 11:52:17    480          NaN               1993  manual      0   \n",
       "1  2016-03-24 10:58:45  18300        coupe               2011  manual    190   \n",
       "2  2016-03-14 12:52:21   9800          suv               2004    auto    163   \n",
       "3  2016-03-17 16:54:04   1500        small               2001  manual     75   \n",
       "4  2016-03-31 17:25:20   3600        small               2008  manual     69   \n",
       "\n",
       "   model  kilometer  registration_month fuel_type       brand repaired  \\\n",
       "0   golf     150000                   0    petrol  volkswagen      NaN   \n",
       "1    NaN     125000                   5  gasoline        audi      yes   \n",
       "2  grand     125000                   8  gasoline        jeep      NaN   \n",
       "3   golf     150000                   6    petrol  volkswagen       no   \n",
       "4  fabia      90000                   7  gasoline       skoda       no   \n",
       "\n",
       "          date_created  number_of_pictures  postal_code            last_seen  \n",
       "0  2016-03-24 00:00:00                   0        70435  2016-04-07 03:16:57  \n",
       "1  2016-03-24 00:00:00                   0        66954  2016-04-07 01:46:50  \n",
       "2  2016-03-14 00:00:00                   0        90480  2016-04-05 12:47:46  \n",
       "3  2016-03-17 00:00:00                   0        91074  2016-03-17 17:40:17  \n",
       "4  2016-03-31 00:00:00                   0        60437  2016-04-06 10:17:21  "
      ]
     },
     "execution_count": 7,
     "metadata": {},
     "output_type": "execute_result"
    }
   ],
   "source": [
    "data.head()"
   ]
  },
  {
   "cell_type": "markdown",
   "metadata": {},
   "source": [
    "Поменяем формат полей дат с object на дату"
   ]
  },
  {
   "cell_type": "code",
   "execution_count": 8,
   "metadata": {},
   "outputs": [],
   "source": [
    "data['date_crawled'] = pd.to_datetime(data['date_crawled'])\n",
    "data['date_created'] = pd.to_datetime(data['date_created'])\n",
    "data['last_seen'] = pd.to_datetime(data['last_seen'])"
   ]
  },
  {
   "cell_type": "markdown",
   "metadata": {},
   "source": [
    "Запишу исходное количество строк и создам функцию, которая будет показывать на сколько уменьшается датасет при очередной манипуляции удаления строк."
   ]
  },
  {
   "cell_type": "code",
   "execution_count": 9,
   "metadata": {},
   "outputs": [],
   "source": [
    "rowb = data.shape[0] # начальное количество строк\n",
    "rowl = rowb          # последнее (перед манипуляцией) количество строк"
   ]
  },
  {
   "cell_type": "code",
   "execution_count": 10,
   "metadata": {},
   "outputs": [],
   "source": [
    "def change_count(data):\n",
    "    rowch = data.shape[0]\n",
    "    change_total = (rowb-rowch)/rowb\n",
    "    change_last = (rowl-rowch)/rowl\n",
    "    print_string = ('{:,.2%}'.format(change_total)+\n",
    "      ' / '+'{:,.2%}'.format(change_last))\n",
    "    print('Исходный / последний / измененный размеры:',rowb,' / ',rowl,' / ',rowch)\n",
    "    print('Общее / последнее уменьшение датасета:',print_string)"
   ]
  },
  {
   "cell_type": "markdown",
   "metadata": {},
   "source": [
    "Создам список названий списков, которые будут создаваться в ходе проекта, чтобы потом не листать тетрадь"
   ]
  },
  {
   "cell_type": "code",
   "execution_count": 11,
   "metadata": {},
   "outputs": [],
   "source": [
    "llist = []"
   ]
  },
  {
   "cell_type": "code",
   "execution_count": 12,
   "metadata": {},
   "outputs": [],
   "source": [
    "# список категориальных полей\n",
    "list_cat = ['vehicle_type','gearbox','model','fuel_type','brand','repaired','postal_code'] # 7 шт\n",
    "# поля даты\n",
    "list_date = ['date_crawled','date_created','last_seen'] # 3 шт\n",
    "# числовые поля\n",
    "list_dig = ['price','registration_year','power','kilometer','registration_month',\n",
    "                                                                'number_of_pictures'] # 6 шт\n",
    "llist = llist + ['list_cat','list_date','list_dig']"
   ]
  },
  {
   "cell_type": "code",
   "execution_count": 13,
   "metadata": {},
   "outputs": [
    {
     "data": {
      "text/plain": [
       "['list_cat', 'list_date', 'list_dig']"
      ]
     },
     "execution_count": 13,
     "metadata": {},
     "output_type": "execute_result"
    }
   ],
   "source": [
    "llist"
   ]
  },
  {
   "cell_type": "markdown",
   "metadata": {},
   "source": [
    "Посмотрим и удалим дубликаты"
   ]
  },
  {
   "cell_type": "code",
   "execution_count": 14,
   "metadata": {},
   "outputs": [
    {
     "name": "stdout",
     "output_type": "stream",
     "text": [
      "Количество дубликатов в выборке 4\n"
     ]
    }
   ],
   "source": [
    "print('Количество дубликатов в выборке',data.duplicated().sum())\n",
    "data = data.drop_duplicates()"
   ]
  },
  {
   "cell_type": "code",
   "execution_count": 15,
   "metadata": {},
   "outputs": [
    {
     "name": "stdout",
     "output_type": "stream",
     "text": [
      "Исходный / последний / измененный размеры: 354369  /  354369  /  354365\n",
      "Общее / последнее уменьшение датасета: 0.00% / 0.00%\n"
     ]
    }
   ],
   "source": [
    "change_count(data)\n",
    "rowl = data.shape[0]"
   ]
  },
  {
   "cell_type": "markdown",
   "metadata": {},
   "source": [
    "### Обработка пропусков"
   ]
  },
  {
   "cell_type": "markdown",
   "metadata": {},
   "source": [
    "Посмотрим на совместное появление пропусков."
   ]
  },
  {
   "cell_type": "code",
   "execution_count": 16,
   "metadata": {},
   "outputs": [],
   "source": [
    "# 0. Функция для создания общей сводной таблицы\n",
    "def summary_table():\n",
    "    df = pd.DataFrame({'col_null_count':data.isna().sum()},index=data.isna().sum().index)\n",
    "    df['col_type']=data.dtypes\n",
    "    df = df.join(data.describe().transpose())\n",
    "    df['mean_median']=(df['mean']-df['50%'])/df['50%'] # превышение среднего над медианой\n",
    "    df_style = {'count':'{:.0f}','mean':'{:.2f}','mean_median':'{:.2%}', # словарь для форматирования вывода\n",
    "                'std':'{:.2f}','min':'{:.1f}','25%':'{:.1f}','50%':'{:.1f}','75%':'{:.1f}','max':'{:.1f}'}\n",
    "    return df, df_style\n",
    "# df, df_style = summary_table()\n",
    "# df.style.format(df_style)"
   ]
  },
  {
   "cell_type": "code",
   "execution_count": 17,
   "metadata": {},
   "outputs": [],
   "source": [
    "# I. создадим функцию для построения матрицы совместного появления пропусков\n",
    "def null_matrix(cutoff):\n",
    "    df, df_style = summary_table()\n",
    "    null_list = df[df['col_null_count'] != 0].index # список полей с пропусками\n",
    "    mis_matrix = pd.DataFrame(index=null_list)      # датафрейм - матрица\n",
    "    cutoff_list = []\n",
    "\n",
    "    for base in null_list:                          # пройдем по списку полей с пропусками\n",
    "        calc_base = df.loc[base]['col_null_count']\n",
    "        for calc in null_list: # для каждого такого поля еще пройдем по списку полей с пропусками\n",
    "            calc_mis = len(data.loc[(data[base].isna()) & \n",
    "                                    (data[calc].isna())][calc])/calc_base # доля совпадающих пропусков\n",
    "            mis_matrix.at[base,calc] = calc_mis\n",
    "    for base in null_list: # еще раз пройдем по матрице, чтобы убрать значения меньше занной отсечки cutoff\n",
    "        for calc in null_list:\n",
    "            if mis_matrix.loc[base,calc] < cutoff or mis_matrix.loc[calc,base] < cutoff or calc == base:\n",
    "                # значения меньше уровня отсечки в матрице будем обнулять\n",
    "                # значение 1 в диагонали матрицы будем обнулять.\n",
    "                mis_matrix.loc[base,calc] = 0\n",
    "                mis_matrix.loc[calc,base] = 0\n",
    "            elif base not in cutoff_list:\n",
    "                cutoff_list.append(base)\n",
    "\n",
    "    cutoff_matrix = pd.DataFrame(index=cutoff_list) # сокращенная после отсечки матрица совместных пропусков\n",
    "    for base in cutoff_list:\n",
    "        for calc in cutoff_list:\n",
    "            cutoff_matrix.at[base,calc] = mis_matrix.loc[base,calc]\n",
    "            if base == calc:\n",
    "                cutoff_matrix.at[base,calc] = 1\n",
    "    return cutoff_matrix"
   ]
  },
  {
   "cell_type": "markdown",
   "metadata": {},
   "source": [
    "Посмотрим на долю пустых значений в полях с пропусками"
   ]
  },
  {
   "cell_type": "code",
   "execution_count": 18,
   "metadata": {},
   "outputs": [
    {
     "data": {
      "text/plain": [
       "vehicle_type    0.105795\n",
       "gearbox         0.055968\n",
       "model           0.055607\n",
       "fuel_type       0.092828\n",
       "repaired        0.200793\n",
       "dtype: float64"
      ]
     },
     "execution_count": 18,
     "metadata": {},
     "output_type": "execute_result"
    }
   ],
   "source": [
    "data.isna().sum()[data.isna().sum()/data.shape[0]!=0]/data.shape[0]"
   ]
  },
  {
   "cell_type": "markdown",
   "metadata": {},
   "source": [
    "Посмотрим матрицу совместного появления пропусков. Уровень отсечения установим равным нулю (т.е. смотрим все возможные пересечения множеств)"
   ]
  },
  {
   "cell_type": "code",
   "execution_count": 19,
   "metadata": {},
   "outputs": [
    {
     "data": {
      "text/html": [
       "<div>\n",
       "<style scoped>\n",
       "    .dataframe tbody tr th:only-of-type {\n",
       "        vertical-align: middle;\n",
       "    }\n",
       "\n",
       "    .dataframe tbody tr th {\n",
       "        vertical-align: top;\n",
       "    }\n",
       "\n",
       "    .dataframe thead th {\n",
       "        text-align: right;\n",
       "    }\n",
       "</style>\n",
       "<table border=\"1\" class=\"dataframe\">\n",
       "  <thead>\n",
       "    <tr style=\"text-align: right;\">\n",
       "      <th></th>\n",
       "      <th>vehicle_type</th>\n",
       "      <th>gearbox</th>\n",
       "      <th>model</th>\n",
       "      <th>fuel_type</th>\n",
       "      <th>repaired</th>\n",
       "    </tr>\n",
       "  </thead>\n",
       "  <tbody>\n",
       "    <tr>\n",
       "      <th>vehicle_type</th>\n",
       "      <td>1.000000</td>\n",
       "      <td>0.265938</td>\n",
       "      <td>0.182129</td>\n",
       "      <td>0.461323</td>\n",
       "      <td>0.548706</td>\n",
       "    </tr>\n",
       "    <tr>\n",
       "      <th>gearbox</th>\n",
       "      <td>0.502698</td>\n",
       "      <td>1.000000</td>\n",
       "      <td>0.208289</td>\n",
       "      <td>0.449755</td>\n",
       "      <td>0.644784</td>\n",
       "    </tr>\n",
       "    <tr>\n",
       "      <th>model</th>\n",
       "      <td>0.346511</td>\n",
       "      <td>0.209642</td>\n",
       "      <td>1.000000</td>\n",
       "      <td>0.363512</td>\n",
       "      <td>0.459477</td>\n",
       "    </tr>\n",
       "    <tr>\n",
       "      <th>fuel_type</th>\n",
       "      <td>0.525764</td>\n",
       "      <td>0.271166</td>\n",
       "      <td>0.217753</td>\n",
       "      <td>1.000000</td>\n",
       "      <td>0.504058</td>\n",
       "    </tr>\n",
       "    <tr>\n",
       "      <th>repaired</th>\n",
       "      <td>0.289105</td>\n",
       "      <td>0.179723</td>\n",
       "      <td>0.127245</td>\n",
       "      <td>0.233030</td>\n",
       "      <td>1.000000</td>\n",
       "    </tr>\n",
       "  </tbody>\n",
       "</table>\n",
       "</div>"
      ],
      "text/plain": [
       "              vehicle_type   gearbox     model  fuel_type  repaired\n",
       "vehicle_type      1.000000  0.265938  0.182129   0.461323  0.548706\n",
       "gearbox           0.502698  1.000000  0.208289   0.449755  0.644784\n",
       "model             0.346511  0.209642  1.000000   0.363512  0.459477\n",
       "fuel_type         0.525764  0.271166  0.217753   1.000000  0.504058\n",
       "repaired          0.289105  0.179723  0.127245   0.233030  1.000000"
      ]
     },
     "execution_count": 19,
     "metadata": {},
     "output_type": "execute_result"
    }
   ],
   "source": [
    "null_matrix(0.0)"
   ]
  },
  {
   "cell_type": "markdown",
   "metadata": {},
   "source": [
    "Видим, что:\n",
    "- 100% совпадения пропусков ни по каким парам полей нет, т.е. явной технической причины появления пропусков (например при копировани одновременно не записываются значения сразу для пары или более полей в одних и тех же строках) нет.\n",
    "- пропуски в поле repaired покрывают половину и более пропусков в других полях.\n",
    "- все пропуски относятся к категориальным признакам.\n",
    "\n",
    "Можно предположить, что значительная часть пропусков связана с особенностями заполнения карточек объявлений (вероятно, достаточно часто человек может просто пропускать при заполнении указания одновременно полей gearbox, fuel_type, vehicle_type, repaired)"
   ]
  },
  {
   "cell_type": "markdown",
   "metadata": {},
   "source": [
    "Выявить явные закономерности для понятного заполнения пропусков, пользуясь только данными самого датасета не представляется возможным. Конечно, можно использовать (построить) дополнительные модели для определения значений в указанных полях (что вроде классификации или, например, регрессию для repaired по пробегу), но это не входит в рамки данного исследования. Поэтому заменим пропуски значением \"n_a\""
   ]
  },
  {
   "cell_type": "code",
   "execution_count": 20,
   "metadata": {},
   "outputs": [
    {
     "data": {
      "text/plain": [
       "Series([], dtype: float64)"
      ]
     },
     "execution_count": 20,
     "metadata": {},
     "output_type": "execute_result"
    }
   ],
   "source": [
    "data = data.fillna('n_a')\n",
    "data.isna().sum()[data.isna().sum()/data.shape[0]!=0]/data.shape[0]"
   ]
  },
  {
   "cell_type": "markdown",
   "metadata": {},
   "source": [
    "### Обработка аномалий"
   ]
  },
  {
   "cell_type": "markdown",
   "metadata": {},
   "source": [
    "Создам функцию, пердставляющую \"обрезаные\" по перцентилям поля"
   ]
  },
  {
   "cell_type": "code",
   "execution_count": 21,
   "metadata": {},
   "outputs": [],
   "source": [
    "def rez(data,clmn,qmn,qmx):\n",
    "    out = data[(data[clmn]<=data[clmn].\n",
    "   quantile(qmx)) & (data[clmn]>=data[clmn].\n",
    "   quantile(qmn))][clmn]\n",
    "    return out"
   ]
  },
  {
   "cell_type": "markdown",
   "metadata": {},
   "source": [
    "Посмотрю распределение значений по полям с числами и датами"
   ]
  },
  {
   "cell_type": "code",
   "execution_count": 22,
   "metadata": {},
   "outputs": [
    {
     "data": {
      "image/png": "[encoded data removed]",
      "text/plain": [
       "<Figure size 1500x2000 with 12 Axes>"
      ]
     },
     "metadata": {},
     "output_type": "display_data"
    }
   ],
   "source": [
    "ax = data.hist(figsize=(15,20), xrot=90)\n",
    "plt.show()"
   ]
  },
  {
   "cell_type": "markdown",
   "metadata": {},
   "source": [
    "#### Нули в поле price\n",
    "Очевидно, нули в поле цены - это аномальные значения"
   ]
  },
  {
   "cell_type": "code",
   "execution_count": 23,
   "metadata": {},
   "outputs": [
    {
     "name": "stdout",
     "output_type": "stream",
     "text": [
      "Количество ТС без цены: 10772\n"
     ]
    }
   ],
   "source": [
    "print('Количество ТС без цены:',data[data['price']<=0]['price'].count())"
   ]
  },
  {
   "cell_type": "code",
   "execution_count": 24,
   "metadata": {},
   "outputs": [],
   "source": [
    "# удалим такие поля\n",
    "data = data[data['price']>0]"
   ]
  },
  {
   "cell_type": "code",
   "execution_count": 25,
   "metadata": {},
   "outputs": [
    {
     "name": "stdout",
     "output_type": "stream",
     "text": [
      "Исходный / последний / измененный размеры: 354369  /  354365  /  343593\n",
      "Общее / последнее уменьшение датасета: 3.04% / 3.04%\n"
     ]
    }
   ],
   "source": [
    "change_count(data)\n",
    "rowl = data.shape[0]"
   ]
  },
  {
   "cell_type": "markdown",
   "metadata": {},
   "source": [
    "#### Аномалии registration_year, power, date_created, number_of_pictures"
   ]
  },
  {
   "cell_type": "markdown",
   "metadata": {},
   "source": [
    "Видим, что поля registration_year, power, date_created, number_of_pictures возможно имеют аномалии "
   ]
  },
  {
   "cell_type": "markdown",
   "metadata": {},
   "source": [
    "Выведем гистограммы для данных полей по их усеченным значениям (перцентили- более 0,1% и менее 99,9%)"
   ]
  },
  {
   "cell_type": "code",
   "execution_count": 26,
   "metadata": {},
   "outputs": [
    {
     "data": {
      "image/png": "[encoded data removed]",
      "text/plain": [
       "<Figure size 1000x1000 with 4 Axes>"
      ]
     },
     "metadata": {},
     "output_type": "display_data"
    }
   ],
   "source": [
    "figure, axis = plt.subplots(2, 2, figsize=(10,10))\n",
    "axis[0,0].hist(rez(data,'registration_year',0.001,0.999),bins=40)\n",
    "axis[0,0].set_title('registration_year')\n",
    "axis[0,1].hist(rez(data,'power',0.001,0.999),bins=40)\n",
    "axis[0,1].set_title('power')\n",
    "axis[1,0].hist(rez(data,'date_created',0.05,0.995),bins=40)\n",
    "axis[1,0].set_title('date_created')\n",
    "axis[1,0].tick_params(axis='x', labelrotation=90)\n",
    "axis[1,1].hist(rez(data,'number_of_pictures',0.01,0.99),bins=40)\n",
    "axis[1,1].set_title('number_of_pictures')\n",
    "plt.show()\n"
   ]
  },
  {
   "cell_type": "markdown",
   "metadata": {},
   "source": [
    "Видим, что такое отсечение дает вполне адекватные распределения.\n",
    "\n",
    "\"Смущает\" количество фотографий. Посмотрим список уникальных значений по полю"
   ]
  },
  {
   "cell_type": "code",
   "execution_count": 27,
   "metadata": {
    "scrolled": true
   },
   "outputs": [
    {
     "data": {
      "text/plain": [
       "array([0], dtype=int64)"
      ]
     },
     "execution_count": 27,
     "metadata": {},
     "output_type": "execute_result"
    }
   ],
   "source": [
    "data['number_of_pictures'].unique()"
   ]
  },
  {
   "cell_type": "markdown",
   "metadata": {},
   "source": [
    "Очевидно, значения данного поля были скопированы в датасет с ошибками. Поле не информативно, поэтому удалю данный столбец."
   ]
  },
  {
   "cell_type": "code",
   "execution_count": 28,
   "metadata": {},
   "outputs": [],
   "source": [
    "data = data.drop(['number_of_pictures'],axis=1)"
   ]
  },
  {
   "cell_type": "code",
   "execution_count": 29,
   "metadata": {},
   "outputs": [],
   "source": [
    "list_dig.remove('number_of_pictures')"
   ]
  },
  {
   "cell_type": "markdown",
   "metadata": {},
   "source": [
    "Разберемся со значениями в поле date_created.\n",
    "\n",
    "Очевидно, что дата не может быть старше максимального значения в поле date_crawled."
   ]
  },
  {
   "cell_type": "code",
   "execution_count": 30,
   "metadata": {},
   "outputs": [
    {
     "data": {
      "text/plain": [
       "0"
      ]
     },
     "execution_count": 30,
     "metadata": {},
     "output_type": "execute_result"
    }
   ],
   "source": [
    "data[data['date_created']>data['date_crawled'].max()].shape[0]"
   ]
  },
  {
   "cell_type": "markdown",
   "metadata": {},
   "source": [
    "С верхней границей date_created все нормально. Нижнюю границу значений трогать не буду, т.к. нижний хвост, который искажает распределение незначительный по объему (0.01%). И при этом самая ранняя дата в поле относится к 2014 г., что явлается адекватным значением.\n",
    "\n",
    "Рассмотрим поле registration_year. На год также должно действовать ограничение: максимальное значение д.б. не больше максимума для date_crawled"
   ]
  },
  {
   "cell_type": "code",
   "execution_count": 31,
   "metadata": {},
   "outputs": [
    {
     "data": {
      "text/plain": [
       "array([2018, 2017, 5000, 3200, 9999, 8888, 2200, 4100, 3000, 2066, 2019,\n",
       "       8000, 5300, 9000, 2900, 6000, 5900, 5911, 4000, 8500, 3700, 3800,\n",
       "       4800, 7000, 6500, 2290, 9450, 2500, 5555, 5600, 2222, 2800, 4500,\n",
       "       7800, 7100, 8200], dtype=int64)"
      ]
     },
     "metadata": {},
     "output_type": "display_data"
    },
    {
     "name": "stdout",
     "output_type": "stream",
     "text": [
      "Доля значений, превышающих допустимое: 0.040102679623857294\n"
     ]
    }
   ],
   "source": [
    "max_year = data['date_crawled'].dt.year.max()\n",
    "display(data[(data['registration_year']>max_year)]['registration_year'].unique())\n",
    "print('Доля значений, превышающих допустимое:',data[(data['registration_year']>max_year)]\n",
    "                                  ['registration_year'].count()/data.shape[0])"
   ]
  },
  {
   "cell_type": "markdown",
   "metadata": {},
   "source": [
    "Видим, что превышения составляют 4.1% от датасета. Скорее всего это ошибки заполнения, но также для 2017, 2018 это могут быть ошибки копирования. Выявить истинные значения на основании исходной информации не предсталяется возможным. Удалим строки с такими превышениями\n",
    "\n",
    "Также на гистограмме выше видно, что при отсечении нижнего перцентиля (0,1%) мы получаем вполне адекватные значения годов для автомобилей: от 1960. Поэтому также удалим строки ниже такого перцентиля."
   ]
  },
  {
   "cell_type": "code",
   "execution_count": 32,
   "metadata": {},
   "outputs": [],
   "source": [
    "data = data[(data['registration_year']<max_year) &\n",
    "            (data['registration_year']>data['registration_year'].quantile(0.001))]"
   ]
  },
  {
   "cell_type": "code",
   "execution_count": 33,
   "metadata": {},
   "outputs": [
    {
     "name": "stdout",
     "output_type": "stream",
     "text": [
      "Исходный / последний / измененный размеры: 354369  /  343593  /  320370\n",
      "Общее / последнее уменьшение датасета: 9.59% / 6.76%\n"
     ]
    }
   ],
   "source": [
    "# посмотрим на сколько уменьшили датасет\n",
    "change_count(data)\n",
    "# обновим последний размер датасета\n",
    "rowl = data.shape[0]"
   ]
  },
  {
   "cell_type": "markdown",
   "metadata": {},
   "source": [
    "Разберемся с мощностью. Посмотрим состав значений самого малого перцентиля, в который попадают хоть какие то значения. Получим 11% перцентиль."
   ]
  },
  {
   "cell_type": "code",
   "execution_count": 34,
   "metadata": {},
   "outputs": [
    {
     "data": {
      "text/plain": [
       "0     30079\n",
       "1        24\n",
       "2         8\n",
       "3         8\n",
       "4        30\n",
       "5        96\n",
       "6        11\n",
       "7        10\n",
       "8         6\n",
       "9         4\n",
       "10        8\n",
       "11       27\n",
       "12        9\n",
       "13        6\n",
       "14       19\n",
       "15       15\n",
       "16        5\n",
       "17        7\n",
       "18       48\n",
       "19        9\n",
       "20       17\n",
       "21        2\n",
       "22        3\n",
       "23       35\n",
       "24       25\n",
       "25       14\n",
       "26      252\n",
       "27       37\n",
       "28        5\n",
       "29       32\n",
       "30       19\n",
       "31        7\n",
       "32        2\n",
       "33       48\n",
       "34      165\n",
       "35       10\n",
       "36        5\n",
       "37       42\n",
       "38       10\n",
       "39      120\n",
       "40      278\n",
       "41      421\n",
       "42       44\n",
       "43      101\n",
       "44      350\n",
       "45     2617\n",
       "46       52\n",
       "47       29\n",
       "Name: power, dtype: int64"
      ]
     },
     "metadata": {},
     "output_type": "display_data"
    },
    {
     "data": {
      "text/plain": [
       "0.09388831663389206"
      ]
     },
     "execution_count": 34,
     "metadata": {},
     "output_type": "execute_result"
    }
   ],
   "source": [
    "qmn=data['power'].quantile(0.11)\n",
    "display(data[data['power']<qmn]['power'].value_counts().sort_index())\n",
    "data[data['power']==0]['power'].count()/rowl"
   ]
  },
  {
   "cell_type": "markdown",
   "metadata": {},
   "source": [
    "Видим, что отрицательных значений нет. Доля нулей 10%. При этом есть авто с низкими (менее 40 лс) значениями мощности. Посмотрев их по отдельности (не привожу здесь выкладки для краткости), видим, что некоторые значения - могут быть как ошибочными (возможно указаны цифры без нулей) так и реальными- например 26 и 34 лс- реальные и соответствуют определенным моделям ТС.\n",
    "\n",
    "Удалю строки с мощностью менее 39 и не равной 0, 26 и 34 лс.\n",
    "\n",
    "Также удалю строки верхнего 99,9% перцентиля, где указана мощность более 700 лс, что очевидно является либо ошибкой, либо очень редким - аномальным значением"
   ]
  },
  {
   "cell_type": "code",
   "execution_count": 35,
   "metadata": {},
   "outputs": [],
   "source": [
    "data = data[(data['power']==0) | (data['power']==26) | (data['power']==34) | ((data['power']>=39) &\n",
    "     (data['power']<data['power'].quantile(0.999)))]"
   ]
  },
  {
   "cell_type": "markdown",
   "metadata": {},
   "source": [
    "<div style=\"background: #B0E0E6; padding: 5px; border: 1px solid SteelBlue; border-radius: 5px;\">\n",
    "    <font color='4682B4'><u><b>КОММЕНТАРИЙ СТУДЕНТА</b></u></font>\n",
    "    <br />\n",
    "    <font color='4682B4'> Удалю нули. Хотя, я думаю, нули информативны, поскольку - это 10% датасета, и они законны- как показано ниже. В реальных данных их игнорирование вырежет большой кусок валидных данных. Но тем не менее. Исследование оставляю. Удаление будет ниже - за ним.\n",
    "   </font>\n",
    "</div>"
   ]
  },
  {
   "cell_type": "code",
   "execution_count": 36,
   "metadata": {},
   "outputs": [
    {
     "name": "stdout",
     "output_type": "stream",
     "text": [
      "Исходный / последний / измененный размеры: 354369  /  320370  /  319386\n",
      "Общее / последнее уменьшение датасета: 9.87% / 0.31%\n"
     ]
    }
   ],
   "source": [
    "# посмотрим на сколько уменьшили датасет\n",
    "change_count(data)\n",
    "# обновим последний размер датасета\n",
    "rowl = data.shape[0]"
   ]
  },
  {
   "cell_type": "markdown",
   "metadata": {},
   "source": [
    "Обработаю значения нулевых мощностей. Хотя теоретически может встречаться продажа ТС без двигателя, но, скорее всего это не может происходить в 10% случаев. Разберемся."
   ]
  },
  {
   "cell_type": "code",
   "execution_count": 37,
   "metadata": {},
   "outputs": [
    {
     "data": {
      "text/plain": [
       "30079"
      ]
     },
     "execution_count": 37,
     "metadata": {},
     "output_type": "execute_result"
    }
   ],
   "source": [
    "data[data['power']==0].shape[0]"
   ]
  },
  {
   "cell_type": "code",
   "execution_count": 38,
   "metadata": {},
   "outputs": [
    {
     "data": {
      "text/plain": [
       "petrol      15484\n",
       "n_a          7591\n",
       "gasoline     6562\n",
       "lpg           310\n",
       "other          61\n",
       "cng            44\n",
       "hybrid         16\n",
       "electric       11\n",
       "Name: fuel_type, dtype: int64"
      ]
     },
     "execution_count": 38,
     "metadata": {},
     "output_type": "execute_result"
    }
   ],
   "source": [
    "# посмотрим как представлены типы топлива для нулевой можности\n",
    "data[data['power']==0]['fuel_type'].value_counts()"
   ]
  },
  {
   "cell_type": "markdown",
   "metadata": {},
   "source": [
    "Видим, что основная часть объявлений с нулевой мощностью относится к топливным моторам.\n",
    "Непонятно - это объявления с ошибками или какие то машины продаются без моторов. Проверим гипотезу о равенстве средних для выборок объявлений с ненулевой и с нулевой мощностью."
   ]
  },
  {
   "cell_type": "code",
   "execution_count": 39,
   "metadata": {},
   "outputs": [],
   "source": [
    "# создадим датафрем со всеми парами брэнд-модель\n",
    "models = data[data['power']==0][['brand','model']].value_counts().reset_index()\\\n",
    ".sort_values(by=['brand','model']).reset_index()\n",
    "models['count_0'] = 0 # zero power count\n",
    "models['count_1'] = 0 # not zero count\n",
    "models['p_value'] = 10 # аномальное значение по умолчанию\n",
    "models['avg_price_0'] = 0 # average price for zeros\n",
    "models['avg_price_1'] = 0 # avg price for not zeros"
   ]
  },
  {
   "cell_type": "code",
   "execution_count": 40,
   "metadata": {},
   "outputs": [
    {
     "name": "stderr",
     "output_type": "stream",
     "text": [
      "326it [00:28, 11.28it/s]"
     ]
    },
    {
     "name": "stdout",
     "output_type": "stream",
     "text": [
      "146\n"
     ]
    },
    {
     "name": "stderr",
     "output_type": "stream",
     "text": [
      "\n"
     ]
    }
   ],
   "source": [
    "# пройдем по тестам для репрезентативных выборок\n",
    "i =0\n",
    "for row in tqdm.tqdm(models.itertuples()):\n",
    "    b, m = row.brand, row.model\n",
    "    pr_0 = data[(data['power']==0) & (data['brand']==b) & (data['model']==m)]['price']\n",
    "    pr_1 = data[(data['power']!=0) & (data['brand']==b) & (data['model']==m)]['price']\n",
    "    models.loc[row[0],'count_0'] = pr_0.count()\n",
    "    models.loc[row[0],'count_1'] = pr_1.count()\n",
    "    models.loc[row[0],'avg_price_0'] = pr_0.mean()\n",
    "    models.loc[row[0],'avg_price_1'] = pr_1.mean()\n",
    "#     print(models.loc[row[0]][['brand','model']])\n",
    "    if pr_1.shape[0]>30 and pr_0.shape[0]>30:\n",
    "        result = st.ttest_ind(pr_0,pr_1,equal_var=False)\n",
    "        models.loc[row[0],'p_value'] = result.pvalue\n",
    "        i +=1\n",
    "print(i)"
   ]
  },
  {
   "cell_type": "code",
   "execution_count": 41,
   "metadata": {},
   "outputs": [],
   "source": [
    "del pr_0, pr_1"
   ]
  },
  {
   "cell_type": "markdown",
   "metadata": {},
   "source": [
    "Из общего количества пар (брэнд, модель) с наличием нулевых мощностей под ттест попало менее половины всех пар"
   ]
  },
  {
   "cell_type": "code",
   "execution_count": 42,
   "metadata": {},
   "outputs": [
    {
     "data": {
      "text/plain": [
       "133"
      ]
     },
     "execution_count": 42,
     "metadata": {},
     "output_type": "execute_result"
    }
   ],
   "source": [
    "models[models['p_value']<0.05]['p_value'].count()"
   ]
  },
  {
   "cell_type": "markdown",
   "metadata": {},
   "source": [
    "Под уровень значимости 5% попадают еще немного меньше."
   ]
  },
  {
   "cell_type": "code",
   "execution_count": 43,
   "metadata": {},
   "outputs": [
    {
     "data": {
      "image/png": "[encoded data removed]",
      "text/plain": [
       "<Figure size 640x480 with 1 Axes>"
      ]
     },
     "metadata": {},
     "output_type": "display_data"
    }
   ],
   "source": [
    "# Посмотрим распределение p_value\n",
    "models[models['p_value']<0.01]['p_value'].hist(bins=40);"
   ]
  },
  {
   "cell_type": "markdown",
   "metadata": {},
   "source": [
    "Видим, что в основном для репрезентативных выборок критерий значимости находится около нуля. Т.е. на основании ттеста можно говорить о том, что отсутствие мощности статистически значимо влияет на цену.\n",
    "\n",
    "Посморим также расхождения между средними ценами выборок"
   ]
  },
  {
   "cell_type": "code",
   "execution_count": 44,
   "metadata": {},
   "outputs": [],
   "source": [
    "models['avg_diff']=(models['avg_price_1']-models['avg_price_0'])/models['avg_price_0']"
   ]
  },
  {
   "cell_type": "code",
   "execution_count": 45,
   "metadata": {},
   "outputs": [
    {
     "data": {
      "text/plain": [
       "0.8263590437524166"
      ]
     },
     "execution_count": 45,
     "metadata": {},
     "output_type": "execute_result"
    }
   ],
   "source": [
    "models[models['p_value']<0.01]['avg_diff'].mean()"
   ]
  },
  {
   "cell_type": "markdown",
   "metadata": {},
   "source": [
    "В среднем для статистически различающихся выборок среднее значение цен для ТС с мощностью не равной 0 больше такого же значения для ТС с нулевой мощностью почти в 2 раза."
   ]
  },
  {
   "cell_type": "code",
   "execution_count": 46,
   "metadata": {},
   "outputs": [
    {
     "data": {
      "image/png": "[encoded data removed]",
      "text/plain": [
       "<Figure size 640x480 with 1 Axes>"
      ]
     },
     "metadata": {},
     "output_type": "display_data"
    }
   ],
   "source": [
    "models[models['p_value']<0.01]['avg_diff'].hist(bins=100);"
   ]
  },
  {
   "cell_type": "markdown",
   "metadata": {},
   "source": [
    "На гистограмме видно заметное (значительное: от 30% и выше) расхождение средних значений цен для выборок.\n",
    "\n",
    "Конечно для большей уверенности необходимо сравнивать еще более глубже определенные классы (выделять классы по пробегу, и другим категориям), но для данного датасета недостаточно данных для получения репрезентативных выборок.\n",
    "\n",
    "Поэтому делаю вывод, что нулевая мощность (для ТС с p_value<5% в рамках тестов проведенных выше) говорит о ТС без двигателя, либо о ТС с нерабочим двигателем.\n",
    "\n",
    "Поэтому значения нулей для таких пар (брэнд, модель) менять не буду. Для тех пар ТС, по которым разница между средним значением цены (между подклассами с нулевой и ненулевой мощностью) меньше 15%, заменю значения нулевой мощности на моду по мощности в паре (брэнд, модель)"
   ]
  },
  {
   "cell_type": "code",
   "execution_count": 47,
   "metadata": {},
   "outputs": [],
   "source": [
    "# создадим датафрейм с агреггированными по брэнду модели данными по мощности\n",
    "d_pow = data[data['power']!=0].groupby(['brand', 'model'])['power']\\\n",
    "            .agg(lambda x: x.mode().iloc[0]).reset_index()"
   ]
  },
  {
   "cell_type": "code",
   "execution_count": 48,
   "metadata": {},
   "outputs": [],
   "source": [
    "# оставим только модели с \"небольшой\" разницей в средней цене между подклассами\n",
    "d_pow = d_pow.merge(models[models['avg_diff']<0.15],on = ['brand', 'model'])[['brand','model','power']]"
   ]
  },
  {
   "cell_type": "code",
   "execution_count": 49,
   "metadata": {},
   "outputs": [
    {
     "data": {
      "text/plain": [
       "319386"
      ]
     },
     "execution_count": 49,
     "metadata": {},
     "output_type": "execute_result"
    }
   ],
   "source": [
    "# объеденим датафреймы для замены нулей\n",
    "d_0 = data.merge(d_pow, on = ['brand', 'model'],how='left')[['power_x','power_y']]\n",
    "# установим индекс исходного датафрейма\n",
    "d_0.set_index(data.index, inplace=True)\n",
    "d_0.shape[0]"
   ]
  },
  {
   "cell_type": "code",
   "execution_count": 50,
   "metadata": {},
   "outputs": [],
   "source": [
    "# заменим нули по мощности модой (там где есть такие значения)\n",
    "# idx = d_0[(d_0['power_x'] == 0) & (d_0['power_y'].notna())].index\n",
    "# display(len(idx))\n",
    "# data.loc[idx,'power'] = d_0.loc[idx,'power_y']"
   ]
  },
  {
   "cell_type": "code",
   "execution_count": 51,
   "metadata": {},
   "outputs": [
    {
     "data": {
      "text/plain": [
       "30079"
      ]
     },
     "execution_count": 51,
     "metadata": {},
     "output_type": "execute_result"
    }
   ],
   "source": [
    "data[data['power']==0].shape[0]"
   ]
  },
  {
   "cell_type": "code",
   "execution_count": 52,
   "metadata": {},
   "outputs": [],
   "source": [
    "del d_0"
   ]
  },
  {
   "cell_type": "markdown",
   "metadata": {},
   "source": [
    "Осталось 29К нулей. Как показано выше эти нули статистически \"законны\" и их замена числом исказит распределение значений признака."
   ]
  },
  {
   "cell_type": "code",
   "execution_count": 53,
   "metadata": {},
   "outputs": [],
   "source": [
    "# теперь удалим нули\n",
    "data = data[data['power']!=0]"
   ]
  },
  {
   "cell_type": "markdown",
   "metadata": {},
   "source": [
    "### Обработка категориальных признаков"
   ]
  },
  {
   "cell_type": "markdown",
   "metadata": {},
   "source": [
    "Поскольку существуют модели ТС одинаковые для разных брэндов объединю брэнд и модель в один признак"
   ]
  },
  {
   "cell_type": "code",
   "execution_count": 54,
   "metadata": {},
   "outputs": [],
   "source": [
    "data['brand_model'] = data['brand']+'___'+data['model']"
   ]
  },
  {
   "cell_type": "code",
   "execution_count": 55,
   "metadata": {},
   "outputs": [
    {
     "data": {
      "text/plain": [
       "336"
      ]
     },
     "execution_count": 55,
     "metadata": {},
     "output_type": "execute_result"
    }
   ],
   "source": [
    "data['brand_model'].nunique()"
   ]
  },
  {
   "cell_type": "code",
   "execution_count": 56,
   "metadata": {},
   "outputs": [],
   "source": [
    "list_cat.remove('brand')\n",
    "list_cat.remove('model')"
   ]
  },
  {
   "cell_type": "code",
   "execution_count": 57,
   "metadata": {},
   "outputs": [],
   "source": [
    "list_cat.append('brand_model')"
   ]
  },
  {
   "cell_type": "markdown",
   "metadata": {},
   "source": [
    "#### Почтовый индекс\n",
    "разберемся с полем postal_code"
   ]
  },
  {
   "cell_type": "code",
   "execution_count": 58,
   "metadata": {},
   "outputs": [
    {
     "data": {
      "text/plain": [
       "8108"
      ]
     },
     "execution_count": 58,
     "metadata": {},
     "output_type": "execute_result"
    }
   ],
   "source": [
    "# посмотрим количество уникальных значений\n",
    "data['postal_code'].nunique()"
   ]
  },
  {
   "cell_type": "markdown",
   "metadata": {},
   "source": [
    "Почтовый индекс является категориальным признаком. При кодировании такого числа значений мы во-первых получим огромное число OHE признаков, во-вторых слишком мелкая классификация по округу скорее всего не позволит найти закономерности на уровне штата (хотя в некоторых случаях конкретные, как правило наиболее богатые округа могли бы являтся качественным признаком). Поэтому уменьшим количество:\n",
    "оставим от индексов только тысячные разряды"
   ]
  },
  {
   "cell_type": "code",
   "execution_count": 59,
   "metadata": {},
   "outputs": [
    {
     "data": {
      "text/plain": [
       "95"
      ]
     },
     "execution_count": 59,
     "metadata": {},
     "output_type": "execute_result"
    }
   ],
   "source": [
    "data['postal_code_s'] = data['postal_code'] // 1000\n",
    "data['postal_code_s'].nunique()"
   ]
  },
  {
   "cell_type": "code",
   "execution_count": 60,
   "metadata": {},
   "outputs": [
    {
     "data": {
      "text/plain": [
       "array([ 1067,  1068,  1069, ..., 99994, 99996, 99998], dtype=int64)"
      ]
     },
     "execution_count": 60,
     "metadata": {},
     "output_type": "execute_result"
    }
   ],
   "source": [
    "data['postal_code'].sort_values().unique()"
   ]
  },
  {
   "cell_type": "code",
   "execution_count": 61,
   "metadata": {},
   "outputs": [
    {
     "data": {
      "text/plain": [
       "array([ 1,  2,  3,  4,  6,  7,  8,  9, 10, 12, 13, 14, 15, 16, 17, 18, 19,\n",
       "       20, 21, 22, 23, 24, 25, 26, 27, 28, 29, 30, 31, 32, 33, 34, 35, 36,\n",
       "       37, 38, 39, 40, 41, 42, 44, 45, 46, 47, 48, 49, 50, 51, 52, 53, 54,\n",
       "       55, 56, 57, 58, 59, 60, 61, 63, 64, 65, 66, 67, 68, 69, 70, 71, 72,\n",
       "       73, 74, 75, 76, 77, 78, 79, 80, 81, 82, 83, 84, 85, 86, 87, 88, 89,\n",
       "       90, 91, 92, 93, 94, 95, 96, 97, 98, 99], dtype=int64)"
      ]
     },
     "execution_count": 61,
     "metadata": {},
     "output_type": "execute_result"
    }
   ],
   "source": [
    "data['postal_code_s'].sort_values().unique()"
   ]
  },
  {
   "cell_type": "markdown",
   "metadata": {},
   "source": [
    "Такое количество увеличит сложность вычислений. Поэтому получим категории для более крупных регионов"
   ]
  },
  {
   "cell_type": "code",
   "execution_count": 62,
   "metadata": {},
   "outputs": [],
   "source": [
    "def get_macroregion(postal_code):\n",
    "    if 1000 <= postal_code <= 30000:\n",
    "        return 'NE'\n",
    "    elif 30000 <= postal_code < 50000 or 70000 <= postal_code < 79999:\n",
    "        return 'S'\n",
    "    elif 90000 <= postal_code <= 99999 or 80000 <=  89999:\n",
    "        return 'W'\n",
    "    elif 50000 <= postal_code <= 56999:\n",
    "        return 'NC-E'\n",
    "    elif 57000 <= postal_code <= 59999:\n",
    "        return 'NC-W'\n",
    "    else:\n",
    "        return 'Other'"
   ]
  },
  {
   "cell_type": "code",
   "execution_count": 63,
   "metadata": {},
   "outputs": [],
   "source": [
    "data['macroregion'] = data['postal_code'].apply(get_macroregion)"
   ]
  },
  {
   "cell_type": "code",
   "execution_count": 64,
   "metadata": {},
   "outputs": [
    {
     "data": {
      "text/plain": [
       "array(['W', 'S', 'NE'], dtype=object)"
      ]
     },
     "execution_count": 64,
     "metadata": {},
     "output_type": "execute_result"
    }
   ],
   "source": [
    "data['macroregion'].unique()"
   ]
  },
  {
   "cell_type": "code",
   "execution_count": 65,
   "metadata": {},
   "outputs": [],
   "source": [
    "list_cat.remove('postal_code')\n",
    "list_cat.append('macroregion')"
   ]
  },
  {
   "cell_type": "code",
   "execution_count": 66,
   "metadata": {},
   "outputs": [
    {
     "data": {
      "text/plain": [
       "['vehicle_type',\n",
       " 'gearbox',\n",
       " 'fuel_type',\n",
       " 'repaired',\n",
       " 'brand_model',\n",
       " 'macroregion']"
      ]
     },
     "execution_count": 66,
     "metadata": {},
     "output_type": "execute_result"
    }
   ],
   "source": [
    "list_cat"
   ]
  },
  {
   "cell_type": "markdown",
   "metadata": {},
   "source": [
    "#### Объединение категорий"
   ]
  },
  {
   "cell_type": "markdown",
   "metadata": {},
   "source": [
    "Посмотрю редко встречающиеся значения в полях категориальных признаков для их объединения с целью уменьшения количества признаков при ОНЕ кодировании"
   ]
  },
  {
   "cell_type": "code",
   "execution_count": 67,
   "metadata": {},
   "outputs": [
    {
     "data": {
      "text/plain": [
       "sedan          0.286578\n",
       "small          0.240644\n",
       "wagon          0.204700\n",
       "bus            0.090523\n",
       "convertible    0.064689\n",
       "coupe          0.050355\n",
       "suv            0.037735\n",
       "n_a            0.016502\n",
       "other          0.008275\n",
       "Name: vehicle_type, dtype: float64"
      ]
     },
     "execution_count": 67,
     "metadata": {},
     "output_type": "execute_result"
    }
   ],
   "source": [
    "data['vehicle_type'].value_counts(normalize=True)"
   ]
  },
  {
   "cell_type": "markdown",
   "metadata": {},
   "source": [
    "В данном поле ничего объединять не буду"
   ]
  },
  {
   "cell_type": "code",
   "execution_count": 68,
   "metadata": {},
   "outputs": [
    {
     "data": {
      "text/plain": [
       "manual    0.782729\n",
       "auto      0.200538\n",
       "n_a       0.016733\n",
       "Name: gearbox, dtype: float64"
      ]
     },
     "execution_count": 68,
     "metadata": {},
     "output_type": "execute_result"
    }
   ],
   "source": [
    "data['gearbox'].value_counts(normalize=True)"
   ]
  },
  {
   "cell_type": "markdown",
   "metadata": {},
   "source": [
    "Также не трогаю это поле"
   ]
  },
  {
   "cell_type": "code",
   "execution_count": 69,
   "metadata": {},
   "outputs": [
    {
     "data": {
      "text/plain": [
       "petrol      0.636293\n",
       "gasoline    0.300359\n",
       "n_a         0.044620\n",
       "lpg         0.016004\n",
       "cng         0.001645\n",
       "hybrid      0.000684\n",
       "other       0.000277\n",
       "electric    0.000118\n",
       "Name: fuel_type, dtype: float64"
      ]
     },
     "execution_count": 69,
     "metadata": {},
     "output_type": "execute_result"
    }
   ],
   "source": [
    "data['fuel_type'].value_counts(normalize=True)"
   ]
  },
  {
   "cell_type": "markdown",
   "metadata": {},
   "source": [
    "Объединю категории с долей < 1%"
   ]
  },
  {
   "cell_type": "code",
   "execution_count": 70,
   "metadata": {},
   "outputs": [],
   "source": [
    "idx = data[(data['fuel_type']=='cng') | (data['fuel_type']=='hybrid') | (data['fuel_type']=='other')\n",
    "    | (data['fuel_type']=='electric')].index\n",
    "data.loc[idx,'fuel_type'] = 'rare'"
   ]
  },
  {
   "cell_type": "code",
   "execution_count": 71,
   "metadata": {},
   "outputs": [
    {
     "data": {
      "text/plain": [
       "no     0.764859\n",
       "n_a    0.138420\n",
       "yes    0.096721\n",
       "Name: repaired, dtype: float64"
      ]
     },
     "execution_count": 71,
     "metadata": {},
     "output_type": "execute_result"
    }
   ],
   "source": [
    "data['repaired'].value_counts(normalize=True)"
   ]
  },
  {
   "cell_type": "markdown",
   "metadata": {},
   "source": [
    "В поле repaired ничего не меняем"
   ]
  },
  {
   "cell_type": "code",
   "execution_count": 72,
   "metadata": {},
   "outputs": [
    {
     "data": {
      "text/plain": [
       "W     0.411646\n",
       "S     0.349708\n",
       "NE    0.238646\n",
       "Name: macroregion, dtype: float64"
      ]
     },
     "execution_count": 72,
     "metadata": {},
     "output_type": "execute_result"
    }
   ],
   "source": [
    "p = data['macroregion'].value_counts(normalize=True)\n",
    "p"
   ]
  },
  {
   "cell_type": "markdown",
   "metadata": {},
   "source": [
    "Удаляю. Только не само поле, а название поля из списка полей"
   ]
  },
  {
   "cell_type": "code",
   "execution_count": 73,
   "metadata": {},
   "outputs": [],
   "source": [
    "list_cat.remove('macroregion')"
   ]
  },
  {
   "cell_type": "code",
   "execution_count": 74,
   "metadata": {},
   "outputs": [
    {
     "data": {
      "text/plain": [
       "['vehicle_type', 'gearbox', 'fuel_type', 'repaired', 'brand_model']"
      ]
     },
     "execution_count": 74,
     "metadata": {},
     "output_type": "execute_result"
    }
   ],
   "source": [
    "list_cat"
   ]
  },
  {
   "cell_type": "markdown",
   "metadata": {},
   "source": [
    "##### Брэнд, модель"
   ]
  },
  {
   "cell_type": "code",
   "execution_count": 75,
   "metadata": {},
   "outputs": [
    {
     "data": {
      "text/html": [
       "<div>\n",
       "<style scoped>\n",
       "    .dataframe tbody tr th:only-of-type {\n",
       "        vertical-align: middle;\n",
       "    }\n",
       "\n",
       "    .dataframe tbody tr th {\n",
       "        vertical-align: top;\n",
       "    }\n",
       "\n",
       "    .dataframe thead th {\n",
       "        text-align: right;\n",
       "    }\n",
       "</style>\n",
       "<table border=\"1\" class=\"dataframe\">\n",
       "  <thead>\n",
       "    <tr style=\"text-align: right;\">\n",
       "      <th></th>\n",
       "      <th>brand_model</th>\n",
       "      <th>bm_frac_x</th>\n",
       "      <th>brand</th>\n",
       "      <th>model</th>\n",
       "      <th>bm_frac_y</th>\n",
       "      <th>model_frac</th>\n",
       "    </tr>\n",
       "  </thead>\n",
       "  <tbody>\n",
       "    <tr>\n",
       "      <th>22</th>\n",
       "      <td>volkswagen___touran</td>\n",
       "      <td>0.009882</td>\n",
       "      <td>volkswagen</td>\n",
       "      <td>touran</td>\n",
       "      <td>0.215221</td>\n",
       "      <td>0.045917</td>\n",
       "    </tr>\n",
       "    <tr>\n",
       "      <th>29</th>\n",
       "      <td>volkswagen___lupo</td>\n",
       "      <td>0.007155</td>\n",
       "      <td>volkswagen</td>\n",
       "      <td>lupo</td>\n",
       "      <td>0.215221</td>\n",
       "      <td>0.033245</td>\n",
       "    </tr>\n",
       "    <tr>\n",
       "      <th>33</th>\n",
       "      <td>volkswagen___n_a</td>\n",
       "      <td>0.006453</td>\n",
       "      <td>volkswagen</td>\n",
       "      <td>n_a</td>\n",
       "      <td>0.215221</td>\n",
       "      <td>0.029985</td>\n",
       "    </tr>\n",
       "    <tr>\n",
       "      <th>39</th>\n",
       "      <td>bmw___x_reihe</td>\n",
       "      <td>0.004912</td>\n",
       "      <td>bmw</td>\n",
       "      <td>x_reihe</td>\n",
       "      <td>0.110101</td>\n",
       "      <td>0.044611</td>\n",
       "    </tr>\n",
       "    <tr>\n",
       "      <th>42</th>\n",
       "      <td>volkswagen___caddy</td>\n",
       "      <td>0.004400</td>\n",
       "      <td>volkswagen</td>\n",
       "      <td>caddy</td>\n",
       "      <td>0.215221</td>\n",
       "      <td>0.020445</td>\n",
       "    </tr>\n",
       "    <tr>\n",
       "      <th>...</th>\n",
       "      <td>...</td>\n",
       "      <td>...</td>\n",
       "      <td>...</td>\n",
       "      <td>...</td>\n",
       "      <td>...</td>\n",
       "      <td>...</td>\n",
       "    </tr>\n",
       "    <tr>\n",
       "      <th>331</th>\n",
       "      <td>land_rover___range_rover_evoque</td>\n",
       "      <td>0.000007</td>\n",
       "      <td>land_rover</td>\n",
       "      <td>range_rover_evoque</td>\n",
       "      <td>0.001593</td>\n",
       "      <td>0.004338</td>\n",
       "    </tr>\n",
       "    <tr>\n",
       "      <th>332</th>\n",
       "      <td>rover___rangerover</td>\n",
       "      <td>0.000007</td>\n",
       "      <td>rover</td>\n",
       "      <td>rangerover</td>\n",
       "      <td>0.001220</td>\n",
       "      <td>0.005666</td>\n",
       "    </tr>\n",
       "    <tr>\n",
       "      <th>333</th>\n",
       "      <td>rover___discovery</td>\n",
       "      <td>0.000007</td>\n",
       "      <td>rover</td>\n",
       "      <td>discovery</td>\n",
       "      <td>0.001220</td>\n",
       "      <td>0.005666</td>\n",
       "    </tr>\n",
       "    <tr>\n",
       "      <th>334</th>\n",
       "      <td>rover___freelander</td>\n",
       "      <td>0.000003</td>\n",
       "      <td>rover</td>\n",
       "      <td>freelander</td>\n",
       "      <td>0.001220</td>\n",
       "      <td>0.002833</td>\n",
       "    </tr>\n",
       "    <tr>\n",
       "      <th>335</th>\n",
       "      <td>rover___defender</td>\n",
       "      <td>0.000003</td>\n",
       "      <td>rover</td>\n",
       "      <td>defender</td>\n",
       "      <td>0.001220</td>\n",
       "      <td>0.002833</td>\n",
       "    </tr>\n",
       "  </tbody>\n",
       "</table>\n",
       "<p>153 rows × 6 columns</p>\n",
       "</div>"
      ],
      "text/plain": [
       "                         brand_model  bm_frac_x       brand  \\\n",
       "22               volkswagen___touran   0.009882  volkswagen   \n",
       "29                 volkswagen___lupo   0.007155  volkswagen   \n",
       "33                  volkswagen___n_a   0.006453  volkswagen   \n",
       "39                     bmw___x_reihe   0.004912         bmw   \n",
       "42                volkswagen___caddy   0.004400  volkswagen   \n",
       "..                               ...        ...         ...   \n",
       "331  land_rover___range_rover_evoque   0.000007  land_rover   \n",
       "332               rover___rangerover   0.000007       rover   \n",
       "333                rover___discovery   0.000007       rover   \n",
       "334               rover___freelander   0.000003       rover   \n",
       "335                 rover___defender   0.000003       rover   \n",
       "\n",
       "                  model  bm_frac_y  model_frac  \n",
       "22               touran   0.215221    0.045917  \n",
       "29                 lupo   0.215221    0.033245  \n",
       "33                  n_a   0.215221    0.029985  \n",
       "39              x_reihe   0.110101    0.044611  \n",
       "42                caddy   0.215221    0.020445  \n",
       "..                  ...        ...         ...  \n",
       "331  range_rover_evoque   0.001593    0.004338  \n",
       "332          rangerover   0.001220    0.005666  \n",
       "333           discovery   0.001220    0.005666  \n",
       "334          freelander   0.001220    0.002833  \n",
       "335            defender   0.001220    0.002833  \n",
       "\n",
       "[153 rows x 6 columns]"
      ]
     },
     "metadata": {},
     "output_type": "display_data"
    }
   ],
   "source": [
    "# посмотрим долю каждой пары (брэнд, модель) в общем датасете\n",
    "p = data['brand_model'].value_counts(normalize=True).reset_index()\n",
    "p.rename(columns={'brand_model':'bm_frac','index':'brand_model'}, inplace = True)\n",
    "# посмотрим долю по брэнду\n",
    "p[['brand', 'model']] = p['brand_model'].apply(lambda x: pd.Series(str(x).split('___')))\n",
    "# посмотрим долю модели в брэнде\n",
    "p = p.merge(p.groupby('brand')['bm_frac'].sum().reset_index(),on=['brand'],how='left')\n",
    "p['model_frac']= p['bm_frac_x']/p['bm_frac_y']\n",
    "# отберем мелкие модели внутри брэнда\n",
    "# pd.set_option('display.max_rows', None)\n",
    "display(p[p['model_frac']<0.05])\n",
    "# pd.reset_option('display.max_rows')"
   ]
  },
  {
   "cell_type": "markdown",
   "metadata": {},
   "source": [
    "Заменим названия редких моделей на smallest"
   ]
  },
  {
   "cell_type": "code",
   "execution_count": 76,
   "metadata": {},
   "outputs": [],
   "source": [
    "p['model_small'] = p['model']\n",
    "p.loc[p[p['model_frac']<0.05].index,'model_small']='smallest'\n",
    "p['brand_model_small'] = p['brand']+'___'+p['model_small']"
   ]
  },
  {
   "cell_type": "code",
   "execution_count": 77,
   "metadata": {},
   "outputs": [
    {
     "data": {
      "text/plain": [
       "289307"
      ]
     },
     "execution_count": 77,
     "metadata": {},
     "output_type": "execute_result"
    }
   ],
   "source": [
    "data.shape[0]"
   ]
  },
  {
   "cell_type": "code",
   "execution_count": 78,
   "metadata": {},
   "outputs": [],
   "source": [
    "data_bm = \\\n",
    "data.merge(p[['brand','model','brand_model','brand_model_small']],\\\n",
    "           on=['brand_model'],how='left')\n",
    "data_bm.set_index(data.index, inplace=True)"
   ]
  },
  {
   "cell_type": "code",
   "execution_count": 79,
   "metadata": {},
   "outputs": [
    {
     "name": "stdout",
     "output_type": "stream",
     "text": [
      "Количесво пар (брэнд, модель): 220\n"
     ]
    }
   ],
   "source": [
    "print('Количесво пар (брэнд, модель):',data_bm['brand_model_small'].nunique())"
   ]
  },
  {
   "cell_type": "code",
   "execution_count": 80,
   "metadata": {},
   "outputs": [
    {
     "data": {
      "text/plain": [
       "['vehicle_type', 'gearbox', 'fuel_type', 'repaired', 'brand_model_small']"
      ]
     },
     "execution_count": 80,
     "metadata": {},
     "output_type": "execute_result"
    }
   ],
   "source": [
    "list_cat.remove('brand_model')\n",
    "list_cat.append('brand_model_small')\n",
    "list_cat"
   ]
  },
  {
   "cell_type": "code",
   "execution_count": 81,
   "metadata": {},
   "outputs": [],
   "source": [
    "data['brand_model_small'] = data_bm['brand_model_small']\n",
    "del data_bm"
   ]
  },
  {
   "cell_type": "code",
   "execution_count": 82,
   "metadata": {},
   "outputs": [
    {
     "data": {
      "text/plain": [
       "220"
      ]
     },
     "execution_count": 82,
     "metadata": {},
     "output_type": "execute_result"
    }
   ],
   "source": [
    "data['brand_model_small'].nunique()"
   ]
  },
  {
   "cell_type": "markdown",
   "metadata": {},
   "source": [
    "#### Даты - поля с датами не использую"
   ]
  },
  {
   "cell_type": "markdown",
   "metadata": {},
   "source": [
    "В датасете 3 поля с датой-временем.\n",
    "- DateCrawled — дата скачивания анкеты из базы - считаю, никак не может влиять на цену, поэтому удаю данное поле\n",
    "- DateCreated — дата создания анкеты- может влиять на цену (теоретически, чем старее анкета, тем скорее цена может быть ниже для аналогичной в классе- но это не точно)\n",
    "- LastSeen — дата последней активности пользователя - не знаю как, но вероятно, может влиять на цену.\n",
    "\n",
    "Преобразую эти поля в числовое поле"
   ]
  },
  {
   "cell_type": "code",
   "execution_count": 83,
   "metadata": {},
   "outputs": [],
   "source": [
    "data['date_created'] = data['date_created'].astype('int64') // 10**9\n",
    "data['last_seen'] = data['last_seen'].astype('int64') // 10**9"
   ]
  },
  {
   "cell_type": "markdown",
   "metadata": {},
   "source": [
    "### Подготовка данных для моделей МО"
   ]
  },
  {
   "cell_type": "markdown",
   "metadata": {},
   "source": [
    "#### Корреляция"
   ]
  },
  {
   "cell_type": "markdown",
   "metadata": {},
   "source": [
    "Посмотрим корреляцию числовых полей для целей их возможного исключения в линейных моделях "
   ]
  },
  {
   "cell_type": "code",
   "execution_count": 84,
   "metadata": {
    "scrolled": true
   },
   "outputs": [
    {
     "data": {
      "text/html": [
       "<div>\n",
       "<style scoped>\n",
       "    .dataframe tbody tr th:only-of-type {\n",
       "        vertical-align: middle;\n",
       "    }\n",
       "\n",
       "    .dataframe tbody tr th {\n",
       "        vertical-align: top;\n",
       "    }\n",
       "\n",
       "    .dataframe thead th {\n",
       "        text-align: right;\n",
       "    }\n",
       "</style>\n",
       "<table border=\"1\" class=\"dataframe\">\n",
       "  <thead>\n",
       "    <tr style=\"text-align: right;\">\n",
       "      <th></th>\n",
       "      <th>price</th>\n",
       "      <th>registration_year</th>\n",
       "      <th>power</th>\n",
       "      <th>kilometer</th>\n",
       "      <th>registration_month</th>\n",
       "    </tr>\n",
       "  </thead>\n",
       "  <tbody>\n",
       "    <tr>\n",
       "      <th>price</th>\n",
       "      <td>1.000000</td>\n",
       "      <td>0.556162</td>\n",
       "      <td>0.509368</td>\n",
       "      <td>-0.387586</td>\n",
       "      <td>0.066276</td>\n",
       "    </tr>\n",
       "    <tr>\n",
       "      <th>registration_year</th>\n",
       "      <td>0.556162</td>\n",
       "      <td>1.000000</td>\n",
       "      <td>0.155472</td>\n",
       "      <td>-0.337802</td>\n",
       "      <td>0.061898</td>\n",
       "    </tr>\n",
       "    <tr>\n",
       "      <th>power</th>\n",
       "      <td>0.509368</td>\n",
       "      <td>0.155472</td>\n",
       "      <td>1.000000</td>\n",
       "      <td>0.102550</td>\n",
       "      <td>0.039082</td>\n",
       "    </tr>\n",
       "    <tr>\n",
       "      <th>kilometer</th>\n",
       "      <td>-0.387586</td>\n",
       "      <td>-0.337802</td>\n",
       "      <td>0.102550</td>\n",
       "      <td>1.000000</td>\n",
       "      <td>-0.015695</td>\n",
       "    </tr>\n",
       "    <tr>\n",
       "      <th>registration_month</th>\n",
       "      <td>0.066276</td>\n",
       "      <td>0.061898</td>\n",
       "      <td>0.039082</td>\n",
       "      <td>-0.015695</td>\n",
       "      <td>1.000000</td>\n",
       "    </tr>\n",
       "  </tbody>\n",
       "</table>\n",
       "</div>"
      ],
      "text/plain": [
       "                       price  registration_year     power  kilometer  \\\n",
       "price               1.000000           0.556162  0.509368  -0.387586   \n",
       "registration_year   0.556162           1.000000  0.155472  -0.337802   \n",
       "power               0.509368           0.155472  1.000000   0.102550   \n",
       "kilometer          -0.387586          -0.337802  0.102550   1.000000   \n",
       "registration_month  0.066276           0.061898  0.039082  -0.015695   \n",
       "\n",
       "                    registration_month  \n",
       "price                         0.066276  \n",
       "registration_year             0.061898  \n",
       "power                         0.039082  \n",
       "kilometer                    -0.015695  \n",
       "registration_month            1.000000  "
      ]
     },
     "execution_count": 84,
     "metadata": {},
     "output_type": "execute_result"
    }
   ],
   "source": [
    "data[list_dig].corr()"
   ]
  },
  {
   "cell_type": "markdown",
   "metadata": {},
   "source": [
    "Можно отметить условно средний уровень прямой зависимости между полем price и полями registration_year, power, kilometer. Другие пары полей не показывают высоких значений. Т.о. никакие поля при работе с линейными моделями исключать не буду."
   ]
  },
  {
   "cell_type": "markdown",
   "metadata": {},
   "source": [
    "#### Разделение выборок"
   ]
  },
  {
   "cell_type": "markdown",
   "metadata": {},
   "source": [
    "Поскольку для оценки моделей буду использовать кросс-валидацию, разделю выборку на 2 части (train и test) без валидационной."
   ]
  },
  {
   "cell_type": "code",
   "execution_count": 85,
   "metadata": {},
   "outputs": [],
   "source": [
    "list_dig.remove('price')"
   ]
  },
  {
   "cell_type": "code",
   "execution_count": 86,
   "metadata": {},
   "outputs": [],
   "source": [
    "feat_list = list_cat + list_dig"
   ]
  },
  {
   "cell_type": "code",
   "execution_count": 87,
   "metadata": {},
   "outputs": [],
   "source": [
    "# Выделим признаки и таргеты\n",
    "features = data[feat_list]\n",
    "target = data['price']"
   ]
  },
  {
   "cell_type": "code",
   "execution_count": 88,
   "metadata": {},
   "outputs": [],
   "source": [
    "# разделим выборку на обучающую и тестовую\n",
    "features_train, features_test, target_train, target_test = train_test_split(\n",
    "    features, target, test_size=0.20, random_state=STATE)"
   ]
  },
  {
   "cell_type": "markdown",
   "metadata": {},
   "source": [
    "#### Кодирование категориальных признаков"
   ]
  },
  {
   "cell_type": "code",
   "execution_count": 89,
   "metadata": {},
   "outputs": [],
   "source": [
    "# Закодируем категориальные признаки\n",
    "# encoder = OneHotEncoder(sparse=False,dtype='int8',handle_unknown='ignore',drop='first')\n",
    "encoder = OneHotEncoder(sparse=False,dtype='int8',handle_unknown='error',drop='first')\n",
    "encoder.fit(features_train[list_cat])\n",
    "features_train_ohe = encoder.transform(features_train[list_cat])\n",
    "features_test_ohe = encoder.transform(features_test[list_cat])"
   ]
  },
  {
   "cell_type": "code",
   "execution_count": 90,
   "metadata": {
    "scrolled": false
   },
   "outputs": [
    {
     "data": {
      "text/plain": [
       "235"
      ]
     },
     "metadata": {},
     "output_type": "display_data"
    },
    {
     "data": {
      "text/plain": [
       "235"
      ]
     },
     "execution_count": 90,
     "metadata": {},
     "output_type": "execute_result"
    }
   ],
   "source": [
    "# посмотрим количество признаков\n",
    "display(features_train_ohe.shape[1])\n",
    "features_test_ohe.shape[1]"
   ]
  },
  {
   "cell_type": "code",
   "execution_count": 93,
   "metadata": {},
   "outputs": [],
   "source": [
    "# получим названия закодированных полей\n",
    "ftr_col = encoder.get_feature_names_out(list_cat) # для обучающей выборки\n",
    "fts_col = encoder.get_feature_names_out(list_cat) # для тестовой выборки\n",
    "\n",
    "# КОД РЕВЬЮЕРА\n",
    "# ftr_col = encoder.get_feature_names(list_cat) # для обучающей выборки\n",
    "# fts_col = encoder.get_feature_names(list_cat) # для тестовой выборки\n",
    "# pd.DataFrame(features_train_ohe, columns=ftr_col)\n",
    "# [column for column in features_test_ohe]"
   ]
  },
  {
   "cell_type": "code",
   "execution_count": 94,
   "metadata": {},
   "outputs": [
    {
     "name": "stdout",
     "output_type": "stream",
     "text": [
      "ОНЕ поля в обучающей и тестовой выборках совпадают\n"
     ]
    }
   ],
   "source": [
    "if set(ftr_col.tolist()) == set(fts_col.tolist()):\n",
    "    print('ОНЕ поля в обучающей и тестовой выборках совпадают')\n",
    "else: print('ОНЕ поля в обучающе и тестовой выборках НЕ совпадают')"
   ]
  },
  {
   "cell_type": "code",
   "execution_count": 95,
   "metadata": {},
   "outputs": [],
   "source": [
    "features_train_ohe = pd.DataFrame(features_train_ohe,columns=ftr_col)\n",
    "features_test_ohe = pd.DataFrame(features_test_ohe,columns=fts_col)"
   ]
  },
  {
   "cell_type": "code",
   "execution_count": 96,
   "metadata": {},
   "outputs": [],
   "source": [
    "features_train_ohe.set_index(features_train.index, inplace=True)\n",
    "features_test_ohe.set_index(features_test.index, inplace=True)"
   ]
  },
  {
   "cell_type": "markdown",
   "metadata": {},
   "source": [
    "#### Объединение в итоговые датафреймы и масштабирование"
   ]
  },
  {
   "cell_type": "code",
   "execution_count": 97,
   "metadata": {},
   "outputs": [
    {
     "data": {
      "text/plain": [
       "(231445, 235)"
      ]
     },
     "execution_count": 97,
     "metadata": {},
     "output_type": "execute_result"
    }
   ],
   "source": [
    "features_train_ohe.shape"
   ]
  },
  {
   "cell_type": "code",
   "execution_count": 98,
   "metadata": {},
   "outputs": [],
   "source": [
    "feat_train = pd.concat([features_train_ohe,features_train[list_dig]],axis=1)\n",
    "feat_test = pd.concat([features_test_ohe,features_test[list_dig]],axis=1)"
   ]
  },
  {
   "cell_type": "code",
   "execution_count": 99,
   "metadata": {},
   "outputs": [
    {
     "data": {
      "text/plain": [
       "(231445, 239)"
      ]
     },
     "metadata": {},
     "output_type": "display_data"
    },
    {
     "data": {
      "text/plain": [
       "(57862, 239)"
      ]
     },
     "execution_count": 99,
     "metadata": {},
     "output_type": "execute_result"
    }
   ],
   "source": [
    "# посмотрим размеры\n",
    "display(feat_train.shape)\n",
    "feat_test.shape"
   ]
  },
  {
   "cell_type": "markdown",
   "metadata": {},
   "source": [
    "Поскольку буду использовать линейный модели и гр.бустинг отмасштабирую признаки"
   ]
  },
  {
   "cell_type": "code",
   "execution_count": 100,
   "metadata": {},
   "outputs": [],
   "source": [
    "f_list = ftr_col.tolist()+list_dig"
   ]
  },
  {
   "cell_type": "code",
   "execution_count": 101,
   "metadata": {},
   "outputs": [],
   "source": [
    "stand_scaler = StandardScaler()"
   ]
  },
  {
   "cell_type": "markdown",
   "metadata": {},
   "source": [
    "Поскольку список полей получился достаточно большим и масштабирование сразу всего датафрейма технически затруднено, пройду по полям в цикле"
   ]
  },
  {
   "cell_type": "code",
   "execution_count": 102,
   "metadata": {},
   "outputs": [
    {
     "name": "stderr",
     "output_type": "stream",
     "text": [
      "100%|██████████| 239/239 [00:06<00:00, 38.30it/s]\n"
     ]
    }
   ],
   "source": [
    "for c in tqdm.tqdm(f_list):\n",
    "    stand_scaler.fit(feat_train[c].values.reshape(-1, 1))\n",
    "    feat_train[c] = stand_scaler.transform(feat_train[c].values.reshape(-1, 1))\n",
    "    feat_test[c] = stand_scaler.transform(feat_test[c].values.reshape(-1, 1))"
   ]
  },
  {
   "cell_type": "code",
   "execution_count": 103,
   "metadata": {},
   "outputs": [
    {
     "name": "stdout",
     "output_type": "stream",
     "text": [
      "<class 'pandas.core.frame.DataFrame'>\n",
      "Int64Index: 231445 entries, 336465 to 266518\n",
      "Columns: 235 entries, vehicle_type_convertible to brand_model_small_volvo___xc_reihe\n",
      "dtypes: int8(235)\n",
      "memory usage: 53.6 MB\n"
     ]
    }
   ],
   "source": [
    "features_train_ohe.info()"
   ]
  },
  {
   "cell_type": "markdown",
   "metadata": {},
   "source": [
    "Тип данных в полях - int8. Улучшать не надо."
   ]
  },
  {
   "cell_type": "markdown",
   "metadata": {},
   "source": [
    "Данные подготовлены для использования в моделях МО"
   ]
  },
  {
   "cell_type": "markdown",
   "metadata": {},
   "source": [
    "## Обучение моделей"
   ]
  },
  {
   "cell_type": "markdown",
   "metadata": {},
   "source": [
    "Буду обучать 3 модели. Создам датафрейм для записи итоговых данных по моделям"
   ]
  },
  {
   "cell_type": "code",
   "execution_count": 104,
   "metadata": {},
   "outputs": [],
   "source": [
    "models = ['Ridge','Dessision Tree','Light GBM']\n",
    "model_results = pd.DataFrame(columns=['rmse_train','time_train','rmse_test','time_test'],\n",
    "                             index=models,dtype=float)"
   ]
  },
  {
   "cell_type": "markdown",
   "metadata": {},
   "source": [
    "Подготовим функцию для случайного решетчатого поиска"
   ]
  },
  {
   "cell_type": "code",
   "execution_count": 105,
   "metadata": {},
   "outputs": [],
   "source": [
    "def f_random_cv(model,grid,CV,score,features,target):\n",
    "    random_cv = RandomizedSearchCV(estimator=model,\n",
    "        param_distributions=grid,\n",
    "        cv=CV, \n",
    "        scoring = score,\n",
    "        n_jobs = -1,\n",
    "        random_state=STATE)\n",
    "    random_cv.fit(features, target)\n",
    "    return random_cv"
   ]
  },
  {
   "cell_type": "code",
   "execution_count": 106,
   "metadata": {},
   "outputs": [],
   "source": [
    "# для все моделей - метрика RMSE, CV = 4\n",
    "scoring = 'neg_root_mean_squared_error'\n",
    "CV = 4"
   ]
  },
  {
   "cell_type": "markdown",
   "metadata": {},
   "source": [
    "### Используем линейную ридж-регрессию"
   ]
  },
  {
   "cell_type": "code",
   "execution_count": 107,
   "metadata": {},
   "outputs": [
    {
     "name": "stderr",
     "output_type": "stream",
     "text": [
      "100%|██████████| 1/1 [00:28<00:00, 28.99s/it]"
     ]
    },
    {
     "name": "stdout",
     "output_type": "stream",
     "text": [
      "CPU times: total: 4.05 s\n",
      "Wall time: 29 s\n"
     ]
    },
    {
     "name": "stderr",
     "output_type": "stream",
     "text": [
      "\n"
     ]
    }
   ],
   "source": [
    "# Определяем модель Ridge\n",
    "model_ridge = Ridge()\n",
    "# Определяем диапазон параметра alpha\n",
    "grid = {'alpha': [0.01, 0.1, 1, 10, 100]}\n",
    "\n",
    "# Подбираем лучшие гиперпараметры - расчет около 30сек\n",
    "for i in tqdm.tqdm(range(1)): # применил цикл с одной итерацией для запуска статус бара tqdm\n",
    "    %time random_cv_ridge = f_random_cv(model_ridge,grid,CV,scoring,feat_train, target_train)"
   ]
  },
  {
   "cell_type": "code",
   "execution_count": 108,
   "metadata": {},
   "outputs": [
    {
     "name": "stdout",
     "output_type": "stream",
     "text": [
      "Best params:  {'alpha': 1}\n",
      "Best score:  2592.2348058703706\n"
     ]
    }
   ],
   "source": [
    "# лучшие гиперпараметры и значение метрики\n",
    "print(\"Best params: \", random_cv_ridge.best_params_)\n",
    "print(\"Best score: \", -1*random_cv_ridge.best_score_)"
   ]
  },
  {
   "cell_type": "code",
   "execution_count": 109,
   "metadata": {},
   "outputs": [],
   "source": [
    "best_ridge = random_cv_ridge.best_estimator_\n",
    "start = time.time()\n",
    "pred_ridge = best_ridge.predict(feat_test)\n",
    "end = time.time()\n",
    "best_ridge_pred_time = end-start\n",
    "# best_ridge_rmse = mean_squared_error(target_test, pred_ridge, squared=False)"
   ]
  },
  {
   "cell_type": "code",
   "execution_count": 110,
   "metadata": {},
   "outputs": [],
   "source": [
    "mean_fit_time = random_cv_ridge.cv_results_['mean_fit_time']\n",
    "total_time = np.sum(mean_fit_time)\n",
    "\n",
    "model_results.loc['Ridge',['rmse_train','time_train','rmse_test','time_test']]=\\\n",
    "[-1*random_cv_ridge.best_score_,total_time,'n/a',best_ridge_pred_time]\n",
    "# model_results"
   ]
  },
  {
   "cell_type": "markdown",
   "metadata": {},
   "source": [
    "### Обучим дерево решений в регрессии"
   ]
  },
  {
   "cell_type": "code",
   "execution_count": 111,
   "metadata": {},
   "outputs": [],
   "source": [
    "# Определим списки значений гиперпараметров, которые будут использоваться в поиске\n",
    "max_depth_list = [int(x) for x in range(2, 20, 4)]\n",
    "min_samples_split_list = [int(x) for x in range(2,40,4)]"
   ]
  },
  {
   "cell_type": "code",
   "execution_count": 112,
   "metadata": {},
   "outputs": [],
   "source": [
    "# Создадим сетку гиперпараметров\n",
    "grid = {'max_depth': max_depth_list,\n",
    "       'min_samples_split': min_samples_split_list\n",
    "       }"
   ]
  },
  {
   "cell_type": "code",
   "execution_count": 113,
   "metadata": {},
   "outputs": [],
   "source": [
    "model_dtr = DecisionTreeRegressor(random_state=STATE)"
   ]
  },
  {
   "cell_type": "code",
   "execution_count": 114,
   "metadata": {},
   "outputs": [
    {
     "name": "stderr",
     "output_type": "stream",
     "text": [
      "100%|██████████| 1/1 [02:48<00:00, 168.92s/it]"
     ]
    },
    {
     "name": "stdout",
     "output_type": "stream",
     "text": [
      "CPU times: total: 15 s\n",
      "Wall time: 2min 48s\n"
     ]
    },
    {
     "name": "stderr",
     "output_type": "stream",
     "text": [
      "\n"
     ]
    }
   ],
   "source": [
    "# Обучим модель на немасштабированных данных- расчет около 3 мин\n",
    "for i in tqdm.tqdm(range(1)): # применил цикл с одной итерацией для запуска статус бара tqdm\n",
    "    %time random_cv_dtr = f_random_cv(model_dtr,grid,CV,scoring,features_train_ohe,target_train)"
   ]
  },
  {
   "cell_type": "code",
   "execution_count": 115,
   "metadata": {},
   "outputs": [
    {
     "name": "stdout",
     "output_type": "stream",
     "text": [
      "Best params:  {'min_samples_split': 26, 'max_depth': 18}\n",
      "Best score:  3714.5941792389817\n"
     ]
    }
   ],
   "source": [
    "# Выводим лучшие гиперпараметры и значение метрики\n",
    "print(\"Best params: \", random_cv_dtr.best_params_)\n",
    "print(\"Best score: \", -1*random_cv_dtr.best_score_)"
   ]
  },
  {
   "cell_type": "code",
   "execution_count": 116,
   "metadata": {},
   "outputs": [],
   "source": [
    "best_dtr = random_cv_dtr.best_estimator_\n",
    "start = time.time()\n",
    "pred_dtr = best_dtr.predict(features_test_ohe)\n",
    "end = time.time()\n",
    "best_dtr_pred_time = end-start\n",
    "# best_dtr_rmse = mean_squared_error(target_test, pred_dtr, squared=False)"
   ]
  },
  {
   "cell_type": "code",
   "execution_count": 117,
   "metadata": {},
   "outputs": [],
   "source": [
    "mean_fit_time = random_cv_dtr.cv_results_['mean_fit_time']\n",
    "total_time = np.sum(mean_fit_time)\n",
    "\n",
    "model_results.loc['Dessision Tree',['rmse_train','time_train','rmse_test','time_test']]=\\\n",
    "[-1*random_cv_dtr.best_score_,total_time,'n/a',best_dtr_pred_time]\n",
    "# model_results"
   ]
  },
  {
   "cell_type": "markdown",
   "metadata": {},
   "source": [
    "### LGBM regressor"
   ]
  },
  {
   "cell_type": "code",
   "execution_count": 118,
   "metadata": {},
   "outputs": [
    {
     "data": {
      "text/plain": [
       "['vehicle_type',\n",
       " 'gearbox',\n",
       " 'fuel_type',\n",
       " 'repaired',\n",
       " 'brand_model_small',\n",
       " 'registration_year',\n",
       " 'power',\n",
       " 'kilometer',\n",
       " 'registration_month']"
      ]
     },
     "execution_count": 118,
     "metadata": {},
     "output_type": "execute_result"
    }
   ],
   "source": [
    "# посмотрим список полей\n",
    "list(features_train.columns)"
   ]
  },
  {
   "cell_type": "code",
   "execution_count": 119,
   "metadata": {},
   "outputs": [],
   "source": [
    "# Сохраним индексы категориальных признаков\n",
    "cat_features = [0,1,2,3,4]\n",
    "# преобразуем типы категориальных полей\n",
    "for col in list_cat:\n",
    "    features_train[col] = features_train[col].astype('category')\n",
    "    features_test[col] = features_test[col].astype('category')"
   ]
  },
  {
   "cell_type": "code",
   "execution_count": 120,
   "metadata": {},
   "outputs": [],
   "source": [
    "# инициализируем модель\n",
    "model_lgb = lgb.LGBMRegressor(categorical_feature=cat_features, random_state=STATE) # ДОПОЛНЕНИЕ РЕВЬЮЕРА"
   ]
  },
  {
   "cell_type": "code",
   "execution_count": 121,
   "metadata": {},
   "outputs": [],
   "source": [
    "# установим сетку гиперпараметров\n",
    "grid = {\n",
    "    'num_leaves': [10, 20, 30, 40, 50]\n",
    "    ,'learning_rate': [0.01, 0.05, 0.1, 0.5]\n",
    "    ,'max_depth': [-1, 3, 5, 7, 10, 20]\n",
    "}"
   ]
  },
  {
   "cell_type": "code",
   "execution_count": 122,
   "metadata": {},
   "outputs": [
    {
     "name": "stderr",
     "output_type": "stream",
     "text": [
      "100%|██████████| 1/1 [00:35<00:00, 35.94s/it]"
     ]
    },
    {
     "name": "stdout",
     "output_type": "stream",
     "text": [
      "CPU times: total: 3.14 s\n",
      "Wall time: 35.9 s\n"
     ]
    },
    {
     "name": "stderr",
     "output_type": "stream",
     "text": [
      "\n"
     ]
    }
   ],
   "source": [
    "# Обучим модель на исходных данных - расчет около 30 сек\n",
    "for i in tqdm.tqdm(range(1)): # применил цикл с одной итерацией для запуска статус бара tqdm\n",
    "    %time random_cv_lgb = f_random_cv(model_lgb,grid,CV,scoring,features_train,target_train)"
   ]
  },
  {
   "cell_type": "code",
   "execution_count": 123,
   "metadata": {},
   "outputs": [
    {
     "name": "stdout",
     "output_type": "stream",
     "text": [
      "Best params:  {'num_leaves': 40, 'max_depth': 10, 'learning_rate': 0.5}\n",
      "Best score:  1582.188575152284\n"
     ]
    }
   ],
   "source": [
    "# Выводим лучшие гиперпараметры и значение метрики\n",
    "print(\"Best params: \", random_cv_lgb.best_params_)\n",
    "print(\"Best score: \", -1*random_cv_lgb.best_score_)"
   ]
  },
  {
   "cell_type": "markdown",
   "metadata": {},
   "source": [
    "Посчитаем прогнозы на тесте"
   ]
  },
  {
   "cell_type": "code",
   "execution_count": 124,
   "metadata": {},
   "outputs": [
    {
     "name": "stdout",
     "output_type": "stream",
     "text": [
      "Execution time: 0.13699841499328613\n",
      "RMSE: 1583.2026132108472\n"
     ]
    }
   ],
   "source": [
    "best_lgb = random_cv_lgb.best_estimator_\n",
    "start = time.time()\n",
    "pred_lgb = best_lgb.predict(features_test)\n",
    "end = time.time()\n",
    "best_lgb_pred_time = end-start\n",
    "best_lgb_rmse = mean_squared_error(target_test, pred_lgb, squared=False)\n",
    "print('Execution time:', best_lgb_pred_time)\n",
    "print('RMSE:', best_lgb_rmse)"
   ]
  },
  {
   "cell_type": "code",
   "execution_count": 125,
   "metadata": {},
   "outputs": [],
   "source": [
    "mean_fit_time = random_cv_lgb.cv_results_['mean_fit_time']\n",
    "total_time = np.sum(mean_fit_time)\n",
    "\n",
    "model_results.loc['Light GBM',['rmse_train','time_train','rmse_test','time_test']]=\\\n",
    "[-1*random_cv_lgb.best_score_,total_time,round(best_lgb_rmse,3),round(best_lgb_pred_time,3)]\n",
    "model_results = model_results\n",
    "# model_results"
   ]
  },
  {
   "cell_type": "markdown",
   "metadata": {},
   "source": [
    "## Анализ моделей"
   ]
  },
  {
   "cell_type": "markdown",
   "metadata": {},
   "source": [
    "Лучшую метрику на обучающей выборке показала модель LightGBM. Выведем список характеристик."
   ]
  },
  {
   "cell_type": "code",
   "execution_count": 126,
   "metadata": {},
   "outputs": [
    {
     "data": {
      "text/html": [
       "<div>\n",
       "<style scoped>\n",
       "    .dataframe tbody tr th:only-of-type {\n",
       "        vertical-align: middle;\n",
       "    }\n",
       "\n",
       "    .dataframe tbody tr th {\n",
       "        vertical-align: top;\n",
       "    }\n",
       "\n",
       "    .dataframe thead th {\n",
       "        text-align: right;\n",
       "    }\n",
       "</style>\n",
       "<table border=\"1\" class=\"dataframe\">\n",
       "  <thead>\n",
       "    <tr style=\"text-align: right;\">\n",
       "      <th></th>\n",
       "      <th>rmse_train</th>\n",
       "      <th>time_train</th>\n",
       "      <th>rmse_test</th>\n",
       "      <th>time_test</th>\n",
       "    </tr>\n",
       "  </thead>\n",
       "  <tbody>\n",
       "    <tr>\n",
       "      <th>Ridge</th>\n",
       "      <td>2592.235</td>\n",
       "      <td>17.994</td>\n",
       "      <td>n/a</td>\n",
       "      <td>0.154</td>\n",
       "    </tr>\n",
       "    <tr>\n",
       "      <th>Dessision Tree</th>\n",
       "      <td>3714.594</td>\n",
       "      <td>151.026</td>\n",
       "      <td>n/a</td>\n",
       "      <td>0.055</td>\n",
       "    </tr>\n",
       "    <tr>\n",
       "      <th>Light GBM</th>\n",
       "      <td>1582.189</td>\n",
       "      <td>25.935</td>\n",
       "      <td>1583.203</td>\n",
       "      <td>0.137</td>\n",
       "    </tr>\n",
       "  </tbody>\n",
       "</table>\n",
       "</div>"
      ],
      "text/plain": [
       "                rmse_train  time_train rmse_test  time_test\n",
       "Ridge             2592.235      17.994       n/a      0.154\n",
       "Dessision Tree    3714.594     151.026       n/a      0.055\n",
       "Light GBM         1582.189      25.935  1583.203      0.137"
      ]
     },
     "execution_count": 126,
     "metadata": {},
     "output_type": "execute_result"
    }
   ],
   "source": [
    "model_results.round(3)"
   ]
  },
  {
   "cell_type": "markdown",
   "metadata": {},
   "source": [
    "Также необходимо отметить, что наример модели случайного леса и полиномиальной регрессии я вообще не смог посчитать на данном количестве параметров."
   ]
  }
 ],
 "metadata": {
  "ExecuteTimeLog": [
   {
    "duration": 1625,
    "start_time": "2023-04-30T21:09:32.686Z"
   },
   {
    "duration": 3,
    "start_time": "2023-04-30T21:09:34.313Z"
   },
   {
    "duration": 1272,
    "start_time": "2023-04-30T21:09:34.317Z"
   },
   {
    "duration": 133,
    "start_time": "2023-04-30T21:09:35.591Z"
   },
   {
    "duration": 137,
    "start_time": "2023-04-30T21:09:35.726Z"
   },
   {
    "duration": 5,
    "start_time": "2023-04-30T21:09:35.865Z"
   },
   {
    "duration": 16,
    "start_time": "2023-04-30T21:09:35.883Z"
   },
   {
    "duration": 308,
    "start_time": "2023-04-30T21:09:35.900Z"
   },
   {
    "duration": 4,
    "start_time": "2023-04-30T21:09:36.209Z"
   },
   {
    "duration": 23,
    "start_time": "2023-04-30T21:09:36.214Z"
   },
   {
    "duration": 10,
    "start_time": "2023-04-30T21:09:36.238Z"
   },
   {
    "duration": 10,
    "start_time": "2023-04-30T21:09:36.249Z"
   },
   {
    "duration": 16,
    "start_time": "2023-04-30T21:09:36.261Z"
   },
   {
    "duration": 673,
    "start_time": "2023-04-30T21:09:36.280Z"
   },
   {
    "duration": 4,
    "start_time": "2023-04-30T21:09:36.955Z"
   },
   {
    "duration": 19,
    "start_time": "2023-04-30T21:09:36.960Z"
   },
   {
    "duration": 80,
    "start_time": "2023-04-30T21:09:36.981Z"
   },
   {
    "duration": 191,
    "start_time": "2023-04-30T21:09:37.063Z"
   },
   {
    "duration": 1120,
    "start_time": "2023-04-30T21:09:37.256Z"
   },
   {
    "duration": 299,
    "start_time": "2023-04-30T21:09:38.377Z"
   },
   {
    "duration": 5,
    "start_time": "2023-04-30T21:09:38.678Z"
   },
   {
    "duration": 2004,
    "start_time": "2023-04-30T21:09:38.685Z"
   },
   {
    "duration": 12,
    "start_time": "2023-04-30T21:09:40.691Z"
   },
   {
    "duration": 38,
    "start_time": "2023-04-30T21:09:40.705Z"
   },
   {
    "duration": 5,
    "start_time": "2023-04-30T21:09:40.745Z"
   },
   {
    "duration": 1012,
    "start_time": "2023-04-30T21:09:40.751Z"
   },
   {
    "duration": 5,
    "start_time": "2023-04-30T21:09:41.765Z"
   },
   {
    "duration": 28,
    "start_time": "2023-04-30T21:09:41.784Z"
   },
   {
    "duration": 17,
    "start_time": "2023-04-30T21:09:41.813Z"
   },
   {
    "duration": 15,
    "start_time": "2023-04-30T21:09:41.832Z"
   },
   {
    "duration": 110,
    "start_time": "2023-04-30T21:09:41.849Z"
   },
   {
    "duration": 46,
    "start_time": "2023-04-30T21:09:41.961Z"
   },
   {
    "duration": 4,
    "start_time": "2023-04-30T21:09:42.009Z"
   },
   {
    "duration": 53,
    "start_time": "2023-04-30T21:09:42.015Z"
   },
   {
    "duration": 39,
    "start_time": "2023-04-30T21:09:42.070Z"
   },
   {
    "duration": 5,
    "start_time": "2023-04-30T21:09:42.110Z"
   },
   {
    "duration": 44,
    "start_time": "2023-04-30T21:09:42.117Z"
   },
   {
    "duration": 58,
    "start_time": "2023-04-30T21:09:42.163Z"
   },
   {
    "duration": 22234,
    "start_time": "2023-04-30T21:09:42.223Z"
   },
   {
    "duration": 3,
    "start_time": "2023-04-30T21:10:04.459Z"
   },
   {
    "duration": 19,
    "start_time": "2023-04-30T21:10:04.467Z"
   },
   {
    "duration": 170,
    "start_time": "2023-04-30T21:10:04.488Z"
   },
   {
    "duration": 4,
    "start_time": "2023-04-30T21:10:04.660Z"
   },
   {
    "duration": 19,
    "start_time": "2023-04-30T21:10:04.666Z"
   },
   {
    "duration": 354,
    "start_time": "2023-04-30T21:10:04.687Z"
   },
   {
    "duration": 118,
    "start_time": "2023-04-30T21:10:05.043Z"
   },
   {
    "duration": 8,
    "start_time": "2023-04-30T21:10:05.162Z"
   },
   {
    "duration": 229,
    "start_time": "2023-04-30T21:10:05.172Z"
   },
   {
    "duration": 29,
    "start_time": "2023-04-30T21:10:05.402Z"
   },
   {
    "duration": 13,
    "start_time": "2023-04-30T21:10:05.433Z"
   },
   {
    "duration": 3,
    "start_time": "2023-04-30T21:10:05.447Z"
   },
   {
    "duration": 108,
    "start_time": "2023-04-30T21:10:05.452Z"
   },
   {
    "duration": 49,
    "start_time": "2023-04-30T21:10:05.562Z"
   },
   {
    "duration": 3,
    "start_time": "2023-04-30T21:10:05.613Z"
   },
   {
    "duration": 26,
    "start_time": "2023-04-30T21:10:05.617Z"
   },
   {
    "duration": 14,
    "start_time": "2023-04-30T21:10:05.645Z"
   },
   {
    "duration": 27,
    "start_time": "2023-04-30T21:10:05.661Z"
   },
   {
    "duration": 45,
    "start_time": "2023-04-30T21:10:05.690Z"
   },
   {
    "duration": 30,
    "start_time": "2023-04-30T21:10:05.737Z"
   },
   {
    "duration": 4,
    "start_time": "2023-04-30T21:10:05.783Z"
   },
   {
    "duration": 99,
    "start_time": "2023-04-30T21:10:05.788Z"
   },
   {
    "duration": 17,
    "start_time": "2023-04-30T21:10:05.889Z"
   },
   {
    "duration": 14,
    "start_time": "2023-04-30T21:10:05.908Z"
   },
   {
    "duration": 12,
    "start_time": "2023-04-30T21:10:05.924Z"
   },
   {
    "duration": 50,
    "start_time": "2023-04-30T21:10:05.938Z"
   },
   {
    "duration": 40,
    "start_time": "2023-04-30T21:10:05.989Z"
   },
   {
    "duration": 52,
    "start_time": "2023-04-30T21:10:06.031Z"
   },
   {
    "duration": 154,
    "start_time": "2023-04-30T21:10:06.085Z"
   },
   {
    "duration": 30,
    "start_time": "2023-04-30T21:10:06.241Z"
   },
   {
    "duration": 44,
    "start_time": "2023-04-30T21:10:06.272Z"
   },
   {
    "duration": 109,
    "start_time": "2023-04-30T21:10:06.318Z"
   },
   {
    "duration": 6,
    "start_time": "2023-04-30T21:10:06.428Z"
   },
   {
    "duration": 7,
    "start_time": "2023-04-30T21:10:06.436Z"
   },
   {
    "duration": 251,
    "start_time": "2023-04-30T21:10:06.445Z"
   },
   {
    "duration": 35,
    "start_time": "2023-04-30T21:10:06.698Z"
   },
   {
    "duration": 4,
    "start_time": "2023-04-30T21:10:06.735Z"
   },
   {
    "duration": 16,
    "start_time": "2023-04-30T21:10:06.740Z"
   },
   {
    "duration": 53,
    "start_time": "2023-04-30T21:10:06.757Z"
   },
   {
    "duration": 9,
    "start_time": "2023-04-30T21:10:06.811Z"
   },
   {
    "duration": 2,
    "start_time": "2023-04-30T21:10:06.822Z"
   },
   {
    "duration": 7,
    "start_time": "2023-04-30T21:10:06.826Z"
   },
   {
    "duration": 173,
    "start_time": "2023-04-30T21:10:06.834Z"
   },
   {
    "duration": 3,
    "start_time": "2023-04-30T21:10:07.008Z"
   },
   {
    "duration": 31,
    "start_time": "2023-04-30T21:10:07.012Z"
   },
   {
    "duration": 79,
    "start_time": "2023-04-30T21:10:07.044Z"
   },
   {
    "duration": 479,
    "start_time": "2023-04-30T21:10:07.125Z"
   },
   {
    "duration": 5,
    "start_time": "2023-04-30T21:10:07.606Z"
   },
   {
    "duration": 125,
    "start_time": "2023-04-30T21:10:07.612Z"
   },
   {
    "duration": 0,
    "start_time": "2023-04-30T21:10:07.739Z"
   },
   {
    "duration": 0,
    "start_time": "2023-04-30T21:10:07.740Z"
   },
   {
    "duration": 0,
    "start_time": "2023-04-30T21:10:07.741Z"
   },
   {
    "duration": 0,
    "start_time": "2023-04-30T21:10:07.742Z"
   },
   {
    "duration": 0,
    "start_time": "2023-04-30T21:10:07.743Z"
   },
   {
    "duration": 0,
    "start_time": "2023-04-30T21:10:07.745Z"
   },
   {
    "duration": 0,
    "start_time": "2023-04-30T21:10:07.745Z"
   },
   {
    "duration": 0,
    "start_time": "2023-04-30T21:10:07.746Z"
   },
   {
    "duration": 0,
    "start_time": "2023-04-30T21:10:07.748Z"
   },
   {
    "duration": 0,
    "start_time": "2023-04-30T21:10:07.749Z"
   },
   {
    "duration": 0,
    "start_time": "2023-04-30T21:10:07.749Z"
   },
   {
    "duration": 0,
    "start_time": "2023-04-30T21:10:07.751Z"
   },
   {
    "duration": 0,
    "start_time": "2023-04-30T21:10:07.751Z"
   },
   {
    "duration": 0,
    "start_time": "2023-04-30T21:10:07.753Z"
   },
   {
    "duration": 0,
    "start_time": "2023-04-30T21:10:07.754Z"
   },
   {
    "duration": 0,
    "start_time": "2023-04-30T21:10:07.755Z"
   },
   {
    "duration": 0,
    "start_time": "2023-04-30T21:10:07.783Z"
   },
   {
    "duration": 0,
    "start_time": "2023-04-30T21:10:07.785Z"
   },
   {
    "duration": 0,
    "start_time": "2023-04-30T21:10:07.786Z"
   },
   {
    "duration": 0,
    "start_time": "2023-04-30T21:10:07.787Z"
   },
   {
    "duration": 0,
    "start_time": "2023-04-30T21:10:07.788Z"
   },
   {
    "duration": 0,
    "start_time": "2023-04-30T21:10:07.790Z"
   },
   {
    "duration": 0,
    "start_time": "2023-04-30T21:10:07.791Z"
   },
   {
    "duration": 0,
    "start_time": "2023-04-30T21:10:07.792Z"
   },
   {
    "duration": 0,
    "start_time": "2023-04-30T21:10:07.793Z"
   },
   {
    "duration": 0,
    "start_time": "2023-04-30T21:10:07.794Z"
   },
   {
    "duration": 0,
    "start_time": "2023-04-30T21:10:07.795Z"
   },
   {
    "duration": 0,
    "start_time": "2023-04-30T21:10:07.797Z"
   },
   {
    "duration": 0,
    "start_time": "2023-04-30T21:10:07.798Z"
   },
   {
    "duration": 0,
    "start_time": "2023-04-30T21:10:07.799Z"
   },
   {
    "duration": 0,
    "start_time": "2023-04-30T21:10:07.800Z"
   },
   {
    "duration": 0,
    "start_time": "2023-04-30T21:10:07.801Z"
   },
   {
    "duration": 0,
    "start_time": "2023-04-30T21:10:07.803Z"
   },
   {
    "duration": 1550,
    "start_time": "2023-04-30T21:12:06.305Z"
   },
   {
    "duration": 3,
    "start_time": "2023-04-30T21:12:07.857Z"
   },
   {
    "duration": 844,
    "start_time": "2023-04-30T21:12:07.862Z"
   },
   {
    "duration": 130,
    "start_time": "2023-04-30T21:12:08.708Z"
   },
   {
    "duration": 120,
    "start_time": "2023-04-30T21:12:08.840Z"
   },
   {
    "duration": 6,
    "start_time": "2023-04-30T21:12:08.962Z"
   },
   {
    "duration": 13,
    "start_time": "2023-04-30T21:12:08.983Z"
   },
   {
    "duration": 269,
    "start_time": "2023-04-30T21:12:08.998Z"
   },
   {
    "duration": 2,
    "start_time": "2023-04-30T21:12:09.269Z"
   },
   {
    "duration": 12,
    "start_time": "2023-04-30T21:12:09.273Z"
   },
   {
    "duration": 6,
    "start_time": "2023-04-30T21:12:09.287Z"
   },
   {
    "duration": 6,
    "start_time": "2023-04-30T21:12:09.294Z"
   },
   {
    "duration": 7,
    "start_time": "2023-04-30T21:12:09.301Z"
   },
   {
    "duration": 660,
    "start_time": "2023-04-30T21:12:09.310Z"
   },
   {
    "duration": 5,
    "start_time": "2023-04-30T21:12:09.972Z"
   },
   {
    "duration": 4,
    "start_time": "2023-04-30T21:12:09.983Z"
   },
   {
    "duration": 8,
    "start_time": "2023-04-30T21:12:09.989Z"
   },
   {
    "duration": 199,
    "start_time": "2023-04-30T21:12:09.999Z"
   },
   {
    "duration": 1027,
    "start_time": "2023-04-30T21:12:10.200Z"
   },
   {
    "duration": 340,
    "start_time": "2023-04-30T21:12:11.228Z"
   },
   {
    "duration": 4,
    "start_time": "2023-04-30T21:12:11.570Z"
   },
   {
    "duration": 1852,
    "start_time": "2023-04-30T21:12:11.583Z"
   },
   {
    "duration": 11,
    "start_time": "2023-04-30T21:12:13.437Z"
   },
   {
    "duration": 54,
    "start_time": "2023-04-30T21:12:13.450Z"
   },
   {
    "duration": 4,
    "start_time": "2023-04-30T21:12:13.506Z"
   },
   {
    "duration": 886,
    "start_time": "2023-04-30T21:12:13.513Z"
   },
   {
    "duration": 6,
    "start_time": "2023-04-30T21:12:14.401Z"
   },
   {
    "duration": 22,
    "start_time": "2023-04-30T21:12:14.409Z"
   },
   {
    "duration": 3,
    "start_time": "2023-04-30T21:12:14.432Z"
   },
   {
    "duration": 10,
    "start_time": "2023-04-30T21:12:14.437Z"
   },
   {
    "duration": 70,
    "start_time": "2023-04-30T21:12:14.449Z"
   },
   {
    "duration": 28,
    "start_time": "2023-04-30T21:12:14.521Z"
   },
   {
    "duration": 3,
    "start_time": "2023-04-30T21:12:14.551Z"
   },
   {
    "duration": 49,
    "start_time": "2023-04-30T21:12:14.556Z"
   },
   {
    "duration": 31,
    "start_time": "2023-04-30T21:12:14.606Z"
   },
   {
    "duration": 4,
    "start_time": "2023-04-30T21:12:14.638Z"
   },
   {
    "duration": 41,
    "start_time": "2023-04-30T21:12:14.644Z"
   },
   {
    "duration": 33,
    "start_time": "2023-04-30T21:12:14.687Z"
   },
   {
    "duration": 21732,
    "start_time": "2023-04-30T21:12:14.722Z"
   },
   {
    "duration": 3,
    "start_time": "2023-04-30T21:12:36.456Z"
   },
   {
    "duration": 20,
    "start_time": "2023-04-30T21:12:36.464Z"
   },
   {
    "duration": 170,
    "start_time": "2023-04-30T21:12:36.486Z"
   },
   {
    "duration": 4,
    "start_time": "2023-04-30T21:12:36.657Z"
   },
   {
    "duration": 13,
    "start_time": "2023-04-30T21:12:36.663Z"
   },
   {
    "duration": 290,
    "start_time": "2023-04-30T21:12:36.683Z"
   },
   {
    "duration": 122,
    "start_time": "2023-04-30T21:12:36.975Z"
   },
   {
    "duration": 8,
    "start_time": "2023-04-30T21:12:37.099Z"
   },
   {
    "duration": 218,
    "start_time": "2023-04-30T21:12:37.108Z"
   },
   {
    "duration": 28,
    "start_time": "2023-04-30T21:12:37.327Z"
   },
   {
    "duration": 28,
    "start_time": "2023-04-30T21:12:37.356Z"
   },
   {
    "duration": 2,
    "start_time": "2023-04-30T21:12:37.386Z"
   },
   {
    "duration": 79,
    "start_time": "2023-04-30T21:12:37.390Z"
   },
   {
    "duration": 44,
    "start_time": "2023-04-30T21:12:37.484Z"
   },
   {
    "duration": 11,
    "start_time": "2023-04-30T21:12:37.530Z"
   },
   {
    "duration": 28,
    "start_time": "2023-04-30T21:12:37.543Z"
   },
   {
    "duration": 41,
    "start_time": "2023-04-30T21:12:37.573Z"
   },
   {
    "duration": 34,
    "start_time": "2023-04-30T21:12:37.616Z"
   },
   {
    "duration": 75,
    "start_time": "2023-04-30T21:12:37.651Z"
   },
   {
    "duration": 33,
    "start_time": "2023-04-30T21:12:37.728Z"
   },
   {
    "duration": 4,
    "start_time": "2023-04-30T21:12:37.763Z"
   },
   {
    "duration": 100,
    "start_time": "2023-04-30T21:12:37.769Z"
   },
   {
    "duration": 17,
    "start_time": "2023-04-30T21:12:37.871Z"
   },
   {
    "duration": 32,
    "start_time": "2023-04-30T21:12:37.889Z"
   },
   {
    "duration": 22,
    "start_time": "2023-04-30T21:12:37.923Z"
   },
   {
    "duration": 57,
    "start_time": "2023-04-30T21:12:37.946Z"
   },
   {
    "duration": 61,
    "start_time": "2023-04-30T21:12:38.005Z"
   },
   {
    "duration": 64,
    "start_time": "2023-04-30T21:12:38.068Z"
   },
   {
    "duration": 152,
    "start_time": "2023-04-30T21:12:38.133Z"
   },
   {
    "duration": 30,
    "start_time": "2023-04-30T21:12:38.287Z"
   },
   {
    "duration": 45,
    "start_time": "2023-04-30T21:12:38.319Z"
   },
   {
    "duration": 131,
    "start_time": "2023-04-30T21:12:38.366Z"
   },
   {
    "duration": 6,
    "start_time": "2023-04-30T21:12:38.499Z"
   },
   {
    "duration": 16,
    "start_time": "2023-04-30T21:12:38.507Z"
   },
   {
    "duration": 244,
    "start_time": "2023-04-30T21:12:38.524Z"
   },
   {
    "duration": 37,
    "start_time": "2023-04-30T21:12:38.772Z"
   },
   {
    "duration": 4,
    "start_time": "2023-04-30T21:12:38.810Z"
   },
   {
    "duration": 32,
    "start_time": "2023-04-30T21:12:38.816Z"
   },
   {
    "duration": 68,
    "start_time": "2023-04-30T21:12:38.849Z"
   },
   {
    "duration": 20,
    "start_time": "2023-04-30T21:12:38.918Z"
   },
   {
    "duration": 16,
    "start_time": "2023-04-30T21:12:38.940Z"
   },
   {
    "duration": 21,
    "start_time": "2023-04-30T21:12:38.957Z"
   },
   {
    "duration": 121,
    "start_time": "2023-04-30T21:12:38.980Z"
   },
   {
    "duration": 2,
    "start_time": "2023-04-30T21:12:39.103Z"
   },
   {
    "duration": 21,
    "start_time": "2023-04-30T21:12:39.106Z"
   },
   {
    "duration": 98,
    "start_time": "2023-04-30T21:12:39.129Z"
   },
   {
    "duration": 486,
    "start_time": "2023-04-30T21:12:39.229Z"
   },
   {
    "duration": 6,
    "start_time": "2023-04-30T21:12:39.717Z"
   },
   {
    "duration": 6,
    "start_time": "2023-04-30T21:12:39.725Z"
   },
   {
    "duration": 15,
    "start_time": "2023-04-30T21:12:39.733Z"
   },
   {
    "duration": 21,
    "start_time": "2023-04-30T21:12:39.750Z"
   },
   {
    "duration": 14,
    "start_time": "2023-04-30T21:12:39.773Z"
   },
   {
    "duration": 13,
    "start_time": "2023-04-30T21:12:39.789Z"
   },
   {
    "duration": 512,
    "start_time": "2023-04-30T21:12:39.804Z"
   },
   {
    "duration": 7,
    "start_time": "2023-04-30T21:12:40.318Z"
   },
   {
    "duration": 10,
    "start_time": "2023-04-30T21:12:40.326Z"
   },
   {
    "duration": 6,
    "start_time": "2023-04-30T21:12:40.337Z"
   },
   {
    "duration": 4766,
    "start_time": "2023-04-30T21:12:40.344Z"
   },
   {
    "duration": 15,
    "start_time": "2023-04-30T21:12:45.112Z"
   },
   {
    "duration": 9,
    "start_time": "2023-04-30T21:12:45.129Z"
   },
   {
    "duration": 10,
    "start_time": "2023-04-30T21:12:45.139Z"
   },
   {
    "duration": 25,
    "start_time": "2023-04-30T21:12:45.150Z"
   },
   {
    "duration": 35707,
    "start_time": "2023-04-30T21:12:45.177Z"
   },
   {
    "duration": 4,
    "start_time": "2023-04-30T21:13:20.886Z"
   },
   {
    "duration": 222,
    "start_time": "2023-04-30T21:13:20.892Z"
   },
   {
    "duration": 5,
    "start_time": "2023-04-30T21:13:21.184Z"
   },
   {
    "duration": 92,
    "start_time": "2023-04-30T21:13:21.192Z"
   },
   {
    "duration": 12,
    "start_time": "2023-04-30T21:13:21.286Z"
   },
   {
    "duration": 9,
    "start_time": "2023-04-30T21:13:21.300Z"
   },
   {
    "duration": 311857,
    "start_time": "2023-04-30T21:13:21.311Z"
   },
   {
    "duration": 4,
    "start_time": "2023-04-30T21:18:33.169Z"
   },
   {
    "duration": 37,
    "start_time": "2023-04-30T21:18:33.183Z"
   },
   {
    "duration": 4,
    "start_time": "2023-04-30T21:18:33.222Z"
   },
   {
    "duration": 18,
    "start_time": "2023-04-30T21:18:33.228Z"
   },
   {
    "duration": 135,
    "start_time": "2023-04-30T21:18:33.248Z"
   },
   {
    "duration": 3,
    "start_time": "2023-04-30T21:18:33.385Z"
   },
   {
    "duration": 19,
    "start_time": "2023-04-30T21:18:33.390Z"
   },
   {
    "duration": 231275,
    "start_time": "2023-04-30T21:18:33.410Z"
   },
   {
    "duration": 3,
    "start_time": "2023-04-30T21:22:24.687Z"
   },
   {
    "duration": 794,
    "start_time": "2023-04-30T21:22:24.692Z"
   },
   {
    "duration": 4,
    "start_time": "2023-04-30T21:22:25.487Z"
   },
   {
    "duration": 30,
    "start_time": "2023-04-30T21:22:25.493Z"
   },
   {
    "duration": 6,
    "start_time": "2023-04-30T21:32:38.237Z"
   },
   {
    "duration": 10,
    "start_time": "2023-04-30T21:32:42.129Z"
   },
   {
    "duration": 6,
    "start_time": "2023-04-30T21:32:48.277Z"
   },
   {
    "duration": 6,
    "start_time": "2023-04-30T21:36:11.789Z"
   },
   {
    "duration": 5,
    "start_time": "2023-04-30T21:36:15.608Z"
   },
   {
    "duration": 5,
    "start_time": "2023-04-30T21:36:36.056Z"
   },
   {
    "duration": 5,
    "start_time": "2023-04-30T21:36:44.917Z"
   },
   {
    "duration": 5,
    "start_time": "2023-04-30T21:37:48.201Z"
   },
   {
    "duration": 4,
    "start_time": "2023-04-30T21:54:31.089Z"
   },
   {
    "duration": 1253,
    "start_time": "2023-05-02T00:04:28.597Z"
   },
   {
    "duration": 3,
    "start_time": "2023-05-02T00:04:29.852Z"
   },
   {
    "duration": 886,
    "start_time": "2023-05-02T00:04:29.857Z"
   },
   {
    "duration": 122,
    "start_time": "2023-05-02T00:04:30.745Z"
   },
   {
    "duration": 133,
    "start_time": "2023-05-02T00:04:30.870Z"
   },
   {
    "duration": 8,
    "start_time": "2023-05-02T00:04:31.004Z"
   },
   {
    "duration": 38,
    "start_time": "2023-05-02T00:04:31.013Z"
   },
   {
    "duration": 290,
    "start_time": "2023-05-02T00:04:31.053Z"
   },
   {
    "duration": 2,
    "start_time": "2023-05-02T00:04:31.345Z"
   },
   {
    "duration": 21,
    "start_time": "2023-05-02T00:04:31.349Z"
   },
   {
    "duration": 30,
    "start_time": "2023-05-02T00:04:31.372Z"
   },
   {
    "duration": 16,
    "start_time": "2023-05-02T00:04:31.404Z"
   },
   {
    "duration": 15,
    "start_time": "2023-05-02T00:04:31.421Z"
   },
   {
    "duration": 642,
    "start_time": "2023-05-02T00:04:31.438Z"
   },
   {
    "duration": 4,
    "start_time": "2023-05-02T00:04:32.082Z"
   },
   {
    "duration": 12,
    "start_time": "2023-05-02T00:04:32.093Z"
   },
   {
    "duration": 25,
    "start_time": "2023-05-02T00:04:32.106Z"
   },
   {
    "duration": 191,
    "start_time": "2023-05-02T00:04:32.133Z"
   },
   {
    "duration": 887,
    "start_time": "2023-05-02T00:04:32.326Z"
   },
   {
    "duration": 243,
    "start_time": "2023-05-02T00:04:33.215Z"
   },
   {
    "duration": 3,
    "start_time": "2023-05-02T00:04:33.460Z"
   },
   {
    "duration": 1786,
    "start_time": "2023-05-02T00:04:33.464Z"
   },
   {
    "duration": 10,
    "start_time": "2023-05-02T00:04:35.252Z"
   },
   {
    "duration": 45,
    "start_time": "2023-05-02T00:04:35.263Z"
   },
   {
    "duration": 4,
    "start_time": "2023-05-02T00:04:35.310Z"
   },
   {
    "duration": 893,
    "start_time": "2023-05-02T00:04:35.315Z"
   },
   {
    "duration": 5,
    "start_time": "2023-05-02T00:04:36.210Z"
   },
   {
    "duration": 24,
    "start_time": "2023-05-02T00:04:36.217Z"
   },
   {
    "duration": 3,
    "start_time": "2023-05-02T00:04:36.242Z"
   },
   {
    "duration": 9,
    "start_time": "2023-05-02T00:04:36.246Z"
   },
   {
    "duration": 67,
    "start_time": "2023-05-02T00:04:36.256Z"
   },
   {
    "duration": 31,
    "start_time": "2023-05-02T00:04:36.325Z"
   },
   {
    "duration": 4,
    "start_time": "2023-05-02T00:04:36.357Z"
   },
   {
    "duration": 47,
    "start_time": "2023-05-02T00:04:36.363Z"
   },
   {
    "duration": 33,
    "start_time": "2023-05-02T00:04:36.412Z"
   },
   {
    "duration": 4,
    "start_time": "2023-05-02T00:04:36.446Z"
   },
   {
    "duration": 22,
    "start_time": "2023-05-02T00:04:36.451Z"
   },
   {
    "duration": 32,
    "start_time": "2023-05-02T00:04:36.475Z"
   },
   {
    "duration": 24,
    "start_time": "2023-05-02T00:04:36.508Z"
   },
   {
    "duration": 20353,
    "start_time": "2023-05-02T00:04:36.534Z"
   },
   {
    "duration": 2,
    "start_time": "2023-05-02T00:04:56.893Z"
   },
   {
    "duration": 11,
    "start_time": "2023-05-02T00:04:56.897Z"
   },
   {
    "duration": 178,
    "start_time": "2023-05-02T00:04:56.910Z"
   },
   {
    "duration": 4,
    "start_time": "2023-05-02T00:04:57.093Z"
   },
   {
    "duration": 9,
    "start_time": "2023-05-02T00:04:57.099Z"
   },
   {
    "duration": 232,
    "start_time": "2023-05-02T00:04:57.109Z"
   },
   {
    "duration": 126,
    "start_time": "2023-05-02T00:04:57.343Z"
   },
   {
    "duration": 8,
    "start_time": "2023-05-02T00:04:57.471Z"
   },
   {
    "duration": 213,
    "start_time": "2023-05-02T00:04:57.481Z"
   },
   {
    "duration": 2,
    "start_time": "2023-05-02T00:04:57.696Z"
   },
   {
    "duration": 38,
    "start_time": "2023-05-02T00:04:57.699Z"
   },
   {
    "duration": 4,
    "start_time": "2023-05-02T00:04:57.738Z"
   },
   {
    "duration": 42,
    "start_time": "2023-05-02T00:04:57.744Z"
   },
   {
    "duration": 69,
    "start_time": "2023-05-02T00:04:57.788Z"
   },
   {
    "duration": 39,
    "start_time": "2023-05-02T00:04:57.858Z"
   },
   {
    "duration": 2,
    "start_time": "2023-05-02T00:04:57.899Z"
   },
   {
    "duration": 4,
    "start_time": "2023-05-02T00:04:57.903Z"
   },
   {
    "duration": 9,
    "start_time": "2023-05-02T00:04:57.909Z"
   },
   {
    "duration": 8,
    "start_time": "2023-05-02T00:04:57.920Z"
   },
   {
    "duration": 39,
    "start_time": "2023-05-02T00:04:57.930Z"
   },
   {
    "duration": 47,
    "start_time": "2023-05-02T00:04:57.971Z"
   },
   {
    "duration": 3,
    "start_time": "2023-05-02T00:04:58.020Z"
   },
   {
    "duration": 87,
    "start_time": "2023-05-02T00:04:58.025Z"
   },
   {
    "duration": 16,
    "start_time": "2023-05-02T00:04:58.114Z"
   },
   {
    "duration": 5,
    "start_time": "2023-05-02T00:04:58.131Z"
   },
   {
    "duration": 6,
    "start_time": "2023-05-02T00:04:58.138Z"
   },
   {
    "duration": 33,
    "start_time": "2023-05-02T00:04:58.145Z"
   },
   {
    "duration": 33,
    "start_time": "2023-05-02T00:04:58.193Z"
   },
   {
    "duration": 30,
    "start_time": "2023-05-02T00:04:58.228Z"
   },
   {
    "duration": 114,
    "start_time": "2023-05-02T00:04:58.260Z"
   },
   {
    "duration": 31,
    "start_time": "2023-05-02T00:04:58.376Z"
   },
   {
    "duration": 21,
    "start_time": "2023-05-02T00:04:58.409Z"
   },
   {
    "duration": 5,
    "start_time": "2023-05-02T00:04:58.432Z"
   },
   {
    "duration": 7,
    "start_time": "2023-05-02T00:04:58.438Z"
   },
   {
    "duration": 122,
    "start_time": "2023-05-02T00:04:58.447Z"
   },
   {
    "duration": 5,
    "start_time": "2023-05-02T00:04:58.571Z"
   },
   {
    "duration": 16,
    "start_time": "2023-05-02T00:04:58.578Z"
   },
   {
    "duration": 220,
    "start_time": "2023-05-02T00:04:58.595Z"
   },
   {
    "duration": 29,
    "start_time": "2023-05-02T00:04:58.816Z"
   },
   {
    "duration": 3,
    "start_time": "2023-05-02T00:04:58.847Z"
   },
   {
    "duration": 13,
    "start_time": "2023-05-02T00:04:58.852Z"
   },
   {
    "duration": 43,
    "start_time": "2023-05-02T00:04:58.866Z"
   },
   {
    "duration": 10,
    "start_time": "2023-05-02T00:04:58.910Z"
   },
   {
    "duration": 96,
    "start_time": "2023-05-02T00:04:58.921Z"
   },
   {
    "duration": 3,
    "start_time": "2023-05-02T00:04:59.019Z"
   },
   {
    "duration": 4,
    "start_time": "2023-05-02T00:04:59.023Z"
   },
   {
    "duration": 14,
    "start_time": "2023-05-02T00:04:59.029Z"
   },
   {
    "duration": 63,
    "start_time": "2023-05-02T00:04:59.044Z"
   },
   {
    "duration": 421,
    "start_time": "2023-05-02T00:04:59.109Z"
   },
   {
    "duration": 4,
    "start_time": "2023-05-02T00:04:59.532Z"
   },
   {
    "duration": 4,
    "start_time": "2023-05-02T00:04:59.538Z"
   },
   {
    "duration": 5,
    "start_time": "2023-05-02T00:04:59.543Z"
   },
   {
    "duration": 8,
    "start_time": "2023-05-02T00:04:59.549Z"
   },
   {
    "duration": 5,
    "start_time": "2023-05-02T00:04:59.559Z"
   },
   {
    "duration": 8,
    "start_time": "2023-05-02T00:04:59.565Z"
   },
   {
    "duration": 372,
    "start_time": "2023-05-02T00:04:59.574Z"
   },
   {
    "duration": 4,
    "start_time": "2023-05-02T00:04:59.948Z"
   },
   {
    "duration": 2,
    "start_time": "2023-05-02T00:04:59.954Z"
   },
   {
    "duration": 4,
    "start_time": "2023-05-02T00:04:59.958Z"
   },
   {
    "duration": 3703,
    "start_time": "2023-05-02T00:04:59.964Z"
   },
   {
    "duration": 25,
    "start_time": "2023-05-02T00:05:03.669Z"
   },
   {
    "duration": 6,
    "start_time": "2023-05-02T00:05:03.696Z"
   },
   {
    "duration": 5,
    "start_time": "2023-05-02T00:05:03.703Z"
   },
   {
    "duration": 11,
    "start_time": "2023-05-02T00:05:03.709Z"
   },
   {
    "duration": 32580,
    "start_time": "2023-05-02T00:05:03.722Z"
   },
   {
    "duration": 89,
    "start_time": "2023-05-02T00:05:36.305Z"
   },
   {
    "duration": 6,
    "start_time": "2023-05-02T00:05:36.396Z"
   },
   {
    "duration": 11,
    "start_time": "2023-05-02T00:05:36.404Z"
   },
   {
    "duration": 9,
    "start_time": "2023-05-02T00:05:36.417Z"
   },
   {
    "duration": 18,
    "start_time": "2023-05-02T00:05:36.427Z"
   },
   {
    "duration": 192419,
    "start_time": "2023-05-02T00:05:36.446Z"
   },
   {
    "duration": 4,
    "start_time": "2023-05-02T00:08:48.867Z"
   },
   {
    "duration": 20,
    "start_time": "2023-05-02T00:08:48.873Z"
   },
   {
    "duration": 7,
    "start_time": "2023-05-02T00:08:48.895Z"
   },
   {
    "duration": 112,
    "start_time": "2023-05-02T00:08:48.904Z"
   },
   {
    "duration": 3,
    "start_time": "2023-05-02T00:08:49.018Z"
   },
   {
    "duration": 8,
    "start_time": "2023-05-02T00:08:49.022Z"
   },
   {
    "duration": 203265,
    "start_time": "2023-05-02T00:08:49.032Z"
   },
   {
    "duration": 3,
    "start_time": "2023-05-02T00:12:12.299Z"
   },
   {
    "duration": 400,
    "start_time": "2023-05-02T00:12:12.304Z"
   },
   {
    "duration": 6,
    "start_time": "2023-05-02T00:12:12.706Z"
   },
   {
    "duration": 84,
    "start_time": "2023-05-02T00:12:12.718Z"
   },
   {
    "duration": 1442,
    "start_time": "2023-05-02T01:42:02.847Z"
   },
   {
    "duration": 3,
    "start_time": "2023-05-02T01:42:06.166Z"
   },
   {
    "duration": 2931,
    "start_time": "2023-05-02T01:42:10.186Z"
   },
   {
    "duration": 146,
    "start_time": "2023-05-02T01:42:14.278Z"
   },
   {
    "duration": 121,
    "start_time": "2023-05-02T01:42:15.906Z"
   },
   {
    "duration": 4,
    "start_time": "2023-05-02T01:42:22.027Z"
   },
   {
    "duration": 15,
    "start_time": "2023-05-02T01:42:23.566Z"
   },
   {
    "duration": 275,
    "start_time": "2023-05-02T01:42:27.006Z"
   },
   {
    "duration": 3,
    "start_time": "2023-05-02T01:42:29.309Z"
   },
   {
    "duration": 4,
    "start_time": "2023-05-02T01:42:30.346Z"
   },
   {
    "duration": 2,
    "start_time": "2023-05-02T01:42:31.866Z"
   },
   {
    "duration": 3,
    "start_time": "2023-05-02T01:42:32.968Z"
   },
   {
    "duration": 4,
    "start_time": "2023-05-02T01:42:33.486Z"
   },
   {
    "duration": 597,
    "start_time": "2023-05-02T01:42:35.386Z"
   },
   {
    "duration": 4,
    "start_time": "2023-05-02T01:42:38.486Z"
   },
   {
    "duration": 4,
    "start_time": "2023-05-02T01:42:41.185Z"
   },
   {
    "duration": 7,
    "start_time": "2023-05-02T01:42:48.427Z"
   },
   {
    "duration": 157,
    "start_time": "2023-05-02T01:42:51.526Z"
   },
   {
    "duration": 1029,
    "start_time": "2023-05-02T01:42:53.774Z"
   },
   {
    "duration": 262,
    "start_time": "2023-05-02T01:42:59.566Z"
   },
   {
    "duration": 4,
    "start_time": "2023-05-02T01:43:03.086Z"
   },
   {
    "duration": 1741,
    "start_time": "2023-05-02T01:43:12.946Z"
   },
   {
    "duration": 11,
    "start_time": "2023-05-02T01:43:18.366Z"
   },
   {
    "duration": 34,
    "start_time": "2023-05-02T01:43:20.546Z"
   },
   {
    "duration": 5,
    "start_time": "2023-05-02T01:43:21.227Z"
   },
   {
    "duration": 945,
    "start_time": "2023-05-02T01:43:25.026Z"
   },
   {
    "duration": 5,
    "start_time": "2023-05-02T01:43:28.726Z"
   },
   {
    "duration": 25,
    "start_time": "2023-05-02T01:43:30.287Z"
   },
   {
    "duration": 2,
    "start_time": "2023-05-02T01:43:32.506Z"
   },
   {
    "duration": 8,
    "start_time": "2023-05-02T01:43:35.626Z"
   },
   {
    "duration": 45,
    "start_time": "2023-05-02T01:43:37.727Z"
   },
   {
    "duration": 42,
    "start_time": "2023-05-02T01:43:41.246Z"
   },
   {
    "duration": 4,
    "start_time": "2023-05-02T01:43:41.666Z"
   },
   {
    "duration": 26,
    "start_time": "2023-05-02T01:43:43.546Z"
   },
   {
    "duration": 36,
    "start_time": "2023-05-02T01:43:48.286Z"
   },
   {
    "duration": 4,
    "start_time": "2023-05-02T01:44:08.046Z"
   },
   {
    "duration": 12,
    "start_time": "2023-05-02T01:44:09.906Z"
   },
   {
    "duration": 15,
    "start_time": "2023-05-02T01:44:11.087Z"
   },
   {
    "duration": 22,
    "start_time": "2023-05-02T01:44:12.682Z"
   },
   {
    "duration": 21368,
    "start_time": "2023-05-02T01:44:14.486Z"
   },
   {
    "duration": 20885,
    "start_time": "2023-05-02T01:45:32.230Z"
   },
   {
    "duration": 2,
    "start_time": "2023-05-02T01:45:58.047Z"
   },
   {
    "duration": 6,
    "start_time": "2023-05-02T01:46:00.146Z"
   },
   {
    "duration": 147,
    "start_time": "2023-05-02T01:46:03.846Z"
   },
   {
    "duration": 4,
    "start_time": "2023-05-02T01:46:05.906Z"
   },
   {
    "duration": 5,
    "start_time": "2023-05-02T01:46:07.147Z"
   },
   {
    "duration": 201,
    "start_time": "2023-05-02T01:46:08.826Z"
   },
   {
    "duration": 101,
    "start_time": "2023-05-02T01:46:12.087Z"
   },
   {
    "duration": 8,
    "start_time": "2023-05-02T01:46:12.686Z"
   },
   {
    "duration": 182,
    "start_time": "2023-05-02T01:46:13.307Z"
   },
   {
    "duration": 2,
    "start_time": "2023-05-02T01:46:29.466Z"
   },
   {
    "duration": 11,
    "start_time": "2023-05-02T01:46:41.606Z"
   },
   {
    "duration": 2,
    "start_time": "2023-05-02T01:46:42.666Z"
   },
   {
    "duration": 22,
    "start_time": "2023-05-02T01:46:49.486Z"
   },
   {
    "duration": 75,
    "start_time": "2023-05-02T01:46:53.326Z"
   },
   {
    "duration": 41,
    "start_time": "2023-05-02T01:46:53.846Z"
   },
   {
    "duration": 3,
    "start_time": "2023-05-02T01:46:55.066Z"
   },
   {
    "duration": 2,
    "start_time": "2023-05-02T01:46:56.228Z"
   },
   {
    "duration": 10,
    "start_time": "2023-05-02T01:46:57.787Z"
   },
   {
    "duration": 9,
    "start_time": "2023-05-02T01:47:00.468Z"
   },
   {
    "duration": 35,
    "start_time": "2023-05-02T01:47:01.266Z"
   },
   {
    "duration": 26,
    "start_time": "2023-05-02T01:47:01.786Z"
   },
   {
    "duration": 4,
    "start_time": "2023-05-02T01:47:03.784Z"
   },
   {
    "duration": 77,
    "start_time": "2023-05-02T01:47:05.406Z"
   },
   {
    "duration": 15,
    "start_time": "2023-05-02T01:47:06.426Z"
   },
   {
    "duration": 3,
    "start_time": "2023-05-02T01:47:07.726Z"
   },
   {
    "duration": 3,
    "start_time": "2023-05-02T01:47:08.366Z"
   },
   {
    "duration": 30,
    "start_time": "2023-05-02T01:47:19.226Z"
   },
   {
    "duration": 30,
    "start_time": "2023-05-02T01:47:22.026Z"
   },
   {
    "duration": 30,
    "start_time": "2023-05-02T01:47:23.865Z"
   },
   {
    "duration": 109,
    "start_time": "2023-05-02T01:47:25.586Z"
   },
   {
    "duration": 27,
    "start_time": "2023-05-02T01:47:26.785Z"
   },
   {
    "duration": 25,
    "start_time": "2023-05-02T01:47:28.586Z"
   },
   {
    "duration": 3,
    "start_time": "2023-05-02T01:51:42.141Z"
   },
   {
    "duration": 4,
    "start_time": "2023-05-02T01:51:45.783Z"
   },
   {
    "duration": 210,
    "start_time": "2023-05-02T01:51:51.143Z"
   },
   {
    "duration": 7,
    "start_time": "2023-05-02T01:51:55.602Z"
   },
   {
    "duration": 4,
    "start_time": "2023-05-02T01:52:00.982Z"
   },
   {
    "duration": 198,
    "start_time": "2023-05-02T01:52:02.063Z"
   },
   {
    "duration": 31,
    "start_time": "2023-05-02T01:52:04.803Z"
   },
   {
    "duration": 3,
    "start_time": "2023-05-02T01:52:05.745Z"
   },
   {
    "duration": 10,
    "start_time": "2023-05-02T01:52:09.331Z"
   },
   {
    "duration": 31,
    "start_time": "2023-05-02T01:52:10.163Z"
   },
   {
    "duration": 9,
    "start_time": "2023-05-02T01:52:16.691Z"
   },
   {
    "duration": 83,
    "start_time": "2023-05-02T01:52:20.223Z"
   },
   {
    "duration": 3,
    "start_time": "2023-05-02T01:52:22.622Z"
   },
   {
    "duration": 3,
    "start_time": "2023-05-02T01:52:25.724Z"
   },
   {
    "duration": 11,
    "start_time": "2023-05-02T01:52:26.164Z"
   },
   {
    "duration": 47,
    "start_time": "2023-05-02T01:52:26.522Z"
   },
   {
    "duration": 109,
    "start_time": "2023-05-02T01:52:36.765Z"
   },
   {
    "duration": 17,
    "start_time": "2023-05-02T01:52:48.903Z"
   },
   {
    "duration": 448,
    "start_time": "2023-05-02T01:53:19.163Z"
   },
   {
    "duration": 412,
    "start_time": "2023-05-02T01:55:41.863Z"
   },
   {
    "duration": 5,
    "start_time": "2023-05-02T01:55:44.002Z"
   },
   {
    "duration": 3,
    "start_time": "2023-05-02T01:55:46.603Z"
   },
   {
    "duration": 5,
    "start_time": "2023-05-02T01:55:48.963Z"
   },
   {
    "duration": 4,
    "start_time": "2023-05-02T01:55:50.123Z"
   },
   {
    "duration": 3,
    "start_time": "2023-05-02T01:55:50.583Z"
   },
   {
    "duration": 4,
    "start_time": "2023-05-02T01:55:52.243Z"
   },
   {
    "duration": 319,
    "start_time": "2023-05-02T01:55:53.463Z"
   },
   {
    "duration": 5,
    "start_time": "2023-05-02T01:55:54.002Z"
   },
   {
    "duration": 2,
    "start_time": "2023-05-02T01:55:55.567Z"
   },
   {
    "duration": 3,
    "start_time": "2023-05-02T01:55:55.982Z"
   },
   {
    "duration": 3758,
    "start_time": "2023-05-02T01:55:57.402Z"
   },
   {
    "duration": 14,
    "start_time": "2023-05-02T01:56:02.202Z"
   },
   {
    "duration": 5,
    "start_time": "2023-05-02T01:56:05.864Z"
   },
   {
    "duration": 3,
    "start_time": "2023-05-02T01:56:08.083Z"
   },
   {
    "duration": 2,
    "start_time": "2023-05-02T01:56:10.563Z"
   },
   {
    "duration": 33182,
    "start_time": "2023-05-02T01:56:12.762Z"
   },
   {
    "duration": 3,
    "start_time": "2023-05-02T01:56:54.164Z"
   },
   {
    "duration": 9,
    "start_time": "2023-05-02T01:56:58.603Z"
   },
   {
    "duration": 132,
    "start_time": "2023-05-02T01:57:27.905Z"
   },
   {
    "duration": 5,
    "start_time": "2023-05-02T01:57:29.464Z"
   },
   {
    "duration": 3,
    "start_time": "2023-05-02T01:57:32.965Z"
   },
   {
    "duration": 2,
    "start_time": "2023-05-02T01:57:35.103Z"
   },
   {
    "duration": 3,
    "start_time": "2023-05-02T01:57:35.983Z"
   },
   {
    "duration": 175875,
    "start_time": "2023-05-02T01:57:38.884Z"
   },
   {
    "duration": 4,
    "start_time": "2023-05-02T02:00:42.803Z"
   },
   {
    "duration": 30,
    "start_time": "2023-05-02T02:00:43.803Z"
   },
   {
    "duration": 5,
    "start_time": "2023-05-02T02:00:45.939Z"
   },
   {
    "duration": 4,
    "start_time": "2023-05-02T02:00:48.143Z"
   },
   {
    "duration": 99,
    "start_time": "2023-05-02T02:00:51.043Z"
   },
   {
    "duration": 3,
    "start_time": "2023-05-02T02:00:51.523Z"
   },
   {
    "duration": 3,
    "start_time": "2023-05-02T02:00:55.223Z"
   },
   {
    "duration": 8622,
    "start_time": "2023-05-02T12:52:36.558Z"
   },
   {
    "duration": 70,
    "start_time": "2023-05-02T12:52:45.182Z"
   },
   {
    "duration": 14984,
    "start_time": "2023-05-02T12:52:45.262Z"
   },
   {
    "duration": 625,
    "start_time": "2023-05-02T12:53:00.248Z"
   },
   {
    "duration": 826,
    "start_time": "2023-05-02T12:53:00.941Z"
   },
   {
    "duration": 12,
    "start_time": "2023-05-02T12:53:01.842Z"
   },
   {
    "duration": 291,
    "start_time": "2023-05-02T12:53:01.864Z"
   },
   {
    "duration": 1514,
    "start_time": "2023-05-02T12:53:02.163Z"
   },
   {
    "duration": 73,
    "start_time": "2023-05-02T12:53:03.679Z"
   },
   {
    "duration": 194,
    "start_time": "2023-05-02T12:53:03.756Z"
   },
   {
    "duration": 89,
    "start_time": "2023-05-02T12:53:03.952Z"
   },
   {
    "duration": 31,
    "start_time": "2023-05-02T12:53:04.044Z"
   },
   {
    "duration": 271,
    "start_time": "2023-05-02T12:53:04.077Z"
   },
   {
    "duration": 4210,
    "start_time": "2023-05-02T12:53:04.352Z"
   },
   {
    "duration": 77,
    "start_time": "2023-05-02T12:53:08.576Z"
   },
   {
    "duration": 95,
    "start_time": "2023-05-02T12:53:08.655Z"
   },
   {
    "duration": 224,
    "start_time": "2023-05-02T12:53:08.752Z"
   },
   {
    "duration": 866,
    "start_time": "2023-05-02T12:53:08.978Z"
   },
   {
    "duration": 5919,
    "start_time": "2023-05-02T12:53:09.846Z"
   },
   {
    "duration": 1689,
    "start_time": "2023-05-02T12:53:15.772Z"
   },
   {
    "duration": 10,
    "start_time": "2023-05-02T12:53:17.463Z"
   },
   {
    "duration": 12606,
    "start_time": "2023-05-02T12:53:17.542Z"
   },
   {
    "duration": 90,
    "start_time": "2023-05-02T12:53:30.159Z"
   },
   {
    "duration": 489,
    "start_time": "2023-05-02T12:53:30.258Z"
   },
   {
    "duration": 13,
    "start_time": "2023-05-02T12:53:30.761Z"
   },
   {
    "duration": 5972,
    "start_time": "2023-05-02T12:53:30.778Z"
   },
   {
    "duration": 15,
    "start_time": "2023-05-02T12:53:36.756Z"
   },
   {
    "duration": 207,
    "start_time": "2023-05-02T12:53:36.840Z"
   },
   {
    "duration": 189,
    "start_time": "2023-05-02T12:53:37.054Z"
   },
   {
    "duration": 308,
    "start_time": "2023-05-02T12:53:37.244Z"
   },
   {
    "duration": 589,
    "start_time": "2023-05-02T12:53:37.556Z"
   },
   {
    "duration": 294,
    "start_time": "2023-05-02T12:53:38.150Z"
   },
   {
    "duration": 17,
    "start_time": "2023-05-02T12:53:38.446Z"
   },
   {
    "duration": 192,
    "start_time": "2023-05-02T12:53:38.469Z"
   },
   {
    "duration": 388,
    "start_time": "2023-05-02T12:53:38.669Z"
   },
   {
    "duration": 79,
    "start_time": "2023-05-02T12:53:39.071Z"
   },
   {
    "duration": 195,
    "start_time": "2023-05-02T12:53:39.157Z"
   },
   {
    "duration": 282,
    "start_time": "2023-05-02T12:53:39.365Z"
   },
   {
    "duration": 105,
    "start_time": "2023-05-02T12:53:39.656Z"
   },
   {
    "duration": 157480,
    "start_time": "2023-05-02T12:53:39.770Z"
   },
   {
    "duration": 10,
    "start_time": "2023-05-02T12:56:17.345Z"
   },
   {
    "duration": 292,
    "start_time": "2023-05-02T12:56:17.362Z"
   },
   {
    "duration": 1291,
    "start_time": "2023-05-02T12:56:17.657Z"
   },
   {
    "duration": 11,
    "start_time": "2023-05-02T12:56:18.956Z"
   },
   {
    "duration": 96,
    "start_time": "2023-05-02T12:56:19.060Z"
   },
   {
    "duration": 1693,
    "start_time": "2023-05-02T12:56:19.163Z"
   },
   {
    "duration": 705,
    "start_time": "2023-05-02T12:56:20.859Z"
   },
   {
    "duration": 91,
    "start_time": "2023-05-02T12:56:21.566Z"
   },
   {
    "duration": 1510,
    "start_time": "2023-05-02T12:56:21.661Z"
   },
   {
    "duration": 67,
    "start_time": "2023-05-02T12:56:23.174Z"
   },
   {
    "duration": 126,
    "start_time": "2023-05-02T12:56:23.244Z"
   },
   {
    "duration": 5,
    "start_time": "2023-05-02T12:56:23.446Z"
   },
   {
    "duration": 315,
    "start_time": "2023-05-02T12:56:23.458Z"
   },
   {
    "duration": 412,
    "start_time": "2023-05-02T12:56:23.842Z"
   },
   {
    "duration": 303,
    "start_time": "2023-05-02T12:56:24.261Z"
   },
   {
    "duration": 75,
    "start_time": "2023-05-02T12:56:24.571Z"
   },
   {
    "duration": 128,
    "start_time": "2023-05-02T12:56:24.649Z"
   },
   {
    "duration": 792,
    "start_time": "2023-05-02T12:56:24.849Z"
   },
   {
    "duration": 225,
    "start_time": "2023-05-02T12:56:25.643Z"
   },
   {
    "duration": 372,
    "start_time": "2023-05-02T12:56:25.871Z"
   },
   {
    "duration": 199,
    "start_time": "2023-05-02T12:56:26.246Z"
   },
   {
    "duration": 19,
    "start_time": "2023-05-02T12:56:26.447Z"
   },
   {
    "duration": 787,
    "start_time": "2023-05-02T12:56:26.474Z"
   },
   {
    "duration": 104,
    "start_time": "2023-05-02T12:56:27.265Z"
   },
   {
    "duration": 169,
    "start_time": "2023-05-02T12:56:27.374Z"
   },
   {
    "duration": 398,
    "start_time": "2023-05-02T12:56:27.551Z"
   },
   {
    "duration": 605,
    "start_time": "2023-05-02T12:56:27.950Z"
   },
   {
    "duration": 599,
    "start_time": "2023-05-02T12:56:28.560Z"
   },
   {
    "duration": 298,
    "start_time": "2023-05-02T12:56:29.163Z"
   },
   {
    "duration": 694,
    "start_time": "2023-05-02T12:56:29.463Z"
   },
   {
    "duration": 282,
    "start_time": "2023-05-02T12:56:30.163Z"
   },
   {
    "duration": 417,
    "start_time": "2023-05-02T12:56:30.449Z"
   },
   {
    "duration": 20,
    "start_time": "2023-05-02T12:56:30.945Z"
   },
   {
    "duration": 182,
    "start_time": "2023-05-02T12:56:30.967Z"
   },
   {
    "duration": 814,
    "start_time": "2023-05-02T12:56:31.151Z"
   },
   {
    "duration": 20,
    "start_time": "2023-05-02T12:56:32.041Z"
   },
   {
    "duration": 211,
    "start_time": "2023-05-02T12:56:32.142Z"
   },
   {
    "duration": 1489,
    "start_time": "2023-05-02T12:56:32.358Z"
   },
   {
    "duration": 210,
    "start_time": "2023-05-02T12:56:33.851Z"
   },
   {
    "duration": 13,
    "start_time": "2023-05-02T12:56:34.144Z"
   },
   {
    "duration": 410,
    "start_time": "2023-05-02T12:56:34.241Z"
   },
   {
    "duration": 587,
    "start_time": "2023-05-02T12:56:34.659Z"
   },
   {
    "duration": 291,
    "start_time": "2023-05-02T12:56:35.257Z"
   },
   {
    "duration": 694,
    "start_time": "2023-05-02T12:56:35.551Z"
   },
   {
    "duration": 7,
    "start_time": "2023-05-02T12:56:36.254Z"
   },
   {
    "duration": 281,
    "start_time": "2023-05-02T12:56:36.264Z"
   },
   {
    "duration": 294,
    "start_time": "2023-05-02T12:56:36.547Z"
   },
   {
    "duration": 402,
    "start_time": "2023-05-02T12:56:36.843Z"
   },
   {
    "duration": 805,
    "start_time": "2023-05-02T12:56:37.248Z"
   },
   {
    "duration": 0,
    "start_time": "2023-05-02T12:56:38.056Z"
   },
   {
    "duration": 0,
    "start_time": "2023-05-02T12:56:38.057Z"
   },
   {
    "duration": 0,
    "start_time": "2023-05-02T12:56:38.061Z"
   },
   {
    "duration": 0,
    "start_time": "2023-05-02T12:56:38.064Z"
   },
   {
    "duration": 0,
    "start_time": "2023-05-02T12:56:38.065Z"
   },
   {
    "duration": 0,
    "start_time": "2023-05-02T12:56:38.066Z"
   },
   {
    "duration": 0,
    "start_time": "2023-05-02T12:56:38.066Z"
   },
   {
    "duration": 0,
    "start_time": "2023-05-02T12:56:38.067Z"
   },
   {
    "duration": 0,
    "start_time": "2023-05-02T12:56:38.067Z"
   },
   {
    "duration": 0,
    "start_time": "2023-05-02T12:56:38.068Z"
   },
   {
    "duration": 0,
    "start_time": "2023-05-02T12:56:38.069Z"
   },
   {
    "duration": 0,
    "start_time": "2023-05-02T12:56:38.069Z"
   },
   {
    "duration": 0,
    "start_time": "2023-05-02T12:56:38.070Z"
   },
   {
    "duration": 0,
    "start_time": "2023-05-02T12:56:38.070Z"
   },
   {
    "duration": 0,
    "start_time": "2023-05-02T12:56:38.071Z"
   },
   {
    "duration": 0,
    "start_time": "2023-05-02T12:56:38.071Z"
   },
   {
    "duration": 0,
    "start_time": "2023-05-02T12:56:38.072Z"
   },
   {
    "duration": 0,
    "start_time": "2023-05-02T12:56:38.072Z"
   },
   {
    "duration": 1,
    "start_time": "2023-05-02T12:56:38.144Z"
   },
   {
    "duration": 0,
    "start_time": "2023-05-02T12:56:38.148Z"
   },
   {
    "duration": 0,
    "start_time": "2023-05-02T12:56:38.150Z"
   },
   {
    "duration": 0,
    "start_time": "2023-05-02T12:56:38.151Z"
   },
   {
    "duration": 0,
    "start_time": "2023-05-02T12:56:38.152Z"
   },
   {
    "duration": 0,
    "start_time": "2023-05-02T12:56:38.158Z"
   },
   {
    "duration": 0,
    "start_time": "2023-05-02T12:56:38.159Z"
   },
   {
    "duration": 0,
    "start_time": "2023-05-02T12:56:38.160Z"
   },
   {
    "duration": 0,
    "start_time": "2023-05-02T12:56:38.161Z"
   },
   {
    "duration": 0,
    "start_time": "2023-05-02T12:56:38.242Z"
   },
   {
    "duration": 0,
    "start_time": "2023-05-02T12:56:38.246Z"
   },
   {
    "duration": 0,
    "start_time": "2023-05-02T12:56:38.248Z"
   },
   {
    "duration": 0,
    "start_time": "2023-05-02T12:56:38.254Z"
   },
   {
    "duration": 1,
    "start_time": "2023-05-02T12:56:38.255Z"
   },
   {
    "duration": 0,
    "start_time": "2023-05-02T12:56:38.257Z"
   },
   {
    "duration": 0,
    "start_time": "2023-05-02T12:56:38.258Z"
   },
   {
    "duration": 0,
    "start_time": "2023-05-02T12:56:38.259Z"
   },
   {
    "duration": 3406,
    "start_time": "2023-05-02T12:59:20.346Z"
   },
   {
    "duration": 90,
    "start_time": "2023-05-02T12:59:23.755Z"
   },
   {
    "duration": 397,
    "start_time": "2023-05-02T12:59:23.848Z"
   },
   {
    "duration": 302,
    "start_time": "2023-05-02T12:59:24.248Z"
   },
   {
    "duration": 288,
    "start_time": "2023-05-02T12:59:24.556Z"
   },
   {
    "duration": 199,
    "start_time": "2023-05-02T12:59:24.846Z"
   },
   {
    "duration": 104,
    "start_time": "2023-05-02T12:59:25.047Z"
   },
   {
    "duration": 4207,
    "start_time": "2023-05-02T12:59:25.154Z"
   },
   {
    "duration": 94,
    "start_time": "2023-05-02T12:59:29.364Z"
   },
   {
    "duration": 282,
    "start_time": "2023-05-02T12:59:29.466Z"
   },
   {
    "duration": 296,
    "start_time": "2023-05-02T12:59:29.749Z"
   },
   {
    "duration": 25690,
    "start_time": "2023-05-02T12:59:30.050Z"
   },
   {
    "duration": 109,
    "start_time": "2023-05-02T12:59:55.743Z"
   },
   {
    "duration": 100,
    "start_time": "2023-05-02T12:59:55.855Z"
   },
   {
    "duration": 292,
    "start_time": "2023-05-02T12:59:55.958Z"
   },
   {
    "duration": 491,
    "start_time": "2023-05-02T12:59:56.252Z"
   },
   {
    "duration": 181503,
    "start_time": "2023-05-02T12:59:56.745Z"
   },
   {
    "duration": 95,
    "start_time": "2023-05-02T13:02:58.251Z"
   },
   {
    "duration": 1208,
    "start_time": "2023-05-02T13:02:58.440Z"
   },
   {
    "duration": 98,
    "start_time": "2023-05-02T13:02:59.650Z"
   },
   {
    "duration": 191,
    "start_time": "2023-05-02T13:02:59.750Z"
   },
   {
    "duration": 292,
    "start_time": "2023-05-02T13:02:59.949Z"
   },
   {
    "duration": 300,
    "start_time": "2023-05-02T13:03:00.243Z"
   },
   {
    "duration": 1748597,
    "start_time": "2023-05-02T13:03:00.545Z"
   },
   {
    "duration": 15,
    "start_time": "2023-05-02T13:32:09.144Z"
   },
   {
    "duration": 298,
    "start_time": "2023-05-02T13:32:09.166Z"
   },
   {
    "duration": 90,
    "start_time": "2023-05-02T13:32:09.470Z"
   },
   {
    "duration": 178,
    "start_time": "2023-05-02T13:32:09.569Z"
   },
   {
    "duration": 812,
    "start_time": "2023-05-02T13:32:09.754Z"
   },
   {
    "duration": 7,
    "start_time": "2023-05-02T13:32:10.646Z"
   },
   {
    "duration": 91,
    "start_time": "2023-05-02T13:32:10.656Z"
   }
  ],
  "kernelspec": {
   "display_name": "Python 3 (ipykernel)",
   "language": "python",
   "name": "python3"
  },
  "language_info": {
   "codemirror_mode": {
    "name": "ipython",
    "version": 3
   },
   "file_extension": ".py",
   "mimetype": "text/x-python",
   "name": "python",
   "nbconvert_exporter": "python",
   "pygments_lexer": "ipython3",
   "version": "3.10.9"
  },
  "toc": {
   "base_numbering": 1,
   "nav_menu": {},
   "number_sections": true,
   "sideBar": true,
   "skip_h1_title": true,
   "title_cell": "Table of Contents",
   "title_sidebar": "Contents",
   "toc_cell": false,
   "toc_position": {},
   "toc_section_display": true,
   "toc_window_display": false
  }
 },
 "nbformat": 4,
 "nbformat_minor": 2
}
