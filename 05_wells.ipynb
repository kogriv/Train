{
 "cells": [
  {
   "cell_type": "markdown",
   "metadata": {},
   "source": [
    "# Выбор локации для скважины"
   ]
  },
  {
   "cell_type": "markdown",
   "metadata": {},
   "source": [
    "Допустим, вы работаете в добывающей компании «ГлавРосГосНефть». Нужно решить, где бурить новую скважину.\n",
    "\n",
    "Вам предоставлены пробы нефти в трёх регионах: в каждом 10 000 месторождений, где измерили качество нефти и объём её запасов. Постройте модель машинного обучения, которая поможет определить регион, где добыча принесёт наибольшую прибыль. Проанализируйте возможную прибыль и риски техникой *Bootstrap.*\n",
    "\n",
    "Шаги для выбора локации:\n",
    "\n",
    "- В избранном регионе ищут месторождения, для каждого определяют значения признаков;\n",
    "- Строят модель и оценивают объём запасов;\n",
    "- Выбирают месторождения с самым высокими оценками значений. Количество месторождений зависит от бюджета компании и стоимости разработки одной скважины;\n",
    "- Прибыль равна суммарной прибыли отобранных месторождений."
   ]
  },
  {
   "cell_type": "markdown",
   "metadata": {},
   "source": [
    "Имопртируем необходимые библиотеки и классы"
   ]
  },
  {
   "cell_type": "code",
   "execution_count": 1,
   "metadata": {},
   "outputs": [],
   "source": [
    "import warnings\n",
    "warnings.filterwarnings(\"ignore\")\n",
    "import pandas as pd\n",
    "import numpy as np\n",
    "from numpy.random import RandomState\n",
    "import matplotlib.pyplot as plt\n",
    "\n",
    "from sklearn.linear_model import LinearRegression\n",
    "\n",
    "from sklearn.model_selection import train_test_split\n",
    "from sklearn.metrics import (\n",
    "    mean_squared_error,\n",
    "    accuracy_score, precision_score, recall_score,\n",
    "    f1_score, roc_curve, roc_auc_score\n",
    ")\n",
    "\n",
    "from sklearn.preprocessing import StandardScaler"
   ]
  },
  {
   "cell_type": "markdown",
   "metadata": {},
   "source": [
    "## Загрузка и подготовка данных"
   ]
  },
  {
   "cell_type": "code",
   "execution_count": 2,
   "metadata": {
    "scrolled": false
   },
   "outputs": [
    {
     "name": "stdout",
     "output_type": "stream",
     "text": [
      "Прочитали данные в сети\n"
     ]
    }
   ],
   "source": [
    "try:\n",
    "    data0 = pd.read_csv('path_to/geo_data_0.csv')\n",
    "    data1 = pd.read_csv('path_to/geo_data_1.csv')\n",
    "    data2 = pd.read_csv('path_to/geo_data_2.csv')\n",
    "    print('Прочитали данные с диска')\n",
    "except:\n",
    "    data0 = pd.read_csv('/datasets/geo_data_0.csv')\n",
    "    data1 = pd.read_csv('/datasets/geo_data_1.csv')\n",
    "    data2 = pd.read_csv('/datasets/geo_data_2.csv')\n",
    "    print('Прочитали данные в сети')"
   ]
  },
  {
   "cell_type": "markdown",
   "metadata": {},
   "source": [
    "Называть датасеты далее буду по индексам (нулевой, первый, второй).\n",
    "\n",
    "Посмотрим общую информацию по датасетам"
   ]
  },
  {
   "cell_type": "code",
   "execution_count": 3,
   "metadata": {},
   "outputs": [
    {
     "name": "stdout",
     "output_type": "stream",
     "text": [
      "<class 'pandas.core.frame.DataFrame'>\n",
      "RangeIndex: 100000 entries, 0 to 99999\n",
      "Data columns (total 5 columns):\n",
      " #   Column   Non-Null Count   Dtype  \n",
      "---  ------   --------------   -----  \n",
      " 0   id       100000 non-null  object \n",
      " 1   f0       100000 non-null  float64\n",
      " 2   f1       100000 non-null  float64\n",
      " 3   f2       100000 non-null  float64\n",
      " 4   product  100000 non-null  float64\n",
      "dtypes: float64(4), object(1)\n",
      "memory usage: 3.8+ MB\n"
     ]
    },
    {
     "data": {
      "text/plain": [
       "None"
      ]
     },
     "metadata": {},
     "output_type": "display_data"
    },
    {
     "data": {
      "text/html": [
       "<div>\n",
       "<style scoped>\n",
       "    .dataframe tbody tr th:only-of-type {\n",
       "        vertical-align: middle;\n",
       "    }\n",
       "\n",
       "    .dataframe tbody tr th {\n",
       "        vertical-align: top;\n",
       "    }\n",
       "\n",
       "    .dataframe thead th {\n",
       "        text-align: right;\n",
       "    }\n",
       "</style>\n",
       "<table border=\"1\" class=\"dataframe\">\n",
       "  <thead>\n",
       "    <tr style=\"text-align: right;\">\n",
       "      <th></th>\n",
       "      <th>id</th>\n",
       "      <th>f0</th>\n",
       "      <th>f1</th>\n",
       "      <th>f2</th>\n",
       "      <th>product</th>\n",
       "    </tr>\n",
       "  </thead>\n",
       "  <tbody>\n",
       "    <tr>\n",
       "      <th>0</th>\n",
       "      <td>txEyH</td>\n",
       "      <td>0.705745</td>\n",
       "      <td>-0.497823</td>\n",
       "      <td>1.221170</td>\n",
       "      <td>105.280062</td>\n",
       "    </tr>\n",
       "    <tr>\n",
       "      <th>1</th>\n",
       "      <td>2acmU</td>\n",
       "      <td>1.334711</td>\n",
       "      <td>-0.340164</td>\n",
       "      <td>4.365080</td>\n",
       "      <td>73.037750</td>\n",
       "    </tr>\n",
       "    <tr>\n",
       "      <th>2</th>\n",
       "      <td>409Wp</td>\n",
       "      <td>1.022732</td>\n",
       "      <td>0.151990</td>\n",
       "      <td>1.419926</td>\n",
       "      <td>85.265647</td>\n",
       "    </tr>\n",
       "    <tr>\n",
       "      <th>3</th>\n",
       "      <td>iJLyR</td>\n",
       "      <td>-0.032172</td>\n",
       "      <td>0.139033</td>\n",
       "      <td>2.978566</td>\n",
       "      <td>168.620776</td>\n",
       "    </tr>\n",
       "    <tr>\n",
       "      <th>4</th>\n",
       "      <td>Xdl7t</td>\n",
       "      <td>1.988431</td>\n",
       "      <td>0.155413</td>\n",
       "      <td>4.751769</td>\n",
       "      <td>154.036647</td>\n",
       "    </tr>\n",
       "  </tbody>\n",
       "</table>\n",
       "</div>"
      ],
      "text/plain": [
       "      id        f0        f1        f2     product\n",
       "0  txEyH  0.705745 -0.497823  1.221170  105.280062\n",
       "1  2acmU  1.334711 -0.340164  4.365080   73.037750\n",
       "2  409Wp  1.022732  0.151990  1.419926   85.265647\n",
       "3  iJLyR -0.032172  0.139033  2.978566  168.620776\n",
       "4  Xdl7t  1.988431  0.155413  4.751769  154.036647"
      ]
     },
     "metadata": {},
     "output_type": "display_data"
    }
   ],
   "source": [
    "display(data0.info())\n",
    "display(data0.head())"
   ]
  },
  {
   "cell_type": "code",
   "execution_count": 4,
   "metadata": {},
   "outputs": [
    {
     "name": "stdout",
     "output_type": "stream",
     "text": [
      "<class 'pandas.core.frame.DataFrame'>\n",
      "RangeIndex: 100000 entries, 0 to 99999\n",
      "Data columns (total 5 columns):\n",
      " #   Column   Non-Null Count   Dtype  \n",
      "---  ------   --------------   -----  \n",
      " 0   id       100000 non-null  object \n",
      " 1   f0       100000 non-null  float64\n",
      " 2   f1       100000 non-null  float64\n",
      " 3   f2       100000 non-null  float64\n",
      " 4   product  100000 non-null  float64\n",
      "dtypes: float64(4), object(1)\n",
      "memory usage: 3.8+ MB\n"
     ]
    },
    {
     "data": {
      "text/plain": [
       "None"
      ]
     },
     "metadata": {},
     "output_type": "display_data"
    },
    {
     "data": {
      "text/html": [
       "<div>\n",
       "<style scoped>\n",
       "    .dataframe tbody tr th:only-of-type {\n",
       "        vertical-align: middle;\n",
       "    }\n",
       "\n",
       "    .dataframe tbody tr th {\n",
       "        vertical-align: top;\n",
       "    }\n",
       "\n",
       "    .dataframe thead th {\n",
       "        text-align: right;\n",
       "    }\n",
       "</style>\n",
       "<table border=\"1\" class=\"dataframe\">\n",
       "  <thead>\n",
       "    <tr style=\"text-align: right;\">\n",
       "      <th></th>\n",
       "      <th>id</th>\n",
       "      <th>f0</th>\n",
       "      <th>f1</th>\n",
       "      <th>f2</th>\n",
       "      <th>product</th>\n",
       "    </tr>\n",
       "  </thead>\n",
       "  <tbody>\n",
       "    <tr>\n",
       "      <th>0</th>\n",
       "      <td>kBEdx</td>\n",
       "      <td>-15.001348</td>\n",
       "      <td>-8.276000</td>\n",
       "      <td>-0.005876</td>\n",
       "      <td>3.179103</td>\n",
       "    </tr>\n",
       "    <tr>\n",
       "      <th>1</th>\n",
       "      <td>62mP7</td>\n",
       "      <td>14.272088</td>\n",
       "      <td>-3.475083</td>\n",
       "      <td>0.999183</td>\n",
       "      <td>26.953261</td>\n",
       "    </tr>\n",
       "    <tr>\n",
       "      <th>2</th>\n",
       "      <td>vyE1P</td>\n",
       "      <td>6.263187</td>\n",
       "      <td>-5.948386</td>\n",
       "      <td>5.001160</td>\n",
       "      <td>134.766305</td>\n",
       "    </tr>\n",
       "    <tr>\n",
       "      <th>3</th>\n",
       "      <td>KcrkZ</td>\n",
       "      <td>-13.081196</td>\n",
       "      <td>-11.506057</td>\n",
       "      <td>4.999415</td>\n",
       "      <td>137.945408</td>\n",
       "    </tr>\n",
       "    <tr>\n",
       "      <th>4</th>\n",
       "      <td>AHL4O</td>\n",
       "      <td>12.702195</td>\n",
       "      <td>-8.147433</td>\n",
       "      <td>5.004363</td>\n",
       "      <td>134.766305</td>\n",
       "    </tr>\n",
       "  </tbody>\n",
       "</table>\n",
       "</div>"
      ],
      "text/plain": [
       "      id         f0         f1        f2     product\n",
       "0  kBEdx -15.001348  -8.276000 -0.005876    3.179103\n",
       "1  62mP7  14.272088  -3.475083  0.999183   26.953261\n",
       "2  vyE1P   6.263187  -5.948386  5.001160  134.766305\n",
       "3  KcrkZ -13.081196 -11.506057  4.999415  137.945408\n",
       "4  AHL4O  12.702195  -8.147433  5.004363  134.766305"
      ]
     },
     "metadata": {},
     "output_type": "display_data"
    }
   ],
   "source": [
    "display(data1.info())\n",
    "display(data1.head())"
   ]
  },
  {
   "cell_type": "code",
   "execution_count": 5,
   "metadata": {},
   "outputs": [
    {
     "name": "stdout",
     "output_type": "stream",
     "text": [
      "<class 'pandas.core.frame.DataFrame'>\n",
      "RangeIndex: 100000 entries, 0 to 99999\n",
      "Data columns (total 5 columns):\n",
      " #   Column   Non-Null Count   Dtype  \n",
      "---  ------   --------------   -----  \n",
      " 0   id       100000 non-null  object \n",
      " 1   f0       100000 non-null  float64\n",
      " 2   f1       100000 non-null  float64\n",
      " 3   f2       100000 non-null  float64\n",
      " 4   product  100000 non-null  float64\n",
      "dtypes: float64(4), object(1)\n",
      "memory usage: 3.8+ MB\n"
     ]
    },
    {
     "data": {
      "text/plain": [
       "None"
      ]
     },
     "metadata": {},
     "output_type": "display_data"
    },
    {
     "data": {
      "text/html": [
       "<div>\n",
       "<style scoped>\n",
       "    .dataframe tbody tr th:only-of-type {\n",
       "        vertical-align: middle;\n",
       "    }\n",
       "\n",
       "    .dataframe tbody tr th {\n",
       "        vertical-align: top;\n",
       "    }\n",
       "\n",
       "    .dataframe thead th {\n",
       "        text-align: right;\n",
       "    }\n",
       "</style>\n",
       "<table border=\"1\" class=\"dataframe\">\n",
       "  <thead>\n",
       "    <tr style=\"text-align: right;\">\n",
       "      <th></th>\n",
       "      <th>id</th>\n",
       "      <th>f0</th>\n",
       "      <th>f1</th>\n",
       "      <th>f2</th>\n",
       "      <th>product</th>\n",
       "    </tr>\n",
       "  </thead>\n",
       "  <tbody>\n",
       "    <tr>\n",
       "      <th>0</th>\n",
       "      <td>fwXo0</td>\n",
       "      <td>-1.146987</td>\n",
       "      <td>0.963328</td>\n",
       "      <td>-0.828965</td>\n",
       "      <td>27.758673</td>\n",
       "    </tr>\n",
       "    <tr>\n",
       "      <th>1</th>\n",
       "      <td>WJtFt</td>\n",
       "      <td>0.262778</td>\n",
       "      <td>0.269839</td>\n",
       "      <td>-2.530187</td>\n",
       "      <td>56.069697</td>\n",
       "    </tr>\n",
       "    <tr>\n",
       "      <th>2</th>\n",
       "      <td>ovLUW</td>\n",
       "      <td>0.194587</td>\n",
       "      <td>0.289035</td>\n",
       "      <td>-5.586433</td>\n",
       "      <td>62.871910</td>\n",
       "    </tr>\n",
       "    <tr>\n",
       "      <th>3</th>\n",
       "      <td>q6cA6</td>\n",
       "      <td>2.236060</td>\n",
       "      <td>-0.553760</td>\n",
       "      <td>0.930038</td>\n",
       "      <td>114.572842</td>\n",
       "    </tr>\n",
       "    <tr>\n",
       "      <th>4</th>\n",
       "      <td>WPMUX</td>\n",
       "      <td>-0.515993</td>\n",
       "      <td>1.716266</td>\n",
       "      <td>5.899011</td>\n",
       "      <td>149.600746</td>\n",
       "    </tr>\n",
       "  </tbody>\n",
       "</table>\n",
       "</div>"
      ],
      "text/plain": [
       "      id        f0        f1        f2     product\n",
       "0  fwXo0 -1.146987  0.963328 -0.828965   27.758673\n",
       "1  WJtFt  0.262778  0.269839 -2.530187   56.069697\n",
       "2  ovLUW  0.194587  0.289035 -5.586433   62.871910\n",
       "3  q6cA6  2.236060 -0.553760  0.930038  114.572842\n",
       "4  WPMUX -0.515993  1.716266  5.899011  149.600746"
      ]
     },
     "metadata": {},
     "output_type": "display_data"
    }
   ],
   "source": [
    "display(data2.info())\n",
    "display(data2.head())"
   ]
  },
  {
   "cell_type": "markdown",
   "metadata": {},
   "source": [
    "Пропусков нет. Тип данных везде один. Поле ID скважины будет не нужно.\n",
    "\n",
    "Посмотрим распределение значений"
   ]
  },
  {
   "cell_type": "code",
   "execution_count": 6,
   "metadata": {},
   "outputs": [
    {
     "data": {
      "image/png": "[encoded data removed]",
      "text/plain": [
       "<Figure size 864x1008 with 12 Axes>"
      ]
     },
     "metadata": {
      "needs_background": "light"
     },
     "output_type": "display_data"
    }
   ],
   "source": [
    "figure, axis = plt.subplots(4, 3, figsize=(12,14))\n",
    "for c in range(4):\n",
    "    col = 'f'+str(c)\n",
    "    if c==3:\n",
    "        col = 'product'\n",
    "    for d in range(3):\n",
    "        da = 'data'+str(d)\n",
    "        axis[c,d].hist(eval(da)[col],bins=40)\n",
    "        axis[c,d].set_title(da+'_'+col)\n",
    "plt.show();"
   ]
  },
  {
   "cell_type": "markdown",
   "metadata": {},
   "source": [
    "Все датафреймы заметно отличаются друг от друга. При этом похоже, что поля f2 и proruct в data1 имеют дискретные значения"
   ]
  },
  {
   "cell_type": "code",
   "execution_count": 7,
   "metadata": {},
   "outputs": [
    {
     "data": {
      "text/plain": [
       "12"
      ]
     },
     "metadata": {},
     "output_type": "display_data"
    },
    {
     "data": {
      "text/plain": [
       "100000"
      ]
     },
     "execution_count": 7,
     "metadata": {},
     "output_type": "execute_result"
    }
   ],
   "source": [
    "display(data1['product'].nunique())\n",
    "data1['f2'].nunique()"
   ]
  },
  {
   "cell_type": "markdown",
   "metadata": {},
   "source": [
    "Значения в поле f2 не ранговые, но варируются вокруг определенных рангов.\n",
    "\n",
    "Поле product действительно ранговое."
   ]
  },
  {
   "cell_type": "markdown",
   "metadata": {},
   "source": [
    "Посмотрим матрицы корреляции"
   ]
  },
  {
   "cell_type": "code",
   "execution_count": 8,
   "metadata": {},
   "outputs": [
    {
     "data": {
      "text/html": [
       "<div>\n",
       "<style scoped>\n",
       "    .dataframe tbody tr th:only-of-type {\n",
       "        vertical-align: middle;\n",
       "    }\n",
       "\n",
       "    .dataframe tbody tr th {\n",
       "        vertical-align: top;\n",
       "    }\n",
       "\n",
       "    .dataframe thead th {\n",
       "        text-align: right;\n",
       "    }\n",
       "</style>\n",
       "<table border=\"1\" class=\"dataframe\">\n",
       "  <thead>\n",
       "    <tr style=\"text-align: right;\">\n",
       "      <th></th>\n",
       "      <th>f0</th>\n",
       "      <th>f1</th>\n",
       "      <th>f2</th>\n",
       "      <th>product</th>\n",
       "    </tr>\n",
       "  </thead>\n",
       "  <tbody>\n",
       "    <tr>\n",
       "      <th>f0</th>\n",
       "      <td>1.000000</td>\n",
       "      <td>-0.440723</td>\n",
       "      <td>-0.003153</td>\n",
       "      <td>0.143536</td>\n",
       "    </tr>\n",
       "    <tr>\n",
       "      <th>f1</th>\n",
       "      <td>-0.440723</td>\n",
       "      <td>1.000000</td>\n",
       "      <td>0.001724</td>\n",
       "      <td>-0.192356</td>\n",
       "    </tr>\n",
       "    <tr>\n",
       "      <th>f2</th>\n",
       "      <td>-0.003153</td>\n",
       "      <td>0.001724</td>\n",
       "      <td>1.000000</td>\n",
       "      <td>0.483663</td>\n",
       "    </tr>\n",
       "    <tr>\n",
       "      <th>product</th>\n",
       "      <td>0.143536</td>\n",
       "      <td>-0.192356</td>\n",
       "      <td>0.483663</td>\n",
       "      <td>1.000000</td>\n",
       "    </tr>\n",
       "  </tbody>\n",
       "</table>\n",
       "</div>"
      ],
      "text/plain": [
       "               f0        f1        f2   product\n",
       "f0       1.000000 -0.440723 -0.003153  0.143536\n",
       "f1      -0.440723  1.000000  0.001724 -0.192356\n",
       "f2      -0.003153  0.001724  1.000000  0.483663\n",
       "product  0.143536 -0.192356  0.483663  1.000000"
      ]
     },
     "execution_count": 8,
     "metadata": {},
     "output_type": "execute_result"
    }
   ],
   "source": [
    "data0.corr()"
   ]
  },
  {
   "cell_type": "markdown",
   "metadata": {},
   "source": [
    "Отметим\n",
    "- условно среднюю обратную зависимость между f0 и f1 (с какого уровня начинается мультиколлинеарность? Пишут, что \"На практике пороговое значение зависит от задачи и находится в диапазоне от 0.6 до 1.0\". Поэтому пока не предпринимаю никаких действий)\n",
    "- условно среднюю прямую зависимость между f2 и product."
   ]
  },
  {
   "cell_type": "code",
   "execution_count": 9,
   "metadata": {},
   "outputs": [
    {
     "data": {
      "text/html": [
       "<div>\n",
       "<style scoped>\n",
       "    .dataframe tbody tr th:only-of-type {\n",
       "        vertical-align: middle;\n",
       "    }\n",
       "\n",
       "    .dataframe tbody tr th {\n",
       "        vertical-align: top;\n",
       "    }\n",
       "\n",
       "    .dataframe thead th {\n",
       "        text-align: right;\n",
       "    }\n",
       "</style>\n",
       "<table border=\"1\" class=\"dataframe\">\n",
       "  <thead>\n",
       "    <tr style=\"text-align: right;\">\n",
       "      <th></th>\n",
       "      <th>f0</th>\n",
       "      <th>f1</th>\n",
       "      <th>f2</th>\n",
       "      <th>product</th>\n",
       "    </tr>\n",
       "  </thead>\n",
       "  <tbody>\n",
       "    <tr>\n",
       "      <th>f0</th>\n",
       "      <td>1.000000</td>\n",
       "      <td>0.182287</td>\n",
       "      <td>-0.001777</td>\n",
       "      <td>-0.030491</td>\n",
       "    </tr>\n",
       "    <tr>\n",
       "      <th>f1</th>\n",
       "      <td>0.182287</td>\n",
       "      <td>1.000000</td>\n",
       "      <td>-0.002595</td>\n",
       "      <td>-0.010155</td>\n",
       "    </tr>\n",
       "    <tr>\n",
       "      <th>f2</th>\n",
       "      <td>-0.001777</td>\n",
       "      <td>-0.002595</td>\n",
       "      <td>1.000000</td>\n",
       "      <td>0.999397</td>\n",
       "    </tr>\n",
       "    <tr>\n",
       "      <th>product</th>\n",
       "      <td>-0.030491</td>\n",
       "      <td>-0.010155</td>\n",
       "      <td>0.999397</td>\n",
       "      <td>1.000000</td>\n",
       "    </tr>\n",
       "  </tbody>\n",
       "</table>\n",
       "</div>"
      ],
      "text/plain": [
       "               f0        f1        f2   product\n",
       "f0       1.000000  0.182287 -0.001777 -0.030491\n",
       "f1       0.182287  1.000000 -0.002595 -0.010155\n",
       "f2      -0.001777 -0.002595  1.000000  0.999397\n",
       "product -0.030491 -0.010155  0.999397  1.000000"
      ]
     },
     "execution_count": 9,
     "metadata": {},
     "output_type": "execute_result"
    }
   ],
   "source": [
    "data1.corr()"
   ]
  },
  {
   "cell_type": "markdown",
   "metadata": {},
   "source": [
    "Отметим сильную (почти 100%-ную) прямую зависимость между f2 и product. Т.о., теоретически для прогноза в этом датасете можно использовать только один признак f2"
   ]
  },
  {
   "cell_type": "code",
   "execution_count": 10,
   "metadata": {},
   "outputs": [
    {
     "data": {
      "text/html": [
       "<div>\n",
       "<style scoped>\n",
       "    .dataframe tbody tr th:only-of-type {\n",
       "        vertical-align: middle;\n",
       "    }\n",
       "\n",
       "    .dataframe tbody tr th {\n",
       "        vertical-align: top;\n",
       "    }\n",
       "\n",
       "    .dataframe thead th {\n",
       "        text-align: right;\n",
       "    }\n",
       "</style>\n",
       "<table border=\"1\" class=\"dataframe\">\n",
       "  <thead>\n",
       "    <tr style=\"text-align: right;\">\n",
       "      <th></th>\n",
       "      <th>f0</th>\n",
       "      <th>f1</th>\n",
       "      <th>f2</th>\n",
       "      <th>product</th>\n",
       "    </tr>\n",
       "  </thead>\n",
       "  <tbody>\n",
       "    <tr>\n",
       "      <th>f0</th>\n",
       "      <td>1.000000</td>\n",
       "      <td>0.000528</td>\n",
       "      <td>-0.000448</td>\n",
       "      <td>-0.001987</td>\n",
       "    </tr>\n",
       "    <tr>\n",
       "      <th>f1</th>\n",
       "      <td>0.000528</td>\n",
       "      <td>1.000000</td>\n",
       "      <td>0.000779</td>\n",
       "      <td>-0.001012</td>\n",
       "    </tr>\n",
       "    <tr>\n",
       "      <th>f2</th>\n",
       "      <td>-0.000448</td>\n",
       "      <td>0.000779</td>\n",
       "      <td>1.000000</td>\n",
       "      <td>0.445871</td>\n",
       "    </tr>\n",
       "    <tr>\n",
       "      <th>product</th>\n",
       "      <td>-0.001987</td>\n",
       "      <td>-0.001012</td>\n",
       "      <td>0.445871</td>\n",
       "      <td>1.000000</td>\n",
       "    </tr>\n",
       "  </tbody>\n",
       "</table>\n",
       "</div>"
      ],
      "text/plain": [
       "               f0        f1        f2   product\n",
       "f0       1.000000  0.000528 -0.000448 -0.001987\n",
       "f1       0.000528  1.000000  0.000779 -0.001012\n",
       "f2      -0.000448  0.000779  1.000000  0.445871\n",
       "product -0.001987 -0.001012  0.445871  1.000000"
      ]
     },
     "execution_count": 10,
     "metadata": {},
     "output_type": "execute_result"
    }
   ],
   "source": [
    "data2.corr()"
   ]
  },
  {
   "cell_type": "markdown",
   "metadata": {},
   "source": [
    "<div style=\"background: #B0E0E6; padding: 5px; border: 1px solid SteelBlue; border-radius: 5px;\">\n",
    "    <font color='4682B4'><u><b>КОММЕНТАРИЙ СТУДЕНТА</b></u></font>\n",
    "    <br />\n",
    "    <font color='4682B4'> Значимость коэффициентов корреляции для нашего текущего проекта - в возможности определить наличие / отсутствие мультиколлинеарности между признаками для целей использования / отбрасывания определенных признаков подаваемых на вход линейной модели, которая задается линейным уравнением w1*X1+w2*X2 ... (Х1, Х2 - признаки) Т.к. в случае мультиколлинеарности между признаками мы имеем Х1=а*Х2+Ь. Что при наличии в наборе подаваемом в линейную модель обоих: и Х1, и Х2, не позволяет этой модели однозначно рассчитать веса w1 w2 (глупая модель, однако.. ведь почему бы не заложить в алгоритм модели проверку муьтиколл-ти и установку например w2=0, либо представить уравнение как: w1*(а*Х2+Ь) + w2*Х2)\n",
    "   </font>\n",
    "</div>"
   ]
  },
  {
   "cell_type": "code",
   "execution_count": 11,
   "metadata": {
    "scrolled": true
   },
   "outputs": [
    {
     "data": {
      "text/plain": [
       "0"
      ]
     },
     "execution_count": 11,
     "metadata": {},
     "output_type": "execute_result"
    }
   ],
   "source": [
    "data0.drop(['id'], axis=1).duplicated().sum()"
   ]
  },
  {
   "cell_type": "code",
   "execution_count": 12,
   "metadata": {},
   "outputs": [
    {
     "data": {
      "text/plain": [
       "0"
      ]
     },
     "execution_count": 12,
     "metadata": {},
     "output_type": "execute_result"
    }
   ],
   "source": [
    "data1.drop(['id'], axis=1).duplicated().sum()"
   ]
  },
  {
   "cell_type": "code",
   "execution_count": 13,
   "metadata": {},
   "outputs": [
    {
     "data": {
      "text/plain": [
       "0"
      ]
     },
     "execution_count": 13,
     "metadata": {},
     "output_type": "execute_result"
    }
   ],
   "source": [
    "data2.drop(['id'], axis=1).duplicated().sum()"
   ]
  },
  {
   "cell_type": "markdown",
   "metadata": {},
   "source": [
    "Отметим условно среднюю прямую зависимость между f2 и product"
   ]
  },
  {
   "cell_type": "markdown",
   "metadata": {},
   "source": [
    "Поскольку работаем с линейной регрессией, необходимо отмасштабировать значения признаков. Предварительно разделим выборку.\n",
    "\n",
    "Выборку разделю на train (75%), valid (25%)."
   ]
  },
  {
   "cell_type": "code",
   "execution_count": 14,
   "metadata": {},
   "outputs": [],
   "source": [
    "features0 = data0.drop(['id','product'], axis=1)\n",
    "target0 = data0['product']\n",
    "features_train_0, features_valid_0, target_train_0, target_valid_0 = train_test_split(\n",
    "        features0, target0, test_size=0.25, random_state=12345)\n",
    "\n",
    "features1 = data1.drop(['id','product'], axis=1)\n",
    "target1 = data1['product']\n",
    "features_train_1, features_valid_1, target_train_1, target_valid_1 = train_test_split(\n",
    "        features1, target1, test_size=0.25, random_state=12345)\n",
    "\n",
    "features2 = data2.drop(['id','product'], axis=1)\n",
    "target2 = data2['product']\n",
    "features_train_2, features_valid_2, target_train_2, target_valid_2 = train_test_split(\n",
    "        features2, target2, test_size=0.25, random_state=12345)"
   ]
  },
  {
   "cell_type": "code",
   "execution_count": 15,
   "metadata": {},
   "outputs": [],
   "source": [
    "# Создадим списки с названиями полей для признаков и целевого поля\n",
    "fit_list = ['f0','f1','f2']\n",
    "targ_list = ['prodict']"
   ]
  },
  {
   "cell_type": "code",
   "execution_count": 16,
   "metadata": {},
   "outputs": [],
   "source": [
    "# функция обучения и получения метрик и предсказаний\n",
    "def model_out(features_train,target_train,features_valid,target_valid):\n",
    "    # инициализируем модель с ГП по умолчанию\n",
    "    model = LinearRegression()\n",
    "\n",
    "    # \"обучим\" скалер и отмасштабируем признаки\n",
    "    stand_scaler_train = StandardScaler()\n",
    "    stand_scaler_train.fit_transform(features_train[fit_list])\n",
    "    features_valid[fit_list] = stand_scaler_train.transform(features_valid[fit_list])\n",
    "    \n",
    "    model.fit(features_train, target_train)\n",
    "    predictions_valid = model.predict(features_valid)\n",
    "    pred_series = pd.Series(predictions_valid,index=target_valid.index)\n",
    "    #f1 = f1_score(target_valid, predictions_valid)\n",
    "    #accuracy = accuracy_score(target_valid,predictions_valid)\n",
    "    #recall = recall_score(target_valid,predictions_valid)\n",
    "    #precission = precision_score(target_valid,predictions_valid)\n",
    "    mse = mean_squared_error(target_valid,predictions_valid)\n",
    "    rmse = mse**0.5\n",
    "    return rmse, pred_series"
   ]
  },
  {
   "cell_type": "code",
   "execution_count": 17,
   "metadata": {},
   "outputs": [],
   "source": [
    "# обучим модели и получим значения метрик и предсказания\n",
    "rmse_0, pred_0 = model_out(features_train_0,target_train_0,features_valid_0,target_valid_0)\n",
    "rmse_1, pred_1 = model_out(features_train_1,target_train_1,features_valid_1,target_valid_1)\n",
    "rmse_2, pred_2 = model_out(features_train_2,target_train_2,features_valid_2,target_valid_2)"
   ]
  },
  {
   "cell_type": "code",
   "execution_count": 18,
   "metadata": {
    "scrolled": false
   },
   "outputs": [
    {
     "data": {
      "image/png": "[encoded data removed]",
      "text/plain": [
       "<Figure size 864x864 with 9 Axes>"
      ]
     },
     "metadata": {
      "needs_background": "light"
     },
     "output_type": "display_data"
    }
   ],
   "source": [
    "# посмотрим получившиеся распределения\n",
    "figure, axis = plt.subplots(3, 3, figsize=(12,12))\n",
    "for c in range(3):\n",
    "    col = 'f'+str(c)\n",
    "    for d in range(3):\n",
    "        da = 'features_train_'+str(d)\n",
    "        #print(da,col)\n",
    "        axis[c,d].hist((eval(da)[col]),bins=20)\n",
    "        axis[c,d].set_title(da+'_'+col)\n",
    "plt.show()"
   ]
  },
  {
   "cell_type": "markdown",
   "metadata": {},
   "source": [
    "Формы распределений не изменились, значения распределились вокруг нуля."
   ]
  },
  {
   "cell_type": "markdown",
   "metadata": {},
   "source": [
    "## Обучение и проверка модели"
   ]
  },
  {
   "cell_type": "markdown",
   "metadata": {},
   "source": [
    "Оптимизировать гиперпараметры в линейной регрессии, очевидно, нет необходимости. Обучим модели."
   ]
  },
  {
   "cell_type": "code",
   "execution_count": 19,
   "metadata": {},
   "outputs": [
    {
     "name": "stdout",
     "output_type": "stream",
     "text": [
      "Регион 0 - Средние предсказанные запасы: 77.87  // RMSE:  43.407\n",
      "Регион 1 - Средние предсказанные запасы: 1.58  // RMSE:  69.791\n",
      "Регион 2 - Средние предсказанные запасы: 80.76  // RMSE:  44.898\n"
     ]
    }
   ],
   "source": [
    "print('Регион 0 - Средние предсказанные запасы:',round(pred_0.mean(),2),' // RMSE: ',rmse_0.round(3))\n",
    "print('Регион 1 - Средние предсказанные запасы:',round(pred_1.mean(),2),' // RMSE: ',rmse_1.round(3))\n",
    "print('Регион 2 - Средние предсказанные запасы:',round(pred_2.mean(),2),' // RMSE: ',rmse_2.round(3))"
   ]
  },
  {
   "cell_type": "markdown",
   "metadata": {},
   "source": [
    "Получили лучшие показатели по предсказанным запасам в регионах 0 и 2. При этом качество модели лучшее в регионе 1. Это было понятно из наличия 100% прямой зависимости между f2 и product. "
   ]
  },
  {
   "cell_type": "markdown",
   "metadata": {},
   "source": [
    "## Подготовка к расчёту прибыли"
   ]
  },
  {
   "cell_type": "code",
   "execution_count": 20,
   "metadata": {},
   "outputs": [],
   "source": [
    "# сохраним ключевые значения для расчётов\n",
    "selection_size = 500 # кол-во точек для исследования\n",
    "dev_size = 200 # количество лучших для разработки\n",
    "total_costs = 10_000_000_000 # бюджет в рублях на разработку в целом по региону\n",
    "revenue_per_barr = 450_000 # доход в рублях с единицы product\n",
    "loss_proba_cutoff = 0.025 # отсечка по вероятности убытков в целом по региону"
   ]
  },
  {
   "cell_type": "markdown",
   "metadata": {},
   "source": [
    "Рассчитаем достаточный объём сырья для безубыточной разработки новой скважины"
   ]
  },
  {
   "cell_type": "code",
   "execution_count": 21,
   "metadata": {},
   "outputs": [
    {
     "name": "stdout",
     "output_type": "stream",
     "text": [
      "Безубыточный объём сырья: 111.11\n"
     ]
    }
   ],
   "source": [
    "# costs(i)  = total_costs/dev_size         -- средние расходы (бюджет) на разработку одной скважины\n",
    "# income(i) = revenue_per_barr*product(i)  -- планируемый общий доход с одной скважины\n",
    "# income(i) - costs(i) >= 0                -- безубыточная разработка\n",
    "# product_cutoff = total_costs/(revenue_per_barr*dev_size) -- достаточный объём сырья\n",
    "product_cutoff = total_costs/(revenue_per_barr*dev_size)\n",
    "print('Безубыточный объём сырья:',round(product_cutoff,2))"
   ]
  },
  {
   "cell_type": "markdown",
   "metadata": {},
   "source": [
    "Видим, что средние предсказанные запасы во всех регионах заметно меньше безубыточного уровня."
   ]
  },
  {
   "cell_type": "code",
   "execution_count": 22,
   "metadata": {},
   "outputs": [
    {
     "name": "stdout",
     "output_type": "stream",
     "text": [
      "Средний объем запасов в регионе 0: 92.5  - отличается от средних предсказанных в 0.1582 раз\n",
      "Средний объем запасов в регионе 1: 68.83  - отличается от средних предсказанных в 0.9771 раз\n",
      "Средний объем запасов в регионе 2: 95.0  - отличается от средних предсказанных в 0.1499 раз\n"
     ]
    }
   ],
   "source": [
    "print('Средний объем запасов в регионе 0:',round(target0.mean(),2),\n",
    "' - отличается от средних предсказанных в',round((target0.mean()-pred_0.mean())/target0.mean(),4),'раз')\n",
    "print('Средний объем запасов в регионе 1:',round(target1.mean(),2),\n",
    "' - отличается от средних предсказанных в',round((target1.mean()-pred_1.mean())/target1.mean(),4),'раз')\n",
    "print('Средний объем запасов в регионе 2:',round(target2.mean(),2),\n",
    "' - отличается от средних предсказанных в',round((target2.mean()-pred_2.mean())/target2.mean(),4),'раз')"
   ]
  },
  {
   "cell_type": "markdown",
   "metadata": {},
   "source": [
    "<div class=\"alert alert-warning\">\n",
    "<font size=\"4\"><b>⚠️ Комментарий ревьюера</b></font>\n",
    "    <br /> \n",
    "    <font size=\"3\", color = \"black\">\n",
    "<br />\n",
    "<u>Контрольный вопрос:</u>\n",
    "\n",
    "Когда ты выведешь на экран средние истинные запасы, то увидишь, что они одинаково близки к средним предсказанным как в регионе 1, где очень низкий RMSE, так и в регионах с RMSE около 40. Как ты это объяснишь?"
   ]
  },
  {
   "cell_type": "markdown",
   "metadata": {},
   "source": [
    "<div style=\"background: #B0E0E6; padding: 5px; border: 1px solid SteelBlue; border-radius: 5px;\">\n",
    "    <font color='4682B4'><u><b>КОММЕНТАРИЙ СТУДЕНТА</b></u></font>\n",
    "    <br />\n",
    "    <font color='4682B4'> Оъясняется это симметричной формой распределений значений запасов. По сути наш линейный предикт для симметричного распределения и будет средним фактического таргета. Ну или вообще это характерно для линейной регрессии (не готов сейчас проверять, но для симметрии - это интуитивно понятно), поскольку мы \"прокладываем\" линию регрессии на основе метода наименьших квадратов расстояний от факт.точек до линии, соответственно сама линия и будет средним (точнее среднеквадратичным) для факта.\n",
    "   </font>\n",
    "</div>"
   ]
  },
  {
   "cell_type": "markdown",
   "metadata": {},
   "source": [
    "Видим, что просто ориенироваться на средние запасы нельзя. На данном этапе определить прибыльный регион также нельзя"
   ]
  },
  {
   "cell_type": "markdown",
   "metadata": {},
   "source": [
    "## Расчёт прибыли и рисков "
   ]
  },
  {
   "cell_type": "markdown",
   "metadata": {},
   "source": [
    "Напишем функцию для расчёта прибыли по выбранным скважинам и предсказаниям модели"
   ]
  },
  {
   "cell_type": "code",
   "execution_count": 23,
   "metadata": {},
   "outputs": [],
   "source": [
    "def selected_wells_margin(selected_predict_series, target_valid\n",
    "                        #,dev_size=200 # dev_size - количество лучших скважин для разработки\n",
    "                        #,revenue_per_barr=450_000\n",
    "                        #,total_costs=10_000_000\n",
    "                         ):\n",
    "    idx = selected_predict_series.nlargest(200).index\n",
    "    selected_target = target_valid[idx]\n",
    "    selected_wells_margin = (selected_target.sum()*revenue_per_barr)-total_costs\n",
    "    return selected_wells_margin"
   ]
  },
  {
   "cell_type": "markdown",
   "metadata": {},
   "source": [
    "Напишем функцию для поиска среднего значения прибыли и доверительного интервала по бутстрапированной выборке.\n",
    "\n",
    "Поскольку финансовый результат (прибыль/убыток) мы можем посчитать только в целом по региону как \"общий доход с 200 выбранных скважин -(минус) бюджет(10млрд)\",\n",
    "\n",
    "поэтому риск убытков будем считать как отношение количества раз, когда, используя бутсрап, на подвыборке мы получили отрицательный фин.рез. к количеству сделанных подвыборок (1000)"
   ]
  },
  {
   "cell_type": "code",
   "execution_count": 24,
   "metadata": {},
   "outputs": [],
   "source": [
    "state = RandomState(12345)\n",
    "def bootsrap_pred(predicted_target_series, target_valid\n",
    "                #,selection_size=500 # selection_size - кол-во точек для исследования\n",
    "                                                # predicted - массив model.predict(features_valid)\n",
    "                #,revenue_per_barr=450_000\n",
    "                #,total_costs=10_000_000\n",
    "                 ): \n",
    "                                                 \n",
    "    bootstraped_margin = [] # значение прибыли по региону для бутрапированной выборки\n",
    "    #predicted = pd.Series(predicted)\n",
    "    for i in range(1000):\n",
    "        # берем подвыборку из predicted\n",
    "        subsample = predicted_target_series.sample(n=500,\n",
    "                                     replace=True, random_state=state)\n",
    "        # считаем фин.результат по региону для подвыборки\n",
    "        swm = selected_wells_margin(subsample, target_valid)\n",
    "        bootstraped_margin.append(swm)\n",
    "    bootstraped_margin = pd.Series(bootstraped_margin)\n",
    "    mean_margin = bootstraped_margin.mean() # среднее значение фин. результата\n",
    "    lower = bootstraped_margin.quantile(0.025) # нижняя граница для 95% дов.интервала\n",
    "    upper = bootstraped_margin.quantile(0.975) # верхняя граница для 95% дов.интервала\n",
    "    loss_proba = ((bootstraped_margin<0).sum())/1000 # вероятность убытков\n",
    "    return mean_margin, lower, upper, loss_proba, bootstraped_margin"
   ]
  },
  {
   "cell_type": "markdown",
   "metadata": {},
   "source": [
    "Посмотрим, что получается по регионам. Значения прибыли переведем в миллионы"
   ]
  },
  {
   "cell_type": "code",
   "execution_count": 26,
   "metadata": {
    "scrolled": true
   },
   "outputs": [
    {
     "name": "stdout",
     "output_type": "stream",
     "text": [
      "Средняя прибыль: -314.302  // 2,5% квантиль: -835.565  // 97,5% квантиль: 214.368  // вероятность убытков: 0.866\n"
     ]
    }
   ],
   "source": [
    "mean_margin_0, lower_0, upper_0, loss_proba_0, marg_0 = bootsrap_pred(pred_0, target_valid_0)\n",
    "print('Средняя прибыль:',round(mean_margin_0/1_000_000,3),\n",
    "      ' // 2,5% квантиль:',round(lower_0/1_000_000,3),\n",
    "      ' // 97,5% квантиль:',round(upper_0/1_000_000,3),\n",
    "      ' // вероятность убытков:',loss_proba_0)"
   ]
  },
  {
   "cell_type": "code",
   "execution_count": 27,
   "metadata": {},
   "outputs": [
    {
     "name": "stdout",
     "output_type": "stream",
     "text": [
      "Средняя прибыль: 458.77  // 2,5% квантиль: 76.62  // 97,5% квантиль: 862.952  // вероятность убытков: 0.007\n"
     ]
    }
   ],
   "source": [
    "mean_margin_1, lower_1, upper_1, loss_proba_1, marg_1 = bootsrap_pred(pred_1, target_valid_1)\n",
    "print('Средняя прибыль:',round(mean_margin_1/1_000_000,3),\n",
    "      ' // 2,5% квантиль:',round(lower_1/1_000_000,3),\n",
    "      ' // 97,5% квантиль:',round(upper_1/1_000_000,3),\n",
    "      ' // вероятность убытков:',loss_proba_1)"
   ]
  },
  {
   "cell_type": "code",
   "execution_count": 28,
   "metadata": {},
   "outputs": [
    {
     "name": "stdout",
     "output_type": "stream",
     "text": [
      "Средняя прибыль: 392.47  // 2,5% квантиль: -111.839  // 97,5% квантиль: 930.083  // вероятность убытков: 0.064\n"
     ]
    }
   ],
   "source": [
    "mean_margin_2, lower_2, upper_2, loss_proba_2, marg_2 = bootsrap_pred(pred_2, target_valid_2)\n",
    "print('Средняя прибыль:',round(mean_margin_2/1_000_000,3),\n",
    "      ' // 2,5% квантиль:',round(lower_2/1_000_000,3),\n",
    "      ' // 97,5% квантиль:',round(upper_2/1_000_000,3),\n",
    "      ' // вероятность убытков:',loss_proba_2)"
   ]
  },
  {
   "cell_type": "code",
   "execution_count": 29,
   "metadata": {},
   "outputs": [
    {
     "data": {
      "image/png": "[encoded data removed]",
      "text/plain": [
       "<Figure size 432x288 with 1 Axes>"
      ]
     },
     "metadata": {
      "needs_background": "light"
     },
     "output_type": "display_data"
    }
   ],
   "source": [
    "margin = pd.DataFrame({'region_0':marg_0,'region_1':marg_1,'region_2':marg_2})\n",
    "margin.boxplot()\n",
    "margin.boxplot().set_title('Диаграмы размаха');"
   ]
  },
  {
   "cell_type": "code",
   "execution_count": 30,
   "metadata": {},
   "outputs": [
    {
     "data": {
      "image/png": "[encoded data removed]",
      "text/plain": [
       "<Figure size 864x288 with 3 Axes>"
      ]
     },
     "metadata": {
      "needs_background": "light"
     },
     "output_type": "display_data"
    }
   ],
   "source": [
    "figure, axis = plt.subplots(1, 3, figsize=(12,4))\n",
    "for i in range(3):\n",
    "    reg, low, upp = 'region_'+str(i), 'lower_'+str(i), 'upper_'+str(i)\n",
    "    axis[i].hist(margin[reg],bins=40)\n",
    "    axis[i].set_title(reg)\n",
    "    #axis[i].axis([margin[reg].min(),margin[reg].max(),0,100])\n",
    "    #axis[i].axvline(x=low,color='g',label='2.5%')\n",
    "    #axis[i].axvline(x=upp,color='r',label='97.5%')\n",
    "    #axis[i].legend()\n",
    "plt.show();"
   ]
  },
  {
   "cell_type": "markdown",
   "metadata": {},
   "source": [
    "Не смог  воткнуть вертикальные линии кватилей на график - мое кунг-фу пока не такое сильное.. Что то посмотрел в сети и не шмог. Буду признателен, если подскажешь как это сделать."
   ]
  },
  {
   "cell_type": "markdown",
   "metadata": {},
   "source": [
    "Видим, что вероятность убытков при разработке 200 лучших скважин, определенных на основании предсказаний нашей модели, имеет значение менее 2,5% только в 1-м регионе. При этом для первого региона значения средней прибыли и медианы (как видно из ящика с усами) выше других регионов.\n",
    "Т.о. наиболее привлекательным для разработки является 1-й регион (geo_data_1)"
   ]
  }
 ],
 "metadata": {
  "ExecuteTimeLog": [
   {
    "duration": 1651,
    "start_time": "2023-03-07T11:24:34.490Z"
   },
   {
    "duration": 816,
    "start_time": "2023-03-07T11:24:36.143Z"
   },
   {
    "duration": 26,
    "start_time": "2023-03-07T11:24:36.961Z"
   },
   {
    "duration": 20,
    "start_time": "2023-03-07T11:24:36.988Z"
   },
   {
    "duration": 21,
    "start_time": "2023-03-07T11:24:37.010Z"
   },
   {
    "duration": 1324,
    "start_time": "2023-03-07T11:24:37.032Z"
   },
   {
    "duration": 13,
    "start_time": "2023-03-07T11:24:38.357Z"
   },
   {
    "duration": 26,
    "start_time": "2023-03-07T11:24:38.372Z"
   },
   {
    "duration": 14,
    "start_time": "2023-03-07T11:24:38.399Z"
   },
   {
    "duration": 17,
    "start_time": "2023-03-07T11:24:38.416Z"
   },
   {
    "duration": 60,
    "start_time": "2023-03-07T11:24:38.435Z"
   },
   {
    "duration": 2,
    "start_time": "2023-03-07T11:24:38.497Z"
   },
   {
    "duration": 43,
    "start_time": "2023-03-07T11:24:38.501Z"
   },
   {
    "duration": 944,
    "start_time": "2023-03-07T11:24:38.547Z"
   },
   {
    "duration": 4,
    "start_time": "2023-03-07T11:24:39.493Z"
   },
   {
    "duration": 5,
    "start_time": "2023-03-07T11:24:39.499Z"
   },
   {
    "duration": 189,
    "start_time": "2023-03-07T11:24:39.506Z"
   },
   {
    "duration": 95,
    "start_time": "2023-03-07T11:24:39.697Z"
   },
   {
    "duration": 96,
    "start_time": "2023-03-07T11:24:39.795Z"
   },
   {
    "duration": 10,
    "start_time": "2023-03-07T11:24:39.893Z"
   },
   {
    "duration": 4,
    "start_time": "2023-03-07T11:24:47.094Z"
   },
   {
    "duration": 6,
    "start_time": "2023-03-07T11:24:50.826Z"
   },
   {
    "duration": 115,
    "start_time": "2023-03-07T11:24:56.874Z"
   },
   {
    "duration": 3,
    "start_time": "2023-03-07T11:25:11.323Z"
   },
   {
    "duration": 7,
    "start_time": "2023-03-07T11:25:17.573Z"
   },
   {
    "duration": 17,
    "start_time": "2023-03-07T11:25:22.680Z"
   },
   {
    "duration": 3,
    "start_time": "2023-03-07T11:25:38.575Z"
   },
   {
    "duration": 394,
    "start_time": "2023-03-07T11:25:40.045Z"
   },
   {
    "duration": 23,
    "start_time": "2023-03-07T11:25:42.042Z"
   },
   {
    "duration": 23,
    "start_time": "2023-03-07T11:25:43.226Z"
   },
   {
    "duration": 22,
    "start_time": "2023-03-07T11:25:44.389Z"
   },
   {
    "duration": 1337,
    "start_time": "2023-03-07T11:25:46.726Z"
   },
   {
    "duration": 12,
    "start_time": "2023-03-07T11:25:51.680Z"
   },
   {
    "duration": 16,
    "start_time": "2023-03-07T11:25:55.955Z"
   },
   {
    "duration": 15,
    "start_time": "2023-03-07T11:25:57.926Z"
   },
   {
    "duration": 14,
    "start_time": "2023-03-07T11:25:59.992Z"
   },
   {
    "duration": 30,
    "start_time": "2023-03-07T11:26:04.240Z"
   },
   {
    "duration": 2,
    "start_time": "2023-03-07T11:26:05.323Z"
   },
   {
    "duration": 51,
    "start_time": "2023-03-07T11:26:06.391Z"
   },
   {
    "duration": 927,
    "start_time": "2023-03-07T11:26:14.957Z"
   },
   {
    "duration": 3,
    "start_time": "2023-03-07T11:26:18.830Z"
   },
   {
    "duration": 3,
    "start_time": "2023-03-07T11:26:20.236Z"
   },
   {
    "duration": 113,
    "start_time": "2023-03-07T11:26:21.390Z"
   },
   {
    "duration": 6,
    "start_time": "2023-03-07T11:26:22.432Z"
   },
   {
    "duration": 4,
    "start_time": "2023-03-07T11:26:24.759Z"
   },
   {
    "duration": 5,
    "start_time": "2023-03-07T11:26:26.275Z"
   },
   {
    "duration": 4,
    "start_time": "2023-03-07T11:27:00.046Z"
   },
   {
    "duration": 6,
    "start_time": "2023-03-07T11:27:06.889Z"
   },
   {
    "duration": 14,
    "start_time": "2023-03-07T11:27:38.553Z"
   },
   {
    "duration": 3,
    "start_time": "2023-03-07T11:28:03.528Z"
   },
   {
    "duration": 5,
    "start_time": "2023-03-07T11:28:06.681Z"
   },
   {
    "duration": 13,
    "start_time": "2023-03-07T11:28:11.379Z"
   },
   {
    "duration": 5,
    "start_time": "2023-03-07T11:28:50.080Z"
   },
   {
    "duration": 25,
    "start_time": "2023-03-07T11:28:54.938Z"
   },
   {
    "duration": 1340,
    "start_time": "2023-03-08T11:20:36.283Z"
   },
   {
    "duration": 403,
    "start_time": "2023-03-08T11:20:37.625Z"
   },
   {
    "duration": 29,
    "start_time": "2023-03-08T11:20:38.030Z"
   },
   {
    "duration": 21,
    "start_time": "2023-03-08T11:20:38.061Z"
   },
   {
    "duration": 28,
    "start_time": "2023-03-08T11:20:38.083Z"
   },
   {
    "duration": 1646,
    "start_time": "2023-03-08T11:20:38.112Z"
   },
   {
    "duration": 13,
    "start_time": "2023-03-08T11:20:39.759Z"
   },
   {
    "duration": 17,
    "start_time": "2023-03-08T11:20:39.774Z"
   },
   {
    "duration": 17,
    "start_time": "2023-03-08T11:20:39.792Z"
   },
   {
    "duration": 42,
    "start_time": "2023-03-08T11:20:39.812Z"
   },
   {
    "duration": 33,
    "start_time": "2023-03-08T11:20:39.855Z"
   },
   {
    "duration": 25,
    "start_time": "2023-03-08T11:20:39.890Z"
   },
   {
    "duration": 55,
    "start_time": "2023-03-08T11:20:39.917Z"
   },
   {
    "duration": 38,
    "start_time": "2023-03-08T11:20:39.974Z"
   },
   {
    "duration": 2,
    "start_time": "2023-03-08T11:20:40.014Z"
   },
   {
    "duration": 10,
    "start_time": "2023-03-08T11:20:40.018Z"
   },
   {
    "duration": 325,
    "start_time": "2023-03-08T11:20:40.030Z"
   },
   {
    "duration": 1147,
    "start_time": "2023-03-08T11:20:40.357Z"
   },
   {
    "duration": 8,
    "start_time": "2023-03-08T11:20:41.506Z"
   },
   {
    "duration": 6,
    "start_time": "2023-03-08T11:20:41.515Z"
   },
   {
    "duration": 19,
    "start_time": "2023-03-08T11:20:41.523Z"
   },
   {
    "duration": 17,
    "start_time": "2023-03-08T11:20:41.544Z"
   },
   {
    "duration": 4,
    "start_time": "2023-03-08T11:20:41.564Z"
   },
   {
    "duration": 5,
    "start_time": "2023-03-08T11:20:41.569Z"
   },
   {
    "duration": 126,
    "start_time": "2023-03-08T11:20:41.576Z"
   },
   {
    "duration": 0,
    "start_time": "2023-03-08T11:20:41.703Z"
   },
   {
    "duration": 0,
    "start_time": "2023-03-08T11:20:41.704Z"
   },
   {
    "duration": 0,
    "start_time": "2023-03-08T11:20:41.705Z"
   },
   {
    "duration": 0,
    "start_time": "2023-03-08T11:20:41.706Z"
   },
   {
    "duration": 1408,
    "start_time": "2023-03-08T11:24:17.850Z"
   },
   {
    "duration": 1397,
    "start_time": "2023-03-08T11:24:33.248Z"
   },
   {
    "duration": 389,
    "start_time": "2023-03-08T11:24:34.647Z"
   },
   {
    "duration": 38,
    "start_time": "2023-03-08T11:24:35.037Z"
   },
   {
    "duration": 25,
    "start_time": "2023-03-08T11:24:35.078Z"
   },
   {
    "duration": 22,
    "start_time": "2023-03-08T11:24:35.105Z"
   },
   {
    "duration": 1617,
    "start_time": "2023-03-08T11:24:35.129Z"
   },
   {
    "duration": 18,
    "start_time": "2023-03-08T11:24:36.748Z"
   },
   {
    "duration": 16,
    "start_time": "2023-03-08T11:24:36.768Z"
   },
   {
    "duration": 15,
    "start_time": "2023-03-08T11:24:36.786Z"
   },
   {
    "duration": 14,
    "start_time": "2023-03-08T11:24:36.803Z"
   },
   {
    "duration": 67,
    "start_time": "2023-03-08T11:24:36.819Z"
   },
   {
    "duration": 28,
    "start_time": "2023-03-08T11:24:36.887Z"
   },
   {
    "duration": 59,
    "start_time": "2023-03-08T11:24:36.916Z"
   },
   {
    "duration": 39,
    "start_time": "2023-03-08T11:24:36.976Z"
   },
   {
    "duration": 3,
    "start_time": "2023-03-08T11:24:37.016Z"
   },
   {
    "duration": 6,
    "start_time": "2023-03-08T11:24:37.020Z"
   },
   {
    "duration": 328,
    "start_time": "2023-03-08T11:24:37.027Z"
   },
   {
    "duration": 1092,
    "start_time": "2023-03-08T11:24:37.358Z"
   },
   {
    "duration": 7,
    "start_time": "2023-03-08T11:24:38.453Z"
   },
   {
    "duration": 3,
    "start_time": "2023-03-08T11:24:38.462Z"
   },
   {
    "duration": 6,
    "start_time": "2023-03-08T11:24:38.467Z"
   },
   {
    "duration": 12,
    "start_time": "2023-03-08T11:24:38.475Z"
   },
   {
    "duration": 4,
    "start_time": "2023-03-08T11:24:38.489Z"
   },
   {
    "duration": 7,
    "start_time": "2023-03-08T11:24:38.494Z"
   },
   {
    "duration": 1151,
    "start_time": "2023-03-08T11:24:38.502Z"
   },
   {
    "duration": 113,
    "start_time": "2023-03-08T11:24:39.654Z"
   },
   {
    "duration": 0,
    "start_time": "2023-03-08T11:24:39.768Z"
   },
   {
    "duration": 0,
    "start_time": "2023-03-08T11:24:39.770Z"
   },
   {
    "duration": 0,
    "start_time": "2023-03-08T11:24:39.771Z"
   },
   {
    "duration": 1442,
    "start_time": "2023-03-08T11:24:56.450Z"
   },
   {
    "duration": 431,
    "start_time": "2023-03-08T11:24:57.894Z"
   },
   {
    "duration": 38,
    "start_time": "2023-03-08T11:24:58.326Z"
   },
   {
    "duration": 23,
    "start_time": "2023-03-08T11:24:58.365Z"
   },
   {
    "duration": 22,
    "start_time": "2023-03-08T11:24:58.389Z"
   },
   {
    "duration": 1676,
    "start_time": "2023-03-08T11:24:58.412Z"
   },
   {
    "duration": 15,
    "start_time": "2023-03-08T11:25:00.090Z"
   },
   {
    "duration": 32,
    "start_time": "2023-03-08T11:25:00.107Z"
   },
   {
    "duration": 46,
    "start_time": "2023-03-08T11:25:00.141Z"
   },
   {
    "duration": 47,
    "start_time": "2023-03-08T11:25:00.189Z"
   },
   {
    "duration": 56,
    "start_time": "2023-03-08T11:25:00.238Z"
   },
   {
    "duration": 31,
    "start_time": "2023-03-08T11:25:00.296Z"
   },
   {
    "duration": 68,
    "start_time": "2023-03-08T11:25:00.329Z"
   },
   {
    "duration": 69,
    "start_time": "2023-03-08T11:25:00.400Z"
   },
   {
    "duration": 8,
    "start_time": "2023-03-08T11:25:00.471Z"
   },
   {
    "duration": 39,
    "start_time": "2023-03-08T11:25:00.481Z"
   },
   {
    "duration": 249,
    "start_time": "2023-03-08T11:25:00.522Z"
   },
   {
    "duration": 1146,
    "start_time": "2023-03-08T11:25:00.772Z"
   },
   {
    "duration": 5,
    "start_time": "2023-03-08T11:25:01.920Z"
   },
   {
    "duration": 8,
    "start_time": "2023-03-08T11:25:01.927Z"
   },
   {
    "duration": 12,
    "start_time": "2023-03-08T11:25:01.936Z"
   },
   {
    "duration": 13,
    "start_time": "2023-03-08T11:25:01.962Z"
   },
   {
    "duration": 4,
    "start_time": "2023-03-08T11:25:01.976Z"
   },
   {
    "duration": 6,
    "start_time": "2023-03-08T11:25:01.981Z"
   },
   {
    "duration": 1231,
    "start_time": "2023-03-08T11:25:01.989Z"
   },
   {
    "duration": 1243,
    "start_time": "2023-03-08T11:25:03.222Z"
   },
   {
    "duration": 1128,
    "start_time": "2023-03-08T11:25:04.467Z"
   },
   {
    "duration": 286,
    "start_time": "2023-03-08T11:25:05.597Z"
   },
   {
    "duration": 456,
    "start_time": "2023-03-08T11:25:05.884Z"
   },
   {
    "duration": 9,
    "start_time": "2023-03-08T11:28:10.853Z"
   },
   {
    "duration": 1430,
    "start_time": "2023-03-08T11:30:35.823Z"
   },
   {
    "duration": 395,
    "start_time": "2023-03-08T11:30:37.255Z"
   },
   {
    "duration": 29,
    "start_time": "2023-03-08T11:30:37.653Z"
   },
   {
    "duration": 20,
    "start_time": "2023-03-08T11:30:37.685Z"
   },
   {
    "duration": 50,
    "start_time": "2023-03-08T11:30:37.707Z"
   },
   {
    "duration": 1631,
    "start_time": "2023-03-08T11:30:37.759Z"
   },
   {
    "duration": 15,
    "start_time": "2023-03-08T11:30:39.391Z"
   },
   {
    "duration": 19,
    "start_time": "2023-03-08T11:30:39.408Z"
   },
   {
    "duration": 35,
    "start_time": "2023-03-08T11:30:39.429Z"
   },
   {
    "duration": 15,
    "start_time": "2023-03-08T11:30:39.467Z"
   },
   {
    "duration": 38,
    "start_time": "2023-03-08T11:30:39.483Z"
   },
   {
    "duration": 51,
    "start_time": "2023-03-08T11:30:39.523Z"
   },
   {
    "duration": 36,
    "start_time": "2023-03-08T11:30:39.576Z"
   },
   {
    "duration": 58,
    "start_time": "2023-03-08T11:30:39.613Z"
   },
   {
    "duration": 2,
    "start_time": "2023-03-08T11:30:39.673Z"
   },
   {
    "duration": 10,
    "start_time": "2023-03-08T11:30:39.677Z"
   },
   {
    "duration": 273,
    "start_time": "2023-03-08T11:30:39.689Z"
   },
   {
    "duration": 1094,
    "start_time": "2023-03-08T11:30:40.054Z"
   },
   {
    "duration": 7,
    "start_time": "2023-03-08T11:30:41.153Z"
   },
   {
    "duration": 7,
    "start_time": "2023-03-08T11:30:41.162Z"
   },
   {
    "duration": 9,
    "start_time": "2023-03-08T11:30:41.171Z"
   },
   {
    "duration": 15,
    "start_time": "2023-03-08T11:30:41.182Z"
   },
   {
    "duration": 4,
    "start_time": "2023-03-08T11:30:41.199Z"
   },
   {
    "duration": 7,
    "start_time": "2023-03-08T11:30:41.205Z"
   },
   {
    "duration": 18,
    "start_time": "2023-03-08T11:30:41.214Z"
   },
   {
    "duration": 774,
    "start_time": "2023-03-08T11:30:41.255Z"
   },
   {
    "duration": 741,
    "start_time": "2023-03-08T11:30:42.030Z"
   },
   {
    "duration": 741,
    "start_time": "2023-03-08T11:30:42.774Z"
   },
   {
    "duration": 299,
    "start_time": "2023-03-08T11:30:43.517Z"
   },
   {
    "duration": 505,
    "start_time": "2023-03-08T11:30:43.818Z"
   }
  ],
  "kernelspec": {
   "display_name": "Python 3 (ipykernel)",
   "language": "python",
   "name": "python3"
  },
  "language_info": {
   "codemirror_mode": {
    "name": "ipython",
    "version": 3
   },
   "file_extension": ".py",
   "mimetype": "text/x-python",
   "name": "python",
   "nbconvert_exporter": "python",
   "pygments_lexer": "ipython3",
   "version": "3.10.9"
  },
  "toc": {
   "base_numbering": 1,
   "nav_menu": {},
   "number_sections": true,
   "sideBar": true,
   "skip_h1_title": true,
   "title_cell": "Table of Contents",
   "title_sidebar": "Contents",
   "toc_cell": false,
   "toc_position": {},
   "toc_section_display": true,
   "toc_window_display": false
  }
 },
 "nbformat": 4,
 "nbformat_minor": 2
}
