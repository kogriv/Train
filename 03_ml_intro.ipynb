{
 "cells": [
  {
   "cell_type": "markdown",
   "metadata": {},
   "source": [
    "# Рекомендация тарифов"
   ]
  },
  {
   "cell_type": "markdown",
   "metadata": {},
   "source": [
    "В вашем распоряжении данные о поведении клиентов, которые уже поменяли тарифы. Нужно построить модель для задачи классификации, которая выберет подходящий тариф. Предобработка данных не понадобится — вы её уже сделали.\n",
    "\n",
    "Постройте модель с максимально большим значением *accuracy*. Чтобы сдать проект успешно, нужно довести долю правильных ответов по крайней мере до 0.75. Проверьте *accuracy* на тестовой выборке самостоятельно."
   ]
  },
  {
   "cell_type": "code",
   "execution_count": 190,
   "metadata": {},
   "outputs": [],
   "source": [
    "import warnings\n",
    "warnings.filterwarnings(\"ignore\")\n",
    "import time\n",
    "import pandas as pd\n",
    "import numpy as np\n",
    "import matplotlib.pyplot as plt\n",
    "from sklearn.tree import DecisionTreeClassifier\n",
    "from sklearn.ensemble import RandomForestClassifier\n",
    "from sklearn.linear_model import LogisticRegression\n",
    "from sklearn.model_selection import train_test_split\n",
    "from sklearn.metrics import accuracy_score\n",
    "# Импортирую библиотеку для отображения статус-бара\n",
    "import tqdm"
   ]
  },
  {
   "cell_type": "markdown",
   "metadata": {},
   "source": [
    "## Откройте и изучите файл"
   ]
  },
  {
   "cell_type": "code",
   "execution_count": 191,
   "metadata": {
    "scrolled": true
   },
   "outputs": [
    {
     "name": "stdout",
     "output_type": "stream",
     "text": [
      "<class 'pandas.core.frame.DataFrame'>\n",
      "RangeIndex: 3214 entries, 0 to 3213\n",
      "Data columns (total 5 columns):\n",
      " #   Column    Non-Null Count  Dtype  \n",
      "---  ------    --------------  -----  \n",
      " 0   calls     3214 non-null   float64\n",
      " 1   minutes   3214 non-null   float64\n",
      " 2   messages  3214 non-null   float64\n",
      " 3   mb_used   3214 non-null   float64\n",
      " 4   is_ultra  3214 non-null   int64  \n",
      "dtypes: float64(4), int64(1)\n",
      "memory usage: 125.7 KB\n"
     ]
    }
   ],
   "source": [
    "data = pd.read_csv('/datasets/users_behavior.csv')\n",
    "data.info()"
   ]
  },
  {
   "cell_type": "code",
   "execution_count": 192,
   "metadata": {},
   "outputs": [
    {
     "data": {
      "text/html": [
       "<div>\n",
       "<style scoped>\n",
       "    .dataframe tbody tr th:only-of-type {\n",
       "        vertical-align: middle;\n",
       "    }\n",
       "\n",
       "    .dataframe tbody tr th {\n",
       "        vertical-align: top;\n",
       "    }\n",
       "\n",
       "    .dataframe thead th {\n",
       "        text-align: right;\n",
       "    }\n",
       "</style>\n",
       "<table border=\"1\" class=\"dataframe\">\n",
       "  <thead>\n",
       "    <tr style=\"text-align: right;\">\n",
       "      <th></th>\n",
       "      <th>calls</th>\n",
       "      <th>minutes</th>\n",
       "      <th>messages</th>\n",
       "      <th>mb_used</th>\n",
       "      <th>is_ultra</th>\n",
       "    </tr>\n",
       "  </thead>\n",
       "  <tbody>\n",
       "    <tr>\n",
       "      <th>0</th>\n",
       "      <td>40.0</td>\n",
       "      <td>311.90</td>\n",
       "      <td>83.0</td>\n",
       "      <td>19915.42</td>\n",
       "      <td>0</td>\n",
       "    </tr>\n",
       "    <tr>\n",
       "      <th>1</th>\n",
       "      <td>85.0</td>\n",
       "      <td>516.75</td>\n",
       "      <td>56.0</td>\n",
       "      <td>22696.96</td>\n",
       "      <td>0</td>\n",
       "    </tr>\n",
       "    <tr>\n",
       "      <th>2</th>\n",
       "      <td>77.0</td>\n",
       "      <td>467.66</td>\n",
       "      <td>86.0</td>\n",
       "      <td>21060.45</td>\n",
       "      <td>0</td>\n",
       "    </tr>\n",
       "    <tr>\n",
       "      <th>3</th>\n",
       "      <td>106.0</td>\n",
       "      <td>745.53</td>\n",
       "      <td>81.0</td>\n",
       "      <td>8437.39</td>\n",
       "      <td>1</td>\n",
       "    </tr>\n",
       "    <tr>\n",
       "      <th>4</th>\n",
       "      <td>66.0</td>\n",
       "      <td>418.74</td>\n",
       "      <td>1.0</td>\n",
       "      <td>14502.75</td>\n",
       "      <td>0</td>\n",
       "    </tr>\n",
       "  </tbody>\n",
       "</table>\n",
       "</div>"
      ],
      "text/plain": [
       "   calls  minutes  messages   mb_used  is_ultra\n",
       "0   40.0   311.90      83.0  19915.42         0\n",
       "1   85.0   516.75      56.0  22696.96         0\n",
       "2   77.0   467.66      86.0  21060.45         0\n",
       "3  106.0   745.53      81.0   8437.39         1\n",
       "4   66.0   418.74       1.0  14502.75         0"
      ]
     },
     "execution_count": 192,
     "metadata": {},
     "output_type": "execute_result"
    }
   ],
   "source": [
    "data.head()"
   ]
  },
  {
   "cell_type": "markdown",
   "metadata": {},
   "source": [
    "Посмотрим распределения значений"
   ]
  },
  {
   "cell_type": "code",
   "execution_count": 193,
   "metadata": {},
   "outputs": [
    {
     "data": {
      "text/html": [
       "<div>\n",
       "<style scoped>\n",
       "    .dataframe tbody tr th:only-of-type {\n",
       "        vertical-align: middle;\n",
       "    }\n",
       "\n",
       "    .dataframe tbody tr th {\n",
       "        vertical-align: top;\n",
       "    }\n",
       "\n",
       "    .dataframe thead th {\n",
       "        text-align: right;\n",
       "    }\n",
       "</style>\n",
       "<table border=\"1\" class=\"dataframe\">\n",
       "  <thead>\n",
       "    <tr style=\"text-align: right;\">\n",
       "      <th></th>\n",
       "      <th>calls</th>\n",
       "      <th>minutes</th>\n",
       "      <th>messages</th>\n",
       "      <th>mb_used</th>\n",
       "      <th>is_ultra</th>\n",
       "    </tr>\n",
       "  </thead>\n",
       "  <tbody>\n",
       "    <tr>\n",
       "      <th>count</th>\n",
       "      <td>3214.000000</td>\n",
       "      <td>3214.000000</td>\n",
       "      <td>3214.000000</td>\n",
       "      <td>3214.000000</td>\n",
       "      <td>3214.000000</td>\n",
       "    </tr>\n",
       "    <tr>\n",
       "      <th>mean</th>\n",
       "      <td>63.038892</td>\n",
       "      <td>438.208787</td>\n",
       "      <td>38.281269</td>\n",
       "      <td>17207.673836</td>\n",
       "      <td>0.306472</td>\n",
       "    </tr>\n",
       "    <tr>\n",
       "      <th>std</th>\n",
       "      <td>33.236368</td>\n",
       "      <td>234.569872</td>\n",
       "      <td>36.148326</td>\n",
       "      <td>7570.968246</td>\n",
       "      <td>0.461100</td>\n",
       "    </tr>\n",
       "    <tr>\n",
       "      <th>min</th>\n",
       "      <td>0.000000</td>\n",
       "      <td>0.000000</td>\n",
       "      <td>0.000000</td>\n",
       "      <td>0.000000</td>\n",
       "      <td>0.000000</td>\n",
       "    </tr>\n",
       "    <tr>\n",
       "      <th>25%</th>\n",
       "      <td>40.000000</td>\n",
       "      <td>274.575000</td>\n",
       "      <td>9.000000</td>\n",
       "      <td>12491.902500</td>\n",
       "      <td>0.000000</td>\n",
       "    </tr>\n",
       "    <tr>\n",
       "      <th>50%</th>\n",
       "      <td>62.000000</td>\n",
       "      <td>430.600000</td>\n",
       "      <td>30.000000</td>\n",
       "      <td>16943.235000</td>\n",
       "      <td>0.000000</td>\n",
       "    </tr>\n",
       "    <tr>\n",
       "      <th>75%</th>\n",
       "      <td>82.000000</td>\n",
       "      <td>571.927500</td>\n",
       "      <td>57.000000</td>\n",
       "      <td>21424.700000</td>\n",
       "      <td>1.000000</td>\n",
       "    </tr>\n",
       "    <tr>\n",
       "      <th>max</th>\n",
       "      <td>244.000000</td>\n",
       "      <td>1632.060000</td>\n",
       "      <td>224.000000</td>\n",
       "      <td>49745.730000</td>\n",
       "      <td>1.000000</td>\n",
       "    </tr>\n",
       "  </tbody>\n",
       "</table>\n",
       "</div>"
      ],
      "text/plain": [
       "             calls      minutes     messages       mb_used     is_ultra\n",
       "count  3214.000000  3214.000000  3214.000000   3214.000000  3214.000000\n",
       "mean     63.038892   438.208787    38.281269  17207.673836     0.306472\n",
       "std      33.236368   234.569872    36.148326   7570.968246     0.461100\n",
       "min       0.000000     0.000000     0.000000      0.000000     0.000000\n",
       "25%      40.000000   274.575000     9.000000  12491.902500     0.000000\n",
       "50%      62.000000   430.600000    30.000000  16943.235000     0.000000\n",
       "75%      82.000000   571.927500    57.000000  21424.700000     1.000000\n",
       "max     244.000000  1632.060000   224.000000  49745.730000     1.000000"
      ]
     },
     "execution_count": 193,
     "metadata": {},
     "output_type": "execute_result"
    }
   ],
   "source": [
    "# запишем сводные данные в таблицу\n",
    "res_table = data.describe()\n",
    "res_table"
   ]
  },
  {
   "cell_type": "code",
   "execution_count": 194,
   "metadata": {},
   "outputs": [
    {
     "data": {
      "image/png": "[encoded data removed]",
      "text/plain": [
       "<Figure size 432x288 with 4 Axes>"
      ]
     },
     "metadata": {
      "needs_background": "light"
     },
     "output_type": "display_data"
    }
   ],
   "source": [
    "data.drop(['is_ultra'],axis=1).hist(bins=40);"
   ]
  },
  {
   "cell_type": "markdown",
   "metadata": {},
   "source": [
    "Видим, что около нуля сосредоточено большое количество значений.\n",
    "Отдельно посмотрим распределения значений в нижнем (1%) квантиле"
   ]
  },
  {
   "cell_type": "code",
   "execution_count": 195,
   "metadata": {},
   "outputs": [],
   "source": [
    "# функция для обрезки значений поля\n",
    "def cut(data,clmn,qmn,qmx): # qmn,qmx- нижний и верхний квантили\n",
    "    out = data[(data[clmn]<=data[clmn].\n",
    "   quantile(qmx)) & (data[clmn]>=data[clmn].\n",
    "   quantile(qmn))][clmn]\n",
    "    return out"
   ]
  },
  {
   "cell_type": "code",
   "execution_count": 196,
   "metadata": {},
   "outputs": [],
   "source": [
    "# запишем на память\n",
    "fit_list = ['calls','minutes','messages','mb_used']\n",
    "targ_list= ['is_ultra']\n",
    "clmn_list= fit_list+targ_list"
   ]
  },
  {
   "cell_type": "code",
   "execution_count": 197,
   "metadata": {},
   "outputs": [
    {
     "data": {
      "image/png": "[encoded data removed]",
      "text/plain": [
       "<Figure size 864x576 with 4 Axes>"
      ]
     },
     "metadata": {
      "needs_background": "light"
     },
     "output_type": "display_data"
    }
   ],
   "source": [
    "cutoff = 0.01\n",
    "figure, axis = plt.subplots(2, 2, figsize=(12,8))\n",
    "axis[0,0].hist(cut(data,'calls',0,cutoff))\n",
    "axis[0,0].set_title('calls')\n",
    "axis[0,1].hist(cut(data,'minutes',0,cutoff))\n",
    "axis[0,1].set_title('minutes')\n",
    "axis[1,0].hist(cut(data,'messages',0,cutoff))\n",
    "axis[1,0].set_title('messages')\n",
    "axis[1,1].hist(cut(data,'mb_used',0,cutoff))\n",
    "axis[1,1].set_title('mb_used')\n",
    "plt.show()"
   ]
  },
  {
   "cell_type": "markdown",
   "metadata": {},
   "source": [
    "Отдельно посмотрим данные в поле is_ultra"
   ]
  },
  {
   "cell_type": "code",
   "execution_count": 198,
   "metadata": {},
   "outputs": [
    {
     "data": {
      "text/plain": [
       "0    0.693528\n",
       "1    0.306472\n",
       "Name: is_ultra, dtype: float64"
      ]
     },
     "execution_count": 198,
     "metadata": {},
     "output_type": "execute_result"
    }
   ],
   "source": [
    "data['is_ultra'].value_counts(normalize=True)"
   ]
  },
  {
   "cell_type": "markdown",
   "metadata": {},
   "source": [
    "В поле is_ultra действительно содержится только два значения (0 - 69% и 1 - 31%)"
   ]
  },
  {
   "cell_type": "markdown",
   "metadata": {},
   "source": [
    "Посчитаем доли значений равных нулю для всех полей"
   ]
  },
  {
   "cell_type": "code",
   "execution_count": 199,
   "metadata": {},
   "outputs": [
    {
     "data": {
      "text/html": [
       "<div>\n",
       "<style scoped>\n",
       "    .dataframe tbody tr th:only-of-type {\n",
       "        vertical-align: middle;\n",
       "    }\n",
       "\n",
       "    .dataframe tbody tr th {\n",
       "        vertical-align: top;\n",
       "    }\n",
       "\n",
       "    .dataframe thead th {\n",
       "        text-align: right;\n",
       "    }\n",
       "</style>\n",
       "<table border=\"1\" class=\"dataframe\">\n",
       "  <thead>\n",
       "    <tr style=\"text-align: right;\">\n",
       "      <th></th>\n",
       "      <th>calls</th>\n",
       "      <th>minutes</th>\n",
       "      <th>messages</th>\n",
       "      <th>mb_used</th>\n",
       "      <th>is_ultra</th>\n",
       "    </tr>\n",
       "  </thead>\n",
       "  <tbody>\n",
       "    <tr>\n",
       "      <th>count</th>\n",
       "      <td>3214.000000</td>\n",
       "      <td>3214.000000</td>\n",
       "      <td>3214.000000</td>\n",
       "      <td>3214.000000</td>\n",
       "      <td>3214.000000</td>\n",
       "    </tr>\n",
       "    <tr>\n",
       "      <th>mean</th>\n",
       "      <td>63.038892</td>\n",
       "      <td>438.208787</td>\n",
       "      <td>38.281269</td>\n",
       "      <td>17207.673836</td>\n",
       "      <td>0.306472</td>\n",
       "    </tr>\n",
       "    <tr>\n",
       "      <th>std</th>\n",
       "      <td>33.236368</td>\n",
       "      <td>234.569872</td>\n",
       "      <td>36.148326</td>\n",
       "      <td>7570.968246</td>\n",
       "      <td>0.461100</td>\n",
       "    </tr>\n",
       "    <tr>\n",
       "      <th>min</th>\n",
       "      <td>0.000000</td>\n",
       "      <td>0.000000</td>\n",
       "      <td>0.000000</td>\n",
       "      <td>0.000000</td>\n",
       "      <td>0.000000</td>\n",
       "    </tr>\n",
       "    <tr>\n",
       "      <th>25%</th>\n",
       "      <td>40.000000</td>\n",
       "      <td>274.575000</td>\n",
       "      <td>9.000000</td>\n",
       "      <td>12491.902500</td>\n",
       "      <td>0.000000</td>\n",
       "    </tr>\n",
       "    <tr>\n",
       "      <th>50%</th>\n",
       "      <td>62.000000</td>\n",
       "      <td>430.600000</td>\n",
       "      <td>30.000000</td>\n",
       "      <td>16943.235000</td>\n",
       "      <td>0.000000</td>\n",
       "    </tr>\n",
       "    <tr>\n",
       "      <th>75%</th>\n",
       "      <td>82.000000</td>\n",
       "      <td>571.927500</td>\n",
       "      <td>57.000000</td>\n",
       "      <td>21424.700000</td>\n",
       "      <td>1.000000</td>\n",
       "    </tr>\n",
       "    <tr>\n",
       "      <th>max</th>\n",
       "      <td>244.000000</td>\n",
       "      <td>1632.060000</td>\n",
       "      <td>224.000000</td>\n",
       "      <td>49745.730000</td>\n",
       "      <td>1.000000</td>\n",
       "    </tr>\n",
       "    <tr>\n",
       "      <th>zerro_count</th>\n",
       "      <td>0.012446</td>\n",
       "      <td>0.012446</td>\n",
       "      <td>0.154636</td>\n",
       "      <td>0.003423</td>\n",
       "      <td>0.693528</td>\n",
       "    </tr>\n",
       "  </tbody>\n",
       "</table>\n",
       "</div>"
      ],
      "text/plain": [
       "                   calls      minutes     messages       mb_used     is_ultra\n",
       "count        3214.000000  3214.000000  3214.000000   3214.000000  3214.000000\n",
       "mean           63.038892   438.208787    38.281269  17207.673836     0.306472\n",
       "std            33.236368   234.569872    36.148326   7570.968246     0.461100\n",
       "min             0.000000     0.000000     0.000000      0.000000     0.000000\n",
       "25%            40.000000   274.575000     9.000000  12491.902500     0.000000\n",
       "50%            62.000000   430.600000    30.000000  16943.235000     0.000000\n",
       "75%            82.000000   571.927500    57.000000  21424.700000     1.000000\n",
       "max           244.000000  1632.060000   224.000000  49745.730000     1.000000\n",
       "zerro_count     0.012446     0.012446     0.154636      0.003423     0.693528"
      ]
     },
     "execution_count": 199,
     "metadata": {},
     "output_type": "execute_result"
    }
   ],
   "source": [
    "for clmn in clmn_list:\n",
    "    res_table.loc['zerro_count',clmn]=data[data[clmn]==0][clmn].count()/len(data)\n",
    "res_table"
   ]
  },
  {
   "cell_type": "markdown",
   "metadata": {},
   "source": [
    "Видим, что поле \"messages\" действительно сосредотачивает в нуле значительную долю (15,5%) значений. А calls и minutes всего лишь 1,2%"
   ]
  },
  {
   "cell_type": "markdown",
   "metadata": {},
   "source": [
    "Также посмотрим сводные таблицы отдельно для двух тарифов"
   ]
  },
  {
   "cell_type": "code",
   "execution_count": 200,
   "metadata": {},
   "outputs": [
    {
     "data": {
      "text/html": [
       "<div>\n",
       "<style scoped>\n",
       "    .dataframe tbody tr th:only-of-type {\n",
       "        vertical-align: middle;\n",
       "    }\n",
       "\n",
       "    .dataframe tbody tr th {\n",
       "        vertical-align: top;\n",
       "    }\n",
       "\n",
       "    .dataframe thead th {\n",
       "        text-align: right;\n",
       "    }\n",
       "</style>\n",
       "<table border=\"1\" class=\"dataframe\">\n",
       "  <thead>\n",
       "    <tr style=\"text-align: right;\">\n",
       "      <th></th>\n",
       "      <th>calls</th>\n",
       "      <th>minutes</th>\n",
       "      <th>messages</th>\n",
       "      <th>mb_used</th>\n",
       "      <th>is_ultra</th>\n",
       "    </tr>\n",
       "  </thead>\n",
       "  <tbody>\n",
       "    <tr>\n",
       "      <th>count</th>\n",
       "      <td>985.000000</td>\n",
       "      <td>985.000000</td>\n",
       "      <td>985.000000</td>\n",
       "      <td>985.000000</td>\n",
       "      <td>985.0</td>\n",
       "    </tr>\n",
       "    <tr>\n",
       "      <th>mean</th>\n",
       "      <td>73.392893</td>\n",
       "      <td>511.224569</td>\n",
       "      <td>49.363452</td>\n",
       "      <td>19468.823228</td>\n",
       "      <td>1.0</td>\n",
       "    </tr>\n",
       "    <tr>\n",
       "      <th>std</th>\n",
       "      <td>43.916853</td>\n",
       "      <td>308.031100</td>\n",
       "      <td>47.804457</td>\n",
       "      <td>10087.178654</td>\n",
       "      <td>0.0</td>\n",
       "    </tr>\n",
       "    <tr>\n",
       "      <th>min</th>\n",
       "      <td>0.000000</td>\n",
       "      <td>0.000000</td>\n",
       "      <td>0.000000</td>\n",
       "      <td>0.000000</td>\n",
       "      <td>1.0</td>\n",
       "    </tr>\n",
       "    <tr>\n",
       "      <th>25%</th>\n",
       "      <td>41.000000</td>\n",
       "      <td>276.030000</td>\n",
       "      <td>6.000000</td>\n",
       "      <td>11770.280000</td>\n",
       "      <td>1.0</td>\n",
       "    </tr>\n",
       "    <tr>\n",
       "      <th>50%</th>\n",
       "      <td>74.000000</td>\n",
       "      <td>502.550000</td>\n",
       "      <td>38.000000</td>\n",
       "      <td>19308.010000</td>\n",
       "      <td>1.0</td>\n",
       "    </tr>\n",
       "    <tr>\n",
       "      <th>75%</th>\n",
       "      <td>104.000000</td>\n",
       "      <td>730.050000</td>\n",
       "      <td>79.000000</td>\n",
       "      <td>26837.720000</td>\n",
       "      <td>1.0</td>\n",
       "    </tr>\n",
       "    <tr>\n",
       "      <th>max</th>\n",
       "      <td>244.000000</td>\n",
       "      <td>1632.060000</td>\n",
       "      <td>224.000000</td>\n",
       "      <td>49745.730000</td>\n",
       "      <td>1.0</td>\n",
       "    </tr>\n",
       "    <tr>\n",
       "      <th>zerro_count</th>\n",
       "      <td>0.010579</td>\n",
       "      <td>0.010579</td>\n",
       "      <td>0.059116</td>\n",
       "      <td>0.003111</td>\n",
       "      <td>0.0</td>\n",
       "    </tr>\n",
       "  </tbody>\n",
       "</table>\n",
       "</div>"
      ],
      "text/plain": [
       "                  calls      minutes    messages       mb_used  is_ultra\n",
       "count        985.000000   985.000000  985.000000    985.000000     985.0\n",
       "mean          73.392893   511.224569   49.363452  19468.823228       1.0\n",
       "std           43.916853   308.031100   47.804457  10087.178654       0.0\n",
       "min            0.000000     0.000000    0.000000      0.000000       1.0\n",
       "25%           41.000000   276.030000    6.000000  11770.280000       1.0\n",
       "50%           74.000000   502.550000   38.000000  19308.010000       1.0\n",
       "75%          104.000000   730.050000   79.000000  26837.720000       1.0\n",
       "max          244.000000  1632.060000  224.000000  49745.730000       1.0\n",
       "zerro_count    0.010579     0.010579    0.059116      0.003111       0.0"
      ]
     },
     "execution_count": 200,
     "metadata": {},
     "output_type": "execute_result"
    }
   ],
   "source": [
    "# сводные метрики для тарифо УЛЬТРА\n",
    "res_table_ultra = data[data['is_ultra']==1].describe()\n",
    "for clmn in clmn_list:\n",
    "    res_table_ultra.loc['zerro_count',clmn]=data[\n",
    "                        (data[clmn]==0) & data['is_ultra']==1][clmn].count()/len(data)\n",
    "res_table_ultra"
   ]
  },
  {
   "cell_type": "code",
   "execution_count": 201,
   "metadata": {},
   "outputs": [
    {
     "data": {
      "text/html": [
       "<div>\n",
       "<style scoped>\n",
       "    .dataframe tbody tr th:only-of-type {\n",
       "        vertical-align: middle;\n",
       "    }\n",
       "\n",
       "    .dataframe tbody tr th {\n",
       "        vertical-align: top;\n",
       "    }\n",
       "\n",
       "    .dataframe thead th {\n",
       "        text-align: right;\n",
       "    }\n",
       "</style>\n",
       "<table border=\"1\" class=\"dataframe\">\n",
       "  <thead>\n",
       "    <tr style=\"text-align: right;\">\n",
       "      <th></th>\n",
       "      <th>calls</th>\n",
       "      <th>minutes</th>\n",
       "      <th>messages</th>\n",
       "      <th>mb_used</th>\n",
       "      <th>is_ultra</th>\n",
       "    </tr>\n",
       "  </thead>\n",
       "  <tbody>\n",
       "    <tr>\n",
       "      <th>count</th>\n",
       "      <td>2229.000000</td>\n",
       "      <td>2229.000000</td>\n",
       "      <td>2229.000000</td>\n",
       "      <td>2229.000000</td>\n",
       "      <td>2229.0</td>\n",
       "    </tr>\n",
       "    <tr>\n",
       "      <th>mean</th>\n",
       "      <td>58.463437</td>\n",
       "      <td>405.942952</td>\n",
       "      <td>33.384029</td>\n",
       "      <td>16208.466949</td>\n",
       "      <td>0.0</td>\n",
       "    </tr>\n",
       "    <tr>\n",
       "      <th>std</th>\n",
       "      <td>25.939858</td>\n",
       "      <td>184.512604</td>\n",
       "      <td>28.227876</td>\n",
       "      <td>5870.498853</td>\n",
       "      <td>0.0</td>\n",
       "    </tr>\n",
       "    <tr>\n",
       "      <th>min</th>\n",
       "      <td>0.000000</td>\n",
       "      <td>0.000000</td>\n",
       "      <td>0.000000</td>\n",
       "      <td>0.000000</td>\n",
       "      <td>0.0</td>\n",
       "    </tr>\n",
       "    <tr>\n",
       "      <th>25%</th>\n",
       "      <td>40.000000</td>\n",
       "      <td>274.230000</td>\n",
       "      <td>10.000000</td>\n",
       "      <td>12643.050000</td>\n",
       "      <td>0.0</td>\n",
       "    </tr>\n",
       "    <tr>\n",
       "      <th>50%</th>\n",
       "      <td>60.000000</td>\n",
       "      <td>410.560000</td>\n",
       "      <td>28.000000</td>\n",
       "      <td>16506.930000</td>\n",
       "      <td>0.0</td>\n",
       "    </tr>\n",
       "    <tr>\n",
       "      <th>75%</th>\n",
       "      <td>76.000000</td>\n",
       "      <td>529.510000</td>\n",
       "      <td>51.000000</td>\n",
       "      <td>20043.060000</td>\n",
       "      <td>0.0</td>\n",
       "    </tr>\n",
       "    <tr>\n",
       "      <th>max</th>\n",
       "      <td>198.000000</td>\n",
       "      <td>1390.220000</td>\n",
       "      <td>143.000000</td>\n",
       "      <td>38552.620000</td>\n",
       "      <td>0.0</td>\n",
       "    </tr>\n",
       "    <tr>\n",
       "      <th>zerro_count</th>\n",
       "      <td>0.989421</td>\n",
       "      <td>0.989421</td>\n",
       "      <td>0.940884</td>\n",
       "      <td>0.996889</td>\n",
       "      <td>1.0</td>\n",
       "    </tr>\n",
       "  </tbody>\n",
       "</table>\n",
       "</div>"
      ],
      "text/plain": [
       "                   calls      minutes     messages       mb_used  is_ultra\n",
       "count        2229.000000  2229.000000  2229.000000   2229.000000    2229.0\n",
       "mean           58.463437   405.942952    33.384029  16208.466949       0.0\n",
       "std            25.939858   184.512604    28.227876   5870.498853       0.0\n",
       "min             0.000000     0.000000     0.000000      0.000000       0.0\n",
       "25%            40.000000   274.230000    10.000000  12643.050000       0.0\n",
       "50%            60.000000   410.560000    28.000000  16506.930000       0.0\n",
       "75%            76.000000   529.510000    51.000000  20043.060000       0.0\n",
       "max           198.000000  1390.220000   143.000000  38552.620000       0.0\n",
       "zerro_count     0.989421     0.989421     0.940884      0.996889       1.0"
      ]
     },
     "execution_count": 201,
     "metadata": {},
     "output_type": "execute_result"
    }
   ],
   "source": [
    "# Сводные метрики для тарифа СМАРТ\n",
    "res_table_smart = data[data['is_ultra']==0].describe()\n",
    "for clmn in clmn_list:\n",
    "    res_table_smart.loc['zerro_count',clmn]=data[\n",
    "                        (data[clmn]==0) & data['is_ultra']==0][clmn].count()/len(data)\n",
    "res_table_smart"
   ]
  },
  {
   "cell_type": "markdown",
   "metadata": {},
   "source": [
    "Видим, что практически все нулевые значения - на СМАРТе. Пользователи Ультры почти всегда \"выбирают\" оплаченное."
   ]
  },
  {
   "cell_type": "markdown",
   "metadata": {},
   "source": [
    "Также вполне ожидаемое превышение значений в тарифе ультра. Для наглядности стравним метрики"
   ]
  },
  {
   "cell_type": "code",
   "execution_count": 202,
   "metadata": {},
   "outputs": [
    {
     "data": {
      "text/html": [
       "<div>\n",
       "<style scoped>\n",
       "    .dataframe tbody tr th:only-of-type {\n",
       "        vertical-align: middle;\n",
       "    }\n",
       "\n",
       "    .dataframe tbody tr th {\n",
       "        vertical-align: top;\n",
       "    }\n",
       "\n",
       "    .dataframe thead th {\n",
       "        text-align: right;\n",
       "    }\n",
       "</style>\n",
       "<table border=\"1\" class=\"dataframe\">\n",
       "  <thead>\n",
       "    <tr style=\"text-align: right;\">\n",
       "      <th></th>\n",
       "      <th>calls</th>\n",
       "      <th>minutes</th>\n",
       "      <th>messages</th>\n",
       "      <th>mb_used</th>\n",
       "      <th>is_ultra</th>\n",
       "    </tr>\n",
       "  </thead>\n",
       "  <tbody>\n",
       "    <tr>\n",
       "      <th>count</th>\n",
       "      <td>-0.558098</td>\n",
       "      <td>-0.558098</td>\n",
       "      <td>-0.558098</td>\n",
       "      <td>-0.558098</td>\n",
       "      <td>-0.558098</td>\n",
       "    </tr>\n",
       "    <tr>\n",
       "      <th>mean</th>\n",
       "      <td>0.255364</td>\n",
       "      <td>0.259351</td>\n",
       "      <td>0.478655</td>\n",
       "      <td>0.201151</td>\n",
       "      <td>0.000000</td>\n",
       "    </tr>\n",
       "    <tr>\n",
       "      <th>std</th>\n",
       "      <td>0.693026</td>\n",
       "      <td>0.669431</td>\n",
       "      <td>0.693519</td>\n",
       "      <td>0.718283</td>\n",
       "      <td>0.000000</td>\n",
       "    </tr>\n",
       "    <tr>\n",
       "      <th>min</th>\n",
       "      <td>0.000000</td>\n",
       "      <td>0.000000</td>\n",
       "      <td>0.000000</td>\n",
       "      <td>0.000000</td>\n",
       "      <td>0.000000</td>\n",
       "    </tr>\n",
       "    <tr>\n",
       "      <th>25%</th>\n",
       "      <td>0.025000</td>\n",
       "      <td>0.006564</td>\n",
       "      <td>-0.400000</td>\n",
       "      <td>-0.069032</td>\n",
       "      <td>0.000000</td>\n",
       "    </tr>\n",
       "    <tr>\n",
       "      <th>50%</th>\n",
       "      <td>0.233333</td>\n",
       "      <td>0.224060</td>\n",
       "      <td>0.357143</td>\n",
       "      <td>0.169691</td>\n",
       "      <td>0.000000</td>\n",
       "    </tr>\n",
       "    <tr>\n",
       "      <th>75%</th>\n",
       "      <td>0.368421</td>\n",
       "      <td>0.378728</td>\n",
       "      <td>0.549020</td>\n",
       "      <td>0.339003</td>\n",
       "      <td>0.000000</td>\n",
       "    </tr>\n",
       "    <tr>\n",
       "      <th>max</th>\n",
       "      <td>0.232323</td>\n",
       "      <td>0.173958</td>\n",
       "      <td>0.566434</td>\n",
       "      <td>0.290333</td>\n",
       "      <td>0.000000</td>\n",
       "    </tr>\n",
       "    <tr>\n",
       "      <th>zerro_count</th>\n",
       "      <td>-0.989308</td>\n",
       "      <td>-0.989308</td>\n",
       "      <td>-0.937169</td>\n",
       "      <td>-0.996879</td>\n",
       "      <td>-1.000000</td>\n",
       "    </tr>\n",
       "  </tbody>\n",
       "</table>\n",
       "</div>"
      ],
      "text/plain": [
       "                calls   minutes  messages   mb_used  is_ultra\n",
       "count       -0.558098 -0.558098 -0.558098 -0.558098 -0.558098\n",
       "mean         0.255364  0.259351  0.478655  0.201151  0.000000\n",
       "std          0.693026  0.669431  0.693519  0.718283  0.000000\n",
       "min          0.000000  0.000000  0.000000  0.000000  0.000000\n",
       "25%          0.025000  0.006564 -0.400000 -0.069032  0.000000\n",
       "50%          0.233333  0.224060  0.357143  0.169691  0.000000\n",
       "75%          0.368421  0.378728  0.549020  0.339003  0.000000\n",
       "max          0.232323  0.173958  0.566434  0.290333  0.000000\n",
       "zerro_count -0.989308 -0.989308 -0.937169 -0.996879 -1.000000"
      ]
     },
     "execution_count": 202,
     "metadata": {},
     "output_type": "execute_result"
    }
   ],
   "source": [
    "idx = res_table.index\n",
    "res_table_diff = pd.DataFrame(index = idx)\n",
    "for i in idx:\n",
    "    for clmn in clmn_list:\n",
    "        if res_table_smart.loc[i,clmn] != 0:\n",
    "            res_table_diff.loc[i,clmn]=((res_table_ultra.loc[i,clmn]-res_table_smart.loc[i,clmn])/\n",
    "                                        res_table_smart.loc[i,clmn])\n",
    "        else:\n",
    "            res_table_diff.loc[i,clmn] = 0\n",
    "res_table_diff"
   ]
  },
  {
   "cell_type": "markdown",
   "metadata": {},
   "source": [
    "Отметим значительное превышение стандартного отклонения Ультры над Смартом по всем полям. Также 75% квантиль поля messages Ультры значительно превышает Смарт, при обратной пропорции в 25% квартиле (на Ультре в целом больше пользутся сообщениями, при этом активные пользователи сообщений на Ультре более активны)"
   ]
  },
  {
   "cell_type": "markdown",
   "metadata": {},
   "source": [
    "Посмотрим также корреляцию признаков в целом по датасету и отдельно для двух тарифов"
   ]
  },
  {
   "cell_type": "code",
   "execution_count": 203,
   "metadata": {},
   "outputs": [
    {
     "data": {
      "text/html": [
       "<div>\n",
       "<style scoped>\n",
       "    .dataframe tbody tr th:only-of-type {\n",
       "        vertical-align: middle;\n",
       "    }\n",
       "\n",
       "    .dataframe tbody tr th {\n",
       "        vertical-align: top;\n",
       "    }\n",
       "\n",
       "    .dataframe thead th {\n",
       "        text-align: right;\n",
       "    }\n",
       "</style>\n",
       "<table border=\"1\" class=\"dataframe\">\n",
       "  <thead>\n",
       "    <tr style=\"text-align: right;\">\n",
       "      <th></th>\n",
       "      <th>calls</th>\n",
       "      <th>minutes</th>\n",
       "      <th>messages</th>\n",
       "      <th>mb_used</th>\n",
       "    </tr>\n",
       "  </thead>\n",
       "  <tbody>\n",
       "    <tr>\n",
       "      <th>calls</th>\n",
       "      <td>1.000000</td>\n",
       "      <td>0.982083</td>\n",
       "      <td>0.177385</td>\n",
       "      <td>0.286442</td>\n",
       "    </tr>\n",
       "    <tr>\n",
       "      <th>minutes</th>\n",
       "      <td>0.982083</td>\n",
       "      <td>1.000000</td>\n",
       "      <td>0.173110</td>\n",
       "      <td>0.280967</td>\n",
       "    </tr>\n",
       "    <tr>\n",
       "      <th>messages</th>\n",
       "      <td>0.177385</td>\n",
       "      <td>0.173110</td>\n",
       "      <td>1.000000</td>\n",
       "      <td>0.195721</td>\n",
       "    </tr>\n",
       "    <tr>\n",
       "      <th>mb_used</th>\n",
       "      <td>0.286442</td>\n",
       "      <td>0.280967</td>\n",
       "      <td>0.195721</td>\n",
       "      <td>1.000000</td>\n",
       "    </tr>\n",
       "  </tbody>\n",
       "</table>\n",
       "</div>"
      ],
      "text/plain": [
       "             calls   minutes  messages   mb_used\n",
       "calls     1.000000  0.982083  0.177385  0.286442\n",
       "minutes   0.982083  1.000000  0.173110  0.280967\n",
       "messages  0.177385  0.173110  1.000000  0.195721\n",
       "mb_used   0.286442  0.280967  0.195721  1.000000"
      ]
     },
     "execution_count": 203,
     "metadata": {},
     "output_type": "execute_result"
    }
   ],
   "source": [
    "data[fit_list].corr()"
   ]
  },
  {
   "cell_type": "code",
   "execution_count": 204,
   "metadata": {},
   "outputs": [
    {
     "data": {
      "text/html": [
       "<div>\n",
       "<style scoped>\n",
       "    .dataframe tbody tr th:only-of-type {\n",
       "        vertical-align: middle;\n",
       "    }\n",
       "\n",
       "    .dataframe tbody tr th {\n",
       "        vertical-align: top;\n",
       "    }\n",
       "\n",
       "    .dataframe thead th {\n",
       "        text-align: right;\n",
       "    }\n",
       "</style>\n",
       "<table border=\"1\" class=\"dataframe\">\n",
       "  <thead>\n",
       "    <tr style=\"text-align: right;\">\n",
       "      <th></th>\n",
       "      <th>calls</th>\n",
       "      <th>minutes</th>\n",
       "      <th>messages</th>\n",
       "      <th>mb_used</th>\n",
       "    </tr>\n",
       "  </thead>\n",
       "  <tbody>\n",
       "    <tr>\n",
       "      <th>calls</th>\n",
       "      <td>1.000000</td>\n",
       "      <td>0.988235</td>\n",
       "      <td>0.087691</td>\n",
       "      <td>0.176856</td>\n",
       "    </tr>\n",
       "    <tr>\n",
       "      <th>minutes</th>\n",
       "      <td>0.988235</td>\n",
       "      <td>1.000000</td>\n",
       "      <td>0.083000</td>\n",
       "      <td>0.178003</td>\n",
       "    </tr>\n",
       "    <tr>\n",
       "      <th>messages</th>\n",
       "      <td>0.087691</td>\n",
       "      <td>0.083000</td>\n",
       "      <td>1.000000</td>\n",
       "      <td>0.173710</td>\n",
       "    </tr>\n",
       "    <tr>\n",
       "      <th>mb_used</th>\n",
       "      <td>0.176856</td>\n",
       "      <td>0.178003</td>\n",
       "      <td>0.173710</td>\n",
       "      <td>1.000000</td>\n",
       "    </tr>\n",
       "  </tbody>\n",
       "</table>\n",
       "</div>"
      ],
      "text/plain": [
       "             calls   minutes  messages   mb_used\n",
       "calls     1.000000  0.988235  0.087691  0.176856\n",
       "minutes   0.988235  1.000000  0.083000  0.178003\n",
       "messages  0.087691  0.083000  1.000000  0.173710\n",
       "mb_used   0.176856  0.178003  0.173710  1.000000"
      ]
     },
     "execution_count": 204,
     "metadata": {},
     "output_type": "execute_result"
    }
   ],
   "source": [
    "data[data['is_ultra']==1][fit_list].corr()"
   ]
  },
  {
   "cell_type": "code",
   "execution_count": 205,
   "metadata": {},
   "outputs": [
    {
     "data": {
      "text/html": [
       "<div>\n",
       "<style scoped>\n",
       "    .dataframe tbody tr th:only-of-type {\n",
       "        vertical-align: middle;\n",
       "    }\n",
       "\n",
       "    .dataframe tbody tr th {\n",
       "        vertical-align: top;\n",
       "    }\n",
       "\n",
       "    .dataframe thead th {\n",
       "        text-align: right;\n",
       "    }\n",
       "</style>\n",
       "<table border=\"1\" class=\"dataframe\">\n",
       "  <thead>\n",
       "    <tr style=\"text-align: right;\">\n",
       "      <th></th>\n",
       "      <th>calls</th>\n",
       "      <th>minutes</th>\n",
       "      <th>messages</th>\n",
       "      <th>mb_used</th>\n",
       "    </tr>\n",
       "  </thead>\n",
       "  <tbody>\n",
       "    <tr>\n",
       "      <th>calls</th>\n",
       "      <td>1.000000</td>\n",
       "      <td>0.972654</td>\n",
       "      <td>0.208789</td>\n",
       "      <td>0.357349</td>\n",
       "    </tr>\n",
       "    <tr>\n",
       "      <th>minutes</th>\n",
       "      <td>0.972654</td>\n",
       "      <td>1.000000</td>\n",
       "      <td>0.203746</td>\n",
       "      <td>0.341639</td>\n",
       "    </tr>\n",
       "    <tr>\n",
       "      <th>messages</th>\n",
       "      <td>0.208789</td>\n",
       "      <td>0.203746</td>\n",
       "      <td>1.000000</td>\n",
       "      <td>0.146499</td>\n",
       "    </tr>\n",
       "    <tr>\n",
       "      <th>mb_used</th>\n",
       "      <td>0.357349</td>\n",
       "      <td>0.341639</td>\n",
       "      <td>0.146499</td>\n",
       "      <td>1.000000</td>\n",
       "    </tr>\n",
       "  </tbody>\n",
       "</table>\n",
       "</div>"
      ],
      "text/plain": [
       "             calls   minutes  messages   mb_used\n",
       "calls     1.000000  0.972654  0.208789  0.357349\n",
       "minutes   0.972654  1.000000  0.203746  0.341639\n",
       "messages  0.208789  0.203746  1.000000  0.146499\n",
       "mb_used   0.357349  0.341639  0.146499  1.000000"
      ]
     },
     "execution_count": 205,
     "metadata": {},
     "output_type": "execute_result"
    }
   ],
   "source": [
    "data[data['is_ultra']!=1][fit_list].corr()"
   ]
  },
  {
   "cell_type": "markdown",
   "metadata": {},
   "source": [
    "Имеем:\n",
    "- понятную почти 100% прямую зависимость между звонками и минутами (возможно, этот признак вообще имеет смысл исключить для МО?)\n",
    "- слабую прямую зависимость сообщений с другими полями (в Ультре заметно слабее)\n",
    "- условно среднюю прямую зависимость для Смарта между мегабайтами и звонками\n",
    "- условно слабую прямую зависимость для Ультры между мегабайтами и другими полями"
   ]
  },
  {
   "cell_type": "markdown",
   "metadata": {},
   "source": [
    "Последнее- посмотрим диаграммы рассеяния для признаков"
   ]
  },
  {
   "cell_type": "code",
   "execution_count": 206,
   "metadata": {},
   "outputs": [
    {
     "data": {
      "image/png": "[encoded data removed]",
      "text/plain": [
       "<Figure size 432x288 with 1 Axes>"
      ]
     },
     "metadata": {
      "needs_background": "light"
     },
     "output_type": "display_data"
    }
   ],
   "source": [
    "ax = data[data['is_ultra']==1].plot.scatter(x='minutes',y='messages',color=\"DarkBlue\", label=\"ULTRA\",alpha=0.2)\n",
    "data[data['is_ultra']==0].plot.scatter(x='minutes',y='messages',color=\"Red\", label=\"SMART\", alpha=0.2, ax=ax);"
   ]
  },
  {
   "cell_type": "code",
   "execution_count": 207,
   "metadata": {},
   "outputs": [
    {
     "data": {
      "image/png": "[encoded data removed]",
      "text/plain": [
       "<Figure size 432x288 with 1 Axes>"
      ]
     },
     "metadata": {
      "needs_background": "light"
     },
     "output_type": "display_data"
    }
   ],
   "source": [
    "ax = data[data['is_ultra']==1].plot.scatter(x='minutes',y='mb_used',color=\"DarkBlue\", label=\"ULTRA\",alpha=0.2)\n",
    "data[data['is_ultra']==0].plot.scatter(x='minutes',y='mb_used',color=\"Red\", label=\"SMART\", alpha=0.2, ax=ax);"
   ]
  },
  {
   "cell_type": "code",
   "execution_count": 208,
   "metadata": {},
   "outputs": [
    {
     "data": {
      "image/png": "[encoded data removed]",
      "text/plain": [
       "<Figure size 432x288 with 1 Axes>"
      ]
     },
     "metadata": {
      "needs_background": "light"
     },
     "output_type": "display_data"
    }
   ],
   "source": [
    "ax = data[data['is_ultra']==1].plot.scatter(x='mb_used',y='messages',color=\"DarkBlue\", label=\"ULTRA\",alpha=0.2)\n",
    "data[data['is_ultra']==0].plot.scatter(x='mb_used',y='messages',color=\"Red\", label=\"SMART\", alpha=0.2, ax=ax);"
   ]
  },
  {
   "cell_type": "markdown",
   "metadata": {},
   "source": [
    "Видим, что данные СМАРТа сильнее сконцентрированы возле своего \"ядра\". В остальном- \"руками не рассортируешь\"."
   ]
  },
  {
   "cell_type": "markdown",
   "metadata": {},
   "source": [
    "Ну что ж. Начнем ворожить!"
   ]
  },
  {
   "cell_type": "markdown",
   "metadata": {},
   "source": [
    "## Разбейте данные на выборки"
   ]
  },
  {
   "cell_type": "code",
   "execution_count": 209,
   "metadata": {},
   "outputs": [
    {
     "data": {
      "text/plain": [
       "'Обучающая выборка признаков'"
      ]
     },
     "metadata": {},
     "output_type": "display_data"
    },
    {
     "data": {
      "text/plain": [
       "(2056, 4)"
      ]
     },
     "metadata": {},
     "output_type": "display_data"
    },
    {
     "data": {
      "text/plain": [
       "'Валидационная выборка  признаков'"
      ]
     },
     "metadata": {},
     "output_type": "display_data"
    },
    {
     "data": {
      "text/plain": [
       "(515, 4)"
      ]
     },
     "metadata": {},
     "output_type": "display_data"
    },
    {
     "data": {
      "text/plain": [
       "'Тестовая выборка  признаков'"
      ]
     },
     "metadata": {},
     "output_type": "display_data"
    },
    {
     "data": {
      "text/plain": [
       "(643, 4)"
      ]
     },
     "metadata": {},
     "output_type": "display_data"
    }
   ],
   "source": [
    "features = data[fit_list]\n",
    "target = data[targ_list]\n",
    "# разделим выборку на обучающую и тестовую\n",
    "features_train_undiv, features_test, target_train_undiv, target_test = train_test_split(\n",
    "    features, target, test_size=0.2, random_state=12345)\n",
    "# еще раз разделим теперь уже обучающую выборку на обучающую и валидационную\n",
    "# установим параметр  сплита выборки\n",
    "fetch = 0.25\n",
    "features_train, features_valid, target_train, target_valid = train_test_split(\n",
    "    features_train_undiv, target_train_undiv, test_size=0.2, random_state=12345)\n",
    "display('Обучающая выборка признаков',features_train.shape)\n",
    "display('Валидационная выборка  признаков',features_valid.shape)\n",
    "display('Тестовая выборка  признаков',features_test.shape)"
   ]
  },
  {
   "cell_type": "markdown",
   "metadata": {},
   "source": [
    "## Исследуйте модели"
   ]
  },
  {
   "cell_type": "markdown",
   "metadata": {},
   "source": [
    "### Пробные значения для моделей"
   ]
  },
  {
   "cell_type": "markdown",
   "metadata": {},
   "source": [
    "Рассчитаем пробные значения для моделей с гиперпараметрами, которые использовались в рамках спринта по МО"
   ]
  },
  {
   "cell_type": "code",
   "execution_count": 210,
   "metadata": {},
   "outputs": [
    {
     "data": {
      "text/html": [
       "<div>\n",
       "<style scoped>\n",
       "    .dataframe tbody tr th:only-of-type {\n",
       "        vertical-align: middle;\n",
       "    }\n",
       "\n",
       "    .dataframe tbody tr th {\n",
       "        vertical-align: top;\n",
       "    }\n",
       "\n",
       "    .dataframe thead th {\n",
       "        text-align: right;\n",
       "    }\n",
       "</style>\n",
       "<table border=\"1\" class=\"dataframe\">\n",
       "  <thead>\n",
       "    <tr style=\"text-align: right;\">\n",
       "      <th></th>\n",
       "      <th>common_fetch</th>\n",
       "      <th>dtcl_depth</th>\n",
       "      <th>accuracy_dtcl_train</th>\n",
       "      <th>accuracy_dtcl_valid</th>\n",
       "    </tr>\n",
       "  </thead>\n",
       "  <tbody>\n",
       "    <tr>\n",
       "      <th>0</th>\n",
       "      <td>0.25</td>\n",
       "      <td>5.0</td>\n",
       "      <td>0.828307</td>\n",
       "      <td>0.757282</td>\n",
       "    </tr>\n",
       "  </tbody>\n",
       "</table>\n",
       "</div>"
      ],
      "text/plain": [
       "   common_fetch  dtcl_depth  accuracy_dtcl_train  accuracy_dtcl_valid\n",
       "0          0.25         5.0             0.828307             0.757282"
      ]
     },
     "metadata": {},
     "output_type": "display_data"
    },
    {
     "data": {
      "text/html": [
       "<div>\n",
       "<style scoped>\n",
       "    .dataframe tbody tr th:only-of-type {\n",
       "        vertical-align: middle;\n",
       "    }\n",
       "\n",
       "    .dataframe tbody tr th {\n",
       "        vertical-align: top;\n",
       "    }\n",
       "\n",
       "    .dataframe thead th {\n",
       "        text-align: right;\n",
       "    }\n",
       "</style>\n",
       "<table border=\"1\" class=\"dataframe\">\n",
       "  <thead>\n",
       "    <tr style=\"text-align: right;\">\n",
       "      <th></th>\n",
       "      <th>common_fetch</th>\n",
       "      <th>rfcl_estimators</th>\n",
       "      <th>accuracy_rfcl_train</th>\n",
       "      <th>accuracy_rfcl_valid</th>\n",
       "    </tr>\n",
       "  </thead>\n",
       "  <tbody>\n",
       "    <tr>\n",
       "      <th>0</th>\n",
       "      <td>0.25</td>\n",
       "      <td>40.0</td>\n",
       "      <td>0.998541</td>\n",
       "      <td>0.778641</td>\n",
       "    </tr>\n",
       "  </tbody>\n",
       "</table>\n",
       "</div>"
      ],
      "text/plain": [
       "   common_fetch  rfcl_estimators  accuracy_rfcl_train  accuracy_rfcl_valid\n",
       "0          0.25             40.0             0.998541             0.778641"
      ]
     },
     "metadata": {},
     "output_type": "display_data"
    },
    {
     "data": {
      "text/html": [
       "<div>\n",
       "<style scoped>\n",
       "    .dataframe tbody tr th:only-of-type {\n",
       "        vertical-align: middle;\n",
       "    }\n",
       "\n",
       "    .dataframe tbody tr th {\n",
       "        vertical-align: top;\n",
       "    }\n",
       "\n",
       "    .dataframe thead th {\n",
       "        text-align: right;\n",
       "    }\n",
       "</style>\n",
       "<table border=\"1\" class=\"dataframe\">\n",
       "  <thead>\n",
       "    <tr style=\"text-align: right;\">\n",
       "      <th></th>\n",
       "      <th>common_fetch</th>\n",
       "      <th>logr_iter</th>\n",
       "      <th>accuracy_logr_train</th>\n",
       "      <th>accuracy_logr_valid</th>\n",
       "    </tr>\n",
       "  </thead>\n",
       "  <tbody>\n",
       "    <tr>\n",
       "      <th>0</th>\n",
       "      <td>0.25</td>\n",
       "      <td>1000.0</td>\n",
       "      <td>0.753891</td>\n",
       "      <td>0.716505</td>\n",
       "    </tr>\n",
       "  </tbody>\n",
       "</table>\n",
       "</div>"
      ],
      "text/plain": [
       "   common_fetch  logr_iter  accuracy_logr_train  accuracy_logr_valid\n",
       "0          0.25     1000.0             0.753891             0.716505"
      ]
     },
     "metadata": {},
     "output_type": "display_data"
    }
   ],
   "source": [
    "# сведем данные в датафреймы\n",
    "# запишем эти манипуляции в виде функции\n",
    "def models_df():\n",
    "    # модель решающего дерева\n",
    "    md = 5 # введем переменную для глубины\n",
    "    model_dtcl = DecisionTreeClassifier(random_state=12345, max_depth=md)\n",
    "    model_dtcl.fit(features_train, target_train)\n",
    "    predictions_train = model_dtcl.predict(features_train)\n",
    "    accuracy_dtcl_train = accuracy_score(target_train, predictions_train)\n",
    "    predictions_valid = model_dtcl.predict(features_valid)\n",
    "    accuracy_dtcl_valid = accuracy_score(target_valid, predictions_valid)\n",
    "\n",
    "    # модель случайного леса\n",
    "    est = 40 # переменная для количества оценщиков\n",
    "    model_rfcl = RandomForestClassifier(random_state=12345, n_estimators=est)\n",
    "    model_rfcl.fit(features_train, target_train)\n",
    "    predictions_train = model_rfcl.predict(features_train)\n",
    "    accuracy_rfcl_train = accuracy_score(target_train, predictions_train)\n",
    "    predictions_valid = model_rfcl.predict(features_valid)\n",
    "    accuracy_rfcl_valid = accuracy_score(target_valid, predictions_valid)\n",
    "\n",
    "    # модель логистической регрессии\n",
    "    itr = 1000 # переменная для количества итераций\n",
    "    model_logr = LogisticRegression(random_state=12345, solver='lbfgs', max_iter=1000)\n",
    "    model_logr.fit(features_train, target_train)\n",
    "    predictions_train = model_logr.predict(features_train)\n",
    "    accuracy_logr_train = accuracy_score(target_train, predictions_train)\n",
    "    predictions_valid = model_logr.predict(features_valid)\n",
    "    accuracy_logr_valid = accuracy_score(target_valid, predictions_valid)\n",
    "    \n",
    "    out_dtcl = pd.DataFrame() # для решающего дерева\n",
    "    out_dtcl.loc[0,['common_fetch','dtcl_depth','accuracy_dtcl_train','accuracy_dtcl_valid']]=[\n",
    "                                        fetch,md,accuracy_dtcl_train,accuracy_dtcl_valid]\n",
    "    \n",
    "    out_rfcl = pd.DataFrame() # для случайного леса\n",
    "    out_rfcl.loc[0,['common_fetch','rfcl_estimators','accuracy_rfcl_train','accuracy_rfcl_valid']]=[\n",
    "                                        fetch,est,accuracy_rfcl_train,accuracy_rfcl_valid]\n",
    "    \n",
    "    out_logr = pd.DataFrame() # для случайного леса\n",
    "    out_logr.loc[0,['common_fetch','logr_iter','accuracy_logr_train','accuracy_logr_valid']]=[\n",
    "                                        fetch,itr,accuracy_logr_train,accuracy_logr_valid]\n",
    "    \n",
    "    return out_dtcl, out_rfcl, out_logr, model_dtcl, model_rfcl, model_logr\n",
    "\n",
    "out_dtcl, out_rfcl, out_logr, model_dtcl, model_rfcl, model_logr = models_df()\n",
    "\n",
    "display(out_dtcl)\n",
    "display(out_rfcl)\n",
    "display(out_logr)"
   ]
  },
  {
   "cell_type": "markdown",
   "metadata": {},
   "source": [
    "Видим, что случайный лес дает 100% качество на тренировочной выборке и значительно снижает на валидационной. Качество для логистической регрессии устойчиво на валидационной выборке."
   ]
  },
  {
   "cell_type": "markdown",
   "metadata": {},
   "source": [
    "<div class=\"alert alert-warning\">\n",
    "<b>Комментарий 👉</b>\n",
    "\n",
    "**Видим, что случайный лес дает 100% качество на тренировочной выборке и значительно снижает на валидационной** - это так и есть. Это просто данность, присущая такому методу проверки.\n",
    "</div>"
   ]
  },
  {
   "cell_type": "markdown",
   "metadata": {},
   "source": [
    "### Оптимизация по одному параметру для модели"
   ]
  },
  {
   "cell_type": "markdown",
   "metadata": {},
   "source": [
    "Посмотрим как влияет изменение основных параметров (в соотвествии с теорией) для выбранных моделей:\n",
    "- лог.регрессия - количество итераций\n",
    "- дерево решений - максимальная глубина\n",
    "- случайный лес - количество оценщиков\n",
    "\n",
    "Оценивать будем качество только на обучающей выборке. Посмотрим как качество будет себя вести для разных разбиений обучающей выборки (тестовую выборку (20% от исходного датасета) не трогаем- делим в разных пропорциях оставшиеся 80%)\n",
    "\n",
    "Используется статус бар - следующий цикл на моем компьютере занимает около 2 минут"
   ]
  },
  {
   "cell_type": "markdown",
   "metadata": {},
   "source": [
    "### Оптимизация нескольких параметров"
   ]
  },
  {
   "cell_type": "markdown",
   "metadata": {},
   "source": [
    "Посмотрим варианты комбинаций гиперпараметров для наших моделей. Проверим изменение качества."
   ]
  },
  {
   "cell_type": "markdown",
   "metadata": {},
   "source": [
    "Определим оптимизируемые гиперпараметры.\n",
    "\n",
    "Для логистической регрессии:\n",
    "- solver - оставим lbfgs, поскольку остальные варианты не подходят для нашей задачи и нашего датасета (относительно небольшое количество строк и полей, также - у нас всего 2 класса)\n",
    "- penalty - ['l2', ‘none’] - доступные варианты для solver='lbfgs'\n",
    "- C - будем менять [0.1,0.5,1,5,10,30,50,100,200]\n",
    "- class_weightdict - оставим default=None (считаем, что соотноние классов 30/70 - сбалансированное)\n",
    "- max_iter - оставим дефолтное значение\n",
    "\n",
    "Для деревьев решений:\n",
    "- criterion - ['gini', 'entropy'] пишут, что разницы не должно быть - проверим\n",
    "- splitter - оставим 'best'  из-за малого количество признаков\n",
    "- max_depth - от 1 до 30, шаг 2\n",
    "- min_samples_split - от 1 до 40 (пишут, что в это оптимальный диапазон- проверим)\n",
    "- min_samples_leaf - от 1 до 20 (пишут, что в это оптимальный диапазон- проверим)\n",
    "- min_impurity_decrease - от 0.0 до 1.0\n",
    "\n",
    "Для случайного леса:\n",
    "- n_estimators - от 20 до 50, шаг 2\n",
    "- max_depth - от 1 до 30, шаг 2\n",
    "- min_samples_split - от 1 до 40\n",
    "- min_samples_leaf -  от от 1 до 20\n",
    "\n",
    "\n",
    "Теперрь запустим цикл в котором поменяем гиперпараметры моделей.\n",
    "\n",
    "Сплит выборки - 0.25"
   ]
  },
  {
   "cell_type": "code",
   "execution_count": 211,
   "metadata": {},
   "outputs": [
    {
     "data": {
      "text/plain": [
       "'Обучающий датасет'"
      ]
     },
     "metadata": {},
     "output_type": "display_data"
    },
    {
     "data": {
      "text/plain": [
       "(3214, 5)"
      ]
     },
     "metadata": {},
     "output_type": "display_data"
    },
    {
     "data": {
      "text/plain": [
       "'Обучающая выборка признаков'"
      ]
     },
     "metadata": {},
     "output_type": "display_data"
    },
    {
     "data": {
      "text/plain": [
       "(1928, 4)"
      ]
     },
     "metadata": {},
     "output_type": "display_data"
    },
    {
     "data": {
      "text/plain": [
       "'Валидационная выборка  признаков'"
      ]
     },
     "metadata": {},
     "output_type": "display_data"
    },
    {
     "data": {
      "text/plain": [
       "(643, 4)"
      ]
     },
     "metadata": {},
     "output_type": "display_data"
    },
    {
     "data": {
      "text/plain": [
       "'Тестовая выборка  признаков'"
      ]
     },
     "metadata": {},
     "output_type": "display_data"
    },
    {
     "data": {
      "text/plain": [
       "(643, 4)"
      ]
     },
     "metadata": {},
     "output_type": "display_data"
    }
   ],
   "source": [
    "fetch = 0.25\n",
    "features_train, features_valid, target_train, target_valid = train_test_split(\n",
    " features_train_undiv, target_train_undiv, test_size=fetch, random_state=12345)\n",
    "display('Обучающий датасет',data.shape)\n",
    "display('Обучающая выборка признаков',features_train.shape)\n",
    "display('Валидационная выборка  признаков',features_valid.shape)\n",
    "display('Тестовая выборка  признаков',features_test.shape)"
   ]
  },
  {
   "cell_type": "code",
   "execution_count": 212,
   "metadata": {},
   "outputs": [],
   "source": [
    "# \"Обнулим\" результирующие датафреймы\n",
    "out_dtcl, out_rfcl, out_logr, model_dtcl, model_rfcl, model_logr = models_df()"
   ]
  },
  {
   "cell_type": "code",
   "execution_count": 213,
   "metadata": {},
   "outputs": [
    {
     "name": "stderr",
     "output_type": "stream",
     "text": [
      "100%|██████████| 9/9 [00:03<00:00,  2.46it/s]"
     ]
    },
    {
     "name": "stdout",
     "output_type": "stream",
     "text": [
      "time span:  3.6690\n"
     ]
    },
    {
     "name": "stderr",
     "output_type": "stream",
     "text": [
      "\n"
     ]
    }
   ],
   "source": [
    "# Логистическая регрессия - изменяемые параметры\n",
    "C_list = [0.1,0.5,1,5,10,30,50,100,200]\n",
    "iter_list = [int(x) for x in range(800,2200,200)]\n",
    "penalty_list = ['l2', 'none'] # доступные варианты для solver='lbfgs'\n",
    "#max_iter_list = [int(x) for x in range(100, 2050, 50)]\n",
    "# обучим модель сначала напрямую- методом перебора\n",
    "start = time.monotonic()\n",
    "for c_var in tqdm.tqdm(C_list):\n",
    "    for pen_var in penalty_list:\n",
    "        for i_var in iter_list:\n",
    "            model_logr = LogisticRegression(random_state=12345, solver='lbfgs',\n",
    "                                C=c_var,penalty=pen_var,max_iter=i_var)\n",
    "            model_logr.fit(features_train, target_train)\n",
    "            predictions_train = model_logr.predict(features_train)\n",
    "            accuracy_logr_train = accuracy_score(target_train, predictions_train)\n",
    "            predictions_valid = model_logr.predict(features_valid)\n",
    "            accuracy_logr_valid = accuracy_score(target_valid, predictions_valid)\n",
    "            idx = out_logr.index.max() + 1\n",
    "            out_logr.loc[idx,['common_fetch','C','penalty','logr_iter',\n",
    "            'accuracy_logr_train','accuracy_logr_valid']]=[\n",
    "                fetch,c_var,pen_var,i_var,accuracy_logr_train,accuracy_logr_valid]\n",
    "end = time.monotonic()\n",
    "print('time span: ','{:,.4f}'.format(end-start))"
   ]
  },
  {
   "cell_type": "markdown",
   "metadata": {},
   "source": [
    "Дерево решений\n",
    "\n",
    "Включен статус-бар. Общее время на проход по всем итерациям на моем компьютере составило 3 минуты"
   ]
  },
  {
   "cell_type": "code",
   "execution_count": 214,
   "metadata": {},
   "outputs": [
    {
     "name": "stderr",
     "output_type": "stream",
     "text": [
      "100%|██████████| 10/10 [03:30<00:00, 21.09s/it]"
     ]
    },
    {
     "name": "stdout",
     "output_type": "stream",
     "text": [
      "time span:  210.8632\n"
     ]
    },
    {
     "name": "stderr",
     "output_type": "stream",
     "text": [
      "\n"
     ]
    }
   ],
   "source": [
    "# Дерево решений - изменяемые параметры\n",
    "criterion_list = ['gini', 'entropy'] # пишут, что разницы не должно быть - проверим\n",
    "max_depth_list = [int(x) for x in range(1, 20, 2)]\n",
    "min_samples_split_list = [int(x) for x in range(2,40,2)]\n",
    "min_samples_leaf_list = [int(x) for x in range(1,20,2)]\n",
    "min_impurity_decrease_list = [x/100 for x in range(0,120,20)]\n",
    "start = time.monotonic()\n",
    "for md in tqdm.tqdm(max_depth_list):\n",
    "    for spl in min_samples_split_list:\n",
    "        for leaf in min_samples_leaf_list:\n",
    "            for decr in min_impurity_decrease_list:\n",
    "                for cr in criterion_list:\n",
    "                    model_dtcl = DecisionTreeClassifier(random_state=12345, max_depth=md,\n",
    "                                criterion=cr, splitter='best', min_samples_split=spl,\n",
    "                                min_samples_leaf=leaf, min_impurity_decrease=decr)\n",
    "                    model_dtcl.fit(features_train, target_train)\n",
    "                    predictions_train = model_dtcl.predict(features_train)\n",
    "                    accuracy_dtcl_train = accuracy_score(target_train, predictions_train)\n",
    "                    predictions_valid = model_dtcl.predict(features_valid)\n",
    "                    accuracy_dtcl_valid = accuracy_score(target_valid, predictions_valid)\n",
    "                    idx = out_dtcl.index.max() + 1\n",
    "                    out_dtcl.loc[idx,['common_fetch','dtcl_depth','min_samples_split',\n",
    "                                      'min_samples_leaf','min_impurity_decrease','criterion',\n",
    "                                      'accuracy_dtcl_train','accuracy_dtcl_valid']]=[\n",
    "                        fetch,md,spl,leaf,decr,cr,accuracy_dtcl_train,accuracy_dtcl_valid]\n",
    "end = time.monotonic()\n",
    "print('time span: ','{:,.4f}'.format(end-start))"
   ]
  },
  {
   "cell_type": "markdown",
   "metadata": {},
   "source": [
    " Случайный лес\n",
    " \n",
    " Общее время на проход по всем итерациям на моем компьютере составило 6 минут"
   ]
  },
  {
   "cell_type": "code",
   "execution_count": 215,
   "metadata": {},
   "outputs": [
    {
     "name": "stderr",
     "output_type": "stream",
     "text": [
      "100%|██████████| 16/16 [07:18<00:00, 27.42s/it]"
     ]
    },
    {
     "name": "stdout",
     "output_type": "stream",
     "text": [
      "time span:  438.6593\n"
     ]
    },
    {
     "name": "stderr",
     "output_type": "stream",
     "text": [
      "\n"
     ]
    }
   ],
   "source": [
    "# модель случайного леса - изменяемые параметры\n",
    "n_estimators_list = [int(x) for x in range(2, 50, 3)]\n",
    "max_depth_list = [int(x) for x in range(1, 20, 3)]\n",
    "min_samples_split_list = [int(x) for x in range(2,40,4)]\n",
    "min_samples_leaf_list =  [int(x) for x in range(1,20,4)]\n",
    "start = time.monotonic()\n",
    "for est in tqdm.tqdm(n_estimators_list):\n",
    "    for md in max_depth_list:\n",
    "        for spl in min_samples_split_list:\n",
    "            for leaf in min_samples_leaf_list:\n",
    "                model_rfcl = RandomForestClassifier(random_state=12345, n_estimators=est,n_jobs=-1,\n",
    "                            max_depth=md,min_samples_split=spl,min_samples_leaf=leaf)\n",
    "                model_rfcl.fit(features_train, target_train)\n",
    "                predictions_train = model_rfcl.predict(features_train)\n",
    "                accuracy_rfcl_train = accuracy_score(target_train, predictions_train)\n",
    "                predictions_valid = model_rfcl.predict(features_valid)\n",
    "                accuracy_rfcl_valid = accuracy_score(target_valid, predictions_valid)\n",
    "                idx = out_rfcl.index.max() + 1\n",
    "                out_rfcl.loc[idx,['common_fetch','rfcl_estimators','max_depth',\n",
    "                                  'min_samples_split','min_samples_leaf',\n",
    "                                'accuracy_rfcl_train','accuracy_rfcl_valid']]=[\n",
    "                                fetch,est,md,spl,leaf,accuracy_rfcl_train,accuracy_rfcl_valid]\n",
    "end = time.monotonic()\n",
    "print('time span: ','{:,.4f}'.format(end-start))"
   ]
  },
  {
   "cell_type": "markdown",
   "metadata": {},
   "source": [
    "Посмотрим сводные данные по значениям метрики качества для всех моделей и всех гиперпараметров"
   ]
  },
  {
   "cell_type": "code",
   "execution_count": 216,
   "metadata": {
    "scrolled": false
   },
   "outputs": [
    {
     "data": {
      "text/html": [
       "<div>\n",
       "<style scoped>\n",
       "    .dataframe tbody tr th:only-of-type {\n",
       "        vertical-align: middle;\n",
       "    }\n",
       "\n",
       "    .dataframe tbody tr th {\n",
       "        vertical-align: top;\n",
       "    }\n",
       "\n",
       "    .dataframe thead th {\n",
       "        text-align: right;\n",
       "    }\n",
       "</style>\n",
       "<table border=\"1\" class=\"dataframe\">\n",
       "  <thead>\n",
       "    <tr style=\"text-align: right;\">\n",
       "      <th></th>\n",
       "      <th>common_fetch</th>\n",
       "      <th>0.25</th>\n",
       "    </tr>\n",
       "  </thead>\n",
       "  <tbody>\n",
       "    <tr>\n",
       "      <th rowspan=\"4\" valign=\"top\">accuracy_logr_valid</th>\n",
       "      <th>min</th>\n",
       "      <td>0.6921</td>\n",
       "    </tr>\n",
       "    <tr>\n",
       "      <th>max</th>\n",
       "      <td>0.7263</td>\n",
       "    </tr>\n",
       "    <tr>\n",
       "      <th>mean</th>\n",
       "      <td>0.7225</td>\n",
       "    </tr>\n",
       "    <tr>\n",
       "      <th>median</th>\n",
       "      <td>0.7263</td>\n",
       "    </tr>\n",
       "    <tr>\n",
       "      <th rowspan=\"4\" valign=\"top\">accuracy_dtcl_valid</th>\n",
       "      <th>min</th>\n",
       "      <td>0.6890</td>\n",
       "    </tr>\n",
       "    <tr>\n",
       "      <th>max</th>\n",
       "      <td>0.7932</td>\n",
       "    </tr>\n",
       "    <tr>\n",
       "      <th>mean</th>\n",
       "      <td>0.7022</td>\n",
       "    </tr>\n",
       "    <tr>\n",
       "      <th>median</th>\n",
       "      <td>0.6890</td>\n",
       "    </tr>\n",
       "    <tr>\n",
       "      <th rowspan=\"4\" valign=\"top\">accuracy_rfcl_valid</th>\n",
       "      <th>min</th>\n",
       "      <td>0.7263</td>\n",
       "    </tr>\n",
       "    <tr>\n",
       "      <th>max</th>\n",
       "      <td>0.8056</td>\n",
       "    </tr>\n",
       "    <tr>\n",
       "      <th>mean</th>\n",
       "      <td>0.7773</td>\n",
       "    </tr>\n",
       "    <tr>\n",
       "      <th>median</th>\n",
       "      <td>0.7838</td>\n",
       "    </tr>\n",
       "  </tbody>\n",
       "</table>\n",
       "</div>"
      ],
      "text/plain": [
       "common_fetch                  0.25\n",
       "accuracy_logr_valid min     0.6921\n",
       "                    max     0.7263\n",
       "                    mean    0.7225\n",
       "                    median  0.7263\n",
       "accuracy_dtcl_valid min     0.6890\n",
       "                    max     0.7932\n",
       "                    mean    0.7022\n",
       "                    median  0.6890\n",
       "accuracy_rfcl_valid min     0.7263\n",
       "                    max     0.8056\n",
       "                    mean    0.7773\n",
       "                    median  0.7838"
      ]
     },
     "execution_count": 216,
     "metadata": {},
     "output_type": "execute_result"
    }
   ],
   "source": [
    "agg_accuracy = pd.DataFrame()\n",
    "agg_func_math = {\n",
    "                #'accuracy_logr_train': ['min','max','mean', 'median'],\n",
    "                 'accuracy_logr_valid': ['min','max','mean', 'median']}\n",
    "agg_accuracy = pd.concat((agg_accuracy,out_logr.groupby('common_fetch').agg(agg_func_math).round(4)),axis=1)\n",
    "\n",
    "agg_func_math = {\n",
    "                #'accuracy_dtcl_train': ['min','max','mean', 'median'],\n",
    "                 'accuracy_dtcl_valid': ['min','max','mean', 'median']}\n",
    "agg_accuracy = pd.concat((agg_accuracy,out_dtcl.groupby('common_fetch').agg(agg_func_math).round(4)),axis=1)\n",
    "\n",
    "agg_func_math = {\n",
    "                #'accuracy_rfcl_train': ['min','max','mean', 'median'],\n",
    "                 'accuracy_rfcl_valid': ['min','max','mean', 'median']}\n",
    "agg_accuracy = pd.concat((agg_accuracy,out_rfcl.groupby('common_fetch').agg(agg_func_math).round(4)),axis=1)\n",
    "agg_accuracy.transpose()"
   ]
  },
  {
   "cell_type": "markdown",
   "metadata": {},
   "source": [
    "Видим, что на валидационной выборке:\n",
    "- для логистической регрессии (accuracy_logr_) максимальное значение оценки- 0.7263. \n",
    "- для решающего дерева (accuracy_dtcl_) максимальное значение оценки- 0.7932.\n",
    "- для случайного леса (accuracy_rfcl_) максимальное значение - 0.8056\n"
   ]
  },
  {
   "cell_type": "markdown",
   "metadata": {},
   "source": [
    "Посмотрим как рапределены оценки для разных значений гиперпараметров"
   ]
  },
  {
   "cell_type": "markdown",
   "metadata": {},
   "source": [
    "#### Несколько параметров. Лог.ресгрессия"
   ]
  },
  {
   "cell_type": "code",
   "execution_count": 217,
   "metadata": {},
   "outputs": [
    {
     "data": {
      "image/png": "[encoded data removed]",
      "text/plain": [
       "<Figure size 864x576 with 4 Axes>"
      ]
     },
     "metadata": {
      "needs_background": "light"
     },
     "output_type": "display_data"
    }
   ],
   "source": [
    "# \n",
    "# логистическая регрессия\n",
    "figure, axis = plt.subplots(2, 2, figsize=(12,8))\n",
    "axis[0,0].scatter(y=out_logr['accuracy_logr_valid'],x=out_logr['C'])\n",
    "axis[0,0].set_title('C')\n",
    "axis[0,1].scatter(y=out_logr['accuracy_logr_valid'],x=out_logr['logr_iter'])\n",
    "axis[0,1].set_title('logr_iter')\n",
    "axis[1,0].hist(out_logr[out_logr['penalty']=='l2']['accuracy_logr_valid'],orientation='horizontal')\n",
    "axis[1,0].set_title('penalty= L2')\n",
    "axis[1,1].hist(out_logr[out_logr['penalty']=='none']['accuracy_logr_valid'],orientation='horizontal')\n",
    "axis[1,1].set_title('penalty= none')\n",
    "\n",
    "plt.show();"
   ]
  },
  {
   "cell_type": "markdown",
   "metadata": {},
   "source": [
    "Видим, что в целом для лог.регрессии характерно наличие всего двух значений метрики качества."
   ]
  },
  {
   "cell_type": "code",
   "execution_count": 218,
   "metadata": {},
   "outputs": [
    {
     "data": {
      "text/plain": [
       "0.726283    0.889764\n",
       "0.692068    0.110236\n",
       "Name: accuracy_logr_valid, dtype: float64"
      ]
     },
     "execution_count": 218,
     "metadata": {},
     "output_type": "execute_result"
    }
   ],
   "source": [
    "out_logr['accuracy_logr_valid'].value_counts(normalize=True)"
   ]
  },
  {
   "cell_type": "markdown",
   "metadata": {},
   "source": [
    "72,6% вариантов гиперпараметров для лог.регрессии в результате дают одинаковую модель.\n",
    "Посмотрим \"пустую\" модель лог.регрессии- без заданных гиперпараметров"
   ]
  },
  {
   "cell_type": "code",
   "execution_count": 219,
   "metadata": {},
   "outputs": [
    {
     "name": "stdout",
     "output_type": "stream",
     "text": [
      "0.7262830482115086\n"
     ]
    }
   ],
   "source": [
    "model_logr = LogisticRegression(random_state=12345, solver='lbfgs')\n",
    "model_logr.fit(features_train, target_train)\n",
    "predictions_valid = model_logr.predict(features_valid)\n",
    "print(accuracy_score(target_valid, predictions_valid))"
   ]
  },
  {
   "cell_type": "markdown",
   "metadata": {},
   "source": [
    "Т.о. можно сделать вывод, что на данной выборке мы можем брать модель лог.регрессии с дефолтными гиперпараметрами (при solver='lbfgs')"
   ]
  },
  {
   "cell_type": "markdown",
   "metadata": {},
   "source": [
    "#### Несколько параметров. Решающее дерево"
   ]
  },
  {
   "cell_type": "code",
   "execution_count": 220,
   "metadata": {},
   "outputs": [
    {
     "data": {
      "image/png": "[encoded data removed]",
      "text/plain": [
       "<Figure size 864x864 with 4 Axes>"
      ]
     },
     "metadata": {
      "needs_background": "light"
     },
     "output_type": "display_data"
    }
   ],
   "source": [
    "# решающее дерево\n",
    "figure, axis = plt.subplots(2, 2, figsize=(12,12))\n",
    "axis[0,0].scatter(y=out_dtcl['accuracy_dtcl_valid'],x=out_dtcl['dtcl_depth'])\n",
    "axis[0,0].set_title('dtcl_depth')\n",
    "axis[0,1].scatter(y=out_dtcl['accuracy_dtcl_valid'],x=out_dtcl['min_samples_split'])\n",
    "axis[0,1].set_title('min_samples_split')\n",
    "axis[1,0].scatter(y=out_dtcl['accuracy_dtcl_valid'],x=out_dtcl['min_samples_leaf'])\n",
    "axis[1,0].set_title('min_samples_leaf')\n",
    "axis[1,1].scatter(y=out_dtcl['accuracy_dtcl_valid'],x=out_dtcl['min_impurity_decrease'])\n",
    "axis[1,1].set_title('min_impurity_decrease')\n",
    "plt.show();"
   ]
  },
  {
   "cell_type": "markdown",
   "metadata": {},
   "source": [
    "Видим, что наибольшее влияние на качество оказывает параметр глубины.\n",
    "\n",
    "min_impurity_decrease\" работает только при значении равном 0\n",
    "\n",
    "min_sample_leaf дает лучшие результаты при значениях больше 6\n",
    "\n",
    "min_samle_split можно ставить дефолтный (от 2)"
   ]
  },
  {
   "cell_type": "markdown",
   "metadata": {},
   "source": [
    "Посмотрим параметры модели решающего дерева - с максимальным качеством"
   ]
  },
  {
   "cell_type": "code",
   "execution_count": 221,
   "metadata": {},
   "outputs": [
    {
     "name": "stdout",
     "output_type": "stream",
     "text": [
      "Количество итераций с решаюшим деревом:  22801\n",
      "\n",
      "Таблица параметров для 5% лучших результатов\n"
     ]
    },
    {
     "data": {
      "text/html": [
       "<div>\n",
       "<style scoped>\n",
       "    .dataframe tbody tr th:only-of-type {\n",
       "        vertical-align: middle;\n",
       "    }\n",
       "\n",
       "    .dataframe tbody tr th {\n",
       "        vertical-align: top;\n",
       "    }\n",
       "\n",
       "    .dataframe thead th {\n",
       "        text-align: right;\n",
       "    }\n",
       "</style>\n",
       "<table border=\"1\" class=\"dataframe\">\n",
       "  <thead>\n",
       "    <tr style=\"text-align: right;\">\n",
       "      <th></th>\n",
       "      <th>common_fetch</th>\n",
       "      <th>dtcl_depth</th>\n",
       "      <th>accuracy_dtcl_train</th>\n",
       "      <th>accuracy_dtcl_valid</th>\n",
       "      <th>min_samples_split</th>\n",
       "      <th>min_samples_leaf</th>\n",
       "      <th>min_impurity_decrease</th>\n",
       "      <th>criterion</th>\n",
       "    </tr>\n",
       "  </thead>\n",
       "  <tbody>\n",
       "    <tr>\n",
       "      <th>11450</th>\n",
       "      <td>0.25</td>\n",
       "      <td>11.0</td>\n",
       "      <td>0.847510</td>\n",
       "      <td>0.793157</td>\n",
       "      <td>2.0</td>\n",
       "      <td>9.0</td>\n",
       "      <td>0.0</td>\n",
       "      <td>entropy</td>\n",
       "    </tr>\n",
       "    <tr>\n",
       "      <th>11570</th>\n",
       "      <td>0.25</td>\n",
       "      <td>11.0</td>\n",
       "      <td>0.847510</td>\n",
       "      <td>0.793157</td>\n",
       "      <td>4.0</td>\n",
       "      <td>9.0</td>\n",
       "      <td>0.0</td>\n",
       "      <td>entropy</td>\n",
       "    </tr>\n",
       "    <tr>\n",
       "      <th>11690</th>\n",
       "      <td>0.25</td>\n",
       "      <td>11.0</td>\n",
       "      <td>0.847510</td>\n",
       "      <td>0.793157</td>\n",
       "      <td>6.0</td>\n",
       "      <td>9.0</td>\n",
       "      <td>0.0</td>\n",
       "      <td>entropy</td>\n",
       "    </tr>\n",
       "    <tr>\n",
       "      <th>11810</th>\n",
       "      <td>0.25</td>\n",
       "      <td>11.0</td>\n",
       "      <td>0.847510</td>\n",
       "      <td>0.793157</td>\n",
       "      <td>8.0</td>\n",
       "      <td>9.0</td>\n",
       "      <td>0.0</td>\n",
       "      <td>entropy</td>\n",
       "    </tr>\n",
       "    <tr>\n",
       "      <th>11930</th>\n",
       "      <td>0.25</td>\n",
       "      <td>11.0</td>\n",
       "      <td>0.847510</td>\n",
       "      <td>0.793157</td>\n",
       "      <td>10.0</td>\n",
       "      <td>9.0</td>\n",
       "      <td>0.0</td>\n",
       "      <td>entropy</td>\n",
       "    </tr>\n",
       "    <tr>\n",
       "      <th>12050</th>\n",
       "      <td>0.25</td>\n",
       "      <td>11.0</td>\n",
       "      <td>0.847510</td>\n",
       "      <td>0.793157</td>\n",
       "      <td>12.0</td>\n",
       "      <td>9.0</td>\n",
       "      <td>0.0</td>\n",
       "      <td>entropy</td>\n",
       "    </tr>\n",
       "    <tr>\n",
       "      <th>12170</th>\n",
       "      <td>0.25</td>\n",
       "      <td>11.0</td>\n",
       "      <td>0.847510</td>\n",
       "      <td>0.793157</td>\n",
       "      <td>14.0</td>\n",
       "      <td>9.0</td>\n",
       "      <td>0.0</td>\n",
       "      <td>entropy</td>\n",
       "    </tr>\n",
       "    <tr>\n",
       "      <th>12290</th>\n",
       "      <td>0.25</td>\n",
       "      <td>11.0</td>\n",
       "      <td>0.847510</td>\n",
       "      <td>0.793157</td>\n",
       "      <td>16.0</td>\n",
       "      <td>9.0</td>\n",
       "      <td>0.0</td>\n",
       "      <td>entropy</td>\n",
       "    </tr>\n",
       "    <tr>\n",
       "      <th>12410</th>\n",
       "      <td>0.25</td>\n",
       "      <td>11.0</td>\n",
       "      <td>0.847510</td>\n",
       "      <td>0.793157</td>\n",
       "      <td>18.0</td>\n",
       "      <td>9.0</td>\n",
       "      <td>0.0</td>\n",
       "      <td>entropy</td>\n",
       "    </tr>\n",
       "    <tr>\n",
       "      <th>12530</th>\n",
       "      <td>0.25</td>\n",
       "      <td>11.0</td>\n",
       "      <td>0.847510</td>\n",
       "      <td>0.793157</td>\n",
       "      <td>20.0</td>\n",
       "      <td>9.0</td>\n",
       "      <td>0.0</td>\n",
       "      <td>entropy</td>\n",
       "    </tr>\n",
       "    <tr>\n",
       "      <th>17197</th>\n",
       "      <td>0.25</td>\n",
       "      <td>15.0</td>\n",
       "      <td>0.854253</td>\n",
       "      <td>0.793157</td>\n",
       "      <td>22.0</td>\n",
       "      <td>7.0</td>\n",
       "      <td>0.0</td>\n",
       "      <td>gini</td>\n",
       "    </tr>\n",
       "    <tr>\n",
       "      <th>9170</th>\n",
       "      <td>0.25</td>\n",
       "      <td>9.0</td>\n",
       "      <td>0.840768</td>\n",
       "      <td>0.791602</td>\n",
       "      <td>2.0</td>\n",
       "      <td>9.0</td>\n",
       "      <td>0.0</td>\n",
       "      <td>entropy</td>\n",
       "    </tr>\n",
       "    <tr>\n",
       "      <th>9290</th>\n",
       "      <td>0.25</td>\n",
       "      <td>9.0</td>\n",
       "      <td>0.840768</td>\n",
       "      <td>0.791602</td>\n",
       "      <td>4.0</td>\n",
       "      <td>9.0</td>\n",
       "      <td>0.0</td>\n",
       "      <td>entropy</td>\n",
       "    </tr>\n",
       "    <tr>\n",
       "      <th>9410</th>\n",
       "      <td>0.25</td>\n",
       "      <td>9.0</td>\n",
       "      <td>0.840768</td>\n",
       "      <td>0.791602</td>\n",
       "      <td>6.0</td>\n",
       "      <td>9.0</td>\n",
       "      <td>0.0</td>\n",
       "      <td>entropy</td>\n",
       "    </tr>\n",
       "    <tr>\n",
       "      <th>9530</th>\n",
       "      <td>0.25</td>\n",
       "      <td>9.0</td>\n",
       "      <td>0.840768</td>\n",
       "      <td>0.791602</td>\n",
       "      <td>8.0</td>\n",
       "      <td>9.0</td>\n",
       "      <td>0.0</td>\n",
       "      <td>entropy</td>\n",
       "    </tr>\n",
       "    <tr>\n",
       "      <th>9650</th>\n",
       "      <td>0.25</td>\n",
       "      <td>9.0</td>\n",
       "      <td>0.840768</td>\n",
       "      <td>0.791602</td>\n",
       "      <td>10.0</td>\n",
       "      <td>9.0</td>\n",
       "      <td>0.0</td>\n",
       "      <td>entropy</td>\n",
       "    </tr>\n",
       "    <tr>\n",
       "      <th>9770</th>\n",
       "      <td>0.25</td>\n",
       "      <td>9.0</td>\n",
       "      <td>0.840768</td>\n",
       "      <td>0.791602</td>\n",
       "      <td>12.0</td>\n",
       "      <td>9.0</td>\n",
       "      <td>0.0</td>\n",
       "      <td>entropy</td>\n",
       "    </tr>\n",
       "    <tr>\n",
       "      <th>9890</th>\n",
       "      <td>0.25</td>\n",
       "      <td>9.0</td>\n",
       "      <td>0.840768</td>\n",
       "      <td>0.791602</td>\n",
       "      <td>14.0</td>\n",
       "      <td>9.0</td>\n",
       "      <td>0.0</td>\n",
       "      <td>entropy</td>\n",
       "    </tr>\n",
       "    <tr>\n",
       "      <th>10010</th>\n",
       "      <td>0.25</td>\n",
       "      <td>9.0</td>\n",
       "      <td>0.840768</td>\n",
       "      <td>0.791602</td>\n",
       "      <td>16.0</td>\n",
       "      <td>9.0</td>\n",
       "      <td>0.0</td>\n",
       "      <td>entropy</td>\n",
       "    </tr>\n",
       "    <tr>\n",
       "      <th>10130</th>\n",
       "      <td>0.25</td>\n",
       "      <td>9.0</td>\n",
       "      <td>0.840768</td>\n",
       "      <td>0.791602</td>\n",
       "      <td>18.0</td>\n",
       "      <td>9.0</td>\n",
       "      <td>0.0</td>\n",
       "      <td>entropy</td>\n",
       "    </tr>\n",
       "  </tbody>\n",
       "</table>\n",
       "</div>"
      ],
      "text/plain": [
       "       common_fetch  dtcl_depth  accuracy_dtcl_train  accuracy_dtcl_valid  \\\n",
       "11450          0.25        11.0             0.847510             0.793157   \n",
       "11570          0.25        11.0             0.847510             0.793157   \n",
       "11690          0.25        11.0             0.847510             0.793157   \n",
       "11810          0.25        11.0             0.847510             0.793157   \n",
       "11930          0.25        11.0             0.847510             0.793157   \n",
       "12050          0.25        11.0             0.847510             0.793157   \n",
       "12170          0.25        11.0             0.847510             0.793157   \n",
       "12290          0.25        11.0             0.847510             0.793157   \n",
       "12410          0.25        11.0             0.847510             0.793157   \n",
       "12530          0.25        11.0             0.847510             0.793157   \n",
       "17197          0.25        15.0             0.854253             0.793157   \n",
       "9170           0.25         9.0             0.840768             0.791602   \n",
       "9290           0.25         9.0             0.840768             0.791602   \n",
       "9410           0.25         9.0             0.840768             0.791602   \n",
       "9530           0.25         9.0             0.840768             0.791602   \n",
       "9650           0.25         9.0             0.840768             0.791602   \n",
       "9770           0.25         9.0             0.840768             0.791602   \n",
       "9890           0.25         9.0             0.840768             0.791602   \n",
       "10010          0.25         9.0             0.840768             0.791602   \n",
       "10130          0.25         9.0             0.840768             0.791602   \n",
       "\n",
       "       min_samples_split  min_samples_leaf  min_impurity_decrease criterion  \n",
       "11450                2.0               9.0                    0.0   entropy  \n",
       "11570                4.0               9.0                    0.0   entropy  \n",
       "11690                6.0               9.0                    0.0   entropy  \n",
       "11810                8.0               9.0                    0.0   entropy  \n",
       "11930               10.0               9.0                    0.0   entropy  \n",
       "12050               12.0               9.0                    0.0   entropy  \n",
       "12170               14.0               9.0                    0.0   entropy  \n",
       "12290               16.0               9.0                    0.0   entropy  \n",
       "12410               18.0               9.0                    0.0   entropy  \n",
       "12530               20.0               9.0                    0.0   entropy  \n",
       "17197               22.0               7.0                    0.0      gini  \n",
       "9170                 2.0               9.0                    0.0   entropy  \n",
       "9290                 4.0               9.0                    0.0   entropy  \n",
       "9410                 6.0               9.0                    0.0   entropy  \n",
       "9530                 8.0               9.0                    0.0   entropy  \n",
       "9650                10.0               9.0                    0.0   entropy  \n",
       "9770                12.0               9.0                    0.0   entropy  \n",
       "9890                14.0               9.0                    0.0   entropy  \n",
       "10010               16.0               9.0                    0.0   entropy  \n",
       "10130               18.0               9.0                    0.0   entropy  "
      ]
     },
     "execution_count": 221,
     "metadata": {},
     "output_type": "execute_result"
    }
   ],
   "source": [
    "print('Количество итераций с решаюшим деревом: ',out_dtcl.shape[0])\n",
    "print()\n",
    "print('Таблица параметров для 5% лучших результатов')\n",
    "idx = out_dtcl['accuracy_dtcl_valid'].nlargest(out_dtcl.shape[0]//20).index\n",
    "out_dtcl.loc[idx].head(20)"
   ]
  },
  {
   "cell_type": "markdown",
   "metadata": {},
   "source": [
    "Видим, что для лучших вариантов характерны:\n",
    "- max_depth - 11\n",
    "- min_samples_split - от 2 и выше (дефолтное значение)\n",
    "- min_samples_leaf - 9\n",
    "- criterion - entropy\n",
    "\n",
    "Посмотрим также как распределено качество для разных критериев"
   ]
  },
  {
   "cell_type": "code",
   "execution_count": 222,
   "metadata": {},
   "outputs": [
    {
     "data": {
      "image/png": "[encoded data removed]",
      "text/plain": [
       "<Figure size 432x288 with 1 Axes>"
      ]
     },
     "metadata": {
      "needs_background": "light"
     },
     "output_type": "display_data"
    }
   ],
   "source": [
    "# Gini - для всех комбинаций параметров\n",
    "out_dtcl[(out_dtcl['criterion']=='gini')]['accuracy_dtcl_valid'].hist();\n"
   ]
  },
  {
   "cell_type": "code",
   "execution_count": 223,
   "metadata": {},
   "outputs": [
    {
     "data": {
      "image/png": "[encoded data removed]",
      "text/plain": [
       "<Figure size 432x288 with 1 Axes>"
      ]
     },
     "metadata": {
      "needs_background": "light"
     },
     "output_type": "display_data"
    }
   ],
   "source": [
    "# Gini лучшие 5% оценок\n",
    "out_dtcl[(out_dtcl['criterion']=='gini')]['accuracy_dtcl_valid'].nlargest(out_dtcl.shape[0]//20).hist();"
   ]
  },
  {
   "cell_type": "code",
   "execution_count": 224,
   "metadata": {},
   "outputs": [
    {
     "data": {
      "image/png": "[encoded data removed]",
      "text/plain": [
       "<Figure size 432x288 with 1 Axes>"
      ]
     },
     "metadata": {
      "needs_background": "light"
     },
     "output_type": "display_data"
    }
   ],
   "source": [
    "# entropy - для всех комбинаций параметров\n",
    "out_dtcl[out_dtcl['criterion']=='entropy']['accuracy_dtcl_valid'].hist();"
   ]
  },
  {
   "cell_type": "code",
   "execution_count": 225,
   "metadata": {},
   "outputs": [
    {
     "data": {
      "image/png": "[encoded data removed]",
      "text/plain": [
       "<Figure size 432x288 with 1 Axes>"
      ]
     },
     "metadata": {
      "needs_background": "light"
     },
     "output_type": "display_data"
    }
   ],
   "source": [
    "# entropy - для лучших 5% оценок\n",
    "out_dtcl[out_dtcl['criterion']=='entropy']['accuracy_dtcl_valid'].nlargest(out_dtcl.shape[0]//20).hist();"
   ]
  },
  {
   "cell_type": "markdown",
   "metadata": {},
   "source": [
    "Посмотрим - какие доли критериев для лучших 1% оценок"
   ]
  },
  {
   "cell_type": "code",
   "execution_count": 226,
   "metadata": {},
   "outputs": [
    {
     "data": {
      "text/html": [
       "<div>\n",
       "<style scoped>\n",
       "    .dataframe tbody tr th:only-of-type {\n",
       "        vertical-align: middle;\n",
       "    }\n",
       "\n",
       "    .dataframe tbody tr th {\n",
       "        vertical-align: top;\n",
       "    }\n",
       "\n",
       "    .dataframe thead th {\n",
       "        text-align: right;\n",
       "    }\n",
       "</style>\n",
       "<table border=\"1\" class=\"dataframe\">\n",
       "  <thead>\n",
       "    <tr style=\"text-align: right;\">\n",
       "      <th></th>\n",
       "      <th>criterion</th>\n",
       "      <th>criterion</th>\n",
       "    </tr>\n",
       "  </thead>\n",
       "  <tbody>\n",
       "    <tr>\n",
       "      <th>gini</th>\n",
       "      <td>0.596491</td>\n",
       "      <td>136</td>\n",
       "    </tr>\n",
       "    <tr>\n",
       "      <th>entropy</th>\n",
       "      <td>0.403509</td>\n",
       "      <td>92</td>\n",
       "    </tr>\n",
       "  </tbody>\n",
       "</table>\n",
       "</div>"
      ],
      "text/plain": [
       "         criterion  criterion\n",
       "gini      0.596491        136\n",
       "entropy   0.403509         92"
      ]
     },
     "execution_count": 226,
     "metadata": {},
     "output_type": "execute_result"
    }
   ],
   "source": [
    "idx = out_dtcl['accuracy_dtcl_valid'].nlargest(out_dtcl.shape[0]//100).index\n",
    "pd.concat((out_dtcl.loc[idx]['criterion'].value_counts(normalize=True),\n",
    "           out_dtcl.loc[idx]['criterion'].value_counts()), axis=1)"
   ]
  },
  {
   "cell_type": "markdown",
   "metadata": {},
   "source": [
    "Видим, что в целом критерий не влияет на качество. Но для лучших комбинаций параметров (1%) преобладает критерий entropy"
   ]
  },
  {
   "cell_type": "markdown",
   "metadata": {},
   "source": [
    "#### Несколько параметров для случайного леса"
   ]
  },
  {
   "cell_type": "code",
   "execution_count": 227,
   "metadata": {},
   "outputs": [
    {
     "name": "stdout",
     "output_type": "stream",
     "text": [
      "Количество итераций для случайного леса: 5601\n"
     ]
    }
   ],
   "source": [
    "print('Количество итераций для случайного леса:', out_rfcl.shape[0])"
   ]
  },
  {
   "cell_type": "code",
   "execution_count": 228,
   "metadata": {},
   "outputs": [
    {
     "data": {
      "text/plain": [
       "Text(0.5, 1.0, 'min_samples_leaf')"
      ]
     },
     "execution_count": 228,
     "metadata": {},
     "output_type": "execute_result"
    },
    {
     "data": {
      "image/png": "[encoded data removed]",
      "text/plain": [
       "<Figure size 864x864 with 4 Axes>"
      ]
     },
     "metadata": {
      "needs_background": "light"
     },
     "output_type": "display_data"
    }
   ],
   "source": [
    "# случайный лес\n",
    "figure, axis = plt.subplots(2, 2, figsize=(12,12))\n",
    "axis[0,0].scatter(y=out_rfcl['accuracy_rfcl_valid'],x=out_rfcl['rfcl_estimators'])\n",
    "axis[0,0].set_title('rfcl_estimators')\n",
    "axis[0,1].scatter(y=out_rfcl['accuracy_rfcl_valid'],x=out_rfcl['max_depth'])\n",
    "axis[0,1].set_title('max_depth')\n",
    "axis[1,0].scatter(y=out_rfcl['accuracy_rfcl_valid'],x=out_rfcl['min_samples_split'])\n",
    "axis[1,0].set_title('min_samples_split')\n",
    "axis[1,1].scatter(y=out_rfcl['accuracy_rfcl_valid'],x=out_rfcl['min_samples_leaf'])\n",
    "axis[1,1].set_title('min_samples_leaf')"
   ]
  },
  {
   "cell_type": "markdown",
   "metadata": {},
   "source": [
    "Посмотрим лучшие комбинации"
   ]
  },
  {
   "cell_type": "code",
   "execution_count": 229,
   "metadata": {},
   "outputs": [
    {
     "name": "stdout",
     "output_type": "stream",
     "text": [
      "Количество итераций со случайным лесом:  5601\n",
      "\n",
      "Таблица параметров для 5% лучших результатов\n"
     ]
    },
    {
     "data": {
      "text/html": [
       "<div>\n",
       "<style scoped>\n",
       "    .dataframe tbody tr th:only-of-type {\n",
       "        vertical-align: middle;\n",
       "    }\n",
       "\n",
       "    .dataframe tbody tr th {\n",
       "        vertical-align: top;\n",
       "    }\n",
       "\n",
       "    .dataframe thead th {\n",
       "        text-align: right;\n",
       "    }\n",
       "</style>\n",
       "<table border=\"1\" class=\"dataframe\">\n",
       "  <thead>\n",
       "    <tr style=\"text-align: right;\">\n",
       "      <th></th>\n",
       "      <th>common_fetch</th>\n",
       "      <th>rfcl_estimators</th>\n",
       "      <th>accuracy_rfcl_train</th>\n",
       "      <th>accuracy_rfcl_valid</th>\n",
       "      <th>max_depth</th>\n",
       "      <th>min_samples_split</th>\n",
       "      <th>min_samples_leaf</th>\n",
       "    </tr>\n",
       "  </thead>\n",
       "  <tbody>\n",
       "    <tr>\n",
       "      <th>1661</th>\n",
       "      <td>0.25</td>\n",
       "      <td>14.0</td>\n",
       "      <td>0.898340</td>\n",
       "      <td>0.805599</td>\n",
       "      <td>16.0</td>\n",
       "      <td>10.0</td>\n",
       "      <td>1.0</td>\n",
       "    </tr>\n",
       "    <tr>\n",
       "      <th>4771</th>\n",
       "      <td>0.25</td>\n",
       "      <td>41.0</td>\n",
       "      <td>0.871369</td>\n",
       "      <td>0.805599</td>\n",
       "      <td>13.0</td>\n",
       "      <td>18.0</td>\n",
       "      <td>1.0</td>\n",
       "    </tr>\n",
       "    <tr>\n",
       "      <th>1361</th>\n",
       "      <td>0.25</td>\n",
       "      <td>11.0</td>\n",
       "      <td>0.908195</td>\n",
       "      <td>0.804044</td>\n",
       "      <td>19.0</td>\n",
       "      <td>10.0</td>\n",
       "      <td>1.0</td>\n",
       "    </tr>\n",
       "    <tr>\n",
       "      <th>2652</th>\n",
       "      <td>0.25</td>\n",
       "      <td>23.0</td>\n",
       "      <td>0.869813</td>\n",
       "      <td>0.804044</td>\n",
       "      <td>13.0</td>\n",
       "      <td>2.0</td>\n",
       "      <td>5.0</td>\n",
       "    </tr>\n",
       "    <tr>\n",
       "      <th>2657</th>\n",
       "      <td>0.25</td>\n",
       "      <td>23.0</td>\n",
       "      <td>0.869813</td>\n",
       "      <td>0.804044</td>\n",
       "      <td>13.0</td>\n",
       "      <td>6.0</td>\n",
       "      <td>5.0</td>\n",
       "    </tr>\n",
       "    <tr>\n",
       "      <th>2662</th>\n",
       "      <td>0.25</td>\n",
       "      <td>23.0</td>\n",
       "      <td>0.869813</td>\n",
       "      <td>0.804044</td>\n",
       "      <td>13.0</td>\n",
       "      <td>10.0</td>\n",
       "      <td>5.0</td>\n",
       "    </tr>\n",
       "    <tr>\n",
       "      <th>4071</th>\n",
       "      <td>0.25</td>\n",
       "      <td>35.0</td>\n",
       "      <td>0.871888</td>\n",
       "      <td>0.804044</td>\n",
       "      <td>13.0</td>\n",
       "      <td>18.0</td>\n",
       "      <td>1.0</td>\n",
       "    </tr>\n",
       "    <tr>\n",
       "      <th>1352</th>\n",
       "      <td>0.25</td>\n",
       "      <td>11.0</td>\n",
       "      <td>0.872925</td>\n",
       "      <td>0.802488</td>\n",
       "      <td>19.0</td>\n",
       "      <td>2.0</td>\n",
       "      <td>5.0</td>\n",
       "    </tr>\n",
       "    <tr>\n",
       "      <th>1357</th>\n",
       "      <td>0.25</td>\n",
       "      <td>11.0</td>\n",
       "      <td>0.872925</td>\n",
       "      <td>0.802488</td>\n",
       "      <td>19.0</td>\n",
       "      <td>6.0</td>\n",
       "      <td>5.0</td>\n",
       "    </tr>\n",
       "    <tr>\n",
       "      <th>1362</th>\n",
       "      <td>0.25</td>\n",
       "      <td>11.0</td>\n",
       "      <td>0.872925</td>\n",
       "      <td>0.802488</td>\n",
       "      <td>19.0</td>\n",
       "      <td>10.0</td>\n",
       "      <td>5.0</td>\n",
       "    </tr>\n",
       "    <tr>\n",
       "      <th>1711</th>\n",
       "      <td>0.25</td>\n",
       "      <td>14.0</td>\n",
       "      <td>0.906639</td>\n",
       "      <td>0.802488</td>\n",
       "      <td>19.0</td>\n",
       "      <td>10.0</td>\n",
       "      <td>1.0</td>\n",
       "    </tr>\n",
       "    <tr>\n",
       "      <th>2752</th>\n",
       "      <td>0.25</td>\n",
       "      <td>23.0</td>\n",
       "      <td>0.870332</td>\n",
       "      <td>0.802488</td>\n",
       "      <td>19.0</td>\n",
       "      <td>2.0</td>\n",
       "      <td>5.0</td>\n",
       "    </tr>\n",
       "    <tr>\n",
       "      <th>2757</th>\n",
       "      <td>0.25</td>\n",
       "      <td>23.0</td>\n",
       "      <td>0.870332</td>\n",
       "      <td>0.802488</td>\n",
       "      <td>19.0</td>\n",
       "      <td>6.0</td>\n",
       "      <td>5.0</td>\n",
       "    </tr>\n",
       "    <tr>\n",
       "      <th>2762</th>\n",
       "      <td>0.25</td>\n",
       "      <td>23.0</td>\n",
       "      <td>0.870332</td>\n",
       "      <td>0.802488</td>\n",
       "      <td>19.0</td>\n",
       "      <td>10.0</td>\n",
       "      <td>5.0</td>\n",
       "    </tr>\n",
       "    <tr>\n",
       "      <th>4052</th>\n",
       "      <td>0.25</td>\n",
       "      <td>35.0</td>\n",
       "      <td>0.870332</td>\n",
       "      <td>0.802488</td>\n",
       "      <td>13.0</td>\n",
       "      <td>2.0</td>\n",
       "      <td>5.0</td>\n",
       "    </tr>\n",
       "    <tr>\n",
       "      <th>4057</th>\n",
       "      <td>0.25</td>\n",
       "      <td>35.0</td>\n",
       "      <td>0.870332</td>\n",
       "      <td>0.802488</td>\n",
       "      <td>13.0</td>\n",
       "      <td>6.0</td>\n",
       "      <td>5.0</td>\n",
       "    </tr>\n",
       "    <tr>\n",
       "      <th>4062</th>\n",
       "      <td>0.25</td>\n",
       "      <td>35.0</td>\n",
       "      <td>0.870332</td>\n",
       "      <td>0.802488</td>\n",
       "      <td>13.0</td>\n",
       "      <td>10.0</td>\n",
       "      <td>5.0</td>\n",
       "    </tr>\n",
       "    <tr>\n",
       "      <th>5121</th>\n",
       "      <td>0.25</td>\n",
       "      <td>44.0</td>\n",
       "      <td>0.872407</td>\n",
       "      <td>0.802488</td>\n",
       "      <td>13.0</td>\n",
       "      <td>18.0</td>\n",
       "      <td>1.0</td>\n",
       "    </tr>\n",
       "    <tr>\n",
       "      <th>5471</th>\n",
       "      <td>0.25</td>\n",
       "      <td>47.0</td>\n",
       "      <td>0.872407</td>\n",
       "      <td>0.802488</td>\n",
       "      <td>13.0</td>\n",
       "      <td>18.0</td>\n",
       "      <td>1.0</td>\n",
       "    </tr>\n",
       "    <tr>\n",
       "      <th>852</th>\n",
       "      <td>0.25</td>\n",
       "      <td>8.0</td>\n",
       "      <td>0.854253</td>\n",
       "      <td>0.800933</td>\n",
       "      <td>10.0</td>\n",
       "      <td>2.0</td>\n",
       "      <td>5.0</td>\n",
       "    </tr>\n",
       "  </tbody>\n",
       "</table>\n",
       "</div>"
      ],
      "text/plain": [
       "      common_fetch  rfcl_estimators  accuracy_rfcl_train  accuracy_rfcl_valid  \\\n",
       "1661          0.25             14.0             0.898340             0.805599   \n",
       "4771          0.25             41.0             0.871369             0.805599   \n",
       "1361          0.25             11.0             0.908195             0.804044   \n",
       "2652          0.25             23.0             0.869813             0.804044   \n",
       "2657          0.25             23.0             0.869813             0.804044   \n",
       "2662          0.25             23.0             0.869813             0.804044   \n",
       "4071          0.25             35.0             0.871888             0.804044   \n",
       "1352          0.25             11.0             0.872925             0.802488   \n",
       "1357          0.25             11.0             0.872925             0.802488   \n",
       "1362          0.25             11.0             0.872925             0.802488   \n",
       "1711          0.25             14.0             0.906639             0.802488   \n",
       "2752          0.25             23.0             0.870332             0.802488   \n",
       "2757          0.25             23.0             0.870332             0.802488   \n",
       "2762          0.25             23.0             0.870332             0.802488   \n",
       "4052          0.25             35.0             0.870332             0.802488   \n",
       "4057          0.25             35.0             0.870332             0.802488   \n",
       "4062          0.25             35.0             0.870332             0.802488   \n",
       "5121          0.25             44.0             0.872407             0.802488   \n",
       "5471          0.25             47.0             0.872407             0.802488   \n",
       "852           0.25              8.0             0.854253             0.800933   \n",
       "\n",
       "      max_depth  min_samples_split  min_samples_leaf  \n",
       "1661       16.0               10.0               1.0  \n",
       "4771       13.0               18.0               1.0  \n",
       "1361       19.0               10.0               1.0  \n",
       "2652       13.0                2.0               5.0  \n",
       "2657       13.0                6.0               5.0  \n",
       "2662       13.0               10.0               5.0  \n",
       "4071       13.0               18.0               1.0  \n",
       "1352       19.0                2.0               5.0  \n",
       "1357       19.0                6.0               5.0  \n",
       "1362       19.0               10.0               5.0  \n",
       "1711       19.0               10.0               1.0  \n",
       "2752       19.0                2.0               5.0  \n",
       "2757       19.0                6.0               5.0  \n",
       "2762       19.0               10.0               5.0  \n",
       "4052       13.0                2.0               5.0  \n",
       "4057       13.0                6.0               5.0  \n",
       "4062       13.0               10.0               5.0  \n",
       "5121       13.0               18.0               1.0  \n",
       "5471       13.0               18.0               1.0  \n",
       "852        10.0                2.0               5.0  "
      ]
     },
     "execution_count": 229,
     "metadata": {},
     "output_type": "execute_result"
    }
   ],
   "source": [
    "print('Количество итераций со случайным лесом: ',out_rfcl.shape[0])\n",
    "print()\n",
    "print('Таблица параметров для 5% лучших результатов')\n",
    "idx = out_rfcl['accuracy_rfcl_valid'].nlargest(out_rfcl.shape[0]//20).index\n",
    "out_rfcl.loc[idx].head(20)"
   ]
  },
  {
   "cell_type": "code",
   "execution_count": 230,
   "metadata": {},
   "outputs": [
    {
     "data": {
      "text/plain": [
       "11.0    29\n",
       "23.0    28\n",
       "14.0    27\n",
       "47.0    23\n",
       "29.0    23\n",
       "44.0    22\n",
       "17.0    20\n",
       "8.0     19\n",
       "26.0    18\n",
       "20.0    16\n",
       "32.0    14\n",
       "41.0    14\n",
       "38.0    11\n",
       "35.0    11\n",
       "5.0      5\n",
       "Name: rfcl_estimators, dtype: int64"
      ]
     },
     "execution_count": 230,
     "metadata": {},
     "output_type": "execute_result"
    }
   ],
   "source": [
    "# распределение оценщиков для 5% лучших комбинаций\n",
    "out_rfcl.loc[idx].rfcl_estimators.value_counts()"
   ]
  },
  {
   "cell_type": "code",
   "execution_count": 232,
   "metadata": {},
   "outputs": [
    {
     "data": {
      "text/plain": [
       "13.0    123\n",
       "19.0     57\n",
       "16.0     55\n",
       "10.0     45\n",
       "Name: max_depth, dtype: int64"
      ]
     },
     "execution_count": 232,
     "metadata": {},
     "output_type": "execute_result"
    }
   ],
   "source": [
    "# распределение max_depth для 5% лучших комбинаций\n",
    "out_rfcl.loc[idx].max_depth.value_counts()"
   ]
  },
  {
   "cell_type": "markdown",
   "metadata": {},
   "source": [
    "Видим, что\n",
    "- характерная глубина для Топ20 - 13-19\n",
    "- min_samples_split для удачных решений можно брать 2\n",
    "- min_samples_leaf можно брать равным 5\n",
    "- количество оценщиков - наиболее частое значение в лучших 5% оценок равно 11, при этом значение 23 почти также часто встречается в Топе и это значение сочетается с глубиной 13"
   ]
  },
  {
   "cell_type": "markdown",
   "metadata": {},
   "source": [
    "Общий вывод: \n",
    "- модель логистиеской регрессии устойчива в плане оценок к изменению гиперпараметров, но обладает меньшим из других моделей качеством на валидационной выборке 0.7262.\n",
    "- модель решающего дерева дает результат (0.7931) лучше логистической регрессии. параметры: max_depth=11, min_samle_leaf = 9, criterion = entropy\n",
    "- модель случайного леса при анализе гиперпараметров дает самый высокий результат 0.8056. Параметры: n_estimators=41, max_depth=13, min_samples_split=18, min_samples_leaf=1\n",
    "\n",
    "Таким образом будем тестировать модель случайного леса с указанными параметрами"
   ]
  },
  {
   "cell_type": "markdown",
   "metadata": {},
   "source": [
    "## Проверьте модель на тестовой выборке"
   ]
  },
  {
   "cell_type": "code",
   "execution_count": 236,
   "metadata": {},
   "outputs": [
    {
     "name": "stdout",
     "output_type": "stream",
     "text": [
      "Качество на валидационной выборке: 0.8056\n",
      "Качество на тестовой выборке: 0.79316\n"
     ]
    }
   ],
   "source": [
    "# модель случайного леса дает самый высокий результат 0.810205.\n",
    "# Параметры: n_estimators=23, max_depth=13, min_samples_split=5\n",
    "model_rfcl_test = RandomForestClassifier(\n",
    "        random_state=12345, n_estimators=41,max_depth=13,\n",
    "        min_samples_leaf=1,min_samples_split=18)\n",
    "model_rfcl_test.fit(features_train, target_train)\n",
    "#predictions_valid = model_rfcl_test.predict(features_valid)\n",
    "#accuracy_rfcl_valid = accuracy_score(target_valid, predictions_valid)\n",
    "predictions_test = model_rfcl_test.predict(features_test)\n",
    "accuracy_rfcl_test = accuracy_score(target_test, predictions_test)\n",
    "\"print('Качество на валидационной выборке:',accuracy_rfcl_valid.round(5))\n",
    "print('Качество на тестовой выборке:',accuracy_rfcl_test.round(5))"
   ]
  },
  {
   "cell_type": "markdown",
   "metadata": {},
   "source": [
    "<div style=\"background: #B0E0E6; padding: 5px; border: 1px solid SteelBlue; border-radius: 5px;\">\n",
    "    <font color='4682B4'>Получил меньший скор на тесте.\n",
    "\n",
    "Что же делать? Это зависит от размера ухудшения, от условий исходной задачи и от цены эксперимента. В нашем случае задача - получить оценку выше 0.75 - мы с ней справились. Далее смотрим размер ухудшения: наш случай- снижение на 1,54% (не процентных пункта). Не знаю, конечно, общей практики, но по моему мнению, это допустимо и, соответственно, ничего предпринимать не надо. Ухудшение качества, например, на 5-10% должно свидетельствовать о некачественной (переобученной, недообученной) модели, либо о применении к задаче модели несоответствующего типа. Ну и, если становится понятно, что наше решение (модель) неправильная необходимо учитывать затраты на ее изменение: в нашем случае и в массе других примеров мы просто будем использовать тот же датасет и похожие сплиты на выборки. Доп затраты относительно небольшие: время на перенастройку и обучение. В некоторых задачах, как я понимаю- на порядки более сложных, такой подход \"пределаем\" не применим в виду его затратности- но в таких задачах должен быть совсем другой подход к планированию и проведению эксперимента. \n",
    "    </font>\n",
    "</div>"
   ]
  },
  {
   "cell_type": "markdown",
   "metadata": {},
   "source": [
    "## (бонус) Проверьте модели на адекватность"
   ]
  },
  {
   "cell_type": "markdown",
   "metadata": {},
   "source": [
    "Сравним нашу модель с моделью, предсказывающей наиболее часто встречающийся класс"
   ]
  },
  {
   "cell_type": "code",
   "execution_count": 52,
   "metadata": {},
   "outputs": [
    {
     "name": "stdout",
     "output_type": "stream",
     "text": [
      "Качество dummy модели на всей выборке 0.693528313627878\n",
      "Качество dummy модели, обученной на трен. данных, для тестовой выборки 0.6951788491446346\n"
     ]
    }
   ],
   "source": [
    "from sklearn.dummy import DummyClassifier\n",
    "dummy_clf = DummyClassifier(strategy=\"most_frequent\", random_state=0)\n",
    "dummy_clf.fit(features,target)\n",
    "print('Качество dummy модели на всей выборке',dummy_clf.score(features,target))\n",
    "dummy_clf.fit(features_train,target_train)\n",
    "print('Качество dummy модели, обученной на трен. данных, для тестовой выборки',\n",
    "      dummy_clf.score(features_test,target_test))"
   ]
  },
  {
   "cell_type": "markdown",
   "metadata": {},
   "source": [
    "Т.о. нашу модель можно считать адекватной."
   ]
  }
 ],
 "metadata": {
  "ExecuteTimeLog": [
   {
    "duration": 2974,
    "start_time": "2023-02-09T14:02:19.030Z"
   },
   {
    "duration": 232,
    "start_time": "2023-02-09T14:02:22.007Z"
   },
   {
    "duration": 0,
    "start_time": "2023-02-09T14:02:22.243Z"
   },
   {
    "duration": 0,
    "start_time": "2023-02-09T14:02:22.244Z"
   },
   {
    "duration": 0,
    "start_time": "2023-02-09T14:02:22.246Z"
   },
   {
    "duration": 0,
    "start_time": "2023-02-09T14:02:22.248Z"
   },
   {
    "duration": 0,
    "start_time": "2023-02-09T14:02:22.249Z"
   },
   {
    "duration": 0,
    "start_time": "2023-02-09T14:02:22.251Z"
   },
   {
    "duration": 0,
    "start_time": "2023-02-09T14:02:22.269Z"
   },
   {
    "duration": 0,
    "start_time": "2023-02-09T14:02:22.270Z"
   },
   {
    "duration": 0,
    "start_time": "2023-02-09T14:02:22.272Z"
   },
   {
    "duration": 0,
    "start_time": "2023-02-09T14:02:22.273Z"
   },
   {
    "duration": 0,
    "start_time": "2023-02-09T14:02:22.274Z"
   },
   {
    "duration": 0,
    "start_time": "2023-02-09T14:02:22.279Z"
   },
   {
    "duration": 0,
    "start_time": "2023-02-09T14:02:22.279Z"
   },
   {
    "duration": 0,
    "start_time": "2023-02-09T14:02:22.280Z"
   },
   {
    "duration": 0,
    "start_time": "2023-02-09T14:02:22.281Z"
   },
   {
    "duration": 0,
    "start_time": "2023-02-09T14:02:22.282Z"
   },
   {
    "duration": 0,
    "start_time": "2023-02-09T14:02:22.282Z"
   },
   {
    "duration": 0,
    "start_time": "2023-02-09T14:02:22.283Z"
   },
   {
    "duration": 0,
    "start_time": "2023-02-09T14:02:22.291Z"
   },
   {
    "duration": 0,
    "start_time": "2023-02-09T14:02:22.292Z"
   },
   {
    "duration": 0,
    "start_time": "2023-02-09T14:02:22.292Z"
   },
   {
    "duration": 0,
    "start_time": "2023-02-09T14:02:22.293Z"
   },
   {
    "duration": 0,
    "start_time": "2023-02-09T14:02:22.294Z"
   },
   {
    "duration": 0,
    "start_time": "2023-02-09T14:02:22.295Z"
   },
   {
    "duration": 0,
    "start_time": "2023-02-09T14:02:22.300Z"
   },
   {
    "duration": 0,
    "start_time": "2023-02-09T14:02:22.301Z"
   },
   {
    "duration": 0,
    "start_time": "2023-02-09T14:02:22.307Z"
   },
   {
    "duration": 0,
    "start_time": "2023-02-09T14:02:22.308Z"
   },
   {
    "duration": 0,
    "start_time": "2023-02-09T14:02:22.310Z"
   },
   {
    "duration": 0,
    "start_time": "2023-02-09T14:02:22.312Z"
   },
   {
    "duration": 0,
    "start_time": "2023-02-09T14:02:22.313Z"
   },
   {
    "duration": 0,
    "start_time": "2023-02-09T14:02:22.317Z"
   },
   {
    "duration": 0,
    "start_time": "2023-02-09T14:02:22.318Z"
   },
   {
    "duration": 0,
    "start_time": "2023-02-09T14:02:22.320Z"
   },
   {
    "duration": 0,
    "start_time": "2023-02-09T14:02:22.322Z"
   },
   {
    "duration": 0,
    "start_time": "2023-02-09T14:02:22.325Z"
   },
   {
    "duration": 0,
    "start_time": "2023-02-09T14:02:22.327Z"
   },
   {
    "duration": 0,
    "start_time": "2023-02-09T14:02:22.328Z"
   },
   {
    "duration": 0,
    "start_time": "2023-02-09T14:02:22.330Z"
   },
   {
    "duration": 0,
    "start_time": "2023-02-09T14:02:22.335Z"
   },
   {
    "duration": 0,
    "start_time": "2023-02-09T14:02:22.336Z"
   },
   {
    "duration": 0,
    "start_time": "2023-02-09T14:02:22.338Z"
   },
   {
    "duration": 0,
    "start_time": "2023-02-09T14:02:22.367Z"
   },
   {
    "duration": 0,
    "start_time": "2023-02-09T14:02:22.369Z"
   },
   {
    "duration": 0,
    "start_time": "2023-02-09T14:02:22.371Z"
   },
   {
    "duration": 0,
    "start_time": "2023-02-09T14:02:22.372Z"
   },
   {
    "duration": 0,
    "start_time": "2023-02-09T14:02:22.374Z"
   },
   {
    "duration": 0,
    "start_time": "2023-02-09T14:02:22.376Z"
   },
   {
    "duration": 0,
    "start_time": "2023-02-09T14:02:22.377Z"
   },
   {
    "duration": 0,
    "start_time": "2023-02-09T14:02:22.381Z"
   },
   {
    "duration": 236,
    "start_time": "2023-02-09T14:02:41.399Z"
   },
   {
    "duration": 2796,
    "start_time": "2023-02-09T14:02:46.701Z"
   },
   {
    "duration": 56,
    "start_time": "2023-02-09T14:02:49.504Z"
   },
   {
    "duration": 21,
    "start_time": "2023-02-09T14:02:49.561Z"
   },
   {
    "duration": 91,
    "start_time": "2023-02-09T14:02:49.588Z"
   },
   {
    "duration": 777,
    "start_time": "2023-02-09T14:02:49.684Z"
   },
   {
    "duration": 13,
    "start_time": "2023-02-09T14:02:50.466Z"
   },
   {
    "duration": 67,
    "start_time": "2023-02-09T14:02:50.487Z"
   },
   {
    "duration": 802,
    "start_time": "2023-02-09T14:02:50.556Z"
   },
   {
    "duration": 10,
    "start_time": "2023-02-09T14:02:51.361Z"
   },
   {
    "duration": 72,
    "start_time": "2023-02-09T14:02:51.375Z"
   },
   {
    "duration": 51,
    "start_time": "2023-02-09T14:02:51.449Z"
   },
   {
    "duration": 63,
    "start_time": "2023-02-09T14:02:51.502Z"
   },
   {
    "duration": 37,
    "start_time": "2023-02-09T14:02:51.576Z"
   },
   {
    "duration": 14,
    "start_time": "2023-02-09T14:02:51.615Z"
   },
   {
    "duration": 26,
    "start_time": "2023-02-09T14:02:51.631Z"
   },
   {
    "duration": 75,
    "start_time": "2023-02-09T14:02:51.659Z"
   },
   {
    "duration": 347,
    "start_time": "2023-02-09T14:02:51.736Z"
   },
   {
    "duration": 354,
    "start_time": "2023-02-09T14:02:52.092Z"
   },
   {
    "duration": 349,
    "start_time": "2023-02-09T14:02:52.452Z"
   },
   {
    "duration": 34,
    "start_time": "2023-02-09T14:02:52.809Z"
   },
   {
    "duration": 2343,
    "start_time": "2023-02-09T14:02:52.845Z"
   },
   {
    "duration": 305543,
    "start_time": "2023-02-09T14:02:55.190Z"
   },
   {
    "duration": 98,
    "start_time": "2023-02-09T14:08:00.735Z"
   },
   {
    "duration": 644,
    "start_time": "2023-02-09T14:08:00.840Z"
   },
   {
    "duration": 8,
    "start_time": "2023-02-09T14:08:01.485Z"
   },
   {
    "duration": 478,
    "start_time": "2023-02-09T14:08:01.495Z"
   },
   {
    "duration": 330,
    "start_time": "2023-02-09T14:08:01.975Z"
   },
   {
    "duration": 28,
    "start_time": "2023-02-09T14:08:02.310Z"
   },
   {
    "duration": 430,
    "start_time": "2023-02-09T14:08:02.344Z"
   },
   {
    "duration": 487,
    "start_time": "2023-02-09T14:08:02.779Z"
   },
   {
    "duration": 45,
    "start_time": "2023-02-09T14:08:03.280Z"
   },
   {
    "duration": 474,
    "start_time": "2023-02-09T14:08:03.327Z"
   },
   {
    "duration": 968,
    "start_time": "2023-02-09T14:08:03.811Z"
   },
   {
    "duration": 522806,
    "start_time": "2023-02-09T14:08:04.783Z"
   },
   {
    "duration": 788615,
    "start_time": "2023-02-09T14:16:47.591Z"
   },
   {
    "duration": 70,
    "start_time": "2023-02-09T14:29:56.208Z"
   },
   {
    "duration": 614,
    "start_time": "2023-02-09T14:29:56.280Z"
   },
   {
    "duration": 7,
    "start_time": "2023-02-09T14:29:56.896Z"
   },
   {
    "duration": 190,
    "start_time": "2023-02-09T14:29:56.905Z"
   },
   {
    "duration": 1032,
    "start_time": "2023-02-09T14:29:57.097Z"
   },
   {
    "duration": 22,
    "start_time": "2023-02-09T14:29:58.138Z"
   },
   {
    "duration": 179,
    "start_time": "2023-02-09T14:29:58.162Z"
   },
   {
    "duration": 218,
    "start_time": "2023-02-09T14:29:58.343Z"
   },
   {
    "duration": 190,
    "start_time": "2023-02-09T14:29:58.563Z"
   },
   {
    "duration": 239,
    "start_time": "2023-02-09T14:29:58.754Z"
   },
   {
    "duration": 15,
    "start_time": "2023-02-09T14:29:58.998Z"
   },
   {
    "duration": 35,
    "start_time": "2023-02-09T14:29:59.018Z"
   },
   {
    "duration": 784,
    "start_time": "2023-02-09T14:29:59.058Z"
   },
   {
    "duration": 73,
    "start_time": "2023-02-09T14:29:59.847Z"
   },
   {
    "duration": 56,
    "start_time": "2023-02-09T14:29:59.925Z"
   },
   {
    "duration": 190,
    "start_time": "2023-02-09T14:29:59.986Z"
   },
   {
    "duration": 12,
    "start_time": "2023-02-09T14:30:00.182Z"
   },
   {
    "duration": 48,
    "start_time": "2023-02-09T22:48:16.439Z"
   },
   {
    "duration": 1488,
    "start_time": "2023-02-09T22:50:17.291Z"
   },
   {
    "duration": 74,
    "start_time": "2023-02-09T22:50:20.186Z"
   },
   {
    "duration": 13,
    "start_time": "2023-02-09T22:50:28.948Z"
   },
   {
    "duration": 23,
    "start_time": "2023-02-09T22:50:30.244Z"
   },
   {
    "duration": 444,
    "start_time": "2023-02-09T22:50:30.844Z"
   },
   {
    "duration": 3,
    "start_time": "2023-02-09T22:50:32.185Z"
   },
   {
    "duration": 3,
    "start_time": "2023-02-09T22:50:32.649Z"
   },
   {
    "duration": 471,
    "start_time": "2023-02-09T22:50:33.085Z"
   },
   {
    "duration": 6,
    "start_time": "2023-02-09T22:50:33.899Z"
   },
   {
    "duration": 20,
    "start_time": "2023-02-09T22:50:35.185Z"
   },
   {
    "duration": 30,
    "start_time": "2023-02-09T22:50:36.546Z"
   },
   {
    "duration": 28,
    "start_time": "2023-02-09T22:50:36.933Z"
   },
   {
    "duration": 23,
    "start_time": "2023-02-09T22:50:38.424Z"
   },
   {
    "duration": 9,
    "start_time": "2023-02-09T22:50:40.127Z"
   },
   {
    "duration": 10,
    "start_time": "2023-02-09T22:50:40.707Z"
   },
   {
    "duration": 10,
    "start_time": "2023-02-09T22:50:41.251Z"
   },
   {
    "duration": 219,
    "start_time": "2023-02-09T22:50:50.653Z"
   },
   {
    "duration": 210,
    "start_time": "2023-02-09T22:50:51.145Z"
   },
   {
    "duration": 194,
    "start_time": "2023-02-09T22:50:51.782Z"
   },
   {
    "duration": 14,
    "start_time": "2023-02-09T22:51:06.238Z"
   },
   {
    "duration": 14,
    "start_time": "2023-02-09T22:51:32.700Z"
   },
   {
    "duration": 228,
    "start_time": "2023-02-09T22:51:50.748Z"
   },
   {
    "duration": 128478,
    "start_time": "2023-02-09T22:52:25.208Z"
   },
   {
    "duration": 52,
    "start_time": "2023-02-09T22:54:41.713Z"
   },
   {
    "duration": 215,
    "start_time": "2023-02-09T22:55:33.101Z"
   },
   {
    "duration": 265,
    "start_time": "2023-02-09T22:55:41.848Z"
   },
   {
    "duration": 6,
    "start_time": "2023-02-09T22:55:43.778Z"
   },
   {
    "duration": 194,
    "start_time": "2023-02-09T22:55:56.045Z"
   },
   {
    "duration": 209,
    "start_time": "2023-02-09T22:55:58.632Z"
   },
   {
    "duration": 17,
    "start_time": "2023-02-09T22:56:12.940Z"
   },
   {
    "duration": 279,
    "start_time": "2023-02-09T22:56:29.521Z"
   },
   {
    "duration": 226,
    "start_time": "2023-02-09T22:56:34.873Z"
   },
   {
    "duration": 13,
    "start_time": "2023-02-09T22:56:46.326Z"
   },
   {
    "duration": 184,
    "start_time": "2023-02-09T22:56:54.524Z"
   },
   {
    "duration": 491,
    "start_time": "2023-02-09T22:56:57.476Z"
   },
   {
    "duration": 325690,
    "start_time": "2023-02-09T22:57:03.190Z"
   },
   {
    "duration": 439103,
    "start_time": "2023-02-09T23:05:33.268Z"
   },
   {
    "duration": 47,
    "start_time": "2023-02-09T23:20:11.263Z"
   },
   {
    "duration": 417,
    "start_time": "2023-02-09T23:21:35.438Z"
   },
   {
    "duration": 6,
    "start_time": "2023-02-09T23:21:43.001Z"
   },
   {
    "duration": 32,
    "start_time": "2023-02-09T23:21:47.432Z"
   },
   {
    "duration": 791,
    "start_time": "2023-02-09T23:21:55.741Z"
   },
   {
    "duration": 23,
    "start_time": "2023-02-09T23:22:01.888Z"
   },
   {
    "duration": 111,
    "start_time": "2023-02-09T23:22:20.674Z"
   },
   {
    "duration": 124,
    "start_time": "2023-02-09T23:22:21.617Z"
   },
   {
    "duration": 110,
    "start_time": "2023-02-09T23:22:22.188Z"
   },
   {
    "duration": 136,
    "start_time": "2023-02-09T23:22:22.959Z"
   },
   {
    "duration": 13,
    "start_time": "2023-02-09T23:22:25.567Z"
   },
   {
    "duration": 9,
    "start_time": "2023-02-09T23:22:34.827Z"
   },
   {
    "duration": 1676,
    "start_time": "2023-02-09T23:22:37.581Z"
   },
   {
    "duration": 8,
    "start_time": "2023-02-09T23:22:50.225Z"
   },
   {
    "duration": 1490,
    "start_time": "2023-02-09T23:22:52.597Z"
   },
   {
    "duration": 597623,
    "start_time": "2023-02-09T23:23:36.778Z"
   },
   {
    "duration": 575,
    "start_time": "2023-02-09T23:34:19.979Z"
   },
   {
    "duration": 20,
    "start_time": "2023-02-09T23:34:33.000Z"
   },
   {
    "duration": 1459,
    "start_time": "2023-02-10T01:16:21.799Z"
   },
   {
    "duration": 72,
    "start_time": "2023-02-10T01:16:23.259Z"
   },
   {
    "duration": 13,
    "start_time": "2023-02-10T01:16:24.667Z"
   },
   {
    "duration": 26,
    "start_time": "2023-02-10T01:16:25.993Z"
   },
   {
    "duration": 434,
    "start_time": "2023-02-10T01:16:27.002Z"
   },
   {
    "duration": 3,
    "start_time": "2023-02-10T01:16:28.762Z"
   },
   {
    "duration": 2,
    "start_time": "2023-02-10T01:16:29.138Z"
   },
   {
    "duration": 479,
    "start_time": "2023-02-10T01:16:29.531Z"
   },
   {
    "duration": 6,
    "start_time": "2023-02-10T01:16:31.582Z"
   },
   {
    "duration": 16,
    "start_time": "2023-02-10T01:16:34.133Z"
   },
   {
    "duration": 28,
    "start_time": "2023-02-10T01:16:35.796Z"
   },
   {
    "duration": 29,
    "start_time": "2023-02-10T01:16:36.668Z"
   },
   {
    "duration": 24,
    "start_time": "2023-02-10T01:16:41.444Z"
   },
   {
    "duration": 13,
    "start_time": "2023-02-10T01:17:02.465Z"
   },
   {
    "duration": 10,
    "start_time": "2023-02-10T01:17:02.836Z"
   },
   {
    "duration": 10,
    "start_time": "2023-02-10T01:17:05.692Z"
   },
   {
    "duration": 196,
    "start_time": "2023-02-10T01:17:08.059Z"
   },
   {
    "duration": 187,
    "start_time": "2023-02-10T01:17:08.450Z"
   },
   {
    "duration": 177,
    "start_time": "2023-02-10T01:17:10.570Z"
   },
   {
    "duration": 104,
    "start_time": "2023-02-10T01:19:01.552Z"
   },
   {
    "duration": 16,
    "start_time": "2023-02-10T01:19:07.535Z"
   },
   {
    "duration": 271,
    "start_time": "2023-02-10T01:19:12.335Z"
   },
   {
    "duration": 214,
    "start_time": "2023-02-10T01:48:55.113Z"
   },
   {
    "duration": 3940,
    "start_time": "2023-02-10T01:51:36.889Z"
   },
   {
    "duration": 330043,
    "start_time": "2023-02-10T01:52:11.672Z"
   },
   {
    "duration": 455949,
    "start_time": "2023-02-10T01:59:50.597Z"
   },
   {
    "duration": 6,
    "start_time": "2023-02-10T02:07:52.374Z"
   },
   {
    "duration": 152,
    "start_time": "2023-02-10T02:07:52.902Z"
   },
   {
    "duration": 5,
    "start_time": "2023-02-10T02:10:16.628Z"
   },
   {
    "duration": 152,
    "start_time": "2023-02-10T02:10:17.156Z"
   },
   {
    "duration": 2276,
    "start_time": "2023-02-10T02:10:17.742Z"
   },
   {
    "duration": 194310,
    "start_time": "2023-02-10T02:10:38.429Z"
   },
   {
    "duration": 244066,
    "start_time": "2023-02-10T02:14:12.203Z"
   },
   {
    "duration": 34,
    "start_time": "2023-02-10T02:18:27.446Z"
   },
   {
    "duration": 5,
    "start_time": "2023-02-10T02:19:06.990Z"
   },
   {
    "duration": 480,
    "start_time": "2023-02-10T02:22:02.675Z"
   },
   {
    "duration": 6,
    "start_time": "2023-02-10T02:22:05.694Z"
   },
   {
    "duration": 22,
    "start_time": "2023-02-10T02:22:20.764Z"
   },
   {
    "duration": 544,
    "start_time": "2023-02-10T02:22:32.523Z"
   },
   {
    "duration": 20,
    "start_time": "2023-02-10T02:23:36.695Z"
   },
   {
    "duration": 5,
    "start_time": "2023-02-10T02:23:49.827Z"
   },
   {
    "duration": 174,
    "start_time": "2023-02-10T02:23:50.383Z"
   },
   {
    "duration": 2488,
    "start_time": "2023-02-10T02:23:50.923Z"
   },
   {
    "duration": 195183,
    "start_time": "2023-02-10T02:23:58.923Z"
   },
   {
    "duration": 243216,
    "start_time": "2023-02-10T02:28:13.383Z"
   },
   {
    "duration": 37,
    "start_time": "2023-02-10T02:33:15.546Z"
   },
   {
    "duration": 398,
    "start_time": "2023-02-10T02:33:24.574Z"
   },
   {
    "duration": 6,
    "start_time": "2023-02-10T02:33:26.892Z"
   },
   {
    "duration": 25,
    "start_time": "2023-02-10T02:33:31.292Z"
   },
   {
    "duration": 632,
    "start_time": "2023-02-10T02:33:33.142Z"
   },
   {
    "duration": 20,
    "start_time": "2023-02-10T02:33:39.569Z"
   },
   {
    "duration": 109,
    "start_time": "2023-02-10T02:33:55.748Z"
   },
   {
    "duration": 117,
    "start_time": "2023-02-10T02:33:57.220Z"
   },
   {
    "duration": 105,
    "start_time": "2023-02-10T02:33:58.506Z"
   },
   {
    "duration": 107,
    "start_time": "2023-02-10T02:33:59.523Z"
   },
   {
    "duration": 14,
    "start_time": "2023-02-10T02:34:05.979Z"
   },
   {
    "duration": 12,
    "start_time": "2023-02-10T02:34:23.096Z"
   },
   {
    "duration": 437,
    "start_time": "2023-02-10T02:34:37.857Z"
   },
   {
    "duration": 24,
    "start_time": "2023-02-10T02:34:52.403Z"
   },
   {
    "duration": 6,
    "start_time": "2023-02-10T02:34:55.563Z"
   },
   {
    "duration": 109,
    "start_time": "2023-02-10T02:38:00.116Z"
   },
   {
    "duration": 116,
    "start_time": "2023-02-10T02:38:01.416Z"
   },
   {
    "duration": 105,
    "start_time": "2023-02-10T02:38:04.083Z"
   },
   {
    "duration": 123,
    "start_time": "2023-02-10T02:38:05.896Z"
   },
   {
    "duration": 13,
    "start_time": "2023-02-10T02:38:08.960Z"
   },
   {
    "duration": 12,
    "start_time": "2023-02-10T02:38:16.818Z"
   },
   {
    "duration": 548,
    "start_time": "2023-02-10T02:38:18.526Z"
   },
   {
    "duration": 4,
    "start_time": "2023-02-10T02:39:35.646Z"
   },
   {
    "duration": 6,
    "start_time": "2023-02-10T02:39:50.156Z"
   },
   {
    "duration": 156,
    "start_time": "2023-02-10T02:39:50.867Z"
   },
   {
    "duration": 2481,
    "start_time": "2023-02-10T02:39:51.430Z"
   },
   {
    "duration": 193425,
    "start_time": "2023-02-10T02:39:59.186Z"
   },
   {
    "duration": 276678,
    "start_time": "2023-02-10T02:44:50.670Z"
   },
   {
    "duration": 38,
    "start_time": "2023-02-10T02:53:21.071Z"
   },
   {
    "duration": 32,
    "start_time": "2023-02-10T02:53:28.827Z"
   },
   {
    "duration": 413,
    "start_time": "2023-02-10T02:53:43.259Z"
   },
   {
    "duration": 6,
    "start_time": "2023-02-10T02:53:45.506Z"
   },
   {
    "duration": 22,
    "start_time": "2023-02-10T02:53:47.230Z"
   },
   {
    "duration": 539,
    "start_time": "2023-02-10T02:53:51.338Z"
   },
   {
    "duration": 20,
    "start_time": "2023-02-10T02:54:06.019Z"
   },
   {
    "duration": 194,
    "start_time": "2023-02-10T02:54:11.779Z"
   },
   {
    "duration": 112,
    "start_time": "2023-02-10T02:54:13.060Z"
   },
   {
    "duration": 107,
    "start_time": "2023-02-10T02:54:13.699Z"
   },
   {
    "duration": 133,
    "start_time": "2023-02-10T02:54:14.843Z"
   },
   {
    "duration": 13,
    "start_time": "2023-02-10T02:54:18.655Z"
   },
   {
    "duration": 14,
    "start_time": "2023-02-10T02:54:22.321Z"
   },
   {
    "duration": 3,
    "start_time": "2023-02-10T02:54:33.065Z"
   },
   {
    "duration": 445,
    "start_time": "2023-02-10T02:54:35.582Z"
   },
   {
    "duration": 19,
    "start_time": "2023-02-10T02:54:55.814Z"
   },
   {
    "duration": 7,
    "start_time": "2023-02-10T02:55:01.375Z"
   },
   {
    "duration": 4,
    "start_time": "2023-02-10T03:01:55.414Z"
   },
   {
    "duration": 158,
    "start_time": "2023-02-10T03:01:55.767Z"
   },
   {
    "duration": 2401,
    "start_time": "2023-02-10T03:01:56.107Z"
   },
   {
    "duration": 197700,
    "start_time": "2023-02-10T03:02:01.557Z"
   },
   {
    "duration": 360538,
    "start_time": "2023-02-10T03:05:26.712Z"
   },
   {
    "duration": 38,
    "start_time": "2023-02-10T03:11:31.311Z"
   },
   {
    "duration": 397,
    "start_time": "2023-02-10T03:11:36.804Z"
   },
   {
    "duration": 7,
    "start_time": "2023-02-10T03:11:39.656Z"
   },
   {
    "duration": 21,
    "start_time": "2023-02-10T03:11:44.023Z"
   },
   {
    "duration": 643,
    "start_time": "2023-02-10T03:11:45.582Z"
   },
   {
    "duration": 20,
    "start_time": "2023-02-10T03:11:59.766Z"
   },
   {
    "duration": 113,
    "start_time": "2023-02-10T03:12:27.604Z"
   },
   {
    "duration": 114,
    "start_time": "2023-02-10T03:12:28.174Z"
   },
   {
    "duration": 110,
    "start_time": "2023-02-10T03:12:29.516Z"
   },
   {
    "duration": 112,
    "start_time": "2023-02-10T03:12:30.677Z"
   },
   {
    "duration": 11,
    "start_time": "2023-02-10T03:12:34.263Z"
   },
   {
    "duration": 4,
    "start_time": "2023-02-10T03:12:36.944Z"
   },
   {
    "duration": 430,
    "start_time": "2023-02-10T03:12:37.786Z"
   },
   {
    "duration": 18,
    "start_time": "2023-02-10T03:12:55.438Z"
   },
   {
    "duration": 6,
    "start_time": "2023-02-10T03:13:02.402Z"
   },
   {
    "duration": 116,
    "start_time": "2023-02-10T03:17:35.987Z"
   },
   {
    "duration": 110,
    "start_time": "2023-02-10T03:18:07.018Z"
   },
   {
    "duration": 88,
    "start_time": "2023-02-10T03:18:13.964Z"
   },
   {
    "duration": 87,
    "start_time": "2023-02-10T03:18:40.303Z"
   },
   {
    "duration": 94,
    "start_time": "2023-02-10T03:18:58.417Z"
   },
   {
    "duration": 117,
    "start_time": "2023-02-10T03:20:53.056Z"
   },
   {
    "duration": 143,
    "start_time": "2023-02-10T03:22:02.310Z"
   },
   {
    "duration": 12,
    "start_time": "2023-02-10T03:23:53.075Z"
   },
   {
    "duration": 14,
    "start_time": "2023-02-10T03:24:27.412Z"
   },
   {
    "duration": 16,
    "start_time": "2023-02-10T03:27:06.332Z"
   },
   {
    "duration": 204,
    "start_time": "2023-02-10T03:27:39.140Z"
   },
   {
    "duration": 15,
    "start_time": "2023-02-10T03:30:24.593Z"
   },
   {
    "duration": 16,
    "start_time": "2023-02-10T03:30:39.432Z"
   },
   {
    "duration": 202,
    "start_time": "2023-02-10T03:30:44.079Z"
   },
   {
    "duration": 3614,
    "start_time": "2023-02-10T03:30:44.627Z"
   },
   {
    "duration": 206828,
    "start_time": "2023-02-10T03:30:52.674Z"
   },
   {
    "duration": 4,
    "start_time": "2023-02-10T03:49:36.170Z"
   },
   {
    "duration": 31,
    "start_time": "2023-02-10T03:49:38.483Z"
   },
   {
    "duration": 10,
    "start_time": "2023-02-10T03:49:41.311Z"
   },
   {
    "duration": 21,
    "start_time": "2023-02-10T03:49:44.171Z"
   },
   {
    "duration": 536,
    "start_time": "2023-02-10T03:49:44.711Z"
   },
   {
    "duration": 3,
    "start_time": "2023-02-10T03:49:46.691Z"
   },
   {
    "duration": 3,
    "start_time": "2023-02-10T03:49:47.291Z"
   },
   {
    "duration": 399,
    "start_time": "2023-02-10T03:49:47.850Z"
   },
   {
    "duration": 5,
    "start_time": "2023-02-10T03:49:51.751Z"
   },
   {
    "duration": 15,
    "start_time": "2023-02-10T03:49:55.071Z"
   },
   {
    "duration": 29,
    "start_time": "2023-02-10T03:49:56.650Z"
   },
   {
    "duration": 29,
    "start_time": "2023-02-10T03:49:57.299Z"
   },
   {
    "duration": 27,
    "start_time": "2023-02-10T03:50:00.471Z"
   },
   {
    "duration": 10,
    "start_time": "2023-02-10T03:50:01.791Z"
   },
   {
    "duration": 11,
    "start_time": "2023-02-10T03:50:02.251Z"
   },
   {
    "duration": 11,
    "start_time": "2023-02-10T03:50:02.743Z"
   },
   {
    "duration": 221,
    "start_time": "2023-02-10T03:50:07.431Z"
   },
   {
    "duration": 214,
    "start_time": "2023-02-10T03:50:09.332Z"
   },
   {
    "duration": 199,
    "start_time": "2023-02-10T03:50:09.691Z"
   },
   {
    "duration": 13,
    "start_time": "2023-02-10T03:51:39.772Z"
   },
   {
    "duration": 235,
    "start_time": "2023-02-10T03:51:49.430Z"
   },
   {
    "duration": 13,
    "start_time": "2023-02-10T03:53:18.970Z"
   },
   {
    "duration": 204,
    "start_time": "2023-02-10T03:53:24.411Z"
   },
   {
    "duration": 3996,
    "start_time": "2023-02-10T03:55:04.871Z"
   },
   {
    "duration": 3937,
    "start_time": "2023-02-10T03:55:29.250Z"
   },
   {
    "duration": 4135,
    "start_time": "2023-02-10T03:56:24.011Z"
   },
   {
    "duration": 3847,
    "start_time": "2023-02-10T03:57:09.252Z"
   },
   {
    "duration": 92,
    "start_time": "2023-02-10T03:58:54.687Z"
   },
   {
    "duration": 3818,
    "start_time": "2023-02-10T03:59:15.904Z"
   },
   {
    "duration": 84,
    "start_time": "2023-02-10T03:59:54.874Z"
   },
   {
    "duration": 3792,
    "start_time": "2023-02-10T04:00:18.752Z"
   },
   {
    "duration": 3804,
    "start_time": "2023-02-10T04:00:26.896Z"
   },
   {
    "duration": 3777,
    "start_time": "2023-02-10T04:00:46.833Z"
   },
   {
    "duration": 4,
    "start_time": "2023-02-10T04:07:18.034Z"
   },
   {
    "duration": 30,
    "start_time": "2023-02-10T04:07:22.736Z"
   },
   {
    "duration": 11,
    "start_time": "2023-02-10T04:07:29.974Z"
   },
   {
    "duration": 30,
    "start_time": "2023-02-10T04:07:32.466Z"
   },
   {
    "duration": 625,
    "start_time": "2023-02-10T04:07:41.347Z"
   },
   {
    "duration": 4,
    "start_time": "2023-02-10T04:07:49.594Z"
   },
   {
    "duration": 3,
    "start_time": "2023-02-10T04:07:49.903Z"
   },
   {
    "duration": 414,
    "start_time": "2023-02-10T04:07:50.302Z"
   },
   {
    "duration": 6,
    "start_time": "2023-02-10T04:07:56.149Z"
   },
   {
    "duration": 20,
    "start_time": "2023-02-10T04:08:00.434Z"
   },
   {
    "duration": 29,
    "start_time": "2023-02-10T04:08:04.375Z"
   },
   {
    "duration": 27,
    "start_time": "2023-02-10T04:08:04.835Z"
   },
   {
    "duration": 27,
    "start_time": "2023-02-10T04:08:06.314Z"
   },
   {
    "duration": 10,
    "start_time": "2023-02-10T04:08:09.574Z"
   },
   {
    "duration": 12,
    "start_time": "2023-02-10T04:08:10.014Z"
   },
   {
    "duration": 11,
    "start_time": "2023-02-10T04:08:10.474Z"
   },
   {
    "duration": 204,
    "start_time": "2023-02-10T04:08:16.097Z"
   },
   {
    "duration": 222,
    "start_time": "2023-02-10T04:08:16.303Z"
   },
   {
    "duration": 220,
    "start_time": "2023-02-10T04:08:16.527Z"
   },
   {
    "duration": 16,
    "start_time": "2023-02-10T04:08:27.354Z"
   },
   {
    "duration": 243,
    "start_time": "2023-02-10T04:08:33.534Z"
   },
   {
    "duration": 16,
    "start_time": "2023-02-10T04:09:10.254Z"
   },
   {
    "duration": 230,
    "start_time": "2023-02-10T04:09:11.075Z"
   },
   {
    "duration": 4013,
    "start_time": "2023-02-10T04:09:11.783Z"
   },
   {
    "duration": 3808,
    "start_time": "2023-02-10T04:09:48.034Z"
   },
   {
    "duration": 214451,
    "start_time": "2023-02-10T04:09:55.795Z"
   },
   {
    "duration": 4,
    "start_time": "2023-02-10T04:19:54.781Z"
   },
   {
    "duration": 32,
    "start_time": "2023-02-10T04:19:56.581Z"
   },
   {
    "duration": 10,
    "start_time": "2023-02-10T04:20:00.016Z"
   },
   {
    "duration": 24,
    "start_time": "2023-02-10T04:20:02.173Z"
   },
   {
    "duration": 623,
    "start_time": "2023-02-10T04:20:05.563Z"
   },
   {
    "duration": 3,
    "start_time": "2023-02-10T04:20:07.276Z"
   },
   {
    "duration": 3,
    "start_time": "2023-02-10T04:20:08.057Z"
   },
   {
    "duration": 415,
    "start_time": "2023-02-10T04:20:08.723Z"
   },
   {
    "duration": 6,
    "start_time": "2023-02-10T04:20:19.682Z"
   },
   {
    "duration": 17,
    "start_time": "2023-02-10T04:20:27.898Z"
   },
   {
    "duration": 31,
    "start_time": "2023-02-10T04:20:32.309Z"
   },
   {
    "duration": 31,
    "start_time": "2023-02-10T04:20:33.279Z"
   },
   {
    "duration": 27,
    "start_time": "2023-02-10T04:20:36.747Z"
   },
   {
    "duration": 11,
    "start_time": "2023-02-10T04:20:40.343Z"
   },
   {
    "duration": 11,
    "start_time": "2023-02-10T04:20:41.099Z"
   },
   {
    "duration": 10,
    "start_time": "2023-02-10T04:20:41.763Z"
   },
   {
    "duration": 186,
    "start_time": "2023-02-10T04:20:45.377Z"
   },
   {
    "duration": 194,
    "start_time": "2023-02-10T04:20:47.898Z"
   },
   {
    "duration": 188,
    "start_time": "2023-02-10T04:20:49.008Z"
   },
   {
    "duration": 15,
    "start_time": "2023-02-10T04:20:57.745Z"
   },
   {
    "duration": 254,
    "start_time": "2023-02-10T04:21:05.640Z"
   },
   {
    "duration": 16,
    "start_time": "2023-02-10T04:21:19.268Z"
   },
   {
    "duration": 244,
    "start_time": "2023-02-10T04:21:22.364Z"
   },
   {
    "duration": 3675,
    "start_time": "2023-02-10T04:21:24.100Z"
   },
   {
    "duration": 210870,
    "start_time": "2023-02-10T04:21:33.701Z"
   },
   {
    "duration": 438665,
    "start_time": "2023-02-10T04:26:35.902Z"
   },
   {
    "duration": 45,
    "start_time": "2023-02-10T04:35:02.425Z"
   },
   {
    "duration": 431,
    "start_time": "2023-02-10T04:36:50.276Z"
   },
   {
    "duration": 7,
    "start_time": "2023-02-10T04:37:08.563Z"
   },
   {
    "duration": 54,
    "start_time": "2023-02-10T04:37:29.077Z"
   },
   {
    "duration": 716,
    "start_time": "2023-02-10T04:37:44.663Z"
   },
   {
    "duration": 20,
    "start_time": "2023-02-10T04:38:11.402Z"
   },
   {
    "duration": 109,
    "start_time": "2023-02-10T04:38:45.749Z"
   },
   {
    "duration": 117,
    "start_time": "2023-02-10T04:38:50.386Z"
   },
   {
    "duration": 108,
    "start_time": "2023-02-10T04:38:51.821Z"
   },
   {
    "duration": 107,
    "start_time": "2023-02-10T04:38:52.938Z"
   },
   {
    "duration": 12,
    "start_time": "2023-02-10T04:39:00.029Z"
   },
   {
    "duration": 3,
    "start_time": "2023-02-10T04:39:08.818Z"
   },
   {
    "duration": 523,
    "start_time": "2023-02-10T04:39:10.900Z"
   },
   {
    "duration": 19,
    "start_time": "2023-02-10T04:39:58.155Z"
   },
   {
    "duration": 6,
    "start_time": "2023-02-10T04:40:02.752Z"
   },
   {
    "duration": 7,
    "start_time": "2023-02-10T04:41:54.818Z"
   },
   {
    "duration": 8,
    "start_time": "2023-02-10T04:44:06.993Z"
   },
   {
    "duration": 90,
    "start_time": "2023-02-10T04:52:53.877Z"
   },
   {
    "duration": 110,
    "start_time": "2023-02-10T04:54:51.440Z"
   },
   {
    "duration": 150,
    "start_time": "2023-02-10T04:55:46.536Z"
   },
   {
    "duration": 143,
    "start_time": "2023-02-10T06:02:31.301Z"
   }
  ],
  "kernelspec": {
   "display_name": "Python 3 (ipykernel)",
   "language": "python",
   "name": "python3"
  },
  "language_info": {
   "codemirror_mode": {
    "name": "ipython",
    "version": 3
   },
   "file_extension": ".py",
   "mimetype": "text/x-python",
   "name": "python",
   "nbconvert_exporter": "python",
   "pygments_lexer": "ipython3",
   "version": "3.10.9"
  },
  "toc": {
   "base_numbering": 1,
   "nav_menu": {},
   "number_sections": true,
   "sideBar": true,
   "skip_h1_title": true,
   "title_cell": "Table of Contents",
   "title_sidebar": "Contents",
   "toc_cell": false,
   "toc_position": {},
   "toc_section_display": true,
   "toc_window_display": false
  }
 },
 "nbformat": 4,
 "nbformat_minor": 2
}
